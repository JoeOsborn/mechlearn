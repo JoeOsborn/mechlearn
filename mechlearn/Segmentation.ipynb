{
 "cells": [
  {
   "cell_type": "code",
   "execution_count": 1,
   "metadata": {
    "autoscroll": "json-false",
    "collapsed": false,
    "ein.tags": [
     "worksheet-0"
    ],
    "slideshow": {
     "slide_type": "-"
    }
   },
   "outputs": [],
   "source": [
    "import pickle\n",
    "import numpy as np\n",
    "import os\n",
    "os.environ[\"THEANO_FLAGS\"] = \"mode=FAST_RUN,device=cpu,floatX=float32\"\n",
    "import scipy.ndimage\n",
    "import matplotlib.pyplot as plt\n",
    "import pymc3 as pm\n",
    "import math"
   ]
  },
  {
   "cell_type": "code",
   "execution_count": 2,
   "metadata": {
    "collapsed": false
   },
   "outputs": [],
   "source": [
    "tracks = pickle.load(open(\"mario_tracks.pkl\"))"
   ]
  },
  {
   "cell_type": "code",
   "execution_count": 34,
   "metadata": {
    "collapsed": false
   },
   "outputs": [
    {
     "data": {
      "image/png": "[encoded data removed]",
      "text/plain": [
       "<matplotlib.figure.Figure at 0x7fb68b600fd0>"
      ]
     },
     "metadata": {},
     "output_type": "display_data"
    }
   ],
   "source": [
    "\n",
    "tracksToKeep=['track2']\n",
    "kept = []\n",
    "    \n",
    "\n",
    "for track in sorted(tracks[1]):\n",
    "    trackID = track[0]\n",
    "    trackDict = track[1]\n",
    "    trackDat = []\n",
    "    for t in sorted(trackDict):\n",
    "        trackDat.append([t] + list(trackDict[t][1]))\n",
    "    trackDat = np.array(trackDat)\n",
    "    if trackID in tracksToKeep:\n",
    "        kept.append(trackDat)\n",
    "    #plt.plot(trackDat[:,0],256-trackDat[:,2])\n",
    "    #plt.show()\n",
    "    \n",
    "for track in sorted(tracks[0]):\n",
    "    trackID = track\n",
    "    track = tracks[0][trackID]\n",
    "    trackDict = track\n",
    "    trackDat = []\n",
    "    for t in sorted(trackDict):\n",
    "        trackDat.append([t] + list(trackDict[t][1]))\n",
    "    trackDat = np.array(trackDat)\n",
    "    if trackID in tracksToKeep:\n",
    "        kept.append(trackDat)\n",
    "    #plt.plot(trackDat[:,0],256-trackDat[:,2])\n",
    "    #plt.show()\n",
    "track = np.vstack(kept)\n",
    "track = track[:500,:]\n",
    "plt.plot(track[:,0],256-track[:,2])\n",
    "plt.show()\n",
    "    "
   ]
  },
  {
   "cell_type": "code",
   "execution_count": 35,
   "metadata": {
    "autoscroll": "json-false",
    "collapsed": false,
    "ein.tags": [
     "worksheet-0"
    ],
    "slideshow": {
     "slide_type": "-"
    }
   },
   "outputs": [
    {
     "data": {
      "text/plain": [
       "{-4, -3, -2, -1, 0, 4, 5}"
      ]
     },
     "execution_count": 35,
     "metadata": {},
     "output_type": "execute_result"
    }
   ],
   "source": [
    "def thresholds(vals, t_window=5):\n",
    "    last_diff = 0\n",
    "    last_diff_t = 0\n",
    "    max_v = min(vals)\n",
    "    min_v = max(vals)\n",
    "    thresholds = set([0, min_v, max_v])\n",
    "    for t, v in enumerate(vals):\n",
    "        if (t - last_diff_t) == t_window:\n",
    "            thresholds.add(last_diff)\n",
    "        if v != last_diff:\n",
    "            last_diff = v\n",
    "            last_diff_t = t\n",
    "    return thresholds\n",
    "\n",
    "axis = 2\n",
    "window = 3\n",
    "\n",
    "velocities = track[1:,axis]-track[:-1,axis] \n",
    "\n",
    "thresholds(velocities)"
   ]
  },
  {
   "cell_type": "code",
   "execution_count": 36,
   "metadata": {
    "autoscroll": "json-false",
    "collapsed": false,
    "ein.tags": [
     "worksheet-0"
    ],
    "slideshow": {
     "slide_type": "-"
    }
   },
   "outputs": [
    {
     "name": "stdout",
     "output_type": "stream",
     "text": [
      "[ 0  0  0  0  0  0  0  0  0  0  0  0  0  0  0  0  0  0  0  0  0  0  0  0  0\n",
      "  0  0  0  0  0  0  0  0  0  0  0  0  0  0  0  0  0  0  0  0  0  0  0  0  0\n",
      "  0  0  0  0  0  0  0  0  0 -4 -4 -4 -4 -3 -4 -3 -3 -3 -3 -3 -2 -3 -2 -2 -2\n",
      " -2 -2 -2 -2 -1 -2 -1 -1 -1  0  0  1  1  1  2  3  3  3  4  4  4  4  4  5  4\n",
      "  4  4  4  4  4  0  0  0  0  0  0  0  0  0 -4 -4 -4 -4 -3 -4 -3 -3 -3 -3 -3\n",
      " -3 -2 -3 -2 -2 -3 -2 -1 -2 -2 -1 -2 -1 -1 -1 -1 -1 -1 -1  0  0  1  1  1  2\n",
      "  2  2  3  3  4  4  4  4  4  4  5  4  4  4  4  4  5  1  0  0  0  0  0  0 -4\n",
      " -4 -4 -4 -3 -4 -3 -3 -3 -3 -3 -2 -3 -2 -1 -2  0 -1  0  1  1  1  2  3  2  4\n",
      "  3  4  4  5  4  4  4  5  2  0  0  0  0  0  0 -4 -4 -4 -4 -3 -4 -3 -3 -3 -3\n",
      " -2 -1 -2  0 -1  0  1  1  1  2  2  3  3  4  4  4  4  4  4  4  0  0  0  0  0\n",
      "  0  0  0  0  0  0 -4 -4 -4 -4 -3 -4 -3 -3 -3 -3 -2 -1 -2  0 -1  0  1  1  1\n",
      "  2  2  3  3  4  4  4  4  4  4  4  0  0  0  0  0  0  0  0 -4 -4 -4 -4 -3 -4\n",
      " -3 -3 -3 -3 -2 -1 -2  0 -1  0  1  1  1  2  2  3  3  4  4  4  4  4  4  4  0\n",
      "  0  0  0 -4 -4 -4 -4 -3 -4 -3 -3 -3 -3 -3 -2 -2 -1 -1 -1  0  0  1  1  2  2\n",
      "  3  2  4  4  4  4  4  4  5  4  1  0  0  0  0  0  0 -4 -4 -4 -4 -3 -4 -3 -3\n",
      " -3 -3 -3 -2 -3 -2 -2 -2 -2 -2 -2 -2 -1 -1 -1  0  0  1  1  2  2  2  3  3  4\n",
      "  4  4  5  4  4  4  4  4  5  4  0  0  0  0  0  0  0 -4 -4 -4 -4 -3 -4 -3 -3\n",
      " -3 -3 -3 -2 -3 -2 -1 -2  0 -1  0  1  1  1  2  3  2  4  3  4  4  5  4  4  4\n",
      "  5  2  0  0  0  0  0  0  0  0  0  0  0  0  0  0  0  0  0 -4 -4 -4 -4 -3 -4\n",
      " -3 -3 -3 -3 -3 -2 -3 -2 -2 -2 -2 -2 -2 -2 -1 -2 -1 -1  0  0  1  0  2  2]\n"
     ]
    }
   ],
   "source": [
    "def samey_intervals(vals, t_window=5):\n",
    "    last_diff = 0\n",
    "    last_diff_t = 0\n",
    "    intervals = []\n",
    "    for t, v in enumerate(vals):\n",
    "        if ((t - last_diff_t) >= t_window) and v != last_diff:\n",
    "            intervals.append(last_diff_t)\n",
    "            intervals.append(t-1)\n",
    "            intervals.append(t)\n",
    "        if v != last_diff:\n",
    "            last_diff = v\n",
    "            last_diff_t = t\n",
    "    return intervals\n",
    "\n",
    "axis = 2\n",
    "window = 2\n",
    "\n",
    "velocities = track[1:,axis]-track[:-1,axis] \n",
    "smoothed = scipy.ndimage.filters.convolve1d(velocities, np.ones(window)/window)\n",
    "\n",
    "print velocities"
   ]
  },
  {
   "cell_type": "code",
   "execution_count": 42,
   "metadata": {
    "autoscroll": "json-false",
    "collapsed": false,
    "ein.tags": [
     "worksheet-0"
    ],
    "slideshow": {
     "slide_type": "-"
    }
   },
   "outputs": [],
   "source": [
    "def zero_crossings(vals):\n",
    "    sign_intervals = []\n",
    "    last_sign_change = 0\n",
    "    vsigns = np.sign(vals)\n",
    "    last_sign = vsigns[0]\n",
    "    for t, v in enumerate(vsigns):\n",
    "        if last_sign == 0:\n",
    "            last_sign = v\n",
    "        elif v == 0 or v == last_sign:\n",
    "            continue\n",
    "        elif v != last_sign:\n",
    "            sign_intervals.append(last_sign_change)\n",
    "            sign_intervals.append(t-1)\n",
    "            sign_intervals.append(t)\n",
    "            sign_intervals.append(t+1)\n",
    "            last_sign = v\n",
    "            last_sign_change = t\n",
    "    if t - 1 != last_sign_change:\n",
    "        sign_intervals.append(last_sign_change)\n",
    "        sign_intervals.append(t)\n",
    "    return sign_intervals\n",
    "\n",
    "axis = 2\n",
    "window = 2\n",
    "\n",
    "velocities = track[1:,axis]-track[:-1,axis] \n",
    "smoothed = scipy.ndimage.filters.convolve1d(velocities, np.ones(window)/window)\n"
   ]
  },
  {
   "cell_type": "code",
   "execution_count": 44,
   "metadata": {
    "collapsed": false,
    "scrolled": false
   },
   "outputs": [
    {
     "data": {
      "image/png": "[encoded data removed]",
      "text/plain": [
       "<matplotlib.figure.Figure at 0x7fb6942b3f50>"
      ]
     },
     "metadata": {},
     "output_type": "display_data"
    },
    {
     "data": {
      "image/png": "[encoded data removed]",
      "text/plain": [
       "<matplotlib.figure.Figure at 0x7fb6a7561bd0>"
      ]
     },
     "metadata": {},
     "output_type": "display_data"
    },
    {
     "data": {
      "image/png": "[encoded data removed]",
      "text/plain": [
       "<matplotlib.figure.Figure at 0x7fb6acdf7dd0>"
      ]
     },
     "metadata": {},
     "output_type": "display_data"
    },
    {
     "data": {
      "image/png": "[encoded data removed]",
      "text/plain": [
       "<matplotlib.figure.Figure at 0x7fb68ac4c7d0>"
      ]
     },
     "metadata": {},
     "output_type": "display_data"
    },
    {
     "data": {
      "image/png": "[encoded data removed]",
      "text/plain": [
       "<matplotlib.figure.Figure at 0x7fb692bb7750>"
      ]
     },
     "metadata": {},
     "output_type": "display_data"
    },
    {
     "data": {
      "image/png": "[encoded data removed]",
      "text/plain": [
       "<matplotlib.figure.Figure at 0x7fb68598e710>"
      ]
     },
     "metadata": {},
     "output_type": "display_data"
    },
    {
     "data": {
      "image/png": "[encoded data removed]",
      "text/plain": [
       "<matplotlib.figure.Figure at 0x7fb68893f950>"
      ]
     },
     "metadata": {},
     "output_type": "display_data"
    },
    {
     "data": {
      "image/png": "[encoded data removed]",
      "text/plain": [
       "<matplotlib.figure.Figure at 0x7fb6a2406e50>"
      ]
     },
     "metadata": {},
     "output_type": "display_data"
    },
    {
     "data": {
      "image/png": "[encoded data removed]",
      "text/plain": [
       "<matplotlib.figure.Figure at 0x7fb6ba896350>"
      ]
     },
     "metadata": {},
     "output_type": "display_data"
    },
    {
     "data": {
      "image/png": "[encoded data removed]",
      "text/plain": [
       "<matplotlib.figure.Figure at 0x7fb6b8ec54d0>"
      ]
     },
     "metadata": {},
     "output_type": "display_data"
    }
   ],
   "source": [
    "axis = 2\n",
    "\n",
    "velocities = track[1:,axis]-track[:-1,axis] \n",
    "\n",
    "same_window = 10\n",
    "\n",
    "switch_points = set(zero_crossings(velocities))\n",
    "\n",
    "smoothed_points = set(samey_intervals(velocities,t_window=same_window))\n",
    "for w in range(2,6):\n",
    "    smoothed = scipy.ndimage.filters.convolve1d(velocities, np.ones(w)/w)\n",
    "    #print smoothed\n",
    "    plt.plot(smoothed)\n",
    "    points = samey_intervals(smoothed,t_window=same_window)\n",
    "    smoothed_points |= set(points)\n",
    "    plt.plot(np.array(points),smoothed[np.array(points,dtype='int')],'rx')\n",
    "    plt.show()\n",
    "    smoothed = smoothed[1:]-smoothed[:-1]\n",
    "    points = samey_intervals(smoothed,t_window=same_window)\n",
    "    smoothed_points |= set(points)\n",
    "    \n",
    "    plt.plot(smoothed)\n",
    "    plt.plot(np.array(points),smoothed[np.array(points,dtype='int')],'rx')\n",
    "    plt.show()\n",
    "    \n",
    "\n",
    "velocity_times = sorted(switch_points |smoothed_points)\n",
    "\n",
    "plt.plot(velocities)\n",
    "plt.show()\n",
    "\n",
    "plt.plot(track[:,2])\n",
    "plt.plot(np.array(velocity_times),track[np.array(velocity_times,dtype='int'),2],'rx')\n",
    "plt.show()\n"
   ]
  },
  {
   "cell_type": "code",
   "execution_count": 45,
   "metadata": {
    "collapsed": false,
    "scrolled": true
   },
   "outputs": [
    {
     "data": {
      "image/png": "[encoded data removed]",
      "text/plain": [
       "<matplotlib.figure.Figure at 0x7fb69c0ead50>"
      ]
     },
     "metadata": {},
     "output_type": "display_data"
    }
   ],
   "source": [
    "import fceulib\n",
    "inputVec = fceulib.readInputs('Illustrative.fm2')\n",
    "\n",
    "def button_change_times(button_masks):\n",
    "    last_mask = 0\n",
    "    mask_times = []\n",
    "    for t, b in enumerate(button_masks):\n",
    "        if t < track[0,0]:\n",
    "            continue\n",
    "        if t > track[-1,0]:\n",
    "            break\n",
    "        if b != last_mask:\n",
    "            mask_times.append(t-track[0,0])\n",
    "            last_mask = b\n",
    "    return mask_times\n",
    "\n",
    "button_times = button_change_times(inputVec)\n",
    "\n",
    "plt.plot(np.array(button_times),np.array(button_times)*0,'rx')\n",
    "plt.show()"
   ]
  },
  {
   "cell_type": "code",
   "execution_count": 9,
   "metadata": {
    "collapsed": false
   },
   "outputs": [
    {
     "name": "stdout",
     "output_type": "stream",
     "text": [
      "{'accN': 5, 'cN': 2, 'acc0': 3, 'c0': 0, 'cP': 1, 'accP': 4}\n"
     ]
    }
   ],
   "source": [
    "# Templates is an array of model-generating functions of increasing complexity.\n",
    "templates = [\n",
    "    # Constant 0 velocity\n",
    "    (\"c0\",lambda n,axis,vs,pv: pm.Normal(\n",
    "        n, \n",
    "        mu=0,\n",
    "        sd=pm.HalfCauchy(n+\"_err\",beta=10),\n",
    "        observed=vs[:,axis]\n",
    "    )),\n",
    "    # Constant velocity from old value\n",
    "    (\"cP\",lambda n,axis,vs,pv: pm.Normal(\n",
    "        n,\n",
    "        mu=pv,\n",
    "        sd=pm.HalfCauchy(n+\"_err\",beta=10),\n",
    "        observed=vs[:,axis]\n",
    "    )),\n",
    "    # Fixed constant velocity\n",
    "    (\"cN\",lambda n,axis,vs,pv: pm.Normal(\n",
    "        n,\n",
    "        mu=pm.Normal(n+\"_N\",mu=0,sd=10),\n",
    "        sd=pm.HalfCauchy(n+\"_err\",beta=10),\n",
    "        observed=vs[:,axis]\n",
    "    )),\n",
    "    # Constant acceleration from 0\n",
    "    (\"acc0\",lambda n,axis,vs,pv: pm.Normal(\n",
    "        n,\n",
    "        mu=pm.Normal(n+\"_acc\",mu=0,sd=10)*vs[:,0],\n",
    "        sd=pm.HalfCauchy(n+\"_err\",beta=10),\n",
    "        observed=vs[:,axis]\n",
    "    )),\n",
    "    # Constant acceleration from old velocity value\n",
    "    (\"accP\",lambda n,axis,vs,pv: pm.Normal(\n",
    "        n,\n",
    "        mu=pv+pm.Normal(n+\"_acc\",mu=0,sd=10)*vs[:,0],\n",
    "        sd=pm.HalfCauchy(n+\"_err\",beta=10),\n",
    "        observed=vs[:,axis]\n",
    "    )),\n",
    "    # Constant acceleration from fixed constant velocity\n",
    "    (\"accN\",lambda n,axis,vs,pv: pm.Normal(\n",
    "        n,\n",
    "        mu=pm.Normal(n+\"_N\",mu=0,sd=10)+pm.Normal(n+\"_acc\",mu=0,sd=20)*vs[:,0],\n",
    "        sd=pm.HalfCauchy(n+\"_err\",beta=10),\n",
    "        observed=vs[:,axis]\n",
    "    )),\n",
    "]\n",
    "templates = templates\n",
    "type2ind = {t[0]:i for i,t in enumerate(templates)}\n",
    "print type2ind"
   ]
  },
  {
   "cell_type": "code",
   "execution_count": 10,
   "metadata": {
    "collapsed": true
   },
   "outputs": [],
   "source": [
    "iterations = 5000\n",
    "def model_template_generate(template_i, axis, segment, prev_val):\n",
    "    axisNames = [None,\"x\",\"y\"]\n",
    "    template = templates[template_i]\n",
    "    (tn, t) = template\n",
    "    with pm.Model() as model:\n",
    "        lik = t(axisNames[axis],axis,segment,prev_val)\n",
    "        step = pm.Metropolis()\n",
    "        trace = pm.sample(iterations, step, progressbar=True)\n",
    "        subtrace = trace[len(trace)/2:-1:10]\n",
    "    return (tn,model,subtrace)"
   ]
  },
  {
   "cell_type": "code",
   "execution_count": 11,
   "metadata": {
    "collapsed": false
   },
   "outputs": [],
   "source": [
    "def model_set_generate(data):\n",
    "    track,all_times,axis,i,j = data\n",
    "    t0 = all_times[i]\n",
    "    t1 = all_times[j]\n",
    "    print \"go\",i,j,t0,t1\n",
    "    if t0 == 0:\n",
    "        segment = track[t0+1:t1+1]-track[t0:t1]\n",
    "        prev_vel = float('inf')\n",
    "    elif t1+1 > np.shape(track)[1]:\n",
    "        extended_track = np.concatenate((track,[track[-1]]))\n",
    "        segment = extended_track[t0+1:t1+1]-extended_track[t0:t1]\n",
    "        prev_vel = track[t0,axis]-track[t0-1,axis]\n",
    "    else:\n",
    "        #9,10,11 - 8,9,10\n",
    "        segment = track[t0+1:t1+1]-track[t0:t1]\n",
    "        prev_vel = track[t0,axis]-track[t0-1,axis]\n",
    "    segment[:,0] = range(0,np.shape(segment)[0])\n",
    "    result = map(\n",
    "        lambda ti: model_template_generate(ti, \n",
    "                                           axis,\n",
    "                                           segment,\n",
    "                                           prev_vel),\n",
    "        range(0,len(templates)))\n",
    "    return (i,j,t0,t1,result)"
   ]
  },
  {
   "cell_type": "code",
   "execution_count": 12,
   "metadata": {
    "collapsed": false,
    "scrolled": true
   },
   "outputs": [
    {
     "data": {
      "image/png": "[encoded data removed]",
      "text/plain": [
       "<matplotlib.figure.Figure at 0x7fb7d34340d0>"
      ]
     },
     "metadata": {},
     "output_type": "display_data"
    },
    {
     "name": "stdout",
     "output_type": "stream",
     "text": [
      "0\n",
      "go 0 1 0 58\n"
     ]
    },
    {
     "name": "stderr",
     "output_type": "stream",
     "text": [
      "WARNING (theano.gof.compilelock): Overriding existing lock by dead process '15745' (I am process '27824')\n",
      "WARNING (theano.gof.cmodule): Deleting (broken cache directory [EOF]): /home/darkacloo/.theano/compiledir_Linux-4.2--generic-x86_64-with-Ubuntu-15.10-wily-x86_64-2.7.10-64/tmpCqi1WM\n",
      "100%|██████████| 5000/5000 [00:00<00:00, 12555.24it/s]\n",
      "100%|██████████| 5000/5000 [00:00<00:00, 14672.09it/s]\n",
      "100%|██████████| 5000/5000 [00:00<00:00, 7899.99it/s]\n",
      "100%|██████████| 5000/5000 [00:00<00:00, 7326.59it/s]\n",
      "100%|██████████| 5000/5000 [00:00<00:00, 7827.37it/s]\n",
      "100%|██████████| 5000/5000 [00:00<00:00, 5051.88it/s]\n"
     ]
    },
    {
     "name": "stdout",
     "output_type": "stream",
     "text": [
      "-347.78843813\n",
      "inf\n",
      "-46.0205891928\n",
      "-347.733396618\n",
      "inf\n",
      "-26.8353032293\n",
      "go 0 2 0 59\n"
     ]
    },
    {
     "name": "stderr",
     "output_type": "stream",
     "text": [
      "100%|██████████| 5000/5000 [00:00<00:00, 14547.91it/s]\n",
      "100%|██████████| 5000/5000 [00:00<00:00, 15307.84it/s]\n",
      "100%|██████████| 5000/5000 [00:00<00:00, 7863.44it/s]\n",
      "100%|██████████| 5000/5000 [00:00<00:00, 7230.29it/s]\n",
      "100%|██████████| 5000/5000 [00:00<00:00, 7637.78it/s]\n",
      "100%|██████████| 5000/5000 [00:01<00:00, 4885.96it/s]\n"
     ]
    },
    {
     "name": "stdout",
     "output_type": "stream",
     "text": [
      "-347.892447438\n",
      "inf\n",
      "-49.9587144155\n",
      "-347.839547133\n",
      "inf\n",
      "-27.4527022926\n",
      "go 0 3 0 85\n"
     ]
    },
    {
     "name": "stderr",
     "output_type": "stream",
     "text": [
      "100%|██████████| 5000/5000 [00:00<00:00, 11033.68it/s]\n",
      "100%|██████████| 5000/5000 [00:00<00:00, 13967.77it/s]\n",
      "100%|██████████| 5000/5000 [00:00<00:00, 6754.69it/s]\n",
      "100%|██████████| 5000/5000 [00:00<00:00, 6625.79it/s]\n",
      "100%|██████████| 5000/5000 [00:00<00:00, 7449.88it/s]\n",
      "100%|██████████| 5000/5000 [00:01<00:00, 4802.16it/s]\n"
     ]
    },
    {
     "name": "stdout",
     "output_type": "stream",
     "text": [
      "1.83763830713\n",
      "inf\n",
      "1.73410960094\n",
      "1.5336281052\n",
      "inf\n",
      "1.53806343966\n",
      "58\n",
      "go 1 3 58 85\n"
     ]
    },
    {
     "name": "stderr",
     "output_type": "stream",
     "text": [
      "100%|██████████| 5000/5000 [00:00<00:00, 12961.66it/s]\n",
      "100%|██████████| 5000/5000 [00:00<00:00, 13440.10it/s]\n",
      "100%|██████████| 5000/5000 [00:00<00:00, 6993.99it/s]\n",
      "100%|██████████| 5000/5000 [00:00<00:00, 6990.46it/s]\n",
      "100%|██████████| 5000/5000 [00:00<00:00, 7037.71it/s]\n",
      "100%|██████████| 5000/5000 [00:01<00:00, 4847.28it/s]\n"
     ]
    },
    {
     "name": "stdout",
     "output_type": "stream",
     "text": [
      "2.46502750766\n",
      "2.46373737384\n",
      "1.81967675548\n",
      "2.37804652475\n",
      "2.37670628534\n",
      "1.67348693689\n",
      "go 1 4 58 86\n"
     ]
    },
    {
     "name": "stderr",
     "output_type": "stream",
     "text": [
      "100%|██████████| 5000/5000 [00:00<00:00, 12930.11it/s]\n",
      "100%|██████████| 5000/5000 [00:00<00:00, 13140.05it/s]\n",
      "100%|██████████| 5000/5000 [00:00<00:00, 6893.01it/s]\n",
      "100%|██████████| 5000/5000 [00:00<00:00, 6346.02it/s]\n",
      "100%|██████████| 5000/5000 [00:00<00:00, 6638.33it/s]\n",
      "100%|██████████| 5000/5000 [00:01<00:00, 4826.17it/s]\n"
     ]
    },
    {
     "name": "stdout",
     "output_type": "stream",
     "text": [
      "2.44117118306\n",
      "2.44222408804\n",
      "1.86045974934\n",
      "2.3787517409\n",
      "2.37961182706\n",
      "1.66485550724\n",
      "go 1 5 58 113\n"
     ]
    },
    {
     "name": "stderr",
     "output_type": "stream",
     "text": [
      "100%|██████████| 5000/5000 [00:00<00:00, 12775.18it/s]\n",
      "100%|██████████| 5000/5000 [00:00<00:00, 13118.23it/s]\n",
      "100%|██████████| 5000/5000 [00:00<00:00, 6832.37it/s]\n",
      "100%|██████████| 5000/5000 [00:00<00:00, 6569.47it/s]\n",
      "100%|██████████| 5000/5000 [00:00<00:00, 6686.07it/s]\n",
      "100%|██████████| 5000/5000 [00:01<00:00, 4601.82it/s]\n"
     ]
    },
    {
     "name": "stdout",
     "output_type": "stream",
     "text": [
      "2.47478656717\n",
      "2.47480539023\n",
      "2.54247092793\n",
      "2.46706679292\n",
      "2.46952514631\n",
      "2.2400660796\n",
      "59\n",
      "go 2 3 59 85\n"
     ]
    },
    {
     "name": "stderr",
     "output_type": "stream",
     "text": [
      "100%|██████████| 5000/5000 [00:00<00:00, 13081.10it/s]\n",
      "100%|██████████| 5000/5000 [00:00<00:00, 12701.77it/s]\n",
      "100%|██████████| 5000/5000 [00:00<00:00, 6558.25it/s]\n",
      "100%|██████████| 5000/5000 [00:00<00:00, 6841.78it/s]\n",
      "100%|██████████| 5000/5000 [00:00<00:00, 7046.06it/s]\n",
      "100%|██████████| 5000/5000 [00:01<00:00, 4756.18it/s]\n"
     ]
    },
    {
     "name": "stdout",
     "output_type": "stream",
     "text": [
      "2.48465273971\n",
      "2.48331829794\n",
      "1.76915287463\n",
      "2.42638648818\n",
      "2.42415788718\n",
      "0.884405329621\n",
      "go 2 4 59 86\n"
     ]
    },
    {
     "name": "stderr",
     "output_type": "stream",
     "text": [
      "100%|██████████| 5000/5000 [00:00<00:00, 13308.81it/s]\n",
      "100%|██████████| 5000/5000 [00:00<00:00, 13350.85it/s]\n",
      "100%|██████████| 5000/5000 [00:00<00:00, 7074.89it/s]\n",
      "100%|██████████| 5000/5000 [00:00<00:00, 6744.89it/s]\n",
      "100%|██████████| 5000/5000 [00:00<00:00, 7084.35it/s]\n",
      "100%|██████████| 5000/5000 [00:01<00:00, 4882.21it/s]\n"
     ]
    },
    {
     "name": "stdout",
     "output_type": "stream",
     "text": [
      "2.46259721437\n",
      "2.46489679149\n",
      "1.81717464097\n",
      "2.4203852744\n",
      "2.42740954831\n",
      "0.895866614662\n",
      "85\n",
      "go 3 5 85 113\n"
     ]
    },
    {
     "name": "stderr",
     "output_type": "stream",
     "text": [
      "100%|██████████| 5000/5000 [00:00<00:00, 12917.06it/s]\n",
      "100%|██████████| 5000/5000 [00:00<00:00, 12496.38it/s]\n",
      "100%|██████████| 5000/5000 [00:00<00:00, 6870.47it/s]\n",
      "100%|██████████| 5000/5000 [00:00<00:00, 6924.23it/s]\n",
      "100%|██████████| 5000/5000 [00:00<00:00, 6886.68it/s]\n",
      "100%|██████████| 5000/5000 [00:01<00:00, 4730.46it/s]\n"
     ]
    },
    {
     "name": "stdout",
     "output_type": "stream",
     "text": [
      "2.56730598976\n",
      "2.56571118893\n",
      "2.25034061639\n",
      "2.50651757324\n",
      "2.50242825584\n",
      "2.36731680221\n",
      "go 3 6 85 114\n"
     ]
    },
    {
     "name": "stderr",
     "output_type": "stream",
     "text": [
      "100%|██████████| 5000/5000 [00:00<00:00, 12317.27it/s]\n",
      "100%|██████████| 5000/5000 [00:00<00:00, 12045.79it/s]\n",
      "100%|██████████| 5000/5000 [00:00<00:00, 6691.36it/s]\n",
      "100%|██████████| 5000/5000 [00:00<00:00, 6623.49it/s]\n",
      "100%|██████████| 5000/5000 [00:00<00:00, 6639.80it/s]\n",
      "100%|██████████| 5000/5000 [00:01<00:00, 3640.30it/s]\n"
     ]
    },
    {
     "name": "stdout",
     "output_type": "stream",
     "text": [
      "2.54042658551\n",
      "2.54245600528\n",
      "2.24780689717\n",
      "2.50438081798\n",
      "2.50412420462\n",
      "2.34908236726\n",
      "go 3 7 85 145\n"
     ]
    },
    {
     "name": "stderr",
     "output_type": "stream",
     "text": [
      "100%|██████████| 5000/5000 [00:00<00:00, 12388.23it/s]\n",
      "100%|██████████| 5000/5000 [00:00<00:00, 12369.53it/s]\n",
      "100%|██████████| 5000/5000 [00:00<00:00, 6685.39it/s]\n",
      "100%|██████████| 5000/5000 [00:00<00:00, 6687.68it/s]\n",
      "100%|██████████| 5000/5000 [00:00<00:00, 6695.81it/s]\n",
      "100%|██████████| 5000/5000 [00:01<00:00, 4721.91it/s]\n"
     ]
    },
    {
     "name": "stdout",
     "output_type": "stream",
     "text": [
      "2.44575108934\n",
      "2.44629437358\n",
      "2.50785001552\n",
      "2.4355150797\n",
      "2.43339180476\n",
      "2.29638496091\n",
      "86\n",
      "go 4 5 86 113\n"
     ]
    },
    {
     "name": "stderr",
     "output_type": "stream",
     "text": [
      "100%|██████████| 5000/5000 [00:00<00:00, 12944.18it/s]\n",
      "100%|██████████| 5000/5000 [00:00<00:00, 12833.25it/s]\n",
      "100%|██████████| 5000/5000 [00:00<00:00, 6656.45it/s]\n",
      "100%|██████████| 5000/5000 [00:00<00:00, 6860.41it/s]\n",
      "100%|██████████| 5000/5000 [00:00<00:00, 6567.61it/s]\n",
      "100%|██████████| 5000/5000 [00:01<00:00, 4698.14it/s]\n"
     ]
    },
    {
     "name": "stdout",
     "output_type": "stream",
     "text": [
      "2.58449613538\n",
      "2.58511209589\n",
      "2.24663014283\n",
      "2.55157519297\n",
      "2.54685265543\n",
      "2.33652608136\n",
      "go 4 6 86 114\n"
     ]
    },
    {
     "name": "stderr",
     "output_type": "stream",
     "text": [
      "100%|██████████| 5000/5000 [00:00<00:00, 12410.34it/s]\n",
      "100%|██████████| 5000/5000 [00:00<00:00, 12795.67it/s]\n",
      "100%|██████████| 5000/5000 [00:00<00:00, 6837.26it/s]\n",
      "100%|██████████| 5000/5000 [00:00<00:00, 6850.29it/s]\n",
      "100%|██████████| 5000/5000 [00:00<00:00, 6416.31it/s]\n",
      "100%|██████████| 5000/5000 [00:01<00:00, 4559.02it/s]\n"
     ]
    },
    {
     "name": "stdout",
     "output_type": "stream",
     "text": [
      "2.56306295005\n",
      "2.56328965526\n",
      "2.25235467683\n",
      "2.54696131846\n",
      "2.53883666851\n",
      "2.30396781291\n",
      "113\n",
      "go 5 7 113 145\n"
     ]
    },
    {
     "name": "stderr",
     "output_type": "stream",
     "text": [
      "100%|██████████| 5000/5000 [00:00<00:00, 12235.58it/s]\n",
      "100%|██████████| 5000/5000 [00:00<00:00, 11995.44it/s]\n",
      "100%|██████████| 5000/5000 [00:00<00:00, 6456.66it/s]\n",
      "100%|██████████| 5000/5000 [00:00<00:00, 6298.23it/s]\n",
      "100%|██████████| 5000/5000 [00:00<00:00, 6764.26it/s]\n",
      "100%|██████████| 5000/5000 [00:01<00:00, 4712.27it/s]\n"
     ]
    },
    {
     "name": "stdout",
     "output_type": "stream",
     "text": [
      "2.40325361909\n",
      "2.40559756319\n",
      "1.80115803984\n",
      "2.32918258035\n",
      "2.33106544538\n",
      "1.55684871373\n",
      "go 5 8 113 146\n"
     ]
    },
    {
     "name": "stderr",
     "output_type": "stream",
     "text": [
      "100%|██████████| 5000/5000 [00:00<00:00, 12665.32it/s]\n",
      "100%|██████████| 5000/5000 [00:00<00:00, 12311.60it/s]\n",
      "100%|██████████| 5000/5000 [00:00<00:00, 6460.51it/s]\n",
      "100%|██████████| 5000/5000 [00:00<00:00, 6814.50it/s]\n",
      "100%|██████████| 5000/5000 [00:00<00:00, 6719.19it/s]\n",
      "100%|██████████| 5000/5000 [00:01<00:00, 4751.71it/s]\n"
     ]
    },
    {
     "name": "stdout",
     "output_type": "stream",
     "text": [
      "2.38925130057\n",
      "2.38989247195\n",
      "1.83136054216\n",
      "2.33057408281\n",
      "2.32999027997\n",
      "1.53626950869\n",
      "go 5 9 113 173\n"
     ]
    },
    {
     "name": "stderr",
     "output_type": "stream",
     "text": [
      "100%|██████████| 5000/5000 [00:00<00:00, 12946.45it/s]\n",
      "100%|██████████| 5000/5000 [00:00<00:00, 12243.71it/s]\n",
      "100%|██████████| 5000/5000 [00:00<00:00, 6995.50it/s]\n",
      "100%|██████████| 5000/5000 [00:00<00:00, 6882.09it/s]\n",
      "100%|██████████| 5000/5000 [00:00<00:00, 6604.64it/s]\n",
      "100%|██████████| 5000/5000 [00:01<00:00, 4744.22it/s]\n"
     ]
    },
    {
     "name": "stdout",
     "output_type": "stream",
     "text": [
      "2.47321936245\n",
      "2.47340966142\n",
      "2.53624607904\n",
      "2.44222315892\n",
      "2.44550709635\n",
      "2.07920957187\n",
      "114\n",
      "go 6 7 114 145\n"
     ]
    },
    {
     "name": "stderr",
     "output_type": "stream",
     "text": [
      "100%|██████████| 5000/5000 [00:00<00:00, 13259.57it/s]\n",
      "100%|██████████| 5000/5000 [00:00<00:00, 13638.81it/s]\n",
      "100%|██████████| 5000/5000 [00:00<00:00, 7165.81it/s]\n",
      "100%|██████████| 5000/5000 [00:00<00:00, 7192.75it/s]\n",
      "100%|██████████| 5000/5000 [00:00<00:00, 7177.07it/s]\n",
      "100%|██████████| 5000/5000 [00:01<00:00, 4770.83it/s]\n"
     ]
    },
    {
     "name": "stdout",
     "output_type": "stream",
     "text": [
      "2.4230546562\n",
      "2.42484297067\n",
      "1.76813457548\n",
      "2.36861820496\n",
      "2.36627936607\n",
      "0.89360824423\n",
      "go 6 8 114 146\n"
     ]
    },
    {
     "name": "stderr",
     "output_type": "stream",
     "text": [
      "100%|██████████| 5000/5000 [00:00<00:00, 12328.84it/s]\n",
      "100%|██████████| 5000/5000 [00:00<00:00, 12995.55it/s]\n",
      "100%|██████████| 5000/5000 [00:00<00:00, 6645.60it/s]\n",
      "100%|██████████| 5000/5000 [00:00<00:00, 6852.02it/s]\n",
      "100%|██████████| 5000/5000 [00:00<00:00, 6842.11it/s]\n",
      "100%|██████████| 5000/5000 [00:01<00:00, 4799.34it/s]\n"
     ]
    },
    {
     "name": "stdout",
     "output_type": "stream",
     "text": [
      "2.40546159621\n",
      "2.4054412628\n",
      "1.79848613904\n",
      "2.36137698751\n",
      "2.36691854035\n",
      "0.878716810561\n",
      "go 6 9 114 173\n"
     ]
    },
    {
     "name": "stderr",
     "output_type": "stream",
     "text": [
      "100%|██████████| 5000/5000 [00:00<00:00, 13293.10it/s]\n",
      "100%|██████████| 5000/5000 [00:00<00:00, 13232.07it/s]\n",
      "100%|██████████| 5000/5000 [00:00<00:00, 6956.93it/s]\n",
      "100%|██████████| 5000/5000 [00:00<00:00, 7029.60it/s]\n",
      "100%|██████████| 5000/5000 [00:00<00:00, 6954.09it/s]\n",
      "100%|██████████| 5000/5000 [00:01<00:00, 4821.01it/s]\n"
     ]
    },
    {
     "name": "stdout",
     "output_type": "stream",
     "text": [
      "2.48265174193\n",
      "2.48179192897\n",
      "2.54716484172\n",
      "2.44993397194\n",
      "2.45004687718\n",
      "2.03772336661\n",
      "145\n",
      "go 7 9 145 173\n"
     ]
    },
    {
     "name": "stderr",
     "output_type": "stream",
     "text": [
      "100%|██████████| 5000/5000 [00:00<00:00, 13237.57it/s]\n",
      "100%|██████████| 5000/5000 [00:00<00:00, 13410.14it/s]\n",
      "100%|██████████| 5000/5000 [00:00<00:00, 7025.81it/s]\n",
      "100%|██████████| 5000/5000 [00:00<00:00, 6973.56it/s]\n",
      "100%|██████████| 5000/5000 [00:00<00:00, 6888.49it/s]\n",
      "100%|██████████| 5000/5000 [00:01<00:00, 4764.49it/s]\n"
     ]
    },
    {
     "name": "stdout",
     "output_type": "stream",
     "text": [
      "2.61492726508\n",
      "2.61241114958\n",
      "2.20438773921\n",
      "2.44427493009\n",
      "2.44286575978\n",
      "2.36120173131\n",
      "go 7 10 145 174\n"
     ]
    },
    {
     "name": "stderr",
     "output_type": "stream",
     "text": [
      "100%|██████████| 5000/5000 [00:00<00:00, 13058.24it/s]\n",
      "100%|██████████| 5000/5000 [00:00<00:00, 13506.32it/s]\n",
      "100%|██████████| 5000/5000 [00:00<00:00, 7039.37it/s]\n",
      "100%|██████████| 5000/5000 [00:00<00:00, 6774.33it/s]\n",
      "100%|██████████| 5000/5000 [00:00<00:00, 7077.88it/s]\n",
      "100%|██████████| 5000/5000 [00:01<00:00, 4967.66it/s]\n"
     ]
    },
    {
     "name": "stdout",
     "output_type": "stream",
     "text": [
      "2.5929033075\n",
      "2.5942312878\n",
      "2.21447220347\n",
      "2.45799468769\n",
      "2.45577366414\n",
      "2.35690151036\n",
      "146\n",
      "go 8 9 146 173\n"
     ]
    },
    {
     "name": "stderr",
     "output_type": "stream",
     "text": [
      "100%|██████████| 5000/5000 [00:00<00:00, 12959.88it/s]\n",
      "100%|██████████| 5000/5000 [00:00<00:00, 13305.63it/s]\n",
      "100%|██████████| 5000/5000 [00:00<00:00, 6798.73it/s]\n",
      "100%|██████████| 5000/5000 [00:00<00:00, 6737.44it/s]\n",
      "100%|██████████| 5000/5000 [00:00<00:00, 6610.77it/s]\n",
      "100%|██████████| 5000/5000 [00:01<00:00, 4642.73it/s]\n"
     ]
    },
    {
     "name": "stdout",
     "output_type": "stream",
     "text": [
      "2.63334141358\n",
      "2.63480349595\n",
      "2.19282673347\n",
      "2.4850241796\n",
      "2.48617216145\n",
      "2.34617153841\n",
      "go 8 10 146 174\n"
     ]
    },
    {
     "name": "stderr",
     "output_type": "stream",
     "text": [
      "100%|██████████| 5000/5000 [00:00<00:00, 12883.57it/s]\n",
      "100%|██████████| 5000/5000 [00:00<00:00, 13162.40it/s]\n",
      "100%|██████████| 5000/5000 [00:00<00:00, 6829.69it/s]\n",
      "100%|██████████| 5000/5000 [00:00<00:00, 6812.49it/s]\n",
      "100%|██████████| 5000/5000 [00:00<00:00, 6970.01it/s]\n",
      "100%|██████████| 5000/5000 [00:01<00:00, 4745.85it/s]\n"
     ]
    },
    {
     "name": "stdout",
     "output_type": "stream",
     "text": [
      "2.61322083532\n",
      "2.61041735335\n",
      "2.2094744557\n",
      "2.5004907975\n",
      "2.50274152995\n",
      "2.33206713854\n",
      "173\n",
      "go 9 11 173 192\n"
     ]
    },
    {
     "name": "stderr",
     "output_type": "stream",
     "text": [
      "100%|██████████| 5000/5000 [00:00<00:00, 13513.52it/s]\n",
      "100%|██████████| 5000/5000 [00:00<00:00, 13238.86it/s]\n",
      "100%|██████████| 5000/5000 [00:00<00:00, 6912.95it/s]\n",
      "100%|██████████| 5000/5000 [00:00<00:00, 7039.30it/s]\n",
      "100%|██████████| 5000/5000 [00:00<00:00, 7005.90it/s]\n",
      "100%|██████████| 5000/5000 [00:01<00:00, 4774.71it/s]\n"
     ]
    },
    {
     "name": "stdout",
     "output_type": "stream",
     "text": [
      "2.59247900382\n",
      "2.59732276949\n",
      "2.02044912449\n",
      "2.53866471501\n",
      "2.53528778903\n",
      "2.09396646572\n",
      "go 9 12 173 193\n"
     ]
    },
    {
     "name": "stderr",
     "output_type": "stream",
     "text": [
      "100%|██████████| 5000/5000 [00:00<00:00, 13289.39it/s]\n",
      "100%|██████████| 5000/5000 [00:00<00:00, 13658.44it/s]\n",
      "100%|██████████| 5000/5000 [00:00<00:00, 7180.92it/s]\n",
      "100%|██████████| 5000/5000 [00:00<00:00, 7085.49it/s]\n",
      "100%|██████████| 5000/5000 [00:00<00:00, 7034.34it/s]\n",
      "100%|██████████| 5000/5000 [00:01<00:00, 4957.69it/s]\n"
     ]
    },
    {
     "name": "stdout",
     "output_type": "stream",
     "text": [
      "2.5654215607\n",
      "2.56427914624\n",
      "2.06431772164\n",
      "2.54444656155\n",
      "2.54626641659\n",
      "2.07467815305\n",
      "174\n",
      "go 10 11 174 192\n"
     ]
    },
    {
     "name": "stderr",
     "output_type": "stream",
     "text": [
      "100%|██████████| 5000/5000 [00:00<00:00, 13542.39it/s]\n",
      "100%|██████████| 5000/5000 [00:00<00:00, 13533.16it/s]\n",
      "100%|██████████| 5000/5000 [00:00<00:00, 7013.98it/s]\n",
      "100%|██████████| 5000/5000 [00:00<00:00, 7146.16it/s]\n",
      "100%|██████████| 5000/5000 [00:00<00:00, 7103.73it/s]\n",
      "100%|██████████| 5000/5000 [00:01<00:00, 4744.03it/s]\n"
     ]
    },
    {
     "name": "stdout",
     "output_type": "stream",
     "text": [
      "2.62527863858\n",
      "2.62708310667\n",
      "1.94296694321\n",
      "2.62917079605\n",
      "2.61352410145\n",
      "1.43802429909\n",
      "go 10 12 174 193\n"
     ]
    },
    {
     "name": "stderr",
     "output_type": "stream",
     "text": [
      "100%|██████████| 5000/5000 [00:00<00:00, 13029.18it/s]\n",
      "100%|██████████| 5000/5000 [00:00<00:00, 13142.61it/s]\n",
      "100%|██████████| 5000/5000 [00:00<00:00, 6739.99it/s]\n",
      "100%|██████████| 5000/5000 [00:00<00:00, 6898.84it/s]\n",
      "100%|██████████| 5000/5000 [00:00<00:00, 6828.28it/s]\n",
      "100%|██████████| 5000/5000 [00:01<00:00, 4640.73it/s]\n"
     ]
    },
    {
     "name": "stdout",
     "output_type": "stream",
     "text": [
      "2.59700016552\n",
      "2.59751365487\n",
      "2.01333014267\n",
      "2.61118144088\n",
      "2.61340197753\n",
      "1.434834878\n",
      "go 10 13 174 214\n"
     ]
    },
    {
     "name": "stderr",
     "output_type": "stream",
     "text": [
      "100%|██████████| 5000/5000 [00:00<00:00, 11667.71it/s]\n",
      "100%|██████████| 5000/5000 [00:00<00:00, 12157.73it/s]\n",
      "100%|██████████| 5000/5000 [00:00<00:00, 6738.77it/s]\n",
      "100%|██████████| 5000/5000 [00:00<00:00, 6879.96it/s]\n",
      "100%|██████████| 5000/5000 [00:00<00:00, 6677.60it/s]\n",
      "100%|██████████| 5000/5000 [00:01<00:00, 4557.46it/s]\n"
     ]
    },
    {
     "name": "stdout",
     "output_type": "stream",
     "text": [
      "2.53760032138\n",
      "2.54090110379\n",
      "2.63562702519\n",
      "2.54835172381\n",
      "2.54948912352\n",
      "2.28112395605\n",
      "192\n",
      "go 11 13 192 214\n"
     ]
    },
    {
     "name": "stderr",
     "output_type": "stream",
     "text": [
      "100%|██████████| 5000/5000 [00:00<00:00, 13176.38it/s]\n",
      "100%|██████████| 5000/5000 [00:00<00:00, 13015.76it/s]\n",
      "100%|██████████| 5000/5000 [00:00<00:00, 6876.36it/s]\n",
      "100%|██████████| 5000/5000 [00:00<00:00, 6612.09it/s]\n",
      "100%|██████████| 5000/5000 [00:00<00:00, 6401.56it/s]\n",
      "100%|██████████| 5000/5000 [00:01<00:00, 4669.56it/s]\n"
     ]
    },
    {
     "name": "stdout",
     "output_type": "stream",
     "text": [
      "2.56863633637\n",
      "2.81922947939\n",
      "2.29030006837\n",
      "2.49410626511\n",
      "2.62767939404\n",
      "2.48000132445\n",
      "go 11 14 192 215\n"
     ]
    },
    {
     "name": "stderr",
     "output_type": "stream",
     "text": [
      "100%|██████████| 5000/5000 [00:00<00:00, 12262.72it/s]\n",
      "100%|██████████| 5000/5000 [00:00<00:00, 13658.85it/s]\n",
      "100%|██████████| 5000/5000 [00:00<00:00, 6532.22it/s]\n",
      "100%|██████████| 5000/5000 [00:00<00:00, 6766.98it/s]\n",
      "100%|██████████| 5000/5000 [00:00<00:00, 7074.29it/s]\n",
      "100%|██████████| 5000/5000 [00:01<00:00, 4882.23it/s]\n"
     ]
    },
    {
     "name": "stdout",
     "output_type": "stream",
     "text": [
      "2.54374872073\n",
      "2.79441675325\n",
      "2.29202806334\n",
      "2.50515268895\n",
      "2.64854048387\n",
      "2.46298623218\n",
      "193\n",
      "go 12 13 193 214\n"
     ]
    },
    {
     "name": "stderr",
     "output_type": "stream",
     "text": [
      "100%|██████████| 5000/5000 [00:00<00:00, 13653.93it/s]\n",
      "100%|██████████| 5000/5000 [00:00<00:00, 13100.73it/s]\n",
      "100%|██████████| 5000/5000 [00:00<00:00, 7044.06it/s]\n",
      "100%|██████████| 5000/5000 [00:00<00:00, 6654.72it/s]\n",
      "100%|██████████| 5000/5000 [00:00<00:00, 6499.97it/s]\n",
      "100%|██████████| 5000/5000 [00:01<00:00, 4255.57it/s]\n"
     ]
    },
    {
     "name": "stdout",
     "output_type": "stream",
     "text": [
      "2.59718792765\n",
      "2.59707998023\n",
      "2.29055157451\n",
      "2.55157973871\n",
      "2.55794817813\n",
      "2.47667479664\n",
      "go 12 14 193 215\n"
     ]
    },
    {
     "name": "stderr",
     "output_type": "stream",
     "text": [
      "100%|██████████| 5000/5000 [00:00<00:00, 12941.44it/s]\n",
      "100%|██████████| 5000/5000 [00:00<00:00, 12535.98it/s]\n",
      "100%|██████████| 5000/5000 [00:00<00:00, 6346.81it/s]\n",
      "100%|██████████| 5000/5000 [00:00<00:00, 6729.23it/s]\n",
      "100%|██████████| 5000/5000 [00:00<00:00, 6614.33it/s]\n",
      "100%|██████████| 5000/5000 [00:01<00:00, 4513.75it/s]\n"
     ]
    },
    {
     "name": "stdout",
     "output_type": "stream",
     "text": [
      "2.57070333558\n",
      "2.56947455726\n",
      "2.29402634797\n",
      "2.54942833094\n",
      "2.54726889088\n",
      "2.45011160818\n",
      "214\n",
      "go 13 15 214 230\n"
     ]
    },
    {
     "name": "stderr",
     "output_type": "stream",
     "text": [
      "100%|██████████| 5000/5000 [00:00<00:00, 12954.47it/s]\n",
      "100%|██████████| 5000/5000 [00:00<00:00, 12948.88it/s]\n",
      "100%|██████████| 5000/5000 [00:00<00:00, 6429.40it/s]\n",
      "100%|██████████| 5000/5000 [00:00<00:00, 6739.22it/s]\n",
      "100%|██████████| 5000/5000 [00:00<00:00, 6863.09it/s]\n",
      "100%|██████████| 5000/5000 [00:01<00:00, 4783.06it/s]\n"
     ]
    },
    {
     "name": "stdout",
     "output_type": "stream",
     "text": [
      "2.62521845415\n",
      "2.6251856351\n",
      "2.15078531054\n",
      "2.62062526497\n",
      "2.62341632857\n",
      "2.29212201126\n",
      "go 13 16 214 231\n"
     ]
    },
    {
     "name": "stderr",
     "output_type": "stream",
     "text": [
      "100%|██████████| 5000/5000 [00:00<00:00, 13090.49it/s]\n",
      "100%|██████████| 5000/5000 [00:00<00:00, 13046.31it/s]\n",
      "100%|██████████| 5000/5000 [00:00<00:00, 6948.64it/s]\n",
      "100%|██████████| 5000/5000 [00:00<00:00, 6764.24it/s]\n",
      "100%|██████████| 5000/5000 [00:00<00:00, 6609.25it/s]\n",
      "100%|██████████| 5000/5000 [00:01<00:00, 4694.51it/s]\n"
     ]
    },
    {
     "name": "stdout",
     "output_type": "stream",
     "text": [
      "2.59426982329\n",
      "2.59280595722\n",
      "2.18629131695\n",
      "2.62553428194\n",
      "2.62801508128\n",
      "2.24937975011\n",
      "215\n",
      "go 14 15 215 230\n"
     ]
    },
    {
     "name": "stderr",
     "output_type": "stream",
     "text": [
      "100%|██████████| 5000/5000 [00:00<00:00, 13591.65it/s]\n",
      "100%|██████████| 5000/5000 [00:00<00:00, 13715.28it/s]\n",
      "100%|██████████| 5000/5000 [00:00<00:00, 6842.20it/s]\n",
      "100%|██████████| 5000/5000 [00:00<00:00, 6652.76it/s]\n",
      "100%|██████████| 5000/5000 [00:00<00:00, 6967.59it/s]\n",
      "100%|██████████| 5000/5000 [00:01<00:00, 4721.55it/s]\n"
     ]
    },
    {
     "name": "stdout",
     "output_type": "stream",
     "text": [
      "2.66671930406\n",
      "2.66071553383\n",
      "2.09310021195\n",
      "2.73020442745\n",
      "2.72400473247\n",
      "1.62700804779\n",
      "go 14 16 215 231\n"
     ]
    },
    {
     "name": "stderr",
     "output_type": "stream",
     "text": [
      "100%|██████████| 5000/5000 [00:00<00:00, 12622.72it/s]\n",
      "100%|██████████| 5000/5000 [00:00<00:00, 12565.94it/s]\n",
      "100%|██████████| 5000/5000 [00:00<00:00, 6752.42it/s]\n",
      "100%|██████████| 5000/5000 [00:00<00:00, 6811.02it/s]\n",
      "100%|██████████| 5000/5000 [00:00<00:00, 6505.32it/s]\n",
      "100%|██████████| 5000/5000 [00:01<00:00, 4544.95it/s]\n"
     ]
    },
    {
     "name": "stdout",
     "output_type": "stream",
     "text": [
      "2.62585650948\n",
      "2.62690614064\n",
      "2.15017112788\n",
      "2.70429088158\n",
      "2.70565740924\n",
      "1.57643044526\n",
      "go 14 17 215 255\n"
     ]
    },
    {
     "name": "stderr",
     "output_type": "stream",
     "text": [
      "100%|██████████| 5000/5000 [00:00<00:00, 13047.13it/s]\n",
      "100%|██████████| 5000/5000 [00:00<00:00, 13089.41it/s]\n",
      "100%|██████████| 5000/5000 [00:00<00:00, 6793.86it/s]\n",
      "100%|██████████| 5000/5000 [00:00<00:00, 6773.65it/s]\n",
      "100%|██████████| 5000/5000 [00:00<00:00, 6706.19it/s]\n",
      "100%|██████████| 5000/5000 [00:01<00:00, 4672.57it/s]\n"
     ]
    },
    {
     "name": "stdout",
     "output_type": "stream",
     "text": [
      "2.44275866784\n",
      "2.44379684091\n",
      "2.53646068264\n",
      "2.48222210835\n",
      "2.4835434546\n",
      "2.39748835349\n",
      "230\n",
      "go 15 17 230 255\n"
     ]
    },
    {
     "name": "stderr",
     "output_type": "stream",
     "text": [
      "100%|██████████| 5000/5000 [00:00<00:00, 13517.53it/s]\n",
      "100%|██████████| 5000/5000 [00:00<00:00, 13501.03it/s]\n",
      "100%|██████████| 5000/5000 [00:00<00:00, 6640.81it/s]\n",
      "100%|██████████| 5000/5000 [00:00<00:00, 6908.63it/s]\n",
      "100%|██████████| 5000/5000 [00:00<00:00, 6831.33it/s]\n",
      "100%|██████████| 5000/5000 [00:01<00:00, 4742.00it/s]\n"
     ]
    },
    {
     "name": "stdout",
     "output_type": "stream",
     "text": [
      "2.37979403231\n",
      "2.65585727358\n",
      "2.21991119411\n",
      "2.42639216396\n",
      "2.58465681495\n",
      "2.32438831583\n",
      "go 15 18 230 256\n"
     ]
    },
    {
     "name": "stderr",
     "output_type": "stream",
     "text": [
      "100%|██████████| 5000/5000 [00:00<00:00, 12512.92it/s]\n",
      "100%|██████████| 5000/5000 [00:00<00:00, 12791.03it/s]\n",
      "100%|██████████| 5000/5000 [00:00<00:00, 6808.32it/s]\n",
      "100%|██████████| 5000/5000 [00:00<00:00, 6696.15it/s]\n",
      "100%|██████████| 5000/5000 [00:00<00:00, 6882.94it/s]\n",
      "100%|██████████| 5000/5000 [00:01<00:00, 4664.47it/s]\n"
     ]
    },
    {
     "name": "stdout",
     "output_type": "stream",
     "text": [
      "2.35659962865\n",
      "2.63229310793\n",
      "2.20617101926\n",
      "2.40563237756\n",
      "2.56719146805\n",
      "2.28484161137\n",
      "go 15 19 230 271\n"
     ]
    },
    {
     "name": "stderr",
     "output_type": "stream",
     "text": [
      "100%|██████████| 5000/5000 [00:00<00:00, 13130.64it/s]\n",
      "100%|██████████| 5000/5000 [00:00<00:00, 13236.72it/s]\n",
      "100%|██████████| 5000/5000 [00:00<00:00, 6807.74it/s]\n",
      "100%|██████████| 5000/5000 [00:00<00:00, 6527.84it/s]\n",
      "100%|██████████| 5000/5000 [00:00<00:00, 6672.84it/s]\n",
      "100%|██████████| 5000/5000 [00:01<00:00, 4786.31it/s]\n"
     ]
    },
    {
     "name": "stdout",
     "output_type": "stream",
     "text": [
      "2.42950409497\n",
      "2.50005266608\n",
      "2.52335844161\n",
      "2.44951427414\n",
      "2.5889059941\n",
      "2.26484477795\n",
      "231\n",
      "go 16 17 231 255\n"
     ]
    },
    {
     "name": "stderr",
     "output_type": "stream",
     "text": [
      "100%|██████████| 5000/5000 [00:00<00:00, 13099.19it/s]\n",
      "100%|██████████| 5000/5000 [00:00<00:00, 13018.53it/s]\n",
      "100%|██████████| 5000/5000 [00:00<00:00, 6798.52it/s]\n",
      "100%|██████████| 5000/5000 [00:00<00:00, 6900.49it/s]\n",
      "100%|██████████| 5000/5000 [00:00<00:00, 6892.20it/s]\n",
      "100%|██████████| 5000/5000 [00:01<00:00, 4518.00it/s]\n"
     ]
    },
    {
     "name": "stdout",
     "output_type": "stream",
     "text": [
      "2.40517405185\n",
      "2.40214519272\n",
      "2.23246051263\n",
      "2.47028462425\n",
      "2.46376065297\n",
      "2.28495667281\n",
      "go 16 18 231 256\n"
     ]
    },
    {
     "name": "stderr",
     "output_type": "stream",
     "text": [
      "100%|██████████| 5000/5000 [00:00<00:00, 12748.76it/s]\n",
      "100%|██████████| 5000/5000 [00:00<00:00, 12057.64it/s]\n",
      "100%|██████████| 5000/5000 [00:00<00:00, 6562.88it/s]\n",
      "100%|██████████| 5000/5000 [00:00<00:00, 6536.44it/s]\n",
      "100%|██████████| 5000/5000 [00:00<00:00, 6569.61it/s]\n",
      "100%|██████████| 5000/5000 [00:01<00:00, 4646.79it/s]\n"
     ]
    },
    {
     "name": "stdout",
     "output_type": "stream",
     "text": [
      "2.38003430911\n",
      "2.38080491415\n",
      "2.22234220122\n",
      "2.44787967518\n",
      "2.44687040261\n",
      "2.24210830798\n",
      "go 16 19 231 271\n"
     ]
    },
    {
     "name": "stderr",
     "output_type": "stream",
     "text": [
      "100%|██████████| 5000/5000 [00:00<00:00, 12300.39it/s]\n",
      "100%|██████████| 5000/5000 [00:00<00:00, 11686.26it/s]\n",
      "100%|██████████| 5000/5000 [00:00<00:00, 6570.57it/s]\n",
      "100%|██████████| 5000/5000 [00:00<00:00, 6774.09it/s]\n",
      "100%|██████████| 5000/5000 [00:00<00:00, 6512.38it/s]\n",
      "100%|██████████| 5000/5000 [00:01<00:00, 4568.95it/s]\n"
     ]
    },
    {
     "name": "stdout",
     "output_type": "stream",
     "text": [
      "2.442655163\n",
      "2.44276531798\n",
      "2.53554017397\n",
      "2.46295683142\n",
      "2.46072435519\n",
      "2.24463458531\n",
      "255\n",
      "go 17 19 255 271\n"
     ]
    },
    {
     "name": "stderr",
     "output_type": "stream",
     "text": [
      "100%|██████████| 5000/5000 [00:00<00:00, 11781.87it/s]\n",
      "100%|██████████| 5000/5000 [00:00<00:00, 12695.54it/s]\n",
      "100%|██████████| 5000/5000 [00:00<00:00, 5676.35it/s]\n",
      "100%|██████████| 5000/5000 [00:00<00:00, 6510.82it/s]\n",
      "100%|██████████| 5000/5000 [00:00<00:00, 6592.45it/s]\n",
      "100%|██████████| 5000/5000 [00:01<00:00, 4774.86it/s]\n"
     ]
    },
    {
     "name": "stdout",
     "output_type": "stream",
     "text": [
      "2.62624416334\n",
      "2.62668608848\n",
      "2.16147250844\n",
      "2.62859826079\n",
      "2.62536747104\n",
      "2.3119142178\n",
      "go 17 20 255 272\n"
     ]
    },
    {
     "name": "stderr",
     "output_type": "stream",
     "text": [
      "100%|██████████| 5000/5000 [00:00<00:00, 12734.83it/s]\n",
      "100%|██████████| 5000/5000 [00:00<00:00, 13373.56it/s]\n",
      "100%|██████████| 5000/5000 [00:00<00:00, 6875.04it/s]\n",
      "100%|██████████| 5000/5000 [00:00<00:00, 6942.52it/s]\n",
      "100%|██████████| 5000/5000 [00:00<00:00, 6909.67it/s]\n",
      "100%|██████████| 5000/5000 [00:01<00:00, 4844.25it/s]\n"
     ]
    },
    {
     "name": "stdout",
     "output_type": "stream",
     "text": [
      "2.5844046422\n",
      "2.58946007889\n",
      "2.17905406984\n",
      "2.62542893148\n",
      "2.62000904194\n",
      "2.24880814253\n",
      "256\n",
      "go 18 19 256 271\n"
     ]
    },
    {
     "name": "stderr",
     "output_type": "stream",
     "text": [
      "100%|██████████| 5000/5000 [00:00<00:00, 13429.81it/s]\n",
      "100%|██████████| 5000/5000 [00:00<00:00, 11547.10it/s]\n",
      "100%|██████████| 5000/5000 [00:00<00:00, 6814.38it/s]\n",
      "100%|██████████| 5000/5000 [00:00<00:00, 6826.46it/s]\n",
      "100%|██████████| 5000/5000 [00:00<00:00, 6798.46it/s]\n",
      "100%|██████████| 5000/5000 [00:01<00:00, 4764.01it/s]\n"
     ]
    },
    {
     "name": "stdout",
     "output_type": "stream",
     "text": [
      "2.6665086472\n",
      "2.66656130203\n",
      "2.07744378252\n",
      "2.72424800643\n",
      "2.72019344249\n",
      "1.63313020365\n",
      "go 18 20 256 272\n"
     ]
    },
    {
     "name": "stderr",
     "output_type": "stream",
     "text": [
      "100%|██████████| 5000/5000 [00:00<00:00, 13296.49it/s]\n",
      "100%|██████████| 5000/5000 [00:00<00:00, 13091.92it/s]\n",
      "100%|██████████| 5000/5000 [00:00<00:00, 6934.34it/s]\n",
      "100%|██████████| 5000/5000 [00:00<00:00, 6598.03it/s]\n",
      "100%|██████████| 5000/5000 [00:00<00:00, 6532.26it/s]\n",
      "100%|██████████| 5000/5000 [00:01<00:00, 4453.73it/s]\n"
     ]
    },
    {
     "name": "stdout",
     "output_type": "stream",
     "text": [
      "2.62384164789\n",
      "2.62574948669\n",
      "2.14746736909\n",
      "2.71042528094\n",
      "2.71179298349\n",
      "1.571337549\n",
      "go 18 21 256 278\n"
     ]
    },
    {
     "name": "stderr",
     "output_type": "stream",
     "text": [
      "100%|██████████| 5000/5000 [00:00<00:00, 12841.82it/s]\n",
      "100%|██████████| 5000/5000 [00:00<00:00, 13048.80it/s]\n",
      "100%|██████████| 5000/5000 [00:00<00:00, 6822.38it/s]\n",
      "100%|██████████| 5000/5000 [00:00<00:00, 6542.49it/s]\n",
      "100%|██████████| 5000/5000 [00:00<00:00, 6742.12it/s]\n",
      "100%|██████████| 5000/5000 [00:01<00:00, 4618.42it/s]\n"
     ]
    },
    {
     "name": "stdout",
     "output_type": "stream",
     "text": [
      "2.50507931687\n",
      "2.50427139026\n",
      "2.50974937746\n",
      "2.67627698695\n",
      "2.6714814499\n",
      "1.4628851942\n",
      "go 18 22 256 282\n"
     ]
    },
    {
     "name": "stderr",
     "output_type": "stream",
     "text": [
      "100%|██████████| 5000/5000 [00:00<00:00, 12833.31it/s]\n",
      "100%|██████████| 5000/5000 [00:00<00:00, 13170.05it/s]\n",
      "100%|██████████| 5000/5000 [00:00<00:00, 6657.51it/s]\n",
      "100%|██████████| 5000/5000 [00:00<00:00, 6676.31it/s]\n",
      "100%|██████████| 5000/5000 [00:00<00:00, 6812.39it/s]\n",
      "100%|██████████| 5000/5000 [00:01<00:00, 4755.41it/s]\n"
     ]
    },
    {
     "name": "stdout",
     "output_type": "stream",
     "text": [
      "2.55724339438\n",
      "2.55628288659\n",
      "2.67676480031\n",
      "2.65197145812\n",
      "2.64852323849\n",
      "1.37080198036\n",
      "go 18 23 256 293\n"
     ]
    },
    {
     "name": "stderr",
     "output_type": "stream",
     "text": [
      "100%|██████████| 5000/5000 [00:00<00:00, 13371.67it/s]\n",
      "100%|██████████| 5000/5000 [00:00<00:00, 13335.57it/s]\n",
      "100%|██████████| 5000/5000 [00:00<00:00, 6747.08it/s]\n",
      "100%|██████████| 5000/5000 [00:00<00:00, 6851.54it/s]\n",
      "100%|██████████| 5000/5000 [00:00<00:00, 6841.38it/s]\n",
      "100%|██████████| 5000/5000 [00:01<00:00, 4696.52it/s]\n"
     ]
    },
    {
     "name": "stdout",
     "output_type": "stream",
     "text": [
      "2.4858631404\n",
      "2.48651703809\n",
      "2.58581516058\n",
      "2.51836009399\n",
      "2.51938699613\n",
      "2.35931421365\n",
      "271\n",
      "go 19 21 271 278\n"
     ]
    },
    {
     "name": "stderr",
     "output_type": "stream",
     "text": [
      "100%|██████████| 5000/5000 [00:00<00:00, 13525.43it/s]\n",
      "100%|██████████| 5000/5000 [00:00<00:00, 13131.25it/s]\n",
      "100%|██████████| 5000/5000 [00:00<00:00, 7303.90it/s]\n",
      "100%|██████████| 5000/5000 [00:00<00:00, 6868.72it/s]\n",
      "100%|██████████| 5000/5000 [00:00<00:00, 6996.38it/s]\n",
      "100%|██████████| 5000/5000 [00:01<00:00, 4683.25it/s]\n"
     ]
    },
    {
     "name": "stdout",
     "output_type": "stream",
     "text": [
      "2.33532391133\n",
      "2.70030605738\n",
      "2.3652285\n",
      "1.39277822433\n",
      "2.10417391818\n",
      "2.02466557544\n",
      "go 19 22 271 282\n"
     ]
    },
    {
     "name": "stderr",
     "output_type": "stream",
     "text": [
      "100%|██████████| 5000/5000 [00:00<00:00, 12949.64it/s]\n",
      "100%|██████████| 5000/5000 [00:00<00:00, 13726.12it/s]\n",
      "100%|██████████| 5000/5000 [00:00<00:00, 6970.20it/s]\n",
      "100%|██████████| 5000/5000 [00:00<00:00, 6924.52it/s]\n",
      "100%|██████████| 5000/5000 [00:00<00:00, 6922.26it/s]\n",
      "100%|██████████| 5000/5000 [00:01<00:00, 4916.67it/s]\n"
     ]
    },
    {
     "name": "stdout",
     "output_type": "stream",
     "text": [
      "2.60637503715\n",
      "2.87880480074\n",
      "2.34122419112\n",
      "0.99376913108\n",
      "1.71410097292\n",
      "1.35346199181\n",
      "go 19 23 271 293\n"
     ]
    },
    {
     "name": "stderr",
     "output_type": "stream",
     "text": [
      "100%|██████████| 5000/5000 [00:00<00:00, 13376.89it/s]\n",
      "100%|██████████| 5000/5000 [00:00<00:00, 13457.72it/s]\n",
      "100%|██████████| 5000/5000 [00:00<00:00, 6863.31it/s]\n",
      "100%|██████████| 5000/5000 [00:00<00:00, 6496.19it/s]\n",
      "100%|██████████| 5000/5000 [00:00<00:00, 6536.03it/s]\n",
      "100%|██████████| 5000/5000 [00:01<00:00, 4478.57it/s]\n"
     ]
    },
    {
     "name": "stdout",
     "output_type": "stream",
     "text": [
      "2.45704609349\n",
      "2.72127305779\n",
      "2.25790921519\n",
      "2.4587585486\n",
      "2.60690373765\n",
      "2.41582038907\n",
      "272\n",
      "go 20 21 272 278\n"
     ]
    },
    {
     "name": "stderr",
     "output_type": "stream",
     "text": [
      "100%|██████████| 5000/5000 [00:00<00:00, 12465.53it/s]\n",
      "100%|██████████| 5000/5000 [00:00<00:00, 12527.54it/s]\n",
      "100%|██████████| 5000/5000 [00:00<00:00, 6880.78it/s]\n",
      "100%|██████████| 5000/5000 [00:00<00:00, 7185.68it/s]\n",
      "100%|██████████| 5000/5000 [00:00<00:00, 7253.86it/s]\n",
      "100%|██████████| 5000/5000 [00:00<00:00, 5061.79it/s]\n"
     ]
    },
    {
     "name": "stdout",
     "output_type": "stream",
     "text": [
      "2.47070816688\n",
      "2.45905137636\n",
      "2.37140084289\n",
      "1.99267267788\n",
      "1.99496399808\n",
      "2.47988192611\n",
      "go 20 22 272 282\n"
     ]
    },
    {
     "name": "stderr",
     "output_type": "stream",
     "text": [
      "100%|██████████| 5000/5000 [00:00<00:00, 12896.27it/s]\n",
      "100%|██████████| 5000/5000 [00:00<00:00, 12756.27it/s]\n",
      "100%|██████████| 5000/5000 [00:00<00:00, 6709.32it/s]\n",
      "100%|██████████| 5000/5000 [00:00<00:00, 6853.91it/s]\n",
      "100%|██████████| 5000/5000 [00:00<00:00, 6745.35it/s]\n",
      "100%|██████████| 5000/5000 [00:01<00:00, 4455.03it/s]\n"
     ]
    },
    {
     "name": "stdout",
     "output_type": "stream",
     "text": [
      "2.67087379206\n",
      "2.6646221999\n",
      "2.311074977\n",
      "1.44037323497\n",
      "1.43389861538\n",
      "1.50272845403\n",
      "go 20 23 272 293\n"
     ]
    },
    {
     "name": "stderr",
     "output_type": "stream",
     "text": [
      "100%|██████████| 5000/5000 [00:00<00:00, 12822.19it/s]\n",
      "100%|██████████| 5000/5000 [00:00<00:00, 13180.54it/s]\n",
      "100%|██████████| 5000/5000 [00:00<00:00, 6889.67it/s]\n",
      "100%|██████████| 5000/5000 [00:00<00:00, 6855.52it/s]\n",
      "100%|██████████| 5000/5000 [00:00<00:00, 6604.82it/s]\n",
      "100%|██████████| 5000/5000 [00:01<00:00, 4787.41it/s]\n"
     ]
    },
    {
     "name": "stdout",
     "output_type": "stream",
     "text": [
      "2.48345147825\n",
      "2.48680871727\n",
      "2.26460285011\n",
      "2.51335007725\n",
      "2.5160912132\n",
      "2.40482084415\n",
      "278\n",
      "go 21 23 278 293\n"
     ]
    },
    {
     "name": "stderr",
     "output_type": "stream",
     "text": [
      "100%|██████████| 5000/5000 [00:00<00:00, 13170.19it/s]\n",
      "100%|██████████| 5000/5000 [00:00<00:00, 12794.31it/s]\n",
      "100%|██████████| 5000/5000 [00:00<00:00, 7016.94it/s]\n",
      "100%|██████████| 5000/5000 [00:00<00:00, 7016.18it/s]\n",
      "100%|██████████| 5000/5000 [00:00<00:00, 6915.07it/s]\n",
      "100%|██████████| 5000/5000 [00:01<00:00, 4896.69it/s]\n"
     ]
    },
    {
     "name": "stdout",
     "output_type": "stream",
     "text": [
      "2.6155292181\n",
      "2.35874026144\n",
      "2.50971087674\n",
      "2.81291235495\n",
      "2.20193045797\n",
      "2.27219858537\n",
      "go 21 24 278 294\n"
     ]
    },
    {
     "name": "stderr",
     "output_type": "stream",
     "text": [
      "100%|██████████| 5000/5000 [00:00<00:00, 13111.69it/s]\n",
      "100%|██████████| 5000/5000 [00:00<00:00, 13199.89it/s]\n",
      "100%|██████████| 5000/5000 [00:00<00:00, 7068.24it/s]\n",
      "100%|██████████| 5000/5000 [00:00<00:00, 7087.84it/s]\n",
      "100%|██████████| 5000/5000 [00:00<00:00, 7049.31it/s]\n",
      "100%|██████████| 5000/5000 [00:01<00:00, 4973.72it/s]\n"
     ]
    },
    {
     "name": "stdout",
     "output_type": "stream",
     "text": [
      "2.57189944543\n",
      "2.37064884813\n",
      "2.49441456085\n",
      "2.76944148994\n",
      "2.14419761513\n",
      "2.21626432832\n",
      "go 21 25 278 303\n"
     ]
    },
    {
     "name": "stderr",
     "output_type": "stream",
     "text": [
      "100%|██████████| 5000/5000 [00:00<00:00, 14057.74it/s]\n",
      "100%|██████████| 5000/5000 [00:00<00:00, 13842.14it/s]\n",
      "100%|██████████| 5000/5000 [00:00<00:00, 7172.33it/s]\n",
      "100%|██████████| 5000/5000 [00:00<00:00, 6890.49it/s]\n",
      "100%|██████████| 5000/5000 [00:00<00:00, 6912.24it/s]\n",
      "100%|██████████| 5000/5000 [00:01<00:00, 4699.97it/s]\n"
     ]
    },
    {
     "name": "stdout",
     "output_type": "stream",
     "text": [
      "2.63156019275\n",
      "2.96338438489\n",
      "2.78161897847\n",
      "2.6540427391\n",
      "2.09077644151\n",
      "2.10239984829\n",
      "go 21 26 278 309\n"
     ]
    },
    {
     "name": "stderr",
     "output_type": "stream",
     "text": [
      "100%|██████████| 5000/5000 [00:00<00:00, 13404.93it/s]\n",
      "100%|██████████| 5000/5000 [00:00<00:00, 13390.90it/s]\n",
      "100%|██████████| 5000/5000 [00:00<00:00, 6869.96it/s]\n",
      "100%|██████████| 5000/5000 [00:00<00:00, 7004.08it/s]\n",
      "100%|██████████| 5000/5000 [00:00<00:00, 6953.12it/s]\n",
      "100%|██████████| 5000/5000 [00:01<00:00, 4742.87it/s]\n"
     ]
    },
    {
     "name": "stdout",
     "output_type": "stream",
     "text": [
      "2.54670925441\n",
      "2.96040270253\n",
      "2.66201833822\n",
      "2.53468619091\n",
      "2.23356958085\n",
      "2.37197796127\n",
      "282\n",
      "go 22 23 282 293\n"
     ]
    },
    {
     "name": "stderr",
     "output_type": "stream",
     "text": [
      "100%|██████████| 5000/5000 [00:00<00:00, 13231.29it/s]\n",
      "100%|██████████| 5000/5000 [00:00<00:00, 13303.96it/s]\n",
      "100%|██████████| 5000/5000 [00:00<00:00, 6972.73it/s]\n",
      "100%|██████████| 5000/5000 [00:00<00:00, 6890.71it/s]\n",
      "100%|██████████| 5000/5000 [00:00<00:00, 6992.30it/s]\n",
      "100%|██████████| 5000/5000 [00:01<00:00, 4837.47it/s]\n"
     ]
    },
    {
     "name": "stdout",
     "output_type": "stream",
     "text": [
      "2.51768904174\n",
      "2.77218515865\n",
      "2.66213916637\n",
      "2.84925199121\n",
      "2.10670118963\n",
      "2.51953209074\n",
      "go 22 24 282 294\n"
     ]
    },
    {
     "name": "stderr",
     "output_type": "stream",
     "text": [
      "100%|██████████| 5000/5000 [00:00<00:00, 13463.00it/s]\n",
      "100%|██████████| 5000/5000 [00:00<00:00, 13484.46it/s]\n",
      "100%|██████████| 5000/5000 [00:00<00:00, 6963.73it/s]\n",
      "100%|██████████| 5000/5000 [00:00<00:00, 7052.22it/s]\n",
      "100%|██████████| 5000/5000 [00:00<00:00, 7094.55it/s]\n",
      "100%|██████████| 5000/5000 [00:01<00:00, 4870.17it/s]\n"
     ]
    },
    {
     "name": "stdout",
     "output_type": "stream",
     "text": [
      "2.4617379781\n",
      "2.78549559097\n",
      "2.59264808031\n",
      "2.77778431102\n",
      "2.09327261719\n",
      "2.45648533907\n",
      "go 22 25 282 303\n"
     ]
    },
    {
     "name": "stderr",
     "output_type": "stream",
     "text": [
      "100%|██████████| 5000/5000 [00:00<00:00, 13334.83it/s]\n",
      "100%|██████████| 5000/5000 [00:00<00:00, 13391.58it/s]\n",
      "100%|██████████| 5000/5000 [00:00<00:00, 7016.39it/s]\n",
      "100%|██████████| 5000/5000 [00:00<00:00, 6865.83it/s]\n",
      "100%|██████████| 5000/5000 [00:00<00:00, 6605.83it/s]\n",
      "100%|██████████| 5000/5000 [00:01<00:00, 4642.15it/s]\n"
     ]
    },
    {
     "name": "stdout",
     "output_type": "stream",
     "text": [
      "2.60221265134\n",
      "3.21675693455\n",
      "2.75255424673\n",
      "2.49616630672\n",
      "2.03921430918\n",
      "2.22209784857\n",
      "go 22 26 282 309\n"
     ]
    },
    {
     "name": "stderr",
     "output_type": "stream",
     "text": [
      "100%|██████████| 5000/5000 [00:00<00:00, 13035.54it/s]\n",
      "100%|██████████| 5000/5000 [00:00<00:00, 12918.99it/s]\n",
      "100%|██████████| 5000/5000 [00:00<00:00, 6710.18it/s]\n",
      "100%|██████████| 5000/5000 [00:00<00:00, 6629.40it/s]\n",
      "100%|██████████| 5000/5000 [00:00<00:00, 6644.60it/s]\n",
      "100%|██████████| 5000/5000 [00:01<00:00, 4614.74it/s]\n"
     ]
    },
    {
     "name": "stdout",
     "output_type": "stream",
     "text": [
      "2.50393274511\n",
      "3.19681736504\n",
      "2.58677787235\n",
      "2.41272481064\n",
      "2.43170363141\n",
      "2.46296283185\n",
      "293\n",
      "go 23 25 293 303\n"
     ]
    },
    {
     "name": "stderr",
     "output_type": "stream",
     "text": [
      "100%|██████████| 5000/5000 [00:00<00:00, 12887.93it/s]\n",
      "100%|██████████| 5000/5000 [00:00<00:00, 12856.31it/s]\n",
      "100%|██████████| 5000/5000 [00:00<00:00, 6772.35it/s]\n",
      "100%|██████████| 5000/5000 [00:00<00:00, 6581.50it/s]\n",
      "100%|██████████| 5000/5000 [00:00<00:00, 6880.32it/s]\n",
      "100%|██████████| 5000/5000 [00:01<00:00, 4650.40it/s]\n"
     ]
    },
    {
     "name": "stdout",
     "output_type": "stream",
     "text": [
      "2.85766463159\n",
      "2.86802523796\n",
      "2.27158915571\n",
      "2.70147796814\n",
      "2.70144895549\n",
      "2.70071843469\n",
      "go 23 26 293 309\n"
     ]
    },
    {
     "name": "stderr",
     "output_type": "stream",
     "text": [
      "100%|██████████| 5000/5000 [00:00<00:00, 12591.95it/s]\n",
      "100%|██████████| 5000/5000 [00:00<00:00, 12740.32it/s]\n",
      "100%|██████████| 5000/5000 [00:00<00:00, 6497.85it/s]\n",
      "100%|██████████| 5000/5000 [00:00<00:00, 6579.44it/s]\n",
      "100%|██████████| 5000/5000 [00:00<00:00, 6741.19it/s]\n",
      "100%|██████████| 5000/5000 [00:01<00:00, 4587.91it/s]\n"
     ]
    },
    {
     "name": "stdout",
     "output_type": "stream",
     "text": [
      "2.62789357966\n",
      "2.6275761487\n",
      "2.15479714437\n",
      "2.62972847191\n",
      "2.62960334238\n",
      "2.29326310151\n",
      "go 23 27 293 310\n"
     ]
    },
    {
     "name": "stderr",
     "output_type": "stream",
     "text": [
      "100%|██████████| 5000/5000 [00:00<00:00, 12456.56it/s]\n",
      "100%|██████████| 5000/5000 [00:00<00:00, 12686.49it/s]\n",
      "100%|██████████| 5000/5000 [00:00<00:00, 6817.52it/s]\n",
      "100%|██████████| 5000/5000 [00:00<00:00, 6883.63it/s]\n",
      "100%|██████████| 5000/5000 [00:00<00:00, 6740.70it/s]\n",
      "100%|██████████| 5000/5000 [00:01<00:00, 4679.58it/s]\n"
     ]
    },
    {
     "name": "stdout",
     "output_type": "stream",
     "text": [
      "2.59233816925\n",
      "2.58819856826\n",
      "2.18797774084\n",
      "2.63257383722\n",
      "2.6243613335\n",
      "2.25941952036\n",
      "294\n",
      "go 24 25 294 303\n"
     ]
    },
    {
     "name": "stderr",
     "output_type": "stream",
     "text": [
      "100%|██████████| 5000/5000 [00:00<00:00, 12878.36it/s]\n",
      "100%|██████████| 5000/5000 [00:00<00:00, 12791.81it/s]\n",
      "100%|██████████| 5000/5000 [00:00<00:00, 6588.56it/s]\n",
      "100%|██████████| 5000/5000 [00:00<00:00, 6344.48it/s]\n",
      "100%|██████████| 5000/5000 [00:00<00:00, 6626.96it/s]\n",
      "100%|██████████| 5000/5000 [00:01<00:00, 4550.05it/s]\n"
     ]
    },
    {
     "name": "stdout",
     "output_type": "stream",
     "text": [
      "2.91978669514\n",
      "2.92566177013\n",
      "1.59632662705\n",
      "2.93575263109\n",
      "2.94415056285\n",
      "1.67422739827\n",
      "go 24 26 294 309\n"
     ]
    },
    {
     "name": "stderr",
     "output_type": "stream",
     "text": [
      "100%|██████████| 5000/5000 [00:00<00:00, 12921.70it/s]\n",
      "100%|██████████| 5000/5000 [00:00<00:00, 12866.21it/s]\n",
      "100%|██████████| 5000/5000 [00:00<00:00, 6769.33it/s]\n",
      "100%|██████████| 5000/5000 [00:00<00:00, 6901.73it/s]\n",
      "100%|██████████| 5000/5000 [00:00<00:00, 6729.98it/s]\n",
      "100%|██████████| 5000/5000 [00:01<00:00, 4820.05it/s]\n"
     ]
    },
    {
     "name": "stdout",
     "output_type": "stream",
     "text": [
      "2.66391566681\n",
      "2.66665627738\n",
      "2.0930873312\n",
      "2.72286890808\n",
      "2.72602306715\n",
      "1.63481882888\n",
      "303\n",
      "go 25 26 303 309\n"
     ]
    },
    {
     "name": "stderr",
     "output_type": "stream",
     "text": [
      "100%|██████████| 5000/5000 [00:00<00:00, 12563.57it/s]\n",
      "100%|██████████| 5000/5000 [00:00<00:00, 12594.43it/s]\n",
      "100%|██████████| 5000/5000 [00:00<00:00, 6665.49it/s]\n",
      "100%|██████████| 5000/5000 [00:00<00:00, 7090.34it/s]\n",
      "100%|██████████| 5000/5000 [00:00<00:00, 7406.66it/s]\n",
      "100%|██████████| 5000/5000 [00:00<00:00, 5037.63it/s]\n"
     ]
    },
    {
     "name": "stdout",
     "output_type": "stream",
     "text": [
      "2.45073912244\n",
      "2.44284652994\n",
      "2.56702802299\n",
      "3.00181721212\n",
      "2.26399297193\n",
      "3.04450259615\n",
      "go 25 27 303 310\n"
     ]
    },
    {
     "name": "stderr",
     "output_type": "stream",
     "text": [
      "100%|██████████| 5000/5000 [00:00<00:00, 13191.67it/s]\n",
      "100%|██████████| 5000/5000 [00:00<00:00, 12963.68it/s]\n",
      "100%|██████████| 5000/5000 [00:00<00:00, 6745.19it/s]\n",
      "100%|██████████| 5000/5000 [00:00<00:00, 6704.13it/s]\n",
      "100%|██████████| 5000/5000 [00:00<00:00, 6829.94it/s]\n",
      "100%|██████████| 5000/5000 [00:01<00:00, 4543.39it/s]\n"
     ]
    },
    {
     "name": "stdout",
     "output_type": "stream",
     "text": [
      "2.31971441225\n",
      "2.47954317264\n",
      "2.477543952\n",
      "2.80962588601\n",
      "2.0189472957\n",
      "2.66493642434\n",
      "go 25 28 303 327\n"
     ]
    },
    {
     "name": "stderr",
     "output_type": "stream",
     "text": [
      "100%|██████████| 5000/5000 [00:00<00:00, 12671.12it/s]\n",
      "100%|██████████| 5000/5000 [00:00<00:00, 12907.12it/s]\n",
      "100%|██████████| 5000/5000 [00:00<00:00, 6732.78it/s]\n",
      "100%|██████████| 5000/5000 [00:00<00:00, 6853.58it/s]\n",
      "100%|██████████| 5000/5000 [00:00<00:00, 6687.87it/s]\n",
      "100%|██████████| 5000/5000 [00:01<00:00, 4662.08it/s]\n"
     ]
    },
    {
     "name": "stdout",
     "output_type": "stream",
     "text": [
      "2.46653156219\n",
      "3.07993374875\n",
      "2.47738603161\n",
      "2.26715386711\n",
      "2.36798416435\n",
      "2.40117754253\n",
      "309\n",
      "go 26 28 309 327\n"
     ]
    },
    {
     "name": "stderr",
     "output_type": "stream",
     "text": [
      "100%|██████████| 5000/5000 [00:00<00:00, 11801.50it/s]\n",
      "100%|██████████| 5000/5000 [00:00<00:00, 12581.94it/s]\n",
      "100%|██████████| 5000/5000 [00:00<00:00, 6779.23it/s]\n",
      "100%|██████████| 5000/5000 [00:00<00:00, 6779.27it/s]\n",
      "100%|██████████| 5000/5000 [00:00<00:00, 6801.50it/s]\n",
      "100%|██████████| 5000/5000 [00:01<00:00, 4373.75it/s]\n"
     ]
    },
    {
     "name": "stdout",
     "output_type": "stream",
     "text": [
      "2.57646772912\n",
      "2.82756848416\n",
      "2.26880427485\n",
      "2.40578538071\n",
      "2.55727043422\n",
      "2.5137668499\n",
      "go 26 29 309 328\n"
     ]
    },
    {
     "name": "stderr",
     "output_type": "stream",
     "text": [
      "100%|██████████| 5000/5000 [00:00<00:00, 13174.81it/s]\n",
      "100%|██████████| 5000/5000 [00:00<00:00, 13020.70it/s]\n",
      "100%|██████████| 5000/5000 [00:00<00:00, 6694.08it/s]\n",
      "100%|██████████| 5000/5000 [00:00<00:00, 6743.48it/s]\n",
      "100%|██████████| 5000/5000 [00:00<00:00, 6734.49it/s]\n",
      "100%|██████████| 5000/5000 [00:01<00:00, 4709.26it/s]\n"
     ]
    },
    {
     "name": "stdout",
     "output_type": "stream",
     "text": [
      "2.54175038084\n",
      "2.80470931445\n",
      "2.27299167369\n",
      "2.44666261528\n",
      "2.58811121663\n",
      "2.51019925802\n",
      "310\n",
      "go 27 28 310 327\n"
     ]
    },
    {
     "name": "stderr",
     "output_type": "stream",
     "text": [
      "100%|██████████| 5000/5000 [00:00<00:00, 13307.43it/s]\n",
      "100%|██████████| 5000/5000 [00:00<00:00, 13348.03it/s]\n",
      "100%|██████████| 5000/5000 [00:00<00:00, 6804.06it/s]\n",
      "100%|██████████| 5000/5000 [00:00<00:00, 6837.65it/s]\n",
      "100%|██████████| 5000/5000 [00:00<00:00, 6688.15it/s]\n",
      "100%|██████████| 5000/5000 [00:01<00:00, 4755.66it/s]\n"
     ]
    },
    {
     "name": "stdout",
     "output_type": "stream",
     "text": [
      "2.60782712641\n",
      "2.61217995496\n",
      "2.25827458429\n",
      "2.49401933285\n",
      "2.48365652348\n",
      "2.52776611646\n",
      "go 27 29 310 328\n"
     ]
    },
    {
     "name": "stderr",
     "output_type": "stream",
     "text": [
      "100%|██████████| 5000/5000 [00:00<00:00, 13499.24it/s]\n",
      "100%|██████████| 5000/5000 [00:00<00:00, 13111.83it/s]\n",
      "100%|██████████| 5000/5000 [00:00<00:00, 6703.63it/s]\n",
      "100%|██████████| 5000/5000 [00:00<00:00, 6909.15it/s]\n",
      "100%|██████████| 5000/5000 [00:00<00:00, 6823.20it/s]\n",
      "100%|██████████| 5000/5000 [00:01<00:00, 4785.61it/s]\n"
     ]
    },
    {
     "name": "stdout",
     "output_type": "stream",
     "text": [
      "2.57459924186\n",
      "2.58248429993\n",
      "2.2713039038\n",
      "2.50954053529\n",
      "2.5161964679\n",
      "2.52078797857\n",
      "327\n",
      "go 28 32 327 345\n"
     ]
    },
    {
     "name": "stderr",
     "output_type": "stream",
     "text": [
      "100%|██████████| 5000/5000 [00:00<00:00, 12851.98it/s]\n",
      "100%|██████████| 5000/5000 [00:00<00:00, 13530.56it/s]\n",
      "100%|██████████| 5000/5000 [00:00<00:00, 6936.32it/s]\n",
      "100%|██████████| 5000/5000 [00:00<00:00, 6664.26it/s]\n",
      "100%|██████████| 5000/5000 [00:00<00:00, 6749.88it/s]\n",
      "100%|██████████| 5000/5000 [00:01<00:00, 4712.12it/s]\n"
     ]
    },
    {
     "name": "stdout",
     "output_type": "stream",
     "text": [
      "2.59038477347\n",
      "2.58501162655\n",
      "2.08952501133\n",
      "2.58221766477\n",
      "2.57832238881\n",
      "2.14039972326\n",
      "go 28 33 327 346\n"
     ]
    },
    {
     "name": "stderr",
     "output_type": "stream",
     "text": [
      "100%|██████████| 5000/5000 [00:00<00:00, 12387.71it/s]\n",
      "100%|██████████| 5000/5000 [00:00<00:00, 12643.25it/s]\n",
      "100%|██████████| 5000/5000 [00:00<00:00, 6877.86it/s]\n",
      "100%|██████████| 5000/5000 [00:00<00:00, 6783.19it/s]\n",
      "100%|██████████| 5000/5000 [00:00<00:00, 6895.33it/s]\n",
      "100%|██████████| 5000/5000 [00:01<00:00, 4796.33it/s]\n"
     ]
    },
    {
     "name": "stdout",
     "output_type": "stream",
     "text": [
      "2.55546773113\n",
      "2.55688917086\n",
      "2.12306251199\n",
      "2.57580253962\n",
      "2.57632804172\n",
      "2.09886903464\n",
      "328\n",
      "go 29 32 328 345\n"
     ]
    },
    {
     "name": "stderr",
     "output_type": "stream",
     "text": [
      "100%|██████████| 5000/5000 [00:00<00:00, 13827.32it/s]\n",
      "100%|██████████| 5000/5000 [00:00<00:00, 13697.21it/s]\n",
      "100%|██████████| 5000/5000 [00:00<00:00, 6990.43it/s]\n",
      "100%|██████████| 5000/5000 [00:00<00:00, 7062.39it/s]\n",
      "100%|██████████| 5000/5000 [00:00<00:00, 7021.50it/s]\n",
      "100%|██████████| 5000/5000 [00:01<00:00, 4914.37it/s]\n"
     ]
    },
    {
     "name": "stdout",
     "output_type": "stream",
     "text": [
      "2.62310212091\n",
      "2.62362160504\n",
      "2.03561961311\n",
      "2.6550059419\n",
      "2.66124623794\n",
      "1.32963842048\n",
      "go 29 33 328 346\n"
     ]
    },
    {
     "name": "stderr",
     "output_type": "stream",
     "text": [
      "100%|██████████| 5000/5000 [00:00<00:00, 13709.41it/s]\n",
      "100%|██████████| 5000/5000 [00:00<00:00, 13597.23it/s]\n",
      "100%|██████████| 5000/5000 [00:00<00:00, 7016.82it/s]\n",
      "100%|██████████| 5000/5000 [00:00<00:00, 7033.17it/s]\n",
      "100%|██████████| 5000/5000 [00:00<00:00, 6935.18it/s]\n",
      "100%|██████████| 5000/5000 [00:01<00:00, 4868.88it/s]\n"
     ]
    },
    {
     "name": "stdout",
     "output_type": "stream",
     "text": [
      "2.58769891794\n",
      "2.59112249536\n",
      "2.09170893052\n",
      "2.65103091725\n",
      "2.65022859134\n",
      "1.29798701485\n",
      "go 29 34 328 352\n"
     ]
    },
    {
     "name": "stderr",
     "output_type": "stream",
     "text": [
      "100%|██████████| 5000/5000 [00:00<00:00, 13430.68it/s]\n",
      "100%|██████████| 5000/5000 [00:00<00:00, 13661.05it/s]\n",
      "100%|██████████| 5000/5000 [00:00<00:00, 7062.31it/s]\n",
      "100%|██████████| 5000/5000 [00:00<00:00, 6996.53it/s]\n",
      "100%|██████████| 5000/5000 [00:00<00:00, 7040.03it/s]\n",
      "100%|██████████| 5000/5000 [00:01<00:00, 4917.31it/s]\n"
     ]
    },
    {
     "name": "stdout",
     "output_type": "stream",
     "text": [
      "2.48898633281\n",
      "2.4901408156\n",
      "2.48296945943\n",
      "2.64887535841\n",
      "2.64813170227\n",
      "1.40098010961\n",
      "329\n",
      "go 30 32 329 345\n"
     ]
    },
    {
     "name": "stderr",
     "output_type": "stream",
     "text": [
      "100%|██████████| 5000/5000 [00:00<00:00, 13899.86it/s]\n",
      "100%|██████████| 5000/5000 [00:00<00:00, 13544.19it/s]\n",
      "100%|██████████| 5000/5000 [00:00<00:00, 7092.33it/s]\n",
      "100%|██████████| 5000/5000 [00:00<00:00, 7012.86it/s]\n",
      "100%|██████████| 5000/5000 [00:00<00:00, 7065.01it/s]\n",
      "100%|██████████| 5000/5000 [00:01<00:00, 4894.70it/s]\n"
     ]
    },
    {
     "name": "stdout",
     "output_type": "stream",
     "text": [
      "2.6062544252\n",
      "2.21976821302\n",
      "2.05086203374\n",
      "2.6627092529\n",
      "1.18568823868\n",
      "1.3489823501\n",
      "go 30 33 329 346\n"
     ]
    },
    {
     "name": "stderr",
     "output_type": "stream",
     "text": [
      "100%|██████████| 5000/5000 [00:00<00:00, 13830.79it/s]\n",
      "100%|██████████| 5000/5000 [00:00<00:00, 13556.20it/s]\n",
      "100%|██████████| 5000/5000 [00:00<00:00, 7062.88it/s]\n",
      "100%|██████████| 5000/5000 [00:00<00:00, 7110.81it/s]\n",
      "100%|██████████| 5000/5000 [00:00<00:00, 7153.58it/s]\n",
      "100%|██████████| 5000/5000 [00:01<00:00, 4944.68it/s]\n"
     ]
    },
    {
     "name": "stdout",
     "output_type": "stream",
     "text": [
      "2.57137295836\n",
      "2.29530945759\n",
      "2.10310178622\n",
      "2.64590420576\n",
      "1.16578091254\n",
      "1.30180596498\n",
      "go 30 34 329 352\n"
     ]
    },
    {
     "name": "stderr",
     "output_type": "stream",
     "text": [
      "100%|██████████| 5000/5000 [00:00<00:00, 13844.67it/s]\n",
      "100%|██████████| 5000/5000 [00:00<00:00, 13761.48it/s]\n",
      "100%|██████████| 5000/5000 [00:00<00:00, 7112.11it/s]\n",
      "100%|██████████| 5000/5000 [00:00<00:00, 6977.22it/s]\n",
      "100%|██████████| 5000/5000 [00:00<00:00, 7150.80it/s]\n",
      "100%|██████████| 5000/5000 [00:01<00:00, 4940.86it/s]\n"
     ]
    },
    {
     "name": "stdout",
     "output_type": "stream",
     "text": [
      "2.46698742773\n",
      "2.76120252227\n",
      "2.48429179746\n",
      "2.63507900638\n",
      "1.40039968735\n",
      "1.3625651255\n",
      "331\n",
      "go 31 32 331 345\n"
     ]
    },
    {
     "name": "stderr",
     "output_type": "stream",
     "text": [
      "100%|██████████| 5000/5000 [00:00<00:00, 13962.55it/s]\n",
      "100%|██████████| 5000/5000 [00:00<00:00, 13726.65it/s]\n",
      "100%|██████████| 5000/5000 [00:00<00:00, 7183.32it/s]\n",
      "100%|██████████| 5000/5000 [00:00<00:00, 7122.81it/s]\n",
      "100%|██████████| 5000/5000 [00:00<00:00, 7166.70it/s]\n",
      "100%|██████████| 5000/5000 [00:01<00:00, 4909.06it/s]\n"
     ]
    },
    {
     "name": "stdout",
     "output_type": "stream",
     "text": [
      "2.55709508576\n",
      "2.30421561581\n",
      "2.07321323538\n",
      "2.66452846093\n",
      "1.15093258211\n",
      "1.46507752133\n",
      "go 31 33 331 346\n"
     ]
    },
    {
     "name": "stderr",
     "output_type": "stream",
     "text": [
      "100%|██████████| 5000/5000 [00:00<00:00, 13756.44it/s]\n",
      "100%|██████████| 5000/5000 [00:00<00:00, 13973.31it/s]\n",
      "100%|██████████| 5000/5000 [00:00<00:00, 7100.76it/s]\n",
      "100%|██████████| 5000/5000 [00:00<00:00, 7222.01it/s]\n",
      "100%|██████████| 5000/5000 [00:00<00:00, 7252.16it/s]\n",
      "100%|██████████| 5000/5000 [00:01<00:00, 4950.71it/s]\n"
     ]
    },
    {
     "name": "stdout",
     "output_type": "stream",
     "text": [
      "2.50638460957\n",
      "2.38037188272\n",
      "2.11885689417\n",
      "2.63238455722\n",
      "1.09977350972\n",
      "1.38637607336\n",
      "go 31 34 331 352\n"
     ]
    },
    {
     "name": "stderr",
     "output_type": "stream",
     "text": [
      "100%|██████████| 5000/5000 [00:00<00:00, 13743.06it/s]\n",
      "100%|██████████| 5000/5000 [00:00<00:00, 13751.65it/s]\n",
      "100%|██████████| 5000/5000 [00:00<00:00, 7233.14it/s]\n",
      "100%|██████████| 5000/5000 [00:00<00:00, 7066.11it/s]\n",
      "100%|██████████| 5000/5000 [00:00<00:00, 7214.85it/s]\n",
      "100%|██████████| 5000/5000 [00:01<00:00, 4966.78it/s]\n"
     ]
    },
    {
     "name": "stdout",
     "output_type": "stream",
     "text": [
      "2.40619465427\n",
      "2.81275429917\n",
      "2.48755549108\n",
      "2.58862114718\n",
      "1.23470222076\n",
      "1.34942408253\n",
      "345\n",
      "go 32 34 345 352\n"
     ]
    },
    {
     "name": "stderr",
     "output_type": "stream",
     "text": [
      "100%|██████████| 5000/5000 [00:00<00:00, 13806.85it/s]\n",
      "100%|██████████| 5000/5000 [00:00<00:00, 13940.82it/s]\n",
      "100%|██████████| 5000/5000 [00:00<00:00, 7574.31it/s]\n",
      "100%|██████████| 5000/5000 [00:00<00:00, 7290.57it/s]\n",
      "100%|██████████| 5000/5000 [00:00<00:00, 7244.79it/s]\n",
      "100%|██████████| 5000/5000 [00:00<00:00, 5040.82it/s]\n"
     ]
    },
    {
     "name": "stdout",
     "output_type": "stream",
     "text": [
      "2.40369737377\n",
      "2.39877659285\n",
      "2.35379886171\n",
      "1.82927960111\n",
      "1.84633335792\n",
      "2.42730875237\n",
      "go 32 35 345 366\n"
     ]
    },
    {
     "name": "stderr",
     "output_type": "stream",
     "text": [
      "100%|██████████| 5000/5000 [00:00<00:00, 14035.01it/s]\n",
      "100%|██████████| 5000/5000 [00:00<00:00, 13768.34it/s]\n",
      "100%|██████████| 5000/5000 [00:00<00:00, 7228.67it/s]\n",
      "100%|██████████| 5000/5000 [00:00<00:00, 7279.54it/s]\n",
      "100%|██████████| 5000/5000 [00:00<00:00, 7227.28it/s]\n",
      "100%|██████████| 5000/5000 [00:01<00:00, 4959.01it/s]\n"
     ]
    },
    {
     "name": "stdout",
     "output_type": "stream",
     "text": [
      "2.54788563881\n",
      "2.5441295714\n",
      "2.30111629922\n",
      "2.51761894468\n",
      "2.50808851256\n",
      "2.48276576618\n",
      "346\n",
      "go 33 34 346 352\n"
     ]
    },
    {
     "name": "stderr",
     "output_type": "stream",
     "text": [
      "100%|██████████| 5000/5000 [00:00<00:00, 13742.11it/s]\n",
      "100%|██████████| 5000/5000 [00:00<00:00, 13579.94it/s]\n",
      "100%|██████████| 5000/5000 [00:00<00:00, 7524.09it/s]\n",
      "100%|██████████| 5000/5000 [00:00<00:00, 7833.32it/s]\n",
      "100%|██████████| 5000/5000 [00:00<00:00, 7781.48it/s]\n",
      "100%|██████████| 5000/5000 [00:00<00:00, 5508.33it/s]\n"
     ]
    },
    {
     "name": "stdout",
     "output_type": "stream",
     "text": [
      "2.52482359002\n",
      "2.51999971135\n",
      "2.29790397726\n",
      "2.35783768876\n",
      "2.3635993435\n",
      "2.71510398638\n",
      "go 33 35 346 366\n"
     ]
    },
    {
     "name": "stderr",
     "output_type": "stream",
     "text": [
      "100%|██████████| 5000/5000 [00:00<00:00, 14215.00it/s]\n",
      "100%|██████████| 5000/5000 [00:00<00:00, 13864.62it/s]\n",
      "100%|██████████| 5000/5000 [00:00<00:00, 7170.75it/s]\n",
      "100%|██████████| 5000/5000 [00:00<00:00, 7174.96it/s]\n",
      "100%|██████████| 5000/5000 [00:00<00:00, 7237.90it/s]\n",
      "100%|██████████| 5000/5000 [00:01<00:00, 4983.48it/s]\n"
     ]
    },
    {
     "name": "stdout",
     "output_type": "stream",
     "text": [
      "2.57340607439\n",
      "2.57810808501\n",
      "2.28928022915\n",
      "2.56941896611\n",
      "2.57536561179\n",
      "2.47411687063\n",
      "go 33 36 346 367\n"
     ]
    },
    {
     "name": "stderr",
     "output_type": "stream",
     "text": [
      "100%|██████████| 5000/5000 [00:00<00:00, 13667.62it/s]\n",
      "100%|██████████| 5000/5000 [00:00<00:00, 13720.21it/s]\n",
      "100%|██████████| 5000/5000 [00:00<00:00, 7155.35it/s]\n",
      "100%|██████████| 5000/5000 [00:00<00:00, 6923.04it/s]\n",
      "100%|██████████| 5000/5000 [00:00<00:00, 6970.31it/s]\n",
      "100%|██████████| 5000/5000 [00:01<00:00, 4959.06it/s]\n"
     ]
    },
    {
     "name": "stdout",
     "output_type": "stream",
     "text": [
      "2.54644638189\n",
      "2.5459397958\n",
      "2.28696662776\n",
      "2.56597789507\n",
      "2.56564190022\n",
      "2.42579546199\n",
      "go 33 37 346 383\n"
     ]
    },
    {
     "name": "stderr",
     "output_type": "stream",
     "text": [
      "100%|██████████| 5000/5000 [00:00<00:00, 13576.63it/s]\n",
      "100%|██████████| 5000/5000 [00:00<00:00, 13842.40it/s]\n",
      "100%|██████████| 5000/5000 [00:00<00:00, 7103.49it/s]\n",
      "100%|██████████| 5000/5000 [00:00<00:00, 7073.03it/s]\n",
      "100%|██████████| 5000/5000 [00:00<00:00, 7193.20it/s]\n",
      "100%|██████████| 5000/5000 [00:00<00:00, 5045.52it/s]\n"
     ]
    },
    {
     "name": "stdout",
     "output_type": "stream",
     "text": [
      "2.55904389695\n",
      "2.55758636102\n",
      "2.65849906635\n",
      "2.55626457466\n",
      "2.56136968182\n",
      "2.30999713995\n",
      "352\n",
      "go 34 35 352 366\n"
     ]
    },
    {
     "name": "stderr",
     "output_type": "stream",
     "text": [
      "100%|██████████| 5000/5000 [00:00<00:00, 13925.36it/s]\n",
      "100%|██████████| 5000/5000 [00:00<00:00, 13338.70it/s]\n",
      "100%|██████████| 5000/5000 [00:00<00:00, 7125.78it/s]\n",
      "100%|██████████| 5000/5000 [00:00<00:00, 7273.17it/s]\n",
      "100%|██████████| 5000/5000 [00:00<00:00, 7034.00it/s]\n",
      "100%|██████████| 5000/5000 [00:00<00:00, 5000.61it/s]\n"
     ]
    },
    {
     "name": "stdout",
     "output_type": "stream",
     "text": [
      "2.72139577649\n",
      "2.31784128006\n",
      "2.55828325331\n",
      "2.92137980761\n",
      "2.54725948061\n",
      "2.30784818255\n",
      "go 34 36 352 367\n"
     ]
    },
    {
     "name": "stderr",
     "output_type": "stream",
     "text": [
      "100%|██████████| 5000/5000 [00:00<00:00, 14165.35it/s]\n",
      "100%|██████████| 5000/5000 [00:00<00:00, 13351.71it/s]\n",
      "100%|██████████| 5000/5000 [00:00<00:00, 7178.00it/s]\n",
      "100%|██████████| 5000/5000 [00:00<00:00, 7324.99it/s]\n",
      "100%|██████████| 5000/5000 [00:00<00:00, 7146.72it/s]\n",
      "100%|██████████| 5000/5000 [00:01<00:00, 4971.77it/s]\n"
     ]
    },
    {
     "name": "stdout",
     "output_type": "stream",
     "text": [
      "2.67228771713\n",
      "2.29729249572\n",
      "2.5524307581\n",
      "2.87541241916\n",
      "2.50297501637\n",
      "2.23126690871\n",
      "go 34 37 352 383\n"
     ]
    },
    {
     "name": "stderr",
     "output_type": "stream",
     "text": [
      "100%|██████████| 5000/5000 [00:00<00:00, 13703.20it/s]\n",
      "100%|██████████| 5000/5000 [00:00<00:00, 13745.25it/s]\n",
      "100%|██████████| 5000/5000 [00:00<00:00, 7100.84it/s]\n",
      "100%|██████████| 5000/5000 [00:00<00:00, 7150.91it/s]\n",
      "100%|██████████| 5000/5000 [00:00<00:00, 7109.52it/s]\n",
      "100%|██████████| 5000/5000 [00:01<00:00, 4968.26it/s]\n"
     ]
    },
    {
     "name": "stdout",
     "output_type": "stream",
     "text": [
      "2.62061970176\n",
      "2.85408432859\n",
      "2.73027237915\n",
      "2.56534335313\n",
      "2.28658803863\n",
      "2.3111100551\n",
      "366\n",
      "go 35 37 366 383\n"
     ]
    },
    {
     "name": "stderr",
     "output_type": "stream",
     "text": [
      "100%|██████████| 5000/5000 [00:00<00:00, 13539.60it/s]\n",
      "100%|██████████| 5000/5000 [00:00<00:00, 13774.49it/s]\n",
      "100%|██████████| 5000/5000 [00:00<00:00, 7012.71it/s]\n",
      "100%|██████████| 5000/5000 [00:00<00:00, 7052.15it/s]\n",
      "100%|██████████| 5000/5000 [00:00<00:00, 7178.71it/s]\n",
      "100%|██████████| 5000/5000 [00:00<00:00, 5036.59it/s]\n"
     ]
    },
    {
     "name": "stdout",
     "output_type": "stream",
     "text": [
      "2.66914614607\n",
      "2.66858588515\n",
      "1.85825773002\n",
      "2.48610792327\n",
      "2.48147073829\n",
      "2.08511830924\n",
      "go 35 38 366 384\n"
     ]
    },
    {
     "name": "stderr",
     "output_type": "stream",
     "text": [
      "100%|██████████| 5000/5000 [00:00<00:00, 13548.60it/s]\n",
      "100%|██████████| 5000/5000 [00:00<00:00, 13542.72it/s]\n",
      "100%|██████████| 5000/5000 [00:00<00:00, 7070.70it/s]\n",
      "100%|██████████| 5000/5000 [00:00<00:00, 7080.71it/s]\n",
      "100%|██████████| 5000/5000 [00:00<00:00, 7071.93it/s]\n",
      "100%|██████████| 5000/5000 [00:01<00:00, 4907.86it/s]\n"
     ]
    },
    {
     "name": "stdout",
     "output_type": "stream",
     "text": [
      "2.64693658024\n",
      "2.64528905281\n",
      "1.8210430646\n",
      "2.47353842897\n",
      "2.47401227273\n",
      "2.02380438146\n",
      "go 35 39 366 391\n"
     ]
    },
    {
     "name": "stderr",
     "output_type": "stream",
     "text": [
      "100%|██████████| 5000/5000 [00:00<00:00, 13481.26it/s]\n",
      "100%|██████████| 5000/5000 [00:00<00:00, 13793.90it/s]\n",
      "100%|██████████| 5000/5000 [00:00<00:00, 6942.49it/s]\n",
      "100%|██████████| 5000/5000 [00:00<00:00, 7042.94it/s]\n",
      "100%|██████████| 5000/5000 [00:00<00:00, 7174.06it/s]\n",
      "100%|██████████| 5000/5000 [00:01<00:00, 4862.27it/s]\n"
     ]
    },
    {
     "name": "stdout",
     "output_type": "stream",
     "text": [
      "2.49564571981\n",
      "2.49408451665\n",
      "1.84561280167\n",
      "2.41312140249\n",
      "2.40329177779\n",
      "1.74950562121\n",
      "go 35 40 366 392\n"
     ]
    },
    {
     "name": "stderr",
     "output_type": "stream",
     "text": [
      "100%|██████████| 5000/5000 [00:00<00:00, 13604.96it/s]\n",
      "100%|██████████| 5000/5000 [00:00<00:00, 13757.12it/s]\n",
      "100%|██████████| 5000/5000 [00:00<00:00, 7175.30it/s]\n",
      "100%|██████████| 5000/5000 [00:00<00:00, 7079.36it/s]\n",
      "100%|██████████| 5000/5000 [00:00<00:00, 7147.85it/s]\n",
      "100%|██████████| 5000/5000 [00:01<00:00, 4812.31it/s]\n"
     ]
    },
    {
     "name": "stdout",
     "output_type": "stream",
     "text": [
      "2.47186428292\n",
      "2.47228593181\n",
      "1.89138953697\n",
      "2.40990608658\n",
      "2.41527104638\n",
      "1.73032391977\n",
      "go 35 41 366 395\n"
     ]
    },
    {
     "name": "stderr",
     "output_type": "stream",
     "text": [
      "100%|██████████| 5000/5000 [00:00<00:00, 13661.46it/s]\n",
      "100%|██████████| 5000/5000 [00:00<00:00, 13364.16it/s]\n",
      "100%|██████████| 5000/5000 [00:00<00:00, 7083.17it/s]\n",
      "100%|██████████| 5000/5000 [00:00<00:00, 7052.70it/s]\n",
      "100%|██████████| 5000/5000 [00:00<00:00, 6913.59it/s]\n",
      "100%|██████████| 5000/5000 [00:01<00:00, 4658.48it/s]\n"
     ]
    },
    {
     "name": "stdout",
     "output_type": "stream",
     "text": [
      "2.424083108\n",
      "2.42617766442\n",
      "2.12490758289\n",
      "2.47349436661\n",
      "2.47339080873\n",
      "1.79838392607\n",
      "367\n",
      "go 36 37 367 383\n"
     ]
    },
    {
     "name": "stderr",
     "output_type": "stream",
     "text": [
      "100%|██████████| 5000/5000 [00:00<00:00, 13417.52it/s]\n",
      "100%|██████████| 5000/5000 [00:00<00:00, 13814.48it/s]\n",
      "100%|██████████| 5000/5000 [00:00<00:00, 7168.32it/s]\n",
      "100%|██████████| 5000/5000 [00:00<00:00, 6950.66it/s]\n",
      "100%|██████████| 5000/5000 [00:00<00:00, 7013.70it/s]\n",
      "100%|██████████| 5000/5000 [00:01<00:00, 4859.13it/s]\n"
     ]
    },
    {
     "name": "stdout",
     "output_type": "stream",
     "text": [
      "2.7009719491\n",
      "2.70792800805\n",
      "1.58925105394\n",
      "2.60322370258\n",
      "2.608531917\n",
      "1.0960391048\n",
      "go 36 38 367 384\n"
     ]
    },
    {
     "name": "stderr",
     "output_type": "stream",
     "text": [
      "100%|██████████| 5000/5000 [00:00<00:00, 13101.18it/s]\n",
      "100%|██████████| 5000/5000 [00:00<00:00, 13361.44it/s]\n",
      "100%|██████████| 5000/5000 [00:00<00:00, 7175.81it/s]\n",
      "100%|██████████| 5000/5000 [00:00<00:00, 7155.22it/s]\n",
      "100%|██████████| 5000/5000 [00:00<00:00, 6618.09it/s]\n",
      "100%|██████████| 5000/5000 [00:01<00:00, 4840.41it/s]\n"
     ]
    },
    {
     "name": "stdout",
     "output_type": "stream",
     "text": [
      "2.6808985358\n",
      "2.67635652054\n",
      "1.58758126565\n",
      "2.57034122765\n",
      "2.56862684767\n",
      "1.0375258038\n",
      "go 36 39 367 391\n"
     ]
    },
    {
     "name": "stderr",
     "output_type": "stream",
     "text": [
      "100%|██████████| 5000/5000 [00:00<00:00, 13336.07it/s]\n",
      "100%|██████████| 5000/5000 [00:00<00:00, 13665.05it/s]\n",
      "100%|██████████| 5000/5000 [00:00<00:00, 7248.11it/s]\n",
      "100%|██████████| 5000/5000 [00:00<00:00, 7080.64it/s]\n",
      "100%|██████████| 5000/5000 [00:00<00:00, 7104.40it/s]\n",
      "100%|██████████| 5000/5000 [00:01<00:00, 4276.08it/s]\n"
     ]
    },
    {
     "name": "stdout",
     "output_type": "stream",
     "text": [
      "2.5169531723\n",
      "2.51630707522\n",
      "1.78381036406\n",
      "2.46676516327\n",
      "2.46589604783\n",
      "0.932931154018\n",
      "go 36 40 367 392\n"
     ]
    },
    {
     "name": "stderr",
     "output_type": "stream",
     "text": [
      "100%|██████████| 5000/5000 [00:00<00:00, 13389.71it/s]\n",
      "100%|██████████| 5000/5000 [00:00<00:00, 13534.43it/s]\n",
      "100%|██████████| 5000/5000 [00:00<00:00, 7006.76it/s]\n",
      "100%|██████████| 5000/5000 [00:00<00:00, 6896.18it/s]\n",
      "100%|██████████| 5000/5000 [00:00<00:00, 6793.37it/s]\n",
      "100%|██████████| 5000/5000 [00:01<00:00, 4867.91it/s]\n"
     ]
    },
    {
     "name": "stdout",
     "output_type": "stream",
     "text": [
      "2.49255530796\n",
      "2.49499854298\n",
      "1.85053496431\n",
      "2.46154674679\n",
      "2.46289310513\n",
      "0.940963823387\n",
      "383\n",
      "go 37 39 383 391\n"
     ]
    },
    {
     "name": "stderr",
     "output_type": "stream",
     "text": [
      "100%|██████████| 5000/5000 [00:00<00:00, 13141.47it/s]\n",
      "100%|██████████| 5000/5000 [00:00<00:00, 13597.49it/s]\n",
      "100%|██████████| 5000/5000 [00:00<00:00, 7036.49it/s]\n",
      "100%|██████████| 5000/5000 [00:00<00:00, 7153.44it/s]\n",
      "100%|██████████| 5000/5000 [00:00<00:00, 6965.26it/s]\n",
      "100%|██████████| 5000/5000 [00:01<00:00, 4858.49it/s]\n"
     ]
    },
    {
     "name": "stdout",
     "output_type": "stream",
     "text": [
      "2.20529333112\n",
      "1.77478875325\n",
      "2.00005323387\n",
      "2.56336134131\n",
      "1.40216832423\n",
      "1.84492407691\n",
      "go 37 40 383 392\n"
     ]
    },
    {
     "name": "stderr",
     "output_type": "stream",
     "text": [
      "100%|██████████| 5000/5000 [00:00<00:00, 13572.61it/s]\n",
      "100%|██████████| 5000/5000 [00:00<00:00, 13590.72it/s]\n",
      "100%|██████████| 5000/5000 [00:00<00:00, 6937.14it/s]\n",
      "100%|██████████| 5000/5000 [00:00<00:00, 7018.69it/s]\n",
      "100%|██████████| 5000/5000 [00:00<00:00, 7095.78it/s]\n",
      "100%|██████████| 5000/5000 [00:01<00:00, 4874.77it/s]\n"
     ]
    },
    {
     "name": "stdout",
     "output_type": "stream",
     "text": [
      "2.11283265533\n",
      "1.86717098347\n",
      "1.98740678582\n",
      "2.44622428301\n",
      "1.26858071011\n",
      "1.62092273666\n",
      "go 37 41 383 395\n"
     ]
    },
    {
     "name": "stderr",
     "output_type": "stream",
     "text": [
      "100%|██████████| 5000/5000 [00:00<00:00, 13473.10it/s]\n",
      "100%|██████████| 5000/5000 [00:00<00:00, 13560.94it/s]\n",
      "100%|██████████| 5000/5000 [00:00<00:00, 7017.20it/s]\n",
      "100%|██████████| 5000/5000 [00:00<00:00, 7196.22it/s]\n",
      "100%|██████████| 5000/5000 [00:00<00:00, 6899.00it/s]\n",
      "100%|██████████| 5000/5000 [00:01<00:00, 4849.62it/s]\n"
     ]
    },
    {
     "name": "stdout",
     "output_type": "stream",
     "text": [
      "2.02315500178\n",
      "2.29812120224\n",
      "2.25916350884\n",
      "2.33428136507\n",
      "1.36297256186\n",
      "1.49240429966\n",
      "384\n",
      "go 38 39 384 391\n"
     ]
    },
    {
     "name": "stderr",
     "output_type": "stream",
     "text": [
      "100%|██████████| 5000/5000 [00:00<00:00, 13346.72it/s]\n",
      "100%|██████████| 5000/5000 [00:00<00:00, 13390.07it/s]\n",
      "100%|██████████| 5000/5000 [00:00<00:00, 7534.90it/s]\n",
      "100%|██████████| 5000/5000 [00:00<00:00, 6785.10it/s]\n",
      "100%|██████████| 5000/5000 [00:00<00:00, 7050.09it/s]\n",
      "100%|██████████| 5000/5000 [00:01<00:00, 4912.13it/s]\n"
     ]
    },
    {
     "name": "stdout",
     "output_type": "stream",
     "text": [
      "2.21010285487\n",
      "1.88942420674\n",
      "2.12979001195\n",
      "2.64853788874\n",
      "1.4433061636\n",
      "2.00989354844\n",
      "go 38 40 384 392\n"
     ]
    },
    {
     "name": "stderr",
     "output_type": "stream",
     "text": [
      "100%|██████████| 5000/5000 [00:00<00:00, 13727.13it/s]\n",
      "100%|██████████| 5000/5000 [00:00<00:00, 13699.61it/s]\n",
      "100%|██████████| 5000/5000 [00:00<00:00, 7116.66it/s]\n",
      "100%|██████████| 5000/5000 [00:00<00:00, 7026.58it/s]\n",
      "100%|██████████| 5000/5000 [00:00<00:00, 7081.33it/s]\n",
      "100%|██████████| 5000/5000 [00:01<00:00, 4897.56it/s]\n"
     ]
    },
    {
     "name": "stdout",
     "output_type": "stream",
     "text": [
      "2.10746630097\n",
      "1.94923908845\n",
      "2.09349921701\n",
      "2.52106739324\n",
      "1.24301322258\n",
      "1.73350440306\n",
      "go 38 41 384 395\n"
     ]
    },
    {
     "name": "stderr",
     "output_type": "stream",
     "text": [
      "100%|██████████| 5000/5000 [00:00<00:00, 13900.16it/s]\n",
      "100%|██████████| 5000/5000 [00:00<00:00, 13527.95it/s]\n",
      "100%|██████████| 5000/5000 [00:00<00:00, 6889.54it/s]\n",
      "100%|██████████| 5000/5000 [00:00<00:00, 7025.52it/s]\n",
      "100%|██████████| 5000/5000 [00:00<00:00, 6947.86it/s]\n",
      "100%|██████████| 5000/5000 [00:01<00:00, 4831.14it/s]\n"
     ]
    },
    {
     "name": "stdout",
     "output_type": "stream",
     "text": [
      "2.01273377436\n",
      "2.35901508947\n",
      "2.30431529521\n",
      "2.32677639724\n",
      "1.23469177278\n",
      "1.43920407381\n",
      "go 38 42 384 413\n"
     ]
    },
    {
     "name": "stderr",
     "output_type": "stream",
     "text": [
      "100%|██████████| 5000/5000 [00:00<00:00, 13897.19it/s]\n",
      "100%|██████████| 5000/5000 [00:00<00:00, 13804.49it/s]\n",
      "100%|██████████| 5000/5000 [00:00<00:00, 7078.74it/s]\n",
      "100%|██████████| 5000/5000 [00:00<00:00, 7072.57it/s]\n",
      "100%|██████████| 5000/5000 [00:00<00:00, 7164.38it/s]\n",
      "100%|██████████| 5000/5000 [00:01<00:00, 4802.95it/s]\n"
     ]
    },
    {
     "name": "stdout",
     "output_type": "stream",
     "text": [
      "2.55403175679\n",
      "2.96459450225\n",
      "2.46165206874\n",
      "2.22119702969\n",
      "2.27122447131\n",
      "2.35753696045\n",
      "391\n",
      "go 39 42 391 413\n"
     ]
    },
    {
     "name": "stderr",
     "output_type": "stream",
     "text": [
      "100%|██████████| 5000/5000 [00:00<00:00, 13740.49it/s]\n",
      "100%|██████████| 5000/5000 [00:00<00:00, 13774.07it/s]\n",
      "100%|██████████| 5000/5000 [00:00<00:00, 6917.34it/s]\n",
      "100%|██████████| 5000/5000 [00:00<00:00, 6973.11it/s]\n",
      "100%|██████████| 5000/5000 [00:00<00:00, 7047.25it/s]\n",
      "100%|██████████| 5000/5000 [00:01<00:00, 4683.85it/s]\n"
     ]
    },
    {
     "name": "stdout",
     "output_type": "stream",
     "text": [
      "2.68585743763\n",
      "2.68567992953\n",
      "2.23681546929\n",
      "2.41775342977\n",
      "2.41933344687\n",
      "2.42962236414\n",
      "go 39 43 391 416\n"
     ]
    },
    {
     "name": "stderr",
     "output_type": "stream",
     "text": [
      "100%|██████████| 5000/5000 [00:00<00:00, 13077.20it/s]\n",
      "100%|██████████| 5000/5000 [00:00<00:00, 12522.88it/s]\n",
      "100%|██████████| 5000/5000 [00:00<00:00, 6600.55it/s]\n",
      "100%|██████████| 5000/5000 [00:00<00:00, 6964.95it/s]\n",
      "100%|██████████| 5000/5000 [00:00<00:00, 7170.69it/s]\n",
      "100%|██████████| 5000/5000 [00:01<00:00, 4794.28it/s]\n"
     ]
    },
    {
     "name": "stdout",
     "output_type": "stream",
     "text": [
      "2.61223185937\n",
      "2.60917068659\n",
      "2.27813999567\n",
      "2.5129279319\n",
      "2.51274192325\n",
      "2.43739547537\n",
      "392\n",
      "go 40 42 392 413\n"
     ]
    },
    {
     "name": "stderr",
     "output_type": "stream",
     "text": [
      "100%|██████████| 5000/5000 [00:00<00:00, 13110.42it/s]\n",
      "100%|██████████| 5000/5000 [00:00<00:00, 12971.18it/s]\n",
      "100%|██████████| 5000/5000 [00:00<00:00, 7165.80it/s]\n",
      "100%|██████████| 5000/5000 [00:00<00:00, 6805.28it/s]\n",
      "100%|██████████| 5000/5000 [00:00<00:00, 6901.78it/s]\n",
      "100%|██████████| 5000/5000 [00:01<00:00, 4786.36it/s]\n"
     ]
    },
    {
     "name": "stdout",
     "output_type": "stream",
     "text": [
      "2.70763224388\n",
      "2.71077335848\n",
      "2.20835580784\n",
      "2.48880724886\n",
      "2.48695347526\n",
      "2.42024666569\n",
      "go 40 43 392 416\n"
     ]
    },
    {
     "name": "stderr",
     "output_type": "stream",
     "text": [
      "100%|██████████| 5000/5000 [00:00<00:00, 13674.09it/s]\n",
      "100%|██████████| 5000/5000 [00:00<00:00, 13013.31it/s]\n",
      "100%|██████████| 5000/5000 [00:00<00:00, 6970.67it/s]\n",
      "100%|██████████| 5000/5000 [00:00<00:00, 6967.63it/s]\n",
      "100%|██████████| 5000/5000 [00:00<00:00, 6741.84it/s]\n",
      "100%|██████████| 5000/5000 [00:01<00:00, 4786.86it/s]\n"
     ]
    },
    {
     "name": "stdout",
     "output_type": "stream",
     "text": [
      "2.63648559771\n",
      "2.63362667626\n",
      "2.263190536\n",
      "2.55864582127\n",
      "2.55645013712\n",
      "2.41140289556\n",
      "395\n",
      "go 41 42 395 413\n"
     ]
    },
    {
     "name": "stderr",
     "output_type": "stream",
     "text": [
      "100%|██████████| 5000/5000 [00:00<00:00, 13585.88it/s]\n",
      "100%|██████████| 5000/5000 [00:00<00:00, 13653.52it/s]\n",
      "100%|██████████| 5000/5000 [00:00<00:00, 6938.39it/s]\n",
      "100%|██████████| 5000/5000 [00:00<00:00, 6945.56it/s]\n",
      "100%|██████████| 5000/5000 [00:00<00:00, 6725.10it/s]\n",
      "100%|██████████| 5000/5000 [00:01<00:00, 4782.36it/s]\n"
     ]
    },
    {
     "name": "stdout",
     "output_type": "stream",
     "text": [
      "2.78904296294\n",
      "2.22941197514\n",
      "2.2551268392\n",
      "2.68990625488\n",
      "2.3761902629\n",
      "2.47089345881\n",
      "go 41 43 395 416\n"
     ]
    },
    {
     "name": "stderr",
     "output_type": "stream",
     "text": [
      "100%|██████████| 5000/5000 [00:00<00:00, 12975.09it/s]\n",
      "100%|██████████| 5000/5000 [00:00<00:00, 12621.39it/s]\n",
      "100%|██████████| 5000/5000 [00:00<00:00, 6680.65it/s]\n",
      "100%|██████████| 5000/5000 [00:00<00:00, 6927.81it/s]\n",
      "100%|██████████| 5000/5000 [00:00<00:00, 6739.62it/s]\n",
      "100%|██████████| 5000/5000 [00:01<00:00, 4771.69it/s]\n"
     ]
    },
    {
     "name": "stdout",
     "output_type": "stream",
     "text": [
      "2.69759018864\n",
      "2.20889969383\n",
      "2.33439356899\n",
      "2.7037867612\n",
      "2.38820165832\n",
      "2.38040090817\n",
      "go 41 44 395 417\n"
     ]
    },
    {
     "name": "stderr",
     "output_type": "stream",
     "text": [
      "100%|██████████| 5000/5000 [00:00<00:00, 13643.20it/s]\n",
      "100%|██████████| 5000/5000 [00:00<00:00, 13742.68it/s]\n",
      "100%|██████████| 5000/5000 [00:00<00:00, 7049.90it/s]\n",
      "100%|██████████| 5000/5000 [00:00<00:00, 6895.90it/s]\n",
      "100%|██████████| 5000/5000 [00:00<00:00, 6922.71it/s]\n",
      "100%|██████████| 5000/5000 [00:01<00:00, 4744.66it/s]\n"
     ]
    },
    {
     "name": "stdout",
     "output_type": "stream",
     "text": [
      "2.67028406876\n",
      "2.20605667988\n",
      "2.34359659845\n",
      "2.69449875317\n",
      "2.37494703626\n",
      "2.35091315871\n",
      "go 41 45 395 435\n"
     ]
    },
    {
     "name": "stderr",
     "output_type": "stream",
     "text": [
      "100%|██████████| 5000/5000 [00:00<00:00, 13548.93it/s]\n",
      "100%|██████████| 5000/5000 [00:00<00:00, 13410.32it/s]\n",
      "100%|██████████| 5000/5000 [00:00<00:00, 6537.25it/s]\n",
      "100%|██████████| 5000/5000 [00:00<00:00, 7000.44it/s]\n",
      "100%|██████████| 5000/5000 [00:00<00:00, 6811.00it/s]\n",
      "100%|██████████| 5000/5000 [00:01<00:00, 4846.64it/s]\n"
     ]
    },
    {
     "name": "stdout",
     "output_type": "stream",
     "text": [
      "2.59519634941\n",
      "2.74368562335\n",
      "2.6876049923\n",
      "2.62610517866\n",
      "2.37457058249\n",
      "2.34465496818\n",
      "413\n",
      "go 42 45 413 435\n"
     ]
    },
    {
     "name": "stderr",
     "output_type": "stream",
     "text": [
      "100%|██████████| 5000/5000 [00:00<00:00, 13518.81it/s]\n",
      "100%|██████████| 5000/5000 [00:00<00:00, 13359.70it/s]\n",
      "100%|██████████| 5000/5000 [00:00<00:00, 6952.82it/s]\n",
      "100%|██████████| 5000/5000 [00:00<00:00, 6950.04it/s]\n",
      "100%|██████████| 5000/5000 [00:00<00:00, 6958.34it/s]\n",
      "100%|██████████| 5000/5000 [00:01<00:00, 4713.14it/s]\n"
     ]
    },
    {
     "name": "stdout",
     "output_type": "stream",
     "text": [
      "2.50712023721\n",
      "2.505321005\n",
      "2.10861325523\n",
      "2.33399986224\n",
      "2.33142610815\n",
      "2.30637499924\n",
      "go 42 46 413 436\n"
     ]
    },
    {
     "name": "stderr",
     "output_type": "stream",
     "text": [
      "100%|██████████| 5000/5000 [00:00<00:00, 13499.10it/s]\n",
      "100%|██████████| 5000/5000 [00:00<00:00, 13402.77it/s]\n",
      "100%|██████████| 5000/5000 [00:00<00:00, 6994.21it/s]\n",
      "100%|██████████| 5000/5000 [00:00<00:00, 6632.09it/s]\n",
      "100%|██████████| 5000/5000 [00:00<00:00, 6735.34it/s]\n",
      "100%|██████████| 5000/5000 [00:01<00:00, 4644.54it/s]\n"
     ]
    },
    {
     "name": "stdout",
     "output_type": "stream",
     "text": [
      "2.48288503025\n",
      "2.48720676739\n",
      "2.11846736305\n",
      "2.36574531866\n",
      "2.35950595829\n",
      "2.31410523003\n",
      "416\n",
      "go 43 45 416 435\n"
     ]
    },
    {
     "name": "stderr",
     "output_type": "stream",
     "text": [
      "100%|██████████| 5000/5000 [00:00<00:00, 12512.71it/s]\n",
      "100%|██████████| 5000/5000 [00:00<00:00, 13258.73it/s]\n",
      "100%|██████████| 5000/5000 [00:00<00:00, 7100.70it/s]\n",
      "100%|██████████| 5000/5000 [00:00<00:00, 7031.16it/s]\n",
      "100%|██████████| 5000/5000 [00:00<00:00, 6891.40it/s]\n",
      "100%|██████████| 5000/5000 [00:01<00:00, 4905.29it/s]\n"
     ]
    },
    {
     "name": "stdout",
     "output_type": "stream",
     "text": [
      "2.5922744518\n",
      "2.59467338082\n",
      "2.0149680727\n",
      "2.54237010512\n",
      "2.54170331159\n",
      "2.08631731748\n",
      "go 43 46 416 436\n"
     ]
    },
    {
     "name": "stderr",
     "output_type": "stream",
     "text": [
      "100%|██████████| 5000/5000 [00:00<00:00, 13867.82it/s]\n",
      "100%|██████████| 5000/5000 [00:00<00:00, 13706.06it/s]\n",
      "100%|██████████| 5000/5000 [00:00<00:00, 7099.13it/s]\n",
      "100%|██████████| 5000/5000 [00:00<00:00, 7126.09it/s]\n",
      "100%|██████████| 5000/5000 [00:00<00:00, 7203.69it/s]\n",
      "100%|██████████| 5000/5000 [00:01<00:00, 4933.96it/s]\n"
     ]
    },
    {
     "name": "stdout",
     "output_type": "stream",
     "text": [
      "2.5617380955\n",
      "2.56204999407\n",
      "2.05854550868\n",
      "2.54320752046\n",
      "2.55110523684\n",
      "2.06200842184\n",
      "417\n",
      "go 44 45 417 435\n"
     ]
    },
    {
     "name": "stderr",
     "output_type": "stream",
     "text": [
      "100%|██████████| 5000/5000 [00:00<00:00, 13952.84it/s]\n",
      "100%|██████████| 5000/5000 [00:00<00:00, 13973.04it/s]\n",
      "100%|██████████| 5000/5000 [00:00<00:00, 7178.40it/s]\n",
      "100%|██████████| 5000/5000 [00:00<00:00, 7149.00it/s]\n",
      "100%|██████████| 5000/5000 [00:00<00:00, 7271.30it/s]\n",
      "100%|██████████| 5000/5000 [00:01<00:00, 4994.70it/s]\n"
     ]
    },
    {
     "name": "stdout",
     "output_type": "stream",
     "text": [
      "2.62280062896\n",
      "2.62611396784\n",
      "1.93366372594\n",
      "2.62089876627\n",
      "2.6233409086\n",
      "1.43977305705\n",
      "go 44 46 417 436\n"
     ]
    },
    {
     "name": "stderr",
     "output_type": "stream",
     "text": [
      "100%|██████████| 5000/5000 [00:00<00:00, 13752.47it/s]\n",
      "100%|██████████| 5000/5000 [00:00<00:00, 13793.44it/s]\n",
      "100%|██████████| 5000/5000 [00:00<00:00, 7207.91it/s]\n",
      "100%|██████████| 5000/5000 [00:00<00:00, 7146.13it/s]\n",
      "100%|██████████| 5000/5000 [00:00<00:00, 7202.42it/s]\n",
      "100%|██████████| 5000/5000 [00:01<00:00, 4997.45it/s]\n"
     ]
    },
    {
     "name": "stdout",
     "output_type": "stream",
     "text": [
      "2.59395587026\n",
      "2.59543230755\n",
      "2.02409218095\n",
      "2.61742833637\n",
      "2.61008983501\n",
      "1.43261314105\n",
      "go 44 47 417 444\n"
     ]
    },
    {
     "name": "stderr",
     "output_type": "stream",
     "text": [
      "100%|██████████| 5000/5000 [00:00<00:00, 13641.41it/s]\n",
      "100%|██████████| 5000/5000 [00:00<00:00, 13592.49it/s]\n",
      "100%|██████████| 5000/5000 [00:00<00:00, 7145.87it/s]\n",
      "100%|██████████| 5000/5000 [00:00<00:00, 7051.91it/s]\n",
      "100%|██████████| 5000/5000 [00:00<00:00, 7037.64it/s]\n",
      "100%|██████████| 5000/5000 [00:01<00:00, 4839.24it/s]\n"
     ]
    },
    {
     "name": "stdout",
     "output_type": "stream",
     "text": [
      "2.5073875384\n",
      "2.51321660774\n",
      "2.55515250233\n",
      "2.64764729876\n",
      "2.64439108178\n",
      "1.56907403556\n",
      "435\n",
      "go 45 47 435 444\n"
     ]
    },
    {
     "name": "stderr",
     "output_type": "stream",
     "text": [
      "100%|██████████| 5000/5000 [00:00<00:00, 13643.01it/s]\n",
      "100%|██████████| 5000/5000 [00:00<00:00, 13787.63it/s]\n",
      "100%|██████████| 5000/5000 [00:00<00:00, 6962.36it/s]\n",
      "100%|██████████| 5000/5000 [00:00<00:00, 6942.69it/s]\n",
      "100%|██████████| 5000/5000 [00:00<00:00, 7005.81it/s]\n",
      "100%|██████████| 5000/5000 [00:01<00:00, 4848.63it/s]\n"
     ]
    },
    {
     "name": "stdout",
     "output_type": "stream",
     "text": [
      "2.50283624186\n",
      "2.797389668\n",
      "2.35780395821\n",
      "1.65867291128\n",
      "2.05288304964\n",
      "2.15699792725\n",
      "go 45 48 435 452\n"
     ]
    },
    {
     "name": "stderr",
     "output_type": "stream",
     "text": [
      "100%|██████████| 5000/5000 [00:00<00:00, 13109.26it/s]\n",
      "100%|██████████| 5000/5000 [00:00<00:00, 13523.61it/s]\n",
      "100%|██████████| 5000/5000 [00:00<00:00, 6563.23it/s]\n",
      "100%|██████████| 5000/5000 [00:00<00:00, 6677.05it/s]\n",
      "100%|██████████| 5000/5000 [00:00<00:00, 7073.85it/s]\n",
      "100%|██████████| 5000/5000 [00:01<00:00, 4836.11it/s]\n"
     ]
    },
    {
     "name": "stdout",
     "output_type": "stream",
     "text": [
      "2.72248396167\n",
      "2.96213416975\n",
      "2.21079751496\n",
      "1.91595140569\n",
      "2.16010798135\n",
      "2.06769638738\n",
      "436\n",
      "go 46 47 436 444\n"
     ]
    },
    {
     "name": "stderr",
     "output_type": "stream",
     "text": [
      "100%|██████████| 5000/5000 [00:00<00:00, 13373.31it/s]\n",
      "100%|██████████| 5000/5000 [00:00<00:00, 13291.37it/s]\n",
      "100%|██████████| 5000/5000 [00:00<00:00, 6956.61it/s]\n",
      "100%|██████████| 5000/5000 [00:00<00:00, 6629.36it/s]\n",
      "100%|██████████| 5000/5000 [00:00<00:00, 6982.34it/s]\n",
      "100%|██████████| 5000/5000 [00:01<00:00, 4715.58it/s]\n"
     ]
    },
    {
     "name": "stdout",
     "output_type": "stream",
     "text": [
      "2.58852340806\n",
      "2.58514470335\n",
      "2.36817172007\n",
      "1.96099548967\n",
      "1.97518619791\n",
      "2.39173926499\n",
      "go 46 48 436 452\n"
     ]
    },
    {
     "name": "stderr",
     "output_type": "stream",
     "text": [
      "100%|██████████| 5000/5000 [00:00<00:00, 13535.35it/s]\n",
      "100%|██████████| 5000/5000 [00:00<00:00, 13571.10it/s]\n",
      "100%|██████████| 5000/5000 [00:00<00:00, 6892.58it/s]\n",
      "100%|██████████| 5000/5000 [00:00<00:00, 6723.29it/s]\n",
      "100%|██████████| 5000/5000 [00:00<00:00, 6975.59it/s]\n",
      "100%|██████████| 5000/5000 [00:01<00:00, 4726.42it/s]\n"
     ]
    },
    {
     "name": "stdout",
     "output_type": "stream",
     "text": [
      "2.75742530169\n",
      "2.76011559586\n",
      "2.13612910245\n",
      "2.05644775806\n",
      "2.05417841483\n",
      "2.08959938124\n",
      "444\n",
      "go 47 48 444 452\n"
     ]
    },
    {
     "name": "stderr",
     "output_type": "stream",
     "text": [
      "100%|██████████| 5000/5000 [00:00<00:00, 12802.99it/s]\n",
      "100%|██████████| 5000/5000 [00:00<00:00, 12960.02it/s]\n",
      "100%|██████████| 5000/5000 [00:00<00:00, 6816.74it/s]\n",
      "100%|██████████| 5000/5000 [00:00<00:00, 6837.01it/s]\n",
      "100%|██████████| 5000/5000 [00:00<00:00, 6778.67it/s]\n",
      "100%|██████████| 5000/5000 [00:01<00:00, 4718.97it/s]\n"
     ]
    },
    {
     "name": "stdout",
     "output_type": "stream",
     "text": [
      "3.07772556923\n",
      "2.0803774636\n",
      "2.20668947432\n",
      "3.13388895432\n",
      "2.41665240151\n",
      "2.68252837949\n",
      "go 47 49 444 455\n"
     ]
    },
    {
     "name": "stderr",
     "output_type": "stream",
     "text": [
      "100%|██████████| 5000/5000 [00:00<00:00, 13763.33it/s]\n",
      "100%|██████████| 5000/5000 [00:00<00:00, 13557.12it/s]\n",
      "100%|██████████| 5000/5000 [00:00<00:00, 6932.25it/s]\n",
      "100%|██████████| 5000/5000 [00:00<00:00, 7006.08it/s]\n",
      "100%|██████████| 5000/5000 [00:00<00:00, 6802.73it/s]\n",
      "100%|██████████| 5000/5000 [00:01<00:00, 4609.88it/s]\n"
     ]
    },
    {
     "name": "stdout",
     "output_type": "stream",
     "text": [
      "2.86090011689\n",
      "2.32179645737\n",
      "2.66421623201\n",
      "3.08052818474\n",
      "2.54877937564\n",
      "2.61152091838\n",
      "452\n",
      "go 48 51 452 468\n"
     ]
    },
    {
     "name": "stderr",
     "output_type": "stream",
     "text": [
      "100%|██████████| 5000/5000 [00:00<00:00, 13844.97it/s]\n",
      "100%|██████████| 5000/5000 [00:00<00:00, 13832.79it/s]\n",
      "100%|██████████| 5000/5000 [00:00<00:00, 6860.71it/s]\n",
      "100%|██████████| 5000/5000 [00:00<00:00, 7015.35it/s]\n",
      "100%|██████████| 5000/5000 [00:00<00:00, 6764.55it/s]\n",
      "100%|██████████| 5000/5000 [00:01<00:00, 4884.14it/s]\n"
     ]
    },
    {
     "name": "stdout",
     "output_type": "stream",
     "text": [
      "-331.539382708\n",
      "2.27637970914\n",
      "-39.5672177915\n",
      "-37.4319963036\n",
      "1.89946458185\n",
      "-26.9549331702\n",
      "go 48 52 452 469\n"
     ]
    },
    {
     "name": "stderr",
     "output_type": "stream",
     "text": [
      "100%|██████████| 5000/5000 [00:00<00:00, 14173.02it/s]\n",
      "100%|██████████| 5000/5000 [00:00<00:00, 14360.72it/s]\n",
      "100%|██████████| 5000/5000 [00:00<00:00, 7862.23it/s]\n",
      "100%|██████████| 5000/5000 [00:00<00:00, 7266.67it/s]\n",
      "100%|██████████| 5000/5000 [00:00<00:00, 6953.36it/s]\n",
      "100%|██████████| 5000/5000 [00:01<00:00, 4889.11it/s]\n"
     ]
    },
    {
     "name": "stdout",
     "output_type": "stream",
     "text": [
      "-332.877653782\n",
      "2.27215105642\n",
      "-43.8658991236\n",
      "-332.674283669\n",
      "1.87203848748\n",
      "-33.2431128844\n",
      "go 48 53 452 482\n"
     ]
    },
    {
     "name": "stderr",
     "output_type": "stream",
     "text": [
      "100%|██████████| 5000/5000 [00:00<00:00, 13339.31it/s]\n",
      "100%|██████████| 5000/5000 [00:00<00:00, 13405.15it/s]\n",
      "100%|██████████| 5000/5000 [00:00<00:00, 6967.38it/s]\n",
      "100%|██████████| 5000/5000 [00:00<00:00, 6815.63it/s]\n",
      "100%|██████████| 5000/5000 [00:00<00:00, 6798.50it/s]\n",
      "100%|██████████| 5000/5000 [00:01<00:00, 4735.48it/s]\n"
     ]
    },
    {
     "name": "stdout",
     "output_type": "stream",
     "text": [
      "2.29734566821\n",
      "2.82747384336\n",
      "2.15815181646\n",
      "1.77292295139\n",
      "1.85201569448\n",
      "1.85878438069\n",
      "455\n",
      "go 49 51 455 468\n"
     ]
    },
    {
     "name": "stderr",
     "output_type": "stream",
     "text": [
      "100%|██████████| 5000/5000 [00:00<00:00, 14060.91it/s]\n",
      "100%|██████████| 5000/5000 [00:00<00:00, 14083.00it/s]\n",
      "100%|██████████| 5000/5000 [00:00<00:00, 7723.64it/s]\n",
      "100%|██████████| 5000/5000 [00:00<00:00, 7171.36it/s]\n",
      "100%|██████████| 5000/5000 [00:00<00:00, 7354.89it/s]\n",
      "100%|██████████| 5000/5000 [00:01<00:00, 4954.20it/s]\n"
     ]
    },
    {
     "name": "stdout",
     "output_type": "stream",
     "text": [
      "-326.377995918\n",
      "-326.381133301\n",
      "-45.1635610671\n",
      "-41.2676237138\n",
      "-326.143214308\n",
      "-29.6509371446\n",
      "go 49 52 455 469\n"
     ]
    },
    {
     "name": "stderr",
     "output_type": "stream",
     "text": [
      "100%|██████████| 5000/5000 [00:00<00:00, 14272.18it/s]\n",
      "100%|██████████| 5000/5000 [00:00<00:00, 14474.71it/s]\n",
      "100%|██████████| 5000/5000 [00:00<00:00, 7699.88it/s]\n",
      "100%|██████████| 5000/5000 [00:00<00:00, 7161.01it/s]\n",
      "100%|██████████| 5000/5000 [00:00<00:00, 7323.85it/s]\n",
      "100%|██████████| 5000/5000 [00:00<00:00, 5083.19it/s]\n"
     ]
    },
    {
     "name": "stdout",
     "output_type": "stream",
     "text": [
      "-328.360253757\n",
      "-328.352086983\n",
      "-328.130389771\n",
      "-44.1077173301\n",
      "-328.125921909\n",
      "-27.2423634542\n",
      "go 49 53 455 482\n"
     ]
    },
    {
     "name": "stderr",
     "output_type": "stream",
     "text": [
      "100%|██████████| 5000/5000 [00:00<00:00, 13269.67it/s]\n",
      "100%|██████████| 5000/5000 [00:00<00:00, 13558.26it/s]\n",
      "100%|██████████| 5000/5000 [00:00<00:00, 6841.47it/s]\n",
      "100%|██████████| 5000/5000 [00:00<00:00, 6850.78it/s]\n",
      "100%|██████████| 5000/5000 [00:00<00:00, 6953.35it/s]\n",
      "100%|██████████| 5000/5000 [00:01<00:00, 4754.09it/s]\n"
     ]
    },
    {
     "name": "stdout",
     "output_type": "stream",
     "text": [
      "2.35711920615\n",
      "2.35782797325\n",
      "2.20370656119\n",
      "1.79676313077\n",
      "1.78870851251\n",
      "1.92184192058\n",
      "456\n",
      "go 50 51 456 468\n"
     ]
    },
    {
     "name": "stderr",
     "output_type": "stream",
     "text": [
      "100%|██████████| 5000/5000 [00:00<00:00, 13917.49it/s]\n",
      "100%|██████████| 5000/5000 [00:00<00:00, 14495.82it/s]\n",
      "100%|██████████| 5000/5000 [00:00<00:00, 7657.70it/s]\n",
      "100%|██████████| 5000/5000 [00:00<00:00, 6996.34it/s]\n",
      "100%|██████████| 5000/5000 [00:00<00:00, 6994.77it/s]\n",
      "100%|██████████| 5000/5000 [00:00<00:00, 5053.89it/s]\n"
     ]
    },
    {
     "name": "stdout",
     "output_type": "stream",
     "text": [
      "-324.094692869\n",
      "-324.089642597\n",
      "-45.1718695617\n",
      "-40.67836465\n",
      "-39.655160003\n",
      "-26.0331770331\n",
      "go 50 52 456 469\n"
     ]
    },
    {
     "name": "stderr",
     "output_type": "stream",
     "text": [
      "100%|██████████| 5000/5000 [00:00<00:00, 14168.44it/s]\n",
      "100%|██████████| 5000/5000 [00:00<00:00, 14730.19it/s]\n",
      "100%|██████████| 5000/5000 [00:00<00:00, 8008.78it/s]\n",
      "100%|██████████| 5000/5000 [00:00<00:00, 7269.39it/s]\n",
      "100%|██████████| 5000/5000 [00:00<00:00, 7203.05it/s]\n",
      "100%|██████████| 5000/5000 [00:01<00:00, 4999.57it/s]\n"
     ]
    },
    {
     "name": "stdout",
     "output_type": "stream",
     "text": [
      "-326.384183977\n",
      "-326.394402026\n",
      "-39.0938743579\n",
      "-326.135567776\n",
      "-43.4127275348\n",
      "-28.723745334\n",
      "go 50 53 456 482\n"
     ]
    },
    {
     "name": "stderr",
     "output_type": "stream",
     "text": [
      "100%|██████████| 5000/5000 [00:00<00:00, 13610.33it/s]\n",
      "100%|██████████| 5000/5000 [00:00<00:00, 13390.29it/s]\n",
      "100%|██████████| 5000/5000 [00:00<00:00, 6860.24it/s]\n",
      "100%|██████████| 5000/5000 [00:00<00:00, 6918.33it/s]\n",
      "100%|██████████| 5000/5000 [00:00<00:00, 6847.49it/s]\n",
      "100%|██████████| 5000/5000 [00:01<00:00, 4697.35it/s]\n"
     ]
    },
    {
     "name": "stdout",
     "output_type": "stream",
     "text": [
      "2.37815742393\n",
      "2.37822105053\n",
      "2.20324139192\n",
      "1.80323628558\n",
      "1.80835873237\n",
      "1.94485140997\n",
      "468\n",
      "go 51 53 468 482\n"
     ]
    },
    {
     "name": "stderr",
     "output_type": "stream",
     "text": [
      "100%|██████████| 5000/5000 [00:00<00:00, 13361.83it/s]\n",
      "100%|██████████| 5000/5000 [00:00<00:00, 13381.01it/s]\n",
      "100%|██████████| 5000/5000 [00:00<00:00, 6863.05it/s]\n",
      "100%|██████████| 5000/5000 [00:00<00:00, 6795.06it/s]\n",
      "100%|██████████| 5000/5000 [00:00<00:00, 6775.24it/s]\n",
      "100%|██████████| 5000/5000 [00:01<00:00, 4650.98it/s]\n"
     ]
    },
    {
     "name": "stdout",
     "output_type": "stream",
     "text": [
      "2.74868588531\n",
      "2.75040196889\n",
      "1.94665078189\n",
      "2.55311070794\n",
      "2.53782956312\n",
      "2.29048268543\n",
      "go 51 54 468 485\n"
     ]
    },
    {
     "name": "stderr",
     "output_type": "stream",
     "text": [
      "100%|██████████| 5000/5000 [00:00<00:00, 13559.43it/s]\n",
      "100%|██████████| 5000/5000 [00:00<00:00, 13190.17it/s]\n",
      "100%|██████████| 5000/5000 [00:00<00:00, 6828.12it/s]\n",
      "100%|██████████| 5000/5000 [00:00<00:00, 6937.90it/s]\n",
      "100%|██████████| 5000/5000 [00:00<00:00, 6925.61it/s]\n",
      "100%|██████████| 5000/5000 [00:01<00:00, 4875.89it/s]\n"
     ]
    },
    {
     "name": "stdout",
     "output_type": "stream",
     "text": [
      "2.66255146209\n",
      "2.66575828455\n",
      "1.85060874976\n",
      "2.4985847312\n",
      "2.48881350136\n",
      "2.07277432815\n",
      "go 51 55 468 493\n"
     ]
    },
    {
     "name": "stderr",
     "output_type": "stream",
     "text": [
      "100%|██████████| 5000/5000 [00:00<00:00, 13646.10it/s]\n",
      "100%|██████████| 5000/5000 [00:00<00:00, 13299.11it/s]\n",
      "100%|██████████| 5000/5000 [00:00<00:00, 6779.91it/s]\n",
      "100%|██████████| 5000/5000 [00:00<00:00, 6991.30it/s]\n",
      "100%|██████████| 5000/5000 [00:00<00:00, 6915.25it/s]\n",
      "100%|██████████| 5000/5000 [00:01<00:00, 4765.69it/s]\n"
     ]
    },
    {
     "name": "stdout",
     "output_type": "stream",
     "text": [
      "2.50618775941\n",
      "2.50422801836\n",
      "1.76056339613\n",
      "2.37247160936\n",
      "2.37506031794\n",
      "1.71875903514\n",
      "go 51 56 468 494\n"
     ]
    },
    {
     "name": "stderr",
     "output_type": "stream",
     "text": [
      "100%|██████████| 5000/5000 [00:00<00:00, 13551.28it/s]\n",
      "100%|██████████| 5000/5000 [00:00<00:00, 13382.55it/s]\n",
      "100%|██████████| 5000/5000 [00:00<00:00, 6844.37it/s]\n",
      "100%|██████████| 5000/5000 [00:00<00:00, 7046.89it/s]\n",
      "100%|██████████| 5000/5000 [00:00<00:00, 6950.45it/s]\n",
      "100%|██████████| 5000/5000 [00:01<00:00, 4776.28it/s]\n"
     ]
    },
    {
     "name": "stdout",
     "output_type": "stream",
     "text": [
      "2.48435656743\n",
      "2.48059413635\n",
      "1.82726093244\n",
      "2.38635161088\n",
      "2.38653969945\n",
      "1.72172317775\n",
      "469\n",
      "go 52 53 469 482\n"
     ]
    },
    {
     "name": "stderr",
     "output_type": "stream",
     "text": [
      "100%|██████████| 5000/5000 [00:00<00:00, 13381.68it/s]\n",
      "100%|██████████| 5000/5000 [00:00<00:00, 13250.96it/s]\n",
      "100%|██████████| 5000/5000 [00:00<00:00, 7046.44it/s]\n",
      "100%|██████████| 5000/5000 [00:00<00:00, 6757.92it/s]\n",
      "100%|██████████| 5000/5000 [00:00<00:00, 6763.54it/s]\n",
      "100%|██████████| 5000/5000 [00:01<00:00, 4787.58it/s]\n"
     ]
    },
    {
     "name": "stdout",
     "output_type": "stream",
     "text": [
      "2.79719897111\n",
      "2.79871471786\n",
      "1.51176003237\n",
      "2.6988770514\n",
      "2.69144904845\n",
      "1.34807989148\n",
      "go 52 54 469 485\n"
     ]
    },
    {
     "name": "stderr",
     "output_type": "stream",
     "text": [
      "100%|██████████| 5000/5000 [00:00<00:00, 13037.81it/s]\n",
      "100%|██████████| 5000/5000 [00:00<00:00, 13637.43it/s]\n",
      "100%|██████████| 5000/5000 [00:00<00:00, 7078.71it/s]\n",
      "100%|██████████| 5000/5000 [00:00<00:00, 7061.98it/s]\n",
      "100%|██████████| 5000/5000 [00:00<00:00, 6956.96it/s]\n",
      "100%|██████████| 5000/5000 [00:01<00:00, 4860.87it/s]\n"
     ]
    },
    {
     "name": "stdout",
     "output_type": "stream",
     "text": [
      "2.70003804651\n",
      "2.70448497879\n",
      "1.58765341538\n",
      "2.59439124107\n",
      "2.59940241079\n",
      "1.11370851931\n",
      "go 52 55 469 493\n"
     ]
    },
    {
     "name": "stderr",
     "output_type": "stream",
     "text": [
      "100%|██████████| 5000/5000 [00:00<00:00, 13658.18it/s]\n",
      "100%|██████████| 5000/5000 [00:00<00:00, 13210.63it/s]\n",
      "100%|██████████| 5000/5000 [00:00<00:00, 6905.31it/s]\n",
      "100%|██████████| 5000/5000 [00:00<00:00, 6950.51it/s]\n",
      "100%|██████████| 5000/5000 [00:00<00:00, 6984.96it/s]\n",
      "100%|██████████| 5000/5000 [00:01<00:00, 4779.62it/s]\n"
     ]
    },
    {
     "name": "stdout",
     "output_type": "stream",
     "text": [
      "2.52861169741\n",
      "2.5272360001\n",
      "1.66673994706\n",
      "2.43893073846\n",
      "2.43522310549\n",
      "0.868483629066\n",
      "go 52 56 469 494\n"
     ]
    },
    {
     "name": "stderr",
     "output_type": "stream",
     "text": [
      "100%|██████████| 5000/5000 [00:00<00:00, 13801.94it/s]\n",
      "100%|██████████| 5000/5000 [00:00<00:00, 13612.08it/s]\n",
      "100%|██████████| 5000/5000 [00:00<00:00, 6901.01it/s]\n",
      "100%|██████████| 5000/5000 [00:00<00:00, 6994.07it/s]\n",
      "100%|██████████| 5000/5000 [00:00<00:00, 6931.94it/s]\n",
      "100%|██████████| 5000/5000 [00:01<00:00, 4772.38it/s]\n"
     ]
    },
    {
     "name": "stdout",
     "output_type": "stream",
     "text": [
      "2.50369211998\n",
      "2.50421056542\n",
      "1.76329564796\n",
      "2.44003261826\n",
      "2.44502515575\n",
      "0.949009763706\n",
      "482\n",
      "go 53 55 482 493\n"
     ]
    },
    {
     "name": "stderr",
     "output_type": "stream",
     "text": [
      "100%|██████████| 5000/5000 [00:00<00:00, 13536.74it/s]\n",
      "100%|██████████| 5000/5000 [00:00<00:00, 13593.60it/s]\n",
      "100%|██████████| 5000/5000 [00:00<00:00, 7013.36it/s]\n",
      "100%|██████████| 5000/5000 [00:00<00:00, 6926.31it/s]\n",
      "100%|██████████| 5000/5000 [00:00<00:00, 6917.12it/s]\n",
      "100%|██████████| 5000/5000 [00:01<00:00, 4751.46it/s]\n"
     ]
    },
    {
     "name": "stdout",
     "output_type": "stream",
     "text": [
      "2.24719302692\n",
      "1.98670768576\n",
      "1.3244250215\n",
      "2.24856677332\n",
      "1.46412254571\n",
      "1.43705907157\n",
      "go 53 56 482 494\n"
     ]
    },
    {
     "name": "stderr",
     "output_type": "stream",
     "text": [
      "100%|██████████| 5000/5000 [00:00<00:00, 13529.02it/s]\n",
      "100%|██████████| 5000/5000 [00:00<00:00, 12982.29it/s]\n",
      "100%|██████████| 5000/5000 [00:00<00:00, 6978.63it/s]\n",
      "100%|██████████| 5000/5000 [00:00<00:00, 6956.39it/s]\n",
      "100%|██████████| 5000/5000 [00:00<00:00, 6827.64it/s]\n",
      "100%|██████████| 5000/5000 [00:01<00:00, 4736.16it/s]\n"
     ]
    },
    {
     "name": "stdout",
     "output_type": "stream",
     "text": [
      "2.18770291892\n",
      "2.09644287795\n",
      "1.60025762674\n",
      "2.2797038276\n",
      "1.4165802148\n",
      "1.56871397758\n",
      "485\n",
      "go 54 55 485 493\n"
     ]
    },
    {
     "name": "stderr",
     "output_type": "stream",
     "text": [
      "100%|██████████| 5000/5000 [00:00<00:00, 13362.12it/s]\n",
      "100%|██████████| 5000/5000 [00:00<00:00, 13105.03it/s]\n",
      "100%|██████████| 5000/5000 [00:00<00:00, 6807.64it/s]\n",
      "100%|██████████| 5000/5000 [00:00<00:00, 6803.50it/s]\n",
      "100%|██████████| 5000/5000 [00:00<00:00, 6951.96it/s]\n",
      "100%|██████████| 5000/5000 [00:01<00:00, 4739.82it/s]\n"
     ]
    },
    {
     "name": "stdout",
     "output_type": "stream",
     "text": [
      "2.2844099126\n",
      "1.39135656803\n",
      "1.67289537305\n",
      "2.47868465867\n",
      "1.37279998093\n",
      "1.93466797589\n",
      "go 54 56 485 494\n"
     ]
    },
    {
     "name": "stderr",
     "output_type": "stream",
     "text": [
      "100%|██████████| 5000/5000 [00:00<00:00, 13422.42it/s]\n",
      "100%|██████████| 5000/5000 [00:00<00:00, 13646.85it/s]\n",
      "100%|██████████| 5000/5000 [00:00<00:00, 6821.13it/s]\n",
      "100%|██████████| 5000/5000 [00:00<00:00, 6942.56it/s]\n",
      "100%|██████████| 5000/5000 [00:00<00:00, 7070.04it/s]\n",
      "100%|██████████| 5000/5000 [00:01<00:00, 4771.75it/s]\n"
     ]
    },
    {
     "name": "stdout",
     "output_type": "stream",
     "text": [
      "2.20177179044\n",
      "1.66169633281\n",
      "1.86479870147\n",
      "2.45219600571\n",
      "1.45883998972\n",
      "1.91800819548\n",
      "493\n",
      "go 55 58 493 514\n"
     ]
    },
    {
     "name": "stderr",
     "output_type": "stream",
     "text": [
      "100%|██████████| 5000/5000 [00:00<00:00, 13887.77it/s]\n",
      "100%|██████████| 5000/5000 [00:00<00:00, 13462.79it/s]\n",
      "100%|██████████| 5000/5000 [00:00<00:00, 6708.62it/s]\n",
      "100%|██████████| 5000/5000 [00:00<00:00, 6878.38it/s]\n",
      "100%|██████████| 5000/5000 [00:00<00:00, 7035.68it/s]\n",
      "100%|██████████| 5000/5000 [00:01<00:00, 4645.29it/s]\n"
     ]
    },
    {
     "name": "stdout",
     "output_type": "stream",
     "text": [
      "2.72836202071\n",
      "2.95740834514\n",
      "2.18170976245\n",
      "1.63910613921\n",
      "1.93632266694\n",
      "1.75169458318\n",
      "go 55 59 493 518\n"
     ]
    },
    {
     "name": "stderr",
     "output_type": "stream",
     "text": [
      "100%|██████████| 5000/5000 [00:00<00:00, 13253.21it/s]\n",
      "100%|██████████| 5000/5000 [00:00<00:00, 12935.64it/s]\n",
      "100%|██████████| 5000/5000 [00:00<00:00, 6822.86it/s]\n",
      "100%|██████████| 5000/5000 [00:00<00:00, 5376.90it/s]\n",
      "100%|██████████| 5000/5000 [00:00<00:00, 6752.09it/s]\n",
      "100%|██████████| 5000/5000 [00:01<00:00, 4708.74it/s]\n"
     ]
    },
    {
     "name": "stdout",
     "output_type": "stream",
     "text": [
      "2.62288609531\n",
      "2.86594658674\n",
      "2.26139243615\n",
      "2.39686931142\n",
      "2.53298853815\n",
      "2.42987408862\n",
      "494\n",
      "go 56 58 494 514\n"
     ]
    },
    {
     "name": "stderr",
     "output_type": "stream",
     "text": [
      "100%|██████████| 5000/5000 [00:00<00:00, 13369.45it/s]\n",
      "100%|██████████| 5000/5000 [00:00<00:00, 12639.13it/s]\n",
      "100%|██████████| 5000/5000 [00:00<00:00, 6566.08it/s]\n",
      "100%|██████████| 5000/5000 [00:00<00:00, 6731.36it/s]\n",
      "100%|██████████| 5000/5000 [00:00<00:00, 6709.69it/s]\n",
      "100%|██████████| 5000/5000 [00:01<00:00, 4701.94it/s]\n"
     ]
    },
    {
     "name": "stdout",
     "output_type": "stream",
     "text": [
      "2.75751885917\n",
      "2.75438147978\n",
      "2.12123332714\n",
      "1.75763217415\n",
      "1.75692600791\n",
      "1.78616376727\n",
      "go 56 59 494 518\n"
     ]
    },
    {
     "name": "stderr",
     "output_type": "stream",
     "text": [
      "100%|██████████| 5000/5000 [00:00<00:00, 13127.98it/s]\n",
      "100%|██████████| 5000/5000 [00:00<00:00, 13469.72it/s]\n",
      "100%|██████████| 5000/5000 [00:00<00:00, 6710.42it/s]\n",
      "100%|██████████| 5000/5000 [00:00<00:00, 6806.93it/s]\n",
      "100%|██████████| 5000/5000 [00:00<00:00, 6575.49it/s]\n",
      "100%|██████████| 5000/5000 [00:01<00:00, 4681.02it/s]\n"
     ]
    },
    {
     "name": "stdout",
     "output_type": "stream",
     "text": [
      "2.64701045475\n",
      "2.65017344136\n",
      "2.25016622535\n",
      "2.44228973171\n",
      "2.44818515462\n",
      "2.43267546206\n",
      "495\n",
      "go 57 58 495 514\n"
     ]
    },
    {
     "name": "stderr",
     "output_type": "stream",
     "text": [
      "100%|██████████| 5000/5000 [00:00<00:00, 12900.80it/s]\n",
      "100%|██████████| 5000/5000 [00:00<00:00, 12845.44it/s]\n",
      "100%|██████████| 5000/5000 [00:00<00:00, 6464.03it/s]\n",
      "100%|██████████| 5000/5000 [00:00<00:00, 6877.48it/s]\n",
      "100%|██████████| 5000/5000 [00:00<00:00, 6832.07it/s]\n",
      "100%|██████████| 5000/5000 [00:01<00:00, 4700.35it/s]\n"
     ]
    },
    {
     "name": "stdout",
     "output_type": "stream",
     "text": [
      "2.78364710555\n",
      "2.78546878032\n",
      "2.03214537456\n",
      "1.89264410877\n",
      "1.89073672482\n",
      "1.77958611627\n",
      "go 57 59 495 518\n"
     ]
    },
    {
     "name": "stderr",
     "output_type": "stream",
     "text": [
      "100%|██████████| 5000/5000 [00:00<00:00, 12493.73it/s]\n",
      "100%|██████████| 5000/5000 [00:00<00:00, 13218.52it/s]\n",
      "100%|██████████| 5000/5000 [00:00<00:00, 6877.63it/s]\n",
      "100%|██████████| 5000/5000 [00:00<00:00, 6614.03it/s]\n",
      "100%|██████████| 5000/5000 [00:00<00:00, 6601.99it/s]\n",
      "100%|██████████| 5000/5000 [00:01<00:00, 4663.07it/s]\n"
     ]
    },
    {
     "name": "stdout",
     "output_type": "stream",
     "text": [
      "2.67098261076\n",
      "2.67223757526\n",
      "2.23681892511\n",
      "2.49915438655\n",
      "2.50269666376\n",
      "2.42545268844\n",
      "514\n",
      "go 58 60 514 526\n"
     ]
    },
    {
     "name": "stderr",
     "output_type": "stream",
     "text": [
      "100%|██████████| 5000/5000 [00:00<00:00, 14346.18it/s]\n",
      "100%|██████████| 5000/5000 [00:00<00:00, 13584.00it/s]\n",
      "100%|██████████| 5000/5000 [00:00<00:00, 7178.22it/s]\n",
      "100%|██████████| 5000/5000 [00:00<00:00, 6738.15it/s]\n",
      "100%|██████████| 5000/5000 [00:00<00:00, 6731.47it/s]\n",
      "100%|██████████| 5000/5000 [00:01<00:00, 4582.45it/s]\n"
     ]
    },
    {
     "name": "stdout",
     "output_type": "stream",
     "text": [
      "-324.085161329\n",
      "2.96974257154\n",
      "-41.20898809\n",
      "-323.817609628\n",
      "2.69275587506\n",
      "-24.9427698983\n",
      "go 58 61 514 532\n"
     ]
    },
    {
     "name": "stderr",
     "output_type": "stream",
     "text": [
      "100%|██████████| 5000/5000 [00:00<00:00, 13905.57it/s]\n",
      "100%|██████████| 5000/5000 [00:00<00:00, 13290.59it/s]\n",
      "100%|██████████| 5000/5000 [00:00<00:00, 7680.20it/s]\n",
      "100%|██████████| 5000/5000 [00:00<00:00, 7063.74it/s]\n",
      "100%|██████████| 5000/5000 [00:00<00:00, 7091.31it/s]\n",
      "100%|██████████| 5000/5000 [00:01<00:00, 4845.36it/s]\n"
     ]
    },
    {
     "name": "stdout",
     "output_type": "stream",
     "text": [
      "-334.050644897\n",
      "2.92022024281\n",
      "-44.6047756927\n",
      "-333.873193772\n",
      "2.5029729781\n",
      "-28.1135448438\n",
      "go 58 62 514 534\n"
     ]
    },
    {
     "name": "stderr",
     "output_type": "stream",
     "text": [
      "100%|██████████| 5000/5000 [00:00<00:00, 14031.07it/s]\n",
      "100%|██████████| 5000/5000 [00:00<00:00, 14411.14it/s]\n",
      "100%|██████████| 5000/5000 [00:00<00:00, 7396.99it/s]\n",
      "100%|██████████| 5000/5000 [00:00<00:00, 6914.68it/s]\n",
      "100%|██████████| 5000/5000 [00:00<00:00, 6872.70it/s]\n",
      "100%|██████████| 5000/5000 [00:01<00:00, 4945.04it/s]\n"
     ]
    },
    {
     "name": "stdout",
     "output_type": "stream",
     "text": [
      "-336.041694483\n",
      "2.90526925795\n",
      "-44.5849025781\n",
      "-47.7040809634\n",
      "2.46251909941\n",
      "-32.9610732824\n",
      "go 58 63 514 560\n"
     ]
    },
    {
     "name": "stderr",
     "output_type": "stream",
     "text": [
      "100%|██████████| 5000/5000 [00:00<00:00, 14585.81it/s]\n",
      "100%|██████████| 5000/5000 [00:00<00:00, 14338.43it/s]\n",
      "100%|██████████| 5000/5000 [00:00<00:00, 7880.77it/s]\n",
      "100%|██████████| 5000/5000 [00:00<00:00, 6926.90it/s]\n",
      "100%|██████████| 5000/5000 [00:00<00:00, 7041.71it/s]\n",
      "100%|██████████| 5000/5000 [00:01<00:00, 4880.79it/s]\n"
     ]
    },
    {
     "name": "stdout",
     "output_type": "stream",
     "text": [
      "-346.17757739\n",
      "2.84916118727\n",
      "-47.171716366\n",
      "-43.2569580301\n",
      "2.2646468127\n",
      "-24.0550074518\n",
      "go 58 64 514 561\n"
     ]
    },
    {
     "name": "stderr",
     "output_type": "stream",
     "text": [
      "100%|██████████| 5000/5000 [00:00<00:00, 14149.99it/s]\n",
      "100%|██████████| 5000/5000 [00:00<00:00, 14046.24it/s]\n",
      "100%|██████████| 5000/5000 [00:00<00:00, 7743.86it/s]\n",
      "100%|██████████| 5000/5000 [00:00<00:00, 7030.25it/s]\n",
      "100%|██████████| 5000/5000 [00:00<00:00, 6890.77it/s]\n",
      "100%|██████████| 5000/5000 [00:01<00:00, 4923.16it/s]\n"
     ]
    },
    {
     "name": "stdout",
     "output_type": "stream",
     "text": [
      "-346.342503258\n",
      "2.84760468446\n",
      "-44.8597780287\n",
      "-43.2311291012\n",
      "2.26244862248\n",
      "-30.5996828536\n",
      "go 58 65 514 564\n"
     ]
    },
    {
     "name": "stderr",
     "output_type": "stream",
     "text": [
      "100%|██████████| 5000/5000 [00:00<00:00, 13240.06it/s]\n",
      "100%|██████████| 5000/5000 [00:00<00:00, 13343.36it/s]\n",
      "100%|██████████| 5000/5000 [00:00<00:00, 6643.55it/s]\n",
      "100%|██████████| 5000/5000 [00:00<00:00, 6688.36it/s]\n",
      "100%|██████████| 5000/5000 [00:00<00:00, 6744.84it/s]\n",
      "100%|██████████| 5000/5000 [00:01<00:00, 4687.90it/s]\n"
     ]
    },
    {
     "name": "stdout",
     "output_type": "stream",
     "text": [
      "1.46479017461\n",
      "2.92854131704\n",
      "1.50915002633\n",
      "1.44754517095\n",
      "2.24606482865\n",
      "1.5076149941\n",
      "518\n",
      "go 59 60 518 526\n"
     ]
    },
    {
     "name": "stderr",
     "output_type": "stream",
     "text": [
      "100%|██████████| 5000/5000 [00:00<00:00, 14051.93it/s]\n",
      "100%|██████████| 5000/5000 [00:00<00:00, 14035.36it/s]\n",
      "100%|██████████| 5000/5000 [00:00<00:00, 7711.22it/s]\n",
      "100%|██████████| 5000/5000 [00:00<00:00, 7147.97it/s]\n",
      "100%|██████████| 5000/5000 [00:00<00:00, 7053.56it/s]\n",
      "100%|██████████| 5000/5000 [00:01<00:00, 4961.63it/s]\n"
     ]
    },
    {
     "name": "stdout",
     "output_type": "stream",
     "text": [
      "-309.133159547\n",
      "-309.148134118\n",
      "-36.4759259301\n",
      "-36.3557864823\n",
      "-308.73640336\n",
      "-26.2551111509\n",
      "go 59 61 518 532\n"
     ]
    },
    {
     "name": "stderr",
     "output_type": "stream",
     "text": [
      "100%|██████████| 5000/5000 [00:00<00:00, 14452.12it/s]\n",
      "100%|██████████| 5000/5000 [00:00<00:00, 14284.53it/s]\n",
      "100%|██████████| 5000/5000 [00:00<00:00, 7875.53it/s]\n",
      "100%|██████████| 5000/5000 [00:00<00:00, 7389.62it/s]\n",
      "100%|██████████| 5000/5000 [00:00<00:00, 7264.39it/s]\n",
      "100%|██████████| 5000/5000 [00:00<00:00, 5089.34it/s]\n"
     ]
    },
    {
     "name": "stdout",
     "output_type": "stream",
     "text": [
      "-328.36242012\n",
      "-328.365263184\n",
      "-42.8059396169\n",
      "-328.1277601\n",
      "-328.127089216\n",
      "-20.4237196603\n",
      "go 59 62 518 534\n"
     ]
    },
    {
     "name": "stderr",
     "output_type": "stream",
     "text": [
      "100%|██████████| 5000/5000 [00:00<00:00, 14773.75it/s]\n",
      "100%|██████████| 5000/5000 [00:00<00:00, 14405.32it/s]\n",
      "100%|██████████| 5000/5000 [00:00<00:00, 7946.26it/s]\n",
      "100%|██████████| 5000/5000 [00:00<00:00, 7193.05it/s]\n",
      "100%|██████████| 5000/5000 [00:00<00:00, 7264.23it/s]\n",
      "100%|██████████| 5000/5000 [00:01<00:00, 4964.55it/s]\n"
     ]
    },
    {
     "name": "stdout",
     "output_type": "stream",
     "text": [
      "-331.55874195\n",
      "-331.561852631\n",
      "-40.9137750043\n",
      "-43.5137910083\n",
      "-41.1277345131\n",
      "-21.8843778171\n",
      "go 59 63 518 560\n"
     ]
    },
    {
     "name": "stderr",
     "output_type": "stream",
     "text": [
      "100%|██████████| 5000/5000 [00:00<00:00, 13963.21it/s]\n",
      "100%|██████████| 5000/5000 [00:00<00:00, 14145.23it/s]\n",
      "100%|██████████| 5000/5000 [00:00<00:00, 7816.27it/s]\n",
      "100%|██████████| 5000/5000 [00:00<00:00, 7001.80it/s]\n",
      "100%|██████████| 5000/5000 [00:00<00:00, 7028.98it/s]\n",
      "100%|██████████| 5000/5000 [00:01<00:00, 4648.44it/s]\n"
     ]
    },
    {
     "name": "stdout",
     "output_type": "stream",
     "text": [
      "-345.43358026\n",
      "-345.432503246\n",
      "-47.5348208093\n",
      "-38.9946868865\n",
      "-345.35566899\n",
      "-32.6120229382\n",
      "go 59 64 518 561\n"
     ]
    },
    {
     "name": "stderr",
     "output_type": "stream",
     "text": [
      "100%|██████████| 5000/5000 [00:00<00:00, 13923.19it/s]\n",
      "100%|██████████| 5000/5000 [00:00<00:00, 13300.60it/s]\n",
      "100%|██████████| 5000/5000 [00:00<00:00, 7207.30it/s]\n",
      "100%|██████████| 5000/5000 [00:00<00:00, 6604.85it/s]\n",
      "100%|██████████| 5000/5000 [00:00<00:00, 6762.60it/s]\n",
      "100%|██████████| 5000/5000 [00:01<00:00, 4613.78it/s]\n"
     ]
    },
    {
     "name": "stdout",
     "output_type": "stream",
     "text": [
      "-345.631305786\n",
      "-345.631882331\n",
      "-46.5527735047\n",
      "-345.560291364\n",
      "-345.554040543\n",
      "-26.9456787761\n",
      "go 59 65 518 564\n"
     ]
    },
    {
     "name": "stderr",
     "output_type": "stream",
     "text": [
      "100%|██████████| 5000/5000 [00:00<00:00, 12077.50it/s]\n",
      "100%|██████████| 5000/5000 [00:00<00:00, 11902.24it/s]\n",
      "100%|██████████| 5000/5000 [00:00<00:00, 6418.65it/s]\n",
      "100%|██████████| 5000/5000 [00:00<00:00, 6557.04it/s]\n",
      "100%|██████████| 5000/5000 [00:00<00:00, 6525.61it/s]\n",
      "100%|██████████| 5000/5000 [00:01<00:00, 4572.79it/s]\n"
     ]
    },
    {
     "name": "stdout",
     "output_type": "stream",
     "text": [
      "1.50986388445\n",
      "1.51235916544\n",
      "1.55600574451\n",
      "1.48974560046\n",
      "1.49315545539\n",
      "1.55606703656\n",
      "526\n",
      "go 60 61 526 532\n"
     ]
    },
    {
     "name": "stderr",
     "output_type": "stream",
     "text": [
      "100%|██████████| 5000/5000 [00:00<00:00, 13587.22it/s]\n",
      "100%|██████████| 5000/5000 [00:00<00:00, 13614.59it/s]\n",
      "100%|██████████| 5000/5000 [00:00<00:00, 7229.95it/s]\n",
      "100%|██████████| 5000/5000 [00:00<00:00, 7264.56it/s]\n",
      "100%|██████████| 5000/5000 [00:00<00:00, 7197.95it/s]\n",
      "100%|██████████| 5000/5000 [00:00<00:00, 5010.67it/s]\n"
     ]
    },
    {
     "name": "stdout",
     "output_type": "stream",
     "text": [
      "-294.204134257\n",
      "-294.19836598\n",
      "-33.8390756084\n",
      "-31.3851717212\n",
      "-36.1812561896\n",
      "-22.4659510848\n",
      "go 60 62 526 534\n"
     ]
    },
    {
     "name": "stderr",
     "output_type": "stream",
     "text": [
      "100%|██████████| 5000/5000 [00:00<00:00, 12953.03it/s]\n",
      "100%|██████████| 5000/5000 [00:00<00:00, 13183.12it/s]\n",
      "100%|██████████| 5000/5000 [00:00<00:00, 7320.61it/s]\n",
      "100%|██████████| 5000/5000 [00:00<00:00, 6911.97it/s]\n",
      "100%|██████████| 5000/5000 [00:00<00:00, 6954.93it/s]\n",
      "100%|██████████| 5000/5000 [00:01<00:00, 4809.35it/s]\n"
     ]
    },
    {
     "name": "stdout",
     "output_type": "stream",
     "text": [
      "-309.126131581\n",
      "-309.137156343\n",
      "-40.3001073467\n",
      "-38.8049567892\n",
      "-38.5995563995\n",
      "-25.848717746\n",
      "go 60 63 526 560\n"
     ]
    },
    {
     "name": "stderr",
     "output_type": "stream",
     "text": [
      "100%|██████████| 5000/5000 [00:00<00:00, 13662.69it/s]\n",
      "100%|██████████| 5000/5000 [00:00<00:00, 13622.12it/s]\n",
      "100%|██████████| 5000/5000 [00:00<00:00, 7168.93it/s]\n",
      "100%|██████████| 5000/5000 [00:00<00:00, 6688.64it/s]\n",
      "100%|██████████| 5000/5000 [00:00<00:00, 6955.53it/s]\n",
      "100%|██████████| 5000/5000 [00:01<00:00, 4916.82it/s]\n"
     ]
    },
    {
     "name": "stdout",
     "output_type": "stream",
     "text": [
      "-343.421922012\n",
      "-343.426660595\n",
      "-46.5962580303\n",
      "-45.3862070506\n",
      "-343.332270934\n",
      "-27.6475583528\n",
      "go 60 64 526 561\n"
     ]
    },
    {
     "name": "stderr",
     "output_type": "stream",
     "text": [
      "100%|██████████| 5000/5000 [00:00<00:00, 13858.44it/s]\n",
      "100%|██████████| 5000/5000 [00:00<00:00, 14109.83it/s]\n",
      "100%|██████████| 5000/5000 [00:00<00:00, 7734.16it/s]\n",
      "100%|██████████| 5000/5000 [00:00<00:00, 7157.85it/s]\n",
      "100%|██████████| 5000/5000 [00:00<00:00, 7171.40it/s]\n",
      "100%|██████████| 5000/5000 [00:01<00:00, 4824.61it/s]\n"
     ]
    },
    {
     "name": "stdout",
     "output_type": "stream",
     "text": [
      "-343.723326394\n",
      "-343.727450365\n",
      "-46.2526561658\n",
      "-343.630651873\n",
      "-343.635132739\n",
      "-25.2929387784\n",
      "go 60 65 526 564\n"
     ]
    },
    {
     "name": "stderr",
     "output_type": "stream",
     "text": [
      "100%|██████████| 5000/5000 [00:00<00:00, 12600.08it/s]\n",
      "100%|██████████| 5000/5000 [00:00<00:00, 11699.54it/s]\n",
      "100%|██████████| 5000/5000 [00:00<00:00, 6832.47it/s]\n",
      "100%|██████████| 5000/5000 [00:00<00:00, 6558.19it/s]\n",
      "100%|██████████| 5000/5000 [00:00<00:00, 6602.82it/s]\n",
      "100%|██████████| 5000/5000 [00:01<00:00, 4564.93it/s]\n"
     ]
    },
    {
     "name": "stdout",
     "output_type": "stream",
     "text": [
      "1.62178309751\n",
      "1.6178485882\n",
      "1.67676017114\n",
      "1.59480108644\n",
      "1.59287912565\n",
      "1.67695303892\n",
      "532\n",
      "go 61 63 532 560\n"
     ]
    },
    {
     "name": "stderr",
     "output_type": "stream",
     "text": [
      "100%|██████████| 5000/5000 [00:00<00:00, 13346.00it/s]\n",
      "100%|██████████| 5000/5000 [00:00<00:00, 13330.91it/s]\n",
      "100%|██████████| 5000/5000 [00:00<00:00, 6983.28it/s]\n",
      "100%|██████████| 5000/5000 [00:00<00:00, 6828.27it/s]\n",
      "100%|██████████| 5000/5000 [00:00<00:00, 7019.24it/s]\n",
      "100%|██████████| 5000/5000 [00:01<00:00, 4791.25it/s]\n"
     ]
    },
    {
     "name": "stdout",
     "output_type": "stream",
     "text": [
      "-341.164009167\n",
      "-341.162719014\n",
      "-45.0812810457\n",
      "-42.2520922831\n",
      "-341.045550865\n",
      "-25.0269954682\n",
      "go 61 64 532 561\n"
     ]
    },
    {
     "name": "stderr",
     "output_type": "stream",
     "text": [
      "100%|██████████| 5000/5000 [00:00<00:00, 13864.62it/s]\n",
      "100%|██████████| 5000/5000 [00:00<00:00, 13789.52it/s]\n",
      "100%|██████████| 5000/5000 [00:00<00:00, 7441.06it/s]\n",
      "100%|██████████| 5000/5000 [00:00<00:00, 6709.63it/s]\n",
      "100%|██████████| 5000/5000 [00:00<00:00, 7073.47it/s]\n",
      "100%|██████████| 5000/5000 [00:01<00:00, 4802.62it/s]\n"
     ]
    },
    {
     "name": "stdout",
     "output_type": "stream",
     "text": [
      "-341.605284619\n",
      "-341.606439186\n",
      "-45.8132233501\n",
      "-341.4976994\n",
      "-39.2901312349\n",
      "-26.7037210871\n",
      "go 61 65 532 564\n"
     ]
    },
    {
     "name": "stderr",
     "output_type": "stream",
     "text": [
      "100%|██████████| 5000/5000 [00:00<00:00, 13619.00it/s]\n",
      "100%|██████████| 5000/5000 [00:00<00:00, 13333.12it/s]\n",
      "100%|██████████| 5000/5000 [00:00<00:00, 6963.32it/s]\n",
      "100%|██████████| 5000/5000 [00:00<00:00, 6844.96it/s]\n",
      "100%|██████████| 5000/5000 [00:00<00:00, 6760.20it/s]\n",
      "100%|██████████| 5000/5000 [00:01<00:00, 4787.18it/s]\n"
     ]
    },
    {
     "name": "stdout",
     "output_type": "stream",
     "text": [
      "1.71426908701\n",
      "1.71792917858\n",
      "1.78436224831\n",
      "1.68864057863\n",
      "1.68948386331\n",
      "1.78570164161\n",
      "534\n",
      "go 62 63 534 560\n"
     ]
    },
    {
     "name": "stderr",
     "output_type": "stream",
     "text": [
      "100%|██████████| 5000/5000 [00:00<00:00, 14409.89it/s]\n",
      "100%|██████████| 5000/5000 [00:00<00:00, 13618.15it/s]\n",
      "100%|██████████| 5000/5000 [00:00<00:00, 7739.81it/s]\n",
      "100%|██████████| 5000/5000 [00:00<00:00, 6914.37it/s]\n",
      "100%|██████████| 5000/5000 [00:00<00:00, 7000.50it/s]\n",
      "100%|██████████| 5000/5000 [00:01<00:00, 4782.75it/s]\n"
     ]
    },
    {
     "name": "stdout",
     "output_type": "stream",
     "text": [
      "-340.179420749\n",
      "-340.179971923\n",
      "-38.98992905\n",
      "-41.3156169967\n",
      "-340.053833309\n",
      "-26.9955602723\n",
      "go 62 64 534 561\n"
     ]
    },
    {
     "name": "stderr",
     "output_type": "stream",
     "text": [
      "100%|██████████| 5000/5000 [00:00<00:00, 14084.78it/s]\n",
      "100%|██████████| 5000/5000 [00:00<00:00, 14192.21it/s]\n",
      "100%|██████████| 5000/5000 [00:00<00:00, 7527.99it/s]\n",
      "100%|██████████| 5000/5000 [00:00<00:00, 7016.96it/s]\n",
      "100%|██████████| 5000/5000 [00:00<00:00, 7154.07it/s]\n",
      "100%|██████████| 5000/5000 [00:01<00:00, 4860.08it/s]\n"
     ]
    },
    {
     "name": "stdout",
     "output_type": "stream",
     "text": [
      "-340.688525186\n",
      "-340.69060051\n",
      "-50.7762678449\n",
      "-37.6057241423\n",
      "-340.570932898\n",
      "-23.5572774671\n",
      "go 62 65 534 564\n"
     ]
    },
    {
     "name": "stderr",
     "output_type": "stream",
     "text": [
      "100%|██████████| 5000/5000 [00:00<00:00, 12452.95it/s]\n",
      "100%|██████████| 5000/5000 [00:00<00:00, 13241.95it/s]\n",
      "100%|██████████| 5000/5000 [00:00<00:00, 6778.46it/s]\n",
      "100%|██████████| 5000/5000 [00:00<00:00, 6870.59it/s]\n",
      "100%|██████████| 5000/5000 [00:00<00:00, 7047.41it/s]\n",
      "100%|██████████| 5000/5000 [00:01<00:00, 4729.42it/s]\n"
     ]
    },
    {
     "name": "stdout",
     "output_type": "stream",
     "text": [
      "1.75352273801\n",
      "1.75453539304\n",
      "1.83197776156\n",
      "1.72760470375\n",
      "1.72549197586\n",
      "1.82188812296\n",
      "560\n",
      "go 63 66 560 572\n"
     ]
    },
    {
     "name": "stderr",
     "output_type": "stream",
     "text": [
      "100%|██████████| 5000/5000 [00:00<00:00, 13173.35it/s]\n",
      "100%|██████████| 5000/5000 [00:00<00:00, 12578.93it/s]\n",
      "100%|██████████| 5000/5000 [00:00<00:00, 6722.87it/s]\n",
      "100%|██████████| 5000/5000 [00:00<00:00, 6543.62it/s]\n",
      "100%|██████████| 5000/5000 [00:00<00:00, 6805.02it/s]\n",
      "100%|██████████| 5000/5000 [00:01<00:00, 4581.17it/s]\n"
     ]
    },
    {
     "name": "stdout",
     "output_type": "stream",
     "text": [
      "2.81545834461\n",
      "2.81228510331\n",
      "2.06108047155\n",
      "2.60550629023\n",
      "2.59800236847\n",
      "2.43673631545\n",
      "go 63 67 560 586\n"
     ]
    },
    {
     "name": "stderr",
     "output_type": "stream",
     "text": [
      "100%|██████████| 5000/5000 [00:00<00:00, 12787.57it/s]\n",
      "100%|██████████| 5000/5000 [00:00<00:00, 12581.02it/s]\n",
      "100%|██████████| 5000/5000 [00:00<00:00, 6949.22it/s]\n",
      "100%|██████████| 5000/5000 [00:00<00:00, 6879.11it/s]\n",
      "100%|██████████| 5000/5000 [00:00<00:00, 6853.76it/s]\n",
      "100%|██████████| 5000/5000 [00:01<00:00, 4521.53it/s]\n"
     ]
    },
    {
     "name": "stdout",
     "output_type": "stream",
     "text": [
      "2.48475759562\n",
      "2.48581704808\n",
      "1.76622845619\n",
      "2.36641240121\n",
      "2.36097767213\n",
      "1.68125396742\n",
      "go 63 68 560 594\n"
     ]
    },
    {
     "name": "stderr",
     "output_type": "stream",
     "text": [
      "100%|██████████| 5000/5000 [00:00<00:00, 13173.39it/s]\n",
      "100%|██████████| 5000/5000 [00:00<00:00, 12386.29it/s]\n",
      "100%|██████████| 5000/5000 [00:00<00:00, 6713.88it/s]\n",
      "100%|██████████| 5000/5000 [00:00<00:00, 6684.63it/s]\n",
      "100%|██████████| 5000/5000 [00:00<00:00, 6622.27it/s]\n",
      "100%|██████████| 5000/5000 [00:01<00:00, 4761.02it/s]\n"
     ]
    },
    {
     "name": "stdout",
     "output_type": "stream",
     "text": [
      "2.34182878659\n",
      "2.34285180346\n",
      "1.88720572592\n",
      "2.32722157009\n",
      "2.32918054628\n",
      "1.48635345819\n",
      "go 63 69 560 595\n"
     ]
    },
    {
     "name": "stderr",
     "output_type": "stream",
     "text": [
      "100%|██████████| 5000/5000 [00:00<00:00, 13519.36it/s]\n",
      "100%|██████████| 5000/5000 [00:00<00:00, 13492.90it/s]\n",
      "100%|██████████| 5000/5000 [00:00<00:00, 7081.30it/s]\n",
      "100%|██████████| 5000/5000 [00:00<00:00, 6643.39it/s]\n",
      "100%|██████████| 5000/5000 [00:00<00:00, 6064.86it/s]\n",
      "100%|██████████| 5000/5000 [00:01<00:00, 4462.81it/s]\n"
     ]
    },
    {
     "name": "stdout",
     "output_type": "stream",
     "text": [
      "2.32423042404\n",
      "2.32382261225\n",
      "1.89229894755\n",
      "2.31722376613\n",
      "2.3158387608\n",
      "1.45903900836\n",
      "go 63 70 560 598\n"
     ]
    },
    {
     "name": "stderr",
     "output_type": "stream",
     "text": [
      "100%|██████████| 5000/5000 [00:00<00:00, 13460.11it/s]\n",
      "100%|██████████| 5000/5000 [00:00<00:00, 13292.11it/s]\n",
      "100%|██████████| 5000/5000 [00:00<00:00, 6774.09it/s]\n",
      "100%|██████████| 5000/5000 [00:00<00:00, 6772.44it/s]\n",
      "100%|██████████| 5000/5000 [00:00<00:00, 6835.52it/s]\n",
      "100%|██████████| 5000/5000 [00:01<00:00, 4564.20it/s]\n"
     ]
    },
    {
     "name": "stdout",
     "output_type": "stream",
     "text": [
      "2.29844366632\n",
      "2.29355256148\n",
      "2.03339402249\n",
      "2.34178316705\n",
      "2.33984478289\n",
      "1.47135796703\n",
      "561\n",
      "go 64 66 561 572\n"
     ]
    },
    {
     "name": "stderr",
     "output_type": "stream",
     "text": [
      "100%|██████████| 5000/5000 [00:00<00:00, 11552.20it/s]\n",
      "100%|██████████| 5000/5000 [00:00<00:00, 13115.72it/s]\n",
      "100%|██████████| 5000/5000 [00:00<00:00, 6573.72it/s]\n",
      "100%|██████████| 5000/5000 [00:00<00:00, 6694.35it/s]\n",
      "100%|██████████| 5000/5000 [00:00<00:00, 6553.05it/s]\n",
      "100%|██████████| 5000/5000 [00:01<00:00, 4560.35it/s]\n"
     ]
    },
    {
     "name": "stdout",
     "output_type": "stream",
     "text": [
      "2.86160625296\n",
      "2.8672128534\n",
      "1.44527636606\n",
      "2.78710976724\n",
      "2.77396909668\n",
      "1.38326296915\n",
      "go 64 67 561 586\n"
     ]
    },
    {
     "name": "stderr",
     "output_type": "stream",
     "text": [
      "100%|██████████| 5000/5000 [00:00<00:00, 12112.02it/s]\n",
      "100%|██████████| 5000/5000 [00:00<00:00, 13356.92it/s]\n",
      "100%|██████████| 5000/5000 [00:00<00:00, 6431.05it/s]\n",
      "100%|██████████| 5000/5000 [00:00<00:00, 6173.71it/s]\n",
      "100%|██████████| 5000/5000 [00:00<00:00, 6571.42it/s]\n",
      "100%|██████████| 5000/5000 [00:01<00:00, 4513.65it/s]\n"
     ]
    },
    {
     "name": "stdout",
     "output_type": "stream",
     "text": [
      "2.50651189644\n",
      "2.50517763688\n",
      "1.68741475693\n",
      "2.42073240931\n",
      "2.42007442533\n",
      "0.844923129148\n",
      "go 64 68 561 594\n"
     ]
    },
    {
     "name": "stderr",
     "output_type": "stream",
     "text": [
      "100%|██████████| 5000/5000 [00:00<00:00, 12198.99it/s]\n",
      "100%|██████████| 5000/5000 [00:00<00:00, 12535.00it/s]\n",
      "100%|██████████| 5000/5000 [00:00<00:00, 6083.08it/s]\n",
      "100%|██████████| 5000/5000 [00:00<00:00, 6659.90it/s]\n",
      "100%|██████████| 5000/5000 [00:00<00:00, 6783.67it/s]\n",
      "100%|██████████| 5000/5000 [00:01<00:00, 4556.19it/s]\n"
     ]
    },
    {
     "name": "stdout",
     "output_type": "stream",
     "text": [
      "2.35769603623\n",
      "2.35727595184\n",
      "1.87148655748\n",
      "2.35665633914\n",
      "2.35517335155\n",
      "0.70697683884\n",
      "go 64 69 561 595\n"
     ]
    },
    {
     "name": "stderr",
     "output_type": "stream",
     "text": [
      "100%|██████████| 5000/5000 [00:00<00:00, 12416.31it/s]\n",
      "100%|██████████| 5000/5000 [00:00<00:00, 12814.41it/s]\n",
      "100%|██████████| 5000/5000 [00:00<00:00, 6498.74it/s]\n",
      "100%|██████████| 5000/5000 [00:00<00:00, 6572.34it/s]\n",
      "100%|██████████| 5000/5000 [00:00<00:00, 6700.43it/s]\n",
      "100%|██████████| 5000/5000 [00:01<00:00, 4640.56it/s]\n"
     ]
    },
    {
     "name": "stdout",
     "output_type": "stream",
     "text": [
      "2.3413828069\n",
      "2.34100178032\n",
      "1.88161023198\n",
      "2.35100662576\n",
      "2.34744590035\n",
      "0.684944863237\n",
      "go 64 70 561 598\n"
     ]
    },
    {
     "name": "stderr",
     "output_type": "stream",
     "text": [
      "100%|██████████| 5000/5000 [00:00<00:00, 13327.76it/s]\n",
      "100%|██████████| 5000/5000 [00:00<00:00, 13323.24it/s]\n",
      "100%|██████████| 5000/5000 [00:00<00:00, 6934.54it/s]\n",
      "100%|██████████| 5000/5000 [00:00<00:00, 6621.55it/s]\n",
      "100%|██████████| 5000/5000 [00:00<00:00, 6701.08it/s]\n",
      "100%|██████████| 5000/5000 [00:01<00:00, 4493.71it/s]\n"
     ]
    },
    {
     "name": "stdout",
     "output_type": "stream",
     "text": [
      "2.30779252182\n",
      "2.30998404779\n",
      "2.03069912904\n",
      "2.36420107847\n",
      "2.36379182104\n",
      "0.832197513485\n",
      "564\n",
      "go 65 66 564 572\n"
     ]
    },
    {
     "name": "stderr",
     "output_type": "stream",
     "text": [
      "100%|██████████| 5000/5000 [00:00<00:00, 12210.73it/s]\n",
      "100%|██████████| 5000/5000 [00:00<00:00, 11823.46it/s]\n",
      "100%|██████████| 5000/5000 [00:00<00:00, 6577.22it/s]\n",
      "100%|██████████| 5000/5000 [00:00<00:00, 6567.61it/s]\n",
      "100%|██████████| 5000/5000 [00:00<00:00, 6578.51it/s]\n",
      "100%|██████████| 5000/5000 [00:01<00:00, 4467.71it/s]\n"
     ]
    },
    {
     "name": "stdout",
     "output_type": "stream",
     "text": [
      "2.87787068096\n",
      "1.69797611123\n",
      "1.56649174663\n",
      "2.94712188308\n",
      "1.4662698433\n",
      "1.94841219176\n",
      "go 65 67 564 586\n"
     ]
    },
    {
     "name": "stderr",
     "output_type": "stream",
     "text": [
      "100%|██████████| 5000/5000 [00:00<00:00, 12449.11it/s]\n",
      "100%|██████████| 5000/5000 [00:00<00:00, 12733.60it/s]\n",
      "100%|██████████| 5000/5000 [00:00<00:00, 6662.57it/s]\n",
      "100%|██████████| 5000/5000 [00:00<00:00, 6409.15it/s]\n",
      "100%|██████████| 5000/5000 [00:00<00:00, 6577.50it/s]\n",
      "100%|██████████| 5000/5000 [00:01<00:00, 4631.05it/s]\n"
     ]
    },
    {
     "name": "stdout",
     "output_type": "stream",
     "text": [
      "2.4376228598\n",
      "2.1803247334\n",
      "1.60993556813\n",
      "2.35905453752\n",
      "0.860435565712\n",
      "0.952472788491\n",
      "go 65 68 564 594\n"
     ]
    },
    {
     "name": "stderr",
     "output_type": "stream",
     "text": [
      "100%|██████████| 5000/5000 [00:00<00:00, 12259.38it/s]\n",
      "100%|██████████| 5000/5000 [00:00<00:00, 12222.22it/s]\n",
      "100%|██████████| 5000/5000 [00:00<00:00, 6768.34it/s]\n",
      "100%|██████████| 5000/5000 [00:00<00:00, 6837.98it/s]\n",
      "100%|██████████| 5000/5000 [00:00<00:00, 6781.64it/s]\n",
      "100%|██████████| 5000/5000 [00:01<00:00, 4657.91it/s]\n"
     ]
    },
    {
     "name": "stdout",
     "output_type": "stream",
     "text": [
      "2.26623012756\n",
      "2.40881112439\n",
      "1.80149821372\n",
      "2.27875346456\n",
      "0.738225594626\n",
      "0.782118729673\n",
      "go 65 69 564 595\n"
     ]
    },
    {
     "name": "stderr",
     "output_type": "stream",
     "text": [
      "100%|██████████| 5000/5000 [00:00<00:00, 12529.60it/s]\n",
      "100%|██████████| 5000/5000 [00:00<00:00, 12376.67it/s]\n",
      "100%|██████████| 5000/5000 [00:00<00:00, 6756.83it/s]\n",
      "100%|██████████| 5000/5000 [00:00<00:00, 6952.58it/s]\n",
      "100%|██████████| 5000/5000 [00:00<00:00, 6816.91it/s]\n",
      "100%|██████████| 5000/5000 [00:01<00:00, 4646.69it/s]\n"
     ]
    },
    {
     "name": "stdout",
     "output_type": "stream",
     "text": [
      "2.24822576291\n",
      "2.43226199716\n",
      "1.81345284787\n",
      "2.26961011554\n",
      "0.729141177966\n",
      "0.756852884016\n",
      "go 65 70 564 598\n"
     ]
    },
    {
     "name": "stderr",
     "output_type": "stream",
     "text": [
      "100%|██████████| 5000/5000 [00:00<00:00, 13340.16it/s]\n",
      "100%|██████████| 5000/5000 [00:00<00:00, 12513.55it/s]\n",
      "100%|██████████| 5000/5000 [00:00<00:00, 6614.32it/s]\n",
      "100%|██████████| 5000/5000 [00:00<00:00, 6520.59it/s]\n",
      "100%|██████████| 5000/5000 [00:00<00:00, 6703.36it/s]\n",
      "100%|██████████| 5000/5000 [00:01<00:00, 4433.23it/s]\n"
     ]
    },
    {
     "name": "stdout",
     "output_type": "stream",
     "text": [
      "2.21694990344\n",
      "2.55342588416\n",
      "1.97924006303\n",
      "2.28741312863\n",
      "0.797567533888\n",
      "0.90136813216\n",
      "572\n",
      "go 66 67 572 586\n"
     ]
    },
    {
     "name": "stderr",
     "output_type": "stream",
     "text": [
      "100%|██████████| 5000/5000 [00:00<00:00, 13068.31it/s]\n",
      "100%|██████████| 5000/5000 [00:00<00:00, 12843.40it/s]\n",
      "100%|██████████| 5000/5000 [00:00<00:00, 6810.34it/s]\n",
      "100%|██████████| 5000/5000 [00:00<00:00, 6752.39it/s]\n",
      "100%|██████████| 5000/5000 [00:00<00:00, 6884.96it/s]\n",
      "100%|██████████| 5000/5000 [00:01<00:00, 4559.62it/s]\n"
     ]
    },
    {
     "name": "stdout",
     "output_type": "stream",
     "text": [
      "2.23101487673\n",
      "1.91651860183\n",
      "1.37758380675\n",
      "2.20827202904\n",
      "1.15822153953\n",
      "1.27192265196\n",
      "go 66 68 572 594\n"
     ]
    },
    {
     "name": "stderr",
     "output_type": "stream",
     "text": [
      "100%|██████████| 5000/5000 [00:00<00:00, 13278.48it/s]\n",
      "100%|██████████| 5000/5000 [00:00<00:00, 12535.00it/s]\n",
      "100%|██████████| 5000/5000 [00:00<00:00, 6530.43it/s]\n",
      "100%|██████████| 5000/5000 [00:00<00:00, 6618.82it/s]\n",
      "100%|██████████| 5000/5000 [00:00<00:00, 6810.41it/s]\n",
      "100%|██████████| 5000/5000 [00:01<00:00, 4495.95it/s]\n"
     ]
    },
    {
     "name": "stdout",
     "output_type": "stream",
     "text": [
      "1.97694520509\n",
      "2.19791879128\n",
      "1.58992346121\n",
      "2.03920884326\n",
      "0.891038811377\n",
      "0.942749872705\n",
      "go 66 69 572 595\n"
     ]
    },
    {
     "name": "stderr",
     "output_type": "stream",
     "text": [
      "100%|██████████| 5000/5000 [00:00<00:00, 12540.85it/s]\n",
      "100%|██████████| 5000/5000 [00:00<00:00, 13523.27it/s]\n",
      "100%|██████████| 5000/5000 [00:00<00:00, 6691.93it/s]\n",
      "100%|██████████| 5000/5000 [00:00<00:00, 6931.41it/s]\n",
      "100%|██████████| 5000/5000 [00:00<00:00, 6795.08it/s]\n",
      "100%|██████████| 5000/5000 [00:01<00:00, 4488.89it/s]\n"
     ]
    },
    {
     "name": "stdout",
     "output_type": "stream",
     "text": [
      "1.95102264961\n",
      "2.21895285399\n",
      "1.60546008869\n",
      "2.01882613351\n",
      "0.872261607826\n",
      "0.902572930941\n",
      "go 66 70 572 598\n"
     ]
    },
    {
     "name": "stderr",
     "output_type": "stream",
     "text": [
      "100%|██████████| 5000/5000 [00:00<00:00, 13109.49it/s]\n",
      "100%|██████████| 5000/5000 [00:00<00:00, 12932.36it/s]\n",
      "100%|██████████| 5000/5000 [00:00<00:00, 6746.66it/s]\n",
      "100%|██████████| 5000/5000 [00:00<00:00, 6891.13it/s]\n",
      "100%|██████████| 5000/5000 [00:00<00:00, 6631.52it/s]\n",
      "100%|██████████| 5000/5000 [00:01<00:00, 4481.25it/s]\n"
     ]
    },
    {
     "name": "stdout",
     "output_type": "stream",
     "text": [
      "1.93248975105\n",
      "2.38523998409\n",
      "1.84566960834\n",
      "2.06047450454\n",
      "0.926062966017\n",
      "1.04811251073\n",
      "586\n",
      "go 67 68 586 594\n"
     ]
    },
    {
     "name": "stderr",
     "output_type": "stream",
     "text": [
      "100%|██████████| 5000/5000 [00:00<00:00, 12859.53it/s]\n",
      "100%|██████████| 5000/5000 [00:00<00:00, 12362.78it/s]\n",
      "100%|██████████| 5000/5000 [00:00<00:00, 6407.64it/s]\n",
      "100%|██████████| 5000/5000 [00:00<00:00, 6485.19it/s]\n",
      "100%|██████████| 5000/5000 [00:00<00:00, 6738.24it/s]\n",
      "100%|██████████| 5000/5000 [00:01<00:00, 4604.46it/s]\n"
     ]
    },
    {
     "name": "stdout",
     "output_type": "stream",
     "text": [
      "1.39122596782\n",
      "1.62363261471\n",
      "1.67560344941\n",
      "1.86498558708\n",
      "1.3532720476\n",
      "1.93865507349\n",
      "go 67 69 586 595\n"
     ]
    },
    {
     "name": "stderr",
     "output_type": "stream",
     "text": [
      "100%|██████████| 5000/5000 [00:00<00:00, 11845.34it/s]\n",
      "100%|██████████| 5000/5000 [00:00<00:00, 12194.68it/s]\n",
      "100%|██████████| 5000/5000 [00:00<00:00, 6805.25it/s]\n",
      "100%|██████████| 5000/5000 [00:00<00:00, 6632.05it/s]\n",
      "100%|██████████| 5000/5000 [00:00<00:00, 6608.88it/s]\n",
      "100%|██████████| 5000/5000 [00:01<00:00, 4646.19it/s]\n"
     ]
    },
    {
     "name": "stdout",
     "output_type": "stream",
     "text": [
      "1.29370531945\n",
      "1.60216304475\n",
      "1.54224710924\n",
      "1.70337246009\n",
      "1.20794140697\n",
      "1.72478687\n",
      "go 67 70 586 598\n"
     ]
    },
    {
     "name": "stderr",
     "output_type": "stream",
     "text": [
      "100%|██████████| 5000/5000 [00:00<00:00, 12805.05it/s]\n",
      "100%|██████████| 5000/5000 [00:00<00:00, 12770.32it/s]\n",
      "100%|██████████| 5000/5000 [00:00<00:00, 6752.45it/s]\n",
      "100%|██████████| 5000/5000 [00:00<00:00, 6528.87it/s]\n",
      "100%|██████████| 5000/5000 [00:00<00:00, 6569.39it/s]\n",
      "100%|██████████| 5000/5000 [00:01<00:00, 4690.06it/s]\n"
     ]
    },
    {
     "name": "stdout",
     "output_type": "stream",
     "text": [
      "1.55631700946\n",
      "1.98992583898\n",
      "1.87383941946\n",
      "1.71439587762\n",
      "1.18630629214\n",
      "1.56219194319\n",
      "go 67 71 586 602\n"
     ]
    },
    {
     "name": "stderr",
     "output_type": "stream",
     "text": [
      "100%|██████████| 5000/5000 [00:00<00:00, 12745.32it/s]\n",
      "100%|██████████| 5000/5000 [00:00<00:00, 13028.74it/s]\n",
      "100%|██████████| 5000/5000 [00:00<00:00, 6740.80it/s]\n",
      "100%|██████████| 5000/5000 [00:00<00:00, 6610.11it/s]\n",
      "100%|██████████| 5000/5000 [00:00<00:00, 6649.86it/s]\n",
      "100%|██████████| 5000/5000 [00:01<00:00, 4600.73it/s]\n"
     ]
    },
    {
     "name": "stdout",
     "output_type": "stream",
     "text": [
      "2.04996534348\n",
      "2.37384007121\n",
      "2.17533151761\n",
      "1.71620698222\n",
      "1.21054770779\n",
      "1.40715258422\n",
      "594\n",
      "go 68 71 594 602\n"
     ]
    },
    {
     "name": "stderr",
     "output_type": "stream",
     "text": [
      "100%|██████████| 5000/5000 [00:00<00:00, 12456.68it/s]\n",
      "100%|██████████| 5000/5000 [00:00<00:00, 12770.58it/s]\n",
      "100%|██████████| 5000/5000 [00:00<00:00, 6780.17it/s]\n",
      "100%|██████████| 5000/5000 [00:00<00:00, 6633.86it/s]\n",
      "100%|██████████| 5000/5000 [00:00<00:00, 6686.20it/s]\n",
      "100%|██████████| 5000/5000 [00:01<00:00, 4536.79it/s]\n"
     ]
    },
    {
     "name": "stdout",
     "output_type": "stream",
     "text": [
      "2.49523782854\n",
      "2.50470758382\n",
      "2.35470406037\n",
      "1.38410372472\n",
      "1.40561519188\n",
      "1.82302178833\n",
      "go 68 72 594 605\n"
     ]
    },
    {
     "name": "stderr",
     "output_type": "stream",
     "text": [
      "100%|██████████| 5000/5000 [00:00<00:00, 12773.97it/s]\n",
      "100%|██████████| 5000/5000 [00:00<00:00, 12459.38it/s]\n",
      "100%|██████████| 5000/5000 [00:00<00:00, 6496.49it/s]\n",
      "100%|██████████| 5000/5000 [00:00<00:00, 6593.30it/s]\n",
      "100%|██████████| 5000/5000 [00:00<00:00, 6647.36it/s]\n",
      "100%|██████████| 5000/5000 [00:01<00:00, 4616.42it/s]\n"
     ]
    },
    {
     "name": "stdout",
     "output_type": "stream",
     "text": [
      "2.69822355856\n",
      "2.69114506501\n",
      "2.4036620974\n",
      "1.32941015685\n",
      "1.33980384041\n",
      "1.64344379566\n",
      "go 68 73 594 608\n"
     ]
    },
    {
     "name": "stderr",
     "output_type": "stream",
     "text": [
      "100%|██████████| 5000/5000 [00:00<00:00, 12996.63it/s]\n",
      "100%|██████████| 5000/5000 [00:00<00:00, 12927.08it/s]\n",
      "100%|██████████| 5000/5000 [00:00<00:00, 6558.71it/s]\n",
      "100%|██████████| 5000/5000 [00:00<00:00, 6741.79it/s]\n",
      "100%|██████████| 5000/5000 [00:00<00:00, 6794.34it/s]\n",
      "100%|██████████| 5000/5000 [00:01<00:00, 4583.98it/s]\n"
     ]
    },
    {
     "name": "stdout",
     "output_type": "stream",
     "text": [
      "2.7353742736\n",
      "2.73463203906\n",
      "2.23515858152\n",
      "1.64300649386\n",
      "1.61796023171\n",
      "1.76576389761\n",
      "595\n",
      "go 69 71 595 602\n"
     ]
    },
    {
     "name": "stderr",
     "output_type": "stream",
     "text": [
      "100%|██████████| 5000/5000 [00:00<00:00, 12820.42it/s]\n",
      "100%|██████████| 5000/5000 [00:00<00:00, 13034.38it/s]\n",
      "100%|██████████| 5000/5000 [00:00<00:00, 6774.26it/s]\n",
      "100%|██████████| 5000/5000 [00:00<00:00, 6844.70it/s]\n",
      "100%|██████████| 5000/5000 [00:00<00:00, 6738.33it/s]\n",
      "100%|██████████| 5000/5000 [00:01<00:00, 4493.64it/s]\n"
     ]
    },
    {
     "name": "stdout",
     "output_type": "stream",
     "text": [
      "2.59785629478\n",
      "2.59787044334\n",
      "2.28674500986\n",
      "2.01159599075\n",
      "1.98873775231\n",
      "2.01002876983\n",
      "go 69 72 595 605\n"
     ]
    },
    {
     "name": "stderr",
     "output_type": "stream",
     "text": [
      "100%|██████████| 5000/5000 [00:00<00:00, 13288.55it/s]\n",
      "100%|██████████| 5000/5000 [00:00<00:00, 13018.59it/s]\n",
      "100%|██████████| 5000/5000 [00:00<00:00, 6927.68it/s]\n",
      "100%|██████████| 5000/5000 [00:00<00:00, 6607.92it/s]\n",
      "100%|██████████| 5000/5000 [00:00<00:00, 6664.81it/s]\n",
      "100%|██████████| 5000/5000 [00:01<00:00, 4661.39it/s]\n"
     ]
    },
    {
     "name": "stdout",
     "output_type": "stream",
     "text": [
      "2.76455890028\n",
      "2.76068538705\n",
      "2.33549373289\n",
      "1.72957443183\n",
      "1.73901515995\n",
      "1.78129650177\n",
      "go 69 73 595 608\n"
     ]
    },
    {
     "name": "stderr",
     "output_type": "stream",
     "text": [
      "100%|██████████| 5000/5000 [00:00<00:00, 12117.62it/s]\n",
      "100%|██████████| 5000/5000 [00:00<00:00, 12772.63it/s]\n",
      "100%|██████████| 5000/5000 [00:00<00:00, 6592.76it/s]\n",
      "100%|██████████| 5000/5000 [00:00<00:00, 6646.05it/s]\n",
      "100%|██████████| 5000/5000 [00:00<00:00, 6704.40it/s]\n",
      "100%|██████████| 5000/5000 [00:01<00:00, 4619.81it/s]\n"
     ]
    },
    {
     "name": "stdout",
     "output_type": "stream",
     "text": [
      "2.77938428618\n",
      "2.78029909433\n",
      "2.1373560856\n",
      "1.88891953202\n",
      "1.8803235494\n",
      "1.76304440655\n",
      "598\n",
      "go 70 72 598 605\n"
     ]
    },
    {
     "name": "stderr",
     "output_type": "stream",
     "text": [
      "100%|██████████| 5000/5000 [00:00<00:00, 12095.85it/s]\n",
      "100%|██████████| 5000/5000 [00:00<00:00, 12736.16it/s]\n",
      "100%|██████████| 5000/5000 [00:00<00:00, 7153.17it/s]\n",
      "100%|██████████| 5000/5000 [00:00<00:00, 6914.80it/s]\n",
      "100%|██████████| 5000/5000 [00:00<00:00, 6798.03it/s]\n",
      "100%|██████████| 5000/5000 [00:01<00:00, 4658.97it/s]\n"
     ]
    },
    {
     "name": "stdout",
     "output_type": "stream",
     "text": [
      "2.9851311605\n",
      "2.33608153429\n",
      "2.35137861809\n",
      "2.69424360679\n",
      "1.78867865209\n",
      "2.46749719323\n",
      "go 70 73 598 608\n"
     ]
    },
    {
     "name": "stderr",
     "output_type": "stream",
     "text": [
      "100%|██████████| 5000/5000 [00:00<00:00, 13013.88it/s]\n",
      "100%|██████████| 5000/5000 [00:00<00:00, 12496.59it/s]\n",
      "100%|██████████| 5000/5000 [00:00<00:00, 6689.41it/s]\n",
      "100%|██████████| 5000/5000 [00:00<00:00, 6703.92it/s]\n",
      "100%|██████████| 5000/5000 [00:00<00:00, 6731.73it/s]\n",
      "100%|██████████| 5000/5000 [00:01<00:00, 4635.01it/s]\n"
     ]
    },
    {
     "name": "stdout",
     "output_type": "stream",
     "text": [
      "2.93491925557\n",
      "2.27070075192\n",
      "1.92819783725\n",
      "2.51977764367\n",
      "1.73951302029\n",
      "2.03017194908\n",
      "go 70 74 598 614\n"
     ]
    },
    {
     "name": "stderr",
     "output_type": "stream",
     "text": [
      "100%|██████████| 5000/5000 [00:00<00:00, 12939.90it/s]\n",
      "100%|██████████| 5000/5000 [00:00<00:00, 13005.12it/s]\n",
      "100%|██████████| 5000/5000 [00:00<00:00, 6694.88it/s]\n",
      "100%|██████████| 5000/5000 [00:00<00:00, 6873.49it/s]\n",
      "100%|██████████| 5000/5000 [00:00<00:00, 6873.42it/s]\n",
      "100%|██████████| 5000/5000 [00:01<00:00, 4579.83it/s]\n"
     ]
    },
    {
     "name": "stdout",
     "output_type": "stream",
     "text": [
      "2.92594515998\n",
      "2.29321191281\n",
      "1.6286224615\n",
      "2.33977137399\n",
      "1.60404030055\n",
      "1.60731968053\n",
      "go 70 75 598 629\n"
     ]
    },
    {
     "name": "stderr",
     "output_type": "stream",
     "text": [
      "100%|██████████| 5000/5000 [00:00<00:00, 12850.01it/s]\n",
      "100%|██████████| 5000/5000 [00:00<00:00, 12458.26it/s]\n",
      "100%|██████████| 5000/5000 [00:00<00:00, 6764.21it/s]\n",
      "100%|██████████| 5000/5000 [00:00<00:00, 6800.45it/s]\n",
      "100%|██████████| 5000/5000 [00:00<00:00, 6773.03it/s]\n",
      "100%|██████████| 5000/5000 [00:01<00:00, 4658.00it/s]\n"
     ]
    },
    {
     "name": "stdout",
     "output_type": "stream",
     "text": [
      "2.53488442911\n",
      "2.20497633983\n",
      "2.32593270315\n",
      "2.60521581329\n",
      "2.24623958129\n",
      "2.05655529186\n",
      "602\n",
      "go 71 73 602 608\n"
     ]
    },
    {
     "name": "stderr",
     "output_type": "stream",
     "text": [
      "100%|██████████| 5000/5000 [00:00<00:00, 13088.49it/s]\n",
      "100%|██████████| 5000/5000 [00:00<00:00, 12799.45it/s]\n",
      "100%|██████████| 5000/5000 [00:00<00:00, 7079.62it/s]\n",
      "100%|██████████| 5000/5000 [00:00<00:00, 7336.50it/s]\n",
      "100%|██████████| 5000/5000 [00:00<00:00, 7325.31it/s]\n",
      "100%|██████████| 5000/5000 [00:00<00:00, 5107.54it/s]\n"
     ]
    },
    {
     "name": "stdout",
     "output_type": "stream",
     "text": [
      "3.18907693477\n",
      "2.13895873855\n",
      "1.82277549188\n",
      "3.37901883704\n",
      "2.4723999404\n",
      "2.562164796\n",
      "go 71 74 602 614\n"
     ]
    },
    {
     "name": "stderr",
     "output_type": "stream",
     "text": [
      "100%|██████████| 5000/5000 [00:00<00:00, 13132.39it/s]\n",
      "100%|██████████| 5000/5000 [00:00<00:00, 12302.21it/s]\n",
      "100%|██████████| 5000/5000 [00:00<00:00, 6804.93it/s]\n",
      "100%|██████████| 5000/5000 [00:00<00:00, 6684.07it/s]\n",
      "100%|██████████| 5000/5000 [00:00<00:00, 6738.73it/s]\n",
      "100%|██████████| 5000/5000 [00:01<00:00, 4558.87it/s]\n"
     ]
    },
    {
     "name": "stdout",
     "output_type": "stream",
     "text": [
      "3.04195876639\n",
      "1.94759640976\n",
      "1.2521811598\n",
      "2.75903756974\n",
      "1.74639667221\n",
      "1.62565038083\n",
      "go 71 75 602 629\n"
     ]
    },
    {
     "name": "stderr",
     "output_type": "stream",
     "text": [
      "100%|██████████| 5000/5000 [00:00<00:00, 12952.23it/s]\n",
      "100%|██████████| 5000/5000 [00:00<00:00, 12758.49it/s]\n",
      "100%|██████████| 5000/5000 [00:00<00:00, 6682.77it/s]\n",
      "100%|██████████| 5000/5000 [00:00<00:00, 6746.78it/s]\n",
      "100%|██████████| 5000/5000 [00:00<00:00, 6660.15it/s]\n",
      "100%|██████████| 5000/5000 [00:01<00:00, 4651.52it/s]\n"
     ]
    },
    {
     "name": "stdout",
     "output_type": "stream",
     "text": [
      "2.55072689355\n",
      "2.38684854941\n",
      "2.40659292821\n",
      "2.65877684315\n",
      "2.07063782791\n",
      "1.96150329862\n",
      "605\n",
      "go 72 74 605 614\n"
     ]
    },
    {
     "name": "stderr",
     "output_type": "stream",
     "text": [
      "100%|██████████| 5000/5000 [00:00<00:00, 12860.05it/s]\n",
      "100%|██████████| 5000/5000 [00:00<00:00, 12422.05it/s]\n",
      "100%|██████████| 5000/5000 [00:00<00:00, 6755.90it/s]\n",
      "100%|██████████| 5000/5000 [00:00<00:00, 6611.83it/s]\n",
      "100%|██████████| 5000/5000 [00:00<00:00, 6549.14it/s]\n",
      "100%|██████████| 5000/5000 [00:01<00:00, 4428.99it/s]\n"
     ]
    },
    {
     "name": "stdout",
     "output_type": "stream",
     "text": [
      "3.08406520893\n",
      "1.10525683804\n",
      "1.44100428432\n",
      "2.90077462893\n",
      "1.35320334641\n",
      "1.85709682478\n",
      "go 72 75 605 629\n"
     ]
    },
    {
     "name": "stderr",
     "output_type": "stream",
     "text": [
      "100%|██████████| 5000/5000 [00:00<00:00, 12268.28it/s]\n",
      "100%|██████████| 5000/5000 [00:00<00:00, 11835.49it/s]\n",
      "100%|██████████| 5000/5000 [00:00<00:00, 6333.72it/s]\n",
      "100%|██████████| 5000/5000 [00:00<00:00, 6358.05it/s]\n",
      "100%|██████████| 5000/5000 [00:00<00:00, 6621.25it/s]\n",
      "100%|██████████| 5000/5000 [00:01<00:00, 4500.79it/s]\n"
     ]
    },
    {
     "name": "stdout",
     "output_type": "stream",
     "text": [
      "2.47202211721\n",
      "2.6658011292\n",
      "2.40418553535\n",
      "2.61076200519\n",
      "1.88091521956\n",
      "2.06167171615\n",
      "608\n",
      "go 73 74 608 614\n"
     ]
    },
    {
     "name": "stderr",
     "output_type": "stream",
     "text": [
      "100%|██████████| 5000/5000 [00:00<00:00, 12740.64it/s]\n",
      "100%|██████████| 5000/5000 [00:00<00:00, 12242.90it/s]\n",
      "100%|██████████| 5000/5000 [00:00<00:00, 7262.49it/s]\n",
      "100%|██████████| 5000/5000 [00:00<00:00, 7162.53it/s]\n",
      "100%|██████████| 5000/5000 [00:00<00:00, 7010.21it/s]\n",
      "100%|██████████| 5000/5000 [00:01<00:00, 4970.89it/s]\n"
     ]
    },
    {
     "name": "stdout",
     "output_type": "stream",
     "text": [
      "3.21245665007\n",
      "1.48666857068\n",
      "1.98334043832\n",
      "3.34125348546\n",
      "1.96775389686\n",
      "2.75386052032\n",
      "go 73 75 608 629\n"
     ]
    },
    {
     "name": "stderr",
     "output_type": "stream",
     "text": [
      "100%|██████████| 5000/5000 [00:00<00:00, 12772.70it/s]\n",
      "100%|██████████| 5000/5000 [00:00<00:00, 12764.12it/s]\n",
      "100%|██████████| 5000/5000 [00:00<00:00, 6761.26it/s]\n",
      "100%|██████████| 5000/5000 [00:00<00:00, 6646.11it/s]\n",
      "100%|██████████| 5000/5000 [00:00<00:00, 6465.40it/s]\n",
      "100%|██████████| 5000/5000 [00:01<00:00, 4580.50it/s]\n"
     ]
    },
    {
     "name": "stdout",
     "output_type": "stream",
     "text": [
      "2.37902121623\n",
      "2.74082359675\n",
      "2.39768258001\n",
      "2.5543962774\n",
      "1.97914919926\n",
      "2.1813674747\n",
      "614\n",
      "go 74 75 614 629\n"
     ]
    },
    {
     "name": "stderr",
     "output_type": "stream",
     "text": [
      "100%|██████████| 5000/5000 [00:00<00:00, 13661.35it/s]\n",
      "100%|██████████| 5000/5000 [00:00<00:00, 13261.23it/s]\n",
      "100%|██████████| 5000/5000 [00:00<00:00, 7287.80it/s]\n",
      "100%|██████████| 5000/5000 [00:00<00:00, 6600.20it/s]\n",
      "100%|██████████| 5000/5000 [00:00<00:00, 6557.57it/s]\n",
      "100%|██████████| 5000/5000 [00:01<00:00, 4637.01it/s]\n"
     ]
    },
    {
     "name": "stdout",
     "output_type": "stream",
     "text": [
      "-330.069667042\n",
      "3.14970226786\n",
      "-37.7019779212\n",
      "-44.9243621612\n",
      "2.78973131857\n",
      "-29.7605959419\n",
      "go 74 76 614 630\n"
     ]
    },
    {
     "name": "stderr",
     "output_type": "stream",
     "text": [
      "100%|██████████| 5000/5000 [00:00<00:00, 13752.05it/s]\n",
      "100%|██████████| 5000/5000 [00:00<00:00, 13234.24it/s]\n",
      "100%|██████████| 5000/5000 [00:00<00:00, 7416.93it/s]\n",
      "100%|██████████| 5000/5000 [00:00<00:00, 6737.66it/s]\n",
      "100%|██████████| 5000/5000 [00:00<00:00, 6778.73it/s]\n",
      "100%|██████████| 5000/5000 [00:01<00:00, 4722.51it/s]\n"
     ]
    },
    {
     "name": "stdout",
     "output_type": "stream",
     "text": [
      "-331.556077966\n",
      "3.14696503219\n",
      "-45.1888707753\n",
      "-39.0778935332\n",
      "2.767238194\n",
      "-25.5004153394\n",
      "go 74 77 614 632\n"
     ]
    },
    {
     "name": "stderr",
     "output_type": "stream",
     "text": [
      "100%|██████████| 5000/5000 [00:00<00:00, 12757.38it/s]\n",
      "100%|██████████| 5000/5000 [00:00<00:00, 12731.46it/s]\n",
      "100%|██████████| 5000/5000 [00:00<00:00, 6693.17it/s]\n",
      "100%|██████████| 5000/5000 [00:00<00:00, 6801.40it/s]\n",
      "100%|██████████| 5000/5000 [00:00<00:00, 6678.46it/s]\n",
      "100%|██████████| 5000/5000 [00:01<00:00, 4599.60it/s]\n"
     ]
    },
    {
     "name": "stdout",
     "output_type": "stream",
     "text": [
      "1.86842245043\n",
      "3.23609621212\n",
      "2.02291693221\n",
      "1.90904034529\n",
      "2.67607782378\n",
      "2.11735109838\n",
      "629\n",
      "go 75 78 629 637\n"
     ]
    },
    {
     "name": "stderr",
     "output_type": "stream",
     "text": [
      "100%|██████████| 5000/5000 [00:00<00:00, 13006.30it/s]\n",
      "100%|██████████| 5000/5000 [00:00<00:00, 13147.21it/s]\n",
      "100%|██████████| 5000/5000 [00:00<00:00, 6702.68it/s]\n",
      "100%|██████████| 5000/5000 [00:00<00:00, 6707.81it/s]\n",
      "100%|██████████| 5000/5000 [00:00<00:00, 6601.03it/s]\n",
      "100%|██████████| 5000/5000 [00:01<00:00, 4581.19it/s]\n"
     ]
    },
    {
     "name": "stdout",
     "output_type": "stream",
     "text": [
      "2.93417278599\n",
      "2.93589422107\n",
      "2.54401975964\n",
      "2.83589036945\n",
      "2.81145120988\n",
      "3.06444026072\n",
      "go 75 79 629 657\n"
     ]
    },
    {
     "name": "stderr",
     "output_type": "stream",
     "text": [
      "100%|██████████| 5000/5000 [00:00<00:00, 12751.62it/s]\n",
      "100%|██████████| 5000/5000 [00:00<00:00, 12899.19it/s]\n",
      "100%|██████████| 5000/5000 [00:00<00:00, 6641.31it/s]\n",
      "100%|██████████| 5000/5000 [00:00<00:00, 6658.32it/s]\n",
      "100%|██████████| 5000/5000 [00:00<00:00, 6831.26it/s]\n",
      "100%|██████████| 5000/5000 [00:01<00:00, 4628.60it/s]\n"
     ]
    },
    {
     "name": "stdout",
     "output_type": "stream",
     "text": [
      "2.44434066366\n",
      "2.44931795132\n",
      "1.76515669516\n",
      "2.34404575128\n",
      "2.34099403428\n",
      "1.62080257638\n",
      "go 75 80 629 659\n"
     ]
    },
    {
     "name": "stderr",
     "output_type": "stream",
     "text": [
      "100%|██████████| 5000/5000 [00:00<00:00, 12823.83it/s]\n",
      "100%|██████████| 5000/5000 [00:00<00:00, 12722.81it/s]\n",
      "100%|██████████| 5000/5000 [00:00<00:00, 6607.13it/s]\n",
      "100%|██████████| 5000/5000 [00:00<00:00, 6722.54it/s]\n",
      "100%|██████████| 5000/5000 [00:00<00:00, 6765.82it/s]\n",
      "100%|██████████| 5000/5000 [00:01<00:00, 4615.03it/s]\n"
     ]
    },
    {
     "name": "stdout",
     "output_type": "stream",
     "text": [
      "2.40934879204\n",
      "2.40832587433\n",
      "1.83535446521\n",
      "2.34869715137\n",
      "2.35338857741\n",
      "1.58669535974\n",
      "go 75 81 629 660\n"
     ]
    },
    {
     "name": "stderr",
     "output_type": "stream",
     "text": [
      "100%|██████████| 5000/5000 [00:00<00:00, 12950.25it/s]\n",
      "100%|██████████| 5000/5000 [00:00<00:00, 12868.02it/s]\n",
      "100%|██████████| 5000/5000 [00:00<00:00, 6695.51it/s]\n",
      "100%|██████████| 5000/5000 [00:00<00:00, 6814.00it/s]\n",
      "100%|██████████| 5000/5000 [00:00<00:00, 6739.25it/s]\n",
      "100%|██████████| 5000/5000 [00:01<00:00, 4656.95it/s]\n"
     ]
    },
    {
     "name": "stdout",
     "output_type": "stream",
     "text": [
      "2.39240943392\n",
      "2.39110142384\n",
      "1.86362010372\n",
      "2.34820190862\n",
      "2.34789267142\n",
      "1.56124760417\n",
      "go 75 82 629 677\n"
     ]
    },
    {
     "name": "stderr",
     "output_type": "stream",
     "text": [
      "100%|██████████| 5000/5000 [00:00<00:00, 13301.62it/s]\n",
      "100%|██████████| 5000/5000 [00:00<00:00, 13105.82it/s]\n",
      "100%|██████████| 5000/5000 [00:00<00:00, 6804.83it/s]\n",
      "100%|██████████| 5000/5000 [00:00<00:00, 6597.82it/s]\n",
      "100%|██████████| 5000/5000 [00:00<00:00, 6693.81it/s]\n",
      "100%|██████████| 5000/5000 [00:01<00:00, 4556.46it/s]\n"
     ]
    },
    {
     "name": "stdout",
     "output_type": "stream",
     "text": [
      "2.52206185361\n",
      "2.52263540416\n",
      "2.59982408559\n",
      "2.50543522707\n",
      "2.50794236188\n",
      "1.67833534656\n",
      "630\n",
      "go 76 78 630 637\n"
     ]
    },
    {
     "name": "stderr",
     "output_type": "stream",
     "text": [
      "100%|██████████| 5000/5000 [00:00<00:00, 12955.95it/s]\n",
      "100%|██████████| 5000/5000 [00:00<00:00, 13070.81it/s]\n",
      "100%|██████████| 5000/5000 [00:00<00:00, 7058.31it/s]\n",
      "100%|██████████| 5000/5000 [00:00<00:00, 6788.84it/s]\n",
      "100%|██████████| 5000/5000 [00:00<00:00, 6684.99it/s]\n",
      "100%|██████████| 5000/5000 [00:01<00:00, 4594.86it/s]\n"
     ]
    },
    {
     "name": "stdout",
     "output_type": "stream",
     "text": [
      "3.0269259511\n",
      "3.03087352038\n",
      "1.77152263213\n",
      "3.16420176632\n",
      "3.16947534242\n",
      "2.22204336269\n",
      "go 76 79 630 657\n"
     ]
    },
    {
     "name": "stderr",
     "output_type": "stream",
     "text": [
      "100%|██████████| 5000/5000 [00:00<00:00, 12584.35it/s]\n",
      "100%|██████████| 5000/5000 [00:00<00:00, 12799.18it/s]\n",
      "100%|██████████| 5000/5000 [00:00<00:00, 6581.89it/s]\n",
      "100%|██████████| 5000/5000 [00:00<00:00, 6589.54it/s]\n",
      "100%|██████████| 5000/5000 [00:00<00:00, 6686.86it/s]\n",
      "100%|██████████| 5000/5000 [00:01<00:00, 4482.58it/s]\n"
     ]
    },
    {
     "name": "stdout",
     "output_type": "stream",
     "text": [
      "2.46794535939\n",
      "2.46890116371\n",
      "1.71014768856\n",
      "2.39523653216\n",
      "2.39586053789\n",
      "0.770992070344\n",
      "go 76 80 630 659\n"
     ]
    },
    {
     "name": "stderr",
     "output_type": "stream",
     "text": [
      "100%|██████████| 5000/5000 [00:00<00:00, 12816.25it/s]\n",
      "100%|██████████| 5000/5000 [00:00<00:00, 12706.74it/s]\n",
      "100%|██████████| 5000/5000 [00:00<00:00, 6558.67it/s]\n",
      "100%|██████████| 5000/5000 [00:00<00:00, 6691.29it/s]\n",
      "100%|██████████| 5000/5000 [00:00<00:00, 6734.99it/s]\n",
      "100%|██████████| 5000/5000 [00:01<00:00, 4570.53it/s]\n"
     ]
    },
    {
     "name": "stdout",
     "output_type": "stream",
     "text": [
      "2.4276392775\n",
      "2.42550922656\n",
      "1.80711537723\n",
      "2.39716148777\n",
      "2.39275814373\n",
      "0.788977652063\n",
      "632\n",
      "go 77 78 632 637\n"
     ]
    },
    {
     "name": "stderr",
     "output_type": "stream",
     "text": [
      "100%|██████████| 5000/5000 [00:00<00:00, 12864.82it/s]\n",
      "100%|██████████| 5000/5000 [00:00<00:00, 12964.82it/s]\n",
      "100%|██████████| 5000/5000 [00:00<00:00, 7152.44it/s]\n",
      "100%|██████████| 5000/5000 [00:00<00:00, 7367.11it/s]\n",
      "100%|██████████| 5000/5000 [00:00<00:00, 7212.71it/s]\n",
      "100%|██████████| 5000/5000 [00:00<00:00, 5006.85it/s]\n"
     ]
    },
    {
     "name": "stdout",
     "output_type": "stream",
     "text": [
      "3.13989582721\n",
      "1.69774817659\n",
      "2.30160241542\n",
      "3.56120803226\n",
      "2.15902480501\n",
      "3.10530760915\n",
      "go 77 79 632 657\n"
     ]
    },
    {
     "name": "stderr",
     "output_type": "stream",
     "text": [
      "100%|██████████| 5000/5000 [00:00<00:00, 12686.01it/s]\n",
      "100%|██████████| 5000/5000 [00:00<00:00, 12744.47it/s]\n",
      "100%|██████████| 5000/5000 [00:00<00:00, 6694.08it/s]\n",
      "100%|██████████| 5000/5000 [00:00<00:00, 6675.57it/s]\n",
      "100%|██████████| 5000/5000 [00:00<00:00, 6849.96it/s]\n",
      "100%|██████████| 5000/5000 [00:01<00:00, 4501.60it/s]\n"
     ]
    },
    {
     "name": "stdout",
     "output_type": "stream",
     "text": [
      "2.42179799129\n",
      "2.19984374021\n",
      "1.65579745773\n",
      "2.35417527602\n",
      "0.712064542502\n",
      "0.846987977077\n",
      "go 77 80 632 659\n"
     ]
    },
    {
     "name": "stderr",
     "output_type": "stream",
     "text": [
      "100%|██████████| 5000/5000 [00:00<00:00, 13122.84it/s]\n",
      "100%|██████████| 5000/5000 [00:00<00:00, 13220.52it/s]\n",
      "100%|██████████| 5000/5000 [00:00<00:00, 6741.38it/s]\n",
      "100%|██████████| 5000/5000 [00:00<00:00, 6660.61it/s]\n",
      "100%|██████████| 5000/5000 [00:00<00:00, 6638.56it/s]\n",
      "100%|██████████| 5000/5000 [00:01<00:00, 4588.30it/s]\n"
     ]
    },
    {
     "name": "stdout",
     "output_type": "stream",
     "text": [
      "2.37810648515\n",
      "2.29626387045\n",
      "1.77375079763\n",
      "2.35240066698\n",
      "0.698066962512\n",
      "0.85007155412\n",
      "go 77 81 632 660\n"
     ]
    },
    {
     "name": "stderr",
     "output_type": "stream",
     "text": [
      "100%|██████████| 5000/5000 [00:00<00:00, 12880.56it/s]\n",
      "100%|██████████| 5000/5000 [00:00<00:00, 12696.15it/s]\n",
      "100%|██████████| 5000/5000 [00:00<00:00, 6732.66it/s]\n",
      "100%|██████████| 5000/5000 [00:00<00:00, 6756.24it/s]\n",
      "100%|██████████| 5000/5000 [00:00<00:00, 6562.81it/s]\n",
      "100%|██████████| 5000/5000 [00:01<00:00, 4627.77it/s]\n"
     ]
    },
    {
     "name": "stdout",
     "output_type": "stream",
     "text": [
      "2.3575250806\n",
      "2.32822545776\n",
      "1.80806383025\n",
      "2.34660520293\n",
      "0.682091708837\n",
      "0.824967859024\n",
      "go 77 82 632 677\n"
     ]
    },
    {
     "name": "stderr",
     "output_type": "stream",
     "text": [
      "100%|██████████| 5000/5000 [00:00<00:00, 12930.46it/s]\n",
      "100%|██████████| 5000/5000 [00:00<00:00, 12676.84it/s]\n",
      "100%|██████████| 5000/5000 [00:00<00:00, 6696.07it/s]\n",
      "100%|██████████| 5000/5000 [00:00<00:00, 6587.22it/s]\n",
      "100%|██████████| 5000/5000 [00:00<00:00, 6831.15it/s]\n",
      "100%|██████████| 5000/5000 [00:01<00:00, 4572.40it/s]\n"
     ]
    },
    {
     "name": "stdout",
     "output_type": "stream",
     "text": [
      "2.5188373754\n",
      "3.04788073145\n",
      "2.601707905\n",
      "2.46818292165\n",
      "1.35977845688\n",
      "1.36129269973\n",
      "637\n",
      "go 78 79 637 657\n"
     ]
    },
    {
     "name": "stderr",
     "output_type": "stream",
     "text": [
      "100%|██████████| 5000/5000 [00:00<00:00, 12957.32it/s]\n",
      "100%|██████████| 5000/5000 [00:00<00:00, 12682.50it/s]\n",
      "100%|██████████| 5000/5000 [00:00<00:00, 6620.44it/s]\n",
      "100%|██████████| 5000/5000 [00:00<00:00, 6871.94it/s]\n",
      "100%|██████████| 5000/5000 [00:00<00:00, 6545.70it/s]\n",
      "100%|██████████| 5000/5000 [00:01<00:00, 4636.67it/s]\n"
     ]
    },
    {
     "name": "stdout",
     "output_type": "stream",
     "text": [
      "2.28370458967\n",
      "1.82206230037\n",
      "1.48611118906\n",
      "2.23081823932\n",
      "0.658233290624\n",
      "0.885443688208\n",
      "go 78 80 637 659\n"
     ]
    },
    {
     "name": "stderr",
     "output_type": "stream",
     "text": [
      "100%|██████████| 5000/5000 [00:00<00:00, 12797.15it/s]\n",
      "100%|██████████| 5000/5000 [00:00<00:00, 12551.66it/s]\n",
      "100%|██████████| 5000/5000 [00:00<00:00, 6499.87it/s]\n",
      "100%|██████████| 5000/5000 [00:00<00:00, 6517.00it/s]\n",
      "100%|██████████| 5000/5000 [00:00<00:00, 6570.66it/s]\n",
      "100%|██████████| 5000/5000 [00:01<00:00, 4379.91it/s]\n"
     ]
    },
    {
     "name": "stdout",
     "output_type": "stream",
     "text": [
      "2.22572209567\n",
      "1.97084841123\n",
      "1.63715891262\n",
      "2.22082565477\n",
      "0.737775428448\n",
      "0.909589514394\n",
      "657\n",
      "go 79 82 657 677\n"
     ]
    },
    {
     "name": "stderr",
     "output_type": "stream",
     "text": [
      "100%|██████████| 5000/5000 [00:00<00:00, 12972.09it/s]\n",
      "100%|██████████| 5000/5000 [00:00<00:00, 12800.20it/s]\n",
      "100%|██████████| 5000/5000 [00:00<00:00, 6684.05it/s]\n",
      "100%|██████████| 5000/5000 [00:00<00:00, 6743.14it/s]\n",
      "100%|██████████| 5000/5000 [00:00<00:00, 6724.48it/s]\n",
      "100%|██████████| 5000/5000 [00:01<00:00, 4731.14it/s]\n"
     ]
    },
    {
     "name": "stdout",
     "output_type": "stream",
     "text": [
      "2.71063406116\n",
      "2.93856481667\n",
      "2.25351581536\n",
      "1.32339204632\n",
      "1.66909863058\n",
      "1.52500144419\n",
      "go 79 83 657 678\n"
     ]
    },
    {
     "name": "stderr",
     "output_type": "stream",
     "text": [
      "100%|██████████| 5000/5000 [00:00<00:00, 13008.87it/s]\n",
      "100%|██████████| 5000/5000 [00:00<00:00, 12580.61it/s]\n",
      "100%|██████████| 5000/5000 [00:00<00:00, 6700.02it/s]\n",
      "100%|██████████| 5000/5000 [00:00<00:00, 6642.07it/s]\n",
      "100%|██████████| 5000/5000 [00:00<00:00, 6835.57it/s]\n",
      "100%|██████████| 5000/5000 [00:01<00:00, 4661.71it/s]\n"
     ]
    },
    {
     "name": "stdout",
     "output_type": "stream",
     "text": [
      "2.71937521952\n",
      "2.94818992961\n",
      "2.2319697094\n",
      "1.42687551995\n",
      "1.74066792464\n",
      "1.59919555672\n",
      "659\n",
      "go 80 82 659 677\n"
     ]
    },
    {
     "name": "stderr",
     "output_type": "stream",
     "text": [
      "100%|██████████| 5000/5000 [00:00<00:00, 13204.63it/s]\n",
      "100%|██████████| 5000/5000 [00:00<00:00, 13203.73it/s]\n",
      "100%|██████████| 5000/5000 [00:00<00:00, 6802.57it/s]\n",
      "100%|██████████| 5000/5000 [00:00<00:00, 6504.61it/s]\n",
      "100%|██████████| 5000/5000 [00:00<00:00, 6489.19it/s]\n",
      "100%|██████████| 5000/5000 [00:01<00:00, 4551.27it/s]\n"
     ]
    },
    {
     "name": "stdout",
     "output_type": "stream",
     "text": [
      "2.77166060792\n",
      "2.77095840529\n",
      "2.15374502615\n",
      "1.60174625039\n",
      "1.60200372335\n",
      "1.62868160985\n",
      "go 80 83 659 678\n"
     ]
    },
    {
     "name": "stderr",
     "output_type": "stream",
     "text": [
      "100%|██████████| 5000/5000 [00:00<00:00, 12408.83it/s]\n",
      "100%|██████████| 5000/5000 [00:00<00:00, 12637.05it/s]\n",
      "100%|██████████| 5000/5000 [00:00<00:00, 6615.14it/s]\n",
      "100%|██████████| 5000/5000 [00:00<00:00, 6605.44it/s]\n",
      "100%|██████████| 5000/5000 [00:00<00:00, 6719.33it/s]\n",
      "100%|██████████| 5000/5000 [00:01<00:00, 4491.41it/s]\n"
     ]
    },
    {
     "name": "stdout",
     "output_type": "stream",
     "text": [
      "2.77275070557\n",
      "2.77550072404\n",
      "2.11860913414\n",
      "1.68675444844\n",
      "1.68321256677\n",
      "1.66556137773\n",
      "660\n",
      "go 81 82 660 677\n"
     ]
    },
    {
     "name": "stderr",
     "output_type": "stream",
     "text": [
      "100%|██████████| 5000/5000 [00:00<00:00, 12148.13it/s]\n",
      "100%|██████████| 5000/5000 [00:00<00:00, 12496.03it/s]\n",
      "100%|██████████| 5000/5000 [00:00<00:00, 6598.68it/s]\n",
      "100%|██████████| 5000/5000 [00:00<00:00, 6588.45it/s]\n",
      "100%|██████████| 5000/5000 [00:00<00:00, 6576.54it/s]\n",
      "100%|██████████| 5000/5000 [00:01<00:00, 4636.51it/s]\n"
     ]
    },
    {
     "name": "stdout",
     "output_type": "stream",
     "text": [
      "2.80609142539\n",
      "2.80714856702\n",
      "2.06463764424\n",
      "1.79210215884\n",
      "1.79843234537\n",
      "1.59671955759\n",
      "go 81 83 660 678\n"
     ]
    },
    {
     "name": "stderr",
     "output_type": "stream",
     "text": [
      "100%|██████████| 5000/5000 [00:00<00:00, 12750.16it/s]\n",
      "100%|██████████| 5000/5000 [00:00<00:00, 12703.67it/s]\n",
      "100%|██████████| 5000/5000 [00:00<00:00, 6686.54it/s]\n",
      "100%|██████████| 5000/5000 [00:00<00:00, 6730.93it/s]\n",
      "100%|██████████| 5000/5000 [00:00<00:00, 6791.78it/s]\n",
      "100%|██████████| 5000/5000 [00:01<00:00, 4648.14it/s]\n"
     ]
    },
    {
     "name": "stdout",
     "output_type": "stream",
     "text": [
      "2.80906376888\n",
      "2.81051452199\n",
      "2.01545834821\n",
      "1.85142394379\n",
      "1.84765800052\n",
      "1.63891295815\n",
      "677\n",
      "go 82 84 677 686\n"
     ]
    },
    {
     "name": "stderr",
     "output_type": "stream",
     "text": [
      "100%|██████████| 5000/5000 [00:00<00:00, 12672.54it/s]\n",
      "100%|██████████| 5000/5000 [00:00<00:00, 12604.36it/s]\n",
      "100%|██████████| 5000/5000 [00:00<00:00, 6748.69it/s]\n",
      "100%|██████████| 5000/5000 [00:00<00:00, 6653.88it/s]\n",
      "100%|██████████| 5000/5000 [00:00<00:00, 6377.64it/s]\n",
      "100%|██████████| 5000/5000 [00:01<00:00, 4739.47it/s]\n"
     ]
    },
    {
     "name": "stdout",
     "output_type": "stream",
     "text": [
      "2.63705622796\n",
      "3.52125039174\n",
      "2.90505804757\n",
      "2.9169598616\n",
      "3.44227790223\n",
      "3.43054607077\n",
      "go 82 85 677 687\n"
     ]
    },
    {
     "name": "stderr",
     "output_type": "stream",
     "text": [
      "100%|██████████| 5000/5000 [00:00<00:00, 12785.83it/s]\n",
      "100%|██████████| 5000/5000 [00:00<00:00, 12451.19it/s]\n",
      "100%|██████████| 5000/5000 [00:00<00:00, 6703.11it/s]\n",
      "100%|██████████| 5000/5000 [00:00<00:00, 6601.81it/s]\n",
      "100%|██████████| 5000/5000 [00:00<00:00, 6690.06it/s]\n",
      "100%|██████████| 5000/5000 [00:01<00:00, 4503.74it/s]\n"
     ]
    },
    {
     "name": "stdout",
     "output_type": "stream",
     "text": [
      "2.56397034514\n",
      "3.4879735541\n",
      "2.80155975998\n",
      "2.85032953513\n",
      "3.38432171177\n",
      "3.2576143664\n",
      "go 82 86 677 697\n"
     ]
    },
    {
     "name": "stderr",
     "output_type": "stream",
     "text": [
      "100%|██████████| 5000/5000 [00:00<00:00, 12117.01it/s]\n",
      "100%|██████████| 5000/5000 [00:00<00:00, 12859.52it/s]\n",
      "100%|██████████| 5000/5000 [00:00<00:00, 6675.10it/s]\n",
      "100%|██████████| 5000/5000 [00:00<00:00, 6557.56it/s]\n",
      "100%|██████████| 5000/5000 [00:00<00:00, 6495.03it/s]\n",
      "100%|██████████| 5000/5000 [00:01<00:00, 4669.45it/s]\n"
     ]
    },
    {
     "name": "stdout",
     "output_type": "stream",
     "text": [
      "2.44802350062\n",
      "3.15254428106\n",
      "2.62254416805\n",
      "2.47988236798\n",
      "3.14424536731\n",
      "2.49292520354\n",
      "go 82 87 677 699\n"
     ]
    },
    {
     "name": "stderr",
     "output_type": "stream",
     "text": [
      "100%|██████████| 5000/5000 [00:00<00:00, 12892.29it/s]\n",
      "100%|██████████| 5000/5000 [00:00<00:00, 12273.06it/s]\n",
      "100%|██████████| 5000/5000 [00:00<00:00, 6276.98it/s]\n",
      "100%|██████████| 5000/5000 [00:00<00:00, 6846.43it/s]\n",
      "100%|██████████| 5000/5000 [00:00<00:00, 6677.47it/s]\n",
      "100%|██████████| 5000/5000 [00:01<00:00, 4691.93it/s]\n"
     ]
    },
    {
     "name": "stdout",
     "output_type": "stream",
     "text": [
      "2.3913394481\n",
      "3.1442952094\n",
      "2.54354163882\n",
      "2.45553456178\n",
      "3.06782778912\n",
      "2.54128955493\n",
      "go 82 88 677 704\n"
     ]
    },
    {
     "name": "stderr",
     "output_type": "stream",
     "text": [
      "100%|██████████| 5000/5000 [00:00<00:00, 12329.66it/s]\n",
      "100%|██████████| 5000/5000 [00:00<00:00, 12715.56it/s]\n",
      "100%|██████████| 5000/5000 [00:00<00:00, 6784.79it/s]\n",
      "100%|██████████| 5000/5000 [00:00<00:00, 6680.07it/s]\n",
      "100%|██████████| 5000/5000 [00:00<00:00, 6514.05it/s]\n",
      "100%|██████████| 5000/5000 [00:01<00:00, 4401.29it/s]\n"
     ]
    },
    {
     "name": "stdout",
     "output_type": "stream",
     "text": [
      "2.2749794797\n",
      "3.12094897293\n",
      "2.40175129487\n",
      "2.35709573611\n",
      "2.93207732516\n",
      "2.48330629347\n",
      "go 82 89 677 709\n"
     ]
    },
    {
     "name": "stderr",
     "output_type": "stream",
     "text": [
      "100%|██████████| 5000/5000 [00:00<00:00, 13292.19it/s]\n",
      "100%|██████████| 5000/5000 [00:00<00:00, 13006.51it/s]\n",
      "100%|██████████| 5000/5000 [00:00<00:00, 6779.81it/s]\n",
      "100%|██████████| 5000/5000 [00:00<00:00, 6866.25it/s]\n",
      "100%|██████████| 5000/5000 [00:00<00:00, 6735.49it/s]\n",
      "100%|██████████| 5000/5000 [00:01<00:00, 4689.55it/s]\n"
     ]
    },
    {
     "name": "stdout",
     "output_type": "stream",
     "text": [
      "2.17446741645\n",
      "3.10640156258\n",
      "2.2802042263\n",
      "2.25493293741\n",
      "2.82931527311\n",
      "2.38886163683\n",
      "go 82 90 677 712\n"
     ]
    },
    {
     "name": "stderr",
     "output_type": "stream",
     "text": [
      "100%|██████████| 5000/5000 [00:00<00:00, 13589.73it/s]\n",
      "100%|██████████| 5000/5000 [00:00<00:00, 13204.77it/s]\n",
      "100%|██████████| 5000/5000 [00:00<00:00, 6793.17it/s]\n",
      "100%|██████████| 5000/5000 [00:00<00:00, 6714.33it/s]\n",
      "100%|██████████| 5000/5000 [00:00<00:00, 6877.03it/s]\n",
      "100%|██████████| 5000/5000 [00:01<00:00, 4765.08it/s]\n"
     ]
    },
    {
     "name": "stdout",
     "output_type": "stream",
     "text": [
      "2.12179319661\n",
      "3.09926063308\n",
      "2.22669386651\n",
      "2.20601384359\n",
      "2.78101284264\n",
      "2.32550873637\n",
      "go 82 91 677 718\n"
     ]
    },
    {
     "name": "stderr",
     "output_type": "stream",
     "text": [
      "100%|██████████| 5000/5000 [00:00<00:00, 13059.34it/s]\n",
      "100%|██████████| 5000/5000 [00:00<00:00, 13282.96it/s]\n",
      "100%|██████████| 5000/5000 [00:00<00:00, 6674.89it/s]\n",
      "100%|██████████| 5000/5000 [00:00<00:00, 6838.31it/s]\n",
      "100%|██████████| 5000/5000 [00:00<00:00, 6727.22it/s]\n",
      "100%|██████████| 5000/5000 [00:01<00:00, 4693.28it/s]\n"
     ]
    },
    {
     "name": "stdout",
     "output_type": "stream",
     "text": [
      "2.03522309991\n",
      "3.0880780195\n",
      "2.11942059671\n",
      "2.11020063336\n",
      "2.70157655209\n",
      "2.21979159456\n",
      "go 82 92 677 721\n"
     ]
    },
    {
     "name": "stderr",
     "output_type": "stream",
     "text": [
      "100%|██████████| 5000/5000 [00:00<00:00, 13566.41it/s]\n",
      "100%|██████████| 5000/5000 [00:00<00:00, 13280.64it/s]\n",
      "100%|██████████| 5000/5000 [00:00<00:00, 6798.96it/s]\n",
      "100%|██████████| 5000/5000 [00:00<00:00, 6828.04it/s]\n",
      "100%|██████████| 5000/5000 [00:00<00:00, 6833.33it/s]\n",
      "100%|██████████| 5000/5000 [00:01<00:00, 4721.02it/s]\n"
     ]
    },
    {
     "name": "stdout",
     "output_type": "stream",
     "text": [
      "1.99715355849\n",
      "3.08608959174\n",
      "2.07523317873\n",
      "2.06911670234\n",
      "2.67687174796\n",
      "2.17086685916\n",
      "go 82 93 677 724\n"
     ]
    },
    {
     "name": "stderr",
     "output_type": "stream",
     "text": [
      "100%|██████████| 5000/5000 [00:00<00:00, 13193.87it/s]\n",
      "100%|██████████| 5000/5000 [00:00<00:00, 13180.30it/s]\n",
      "100%|██████████| 5000/5000 [00:00<00:00, 6915.50it/s]\n",
      "100%|██████████| 5000/5000 [00:00<00:00, 6811.88it/s]\n",
      "100%|██████████| 5000/5000 [00:00<00:00, 6786.91it/s]\n",
      "100%|██████████| 5000/5000 [00:01<00:00, 4724.32it/s]\n"
     ]
    },
    {
     "name": "stdout",
     "output_type": "stream",
     "text": [
      "1.95950346002\n",
      "3.08265989021\n",
      "2.03208930116\n",
      "2.02861789108\n",
      "2.64831197495\n",
      "2.12339862804\n",
      "go 82 94 677 725\n"
     ]
    },
    {
     "name": "stderr",
     "output_type": "stream",
     "text": [
      "100%|██████████| 5000/5000 [00:00<00:00, 13399.94it/s]\n",
      "100%|██████████| 5000/5000 [00:00<00:00, 13109.35it/s]\n",
      "100%|██████████| 5000/5000 [00:00<00:00, 6729.09it/s]\n",
      "100%|██████████| 5000/5000 [00:00<00:00, 6686.85it/s]\n",
      "100%|██████████| 5000/5000 [00:00<00:00, 6856.05it/s]\n",
      "100%|██████████| 5000/5000 [00:01<00:00, 4720.10it/s]\n"
     ]
    },
    {
     "name": "stdout",
     "output_type": "stream",
     "text": [
      "1.94918502267\n",
      "3.08149096546\n",
      "2.01874098848\n",
      "2.01829896018\n",
      "2.64178485377\n",
      "2.1072951487\n",
      "go 82 95 677 728\n"
     ]
    },
    {
     "name": "stderr",
     "output_type": "stream",
     "text": [
      "100%|██████████| 5000/5000 [00:00<00:00, 13134.46it/s]\n",
      "100%|██████████| 5000/5000 [00:00<00:00, 13229.97it/s]\n",
      "100%|██████████| 5000/5000 [00:11<00:00, 443.28it/s]\n",
      "100%|██████████| 5000/5000 [00:00<00:00, 6880.33it/s]\n",
      "100%|██████████| 5000/5000 [00:00<00:00, 6860.76it/s]\n",
      "100%|██████████| 5000/5000 [00:01<00:00, 4759.07it/s]\n"
     ]
    },
    {
     "name": "stdout",
     "output_type": "stream",
     "text": [
      "2.07721768628\n",
      "3.13743456951\n",
      "2.15002147168\n",
      "2.14268492852\n",
      "2.61143544035\n",
      "2.22355186274\n",
      "678\n",
      "go 83 84 678 686\n"
     ]
    },
    {
     "name": "stderr",
     "output_type": "stream",
     "text": [
      "100%|██████████| 5000/5000 [00:00<00:00, 13103.06it/s]\n",
      "100%|██████████| 5000/5000 [00:00<00:00, 13176.13it/s]\n",
      "100%|██████████| 5000/5000 [00:00<00:00, 6809.08it/s]\n",
      "100%|██████████| 5000/5000 [00:00<00:00, 6819.90it/s]\n",
      "100%|██████████| 5000/5000 [00:00<00:00, 6965.16it/s]\n",
      "100%|██████████| 5000/5000 [00:01<00:00, 4678.60it/s]\n"
     ]
    },
    {
     "name": "stdout",
     "output_type": "stream",
     "text": [
      "2.59127579965\n",
      "3.47373748618\n",
      "2.34648534843\n",
      "2.91966368022\n",
      "3.57432080819\n",
      "1.85721922199\n",
      "go 83 85 678 687\n"
     ]
    },
    {
     "name": "stderr",
     "output_type": "stream",
     "text": [
      "100%|██████████| 5000/5000 [00:00<00:00, 13417.56it/s]\n",
      "100%|██████████| 5000/5000 [00:00<00:00, 13332.98it/s]\n",
      "100%|██████████| 5000/5000 [00:00<00:00, 6894.36it/s]\n",
      "100%|██████████| 5000/5000 [00:00<00:00, 6828.21it/s]\n",
      "100%|██████████| 5000/5000 [00:00<00:00, 6714.01it/s]\n",
      "100%|██████████| 5000/5000 [00:01<00:00, 4767.31it/s]\n"
     ]
    },
    {
     "name": "stdout",
     "output_type": "stream",
     "text": [
      "2.49782043521\n",
      "3.41136767222\n",
      "2.37564874723\n",
      "2.83827654669\n",
      "3.48970599154\n",
      "1.65021093939\n",
      "go 83 86 678 697\n"
     ]
    },
    {
     "name": "stderr",
     "output_type": "stream",
     "text": [
      "100%|██████████| 5000/5000 [00:00<00:00, 13102.66it/s]\n",
      "100%|██████████| 5000/5000 [00:00<00:00, 13176.79it/s]\n",
      "100%|██████████| 5000/5000 [00:00<00:00, 6718.58it/s]\n",
      "100%|██████████| 5000/5000 [00:00<00:00, 6765.07it/s]\n",
      "100%|██████████| 5000/5000 [00:00<00:00, 6652.47it/s]\n",
      "100%|██████████| 5000/5000 [00:01<00:00, 4700.87it/s]\n"
     ]
    },
    {
     "name": "stdout",
     "output_type": "stream",
     "text": [
      "2.41111990336\n",
      "3.00549035976\n",
      "2.60026164987\n",
      "2.39575771048\n",
      "3.09871542832\n",
      "1.36830369874\n",
      "go 83 87 678 699\n"
     ]
    },
    {
     "name": "stderr",
     "output_type": "stream",
     "text": [
      "100%|██████████| 5000/5000 [00:00<00:00, 13538.69it/s]\n",
      "100%|██████████| 5000/5000 [00:00<00:00, 13532.02it/s]\n",
      "100%|██████████| 5000/5000 [00:00<00:00, 6733.96it/s]\n",
      "100%|██████████| 5000/5000 [00:00<00:00, 6738.46it/s]\n",
      "100%|██████████| 5000/5000 [00:00<00:00, 6834.59it/s]\n",
      "100%|██████████| 5000/5000 [00:01<00:00, 4677.37it/s]\n"
     ]
    },
    {
     "name": "stdout",
     "output_type": "stream",
     "text": [
      "2.34879347997\n",
      "2.98800753197\n",
      "2.52397475456\n",
      "2.3845907812\n",
      "3.01683643495\n",
      "2.20040930802\n",
      "686\n",
      "go 84 86 686 697\n"
     ]
    },
    {
     "name": "stderr",
     "output_type": "stream",
     "text": [
      "100%|██████████| 5000/5000 [00:00<00:00, 13131.35it/s]\n",
      "100%|██████████| 5000/5000 [00:00<00:00, 13197.87it/s]\n",
      "100%|██████████| 5000/5000 [00:00<00:00, 6606.25it/s]\n",
      "100%|██████████| 5000/5000 [00:00<00:00, 6700.82it/s]\n",
      "100%|██████████| 5000/5000 [00:00<00:00, 6806.31it/s]\n",
      "100%|██████████| 5000/5000 [00:01<00:00, 4645.80it/s]\n"
     ]
    },
    {
     "name": "stdout",
     "output_type": "stream",
     "text": [
      "2.499932746\n",
      "2.79458969091\n",
      "2.27814767625\n",
      "1.54619189268\n",
      "1.90444632833\n",
      "1.96247151883\n",
      "go 84 87 686 699\n"
     ]
    },
    {
     "name": "stderr",
     "output_type": "stream",
     "text": [
      "100%|██████████| 5000/5000 [00:00<00:00, 13271.47it/s]\n",
      "100%|██████████| 5000/5000 [00:00<00:00, 13410.55it/s]\n",
      "100%|██████████| 5000/5000 [00:00<00:00, 6785.43it/s]\n",
      "100%|██████████| 5000/5000 [00:00<00:00, 6719.38it/s]\n",
      "100%|██████████| 5000/5000 [00:00<00:00, 6758.79it/s]\n",
      "100%|██████████| 5000/5000 [00:01<00:00, 4658.25it/s]\n"
     ]
    },
    {
     "name": "stdout",
     "output_type": "stream",
     "text": [
      "2.39777041145\n",
      "2.69267660199\n",
      "2.25875492451\n",
      "2.30806831842\n",
      "2.46723447293\n",
      "2.56363406435\n",
      "687\n",
      "go 85 86 687 697\n"
     ]
    },
    {
     "name": "stderr",
     "output_type": "stream",
     "text": [
      "100%|██████████| 5000/5000 [00:00<00:00, 12892.44it/s]\n",
      "100%|██████████| 5000/5000 [00:00<00:00, 12879.16it/s]\n",
      "100%|██████████| 5000/5000 [00:00<00:00, 6717.10it/s]\n",
      "100%|██████████| 5000/5000 [00:00<00:00, 6656.76it/s]\n",
      "100%|██████████| 5000/5000 [00:00<00:00, 6779.36it/s]\n",
      "100%|██████████| 5000/5000 [00:01<00:00, 4773.48it/s]\n"
     ]
    },
    {
     "name": "stdout",
     "output_type": "stream",
     "text": [
      "2.57323350876\n",
      "2.57761558586\n",
      "2.25807558168\n",
      "1.76768955403\n",
      "1.76317764487\n",
      "2.13027704351\n",
      "go 85 87 687 699\n"
     ]
    },
    {
     "name": "stderr",
     "output_type": "stream",
     "text": [
      "100%|██████████| 5000/5000 [00:00<00:00, 13201.73it/s]\n",
      "100%|██████████| 5000/5000 [00:00<00:00, 13051.36it/s]\n",
      "100%|██████████| 5000/5000 [00:00<00:00, 6799.21it/s]\n",
      "100%|██████████| 5000/5000 [00:00<00:00, 6781.04it/s]\n",
      "100%|██████████| 5000/5000 [00:00<00:00, 6846.14it/s]\n",
      "100%|██████████| 5000/5000 [00:01<00:00, 4613.85it/s]\n"
     ]
    },
    {
     "name": "stdout",
     "output_type": "stream",
     "text": [
      "2.44860006208\n",
      "2.44932775323\n",
      "2.28765753632\n",
      "2.42626200799\n",
      "2.42125000675\n",
      "2.64454862596\n",
      "697\n",
      "go 86 88 697 704\n"
     ]
    },
    {
     "name": "stderr",
     "output_type": "stream",
     "text": [
      "100%|██████████| 5000/5000 [00:00<00:00, 14188.53it/s]\n",
      "100%|██████████| 5000/5000 [00:00<00:00, 13684.27it/s]\n",
      "100%|██████████| 5000/5000 [00:00<00:00, 7597.72it/s]\n",
      "100%|██████████| 5000/5000 [00:00<00:00, 7531.67it/s]\n",
      "100%|██████████| 5000/5000 [00:00<00:00, 6725.99it/s]\n",
      "100%|██████████| 5000/5000 [00:01<00:00, 4819.31it/s]\n"
     ]
    },
    {
     "name": "stdout",
     "output_type": "stream",
     "text": [
      "-302.749893172\n",
      "2.84328468404\n",
      "-35.9206549611\n",
      "-302.264855562\n",
      "2.87260694544\n",
      "-28.2573909953\n",
      "go 86 89 697 709\n"
     ]
    },
    {
     "name": "stderr",
     "output_type": "stream",
     "text": [
      "100%|██████████| 5000/5000 [00:00<00:00, 14135.48it/s]\n",
      "100%|██████████| 5000/5000 [00:00<00:00, 14378.43it/s]\n",
      "100%|██████████| 5000/5000 [00:00<00:00, 7720.02it/s]\n",
      "100%|██████████| 5000/5000 [00:00<00:00, 7054.67it/s]\n",
      "100%|██████████| 5000/5000 [00:00<00:00, 6858.71it/s]\n",
      "100%|██████████| 5000/5000 [00:01<00:00, 4793.09it/s]\n"
     ]
    },
    {
     "name": "stdout",
     "output_type": "stream",
     "text": [
      "-324.075499321\n",
      "2.70301866962\n",
      "-42.8889626766\n",
      "-323.823947106\n",
      "2.44375023172\n",
      "-26.5069107484\n",
      "go 86 90 697 712\n"
     ]
    },
    {
     "name": "stderr",
     "output_type": "stream",
     "text": [
      "100%|██████████| 5000/5000 [00:00<00:00, 14054.42it/s]\n",
      "100%|██████████| 5000/5000 [00:00<00:00, 13903.17it/s]\n",
      "100%|██████████| 5000/5000 [00:00<00:00, 7650.08it/s]\n",
      "100%|██████████| 5000/5000 [00:00<00:00, 7005.64it/s]\n",
      "100%|██████████| 5000/5000 [00:00<00:00, 6963.00it/s]\n",
      "100%|██████████| 5000/5000 [00:01<00:00, 4881.74it/s]\n"
     ]
    },
    {
     "name": "stdout",
     "output_type": "stream",
     "text": [
      "-330.065211591\n",
      "2.66520054696\n",
      "-42.5540209662\n",
      "-41.1282831918\n",
      "2.32040954038\n",
      "-329.584000061\n",
      "go 86 91 697 718\n"
     ]
    },
    {
     "name": "stderr",
     "output_type": "stream",
     "text": [
      "100%|██████████| 5000/5000 [00:00<00:00, 13975.73it/s]\n",
      "100%|██████████| 5000/5000 [00:00<00:00, 13829.73it/s]\n",
      "100%|██████████| 5000/5000 [00:00<00:00, 7819.62it/s]\n",
      "100%|██████████| 5000/5000 [00:00<00:00, 7014.82it/s]\n",
      "100%|██████████| 5000/5000 [00:00<00:00, 6938.17it/s]\n",
      "100%|██████████| 5000/5000 [00:01<00:00, 4968.87it/s]\n"
     ]
    },
    {
     "name": "stdout",
     "output_type": "stream",
     "text": [
      "-336.889558031\n",
      "2.62452858766\n",
      "-47.4473809186\n",
      "-336.736496663\n",
      "2.17879271304\n",
      "-25.1716024262\n",
      "go 86 92 697 721\n"
     ]
    },
    {
     "name": "stderr",
     "output_type": "stream",
     "text": [
      "100%|██████████| 5000/5000 [00:00<00:00, 14387.87it/s]\n",
      "100%|██████████| 5000/5000 [00:00<00:00, 14112.41it/s]\n",
      "100%|██████████| 5000/5000 [00:00<00:00, 7752.48it/s]\n",
      "100%|██████████| 5000/5000 [00:00<00:00, 7102.18it/s]\n",
      "100%|██████████| 5000/5000 [00:00<00:00, 6972.37it/s]\n",
      "100%|██████████| 5000/5000 [00:01<00:00, 4961.69it/s]\n"
     ]
    },
    {
     "name": "stdout",
     "output_type": "stream",
     "text": [
      "-339.03100764\n",
      "2.60951969253\n",
      "-38.9110545894\n",
      "-338.892549204\n",
      "2.13088209627\n",
      "-27.0473892387\n",
      "go 86 93 697 724\n"
     ]
    },
    {
     "name": "stderr",
     "output_type": "stream",
     "text": [
      "100%|██████████| 5000/5000 [00:00<00:00, 14690.75it/s]\n",
      "100%|██████████| 5000/5000 [00:00<00:00, 14081.61it/s]\n",
      "100%|██████████| 5000/5000 [00:00<00:00, 7823.82it/s]\n",
      "100%|██████████| 5000/5000 [00:00<00:00, 7285.61it/s]\n",
      "100%|██████████| 5000/5000 [00:00<00:00, 7035.39it/s]\n",
      "100%|██████████| 5000/5000 [00:00<00:00, 5007.89it/s]\n"
     ]
    },
    {
     "name": "stdout",
     "output_type": "stream",
     "text": [
      "-340.685411781\n",
      "2.59986308576\n",
      "-45.9230186423\n",
      "-340.571567292\n",
      "2.09293556608\n",
      "-340.425403908\n",
      "go 86 94 697 725\n"
     ]
    },
    {
     "name": "stderr",
     "output_type": "stream",
     "text": [
      "100%|██████████| 5000/5000 [00:00<00:00, 14369.13it/s]\n",
      "100%|██████████| 5000/5000 [00:00<00:00, 14077.68it/s]\n",
      "100%|██████████| 5000/5000 [00:00<00:00, 7974.86it/s]\n",
      "100%|██████████| 5000/5000 [00:00<00:00, 7231.16it/s]\n",
      "100%|██████████| 5000/5000 [00:00<00:00, 7253.77it/s]\n",
      "100%|██████████| 5000/5000 [00:00<00:00, 5089.43it/s]\n"
     ]
    },
    {
     "name": "stdout",
     "output_type": "stream",
     "text": [
      "-341.16205891\n",
      "2.59892897266\n",
      "-41.6795558933\n",
      "-341.045733731\n",
      "2.08880038462\n",
      "-28.2587943964\n",
      "go 86 95 697 728\n"
     ]
    },
    {
     "name": "stderr",
     "output_type": "stream",
     "text": [
      "100%|██████████| 5000/5000 [00:00<00:00, 13780.22it/s]\n",
      "100%|██████████| 5000/5000 [00:00<00:00, 13530.55it/s]\n",
      "100%|██████████| 5000/5000 [00:00<00:00, 6752.63it/s]\n",
      "100%|██████████| 5000/5000 [00:00<00:00, 6736.97it/s]\n",
      "100%|██████████| 5000/5000 [00:00<00:00, 6808.16it/s]\n",
      "100%|██████████| 5000/5000 [00:01<00:00, 4792.21it/s]\n"
     ]
    },
    {
     "name": "stdout",
     "output_type": "stream",
     "text": [
      "1.73571216383\n",
      "2.76843547321\n",
      "1.80933564999\n",
      "1.70728256485\n",
      "2.08814925219\n",
      "1.8002526043\n",
      "699\n",
      "go 87 88 699 704\n"
     ]
    },
    {
     "name": "stderr",
     "output_type": "stream",
     "text": [
      "100%|██████████| 5000/5000 [00:00<00:00, 14062.09it/s]\n",
      "100%|██████████| 5000/5000 [00:00<00:00, 14114.96it/s]\n",
      "100%|██████████| 5000/5000 [00:00<00:00, 7745.62it/s]\n",
      "100%|██████████| 5000/5000 [00:00<00:00, 7488.35it/s]\n",
      "100%|██████████| 5000/5000 [00:00<00:00, 7668.10it/s]\n",
      "100%|██████████| 5000/5000 [00:00<00:00, 5330.01it/s]\n"
     ]
    },
    {
     "name": "stdout",
     "output_type": "stream",
     "text": [
      "-282.241725947\n",
      "-282.249581033\n",
      "-33.1988042194\n",
      "-31.770182207\n",
      "-31.742695066\n",
      "-18.5117124601\n",
      "go 87 89 699 709\n"
     ]
    },
    {
     "name": "stderr",
     "output_type": "stream",
     "text": [
      "100%|██████████| 5000/5000 [00:00<00:00, 14172.45it/s]\n",
      "100%|██████████| 5000/5000 [00:00<00:00, 14298.70it/s]\n",
      "100%|██████████| 5000/5000 [00:00<00:00, 7569.12it/s]\n",
      "100%|██████████| 5000/5000 [00:00<00:00, 6977.36it/s]\n",
      "100%|██████████| 5000/5000 [00:00<00:00, 7017.06it/s]\n",
      "100%|██████████| 5000/5000 [00:01<00:00, 4863.99it/s]\n"
     ]
    },
    {
     "name": "stdout",
     "output_type": "stream",
     "text": [
      "-318.11020324\n",
      "-318.084175637\n",
      "-39.5721197545\n",
      "-36.486331244\n",
      "-42.5175586923\n",
      "-27.1902654821\n",
      "go 87 90 699 712\n"
     ]
    },
    {
     "name": "stderr",
     "output_type": "stream",
     "text": [
      "100%|██████████| 5000/5000 [00:00<00:00, 14562.31it/s]\n",
      "100%|██████████| 5000/5000 [00:00<00:00, 14379.97it/s]\n",
      "100%|██████████| 5000/5000 [00:00<00:00, 7748.63it/s]\n",
      "100%|██████████| 5000/5000 [00:00<00:00, 6986.98it/s]\n",
      "100%|██████████| 5000/5000 [00:00<00:00, 7062.29it/s]\n",
      "100%|██████████| 5000/5000 [00:01<00:00, 4783.94it/s]\n"
     ]
    },
    {
     "name": "stdout",
     "output_type": "stream",
     "text": [
      "-326.383504026\n",
      "-326.381000817\n",
      "-38.4820621847\n",
      "-326.148065589\n",
      "-38.5409410794\n",
      "-29.9176681916\n",
      "go 87 91 699 718\n"
     ]
    },
    {
     "name": "stderr",
     "output_type": "stream",
     "text": [
      "100%|██████████| 5000/5000 [00:00<00:00, 13555.76it/s]\n",
      "100%|██████████| 5000/5000 [00:00<00:00, 14193.34it/s]\n",
      "100%|██████████| 5000/5000 [00:00<00:00, 7506.73it/s]\n",
      "100%|██████████| 5000/5000 [00:00<00:00, 6914.60it/s]\n",
      "100%|██████████| 5000/5000 [00:00<00:00, 6966.98it/s]\n",
      "100%|██████████| 5000/5000 [00:01<00:00, 4820.57it/s]\n"
     ]
    },
    {
     "name": "stdout",
     "output_type": "stream",
     "text": [
      "-335.091533531\n",
      "-335.097112527\n",
      "-42.2217766783\n",
      "-334.923783739\n",
      "-41.2660536066\n",
      "-22.0040364515\n",
      "go 87 92 699 721\n"
     ]
    },
    {
     "name": "stderr",
     "output_type": "stream",
     "text": [
      "100%|██████████| 5000/5000 [00:00<00:00, 13966.91it/s]\n",
      "100%|██████████| 5000/5000 [00:00<00:00, 14498.38it/s]\n",
      "100%|██████████| 5000/5000 [00:00<00:00, 7759.60it/s]\n",
      "100%|██████████| 5000/5000 [00:00<00:00, 7014.96it/s]\n",
      "100%|██████████| 5000/5000 [00:00<00:00, 6913.63it/s]\n",
      "100%|██████████| 5000/5000 [00:01<00:00, 4861.51it/s]\n"
     ]
    },
    {
     "name": "stdout",
     "output_type": "stream",
     "text": [
      "-337.667694908\n",
      "-337.670676814\n",
      "-47.9441693589\n",
      "-337.522003319\n",
      "-42.0364673775\n",
      "-24.9060740557\n",
      "go 87 93 699 724\n"
     ]
    },
    {
     "name": "stderr",
     "output_type": "stream",
     "text": [
      "100%|██████████| 5000/5000 [00:00<00:00, 14435.38it/s]\n",
      "100%|██████████| 5000/5000 [00:00<00:00, 14420.52it/s]\n",
      "100%|██████████| 5000/5000 [00:00<00:00, 7880.13it/s]\n",
      "100%|██████████| 5000/5000 [00:00<00:00, 6956.08it/s]\n",
      "100%|██████████| 5000/5000 [00:00<00:00, 7274.28it/s]\n",
      "100%|██████████| 5000/5000 [00:01<00:00, 4860.25it/s]\n"
     ]
    },
    {
     "name": "stdout",
     "output_type": "stream",
     "text": [
      "-339.626898971\n",
      "-339.627132852\n",
      "-41.314280484\n",
      "-339.498344188\n",
      "-339.49837701\n",
      "-24.450934274\n",
      "go 87 94 699 725\n"
     ]
    },
    {
     "name": "stderr",
     "output_type": "stream",
     "text": [
      "100%|██████████| 5000/5000 [00:00<00:00, 14843.57it/s]\n",
      "100%|██████████| 5000/5000 [00:00<00:00, 14436.59it/s]\n",
      "100%|██████████| 5000/5000 [00:00<00:00, 7916.91it/s]\n",
      "100%|██████████| 5000/5000 [00:00<00:00, 7237.74it/s]\n",
      "100%|██████████| 5000/5000 [00:00<00:00, 7263.46it/s]\n",
      "100%|██████████| 5000/5000 [00:00<00:00, 5002.64it/s]\n"
     ]
    },
    {
     "name": "stdout",
     "output_type": "stream",
     "text": [
      "-340.176163147\n",
      "-340.174938489\n",
      "-45.586617766\n",
      "-340.057708147\n",
      "-340.05386251\n",
      "-23.1451405697\n",
      "go 87 95 699 728\n"
     ]
    },
    {
     "name": "stderr",
     "output_type": "stream",
     "text": [
      "100%|██████████| 5000/5000 [00:00<00:00, 13522.98it/s]\n",
      "100%|██████████| 5000/5000 [00:00<00:00, 13301.23it/s]\n",
      "100%|██████████| 5000/5000 [00:00<00:00, 6925.24it/s]\n",
      "100%|██████████| 5000/5000 [00:00<00:00, 6785.19it/s]\n",
      "100%|██████████| 5000/5000 [00:00<00:00, 6590.28it/s]\n",
      "100%|██████████| 5000/5000 [00:01<00:00, 4718.29it/s]\n"
     ]
    },
    {
     "name": "stdout",
     "output_type": "stream",
     "text": [
      "1.77351760112\n",
      "1.77632561728\n",
      "1.85283355475\n",
      "1.74275014369\n",
      "1.74614775089\n",
      "1.84394136676\n",
      "704\n",
      "go 88 89 704 709\n"
     ]
    },
    {
     "name": "stderr",
     "output_type": "stream",
     "text": [
      "100%|██████████| 5000/5000 [00:00<00:00, 14359.52it/s]\n",
      "100%|██████████| 5000/5000 [00:00<00:00, 14170.37it/s]\n",
      "100%|██████████| 5000/5000 [00:00<00:00, 7759.09it/s]\n",
      "100%|██████████| 5000/5000 [00:00<00:00, 7635.85it/s]\n",
      "100%|██████████| 5000/5000 [00:00<00:00, 7788.23it/s]\n",
      "100%|██████████| 5000/5000 [00:00<00:00, 5561.10it/s]\n"
     ]
    },
    {
     "name": "stdout",
     "output_type": "stream",
     "text": [
      "-282.230763545\n",
      "-282.255955354\n",
      "-32.8248397288\n",
      "-31.7810038927\n",
      "-35.8381988986\n",
      "-19.1586447939\n",
      "go 88 90 704 712\n"
     ]
    },
    {
     "name": "stderr",
     "output_type": "stream",
     "text": [
      "100%|██████████| 5000/5000 [00:00<00:00, 15003.58it/s]\n",
      "100%|██████████| 5000/5000 [00:00<00:00, 14417.94it/s]\n",
      "100%|██████████| 5000/5000 [00:00<00:00, 7910.55it/s]\n",
      "100%|██████████| 5000/5000 [00:00<00:00, 7361.21it/s]\n",
      "100%|██████████| 5000/5000 [00:00<00:00, 7253.15it/s]\n",
      "100%|██████████| 5000/5000 [00:00<00:00, 5053.86it/s]\n"
     ]
    },
    {
     "name": "stdout",
     "output_type": "stream",
     "text": [
      "-309.140322186\n",
      "-309.159512475\n",
      "-39.5542555016\n",
      "-41.0743927448\n",
      "-308.735695842\n",
      "-24.5114285745\n",
      "go 88 91 704 718\n"
     ]
    },
    {
     "name": "stderr",
     "output_type": "stream",
     "text": [
      "100%|██████████| 5000/5000 [00:00<00:00, 14896.56it/s]\n",
      "100%|██████████| 5000/5000 [00:00<00:00, 14622.84it/s]\n",
      "100%|██████████| 5000/5000 [00:00<00:00, 7971.58it/s]\n",
      "100%|██████████| 5000/5000 [00:00<00:00, 7289.50it/s]\n",
      "100%|██████████| 5000/5000 [00:00<00:00, 7257.91it/s]\n",
      "100%|██████████| 5000/5000 [00:00<00:00, 5007.62it/s]\n"
     ]
    },
    {
     "name": "stdout",
     "output_type": "stream",
     "text": [
      "-328.354616106\n",
      "-328.35275471\n",
      "-46.5142854951\n",
      "-41.8129501797\n",
      "-41.1553992917\n",
      "-25.5699845868\n",
      "go 88 92 704 721\n"
     ]
    },
    {
     "name": "stderr",
     "output_type": "stream",
     "text": [
      "100%|██████████| 5000/5000 [00:00<00:00, 14415.74it/s]\n",
      "100%|██████████| 5000/5000 [00:00<00:00, 14688.73it/s]\n",
      "100%|██████████| 5000/5000 [00:00<00:00, 7919.20it/s]\n",
      "100%|██████████| 5000/5000 [00:00<00:00, 7297.54it/s]\n",
      "100%|██████████| 5000/5000 [00:00<00:00, 7258.20it/s]\n",
      "100%|██████████| 5000/5000 [00:00<00:00, 5022.34it/s]\n"
     ]
    },
    {
     "name": "stdout",
     "output_type": "stream",
     "text": [
      "-332.877571968\n",
      "-332.877719603\n",
      "-44.3936389548\n",
      "-40.0540209714\n",
      "-332.686397213\n",
      "-27.8937096104\n",
      "go 88 93 704 724\n"
     ]
    },
    {
     "name": "stderr",
     "output_type": "stream",
     "text": [
      "100%|██████████| 5000/5000 [00:00<00:00, 14727.19it/s]\n",
      "100%|██████████| 5000/5000 [00:00<00:00, 14249.40it/s]\n",
      "100%|██████████| 5000/5000 [00:00<00:00, 7828.82it/s]\n",
      "100%|██████████| 5000/5000 [00:00<00:00, 7299.15it/s]\n",
      "100%|██████████| 5000/5000 [00:00<00:00, 7293.60it/s]\n",
      "100%|██████████| 5000/5000 [00:00<00:00, 5017.56it/s]\n"
     ]
    },
    {
     "name": "stdout",
     "output_type": "stream",
     "text": [
      "-336.03907521\n",
      "-336.043905256\n",
      "-42.9781125207\n",
      "-335.881296054\n",
      "-335.880676732\n",
      "-24.1962472443\n",
      "go 88 94 704 725\n"
     ]
    },
    {
     "name": "stderr",
     "output_type": "stream",
     "text": [
      "100%|██████████| 5000/5000 [00:00<00:00, 14683.85it/s]\n",
      "100%|██████████| 5000/5000 [00:00<00:00, 14609.08it/s]\n",
      "100%|██████████| 5000/5000 [00:00<00:00, 7757.70it/s]\n",
      "100%|██████████| 5000/5000 [00:00<00:00, 7015.68it/s]\n",
      "100%|██████████| 5000/5000 [00:00<00:00, 6943.52it/s]\n",
      "100%|██████████| 5000/5000 [00:01<00:00, 4858.64it/s]\n"
     ]
    },
    {
     "name": "stdout",
     "output_type": "stream",
     "text": [
      "-336.89434789\n",
      "-336.89303017\n",
      "-47.0804628322\n",
      "-41.9567383976\n",
      "-44.1963853491\n",
      "-23.5108048909\n",
      "go 88 95 704 728\n"
     ]
    },
    {
     "name": "stderr",
     "output_type": "stream",
     "text": [
      "100%|██████████| 5000/5000 [00:00<00:00, 13234.45it/s]\n",
      "100%|██████████| 5000/5000 [00:00<00:00, 13105.47it/s]\n",
      "100%|██████████| 5000/5000 [00:00<00:00, 6681.48it/s]\n",
      "100%|██████████| 5000/5000 [00:00<00:00, 6931.56it/s]\n",
      "100%|██████████| 5000/5000 [00:00<00:00, 6839.18it/s]\n",
      "100%|██████████| 5000/5000 [00:01<00:00, 4782.59it/s]\n"
     ]
    },
    {
     "name": "stdout",
     "output_type": "stream",
     "text": [
      "1.89000462719\n",
      "1.888033712\n",
      "1.98293052399\n",
      "1.84749227018\n",
      "1.8461688362\n",
      "1.97106255505\n",
      "709\n",
      "go 89 91 709 718\n"
     ]
    },
    {
     "name": "stderr",
     "output_type": "stream",
     "text": [
      "100%|██████████| 5000/5000 [00:00<00:00, 13980.46it/s]\n",
      "100%|██████████| 5000/5000 [00:00<00:00, 14106.44it/s]\n",
      "100%|██████████| 5000/5000 [00:00<00:00, 7703.80it/s]\n",
      "100%|██████████| 5000/5000 [00:00<00:00, 6944.15it/s]\n",
      "100%|██████████| 5000/5000 [00:00<00:00, 6999.86it/s]\n",
      "100%|██████████| 5000/5000 [00:01<00:00, 4894.16it/s]\n"
     ]
    },
    {
     "name": "stdout",
     "output_type": "stream",
     "text": [
      "-314.125713448\n",
      "-314.125816667\n",
      "-38.2538655861\n",
      "-38.3743836329\n",
      "-39.1574418156\n",
      "-22.247775103\n",
      "go 89 92 709 721\n"
     ]
    },
    {
     "name": "stderr",
     "output_type": "stream",
     "text": [
      "100%|██████████| 5000/5000 [00:00<00:00, 14297.43it/s]\n",
      "100%|██████████| 5000/5000 [00:00<00:00, 14487.47it/s]\n",
      "100%|██████████| 5000/5000 [00:00<00:00, 7780.14it/s]\n",
      "100%|██████████| 5000/5000 [00:00<00:00, 6955.67it/s]\n",
      "100%|██████████| 5000/5000 [00:00<00:00, 7018.80it/s]\n",
      "100%|██████████| 5000/5000 [00:01<00:00, 4888.35it/s]\n"
     ]
    },
    {
     "name": "stdout",
     "output_type": "stream",
     "text": [
      "-324.075816857\n",
      "-324.088645396\n",
      "-43.939200086\n",
      "-37.8869900461\n",
      "-42.9778689917\n",
      "-24.7493587478\n",
      "go 89 93 709 724\n"
     ]
    },
    {
     "name": "stderr",
     "output_type": "stream",
     "text": [
      "100%|██████████| 5000/5000 [00:00<00:00, 14305.00it/s]\n",
      "100%|██████████| 5000/5000 [00:00<00:00, 14302.68it/s]\n",
      "100%|██████████| 5000/5000 [00:00<00:00, 7713.80it/s]\n",
      "100%|██████████| 5000/5000 [00:00<00:00, 7020.90it/s]\n",
      "100%|██████████| 5000/5000 [00:00<00:00, 6904.67it/s]\n",
      "100%|██████████| 5000/5000 [00:01<00:00, 4873.27it/s]\n"
     ]
    },
    {
     "name": "stdout",
     "output_type": "stream",
     "text": [
      "-330.059828874\n",
      "-330.052412236\n",
      "-45.4655408778\n",
      "-329.853546644\n",
      "-329.845999338\n",
      "-25.6224302496\n",
      "go 89 94 709 725\n"
     ]
    },
    {
     "name": "stderr",
     "output_type": "stream",
     "text": [
      "100%|██████████| 5000/5000 [00:00<00:00, 13762.36it/s]\n",
      "100%|██████████| 5000/5000 [00:00<00:00, 14294.70it/s]\n",
      "100%|██████████| 5000/5000 [00:00<00:00, 7630.86it/s]\n",
      "100%|██████████| 5000/5000 [00:00<00:00, 7112.24it/s]\n",
      "100%|██████████| 5000/5000 [00:00<00:00, 7016.16it/s]\n",
      "100%|██████████| 5000/5000 [00:01<00:00, 4843.54it/s]\n"
     ]
    },
    {
     "name": "stdout",
     "output_type": "stream",
     "text": [
      "-331.561763949\n",
      "-331.558692929\n",
      "-46.4464620999\n",
      "-40.1736778965\n",
      "-42.6035994118\n",
      "-22.5542534293\n",
      "go 89 95 709 728\n"
     ]
    },
    {
     "name": "stderr",
     "output_type": "stream",
     "text": [
      "100%|██████████| 5000/5000 [00:00<00:00, 13484.90it/s]\n",
      "100%|██████████| 5000/5000 [00:00<00:00, 13145.51it/s]\n",
      "100%|██████████| 5000/5000 [00:00<00:00, 6672.52it/s]\n",
      "100%|██████████| 5000/5000 [00:00<00:00, 6960.98it/s]\n",
      "100%|██████████| 5000/5000 [00:00<00:00, 7036.55it/s]\n",
      "100%|██████████| 5000/5000 [00:01<00:00, 4791.94it/s]\n"
     ]
    },
    {
     "name": "stdout",
     "output_type": "stream",
     "text": [
      "2.03449478709\n",
      "2.03490970628\n",
      "2.15345109343\n",
      "1.98099712721\n",
      "1.97648966599\n",
      "2.1430149035\n",
      "712\n",
      "go 90 91 712 718\n"
     ]
    },
    {
     "name": "stderr",
     "output_type": "stream",
     "text": [
      "100%|██████████| 5000/5000 [00:00<00:00, 14211.09it/s]\n",
      "100%|██████████| 5000/5000 [00:00<00:00, 14439.52it/s]\n",
      "100%|██████████| 5000/5000 [00:00<00:00, 7787.29it/s]\n",
      "100%|██████████| 5000/5000 [00:00<00:00, 7800.33it/s]\n",
      "100%|██████████| 5000/5000 [00:00<00:00, 7644.49it/s]\n",
      "100%|██████████| 5000/5000 [00:00<00:00, 5324.78it/s]\n"
     ]
    },
    {
     "name": "stdout",
     "output_type": "stream",
     "text": [
      "-294.19348355\n",
      "-294.19771854\n",
      "-39.7395011235\n",
      "-36.2635346288\n",
      "-40.5821242669\n",
      "-19.5726104195\n",
      "go 90 92 712 721\n"
     ]
    },
    {
     "name": "stderr",
     "output_type": "stream",
     "text": [
      "100%|██████████| 5000/5000 [00:00<00:00, 14378.10it/s]\n",
      "100%|██████████| 5000/5000 [00:00<00:00, 14368.32it/s]\n",
      "100%|██████████| 5000/5000 [00:00<00:00, 7935.46it/s]\n",
      "100%|██████████| 5000/5000 [00:00<00:00, 7036.80it/s]\n",
      "100%|██████████| 5000/5000 [00:00<00:00, 7158.53it/s]\n",
      "100%|██████████| 5000/5000 [00:00<00:00, 5002.49it/s]\n"
     ]
    },
    {
     "name": "stdout",
     "output_type": "stream",
     "text": [
      "-314.121506828\n",
      "-314.124824736\n",
      "-313.77560516\n",
      "-43.8431326345\n",
      "-35.7252795678\n",
      "-26.6410280888\n",
      "go 90 93 712 724\n"
     ]
    },
    {
     "name": "stderr",
     "output_type": "stream",
     "text": [
      "100%|██████████| 5000/5000 [00:00<00:00, 14114.73it/s]\n",
      "100%|██████████| 5000/5000 [00:00<00:00, 14380.41it/s]\n",
      "100%|██████████| 5000/5000 [00:00<00:00, 7722.74it/s]\n",
      "100%|██████████| 5000/5000 [00:00<00:00, 7119.15it/s]\n",
      "100%|██████████| 5000/5000 [00:00<00:00, 7153.26it/s]\n",
      "100%|██████████| 5000/5000 [00:01<00:00, 4967.37it/s]\n"
     ]
    },
    {
     "name": "stdout",
     "output_type": "stream",
     "text": [
      "-324.084413024\n",
      "-324.082152845\n",
      "-36.3748367933\n",
      "-323.806784392\n",
      "-43.4289612086\n",
      "-30.2805288642\n",
      "go 90 94 712 725\n"
     ]
    },
    {
     "name": "stderr",
     "output_type": "stream",
     "text": [
      "100%|██████████| 5000/5000 [00:00<00:00, 14222.89it/s]\n",
      "100%|██████████| 5000/5000 [00:00<00:00, 14375.54it/s]\n",
      "100%|██████████| 5000/5000 [00:00<00:00, 7693.11it/s]\n",
      "100%|██████████| 5000/5000 [00:00<00:00, 7033.39it/s]\n",
      "100%|██████████| 5000/5000 [00:00<00:00, 7044.25it/s]\n",
      "100%|██████████| 5000/5000 [00:01<00:00, 4913.48it/s]\n"
     ]
    },
    {
     "name": "stdout",
     "output_type": "stream",
     "text": [
      "-326.377580517\n",
      "-326.377327653\n",
      "-326.146890593\n",
      "-44.190049446\n",
      "-41.3579473706\n",
      "-23.6012922959\n",
      "go 90 95 712 728\n"
     ]
    },
    {
     "name": "stderr",
     "output_type": "stream",
     "text": [
      "100%|██████████| 5000/5000 [00:00<00:00, 13781.54it/s]\n",
      "100%|██████████| 5000/5000 [00:00<00:00, 13435.88it/s]\n",
      "100%|██████████| 5000/5000 [00:00<00:00, 6857.21it/s]\n",
      "100%|██████████| 5000/5000 [00:00<00:00, 7025.91it/s]\n",
      "100%|██████████| 5000/5000 [00:00<00:00, 7000.75it/s]\n",
      "100%|██████████| 5000/5000 [00:01<00:00, 4627.71it/s]\n"
     ]
    },
    {
     "name": "stdout",
     "output_type": "stream",
     "text": [
      "2.14037579841\n",
      "2.14524240649\n",
      "2.27795899963\n",
      "2.06956274733\n",
      "2.06665443184\n",
      "2.27103401417\n",
      "718\n",
      "go 91 93 718 724\n"
     ]
    },
    {
     "name": "stderr",
     "output_type": "stream",
     "text": [
      "100%|██████████| 5000/5000 [00:00<00:00, 14470.40it/s]\n",
      "100%|██████████| 5000/5000 [00:00<00:00, 14392.39it/s]\n",
      "100%|██████████| 5000/5000 [00:00<00:00, 7567.30it/s]\n",
      "100%|██████████| 5000/5000 [00:00<00:00, 7788.89it/s]\n",
      "100%|██████████| 5000/5000 [00:00<00:00, 7531.68it/s]\n",
      "100%|██████████| 5000/5000 [00:00<00:00, 5212.93it/s]\n"
     ]
    },
    {
     "name": "stdout",
     "output_type": "stream",
     "text": [
      "-294.194659168\n",
      "-294.205153063\n",
      "-35.3999984544\n",
      "-293.632967906\n",
      "-31.1372661431\n",
      "-24.1850805985\n",
      "go 91 94 718 725\n"
     ]
    },
    {
     "name": "stderr",
     "output_type": "stream",
     "text": [
      "100%|██████████| 5000/5000 [00:00<00:00, 14470.02it/s]\n",
      "100%|██████████| 5000/5000 [00:00<00:00, 14341.61it/s]\n",
      "100%|██████████| 5000/5000 [00:00<00:00, 7813.35it/s]\n",
      "100%|██████████| 5000/5000 [00:00<00:00, 7557.17it/s]\n",
      "100%|██████████| 5000/5000 [00:00<00:00, 7723.40it/s]\n",
      "100%|██████████| 5000/5000 [00:01<00:00, 4891.89it/s]\n"
     ]
    },
    {
     "name": "stdout",
     "output_type": "stream",
     "text": [
      "-302.722397139\n",
      "-302.733707327\n",
      "-37.485315551\n",
      "-34.9806508939\n",
      "-35.3677875966\n",
      "-27.6834249579\n",
      "go 91 95 718 728\n"
     ]
    },
    {
     "name": "stderr",
     "output_type": "stream",
     "text": [
      "100%|██████████| 5000/5000 [00:00<00:00, 13540.59it/s]\n",
      "100%|██████████| 5000/5000 [00:00<00:00, 13286.85it/s]\n",
      "100%|██████████| 5000/5000 [00:00<00:00, 6916.54it/s]\n",
      "100%|██████████| 5000/5000 [00:00<00:00, 6802.23it/s]\n",
      "100%|██████████| 5000/5000 [00:00<00:00, 6885.39it/s]\n",
      "100%|██████████| 5000/5000 [00:01<00:00, 4757.76it/s]\n"
     ]
    },
    {
     "name": "stdout",
     "output_type": "stream",
     "text": [
      "2.44751445339\n",
      "2.45256466501\n",
      "2.67597137991\n",
      "2.32524716047\n",
      "2.32317642041\n",
      "2.67910863529\n",
      "721\n",
      "go 92 95 721 728\n"
     ]
    },
    {
     "name": "stderr",
     "output_type": "stream",
     "text": [
      "100%|██████████| 5000/5000 [00:00<00:00, 13425.09it/s]\n",
      "100%|██████████| 5000/5000 [00:00<00:00, 13194.18it/s]\n",
      "100%|██████████| 5000/5000 [00:00<00:00, 6802.35it/s]\n",
      "100%|██████████| 5000/5000 [00:00<00:00, 6436.30it/s]\n",
      "100%|██████████| 5000/5000 [00:00<00:00, 6710.33it/s]\n",
      "100%|██████████| 5000/5000 [00:01<00:00, 4681.90it/s]\n"
     ]
    },
    {
     "name": "stdout",
     "output_type": "stream",
     "text": [
      "2.72979064644\n",
      "2.72316821291\n",
      "3.01623724959\n",
      "2.53329549963\n",
      "2.53222099981\n",
      "3.11744112532\n",
      "go 92 96 721 735\n"
     ]
    },
    {
     "name": "stderr",
     "output_type": "stream",
     "text": [
      "100%|██████████| 5000/5000 [00:00<00:00, 13439.20it/s]\n",
      "100%|██████████| 5000/5000 [00:00<00:00, 13094.24it/s]\n",
      "100%|██████████| 5000/5000 [00:00<00:00, 6857.34it/s]\n",
      "100%|██████████| 5000/5000 [00:00<00:00, 6869.70it/s]\n",
      "100%|██████████| 5000/5000 [00:00<00:00, 6950.62it/s]\n",
      "100%|██████████| 5000/5000 [00:01<00:00, 4723.67it/s]\n"
     ]
    },
    {
     "name": "stdout",
     "output_type": "stream",
     "text": [
      "2.67683230928\n",
      "2.67309912604\n",
      "2.37399545254\n",
      "2.19403939487\n",
      "2.18890847737\n",
      "2.45875813283\n",
      "go 92 97 721 736\n"
     ]
    },
    {
     "name": "stderr",
     "output_type": "stream",
     "text": [
      "100%|██████████| 5000/5000 [00:00<00:00, 13139.64it/s]\n",
      "100%|██████████| 5000/5000 [00:00<00:00, 13175.47it/s]\n",
      "100%|██████████| 5000/5000 [00:00<00:00, 6884.18it/s]\n",
      "100%|██████████| 5000/5000 [00:00<00:00, 6969.19it/s]\n",
      "100%|██████████| 5000/5000 [00:00<00:00, 7041.74it/s]\n",
      "100%|██████████| 5000/5000 [00:01<00:00, 4805.08it/s]\n"
     ]
    },
    {
     "name": "stdout",
     "output_type": "stream",
     "text": [
      "2.63528291901\n",
      "2.62596760495\n",
      "2.39425591921\n",
      "2.39697810441\n",
      "2.40406799577\n",
      "2.61836316327\n",
      "724\n",
      "go 93 96 724 735\n"
     ]
    },
    {
     "name": "stderr",
     "output_type": "stream",
     "text": [
      "100%|██████████| 5000/5000 [00:00<00:00, 13119.02it/s]\n",
      "100%|██████████| 5000/5000 [00:00<00:00, 13420.72it/s]\n",
      "100%|██████████| 5000/5000 [00:00<00:00, 6980.73it/s]\n",
      "100%|██████████| 5000/5000 [00:00<00:00, 6933.46it/s]\n",
      "100%|██████████| 5000/5000 [00:00<00:00, 7109.66it/s]\n",
      "100%|██████████| 5000/5000 [00:01<00:00, 4819.47it/s]\n"
     ]
    },
    {
     "name": "stdout",
     "output_type": "stream",
     "text": [
      "2.82912317678\n",
      "2.83175983406\n",
      "2.15950844387\n",
      "2.65029213307\n",
      "2.65341784731\n",
      "2.55084754239\n",
      "go 93 97 724 736\n"
     ]
    },
    {
     "name": "stderr",
     "output_type": "stream",
     "text": [
      "100%|██████████| 5000/5000 [00:00<00:00, 13464.79it/s]\n",
      "100%|██████████| 5000/5000 [00:00<00:00, 13486.98it/s]\n",
      "100%|██████████| 5000/5000 [00:00<00:00, 7014.43it/s]\n",
      "100%|██████████| 5000/5000 [00:00<00:00, 7006.10it/s]\n",
      "100%|██████████| 5000/5000 [00:00<00:00, 7013.36it/s]\n",
      "100%|██████████| 5000/5000 [00:01<00:00, 4824.04it/s]\n"
     ]
    },
    {
     "name": "stdout",
     "output_type": "stream",
     "text": [
      "2.77425949678\n",
      "2.77087397622\n",
      "2.30244882093\n",
      "2.75007761556\n",
      "2.74277415565\n",
      "2.65796320843\n",
      "725\n",
      "go 94 96 725 735\n"
     ]
    },
    {
     "name": "stderr",
     "output_type": "stream",
     "text": [
      "100%|██████████| 5000/5000 [00:00<00:00, 13537.95it/s]\n",
      "100%|██████████| 5000/5000 [00:00<00:00, 13449.51it/s]\n",
      "100%|██████████| 5000/5000 [00:00<00:00, 7026.92it/s]\n",
      "100%|██████████| 5000/5000 [00:00<00:00, 7091.57it/s]\n",
      "100%|██████████| 5000/5000 [00:00<00:00, 7065.72it/s]\n",
      "100%|██████████| 5000/5000 [00:01<00:00, 4825.09it/s]\n"
     ]
    },
    {
     "name": "stdout",
     "output_type": "stream",
     "text": [
      "2.88853546917\n",
      "2.89509496243\n",
      "1.50434771915\n",
      "2.86928001045\n",
      "2.85844952156\n",
      "1.51100160532\n",
      "go 94 97 725 736\n"
     ]
    },
    {
     "name": "stderr",
     "output_type": "stream",
     "text": [
      "100%|██████████| 5000/5000 [00:00<00:00, 13021.17it/s]\n",
      "100%|██████████| 5000/5000 [00:00<00:00, 13544.67it/s]\n",
      "100%|██████████| 5000/5000 [00:00<00:00, 6968.73it/s]\n",
      "100%|██████████| 5000/5000 [00:00<00:00, 7057.78it/s]\n",
      "100%|██████████| 5000/5000 [00:00<00:00, 7073.52it/s]\n",
      "100%|██████████| 5000/5000 [00:01<00:00, 4911.77it/s]\n"
     ]
    },
    {
     "name": "stdout",
     "output_type": "stream",
     "text": [
      "2.82770454896\n",
      "2.82331381353\n",
      "2.17275835753\n",
      "2.89685814812\n",
      "2.90942399876\n",
      "2.20960010027\n",
      "728\n",
      "go 95 96 728 735\n"
     ]
    },
    {
     "name": "stderr",
     "output_type": "stream",
     "text": [
      "100%|██████████| 5000/5000 [00:00<00:00, 13704.72it/s]\n",
      "100%|██████████| 5000/5000 [00:00<00:00, 13809.71it/s]\n",
      "100%|██████████| 5000/5000 [00:00<00:00, 7202.69it/s]\n",
      "100%|██████████| 5000/5000 [00:00<00:00, 6965.20it/s]\n",
      "100%|██████████| 5000/5000 [00:00<00:00, 7034.96it/s]\n",
      "100%|██████████| 5000/5000 [00:01<00:00, 4765.20it/s]\n"
     ]
    },
    {
     "name": "stdout",
     "output_type": "stream",
     "text": [
      "2.93247734863\n",
      "1.73961339058\n",
      "1.75099336816\n",
      "3.07712769417\n",
      "1.61731912612\n",
      "2.21927723999\n",
      "go 95 97 728 736\n"
     ]
    },
    {
     "name": "stderr",
     "output_type": "stream",
     "text": [
      "100%|██████████| 5000/5000 [00:00<00:00, 13417.75it/s]\n",
      "100%|██████████| 5000/5000 [00:00<00:00, 13548.16it/s]\n",
      "100%|██████████| 5000/5000 [00:00<00:00, 7153.05it/s]\n",
      "100%|██████████| 5000/5000 [00:00<00:00, 7049.95it/s]\n",
      "100%|██████████| 5000/5000 [00:00<00:00, 6893.33it/s]\n",
      "100%|██████████| 5000/5000 [00:01<00:00, 4861.55it/s]\n"
     ]
    },
    {
     "name": "stdout",
     "output_type": "stream",
     "text": [
      "2.83505653121\n",
      "2.26161241083\n",
      "2.43986109634\n",
      "3.08787477929\n",
      "2.1099180965\n",
      "2.71699754839\n",
      "735\n",
      "go 96 99 735 748\n"
     ]
    },
    {
     "name": "stderr",
     "output_type": "stream",
     "text": [
      "100%|██████████| 5000/5000 [00:00<00:00, 13558.80it/s]\n",
      "100%|██████████| 5000/5000 [00:00<00:00, 13876.67it/s]\n",
      "100%|██████████| 5000/5000 [00:00<00:00, 6993.99it/s]\n",
      "100%|██████████| 5000/5000 [00:00<00:00, 6906.77it/s]\n",
      "100%|██████████| 5000/5000 [00:00<00:00, 7010.80it/s]\n",
      "100%|██████████| 5000/5000 [00:01<00:00, 4938.82it/s]\n"
     ]
    },
    {
     "name": "stdout",
     "output_type": "stream",
     "text": [
      "2.70642741997\n",
      "3.32196860355\n",
      "2.29490115674\n",
      "1.28181467092\n",
      "2.54725472502\n",
      "1.45225016194\n",
      "736\n",
      "go 97 99 736 748\n"
     ]
    },
    {
     "name": "stderr",
     "output_type": "stream",
     "text": [
      "100%|██████████| 5000/5000 [00:00<00:00, 13894.03it/s]\n",
      "100%|██████████| 5000/5000 [00:00<00:00, 13381.58it/s]\n",
      "100%|██████████| 5000/5000 [00:00<00:00, 7040.93it/s]\n",
      "100%|██████████| 5000/5000 [00:00<00:00, 7039.04it/s]\n",
      "100%|██████████| 5000/5000 [00:00<00:00, 7147.13it/s]\n",
      "100%|██████████| 5000/5000 [00:01<00:00, 4965.02it/s]\n"
     ]
    },
    {
     "name": "stdout",
     "output_type": "stream",
     "text": [
      "2.757105525\n",
      "2.75837783786\n",
      "2.21899093182\n",
      "1.64265117814\n",
      "1.62923118113\n",
      "1.51156350131\n",
      "739\n",
      "go 98 99 739 748\n"
     ]
    },
    {
     "name": "stderr",
     "output_type": "stream",
     "text": [
      "100%|██████████| 5000/5000 [00:00<00:00, 13671.18it/s]\n",
      "100%|██████████| 5000/5000 [00:00<00:00, 13634.35it/s]\n",
      "100%|██████████| 5000/5000 [00:00<00:00, 6960.47it/s]\n",
      "100%|██████████| 5000/5000 [00:00<00:00, 7086.12it/s]\n",
      "100%|██████████| 5000/5000 [00:00<00:00, 7044.94it/s]\n",
      "100%|██████████| 5000/5000 [00:01<00:00, 4803.21it/s]\n"
     ]
    },
    {
     "name": "stdout",
     "output_type": "stream",
     "text": [
      "2.92599878522\n",
      "2.27633899586\n",
      "2.16516250462\n",
      "2.38232962818\n",
      "1.42747863938\n",
      "1.92263444371\n",
      "748\n",
      "Done!\n",
      "CPU times: user 2h 9min 56s, sys: 1min 15s, total: 2h 11min 12s\n",
      "Wall time: 2h 9min 47s\n"
     ]
    }
   ],
   "source": [
    "%%time\n",
    "iterations = 5000\n",
    "all_times = sorted(set(velocity_times + button_times))\n",
    "\n",
    "all_times = all_times[:100]#[:len(all_times)/4]\n",
    "likes = [None]*len(all_times)\n",
    "\n",
    "plt.plot(velocities[:all_times[-1]])\n",
    "plt.plot(np.array(all_times),velocities[np.array(all_times,dtype='int')],'rx')\n",
    "plt.show()\n",
    "\n",
    "# Takahashi Meijin constant, 60 frames / 16 inputs ~= 4 frames per input.\n",
    "# But note that in general transitions may happen more frequently due to collisions, etc.\n",
    "min_interval = 4 \n",
    "\n",
    "for i in range(0,len(all_times)):\n",
    "    likes[i] = [None]*len(all_times)\n",
    "    t0 = all_times[i]\n",
    "    print t0\n",
    "    min_likelihood = float('inf')\n",
    "    for j in [j for j in range(i+1, len(all_times)) if all_times[j]-all_times[i] > min_interval]:\n",
    "        js = model_set_generate((track,all_times,axis,i,j))\n",
    "        the_templates = js[-1]\n",
    "        foundOne = False\n",
    "        for tn,mod,trace in the_templates:\n",
    "            logp = -np.mean([mod.logp(pt) for pt in trace])/float(all_times[j]-all_times[i])\n",
    "            print logp\n",
    "            if logp < min_likelihood:\n",
    "                min_likelihood = logp\n",
    "                foundOne = True\n",
    "        if not foundOne:\n",
    "            break\n",
    "        likes[i][j] = js\n",
    "        \n",
    "    #js = map(model_set_generate,\n",
    "    #         map(lambda j:(track,all_times,axis,i,j), [j for j in range(i+1, len(all_times)) if all_times[j]-all_times[i] > min_interval]))\n",
    "    #likes[i][i+1:len(all_times)] = js\n",
    "\n",
    "print \"Done!\""
   ]
  },
  {
   "cell_type": "code",
   "execution_count": 13,
   "metadata": {
    "collapsed": false,
    "scrolled": true
   },
   "outputs": [
    {
     "name": "stdout",
     "output_type": "stream",
     "text": [
      "0 1 0 58\n",
      "c0                 mean             sd       mc_error        hpd_2.5  \\\n",
      "y_err  7.594985e-155  1.404593e-156  9.486394e-158  7.459683e-155   \n",
      "\n",
      "            hpd_97.5  \n",
      "y_err  7.895022e-155  \n",
      "cP        mean            sd  mc_error  hpd_2.5  hpd_97.5\n",
      "y_err  10.0  1.776357e-15       0.0     10.0      10.0\n",
      "cN                mean            sd      mc_error       hpd_2.5      hpd_97.5\n",
      "y_N    4.969308e-18  4.501334e-16  3.458943e-17 -9.869226e-18  3.793009e-16\n",
      "y_err  9.412500e-17  5.982076e-16  6.654422e-17  2.147311e-27  3.846215e-16\n",
      "acc0                 mean             sd       mc_error        hpd_2.5  \\\n",
      "y_acc   0.000000e+00   0.000000e+00   0.000000e+00   0.000000e+00   \n",
      "y_err  7.590885e-155  1.273629e-156  9.157438e-158  7.458910e-155   \n",
      "\n",
      "            hpd_97.5  \n",
      "y_acc   0.000000e+00  \n",
      "y_err  7.874679e-155  \n",
      "accP        mean            sd  mc_error  hpd_2.5  hpd_97.5\n",
      "y_acc   0.0  0.000000e+00       0.0      0.0       0.0\n",
      "y_err  10.0  1.776357e-15       0.0     10.0      10.0\n",
      "accN                mean            sd      mc_error       hpd_2.5      hpd_97.5\n",
      "y_N   -7.149158e-11  1.665898e-10  1.816608e-11 -4.863808e-10  1.806948e-15\n",
      "y_acc  2.039587e-12  4.793471e-12  5.215875e-13 -1.273200e-16  1.585918e-11\n",
      "y_err  3.947952e-11  9.077252e-11  9.843078e-12  2.148179e-16  2.809876e-10\n",
      "\n",
      "\n",
      "0 2 0 59\n",
      "c0                 mean             sd       mc_error        hpd_2.5  \\\n",
      "y_err  7.598780e-155  1.372390e-156  1.180556e-157  7.458527e-155   \n",
      "\n",
      "            hpd_97.5  \n",
      "y_err  7.852629e-155  \n",
      "cP        mean            sd  mc_error  hpd_2.5  hpd_97.5\n",
      "y_err  10.0  1.776357e-15       0.0     10.0      10.0\n",
      "cN                mean            sd      mc_error       hpd_2.5      hpd_97.5\n",
      "y_N   -2.893295e-17  1.295807e-16  1.394973e-17 -1.624442e-16  6.191584e-18\n",
      "y_err  3.066000e-17  1.383300e-16  1.474900e-17  5.568725e-30  1.572954e-16\n",
      "acc0                 mean             sd       mc_error        hpd_2.5  \\\n",
      "y_acc   0.000000e+00   0.000000e+00   0.000000e+00   0.000000e+00   \n",
      "y_err  7.585407e-155  1.232799e-156  8.961877e-158  7.460452e-155   \n",
      "\n",
      "            hpd_97.5  \n",
      "y_acc   0.000000e+00  \n",
      "y_err  7.813709e-155  \n",
      "accP        mean            sd  mc_error  hpd_2.5  hpd_97.5\n",
      "y_acc   0.0  0.000000e+00       0.0      0.0       0.0\n",
      "y_err  10.0  1.776357e-15       0.0     10.0      10.0\n",
      "accN                mean            sd      mc_error       hpd_2.5      hpd_97.5\n",
      "y_N   -3.223933e-10  1.292422e-09  1.427768e-10 -3.827220e-09  2.624821e-11\n",
      "y_acc  9.093227e-12  3.510824e-11  3.892147e-12 -7.800911e-13  7.533344e-11\n",
      "y_err  2.306229e-10  7.978851e-10  8.767091e-11  6.265932e-17  2.222808e-09\n",
      "\n",
      "\n",
      "1 3 58 85\n",
      "c0            mean        sd  mc_error   hpd_2.5  hpd_97.5\n",
      "y_err  2.727787  0.406802  0.028812  2.073709   3.53201\n",
      "cP           mean        sd  mc_error   hpd_2.5  hpd_97.5\n",
      "y_err  2.75609  0.398801  0.027916  2.089673  3.630248\n",
      "cN            mean        sd  mc_error   hpd_2.5  hpd_97.5\n",
      "y_N   -2.343604  0.248192  0.016863 -2.788212 -1.861682\n",
      "y_err  1.257211  0.186922  0.012865  0.947452  1.591486\n",
      "acc0            mean        sd  mc_error   hpd_2.5  hpd_97.5\n",
      "y_acc -0.101874  0.030223  0.002173 -0.156250 -0.047630\n",
      "y_err  2.227531  0.319559  0.020983  1.658254  2.894022\n",
      "accP            mean        sd  mc_error   hpd_2.5  hpd_97.5\n",
      "y_acc -0.105164  0.028564  0.002078 -0.160066 -0.048645\n",
      "y_err  2.202438  0.340256  0.024586  1.669075  2.924678\n",
      "accN            mean        sd  mc_error   hpd_2.5  hpd_97.5\n",
      "y_N   -3.648388  0.310026  0.026594 -4.276339 -3.105334\n",
      "y_acc  0.100785  0.022190  0.001971  0.061442  0.145152\n",
      "y_err  0.926279  0.132053  0.009080  0.716498  1.224997\n",
      "\n",
      "\n",
      "1 4 58 86\n",
      "c0            mean        sd  mc_error   hpd_2.5  hpd_97.5\n",
      "y_err  2.673929  0.354542  0.026273  1.983607  3.300119\n",
      "cP            mean        sd  mc_error   hpd_2.5  hpd_97.5\n",
      "y_err  2.671166  0.374605  0.025779  2.057687  3.438064\n",
      "cN            mean        sd  mc_error   hpd_2.5  hpd_97.5\n",
      "y_N   -2.234841  0.270555  0.019161 -2.671024 -1.639415\n",
      "y_err  1.289433  0.191103  0.012395  0.958956  1.641738\n",
      "acc0            mean        sd  mc_error   hpd_2.5  hpd_97.5\n",
      "y_acc -0.093557  0.027461  0.001998 -0.139271 -0.038727\n",
      "y_err  2.230291  0.314013  0.022203  1.752915  2.933154\n",
      "accP            mean        sd  mc_error   hpd_2.5  hpd_97.5\n",
      "y_acc -0.094467  0.027025  0.002208 -0.142734 -0.045506\n",
      "y_err  2.230643  0.319520  0.024667  1.731045  2.840703\n",
      "accN            mean        sd  mc_error   hpd_2.5  hpd_97.5\n",
      "y_N   -3.668749  0.348044  0.030722 -4.312462 -2.951998\n",
      "y_acc  0.106826  0.022318  0.002021  0.064634  0.145917\n",
      "y_err  0.904266  0.134251  0.010397  0.655529  1.179016\n",
      "\n",
      "\n",
      "2 3 59 85\n",
      "c0            mean        sd  mc_error   hpd_2.5  hpd_97.5\n",
      "y_err  2.787281  0.405889   0.02702  2.069435  3.579797\n",
      "cP            mean        sd  mc_error   hpd_2.5  hpd_97.5\n",
      "y_err  2.767561  0.394682  0.027733  2.202849  3.758414\n",
      "cN            mean        sd  mc_error   hpd_2.5  hpd_97.5\n",
      "y_N   -2.417499  0.233703  0.016831 -2.857274 -1.949556\n",
      "y_err  1.167300  0.196063  0.014083  0.853781  1.550577\n",
      "acc0            mean        sd  mc_error   hpd_2.5  hpd_97.5\n",
      "y_acc -0.106920  0.032581  0.002193 -0.167348 -0.041822\n",
      "y_err  2.308738  0.325325  0.021301  1.689295  2.894940\n",
      "accP            mean        sd  mc_error   hpd_2.5  hpd_97.5\n",
      "y_acc -0.106687  0.030953  0.002189 -0.163768 -0.044477\n",
      "y_err  2.284496  0.329001  0.023629  1.630262  2.939660\n",
      "accN            mean        sd  mc_error   hpd_2.5  hpd_97.5\n",
      "y_N   -4.117118  0.145270  0.013346 -4.383433 -3.786778\n",
      "y_acc  0.135813  0.010327  0.000940  0.113873  0.154039\n",
      "y_err  0.395798  0.059427  0.004200  0.309899  0.523708\n",
      "\n",
      "\n",
      "3 5 85 113\n",
      "c0            mean        sd  mc_error  hpd_2.5  hpd_97.5\n",
      "y_err  3.039791  0.473612   0.03537  2.32976  3.978461\n",
      "cP            mean        sd  mc_error   hpd_2.5  hpd_97.5\n",
      "y_err  3.035807  0.447494  0.030787  2.255127  3.864414\n",
      "cN            mean        sd  mc_error   hpd_2.5  hpd_97.5\n",
      "y_N    2.249931  0.362498  0.024841  1.587153  2.922474\n",
      "y_err  1.949472  0.291183  0.022136  1.482410  2.474598\n",
      "acc0            mean        sd  mc_error   hpd_2.5  hpd_97.5\n",
      "y_acc  0.102573  0.032566  0.002322  0.051059  0.171457\n",
      "y_err  2.498707  0.351070  0.025376  1.899180  3.165615\n",
      "accP            mean        sd  mc_error   hpd_2.5  hpd_97.5\n",
      "y_acc  0.103093  0.029789  0.002094  0.052508  0.165634\n",
      "y_err  2.491130  0.337091  0.024376  1.927362  3.127198\n",
      "accN            mean        sd  mc_error   hpd_2.5  hpd_97.5\n",
      "y_N    3.166997  0.713933  0.061055  1.700673  4.500503\n",
      "y_acc -0.067262  0.043109  0.003851 -0.158837  0.009898\n",
      "y_err  1.873956  0.259127  0.018537  1.423468  2.394358\n",
      "\n",
      "\n",
      "3 6 85 114\n",
      "c0            mean        sd  mc_error   hpd_2.5  hpd_97.5\n",
      "y_err  2.962587  0.362948  0.026756  2.399848  3.790586\n",
      "cP            mean        sd  mc_error   hpd_2.5  hpd_97.5\n",
      "y_err  3.009056  0.397001  0.028681  2.273652  3.756098\n",
      "cN            mean        sd  mc_error   hpd_2.5  hpd_97.5\n",
      "y_N    2.186772  0.337292  0.024417  1.531350  2.731369\n",
      "y_err  1.939755  0.264247  0.018514  1.468747  2.475313\n",
      "acc0            mean        sd  mc_error   hpd_2.5  hpd_97.5\n",
      "y_acc  0.095762  0.029140  0.001919  0.044211  0.159691\n",
      "y_err  2.570520  0.372313  0.029853  2.004688  3.334573\n",
      "accP            mean        sd  mc_error   hpd_2.5  hpd_97.5\n",
      "y_acc  0.093639  0.030003  0.002029  0.037415  0.157744\n",
      "y_err  2.531219  0.336017  0.025249  1.955987  3.204269\n",
      "accN            mean        sd  mc_error   hpd_2.5  hpd_97.5\n",
      "y_N    3.237602  0.724007  0.067123  2.023384  4.594541\n",
      "y_acc -0.076242  0.043058  0.004163 -0.162678  0.000563\n",
      "y_err  1.864428  0.302436  0.021540  1.325434  2.334101\n",
      "\n",
      "\n",
      "4 5 86 113\n",
      "c0            mean        sd  mc_error   hpd_2.5  hpd_97.5\n",
      "y_err  3.044333  0.435283  0.032756  2.322666  4.045881\n",
      "cP            mean        sd  mc_error   hpd_2.5  hpd_97.5\n",
      "y_err  3.100767  0.463806  0.033643  2.269078  3.896566\n",
      "cN            mean        sd  mc_error   hpd_2.5  hpd_97.5\n",
      "y_N    2.299922  0.369547  0.025649  1.600044  2.984612\n",
      "y_err  1.920608  0.262435  0.019256  1.477718  2.421022\n",
      "acc0            mean        sd  mc_error   hpd_2.5  hpd_97.5\n",
      "y_acc  0.108467  0.036768  0.002746  0.038004  0.182094\n",
      "y_err  2.697872  0.424679  0.035140  1.889099  3.461436\n",
      "accP            mean        sd  mc_error   hpd_2.5  hpd_97.5\n",
      "y_acc  0.109408  0.034567  0.002481  0.043978  0.175558\n",
      "y_err  2.597679  0.347966  0.026380  2.033389  3.330553\n",
      "accN            mean        sd  mc_error   hpd_2.5  hpd_97.5\n",
      "y_N    3.546186  0.718781  0.062717  2.232320  4.794478\n",
      "y_acc -0.092427  0.046109  0.003961 -0.182004 -0.014446\n",
      "y_err  1.794535  0.286281  0.020473  1.305064  2.341759\n",
      "\n",
      "\n",
      "5 7 113 145\n",
      "c0           mean        sd  mc_error   hpd_2.5  hpd_97.5\n",
      "y_err  2.57167  0.313652  0.023669  1.974326  3.136517\n",
      "cP            mean        sd  mc_error   hpd_2.5  hpd_97.5\n",
      "y_err  2.559519  0.340796  0.023126  1.950784  3.267609\n",
      "cN            mean        sd  mc_error   hpd_2.5  hpd_97.5\n",
      "y_N   -2.199450  0.219199  0.014814 -2.591947 -1.763971\n",
      "y_err  1.258018  0.161950  0.010571  0.947670  1.547575\n",
      "acc0            mean        sd  mc_error   hpd_2.5  hpd_97.5\n",
      "y_acc -0.079568  0.022062  0.001610 -0.120594 -0.038742\n",
      "y_err  2.150530  0.297189  0.021137  1.579694  2.687881\n",
      "accP            mean        sd  mc_error   hpd_2.5  hpd_97.5\n",
      "y_acc -0.081981  0.021421  0.001471 -0.123714 -0.041381\n",
      "y_err  2.164466  0.311159  0.022470  1.545332  2.694478\n",
      "accN            mean        sd  mc_error   hpd_2.5  hpd_97.5\n",
      "y_N   -3.645966  0.293202  0.025708 -4.177531 -3.060099\n",
      "y_acc  0.094599  0.017033  0.001500  0.063848  0.130716\n",
      "y_err  0.856877  0.122409  0.009280  0.668984  1.123758\n",
      "\n",
      "\n",
      "5 8 113 146\n",
      "c0            mean        sd  mc_error   hpd_2.5  hpd_97.5\n",
      "y_err  2.541341  0.340751  0.026149  1.854167  3.190558\n",
      "cP            mean        sd  mc_error   hpd_2.5  hpd_97.5\n",
      "y_err  2.503984  0.342916  0.024592  1.876865  3.251021\n",
      "cN            mean        sd  mc_error   hpd_2.5  hpd_97.5\n",
      "y_N   -2.139103  0.233822  0.017914 -2.652165 -1.751067\n",
      "y_err  1.298330  0.173210  0.012395  0.983984  1.656715\n",
      "acc0            mean        sd  mc_error   hpd_2.5  hpd_97.5\n",
      "y_acc -0.068700  0.021348  0.001581 -0.113510 -0.032622\n",
      "y_err  2.184549  0.305776  0.019206  1.655777  2.701800\n",
      "accP            mean        sd  mc_error   hpd_2.5  hpd_97.5\n",
      "y_acc -0.071913  0.020388  0.001430 -0.109013 -0.034564\n",
      "y_err  2.152996  0.294756  0.021492  1.639848  2.668673\n",
      "accN            mean        sd  mc_error   hpd_2.5  hpd_97.5\n",
      "y_N   -3.724674  0.274784  0.025680 -4.284548 -3.196444\n",
      "y_acc  0.100073  0.015315  0.001426  0.070555  0.127997\n",
      "y_err  0.838578  0.115818  0.008601  0.642763  1.084108\n",
      "\n",
      "\n",
      "6 7 114 145\n",
      "c0            mean        sd  mc_error   hpd_2.5  hpd_97.5\n",
      "y_err  2.616253  0.345811  0.025126  2.090766  3.348313\n",
      "cP            mean        sd  mc_error   hpd_2.5  hpd_97.5\n",
      "y_err  2.660149  0.374103  0.025845  2.012439  3.380414\n",
      "cN            mean        sd  mc_error   hpd_2.5  hpd_97.5\n",
      "y_N   -2.230714  0.229063  0.017200 -2.628728 -1.724884\n",
      "y_err  1.193697  0.149959  0.011593  0.921172  1.451441\n",
      "acc0            mean        sd  mc_error   hpd_2.5  hpd_97.5\n",
      "y_acc -0.079503  0.023273  0.001895 -0.124906 -0.035147\n",
      "y_err  2.272485  0.318396  0.023593  1.703500  2.774892\n",
      "accP            mean        sd  mc_error   hpd_2.5  hpd_97.5\n",
      "y_acc -0.081209  0.022067  0.001628 -0.123805 -0.034091\n",
      "y_err  2.248344  0.318071  0.023189  1.725554  2.846201\n",
      "accN            mean        sd  mc_error   hpd_2.5  hpd_97.5\n",
      "y_N   -4.048077  0.148978  0.013168 -4.310490 -3.771128\n",
      "y_acc  0.119729  0.008749  0.000783  0.103381  0.137044\n",
      "y_err  0.423274  0.054416  0.004143  0.331663  0.541893\n",
      "\n",
      "\n",
      "6 8 114 146\n",
      "c0            mean        sd  mc_error  hpd_2.5  hpd_97.5\n",
      "y_err  2.595689  0.336749  0.024144   2.0392  3.373909\n",
      "cP            mean        sd  mc_error   hpd_2.5  hpd_97.5\n",
      "y_err  2.556172  0.336274  0.025247  2.027251  3.281985\n",
      "cN            mean        sd  mc_error   hpd_2.5  hpd_97.5\n",
      "y_N   -2.194482  0.212852  0.015212 -2.636270 -1.820674\n",
      "y_err  1.239287  0.148498  0.010328  1.004775  1.586410\n",
      "acc0            mean        sd  mc_error   hpd_2.5  hpd_97.5\n",
      "y_acc -0.070400  0.020158  0.001430 -0.107926 -0.028304\n",
      "y_err  2.257883  0.289135  0.020844  1.818694  2.901244\n",
      "accP            mean        sd  mc_error   hpd_2.5  hpd_97.5\n",
      "y_acc -0.071936  0.020317  0.001537 -0.109272 -0.032942\n",
      "y_err  2.222883  0.326817  0.021708  1.682010  2.910991\n",
      "accN            mean        sd  mc_error   hpd_2.5  hpd_97.5\n",
      "y_N   -4.037293  0.160886  0.015191 -4.330500 -3.733667\n",
      "y_acc  0.119797  0.008313  0.000765  0.101689  0.133756\n",
      "y_err  0.427120  0.061865  0.004495  0.314106  0.536014\n",
      "\n",
      "\n",
      "7 9 145 173\n",
      "c0            mean        sd  mc_error   hpd_2.5  hpd_97.5\n",
      "y_err  3.205081  0.471771  0.034589  2.379141   4.22453\n",
      "cP            mean        sd  mc_error   hpd_2.5  hpd_97.5\n",
      "y_err  3.151012  0.427899  0.028223  2.287358  3.911607\n",
      "cN           mean        sd  mc_error   hpd_2.5  hpd_97.5\n",
      "y_N    2.50548  0.331658  0.023267  1.907036  3.152161\n",
      "y_err  1.83837  0.268766  0.020488  1.369525  2.290452\n",
      "acc0            mean        sd  mc_error   hpd_2.5  hpd_97.5\n",
      "y_acc  0.130452  0.031555  0.002282  0.071129  0.192983\n",
      "y_err  2.407628  0.343546  0.023324  1.744836  3.089745\n",
      "accP            mean        sd  mc_error   hpd_2.5  hpd_97.5\n",
      "y_acc  0.136050  0.030394  0.002229  0.071514  0.193514\n",
      "y_err  2.353696  0.352451  0.024841  1.757470  3.016575\n",
      "accN            mean        sd  mc_error   hpd_2.5  hpd_97.5\n",
      "y_N    2.676969  0.620992  0.051059  1.499065  3.828164\n",
      "y_acc -0.014738  0.037763  0.003269 -0.083198  0.059558\n",
      "y_err  1.884487  0.267385  0.018561  1.444812  2.503094\n",
      "\n",
      "\n",
      "8 9 146 173\n",
      "c0            mean        sd  mc_error  hpd_2.5  hpd_97.5\n",
      "y_err  3.282156  0.481609   0.03131  2.54883  4.246583\n",
      "cP            mean        sd  mc_error   hpd_2.5  hpd_97.5\n",
      "y_err  3.307777  0.488407  0.035971  2.552204  4.322866\n",
      "cN            mean        sd  mc_error   hpd_2.5  hpd_97.5\n",
      "y_N    2.600448  0.366129  0.026874  1.927374  3.349403\n",
      "y_err  1.825646  0.248895  0.018995  1.370083  2.224589\n",
      "acc0            mean        sd  mc_error   hpd_2.5  hpd_97.5\n",
      "y_acc  0.135977  0.030532  0.002219  0.080173  0.194934\n",
      "y_err  2.449284  0.360923  0.028141  1.781786  3.144954\n",
      "accP            mean        sd  mc_error   hpd_2.5  hpd_97.5\n",
      "y_acc  0.140803  0.031154  0.002239  0.085729  0.199067\n",
      "y_err  2.508668  0.377663  0.027026  1.831323  3.269417\n",
      "accN            mean        sd  mc_error   hpd_2.5  hpd_97.5\n",
      "y_N    3.017437  0.728960  0.065670  1.547515  4.367388\n",
      "y_acc -0.034219  0.045790  0.004209 -0.117702  0.054389\n",
      "y_err  1.830081  0.261639  0.018870  1.404916  2.404392\n",
      "\n",
      "\n"
     ]
    }
   ],
   "source": [
    "for li in likes[0:10]:\n",
    "    for lij in li[0:10]:\n",
    "        if lij is None or lij == []: \n",
    "            continue\n",
    "        (i,j,t0,t1,models) = lij\n",
    "        print i,j,t0,t1\n",
    "        for m in models:\n",
    "            print m[0],pm.df_summary(m[-1])\n",
    "        print \"\\n\""
   ]
  },
  {
   "cell_type": "code",
   "execution_count": 28,
   "metadata": {
    "collapsed": false,
    "scrolled": true
   },
   "outputs": [
    {
     "name": "stdout",
     "output_type": "stream",
     "text": [
      "j 1\n",
      "i 0\n",
      "0 1 0 58 c0 20171.7294115 7.59498513093e-155 4.40509137594e-153 1.0 inf\n",
      "update least 1.0\n",
      "0 1 0 58 cP -inf 10.0000003198 580.000018546 581.000018546 1.0\n",
      "0 1 0 58 cN 2669.19417318 9.41249977073e-17 5.45924986702e-15 1.0 1.0\n",
      "0 1 0 58 acc0 20168.5370038 7.59088492567e-155 4.40271325689e-153 1.0 1.0\n",
      "0 1 0 58 accP -inf 10.0000003198 580.000018546 581.000018546 1.0\n",
      "0 1 0 58 accN 1556.4475873 3.94795175962e-11 2.28981202058e-09 1.00000000229 1.0\n",
      "j 2\n",
      "i 0\n",
      "0 2 0 59 c0 20525.6543989 7.59877966961e-155 4.48328000507e-153 1.0 inf\n",
      "update least 1.0\n",
      "0 2 0 59 cP -inf 10.0000003198 590.000018866 591.000018866 1.0\n",
      "0 2 0 59 cN 2947.56415052 3.06600038555e-17 1.80894022748e-15 1.0 1.0\n",
      "0 2 0 59 acc0 20522.5332808 7.58540730899e-155 4.4753903123e-153 1.0 1.0\n",
      "0 2 0 59 accP -inf 10.0000003198 590.000018866 591.000018866 1.0\n",
      "0 2 0 59 accN 1619.70943526 2.30622933682e-10 1.36067530872e-08 1.00000001361 1.0\n",
      "j 3\n",
      "i 1\n",
      "1 3 58 85 c0 -66.5557427069 2.72778678712 73.6502432522 75.6502432522 inf\n",
      "update least 75.6502432522\n",
      "1 3 58 85 cP -66.5209090937 2.75608971241 74.414422235 76.414422235 75.6502432522\n",
      "1 3 58 85 cN -49.1312723979 1.25721128807 33.944704778 35.944704778 75.6502432522\n",
      "update least 35.944704778\n",
      "1 3 58 85 acc0 -64.2072561683 2.22753136252 60.1433467881 62.1433467881 35.944704778\n",
      "1 3 58 85 accP -64.1710697043 2.20243776405 59.4658196293 61.4658196293 35.944704778\n",
      "1 3 58 85 accN -45.1841472959 0.926279230936 25.0095392353 27.0095392353 35.944704778\n",
      "update least 27.0095392353\n",
      "i 2\n",
      "2 3 59 85 c0 -64.6009712323 2.78728076918 72.4692999988 74.4692999988 27.0095392353\n",
      "2 3 59 85 cP -64.5662757463 2.76756078164 71.9565803226 73.9565803226 27.0095392353\n",
      "2 3 59 85 cN -45.9979747403 1.16729992852 30.3497981416 32.3497981416 27.0095392353\n",
      "2 3 59 85 acc0 -63.0860486926 2.30873848255 60.0272005463 62.0272005463 27.0095392353\n",
      "2 3 59 85 accP -63.0281050666 2.2844959319 59.3968942295 61.3968942295 27.0095392353\n",
      "2 3 59 85 accN -22.9945385701 0.395797853603 10.2907441937 12.2907441937 27.0095392353\n",
      "update least 12.2907441937\n",
      "j 4\n",
      "i 1\n",
      "1 4 58 86 c0 -68.3527931256 2.67392873941 74.8700047035 76.8700047035 inf\n",
      "update least 76.8700047035\n",
      "1 4 58 86 cP -68.3822744652 2.67116560032 74.792636809 76.792636809 76.8700047035\n",
      "update least 76.792636809\n",
      "1 4 58 86 cN -52.0928729816 1.28943257136 36.104111998 38.104111998 76.792636809\n",
      "update least 38.104111998\n",
      "1 4 58 86 acc0 -66.6050487453 2.23029102968 62.4481488312 64.4481488312 38.104111998\n",
      "1 4 58 86 accP -66.6291311577 2.23064269277 62.4579953975 64.4579953975 38.104111998\n",
      "1 4 58 86 accN -46.6159542028 0.904266191658 25.3194533664 27.3194533664 38.104111998\n",
      "update least 27.3194533664\n",
      "j 5\n",
      "i 3\n",
      "3 5 85 113 c0 -71.8845677133 3.03979147093 85.1141611862 98.4049053799 inf\n",
      "update least 98.4049053799\n",
      "3 5 85 113 cP -71.83991329 3.03580739792 85.0026071419 98.2933513355 98.4049053799\n",
      "update least 98.2933513355\n",
      "3 5 85 113 cN -63.009537259 1.94947151465 54.5852024102 67.8759466039 98.2933513355\n",
      "update least 67.8759466039\n",
      "3 5 85 113 acc0 -70.1824920507 2.49870666832 69.9637867128 83.2545309065 67.8759466039\n",
      "3 5 85 113 accP -70.0679911636 2.4911299768 69.7516393503 83.042383544 67.8759466039\n",
      "3 5 85 113 accN -66.2848704619 1.87395566487 52.4707586163 65.76150281 67.8759466039\n",
      "update least 65.76150281\n",
      "i 4\n",
      "4 5 86 113 c0 -69.7813956552 3.04433295232 82.1969897127 110.516443079 65.76150281\n",
      "4 5 86 113 cP -69.798026589 3.10076681081 83.720703892 112.040157258 65.76150281\n",
      "4 5 86 113 cN -60.6590138565 1.92060772709 51.8564086314 80.1758619978 65.76150281\n",
      "4 5 86 113 acc0 -68.8925302103 2.69787182447 72.8425392608 101.161992627 65.76150281\n",
      "4 5 86 113 accP -68.7650216967 2.5976785879 70.1373218732 98.4567752397 65.76150281\n",
      "4 5 86 113 accN -63.0862041966 1.79453527814 48.4524525098 76.7719058762 65.76150281\n",
      "j 6\n",
      "i 3\n",
      "3 6 85 114 c0 -73.6723709799 2.96258734569 85.915033025 99.2057772186 inf\n",
      "update least 99.2057772186\n",
      "3 6 85 114 cP -73.7312241531 3.00905643868 87.2626367218 100.553380915 99.2057772186\n",
      "3 6 85 114 cN -65.186400018 1.93975459469 56.2528832461 69.5436274398 99.2057772186\n",
      "update least 69.5436274398\n",
      "3 6 85 114 acc0 -72.6270437214 2.57051994376 74.5450783691 87.8358225628 69.5436274398\n",
      "3 6 85 114 accP -72.6196019341 2.53121879677 73.4053451064 86.6960893001 69.5436274398\n",
      "3 6 85 114 accN -68.1233886505 1.86442842837 54.0684244228 67.3591686164 69.5436274398\n",
      "update least 67.3591686164\n",
      "j 7\n",
      "i 5\n",
      "5 7 113 145 c0 -76.9041158107 2.57167009546 82.2934430546 149.054945865 inf\n",
      "update least 149.054945865\n",
      "5 7 113 145 cP -76.9791220222 2.55951865782 81.9045970504 148.66609986 149.054945865\n",
      "update least 148.66609986\n",
      "5 7 113 145 cN -57.637057275 1.25801800163 40.2565760522 107.018078862 148.66609986\n",
      "update least 107.018078862\n",
      "5 7 113 145 acc0 -74.5338425711 2.15053006124 68.8169619595 135.578464769 107.018078862\n",
      "5 7 113 145 accP -74.5940942521 2.16446584805 69.2629071376 136.024409948 107.018078862\n",
      "5 7 113 145 accN -49.8191588393 0.856877270545 27.4200726574 94.1815754674 107.018078862\n",
      "update least 94.1815754674\n",
      "i 6\n",
      "6 7 114 145 c0 -75.1146943421 2.61625327695 81.1038515855 149.463020202 94.1815754674\n",
      "6 7 114 145 cP -75.1701320908 2.66014912221 82.4646227885 150.823791405 94.1815754674\n",
      "6 7 114 145 cN -54.8121718399 1.19369717438 37.0046124058 105.363781022 94.1815754674\n",
      "6 7 114 145 acc0 -73.4271643538 2.27248493056 70.4470328474 138.806201464 94.1815754674\n",
      "6 7 114 145 accP -73.3546603482 2.24834373902 69.6986559096 138.057824526 94.1815754674\n",
      "6 7 114 145 accN -27.7018555711 0.423274092624 13.1214968713 81.4806654878 94.1815754674\n",
      "update least 81.4806654878\n",
      "j 8\n",
      "i 5\n",
      "5 8 113 146 c0 -78.8452929188 2.54134121868 83.8642602164 150.625763026 inf\n",
      "update least 150.625763026\n",
      "5 8 113 146 cP -78.8664515745 2.50398384185 82.6314667811 149.392969591 150.625763026\n",
      "update least 149.392969591\n",
      "5 8 113 146 cN -60.4348978912 1.29833036638 42.8449020905 109.606404901 149.392969591\n",
      "update least 109.606404901\n",
      "5 8 113 146 acc0 -76.9089447327 2.18454861838 72.0901044066 138.851607217 109.606404901\n",
      "5 8 113 146 accP -76.8896792389 2.15299637183 71.0488802704 137.81038308 109.606404901\n",
      "5 8 113 146 accN -50.6968937867 0.838578076133 27.6730765124 94.4345793224 109.606404901\n",
      "update least 94.4345793224\n",
      "i 6\n",
      "6 8 114 146 c0 -76.9747710787 2.59568853444 83.062033102 151.421201718 94.4345793224\n",
      "6 8 114 146 cP -76.9741204095 2.55617184402 81.7974990085 150.156667625 94.4345793224\n",
      "6 8 114 146 cN -57.5515564492 1.23928651084 39.6571683469 108.016336963 94.4345793224\n",
      "6 8 114 146 acc0 -75.5640636003 2.25788325249 72.2522640797 140.611432696 94.4345793224\n",
      "6 8 114 146 accP -75.7413932913 2.22288325596 71.1322641906 139.491432807 94.4345793224\n",
      "6 8 114 146 accN -28.1189379379 0.427119618648 13.6678277967 82.0269964132 94.4345793224\n",
      "update least 82.0269964132\n",
      "j 9\n",
      "i 7\n",
      "7 9 145 173 c0 -73.2179634223 3.20508145458 89.7422807284 172.222946216 inf\n",
      "update least 172.222946216\n",
      "7 9 145 173 cP -73.1475121882 3.15101153113 88.2283228715 170.708988359 172.222946216\n",
      "update least 170.708988359\n",
      "7 9 145 173 cN -61.722856698 1.8383699651 51.4743590228 133.955024511 170.708988359\n",
      "update least 133.955024511\n",
      "7 9 145 173 acc0 -68.4396980424 2.40762842797 67.4135959833 149.894261471 133.955024511\n",
      "7 9 145 173 accP -68.4002412738 2.35369555069 65.9034754193 148.384140907 133.955024511\n",
      "7 9 145 173 accN -66.1136484766 1.88448653545 52.7656229927 135.246288481 133.955024511\n",
      "i 8\n",
      "8 9 146 173 c0 -71.1002181666 3.28215554582 88.6181997371 171.64519615 133.955024511\n",
      "8 9 146 173 cP -71.1396943907 3.30777672867 89.309971674 172.336968087 133.955024511\n",
      "8 9 146 173 cN -59.2063218036 1.82564628703 49.2924497498 132.319446163 133.955024511\n",
      "update least 132.319446163\n",
      "8 9 146 173 acc0 -67.0956528493 2.449284409 66.1306790431 149.157675456 132.319446163\n",
      "8 9 146 173 accP -67.1266483592 2.50866760615 67.734025366 150.761021779 132.319446163\n",
      "8 9 146 173 accN -63.346631537 1.83008097234 49.4121862533 132.439182666 132.319446163\n",
      "j 10\n",
      "j 11\n",
      "i 9\n",
      "9 11 173 192 c0 -49.2571010726 3.03710447888 57.7049850988 191.024431262 inf\n",
      "update least 191.024431262\n",
      "9 11 173 192 cP -49.3491326204 3.14658028294 59.7850253759 193.104471539 191.024431262\n",
      "9 11 173 192 cN -38.3885333653 1.43733139008 27.3092964115 160.628742575 191.024431262\n",
      "update least 160.628742575\n",
      "9 11 173 192 acc0 -48.2346295852 2.45007576263 46.55143949 179.870885653 160.628742575\n",
      "9 11 173 192 accP -48.1704679916 2.39947774492 45.5900771535 178.909523316 160.628742575\n",
      "9 11 173 192 accN -39.7853628486 1.2323565277 23.4147740263 156.734220189 160.628742575\n",
      "update least 156.734220189\n",
      "i 10\n",
      "10 11 174 192 c0 -47.2550154944 3.09402408449 55.6924335209 inf 156.734220189\n",
      "10 11 174 192 cP -47.2874959201 3.1915623172 57.4481217096 inf 156.734220189\n",
      "10 11 174 192 cN -34.9734049777 1.26397908132 22.7516234638 inf 156.734220189\n",
      "10 11 174 192 acc0 -47.3250743288 2.65782558236 47.8408604825 inf 156.734220189\n",
      "10 11 174 192 accP -47.0434338261 2.59131543927 46.6436779068 inf 156.734220189\n",
      "10 11 174 192 accN -25.8844373836 0.594318925471 10.6977406585 inf 156.734220189\n",
      "j 12\n",
      "i 10\n",
      "10 12 174 193 c0 -49.3430031448 3.11140715484 59.1167359419 inf inf\n",
      "10 12 174 193 cP -49.3527594425 3.11086800549 59.1064921043 inf inf\n",
      "10 12 174 193 cN -38.2532727107 1.38566893609 26.3277097858 inf inf\n",
      "10 12 174 193 acc0 -49.6124473767 2.60411305219 49.4781479915 inf inf\n",
      "10 12 174 193 accP -49.6546375731 2.61760676062 49.7345284518 inf inf\n",
      "10 12 174 193 accN -27.2618626821 0.611047519612 11.6099028726 inf inf\n",
      "j 13\n",
      "i 11\n",
      "11 13 192 214 c0 -56.5099994002 2.98696890714 65.7133159571 223.447536146 inf\n",
      "update least 223.447536146\n",
      "11 13 192 214 cP -62.0230485465 3.90093375571 85.8205426255 243.554762815 223.447536146\n",
      "11 13 192 214 cN -50.3866015042 1.93464152593 42.5621135704 200.29633376 223.447536146\n",
      "update least 200.29633376\n",
      "11 13 192 214 acc0 -54.8703378324 2.37908351056 52.3398372324 210.074057422 200.29633376\n",
      "11 13 192 214 accP -57.808946669 2.71540820216 59.7389804476 217.473200637 200.29633376\n",
      "11 13 192 214 accN -54.560029138 1.98515597999 43.6734315598 201.407651749 200.29633376\n",
      "i 12\n",
      "12 13 193 214 c0 -54.5409464807 3.08761290505 64.8398710061 inf 200.29633376\n",
      "12 13 193 214 cP -54.5386795849 3.10109712217 65.1230395656 inf 200.29633376\n",
      "12 13 193 214 cN -48.1015830646 1.91849167214 40.288325115 inf 200.29633376\n",
      "12 13 193 214 acc0 -53.583174513 2.49347459017 52.3629663936 inf 200.29633376\n",
      "12 13 193 214 accP -53.7169117407 2.52237586858 52.9698932402 inf 200.29633376\n",
      "12 13 193 214 accN -52.0101707294 1.91040557899 40.1185171588 inf 200.29633376\n",
      "j 14\n",
      "j 15\n",
      "i 13\n",
      "13 15 214 230 c0 -42.0034952664 3.11161222501 49.7857956002 251.08212936 inf\n",
      "update least 251.08212936\n",
      "13 15 214 230 cP -42.0029701616 3.19308212359 51.0893139775 252.385647737 251.08212936\n",
      "13 15 214 230 cN -34.4125649686 1.51104384227 24.1767014764 225.473035236 251.08212936\n",
      "update least 225.473035236\n",
      "13 15 214 230 acc0 -41.9300042396 2.51966848154 40.3146957046 241.611029464 225.473035236\n",
      "13 15 214 230 accP -41.9746612571 2.52843687789 40.4549900462 241.751323806 225.473035236\n",
      "13 15 214 230 accN -36.6739521802 1.37370495578 21.9792792926 223.275613052 225.473035236\n",
      "update least 223.275613052\n",
      "i 14\n",
      "14 15 215 230 c0 -40.0007895609 3.25112363742 48.7668545612 inf 223.275613052\n",
      "14 15 215 230 cP -39.9107330074 3.21750910921 48.2626366382 inf 223.275613052\n",
      "14 15 215 230 cN -31.3965031793 1.38376356769 20.7564535153 inf 223.275613052\n",
      "14 15 215 230 acc0 -40.9530664118 2.85005847737 42.7508771606 inf 223.275613052\n",
      "14 15 215 230 accP -40.860070987 2.74043262558 41.1064893837 inf 223.275613052\n",
      "14 15 215 230 accN -24.4051207168 0.648790792146 9.73186188219 inf 223.275613052\n",
      "j 16\n",
      "i 14\n",
      "14 16 215 231 c0 -42.0137041516 3.09091097604 49.4545756166 inf inf\n",
      "14 16 215 231 cP -42.0304982502 3.13438202536 50.1501124058 inf inf\n",
      "14 16 215 231 cN -34.4027380461 1.52016144765 24.3225831625 inf inf\n",
      "14 16 215 231 acc0 -43.2686541053 2.72732111801 43.6371378882 inf inf\n",
      "14 16 215 231 accP -43.2905185478 2.75117689072 44.0188302515 inf inf\n",
      "14 16 215 231 accN -25.2228871241 0.652233271481 10.4357323437 inf inf\n",
      "j 17\n",
      "i 15\n",
      "15 17 230 255 c0 -59.4948508077 2.50081605338 62.5204013345 286.796014387 inf\n",
      "update least 286.796014387\n",
      "15 17 230 255 cP -66.3964318394 3.33629588315 83.4073970787 307.683010131 286.796014387\n",
      "15 17 230 255 cN -55.4977798529 1.84839946047 46.2099865118 270.485599564 286.796014387\n",
      "update least 270.485599564\n",
      "15 17 230 255 acc0 -60.6598040991 2.3091627254 57.7290681349 282.004681187 270.485599564\n",
      "15 17 230 255 accP -64.6164203738 2.71767928912 67.9419822281 292.21759528 270.485599564\n",
      "15 17 230 255 accN -58.1097078956 1.70816949272 42.7042373181 266.97985037 270.485599564\n",
      "update least 266.97985037\n",
      "i 16\n",
      "16 17 231 255 c0 -57.7241772444 2.53430082424 60.8232197819 inf 266.97985037\n",
      "16 17 231 255 cP -57.6514846253 2.5082790969 60.1986983257 inf 266.97985037\n",
      "16 17 231 255 cN -53.5790523032 1.86881197438 44.8514873852 inf 266.97985037\n",
      "16 17 231 255 acc0 -59.2868309819 2.35931944385 56.6236666525 inf 266.97985037\n",
      "16 17 231 255 accP -59.1302556714 2.3508682967 56.4208391209 inf 266.97985037\n",
      "16 17 231 255 accN -54.8389601474 1.63981545699 39.3555709677 inf 266.97985037\n",
      "j 18\n",
      "i 15\n",
      "15 18 230 256 c0 -61.2715903448 2.43003042727 63.1807911091 287.456404161 inf\n",
      "update least 287.456404161\n",
      "15 18 230 256 cP -68.4396208061 3.24828355775 84.4553725016 308.730985554 287.456404161\n",
      "15 18 230 256 cN -57.3604465007 1.82877899916 47.5482539781 271.82386703 287.456404161\n",
      "update least 271.82386703\n",
      "15 18 230 256 acc0 -62.5464418167 2.22659020482 57.8913453254 282.166958378 271.82386703\n",
      "15 18 230 256 accP -66.7469781693 2.66935153015 69.4031397839 293.678752836 271.82386703\n",
      "15 18 230 256 accN -59.4058818955 1.7291558799 44.9580528775 269.23366593 271.82386703\n",
      "update least 269.23366593\n",
      "i 16\n",
      "16 18 231 256 c0 -59.5008577278 2.49059290289 62.2648225722 inf 269.23366593\n",
      "16 18 231 256 cP -59.5201228538 2.51566687221 62.8916718053 inf 269.23366593\n",
      "16 18 231 256 cN -55.5585550304 1.86165000991 46.5412502477 inf 269.23366593\n",
      "16 18 231 256 acc0 -61.1969918796 2.32950593689 58.2376484222 inf 269.23366593\n",
      "16 18 231 256 accP -61.1717600651 2.33725368426 58.4313421064 inf 269.23366593\n",
      "16 18 231 256 accN -56.0527076994 1.59725754165 39.9314385414 inf 269.23366593\n",
      "j 19\n",
      "i 17\n",
      "17 19 255 271 c0 -42.0199066134 3.13368887356 50.1390219769 318.118872347 inf\n",
      "update least 318.118872347\n",
      "17 19 255 271 cP -42.0269774157 3.18388856797 50.9422170876 318.922067458 318.118872347\n",
      "17 19 255 271 cN -34.5835601351 1.58095019647 25.2952031435 293.275053514 318.118872347\n",
      "update least 293.275053514\n",
      "17 19 255 271 acc0 -42.0575721726 2.51351192229 40.2161907567 308.196041127 293.275053514\n",
      "17 19 255 271 accP -42.0058795366 2.56086977607 40.9739164171 308.953766787 293.275053514\n",
      "17 19 255 271 accN -36.9906274848 1.41614061385 22.6582498216 290.638100192 293.275053514\n",
      "update least 290.638100192\n",
      "i 18\n",
      "18 19 256 271 c0 -39.997629708 3.36868988883 50.5303483324 320.764014262 290.638100192\n",
      "18 19 256 271 cP -39.9984195304 3.20686600242 48.1029900363 318.336655966 290.638100192\n",
      "18 19 256 271 cN -31.1616567378 1.39520565168 20.9280847751 291.161750705 290.638100192\n",
      "18 19 256 271 acc0 -40.8637200964 2.77208764877 41.5813147315 311.814980661 290.638100192\n",
      "18 19 256 271 accP -40.8029016374 2.69326116036 40.3989174054 310.632583335 290.638100192\n",
      "18 19 256 271 accN -24.4969530547 0.646255019485 9.69382529228 279.927491222 290.638100192\n",
      "update least 279.927491222\n",
      "j 20\n",
      "i 18\n",
      "18 20 256 272 c0 -41.9814663663 3.18116659752 50.8986655604 321.13233149 inf\n",
      "update least 321.13233149\n",
      "18 20 256 272 cP -42.0119917871 3.09789001617 49.5662402587 319.799906188 321.13233149\n",
      "update least 319.799906188\n",
      "18 20 256 272 cN -34.3594779054 1.51656205855 24.2649929368 294.498658866 319.799906188\n",
      "update least 294.498658866\n",
      "18 20 256 272 acc0 -43.3668044951 2.79304038403 44.6886461445 314.922312074 294.498658866\n",
      "18 20 256 272 accP -43.3886877359 2.759540087 44.152641392 314.386307322 294.498658866\n",
      "18 20 256 272 accN -25.1414007839 0.626340417173 10.0214466748 280.255112604 294.498658866\n",
      "update least 280.255112604\n",
      "j 21\n",
      "i 18\n",
      "18 21 256 278 c0 -55.1117449711 2.82775586411 62.2106290103 332.44429494 inf\n",
      "update least 332.44429494\n",
      "18 21 256 278 cP -55.0939705858 2.795963036 61.511186792 331.744852722 332.44429494\n",
      "update least 331.744852722\n",
      "18 21 256 278 cN -55.2144863042 2.39994268593 52.7987390904 323.03240502 331.744852722\n",
      "update least 323.03240502\n",
      "18 21 256 278 acc0 -58.8780937128 2.9146250672 64.1217514784 334.355417408 323.03240502\n",
      "18 21 256 278 accP -58.7725918978 2.83762152378 62.4276735231 332.661339453 323.03240502\n",
      "18 21 256 278 accN -32.1834742725 0.677086952931 14.8959129645 285.129578894 323.03240502\n",
      "update least 285.129578894\n",
      "i 19\n",
      "19 21 271 278 c0 -16.3472673793 2.08375762434 14.5863033704 295.513794592 285.129578894\n",
      "19 21 271 278 cP -18.9021424016 3.10620554805 21.7434388364 302.670930058 285.129578894\n",
      "19 21 271 278 cN -16.5565995 1.29211547711 9.04480833976 289.972299562 285.129578894\n",
      "19 21 271 278 acc0 -9.7494475703 0.427484101801 2.99238871261 283.919879935 285.129578894\n",
      "update least 283.919879935\n",
      "19 21 271 278 accP -14.7292174273 0.935107344246 6.54575140972 287.473242632 283.919879935\n",
      "19 21 271 278 accN -14.1726590281 0.465336110378 3.25735277265 284.184843995 283.919879935\n",
      "i 20\n",
      "20 21 272 278 c0 -14.8242490013 2.32341140107 13.9404684064 295.195581011 283.919879935\n",
      "20 21 272 278 cP -14.7543082582 2.24940928672 13.4964557203 294.751568325 283.919879935\n",
      "20 21 272 278 cN -14.2284050573 1.15113003785 6.90678022708 288.161892832 283.919879935\n",
      "20 21 272 278 acc0 -11.9560360673 0.721559172902 4.32935503741 285.584467642 283.919879935\n",
      "20 21 272 278 accP -11.9697839885 0.739221257563 4.43532754538 285.69044015 283.919879935\n",
      "20 21 272 278 accN -14.8792915567 0.637090712458 3.82254427475 285.077656879 283.919879935\n",
      "j 22\n",
      "i 18\n",
      "18 22 256 282 c0 -66.488328254 3.06190923208 79.6096400341 349.843305964 inf\n",
      "update least 349.843305964\n",
      "18 22 256 282 cP -66.4633550514 2.93975800911 76.433708237 346.667374167 349.843305964\n",
      "update least 346.667374167\n",
      "18 22 256 282 cN -69.595884808 3.00573694589 78.1491605931 348.382826523 346.667374167\n",
      "18 22 256 282 acc0 -68.9512579112 2.87574745028 74.7694337073 345.003099637 346.667374167\n",
      "update least 345.003099637\n",
      "18 22 256 282 accP -68.8616042007 2.90512028357 75.5331273727 345.766793302 345.003099637\n",
      "18 22 256 282 accN -35.6408514893 0.66210478863 17.2147245044 287.448390434 345.003099637\n",
      "update least 287.448390434\n",
      "i 19\n",
      "19 22 271 282 c0 -28.6701254086 3.03729829812 33.4102812793 314.337772501 287.448390434\n",
      "19 22 271 282 cP -31.6668528081 3.95640844864 43.520492935 324.447984157 287.448390434\n",
      "19 22 271 282 cN -25.7534661024 1.68595711593 18.5455282752 299.473019497 287.448390434\n",
      "19 22 271 282 acc0 -10.9314604419 0.36617915861 4.02797074471 284.955461967 287.448390434\n",
      "update least 284.955461967\n",
      "19 22 271 282 accP -18.8551107021 0.809901783959 8.90891962355 289.836410846 284.955461967\n",
      "19 22 271 282 accN -14.8880819099 0.373384883419 4.10723371761 285.03472494 284.955461967\n",
      "i 20\n",
      "20 22 272 282 c0 -26.7087379206 3.14633667156 31.4633667156 312.71847932 284.955461967\n",
      "20 22 272 282 cP -26.646221999 3.06800896654 30.6800896654 311.93520227 284.955461967\n",
      "20 22 272 282 cN -23.11074977 1.5522998258 15.522998258 296.778110862 284.955461967\n",
      "20 22 272 282 acc0 -14.4037323497 0.583088805364 5.83088805364 287.086000658 284.955461967\n",
      "20 22 272 282 accP -14.3389861538 0.57121705076 5.7121705076 286.967283112 284.955461967\n",
      "20 22 272 282 accN -15.0272845403 0.410438674415 4.10438674415 285.359499349 284.955461967\n",
      "j 23\n",
      "i 21\n",
      "21 23 278 293 c0 -39.2329382716 3.08599254462 46.2898881692 331.209768104 inf\n",
      "update least 331.209768104\n",
      "21 23 278 293 cP -35.3811039216 2.36140489524 35.4210734287 320.340953363 331.209768104\n",
      "update least 320.340953363\n",
      "21 23 278 293 cN -37.6456631511 2.12697738312 31.9046607468 316.824540681 320.340953363\n",
      "update least 316.824540681\n",
      "21 23 278 293 acc0 -42.1936853243 3.0440721201 45.6610818015 330.580961736 316.824540681\n",
      "21 23 278 293 accP -33.0289568696 1.59674228561 23.9511342842 308.871014219 316.824540681\n",
      "update least 308.871014219\n",
      "21 23 278 293 accN -34.0829787805 1.28005452844 19.2008179266 304.120697861 308.871014219\n",
      "update least 304.120697861\n",
      "i 22\n",
      "22 23 282 293 c0 -27.6945794592 2.71322860312 29.8455146343 315.800976601 304.120697861\n",
      "22 23 282 293 cP -30.4940367451 3.49486109674 38.4434720642 324.398934031 304.120697861\n",
      "22 23 282 293 cN -29.2835308301 2.32952728702 25.6248001572 311.580262124 304.120697861\n",
      "22 23 282 293 acc0 -31.3417719033 2.73059159592 30.0365075551 315.991969522 304.120697861\n",
      "22 23 282 293 accP -23.173713086 1.26264996321 13.8891495953 299.844611562 304.120697861\n",
      "update least 299.844611562\n",
      "22 23 282 293 accN -27.7148529981 1.33516154929 14.6867770422 300.642239009 299.844611562\n",
      "j 24\n",
      "i 21\n",
      "21 24 278 294 c0 -41.1503911268 2.93548422539 46.9677476063 331.887627541 inf\n",
      "update least 331.887627541\n",
      "21 24 278 294 cP -37.93038157 2.38123280074 38.0997248118 323.019604746 331.887627541\n",
      "update least 323.019604746\n",
      "21 24 278 294 cN -39.9106329736 2.1254435772 34.0070972351 318.92697717 323.019604746\n",
      "update least 318.92697717\n",
      "21 24 278 294 acc0 -44.3110638391 2.92307551308 46.7692082093 331.689088144 318.92697717\n",
      "21 24 278 294 accP -34.3071618421 1.49205071371 23.8728114193 308.792691354 318.92697717\n",
      "update least 308.792691354\n",
      "21 24 278 294 accN -35.4602292531 1.28745165098 20.5992264156 305.51910635 308.792691354\n",
      "update least 305.51910635\n",
      "i 22\n",
      "22 24 282 294 c0 -29.5408557372 2.59985332794 31.1982399353 317.153701902 305.51910635\n",
      "22 24 282 294 cP -33.4259470916 3.60081355462 43.2097626554 329.165224622 305.51910635\n",
      "22 24 282 294 cN -31.1117769637 2.22129413856 26.6555296627 312.610991629 305.51910635\n",
      "22 24 282 294 acc0 -33.3334117323 2.65912885045 31.9095462054 317.865008172 305.51910635\n",
      "22 24 282 294 accP -25.1192714063 1.32807631437 15.9369157724 301.892377739 305.51910635\n",
      "update least 301.892377739\n",
      "22 24 282 294 accN -29.4778240688 1.37285772191 16.4742926629 302.42975463 301.892377739\n",
      "j 25\n",
      "i 21\n",
      "21 25 278 303 c0 -65.7890048187 3.16886888312 79.2217220781 364.141602013 inf\n",
      "update least 364.141602013\n",
      "21 25 278 303 cP -74.0846096222 4.4648607837 111.621519592 396.541399527 364.141602013\n",
      "21 25 278 303 cN -69.5404744617 3.22337934299 80.5844835747 365.504363509 364.141602013\n",
      "21 25 278 303 acc0 -66.3510684775 2.92086005965 73.0215014913 357.941381426 364.141602013\n",
      "update least 357.941381426\n",
      "21 25 278 303 accP -52.2694110378 1.61354333456 40.338583364 325.258463299 357.941381426\n",
      "update least 325.258463299\n",
      "21 25 278 303 accN -52.5599962072 1.40595713806 35.1489284514 320.068808386 325.258463299\n",
      "update least 320.068808386\n",
      "i 22\n",
      "22 25 282 303 c0 -54.6464656781 3.10405650912 65.1851866915 351.140648658 320.068808386\n",
      "22 25 282 303 cP -67.5518956255 5.87058326574 123.28224858 409.237710547 320.068808386\n",
      "22 25 282 303 cN -57.8036391813 3.12004655184 65.5209775886 351.476439555 320.068808386\n",
      "22 25 282 303 acc0 -52.4194924411 2.3694714267 49.7588999607 335.714361927 320.068808386\n",
      "22 25 282 303 accP -42.8235004927 1.4903186849 31.296692383 317.25215435 320.068808386\n",
      "update least 317.25215435\n",
      "22 25 282 303 accN -46.6640548201 1.47468453994 30.9683753388 316.923837305 317.25215435\n",
      "update least 316.923837305\n",
      "i 23\n",
      "23 25 293 303 c0 -28.5766463159 3.78864219347 37.8864219347 338.731033497 316.923837305\n",
      "23 25 293 303 cP -28.6802523796 3.88636234511 38.8636234511 339.708235013 316.923837305\n",
      "23 25 293 303 cN -22.7158915571 1.44513087257 14.4513087257 315.295920288 316.923837305\n",
      "update least 315.295920288\n",
      "23 25 293 303 acc0 -27.0147796814 2.26128573644 22.6128573644 323.457468926 315.295920288\n",
      "23 25 293 303 accP -27.0144895549 2.29562242663 22.9562242663 323.800835828 315.295920288\n",
      "23 25 293 303 accN -27.0071843469 1.50629419317 15.0629419317 315.907553494 315.295920288\n",
      "i 24\n",
      "24 25 294 303 c0 -26.2780802563 4.07494200213 36.6744780192 339.566855758 315.295920288\n",
      "24 25 294 303 cP -26.3309559311 4.00007492149 36.0006742934 338.893052032 315.295920288\n",
      "24 25 294 303 cN -14.3669396434 0.648762767727 5.83886490954 308.731242649 315.295920288\n",
      "update least 308.731242649\n",
      "24 25 294 303 acc0 -26.4217736798 2.76835130207 24.9151617187 327.807539458 308.731242649\n",
      "24 25 294 303 accP -26.4973550656 2.88051609896 25.9246448906 328.81702263 308.731242649\n",
      "24 25 294 303 accN -15.0680465844 0.430152909348 3.87137618413 306.763753923 308.731242649\n",
      "update least 306.763753923\n",
      "j 26\n",
      "i 23\n",
      "23 26 293 309 c0 -42.0462972745 3.19415605163 51.106496826 351.951108388 inf\n",
      "update least 351.951108388\n",
      "23 26 293 309 cP -42.0412183793 3.19573447657 51.1317516251 351.976363187 351.951108388\n",
      "23 26 293 309 cN -34.4767543099 1.52836051464 24.4537682342 325.298379796 351.951108388\n",
      "update least 325.298379796\n",
      "23 26 293 309 acc0 -42.0756555506 2.55292379526 40.8467807242 341.691392286 325.298379796\n",
      "23 26 293 309 accP -42.0736534781 2.51774389548 40.2839023276 341.12851389 325.298379796\n",
      "23 26 293 309 accN -36.6922096241 1.39637672942 22.3420276707 323.186639233 325.298379796\n",
      "update least 323.186639233\n",
      "i 25\n",
      "25 26 303 309 c0 -14.7044347346 2.31294942379 13.8776965428 321.641450466 323.186639233\n",
      "update least 321.641450466\n",
      "25 26 303 309 cP -14.6570791796 2.26053465441 13.5632079265 321.32696185 321.641450466\n",
      "update least 321.32696185\n",
      "25 26 303 309 cN -15.4021681379 1.43474371727 8.60846230363 316.372216227 321.32696185\n",
      "update least 316.372216227\n",
      "25 26 303 309 acc0 -18.0109032727 2.34371739045 14.0623043427 321.826058266 316.372216227\n",
      "25 26 303 309 accP -13.5839578316 0.974745366863 5.84847220118 313.612226124 316.372216227\n",
      "update least 313.612226124\n",
      "25 26 303 309 accN -18.2670155769 1.21182729019 7.27096374113 315.034717664 313.612226124\n",
      "j 27\n",
      "i 25\n",
      "25 27 303 310 c0 -16.2380008857 2.05554700678 14.3888290475 322.152582971 inf\n",
      "update least 322.152582971\n",
      "25 27 303 310 cP -17.3568022085 2.4151792582 16.9062548074 324.670008731 322.152582971\n",
      "25 27 303 310 cN -17.342807664 1.4796930223 10.3578511561 318.121605079 322.152582971\n",
      "update least 318.121605079\n",
      "25 27 303 310 acc0 -19.6673812021 2.09347401023 14.6543180716 322.418071995 318.121605079\n",
      "25 27 303 310 accP -14.1326310699 0.836068440511 5.85247908358 313.616233007 318.121605079\n",
      "update least 313.616233007\n",
      "25 27 303 310 accN -18.6545549704 0.968129861512 6.77690903058 314.540662954 313.616233007\n",
      "j 28\n",
      "i 26\n",
      "26 28 309 327 c0 -46.3764191242 2.99244890935 53.8640803683 368.476306493 inf\n",
      "update least 368.476306493\n",
      "26 28 309 327 cP -50.8962327148 3.88023547457 69.8442385422 384.456464667 368.476306493\n",
      "26 28 309 327 cN -40.8384769472 1.80074294315 32.4133729768 347.025599101 368.476306493\n",
      "update least 347.025599101\n",
      "26 28 309 327 acc0 -43.3041368528 2.09076767719 37.6338181895 352.246044314 347.025599101\n",
      "26 28 309 327 accP -46.030867816 2.44764888225 44.0576798806 358.669906005 347.025599101\n",
      "26 28 309 327 accN -45.2478032982 1.85635261714 33.4143471085 348.026573233 347.025599101\n",
      "i 27\n",
      "27 28 310 327 c0 -44.333061149 3.10144955548 52.7246424432 367.34087545 347.025599101\n",
      "27 28 310 327 cP -44.4070592344 3.05769723801 51.9808530461 366.597086053 347.025599101\n",
      "27 28 310 327 cN -38.3906679329 1.73625610546 29.5163537927 344.1325868 347.025599101\n",
      "update least 344.1325868\n",
      "27 28 310 327 acc0 -42.3983286584 2.25404640922 38.3187889567 352.935021963 344.1325868\n",
      "27 28 310 327 accP -42.2221608992 2.25019942843 38.2533902833 352.86962329 344.1325868\n",
      "27 28 310 327 accN -42.9720239799 1.82553827651 31.0341507006 345.650383707 344.1325868\n",
      "j 29\n",
      "j 30\n",
      "j 31\n",
      "j 32\n",
      "i 28\n",
      "28 32 327 345 c0 -46.6269259224 3.05476423281 54.9857561905 400.11834299 inf\n",
      "update least 400.11834299\n",
      "28 32 327 345 cP -46.5302092779 3.03272044491 54.5889680083 399.721554808 400.11834299\n",
      "update least 399.721554808\n",
      "28 32 327 345 cN -37.6114502039 1.48902377474 26.8024279454 371.935014745 399.721554808\n",
      "update least 371.935014745\n",
      "28 32 327 345 acc0 -46.4799179659 2.55308689263 45.9555640674 391.088150867 371.935014745\n",
      "28 32 327 345 accP -46.4098029986 2.49463252876 44.9033855177 390.035972317 371.935014745\n",
      "28 32 327 345 accN -38.5271950187 1.24307156531 22.3752881756 367.507874975 371.935014745\n",
      "update least 367.507874975\n",
      "i 29\n",
      "29 32 328 345 c0 -44.5927360554 3.17916369072 54.0457827423 inf 367.507874975\n",
      "29 32 328 345 cP -44.6015672857 3.19749268234 54.3573755998 inf 367.507874975\n",
      "29 32 328 345 cN -34.6055334229 1.38658778836 23.5719924021 inf 367.507874975\n",
      "29 32 328 345 acc0 -45.1351010123 2.68344503179 45.6185655405 inf 367.507874975\n",
      "29 32 328 345 accP -45.2411860449 2.68402044668 45.6283475936 inf 367.507874975\n",
      "29 32 328 345 accN -22.6038531482 0.514947249152 8.75410323558 inf 367.507874975\n",
      "i 30\n",
      "30 32 329 345 c0 -41.7000708032 3.02764089909 48.4422543855 inf 367.507874975\n",
      "30 32 329 345 cP -35.5162914083 2.00103710553 32.0165936884 inf 367.507874975\n",
      "30 32 329 345 cN -32.8137925399 1.37567412175 22.0107859481 inf 367.507874975\n",
      "30 32 329 345 acc0 -42.6033480464 2.64008780367 42.2414048588 inf 367.507874975\n",
      "30 32 329 345 accP -18.9710118188 0.546447543171 8.74316069073 inf 367.507874975\n",
      "30 32 329 345 accN -21.5837176017 0.497677333774 7.96283734038 inf 367.507874975\n",
      "i 31\n",
      "31 32 331 345 c0 -35.7993312007 2.88600873089 40.4041222324 inf 367.507874975\n",
      "31 32 331 345 cP -32.2590186214 2.19885290516 30.7839406723 inf 367.507874975\n",
      "31 32 331 345 cN -29.0249852953 1.37083010956 19.1916215338 inf 367.507874975\n",
      "31 32 331 345 acc0 -37.3033984531 2.56177617139 35.8648663995 inf 367.507874975\n",
      "31 32 331 345 accP -16.1130561496 0.501589976321 7.02225966849 inf 367.507874975\n",
      "31 32 331 345 accN -20.5110852986 0.511863862569 7.16609407597 inf 367.507874975\n",
      "j 33\n",
      "i 29\n",
      "29 33 328 346 c0 -46.5785805229 3.05736016342 55.0324829415 inf inf\n",
      "29 33 328 346 cP -46.6402049165 3.06366889751 55.1460401551 inf inf\n",
      "29 33 328 346 cN -37.6507607493 1.51848845539 27.3327921971 inf inf\n",
      "29 33 328 346 acc0 -47.7185565104 2.71072849286 48.7931128715 inf inf\n",
      "29 33 328 346 accP -47.7041146442 2.70717753336 48.7291956005 inf inf\n",
      "29 33 328 346 accN -23.3637662673 0.508209885672 9.14777794209 inf inf\n",
      "i 30\n",
      "30 33 329 346 c0 -43.7133402922 3.03277530993 51.5571802688 inf inf\n",
      "30 33 329 346 cP -39.020260779 2.24898653262 38.2327710545 inf inf\n",
      "30 33 329 346 cN -35.7527303657 1.48069192972 25.1717628052 inf inf\n",
      "30 33 329 346 acc0 -44.9803714979 2.64109708681 44.8986504758 inf inf\n",
      "30 33 329 346 accP -19.8182755132 0.552362170633 9.39015690076 inf inf\n",
      "30 33 329 346 accN -22.1307014047 0.511782555011 8.70030343518 inf inf\n",
      "i 31\n",
      "31 33 331 346 c0 -37.5957691436 2.73470142757 41.0205214135 inf inf\n",
      "31 33 331 346 cP -35.7055782407 2.46201173154 36.9301759731 inf inf\n",
      "31 33 331 346 cN -31.7828534126 1.49516433461 22.4274650191 inf inf\n",
      "31 33 331 346 acc0 -39.4857683582 2.51512468634 37.7268702951 inf inf\n",
      "31 33 331 346 accP -16.4966026458 0.486750025794 7.30125038692 inf inf\n",
      "31 33 331 346 accN -20.7956411004 0.49507680694 7.42615210409 inf inf\n",
      "j 34\n",
      "i 32\n",
      "32 34 345 352 c0 -16.8258816164 2.2724602368 15.9072216576 384.415096633 inf\n",
      "update least 384.415096633\n",
      "32 34 345 352 cP -16.7914361499 2.20020676479 15.4014473535 383.909322329 384.415096633\n",
      "update least 383.909322329\n",
      "32 34 345 352 cN -16.476592032 1.24864189242 8.74049324692 377.248368222 383.909322329\n",
      "update least 377.248368222\n",
      "32 34 345 352 acc0 -12.8049572078 0.691443285835 4.84010300084 373.347977976 377.248368222\n",
      "update least 373.347977976\n",
      "32 34 345 352 accP -12.9243335054 0.690220027375 4.83154019162 373.339415167 373.347977976\n",
      "update least 373.339415167\n",
      "32 34 345 352 accN -16.9911612666 0.746562750903 5.22593925632 373.733814231 373.339415167\n",
      "i 33\n",
      "33 34 346 352 c0 -15.1489415401 2.41363958744 14.4818375246 inf 373.339415167\n",
      "33 34 346 352 cP -15.1199982681 2.44382306703 14.6629384022 inf 373.339415167\n",
      "33 34 346 352 cN -13.7874238636 1.04503252191 6.27019513144 inf 373.339415167\n",
      "33 34 346 352 acc0 -14.1470261326 1.15303110678 6.91818664066 inf 373.339415167\n",
      "33 34 346 352 accP -14.181596061 1.15657815836 6.93946895014 inf 373.339415167\n",
      "33 34 346 352 accN -16.2906239183 0.818932601434 4.9135956086 inf 373.339415167\n",
      "j 35\n",
      "i 33\n",
      "33 35 346 366 c0 -51.4681214878 2.97169840354 59.4339680708 inf inf\n",
      "33 35 346 366 cP -51.5621617002 2.98571116669 59.7142233338 inf inf\n",
      "33 35 346 366 cN -45.785604583 1.88925473782 37.7850947564 inf inf\n",
      "33 35 346 366 acc0 -51.3883793221 2.5001539116 50.0030782321 inf inf\n",
      "33 35 346 366 accP -51.5073122358 2.52484479443 50.4968958886 inf inf\n",
      "33 35 346 366 accN -49.4823374127 1.87240483547 37.4480967093 inf inf\n",
      "i 34\n",
      "34 35 352 366 c0 -38.0995408708 3.40490301735 47.6686422429 422.00805741 inf\n",
      "update least 422.00805741\n",
      "34 35 352 366 cP -32.4497779208 2.23647173252 31.3106042553 405.650019422 422.00805741\n",
      "update least 405.650019422\n",
      "34 35 352 366 cN -35.8159655463 2.25690758355 31.5967061697 405.936121336 405.650019422\n",
      "34 35 352 366 acc0 -40.8993173066 3.35417316977 46.9584243768 421.297839544 405.650019422\n",
      "34 35 352 366 accP -35.6616327285 2.20704974924 30.8986964894 405.238111656 405.650019422\n",
      "update least 405.238111656\n",
      "34 35 352 366 accN -32.3098745557 1.2771978012 17.8807692168 392.220184384 405.238111656\n",
      "update least 392.220184384\n",
      "j 36\n",
      "i 33\n",
      "33 36 346 367 c0 -53.4753740198 2.8835088254 60.5536853333 inf inf\n",
      "33 36 346 367 cP -53.4647357117 2.93558726866 61.6473326419 inf inf\n",
      "33 36 346 367 cN -48.026299183 1.89882843053 39.8753970412 inf inf\n",
      "33 36 346 367 acc0 -53.8855357965 2.56578411074 53.8814663255 inf inf\n",
      "33 36 346 367 accP -53.8784799046 2.55992724109 53.758472063 inf inf\n",
      "33 36 346 367 accN -50.9417047018 1.79982224943 37.7962672381 inf inf\n",
      "i 34\n",
      "34 36 352 367 c0 -40.084315757 3.19046193879 47.8569290819 422.196344249 inf\n",
      "update least 422.196344249\n",
      "34 36 352 367 cP -34.4593874358 2.18225066227 32.733759934 407.073175101 422.196344249\n",
      "update least 407.073175101\n",
      "34 36 352 367 cN -38.2864613716 2.29663620307 34.449543046 408.788958213 407.073175101\n",
      "34 36 352 367 acc0 -43.1311862875 3.22531790413 48.3797685619 422.719183729 407.073175101\n",
      "34 36 352 367 accP -37.5446252456 2.19232720296 32.8849080444 407.224323211 407.073175101\n",
      "34 36 352 367 accN -33.4690036306 1.24968627654 18.7452941481 393.084709315 407.073175101\n",
      "update least 393.084709315\n",
      "j 37\n",
      "i 35\n",
      "35 37 366 383 c0 -45.3754844832 3.30585711016 56.1995708727 449.419755256 inf\n",
      "update least 449.419755256\n",
      "35 37 366 383 cP -45.3659600475 3.34542658926 56.8722520174 450.092436401 449.419755256\n",
      "35 37 366 383 cN -31.5903814104 1.14777633553 19.5121977041 412.732382088 449.419755256\n",
      "update least 412.732382088\n",
      "35 37 366 383 acc0 -42.2638346955 2.26859626928 38.5661365778 431.786320961 412.732382088\n",
      "35 37 366 383 accP -42.1850025509 2.20893881118 37.55195979 430.772144173 412.732382088\n",
      "35 37 366 383 accN -35.4470112571 1.17083005771 19.904110981 413.124295365 412.732382088\n",
      "i 36\n",
      "36 37 367 383 c0 -43.2155511855 3.412443641 54.5990982561 448.683807571 412.732382088\n",
      "36 37 367 383 cP -43.3268481289 3.4442892323 55.1086277168 449.193337032 412.732382088\n",
      "36 37 367 383 cN -25.428016863 0.841849740624 13.46959585 407.554305165 412.732382088\n",
      "update least 407.554305165\n",
      "36 37 367 383 acc0 -41.6515792414 2.49000357507 39.8400572012 433.924766516 407.554305165\n",
      "36 37 367 383 accP -41.7365106721 2.50232455554 40.0371928886 434.121902203 407.554305165\n",
      "36 37 367 383 accN -17.5366256769 0.390228332987 6.24365332779 400.328362643 407.554305165\n",
      "update least 400.328362643\n",
      "j 38\n",
      "i 35\n",
      "35 38 366 384 c0 -47.6448584443 3.21047076549 57.7884737788 451.008658162 inf\n",
      "update least 451.008658162\n",
      "35 38 366 384 cP -47.6152029505 3.16145332177 56.9061597919 450.126344175 451.008658162\n",
      "update least 450.126344175\n",
      "35 38 366 384 cN -32.7787751629 1.10925094742 19.9665170535 413.186701437 450.126344175\n",
      "update least 413.186701437\n",
      "35 38 366 384 acc0 -44.5236917215 2.21906870254 39.9432366457 433.163421029 413.186701437\n",
      "35 38 366 384 accP -44.5322209092 2.27555408157 40.9599734682 434.180157852 413.186701437\n",
      "35 38 366 384 accN -36.4284788663 1.10230269208 19.8414484574 413.061632841 413.186701437\n",
      "update least 413.061632841\n",
      "i 36\n",
      "36 38 367 384 c0 -45.5752751087 3.39032156706 57.6354666399 451.720175955 413.061632841\n",
      "36 38 367 384 cP -45.4980608493 3.39209606437 57.6656330943 451.750342409 413.061632841\n",
      "36 38 367 384 cN -26.988881516 0.869298439552 14.7780734724 408.862782787 413.061632841\n",
      "update least 408.862782787\n",
      "36 38 367 384 acc0 -43.69580087 2.45451796952 41.7268054818 435.811514797 408.862782787\n",
      "36 38 367 384 accP -43.6666564104 2.47396711232 42.0574409095 436.142150224 408.862782787\n",
      "36 38 367 384 accN -17.6379386647 0.371430594337 6.31432010374 400.399029419 408.862782787\n",
      "update least 400.399029419\n",
      "j 39\n",
      "i 35\n",
      "35 39 366 391 c0 -62.3911429952 2.84367876435 71.0919691086 464.312153492 inf\n",
      "update least 464.312153492\n",
      "35 39 366 391 cP -62.3521129162 2.81406687989 70.3516719974 463.571856381 464.312153492\n",
      "update least 463.571856381\n",
      "35 39 366 391 cN -46.1403200418 1.26236701006 31.5591752515 424.779359635 463.571856381\n",
      "update least 424.779359635\n",
      "35 39 366 391 acc0 -60.3280350622 2.24853666428 56.2134166071 449.433600991 424.779359635\n",
      "35 39 366 391 accP -60.0822944447 2.25489598312 56.3723995779 449.592583961 424.779359635\n",
      "35 39 366 391 accN -43.7376405302 0.968788774233 24.2197193558 417.439903739 424.779359635\n",
      "update least 417.439903739\n",
      "i 36\n",
      "36 39 367 391 c0 -60.4068761351 2.89785754525 69.548581086 463.633290401 417.439903739\n",
      "36 39 367 391 cP -60.3913698054 2.8728439526 68.9482548623 463.032964177 417.439903739\n",
      "36 39 367 391 cN -42.8114487374 1.17723658752 28.2536781006 422.338387415 417.439903739\n",
      "36 39 367 391 acc0 -59.2023639185 2.38538142136 57.2491541126 451.333863427 417.439903739\n",
      "36 39 367 391 accP -59.1815051479 2.34978340886 56.3948018126 450.479511127 417.439903739\n",
      "36 39 367 391 accN -22.3903476964 0.403105257015 9.67452616837 403.759235483 417.439903739\n",
      "update least 403.759235483\n",
      "i 37\n",
      "37 39 383 391 c0 -17.6423466489 1.90008058928 15.2006447143 416.529007357 403.759235483\n",
      "37 39 383 391 cP -14.198310026 1.13978231628 9.11825853027 410.446621173 403.759235483\n",
      "37 39 383 391 cN -16.000425871 0.923974971935 7.39179977548 408.720162418 403.759235483\n",
      "37 39 383 391 acc0 -20.5068907305 1.81129859286 14.4903887429 415.818751385 403.759235483\n",
      "37 39 383 391 accP -11.2173465938 0.479826906257 3.83861525006 405.166977893 403.759235483\n",
      "37 39 383 391 accN -14.7593926153 0.449085922614 3.59268738091 404.921050024 403.759235483\n",
      "i 38\n",
      "38 39 384 391 c0 -15.4707199841 1.79453879229 12.561771546 413.960800965 403.759235483\n",
      "38 39 384 391 cP -13.2259694472 1.22517227015 8.57620589104 409.97523531 403.759235483\n",
      "38 39 384 391 cN -14.9085300837 0.950427896684 6.65299527679 408.052024695 403.759235483\n",
      "38 39 384 391 acc0 -18.5397652212 1.79523221583 12.5666255108 413.965654929 403.759235483\n",
      "38 39 384 391 accP -10.1031431452 0.453868821575 3.17708175103 404.57611117 403.759235483\n",
      "38 39 384 391 accN -14.0692548391 0.458278022493 3.20794615745 404.606975576 403.759235483\n",
      "j 40\n",
      "i 35\n",
      "35 40 366 392 c0 -64.268471356 2.70952041599 70.4475308158 463.667715199 inf\n",
      "update least 463.667715199\n",
      "35 40 366 392 cP -64.2794342269 2.74920596133 71.4793549945 464.699539378 463.667715199\n",
      "35 40 366 392 cN -49.1761279613 1.30863965078 34.0246309204 427.244815304 463.667715199\n",
      "update least 427.244815304\n",
      "35 40 366 392 acc0 -62.6575582511 2.24720060513 58.4272157335 451.647400117 427.244815304\n",
      "35 40 366 392 accP -62.7970472058 2.31653267968 60.2298496716 453.450034055 427.244815304\n",
      "35 40 366 392 accN -44.9884219139 0.956717819014 24.8746632944 418.094847678 427.244815304\n",
      "update least 418.094847678\n",
      "i 37\n",
      "37 40 383 392 c0 -19.015493898 1.69937427736 15.2943684962 416.622731139 418.094847678\n",
      "update least 416.622731139\n",
      "37 40 383 392 cP -16.8045388512 1.2715244377 11.4437199393 412.772082582 416.622731139\n",
      "update least 412.772082582\n",
      "37 40 383 392 cN -17.8866610724 0.962633316426 8.66369984784 409.99206249 412.772082582\n",
      "update least 409.99206249\n",
      "37 40 383 392 acc0 -22.0160185471 1.62238043575 14.6014239218 415.929786564 409.99206249\n",
      "37 40 383 392 accP -11.4172263909 0.447687186261 4.02918467635 405.357547319 409.99206249\n",
      "update least 405.357547319\n",
      "37 40 383 392 accN -14.5883046299 0.419339876682 3.77405889014 405.102421533 405.357547319\n",
      "update least 405.102421533\n",
      "i 38\n",
      "38 40 384 392 c0 -16.8597304078 1.64799283817 13.1839427053 414.582972124 405.102421533\n",
      "38 40 384 392 cP -15.5939127076 1.34172400276 10.7337920221 412.132821441 405.102421533\n",
      "38 40 384 392 cN -16.7479937361 1.01612971182 8.12903769459 409.528067113 405.102421533\n",
      "38 40 384 392 acc0 -20.1685391459 1.62628820928 13.0103056743 414.409335093 405.102421533\n",
      "38 40 384 392 accP -9.94410578066 0.403996717993 3.23197374394 404.631003162 405.102421533\n",
      "update least 404.631003162\n",
      "38 40 384 392 accN -13.8680352245 0.393894888241 3.15115910593 404.550188524 404.631003162\n",
      "update least 404.550188524\n",
      "j 41\n",
      "i 38\n",
      "38 41 384 395 c0 -22.140071518 1.58715675441 17.4587242985 418.857753717 inf\n",
      "update least 418.857753717\n",
      "38 41 384 395 cP -25.9491659842 2.30382724056 25.3420996461 426.741129065 418.857753717\n",
      "38 41 384 395 cN -25.3474682473 1.55738342736 17.131217701 418.53024712 418.857753717\n",
      "update least 418.53024712\n",
      "38 41 384 395 acc0 -25.5945403697 1.55143460772 17.065780685 418.464810104 418.53024712\n",
      "update least 418.464810104\n",
      "38 41 384 395 accP -13.5816095006 0.484413809416 5.32855190358 406.727581322 418.464810104\n",
      "update least 406.727581322\n",
      "38 41 384 395 accN -15.8312448119 0.413742711121 4.55116982234 405.950199241 406.727581322\n",
      "update least 405.950199241\n",
      "j 42\n",
      "i 39\n",
      "39 42 391 413 c0 -59.088863628 3.40010901742 74.8023983832 479.561633866 inf\n",
      "update least 479.561633866\n",
      "39 42 391 413 cP -59.0849584497 3.41327810886 75.0921183948 479.851353878 479.561633866\n",
      "39 42 391 413 cN -49.2099403244 1.85323492851 40.7711684272 445.53040391 479.561633866\n",
      "update least 445.53040391\n",
      "39 42 391 413 acc0 -53.1905754549 2.21052493826 48.6315486418 453.390784125 445.53040391\n",
      "39 42 391 413 accP -53.2253358311 2.22789852038 49.0137674483 453.773002931 445.53040391\n",
      "39 42 391 413 accN -53.4516920111 1.87654466486 41.2839826269 446.04321811 445.53040391\n",
      "i 40\n",
      "40 42 392 413 c0 -56.8602771216 3.46345489916 72.7325528823 478.282741407 445.53040391\n",
      "40 42 392 413 cP -56.926240528 3.5374211048 74.2858432008 479.836031725 445.53040391\n",
      "40 42 392 413 cN -46.3754719646 1.73807082533 36.499487332 442.049675856 445.53040391\n",
      "update least 442.049675856\n",
      "40 42 392 413 acc0 -52.264952226 2.32495162105 48.823984042 454.374172566 442.049675856\n",
      "40 42 392 413 accP -52.2260229804 2.35695244815 49.4960014112 455.046189936 442.049675856\n",
      "40 42 392 413 accN -50.8251799795 1.80874026537 37.9835455728 443.533734097 442.049675856\n",
      "i 41\n",
      "41 42 395 413 c0 -50.2027733329 3.7786447012 68.0156046216 474.965803862 442.049675856\n",
      "41 42 395 413 cP -40.1294155525 2.08955206854 37.6119372338 444.562136475 442.049675856\n",
      "41 42 395 413 cN -40.5922831056 1.82025266155 32.764547908 439.714747149 442.049675856\n",
      "update least 439.714747149\n",
      "41 42 395 413 acc0 -48.4183125879 2.80482965128 50.486933723 457.437132964 439.714747149\n",
      "41 42 395 413 accP -42.7714247322 2.01650676114 36.2971217005 443.247320941 439.714747149\n",
      "41 42 395 413 accN -44.4760822585 1.77242503797 31.9036506834 438.853849924 439.714747149\n",
      "update least 438.853849924\n",
      "j 43\n",
      "i 41\n",
      "41 43 395 416 c0 -56.6493939615 3.40394641441 71.4828747026 478.433073943 inf\n",
      "update least 478.433073943\n",
      "41 43 395 416 cP -46.3868935705 2.07486017038 43.5720635781 450.522262819 478.433073943\n",
      "update least 450.522262819\n",
      "41 43 395 416 cN -49.0222649488 2.01152914462 42.242112037 449.192311278 450.522262819\n",
      "update least 449.192311278\n",
      "41 43 395 416 acc0 -56.7795219851 2.94889629266 61.9268221458 468.877021387 449.192311278\n",
      "41 43 395 416 accP -50.1522348247 2.08415926629 43.7673445921 450.717543833 449.192311278\n",
      "41 43 395 416 accN -49.9884190716 1.7443448404 36.6312416484 443.581440889 449.192311278\n",
      "update least 443.581440889\n",
      "j 44\n",
      "i 41\n",
      "41 44 395 417 c0 -58.7462495127 3.40200460701 74.8441013543 481.794300595 inf\n",
      "update least 481.794300595\n",
      "41 44 395 417 cP -48.5332469574 2.08426904444 45.8539189777 452.804118219 481.794300595\n",
      "update least 452.804118219\n",
      "41 44 395 417 cN -51.559125166 2.02569738042 44.5653423693 451.51554161 452.804118219\n",
      "update least 451.51554161\n",
      "41 44 395 417 acc0 -59.2789725698 2.88669086092 63.5071989403 470.457398181 451.51554161\n",
      "41 44 395 417 accP -52.2488347978 2.1170302442 46.5746653725 453.524864613 451.51554161\n",
      "41 44 395 417 accN -51.7200894917 1.67296872643 36.8053119814 443.755511222 451.51554161\n",
      "update least 443.755511222\n",
      "j 45\n",
      "i 42\n",
      "42 45 413 435 c0 -55.1566452186 2.82898446308 62.2376581877 502.091508112 inf\n",
      "update least 502.091508112\n",
      "42 45 413 435 cP -55.1170621101 2.84645426128 62.6219937481 502.475843672 502.091508112\n",
      "42 45 413 435 cN -46.389491615 1.60230017033 35.2506037473 475.104453672 502.091508112\n",
      "update least 475.104453672\n",
      "42 45 413 435 acc0 -51.3479969693 2.01946287936 44.4281833459 484.28203327 475.104453672\n",
      "42 45 413 435 accP -51.2913743794 2.02943077792 44.6474771142 484.501327039 475.104453672\n",
      "42 45 413 435 accN -50.7402499832 1.61061549167 35.4335408168 475.287390741 475.104453672\n",
      "i 43\n",
      "43 45 416 435 c0 -49.2532145842 3.06006457174 58.1412268631 502.722667752 475.104453672\n",
      "43 45 416 435 cP -49.2987942357 3.08375177533 58.5912837313 503.172724621 475.104453672\n",
      "43 45 416 435 cN -38.2843933813 1.3947745703 26.5007168357 471.082157725 475.104453672\n",
      "update least 471.082157725\n",
      "43 45 416 435 acc0 -48.3050319973 2.41411626226 45.8682089829 490.449649872 471.082157725\n",
      "43 45 416 435 accP -48.2923629203 2.43443498261 46.2542646695 490.835705559 471.082157725\n",
      "43 45 416 435 accN -39.6400290321 1.19856596485 22.7727533321 467.354194221 471.082157725\n",
      "update least 467.354194221\n",
      "i 44\n",
      "44 45 417 435 c0 -47.2104113213 3.14700372462 56.6460670431 501.401578265 467.354194221\n",
      "44 45 417 435 cP -47.2700514212 3.1126108725 56.0269957051 500.782506927 467.354194221\n",
      "44 45 417 435 cN -34.805947067 1.28821952623 23.1879514721 467.943462694 467.354194221\n",
      "44 45 417 435 acc0 -47.1761777928 2.65042914353 47.7077245835 492.463235806 467.354194221\n",
      "44 45 417 435 accP -47.2201363548 2.58006144621 46.4411060318 491.196617254 467.354194221\n",
      "44 45 417 435 accN -25.9159150269 0.590107436491 10.6219338568 455.377445079 467.354194221\n",
      "update least 455.377445079\n",
      "j 46\n",
      "i 44\n",
      "44 46 417 436 c0 -49.285161535 3.08304583105 58.5778707899 503.333382012 inf\n",
      "update least 503.333382012\n",
      "44 46 417 436 cP -49.3132138434 3.11343590308 59.1552821585 503.910793381 503.333382012\n",
      "44 46 417 436 cN -38.457751438 1.42278414859 27.0328988232 471.788410045 503.333382012\n",
      "update least 471.788410045\n",
      "44 46 417 436 acc0 -49.7311383911 2.62125771768 49.803896636 494.559407858 471.788410045\n",
      "44 46 417 436 accP -49.5917068653 2.57124030664 48.8535658261 493.609077048 471.788410045\n",
      "44 46 417 436 accN -27.21964968 0.601482081716 11.4281595526 456.183670775 471.788410045\n",
      "update least 456.183670775\n",
      "j 47\n",
      "i 45\n",
      "45 47 435 444 c0 -22.5255261768 2.58247647322 23.242288259 479.619733338 inf\n",
      "update least 479.619733338\n",
      "45 47 435 444 cP -25.176507012 3.53102642532 31.7792378279 488.156682907 479.619733338\n",
      "45 47 435 444 cN -21.2202356239 1.46964727784 13.2268255005 469.60427058 479.619733338\n",
      "update least 469.60427058\n",
      "45 47 435 444 acc0 -14.9280562016 0.692584431113 6.23325988002 462.610704959 469.60427058\n",
      "update least 462.610704959\n",
      "45 47 435 444 accP -18.4759474468 1.06670876746 9.60037890718 465.977823986 462.610704959\n",
      "45 47 435 444 accN -19.4129813452 0.744481019011 6.7003291711 463.07777425 462.610704959\n",
      "i 46\n",
      "46 47 436 444 c0 -20.7081872645 2.87212427756 22.9769942205 480.160664995 462.610704959\n",
      "46 47 436 444 cP -20.6811576268 2.90623391577 23.2498713262 480.433542101 462.610704959\n",
      "46 47 436 444 cN -18.9453737605 1.39757707882 11.1806166306 468.364287405 462.610704959\n",
      "46 47 436 444 acc0 -15.6879639173 0.900653960152 7.20523168122 464.388902456 462.610704959\n",
      "46 47 436 444 accP -15.8014895833 0.923372790141 7.38698232113 464.570653096 462.610704959\n",
      "46 47 436 444 accN -19.1339141199 0.852142268141 6.81713814513 464.00080892 462.610704959\n",
      "j 48\n",
      "i 47\n",
      "47 48 444 452 c0 -24.6218045538 4.71288079236 37.7030463389 501.313751298 inf\n",
      "update least 501.313751298\n",
      "47 48 444 452 cP -16.6430197088 1.61290628258 12.9032502606 476.51395522 501.313751298\n",
      "update least 476.51395522\n",
      "47 48 444 452 cN -17.6535157946 1.20481350178 9.63850801421 473.249212973 476.51395522\n",
      "update least 473.249212973\n",
      "47 48 444 452 acc0 -25.0711116346 3.26587856916 26.1270285533 489.737733512 473.249212973\n",
      "47 48 444 452 accP -19.3332192121 1.52033994647 12.1627195718 475.773424531 473.249212973\n",
      "47 48 444 452 accN -21.4602270359 1.15018044861 9.2014435889 472.812148548 473.249212973\n",
      "update least 472.812148548\n",
      "j 49\n",
      "j 50\n",
      "j 51\n",
      "i 48\n",
      "48 51 452 468 c0 5304.63012333 8.14693310088e-155 1.30350929614e-153 473.812148548 inf\n",
      "update least 473.812148548\n",
      "48 51 452 468 cP -36.4220753462 2.18316820098 34.9306912157 508.742839764 473.812148548\n",
      "48 51 452 468 cN 633.075484664 1.21231226469e-14 1.93969962351e-13 473.812148548 473.812148548\n",
      "48 51 452 468 acc0 598.911940858 7.54333839761e-14 1.20693414362e-12 473.812148548 473.812148548\n",
      "48 51 452 468 accP -30.3914333096 1.17744864118 18.839178259 492.651326807 473.812148548\n",
      "48 51 452 468 accN 431.278930723 2.40781512297e-10 3.85250419675e-09 473.812148552 473.812148548\n",
      "i 49\n",
      "49 51 455 468 c0 4242.91394693 8.20563025646e-155 1.06673193334e-153 inf 473.812148548\n",
      "49 51 455 468 cP 4242.95473291 8.16858913136e-155 1.06191658708e-153 inf 473.812148548\n",
      "49 51 455 468 cN 587.126293873 7.27041187276e-18 9.45153543459e-17 inf 473.812148548\n",
      "49 51 455 468 acc0 536.47910828 4.19199589176e-16 5.44959465928e-15 inf 473.812148548\n",
      "49 51 455 468 accP 4239.86178601 8.06666841618e-155 1.0486668941e-153 inf 473.812148548\n",
      "49 51 455 468 accN 385.46218288 4.13969686886e-12 5.38160592952e-11 inf 473.812148548\n",
      "i 50\n",
      "50 51 456 468 c0 3889.13631443 8.12364389641e-155 9.7483726757e-154 inf 473.812148548\n",
      "50 51 456 468 cP 3889.07571117 8.16338015778e-155 9.79605618933e-154 inf 473.812148548\n",
      "50 51 456 468 cN 542.06243474 7.48062961368e-17 8.97675553642e-16 inf 473.812148548\n",
      "50 51 456 468 acc0 488.1403758 7.36933681759e-16 8.8432041811e-15 inf 473.812148548\n",
      "50 51 456 468 accP 475.861920036 3.09268019676e-15 3.71121623611e-14 inf 473.812148548\n",
      "50 51 456 468 accN 312.398124397 2.74021911207e-11 3.28826293449e-10 inf 473.812148548\n",
      "j 52\n",
      "i 48\n",
      "48 52 452 469 c0 5658.9201143 7.93458401089e-155 1.34887928185e-153 473.812148548 inf\n",
      "update least 473.812148548\n",
      "48 52 452 469 cP -38.6265679591 2.20108546362 37.4184528815 511.23060143 473.812148548\n",
      "48 52 452 469 cN 745.720285102 2.72964475917e-17 4.64039609059e-16 473.812148548 473.812148548\n",
      "48 52 452 469 acc0 5655.46282237 8.05855915996e-155 1.36995505719e-153 473.812148548 473.812148548\n",
      "48 52 452 469 accP -31.8246542872 1.18719168776 20.1822586919 493.99440724 473.812148548\n",
      "48 52 452 469 accN 565.132919036 6.42744556407e-14 1.09266574589e-12 473.812148548 473.812148548\n",
      "i 49\n",
      "49 52 455 469 c0 4597.04355259 8.03139281303e-155 1.12439499382e-153 inf 473.812148548\n",
      "49 52 455 469 cP 4596.92921776 8.10325149162e-155 1.13445520883e-153 inf 473.812148548\n",
      "49 52 455 469 cN 4593.8254568 8.02746580948e-155 1.12384521333e-153 inf 473.812148548\n",
      "49 52 455 469 acc0 617.508042621 4.91420257732e-16 6.87988360825e-15 inf 473.812148548\n",
      "49 52 455 469 accP 4593.76290672 8.0705203315e-155 1.12987284641e-153 inf 473.812148548\n",
      "49 52 455 469 accN 381.393088359 4.07052532047e-11 5.69873544865e-10 inf 473.812148548\n",
      "i 50\n",
      "50 52 456 469 c0 4242.9943917 8.14020309818e-155 1.05822640276e-153 inf 473.812148548\n",
      "50 52 456 469 cP 4243.12722633 8.04372048747e-155 1.04568366337e-153 inf 473.812148548\n",
      "50 52 456 469 cN 508.220366653 5.8929952371e-15 7.66089380823e-14 inf 473.812148548\n",
      "50 52 456 469 acc0 4239.76238108 8.15067260914e-155 1.05958743919e-153 inf 473.812148548\n",
      "50 52 456 469 accP 564.365457952 1.12750198037e-17 1.46575257448e-16 inf 473.812148548\n",
      "50 52 456 469 accN 373.408689342 1.29308491749e-11 1.68101039274e-10 inf 473.812148548\n",
      "j 53\n",
      "i 51\n",
      "51 53 468 482 c0 -38.4816023944 3.47919350028 48.7087090039 523.520857552 inf\n",
      "update least 523.520857552\n",
      "51 53 468 482 cP -38.5056275645 3.45001690164 48.300236623 523.112385171 523.520857552\n",
      "update least 523.112385171\n",
      "51 53 468 482 cN -27.2531109465 1.17857349945 16.5000289924 491.31217754 523.112385171\n",
      "update least 491.31217754\n",
      "51 53 468 482 acc0 -35.7435499112 2.25703081737 31.5984314432 506.410579991 491.31217754\n",
      "51 53 468 482 accP -35.5296138837 2.23042772158 31.2259881022 506.03813665 491.31217754\n",
      "51 53 468 482 accN -32.066757596 1.26096233353 17.6534726694 492.465621217 491.31217754\n",
      "i 52\n",
      "52 53 469 482 c0 -36.3635866244 3.74854948316 48.7311432811 523.543291829 491.31217754\n",
      "52 53 469 482 cP -36.3832913322 3.73438925172 48.5470602723 523.35920882 491.31217754\n",
      "52 53 469 482 cN -19.6528804208 0.697854915011 9.07211389515 483.884262443 491.31217754\n",
      "update least 483.884262443\n",
      "52 53 469 482 acc0 -35.0854016682 2.58323211526 33.5820174984 508.394166046 483.884262443\n",
      "52 53 469 482 accP -34.9888376299 2.55673499748 33.2375549673 508.049703515 483.884262443\n",
      "52 53 469 482 accN -17.5250385893 0.429891656668 5.58859153668 480.400740085 483.884262443\n",
      "update least 480.400740085\n",
      "j 54\n",
      "i 51\n",
      "51 54 468 485 c0 -45.2633748555 3.31530730322 56.3602241547 531.172372703 inf\n",
      "update least 531.172372703\n",
      "51 54 468 485 cP -45.3178908373 3.32888318676 56.5910141749 531.403162723 531.172372703\n",
      "51 54 468 485 cN -31.4603487459 1.1146727613 18.9494369422 493.76158549 531.172372703\n",
      "update least 493.76158549\n",
      "51 54 468 485 acc0 -42.4759404303 2.25897160069 38.4025172117 513.21466576 493.76158549\n",
      "51 54 468 485 accP -42.3098295231 2.24294343781 38.1300384427 512.942186991 493.76158549\n",
      "51 54 468 485 accN -35.2371635785 1.13153813288 19.236148259 494.048296807 493.76158549\n",
      "i 52\n",
      "52 54 469 485 c0 -43.2006087442 3.40889466569 54.542314651 529.354463199 493.76158549\n",
      "52 54 469 485 cP -43.2717596606 3.43565867021 54.9705387234 529.782687271 493.76158549\n",
      "52 54 469 485 cN -25.4024546461 0.846527441072 13.5444390572 488.356587605 493.76158549\n",
      "update least 488.356587605\n",
      "52 54 469 485 acc0 -41.5102598571 2.38530168703 38.1648269925 512.976975541 488.356587605\n",
      "52 54 469 485 accP -41.5904385727 2.54013733997 40.6421974396 515.454345988 488.356587605\n",
      "52 54 469 485 accN -17.8193363089 0.390343746314 6.24549994102 481.057648489 488.356587605\n",
      "update least 481.057648489\n",
      "j 55\n",
      "i 51\n",
      "51 55 468 493 c0 -62.6546939853 2.83026482392 70.756620598 545.568769146 inf\n",
      "update least 545.568769146\n",
      "51 55 468 493 cP -62.6057004589 2.87411776704 71.8529441759 546.665092724 545.568769146\n",
      "51 55 468 493 cN -44.0140849033 1.15357559411 28.8393898528 503.651538401 545.568769146\n",
      "update least 503.651538401\n",
      "51 55 468 493 acc0 -59.3117902341 2.18319518102 54.5798795254 529.392028073 503.651538401\n",
      "51 55 468 493 accP -59.3765079485 2.16756537097 54.1891342743 529.001282822 503.651538401\n",
      "51 55 468 493 accN -42.9689758785 0.910109641979 22.7527410495 497.564889598 503.651538401\n",
      "update least 497.564889598\n",
      "i 52\n",
      "52 55 469 493 c0 -60.6866807378 2.89720904692 69.5330171261 544.345165674 497.564889598\n",
      "52 55 469 493 cP -60.6536640025 2.86790227264 68.8296545434 543.641803091 497.564889598\n",
      "52 55 469 493 cN -40.0017587295 1.02782953958 24.6679089499 499.480057498 497.564889598\n",
      "52 55 469 493 acc0 -58.534337723 2.33029008807 55.9269621137 530.739110662 497.564889598\n",
      "52 55 469 493 accP -58.4453545317 2.31153932394 55.4769437745 530.289092323 497.564889598\n",
      "52 55 469 493 accN -20.8436070976 0.375901491286 9.02163579085 483.833784339 497.564889598\n",
      "update least 483.833784339\n",
      "i 53\n",
      "53 55 482 493 c0 -24.7191232962 2.06653537018 22.731889072 504.132629157 483.833784339\n",
      "53 55 482 493 cP -21.8537845433 1.53616199605 16.8977819566 498.298522041 483.833784339\n",
      "53 55 482 493 cN -14.5686752365 0.534453344723 5.87898679195 487.279726877 483.833784339\n",
      "53 55 482 493 acc0 -24.7342345065 1.49969886829 16.4966875512 497.897427636 483.833784339\n",
      "53 55 482 493 accP -16.1053480028 0.627539640403 6.90293604443 488.303676129 483.833784339\n",
      "53 55 482 493 accN -15.8076497872 0.413393779518 4.5473315747 485.948071659 483.833784339\n",
      "i 54\n",
      "54 55 485 493 c0 -18.2752793008 2.00367848029 16.0294278423 498.087076331 483.833784339\n",
      "54 55 485 493 cP -11.1308525442 0.712941537028 5.70353229623 487.761180785 483.833784339\n",
      "54 55 485 493 cN -13.3831629844 0.651594990564 5.21275992451 487.270408414 483.833784339\n",
      "54 55 485 493 acc0 -19.8294772693 1.58495742361 12.6796593888 494.737307878 483.833784339\n",
      "54 55 485 493 accP -10.9823998474 0.464697880467 3.71758304373 485.775231533 483.833784339\n",
      "54 55 485 493 accN -15.4773438071 0.502526044149 4.02020835319 486.077856842 483.833784339\n",
      "j 56\n",
      "j 57\n",
      "j 58\n",
      "i 55\n",
      "55 58 493 514 c0 -57.2956024348 3.51934482091 73.9062412392 558.740025578 inf\n",
      "update least 558.740025578\n",
      "55 58 493 514 cP -62.1055752479 4.43280041348 93.0888086831 577.922593022 558.740025578\n",
      "55 58 493 514 cN -45.8159050115 1.69188033121 35.5294869553 520.363271294 558.740025578\n",
      "update least 520.363271294\n",
      "55 58 493 514 acc0 -34.4212289234 0.990088252579 20.7918533042 505.625637643 520.363271294\n",
      "update least 505.625637643\n",
      "55 58 493 514 accP -40.6627760058 1.31932898246 27.7059086317 512.539692971 505.625637643\n",
      "55 58 493 514 accN -36.7855862467 0.884672168183 18.5781155319 503.411899871 505.625637643\n",
      "update least 503.411899871\n",
      "i 56\n",
      "56 58 494 514 c0 -55.1503771835 3.65734830517 73.1469661034 inf 503.411899871\n",
      "56 58 494 514 cP -55.0876295956 3.56771025238 71.3542050475 inf 503.411899871\n",
      "56 58 494 514 cN -42.4246665427 1.58451770186 31.6903540372 inf 503.411899871\n",
      "56 58 494 514 acc0 -35.1526434829 1.06822502219 21.3645004439 inf 503.411899871\n",
      "56 58 494 514 accP -35.1385201581 1.08929522122 21.7859044245 inf 503.411899871\n",
      "56 58 494 514 accN -35.7232753455 0.915119196955 18.3023839391 inf 503.411899871\n",
      "i 57\n",
      "57 58 495 514 c0 -52.8892950055 3.68259550604 69.9693146148 inf 503.411899871\n",
      "57 58 495 514 cP -52.923906826 3.72240439425 70.7256834908 inf 503.411899871\n",
      "57 58 495 514 cN -38.6107621167 1.4281910737 27.1356304003 inf 503.411899871\n",
      "57 58 495 514 acc0 -35.9602380666 1.24352049719 23.6268894466 inf 503.411899871\n",
      "57 58 495 514 accP -35.9239977716 1.23523625285 23.4694888041 inf 503.411899871\n",
      "57 58 495 514 accN -33.8121362092 0.874738110965 16.6200241083 inf 503.411899871\n",
      "j 59\n",
      "j 60\n",
      "i 58\n",
      "58 60 514 526 c0 3889.02193595 8.21089801728e-155 9.85307762074e-154 504.411899871 inf\n",
      "update least 504.411899871\n",
      "58 60 514 526 cP -35.6369108585 4.35013119529 52.2015743435 556.613474214 504.411899871\n",
      "58 60 514 526 cN 494.50785708 2.97781830284e-15 3.57338196341e-14 504.411899871 504.411899871\n",
      "58 60 514 526 acc0 3885.81131553 8.19625909851e-155 9.83551091821e-154 504.411899871 504.411899871\n",
      "58 60 514 526 accP -32.3130705007 2.49305863222 29.9167035866 534.328603457 504.411899871\n",
      "58 60 514 526 accN 299.31323878 2.67443474221e-10 3.20932169065e-09 504.411899874 504.411899871\n",
      "i 59\n",
      "59 60 518 526 c0 2473.06527638 8.79241013097e-155 7.03392810478e-154 inf 504.411899871\n",
      "59 60 518 526 cP 2473.18507294 8.6688297535e-155 6.9350638028e-154 inf 504.411899871\n",
      "59 60 518 526 cN 291.807407441 1.42063420721e-15 1.13650736577e-14 inf 504.411899871\n",
      "59 60 518 526 acc0 290.846291858 7.17869847258e-15 5.74295877806e-14 inf 504.411899871\n",
      "59 60 518 526 accP 2469.89122688 8.73214353003e-155 6.98571482402e-154 inf 504.411899871\n",
      "59 60 518 526 accN 210.040889207 8.70607429173e-12 6.96485943338e-11 inf 504.411899871\n",
      "j 61\n",
      "i 58\n",
      "58 61 514 532 c0 6012.91160814 7.89627242328e-155 1.42132903619e-153 504.411899871 inf\n",
      "update least 504.411899871\n",
      "58 61 514 532 cP -52.5639643705 4.26258583302 76.7265449943 581.138444865 504.411899871\n",
      "58 61 514 532 cN 802.885962468 2.89288062261e-16 5.2071851207e-15 504.411899871 504.411899871\n",
      "58 61 514 532 acc0 6009.7174879 7.88412360991e-155 1.41914224978e-153 504.411899871 504.411899871\n",
      "58 61 514 532 accP -45.0535136059 2.25781078162 40.6405940691 545.05249394 504.411899871\n",
      "58 61 514 532 accN 506.043807188 9.25077172048e-12 1.66513890969e-10 504.411899871 504.411899871\n",
      "i 59\n",
      "59 61 518 532 c0 4597.07388168 8.00912072487e-155 1.12127690148e-153 inf 504.411899871\n",
      "59 61 518 532 cP 4597.11368457 7.97894385524e-155 1.11705213973e-153 inf 504.411899871\n",
      "59 61 518 532 cN 599.283154637 4.30266219272e-15 6.02372706981e-14 inf 504.411899871\n",
      "59 61 518 532 acc0 4593.7886414 8.05179594601e-155 1.12725143244e-153 inf 504.411899871\n",
      "59 61 518 532 accP 4593.77924902 8.05948262698e-155 1.12832756778e-153 inf 504.411899871\n",
      "59 61 518 532 accN 285.932075244 1.48409007148e-08 2.07772610007e-07 inf 504.411899871\n",
      "i 60\n",
      "60 61 526 532 c0 1765.22480554 9.31306943963e-155 5.58784166378e-154 505.411899871 504.411899871\n",
      "60 61 526 532 cP 1765.19019588 9.30100507695e-155 5.58060304617e-154 505.411899871 504.411899871\n",
      "60 61 526 532 cN 203.034453651 4.26774993656e-15 2.56064996194e-14 505.411899871 504.411899871\n",
      "60 61 526 532 acc0 188.311030327 3.83608151215e-14 2.30164890729e-13 505.411899871 504.411899871\n",
      "60 61 526 532 accP 217.087537137 4.28283750135e-16 2.56970250081e-15 505.411899871 504.411899871\n",
      "60 61 526 532 accN 134.795706509 1.07467261063e-10 6.44803566379e-10 505.411899871 504.411899871\n",
      "j 62\n",
      "i 58\n",
      "58 62 514 534 c0 6720.83388966 7.8613610778e-155 1.57227221556e-153 504.411899871 inf\n",
      "update least 504.411899871\n",
      "58 62 514 534 cP -58.1053851591 4.2021476808 84.0429536159 588.454853487 504.411899871\n",
      "58 62 514 534 cN 891.698051562 2.04511690273e-16 4.09023380546e-15 504.411899871 504.411899871\n",
      "58 62 514 534 acc0 954.081619268 2.56561956035e-16 5.13123912069e-15 504.411899871 504.411899871\n",
      "58 62 514 534 accP -49.2503819882 2.21523587994 44.3047175987 548.716617469 504.411899871\n",
      "58 62 514 534 accN 659.221465648 6.74604172936e-14 1.34920834587e-12 504.411899871 504.411899871\n",
      "i 59\n",
      "59 62 518 534 c0 5304.9398712 7.97576684649e-155 1.27612269544e-153 inf 504.411899871\n",
      "59 62 518 534 cP 5304.9896421 7.94908692691e-155 1.27185390831e-153 inf 504.411899871\n",
      "59 62 518 534 cN 654.620400069 6.02751535765e-15 9.64402457224e-14 inf 504.411899871\n",
      "59 62 518 534 acc0 696.220656133 1.32567909762e-16 2.12108655619e-15 inf 504.411899871\n",
      "59 62 518 534 accP 658.043752209 1.30122119058e-15 2.08195390493e-14 inf 504.411899871\n",
      "59 62 518 534 accN 350.150045074 1.21232993398e-08 1.93972789436e-07 inf 504.411899871\n",
      "i 60\n",
      "60 62 526 534 c0 2473.00905265 8.89707546497e-155 7.11766037197e-154 505.411899871 504.411899871\n",
      "60 62 526 534 cP 2473.09725075 8.74583013814e-155 6.99666411051e-154 505.411899871 504.411899871\n",
      "60 62 526 534 cN 322.400858774 1.6193084808e-16 1.29544678464e-15 505.411899871 504.411899871\n",
      "60 62 526 534 acc0 310.439654313 1.29866980094e-15 1.03893584075e-14 505.411899871 504.411899871\n",
      "60 62 526 534 accP 308.796451196 1.80991318875e-16 1.447930551e-15 505.411899871 504.411899871\n",
      "60 62 526 534 accN 206.789741968 3.89637766926e-11 3.11710213541e-10 505.411899871 504.411899871\n",
      "j 63\n",
      "i 58\n",
      "58 63 514 560 c0 15924.1685599 7.61355538666e-155 3.50223547786e-153 504.411899871 inf\n",
      "update least 504.411899871\n",
      "58 63 514 560 cP -131.061414614 4.06272662075 186.885424555 691.297324425 504.411899871\n",
      "58 63 514 560 cN 2169.89895283 3.16085033656e-18 1.45399115482e-16 504.411899871 504.411899871\n",
      "58 63 514 560 acc0 1989.82006938 6.12646895573e-16 2.81817571964e-14 504.411899871 504.411899871\n",
      "58 63 514 560 accP -104.173753384 2.11923038505 97.4845977121 601.896497583 504.411899871\n",
      "58 63 514 560 accN 1106.53034278 2.48946559156e-09 1.14515417212e-07 504.411899985 504.411899871\n",
      "i 59\n",
      "59 63 518 560 c0 14508.2103709 7.64180806328e-155 3.20955938658e-153 inf 504.411899871\n",
      "59 63 518 560 cP 14508.1651363 7.65082303666e-155 3.2133456754e-153 inf 504.411899871\n",
      "59 63 518 560 cN 1996.46247399 1.24573572225e-16 5.23209003347e-15 inf 504.411899871\n",
      "59 63 518 560 acc0 1637.77684923 8.81547637382e-14 3.70250007701e-12 inf 504.411899871\n",
      "59 63 518 560 accP 14504.9380976 7.65163822623e-155 3.21368805502e-153 inf 504.411899871\n",
      "59 63 518 560 accN 1369.7049634 1.92455724259e-13 8.08314041887e-12 inf 504.411899871\n",
      "i 60\n",
      "60 63 526 560 c0 11676.3453484 7.70863159728e-155 2.62093474307e-153 505.411899871 504.411899871\n",
      "60 63 526 560 cP 11676.5064602 7.6698170812e-155 2.60773780761e-153 505.411899871 504.411899871\n",
      "60 63 526 560 cN 1584.27277303 6.89847615413e-16 2.3454818924e-14 505.411899871 504.411899871\n",
      "60 63 526 560 acc0 1543.13103972 3.21255049662e-16 1.09226716885e-14 505.411899871 504.411899871\n",
      "60 63 526 560 accP 11673.2972118 7.66652710254e-155 2.60661921486e-153 505.411899871 504.411899871\n",
      "60 63 526 560 accN 940.016983996 3.57120473258e-11 1.21420960908e-09 505.411899872 504.411899871\n",
      "i 61\n",
      "61 63 532 560 c0 9552.59225668 7.74225940781e-155 2.16783263419e-153 505.411899871 504.411899871\n",
      "61 63 532 560 cP 9552.5561324 7.75195215436e-155 2.17054660322e-153 505.411899871 504.411899871\n",
      "61 63 532 560 cN 1262.27586928 3.75011406822e-17 1.0500319391e-15 505.411899871 504.411899871\n",
      "61 63 532 560 acc0 1183.05858393 1.20522389588e-16 3.37462690847e-15 505.411899871 504.411899871\n",
      "61 63 532 560 accP 9549.27542422 7.77101657414e-155 2.17588464076e-153 505.411899871 504.411899871\n",
      "61 63 532 560 accN 700.75587311 4.08238301361e-10 1.14306724381e-08 505.411899882 504.411899871\n",
      "i 62\n",
      "62 63 534 560 c0 8844.66493947 7.75918648497e-155 2.01738848609e-153 505.411899871 504.411899871\n",
      "62 63 534 560 cP 8844.67926999 7.75497206538e-155 2.016292737e-153 505.411899871 504.411899871\n",
      "62 63 534 560 cN 1013.7381553 5.62705946241e-15 1.46303546023e-13 505.411899871 504.411899871\n",
      "62 63 534 560 acc0 1074.20604191 6.08579762868e-15 1.58230738346e-13 505.411899871 504.411899871\n",
      "62 63 534 560 accP 8841.39966602 7.77451285355e-155 2.02137334192e-153 505.411899871 504.411899871\n",
      "62 63 534 560 accN 701.884567079 6.06890642541e-11 1.57791567061e-09 505.411899872 504.411899871\n",
      "j 64\n",
      "i 58\n",
      "58 64 514 561 c0 16278.0976531 7.61707170406e-155 3.58002370091e-153 504.411899871 inf\n",
      "update least 504.411899871\n",
      "58 64 514 561 cP -133.83742017 4.12101954923 193.687918814 698.099818684 504.411899871\n",
      "58 64 514 561 cN 2108.40956735 4.24665187868e-15 1.99592638298e-13 504.411899871 504.411899871\n",
      "58 64 514 561 acc0 2031.86306776 2.91476925422e-15 1.36994154948e-13 504.411899871 504.411899871\n",
      "58 64 514 561 accP -106.335085256 2.12213765741 99.7404698985 604.152369769 504.411899871\n",
      "58 64 514 561 accN 1438.18509412 3.898386631e-12 1.83224171657e-10 504.411899871 504.411899871\n",
      "i 59\n",
      "59 64 518 561 c0 14862.1461488 7.64469338566e-155 3.28721815583e-153 inf 504.411899871\n",
      "59 64 518 561 cP 14862.1709402 7.63974824217e-155 3.28509174413e-153 inf 504.411899871\n",
      "59 64 518 561 cN 2001.7692607 8.20296048115e-16 3.5272730069e-14 inf 504.411899871\n",
      "59 64 518 561 acc0 14859.0925286 7.61325941991e-155 3.27370155056e-153 inf 504.411899871\n",
      "59 64 518 561 accP 14858.8237433 7.66299993308e-155 3.29508997123e-153 inf 504.411899871\n",
      "59 64 518 561 accN 1158.66418737 1.21595325995e-10 5.22859901777e-09 inf 504.411899871\n",
      "i 60\n",
      "60 64 526 561 c0 12030.3164238 7.70124814265e-155 2.69543684993e-153 505.411899871 504.411899871\n",
      "60 64 526 561 cP 12030.4607628 7.66744352655e-155 2.68360523429e-153 505.411899871 504.411899871\n",
      "60 64 526 561 cN 1618.8429658 1.48134266067e-16 5.18469931235e-15 505.411899871 504.411899871\n",
      "60 64 526 561 acc0 12027.0728156 7.70573487821e-155 2.69700720737e-153 505.411899871 504.411899871\n",
      "60 64 526 561 accP 12027.2296459 7.66981180236e-155 2.68443413082e-153 505.411899871 504.411899871\n",
      "60 64 526 561 accN 885.252857243 6.34841654378e-10 2.22194579032e-08 505.411899893 504.411899871\n",
      "i 61\n",
      "61 64 532 561 c0 9906.55325395 7.73429591463e-155 2.24294581524e-153 505.411899871 504.411899871\n",
      "61 64 532 561 cP 9906.58673638 7.72567273379e-155 2.2404450928e-153 505.411899871 504.411899871\n",
      "61 64 532 561 cN 1328.58347715 3.0711420983e-16 8.90631208506e-15 505.411899871 504.411899871\n",
      "61 64 532 561 acc0 9903.43328261 7.70628835264e-155 2.23482362227e-153 505.411899871 504.411899871\n",
      "61 64 532 561 accP 1139.41380581 3.13817584305e-14 9.10070994484e-13 505.411899871 504.411899871\n",
      "61 64 532 561 accN 774.407911526 7.41530892652e-11 2.15043958869e-09 505.411899873 504.411899871\n",
      "i 62\n",
      "62 64 534 561 c0 9198.59018002 7.76215363617e-155 2.09578148177e-153 505.411899871 504.411899871\n",
      "62 64 534 561 cP 9198.64621376 7.74551626113e-155 2.09128939051e-153 505.411899871 504.411899871\n",
      "62 64 534 561 cN 1370.95923181 2.93001096738e-18 7.91102961192e-17 505.411899871 504.411899871\n",
      "62 64 534 561 acc0 1015.35455184 1.12099550982e-13 3.0266878765e-12 505.411899871 504.411899871\n",
      "62 64 534 561 accP 9195.41518826 7.74757140342e-155 2.09184427892e-153 505.411899871 504.411899871\n",
      "62 64 534 561 accN 636.04649161 5.7066566893e-09 1.54079730611e-07 505.411900025 504.411899871\n",
      "j 65\n",
      "j 66\n",
      "i 63\n",
      "63 66 560 572 c0 -33.7855001353 3.81287175666 45.7544610799 551.166360951 inf\n",
      "update least 551.166360951\n",
      "63 66 560 572 cP -33.7474212398 3.66556800532 43.9868160638 549.398715935 551.166360951\n",
      "update least 549.398715935\n",
      "63 66 560 572 cN -24.7329656586 1.24991735151 14.9990082181 520.410908089 549.398715935\n",
      "update least 520.410908089\n",
      "63 66 560 572 acc0 -31.2660754828 2.25869100451 27.1042920541 532.516191925 520.410908089\n",
      "63 66 560 572 accP -31.1760284216 2.27432442497 27.2918930996 532.70379297 520.410908089\n",
      "63 66 560 572 accN -29.2408357854 1.34453528069 16.1344233682 521.546323239 520.410908089\n",
      "i 64\n",
      "64 66 561 572 c0 -31.4776687826 4.00700432147 44.0770475362 549.488947407 520.410908089\n",
      "64 66 561 572 cP -31.5393413874 3.90541977544 42.9596175299 548.371517401 520.410908089\n",
      "64 66 561 572 cN -15.8980400267 0.59971952701 6.59691479712 512.008814668 520.410908089\n",
      "update least 512.008814668\n",
      "64 66 561 572 acc0 -30.6582074397 2.70346474215 29.7381121636 535.150012034 512.008814668\n",
      "64 66 561 572 accP -30.5136600635 2.62487621291 28.873638342 534.285538213 512.008814668\n",
      "64 66 561 572 accN -15.2158926607 0.390557346688 4.29613081357 509.708030684 512.008814668\n",
      "update least 509.708030684\n",
      "i 65\n",
      "65 66 564 572 c0 -23.0229654477 3.9109195907 31.2873567256 inf 509.708030684\n",
      "65 66 564 572 cP -13.5838088898 1.01363200319 8.10905602549 inf 509.708030684\n",
      "65 66 564 572 cN -12.531933973 0.550837397584 4.40669918067 inf 509.708030684\n",
      "65 66 564 572 acc0 -23.5769750647 2.66777504039 21.3422003232 inf 509.708030684\n",
      "65 66 564 572 accP -11.7301587464 0.504196818362 4.03357454689 inf 509.708030684\n",
      "65 66 564 572 accN -15.5872975341 0.502017755234 4.01614204187 inf 509.708030684\n",
      "j 67\n",
      "i 63\n",
      "63 67 560 586 c0 -64.6036974862 2.78807950937 72.4900672436 577.901967114 inf\n",
      "update least 577.901967114\n",
      "63 67 560 586 cP -64.6312432501 2.76163821004 71.8025934609 577.214493332 577.901967114\n",
      "update least 577.214493332\n",
      "63 67 560 586 cN -45.921939861 1.17379165822 30.5185831138 535.930482985 577.214493332\n",
      "update least 535.930482985\n",
      "63 67 560 586 acc0 -61.5267224315 2.20125923622 57.2327401417 562.644640012 535.930482985\n",
      "63 67 560 586 accP -61.3854194754 2.14232590319 55.700473483 561.112373354 535.930482985\n",
      "63 67 560 586 accN -43.7126031528 0.908736950966 23.6271607251 529.039060596 535.930482985\n",
      "update least 529.039060596\n",
      "i 64\n",
      "64 67 561 586 c0 -62.6627974111 2.78092578165 69.5231445412 574.935044412 529.039060596\n",
      "64 67 561 586 cP -62.629440922 2.84639377132 71.159844283 576.571744154 529.039060596\n",
      "64 67 561 586 cN -42.1853689232 1.07139179637 26.7847949092 532.19669478 529.039060596\n",
      "64 67 561 586 acc0 -60.5183102327 2.28932907202 57.2332268004 562.645126671 529.039060596\n",
      "64 67 561 586 accP -60.5018606332 2.25034664951 56.2586662378 561.670566109 529.039060596\n",
      "64 67 561 586 accN -21.1230782287 0.378638453643 9.46596134108 514.877861212 529.039060596\n",
      "update least 514.877861212\n",
      "i 65\n",
      "65 67 564 586 c0 -53.6277029156 2.63777161034 58.0309754275 inf 514.877861212\n",
      "65 67 564 586 cP -47.9671441347 1.99589974474 43.9097943843 inf 514.877861212\n",
      "65 67 564 586 cN -35.4185824988 0.951560664159 20.9343346115 inf 514.877861212\n",
      "65 67 564 586 acc0 -51.8991998254 2.11249682259 46.474930097 inf 514.877861212\n",
      "65 67 564 586 accP -18.9295824457 0.433766942204 9.54287272849 inf 514.877861212\n",
      "65 67 564 586 accN -20.9544013468 0.400273374854 8.80601424679 inf 514.877861212\n",
      "i 66\n",
      "66 67 572 586 c0 -31.2342082742 2.06369125828 28.8916776159 539.5997083 514.877861212\n",
      "66 67 572 586 cP -26.8312604256 1.45577936713 20.3809111398 531.088941824 514.877861212\n",
      "66 67 572 586 cN -19.2861732944 0.64460830399 9.02451625586 519.73254694 514.877861212\n",
      "66 67 572 586 acc0 -30.9158084065 1.57667683519 22.0734756927 532.781506377 514.877861212\n",
      "66 67 572 586 accP -16.2151015534 0.486940956124 6.81717338574 517.52520407 514.877861212\n",
      "66 67 572 586 accN -17.8069171274 0.431112572352 6.03557601293 516.743606697 514.877861212\n",
      "j 68\n",
      "i 63\n",
      "63 68 560 594 c0 -79.622178744 2.44125647992 83.0027203172 588.414620188 inf\n",
      "update least 588.414620188\n",
      "63 68 560 594 cP -79.6569613175 2.43312293498 82.7261797894 588.13807966 588.414620188\n",
      "update least 588.13807966\n",
      "63 68 560 594 cN -64.1649946813 1.36726930245 46.4871562831 551.899056154 588.13807966\n",
      "update least 551.899056154\n",
      "63 68 560 594 acc0 -79.1255333832 2.16941778179 73.7602045809 579.172104452 551.899056154\n",
      "63 68 560 594 accP -79.1921385734 2.20775422545 75.0636436654 580.475543536 551.899056154\n",
      "63 68 560 594 accN -50.5360175786 0.821943836534 27.9460904422 533.357990313 551.899056154\n",
      "update least 533.357990313\n",
      "i 64\n",
      "64 68 561 594 c0 -77.8039691955 2.45499937767 81.014979463 586.426879334 533.357990313\n",
      "64 68 561 594 cP -77.7901064106 2.46921443047 81.4840762055 586.895976076 533.357990313\n",
      "64 68 561 594 cN -61.759056397 1.36482318578 45.0391651308 550.451065002 533.357990313\n",
      "64 68 561 594 acc0 -77.7696591917 2.21697675813 73.1602330183 578.572132889 533.357990313\n",
      "64 68 561 594 accP -77.7207206011 2.24154468318 73.9709745448 579.382874416 533.357990313\n",
      "64 68 561 594 accN -23.3302356817 0.358436405331 11.8284013759 517.240301247 533.357990313\n",
      "update least 517.240301247\n",
      "i 65\n",
      "65 68 564 594 c0 -67.9869038267 2.24642730546 67.3928191638 inf 517.240301247\n",
      "65 68 564 594 cP -72.2643337318 2.56287459939 76.8862379817 inf 517.240301247\n",
      "65 68 564 594 cN -54.0449464117 1.21342069547 36.402620864 inf 517.240301247\n",
      "65 68 564 594 acc0 -68.3626039368 2.01745362787 60.5236088362 inf 517.240301247\n",
      "65 68 564 594 accP -22.1467678388 0.410818983675 12.3245695102 inf 517.240301247\n",
      "65 68 564 594 accN -23.4635618902 0.370976339652 11.1292901895 inf 517.240301247\n",
      "i 66\n",
      "66 68 572 594 c0 -43.492794512 1.62575855185 35.7666881407 546.474718825 517.240301247\n",
      "66 68 572 594 cP -48.3542134082 2.06883843685 45.5144456107 556.222476295 517.240301247\n",
      "66 68 572 594 cN -34.9783161465 0.923314174588 20.3129118409 531.020942525 517.240301247\n",
      "66 68 572 594 acc0 -44.8625945518 1.47702596817 32.4945712997 543.202601984 517.240301247\n",
      "66 68 572 594 accP -19.6028538503 0.445928348677 9.8104236709 520.518454355 517.240301247\n",
      "66 68 572 594 accN -20.7404971995 0.392113368935 8.62649411657 519.334524801 517.240301247\n",
      "i 67\n",
      "67 68 586 594 c0 -11.1298077426 0.709510109151 5.67608087321 521.553942085 517.240301247\n",
      "67 68 586 594 cP -12.9890609176 0.949393690057 7.59514952045 523.473010732 517.240301247\n",
      "67 68 586 594 cN -13.4048275953 0.654354682272 5.23483745818 521.11269867 517.240301247\n",
      "67 68 586 594 acc0 -14.9198846966 0.793493094044 6.34794475235 522.225805964 517.240301247\n",
      "67 68 586 594 accP -10.8261763808 0.449399844838 3.5951987587 519.473059971 517.240301247\n",
      "67 68 586 594 accN -15.5092405879 0.499769061481 3.99815249185 519.876013704 517.240301247\n",
      "j 69\n",
      "i 63\n",
      "63 69 560 595 c0 -81.3480648414 2.38232976561 83.3815417964 588.793441667 inf\n",
      "update least 588.793441667\n",
      "63 69 560 595 cP -81.3337914289 2.38951643394 83.6330751878 589.044975059 588.793441667\n",
      "63 69 560 595 cN -66.2304631643 1.380665452 48.3232908199 553.735190691 588.793441667\n",
      "update least 553.735190691\n",
      "63 69 560 595 acc0 -81.1028318144 2.1675027074 75.8625947591 581.27449463 553.735190691\n",
      "63 69 560 595 accP -81.0543566279 2.15088575879 75.2810015576 580.692901428 553.735190691\n",
      "63 69 560 595 accN -51.0663652926 0.792818843387 27.7486595185 533.160559389 553.735190691\n",
      "update least 533.160559389\n",
      "i 64\n",
      "64 69 561 595 c0 -79.6070154346 2.47181671852 84.0417684297 589.4536683 533.160559389\n",
      "64 69 561 595 cP -79.5940605309 2.40236506686 81.6804122733 587.092312144 533.160559389\n",
      "64 69 561 595 cN -63.9747478875 1.36659844837 46.4643472445 551.876247115 533.160559389\n",
      "64 69 561 595 acc0 -79.9342252759 2.21993350906 75.477739308 580.889639179 533.160559389\n",
      "64 69 561 595 accP -79.8131606118 2.20144529482 74.8491400237 580.261039895 533.160559389\n",
      "64 69 561 595 accN -23.2881253501 0.35502502757 12.0708509374 517.482750808 533.160559389\n",
      "update least 517.482750808\n",
      "i 65\n",
      "65 69 564 595 c0 -69.6949986502 2.19393336591 68.0119343432 inf 517.482750808\n",
      "65 69 564 595 cP -75.4001219119 2.62119635559 81.2570870232 inf 517.482750808\n",
      "65 69 564 595 cN -56.2170382841 1.26321663094 39.1597155592 inf 517.482750808\n",
      "65 69 564 595 acc0 -70.3579135816 2.0580852198 63.8006418137 inf 517.482750808\n",
      "65 69 564 595 accP -22.6033765169 0.410040737899 12.7112628749 inf 517.482750808\n",
      "65 69 564 595 accN -23.4624394045 0.372673580237 11.5528809873 inf 517.482750808\n",
      "i 66\n",
      "66 69 572 595 c0 -44.873520941 1.59299540739 36.63889437 547.346925054 517.482750808\n",
      "66 69 572 595 cP -51.0359156417 2.13460361057 49.0958830432 559.803913727 517.482750808\n",
      "66 69 572 595 cN -36.9255820399 0.955762426136 21.9825358011 532.690566485 517.482750808\n",
      "66 69 572 595 acc0 -46.4330010707 1.47441045714 33.9114405141 544.619471198 517.482750808\n",
      "66 69 572 595 accP -20.06201698 0.444494925433 10.223383285 520.931413969 517.482750808\n",
      "66 69 572 595 accN -20.7591774116 0.377425608675 8.68078899954 519.388819684 517.482750808\n",
      "i 67\n",
      "67 69 586 595 c0 -11.643347875 0.660741618203 5.94667456383 521.824535776 517.482750808\n",
      "67 69 586 595 cP -14.4194674027 0.943753661277 8.49378295149 524.371644163 517.482750808\n",
      "67 69 586 595 cN -13.8802239831 0.574352186326 5.16916967693 521.047030889 517.482750808\n",
      "67 69 586 595 acc0 -15.3303521408 0.717489553271 6.45740597944 522.335267191 517.482750808\n",
      "67 69 586 595 accP -10.8714726627 0.397212503574 3.57491253216 519.452773744 517.482750808\n",
      "67 69 586 595 accN -15.52308183 0.457825269798 4.12042742819 519.99828864 517.482750808\n",
      "j 70\n",
      "i 67\n",
      "67 70 586 598 c0 -18.6758041135 0.955257042232 11.4630845068 527.340945719 inf\n",
      "update least 527.340945719\n",
      "67 70 586 598 cP -23.8791100677 1.58452230773 19.0142676928 534.892128905 527.340945719\n",
      "67 70 586 598 cN -22.4860730336 1.0320949703 12.3851396436 528.263000855 527.340945719\n",
      "67 70 586 598 acc0 -20.5727505315 0.870565301605 10.4467836193 526.324644831 527.340945719\n",
      "update least 526.324644831\n",
      "67 70 586 598 accP -14.2356755056 0.49207768773 5.90493225275 521.782793465 526.324644831\n",
      "update least 521.782793465\n",
      "67 70 586 598 accN -18.7463033183 0.511228011607 6.13473613929 522.012597351 521.782793465\n",
      "j 71\n",
      "i 68\n",
      "68 71 594 602 c0 -19.9619026283 2.5734009281 20.5872074248 538.827508671 inf\n",
      "update least 538.827508671\n",
      "68 71 594 602 cP -20.0376606706 2.59636158986 20.7708927189 539.011193966 538.827508671\n",
      "68 71 594 602 cN -18.837632483 1.38911428108 11.1129142486 529.353215495 538.827508671\n",
      "update least 529.353215495\n",
      "68 71 594 602 acc0 -11.0728297978 0.441148762997 3.52919010398 521.769491351 529.353215495\n",
      "update least 521.769491351\n",
      "68 71 594 602 accP -11.244921535 0.474418499399 3.79534799519 522.035649242 521.769491351\n",
      "68 71 594 602 accN -14.5841743066 0.429572662285 3.43658129828 521.676882545 521.769491351\n",
      "update least 521.676882545\n",
      "i 69\n",
      "69 71 595 602 c0 -18.1849940634 2.86222445871 20.0355712109 538.518322019 521.676882545\n",
      "69 71 595 602 cP -18.1850931034 2.79979815974 19.5985871182 538.081337926 521.676882545\n",
      "69 71 595 602 cN -16.007215069 1.17027269928 8.19190889498 526.674659703 521.676882545\n",
      "69 71 595 602 acc0 -14.0811719352 0.834597228497 5.84218059948 524.324931408 521.676882545\n",
      "69 71 595 602 accP -13.9211642662 0.833074536034 5.83152175224 524.31427256 521.676882545\n",
      "69 71 595 602 accN -14.0702013888 0.457361391475 3.20152974032 521.684280548 521.676882545\n",
      "j 72\n",
      "i 68\n",
      "68 72 594 605 c0 -29.6804591441 3.28759703593 36.1635673952 554.403868642 inf\n",
      "update least 554.403868642\n",
      "68 72 594 605 cP -29.6025957151 3.15874477081 34.7461924789 552.986493726 554.403868642\n",
      "update least 552.986493726\n",
      "68 72 594 605 cN -26.4402830714 1.72523627581 18.9775990339 537.217900281 552.986493726\n",
      "update least 537.217900281\n",
      "68 72 594 605 acc0 -14.6235117254 0.554418581777 6.09860439955 524.338905646 537.217900281\n",
      "update least 524.338905646\n",
      "68 72 594 605 accP -14.7378422445 0.536296504385 5.89926154824 524.139562795 524.338905646\n",
      "update least 524.139562795\n",
      "68 72 594 605 accN -18.0778817523 0.521204999008 5.73325498909 523.973556236 524.139562795\n",
      "update least 523.973556236\n",
      "i 69\n",
      "69 72 595 605 c0 -27.6455890028 3.51494159727 35.1494159727 553.632166781 523.973556236\n",
      "69 72 595 605 cP -27.6068538705 3.34106527725 33.4106527725 551.893403581 523.973556236\n",
      "69 72 595 605 cN -23.3549373289 1.57724934598 15.7724934598 534.255244268 523.973556236\n",
      "69 72 595 605 acc0 -17.2957443183 0.781049914661 7.81049914661 526.293249955 523.973556236\n",
      "69 72 595 605 accP -17.3901515995 0.805236655556 8.05236655556 526.535117364 523.973556236\n",
      "69 72 595 605 accN -17.8129650177 0.559200198369 5.59200198369 524.074752792 523.973556236\n",
      "i 70\n",
      "70 72 598 605 c0 -20.8959181235 4.22757295444 29.5930106811 552.375804146 523.973556236\n",
      "70 72 598 605 cP -16.35257074 2.07739029855 14.5417320899 537.324525554 523.973556236\n",
      "70 72 598 605 cN -16.4596503267 1.24203802487 8.69426617412 531.477059639 523.973556236\n",
      "70 72 598 605 acc0 -18.8597052475 1.94495513577 13.6146859504 536.397479415 523.973556236\n",
      "70 72 598 605 accP -12.5207505647 0.652099063067 4.56469344147 527.347486906 523.973556236\n",
      "70 72 598 605 accN -17.2724803526 0.802236105855 5.61565274099 528.398446206 523.973556236\n",
      "j 73\n",
      "i 70\n",
      "70 73 598 608 c0 -29.3491925557 4.23954692728 42.3954692728 565.178262737 inf\n",
      "update least 565.178262737\n",
      "70 73 598 608 cP -22.7070075192 2.10907685886 21.0907685886 543.873562053 565.178262737\n",
      "update least 543.873562053\n",
      "70 73 598 608 cN -19.2819783725 0.98817997347 9.8817997347 532.664593199 543.873562053\n",
      "update least 532.664593199\n",
      "70 73 598 608 acc0 -25.1977764367 1.86999118986 18.6999118986 541.482705363 532.664593199\n",
      "70 73 598 608 accP -17.3951302029 0.800119796018 8.00119796018 530.783991425 532.664593199\n",
      "update least 530.783991425\n",
      "70 73 598 608 accN -20.3017194908 0.71351889646 7.1351889646 529.917982429 530.783991425\n",
      "update least 529.917982429\n",
      "i 71\n",
      "71 73 602 608 c0 -19.1344616086 5.01626318363 30.0975791018 552.774461647 529.917982429\n",
      "71 73 602 608 cP -12.8337524313 1.56407071723 9.3844243034 532.061306848 529.917982429\n",
      "71 73 602 608 cN -10.9366529513 0.595377192601 3.57226315561 526.249145701 529.917982429\n",
      "update least 526.249145701\n",
      "71 73 602 608 acc0 -20.2741130222 3.60297013889 21.6178208333 544.294703378 526.249145701\n",
      "71 73 602 608 accP -14.8343996424 1.20931971336 7.25591828013 529.932800825 526.249145701\n",
      "71 73 602 608 accN -15.372988776 0.685345190585 4.11207114351 526.788953688 526.249145701\n",
      "j 74\n",
      "i 70\n",
      "70 74 598 614 c0 -46.8151225597 4.28925559357 68.6280894972 591.410882962 inf\n",
      "update least 591.410882962\n",
      "70 74 598 614 cP -36.691390605 2.26576234482 36.252197517 559.034990982 591.410882962\n",
      "update least 559.034990982\n",
      "70 74 598 614 cN -26.0579593839 0.886659246432 14.1865479429 536.969341408 559.034990982\n",
      "update least 536.969341408\n",
      "70 74 598 614 acc0 -37.4363419838 1.85592351326 29.6947762121 552.477569677 536.969341408\n",
      "70 74 598 614 accP -25.6646448088 0.872596357297 13.9615417168 536.744335181 536.969341408\n",
      "update least 536.744335181\n",
      "70 74 598 614 accN -25.7171148885 0.674440670766 10.7910507323 533.573844197 536.744335181\n",
      "update least 533.573844197\n",
      "i 71\n",
      "71 74 602 614 c0 -36.5035051967 4.83775507398 58.0530608878 580.729943433 533.573844197\n",
      "71 74 602 614 cP -23.3711569172 1.4854753506 17.8257042072 540.502586752 533.573844197\n",
      "71 74 602 614 cN -15.0261739176 0.521280199882 6.25536239859 528.932244944 533.573844197\n",
      "update least 528.932244944\n",
      "71 74 602 614 acc0 -33.1084508369 2.62628022932 31.5153627518 554.192245297 528.932244944\n",
      "71 74 602 614 accP -20.9567600665 0.896097480237 10.7531697628 533.430052308 528.932244944\n",
      "71 74 602 614 accN -19.5078045699 0.537623054871 6.45147665845 529.128359203 528.932244944\n",
      "i 72\n",
      "72 74 605 614 c0 -27.7565868804 4.84200506579 43.5780455921 568.551601828 528.932244944\n",
      "72 74 605 614 cP -9.94731154238 0.54683311527 4.92149803743 529.895054273 528.932244944\n",
      "72 74 605 614 cN -12.9690385589 0.539866276354 4.85879648719 529.832352723 528.932244944\n",
      "72 74 605 614 acc0 -26.1069716604 2.75490743858 24.7941669472 549.767723183 528.932244944\n",
      "72 74 605 614 accP -12.1788301177 0.492684533447 4.43416080103 529.407717037 528.932244944\n",
      "72 74 605 614 accN -16.7138714231 0.538637569365 4.84773812428 529.82129436 528.932244944\n",
      "i 73\n",
      "73 74 608 614 c0 -19.2747399004 5.36730294819 32.2038176891 559.45296339 528.932244944\n",
      "73 74 608 614 cP -8.92001142409 0.729606300113 4.37763780068 531.626783501 528.932244944\n",
      "73 74 608 614 cN -11.9000426299 0.712278315873 4.27366989524 531.522815596 528.932244944\n",
      "73 74 608 614 acc0 -20.0475209128 3.44623818127 20.6774290876 547.926574788 528.932244944\n",
      "73 74 608 614 accP -11.8065233812 0.691008039198 4.14604823519 531.395193936 528.932244944\n",
      "73 74 608 614 accN -16.5231631219 0.789669763388 4.73801858033 531.987164281 528.932244944\n",
      "j 75\n",
      "i 74\n",
      "74 75 614 629 c0 4951.04500563 7.96626936971e-155 1.19494040546e-153 529.932244944 inf\n",
      "update least 529.932244944\n",
      "74 75 614 629 cP -47.2455340179 5.32569346493 79.8854019739 609.817646917 529.932244944\n",
      "74 75 614 629 cN 565.529668818 1.76840287803e-15 2.65260431704e-14 529.932244944 529.932244944\n",
      "74 75 614 629 acc0 673.865432419 2.5431521499e-17 3.81472822486e-16 529.932244944 529.932244944\n",
      "74 75 614 629 accP -41.8459697785 2.95379064699 44.3068597049 574.239104648 529.932244944\n",
      "74 75 614 629 accN 446.408939129 1.3020867259e-11 1.95313008885e-10 529.932244944 529.932244944\n",
      "j 76\n",
      "i 74\n",
      "74 76 614 630 c0 5304.89724745 8.00004417893e-155 1.28000706863e-153 529.932244944 inf\n",
      "update least 529.932244944\n",
      "74 76 614 630 cP -50.3514405151 5.39789850594 86.366376095 616.298621039 529.932244944\n",
      "74 76 614 630 cN 723.021932404 2.94058967602e-17 4.70494348164e-16 529.932244944 529.932244944\n",
      "74 76 614 630 acc0 625.246296531 1.22308933429e-14 1.95694293486e-13 529.932244944 529.932244944\n",
      "74 76 614 630 accP -44.275811104 2.97784479988 47.645516798 577.577761742 529.932244944\n",
      "74 76 614 630 accN 408.006645431 6.55441694223e-10 1.04870671076e-08 529.932244954 529.932244944\n",
      "j 77\n",
      "j 78\n",
      "i 75\n",
      "75 78 629 637 c0 -23.4733822879 4.15898665742 33.2718932594 564.204138203 inf\n",
      "update least 564.204138203\n",
      "75 78 629 637 cP -23.4871537685 4.02470283076 32.1976226461 563.12986759 564.204138203\n",
      "update least 563.12986759\n",
      "75 78 629 637 cN -20.3521580772 1.72617619733 13.8094095786 544.741654522 563.12986759\n",
      "update least 544.741654522\n",
      "75 78 629 637 acc0 -22.6871229556 2.3788420114 19.0307360912 549.962981035 544.741654522\n",
      "75 78 629 637 accP -22.491609679 2.28396213169 18.2716970535 549.203941997 544.741654522\n",
      "75 78 629 637 accN -24.5155220857 1.83770939403 14.7016751523 545.633920096 544.741654522\n",
      "i 76\n",
      "76 78 630 637 c0 -21.1884816577 4.44612733228 31.122891326 562.05513627 544.741654522\n",
      "76 78 630 637 cP -21.2161146427 4.35386555055 30.4770588538 561.409303797 544.741654522\n",
      "76 78 630 637 cN -12.4006584249 0.653463170338 4.57424219236 535.506487136 544.741654522\n",
      "update least 535.506487136\n",
      "76 78 630 637 acc0 -22.1494123642 3.24727903057 22.730953214 553.663198158 535.506487136\n",
      "76 78 630 637 accP -22.1863273969 3.1347220176 21.9430541232 552.875299067 535.506487136\n",
      "76 78 630 637 accN -15.5543035388 0.556370451488 3.89459316042 534.826838104 535.506487136\n",
      "update least 534.826838104\n",
      "i 77\n",
      "77 78 632 637 c0 -15.699479136 4.901365892 24.50682946 inf 534.826838104\n",
      "77 78 632 637 cP -8.48874088295 0.891287854523 4.45643927262 inf 534.826838104\n",
      "77 78 632 637 cN -11.5080120771 0.867594604425 4.33797302213 inf 534.826838104\n",
      "77 78 632 637 acc0 -17.8060401613 3.86641453862 19.3320726931 inf 534.826838104\n",
      "77 78 632 637 accP -10.795124025 0.775009914825 3.87504957412 inf 534.826838104\n",
      "77 78 632 637 accN -15.5265380458 0.921497501366 4.60748750683 inf 534.826838104\n",
      "j 79\n",
      "i 75\n",
      "75 79 629 657 c0 -68.4415385825 2.66919792452 74.7375418865 605.66978683 inf\n",
      "update least 605.66978683\n",
      "75 79 629 657 cP -68.5809026368 2.68557991871 75.1962377237 606.128482667 605.66978683\n",
      "75 79 629 657 cN -49.4243874646 1.18195512281 33.0947434386 564.026988382 605.66978683\n",
      "update least 564.026988382\n",
      "75 79 629 657 acc0 -65.6332810358 2.13430383068 59.7605072591 590.692752203 564.026988382\n",
      "75 79 629 657 accP -65.5478329598 2.12011976974 59.3633535529 590.295598496 564.026988382\n",
      "75 79 629 657 accN -45.3824721386 0.890204561063 24.9257277098 555.857972653 564.026988382\n",
      "update least 555.857972653\n",
      "i 76\n",
      "76 79 630 657 c0 -66.6345247035 2.75198042801 74.3034715562 605.2357165 555.857972653\n",
      "76 79 630 657 cP -66.6603314201 2.76479944462 74.6495850047 605.581829948 555.857972653\n",
      "76 79 630 657 cN -46.1739875912 1.11300502604 30.051135703 560.983380647 555.857972653\n",
      "76 79 630 657 acc0 -64.6713863682 2.23927964668 60.4605504603 591.392795404 555.857972653\n",
      "76 79 630 657 accP -64.6882345229 2.22672999527 60.1217098722 591.053954816 555.857972653\n",
      "76 79 630 657 accN -20.8167858993 0.359510598908 9.70678617051 540.639031114 555.857972653\n",
      "update least 540.639031114\n",
      "i 77\n",
      "77 79 632 657 c0 -60.5449497822 2.60526527009 65.1316317523 inf 540.639031114\n",
      "77 79 632 657 cP -54.9960935052 2.06466181393 51.6165453481 inf 540.639031114\n",
      "77 79 632 657 cN -41.3949364433 1.02386699217 25.5966748042 inf 540.639031114\n",
      "77 79 632 657 acc0 -58.8543819006 2.14944570006 53.7361425014 inf 540.639031114\n",
      "77 79 632 657 accP -17.8016135625 0.385564391007 9.63910977518 inf 540.639031114\n",
      "77 79 632 657 accN -21.1746994269 0.377698728477 9.44246821193 inf 540.639031114\n",
      "i 78\n",
      "78 79 637 657 c0 -45.6740917935 2.26515830423 45.3031660845 581.130004189 540.639031114\n",
      "78 79 637 657 cP -36.4412460074 1.3813227343 27.626454686 563.45329279 540.639031114\n",
      "78 79 637 657 cN -29.7222237812 0.798541444618 15.9708288924 551.797666996 540.639031114\n",
      "78 79 637 657 acc0 -44.6163647864 1.81066326461 36.2132652922 572.040103396 540.639031114\n",
      "78 79 637 657 accP -13.1646658125 0.339260048919 6.78520097838 542.612039082 540.639031114\n",
      "78 79 637 657 accN -17.7088737642 0.358070350841 7.16140701681 542.988245121 540.639031114\n",
      "j 80\n",
      "i 75\n",
      "75 80 629 659 c0 -72.2804637611 2.59419428635 77.8258285904 608.758073534 inf\n",
      "update least 608.758073534\n",
      "75 80 629 659 cP -72.24977623 2.61174011907 78.352203572 609.284448516 608.758073534\n",
      "75 80 629 659 cN -55.0606339562 1.27381263201 38.2143789602 569.146623904 608.758073534\n",
      "update least 569.146623904\n",
      "75 80 629 659 acc0 -70.4609145411 2.17862170238 65.3586510714 596.290896015 569.146623904\n",
      "75 80 629 659 accP -70.6016573223 2.18702598697 65.6107796091 596.543024553 569.146623904\n",
      "75 80 629 659 accN -47.6008607921 0.847941134315 25.4382340294 556.370478973 569.146623904\n",
      "update least 556.370478973\n",
      "i 77\n",
      "77 80 632 659 c0 -64.2088750991 2.50515462997 67.6391750092 inf 556.370478973\n",
      "77 80 632 659 cP -61.9991245022 2.30262745601 62.1709413122 inf 556.370478973\n",
      "77 80 632 659 cN -47.891271536 1.1871371495 32.0527030365 inf 556.370478973\n",
      "77 80 632 659 acc0 -63.5148180084 2.16728908458 58.5168052837 inf 556.370478973\n",
      "77 80 632 659 accP -18.8478079878 0.386663878665 10.439924724 inf 556.370478973\n",
      "77 80 632 659 accN -22.9519319612 0.391136963796 10.5606980225 inf 556.370478973\n",
      "j 81\n",
      "i 75\n",
      "75 81 629 660 c0 -74.1646924514 2.55399533008 79.1738552325 610.106100176 inf\n",
      "update least 610.106100176\n",
      "75 81 629 660 cP -74.124144139 2.51758967356 78.0452798803 608.977524824 610.106100176\n",
      "update least 608.977524824\n",
      "75 81 629 660 cN -57.7722232153 1.31603471178 40.7970760652 571.729321009 608.977524824\n",
      "update least 571.729321009\n",
      "75 81 629 660 acc0 -72.7942591671 2.19721712625 68.1137309139 599.045975857 571.729321009\n",
      "75 81 629 660 accP -72.7846728141 2.16617248361 67.1513469918 598.083591935 571.729321009\n",
      "75 81 629 660 accN -48.3986757293 0.853155880774 26.447832304 557.380077248 571.729321009\n",
      "update least 557.380077248\n",
      "i 77\n",
      "77 81 632 660 c0 -66.0107022568 2.43286611894 68.1202513302 inf 557.380077248\n",
      "77 81 632 660 cP -65.1903128171 2.40048050703 67.2134541967 inf 557.380077248\n",
      "77 81 632 660 cN -50.6257872469 1.23176860196 34.4895208549 inf 557.380077248\n",
      "77 81 632 660 acc0 -65.704945682 2.14531989876 60.0689571653 inf 557.380077248\n",
      "77 81 632 660 accP -19.0985678474 0.388252031312 10.8710568767 inf 557.380077248\n",
      "77 81 632 660 accN -23.0991000527 0.379700837051 10.6316234374 inf 557.380077248\n",
      "j 82\n",
      "i 79\n",
      "79 82 657 677 c0 -54.2126812233 3.51278916115 70.255783223 611.894814337 inf\n",
      "update least 611.894814337\n",
      "79 82 657 677 cP -58.7712963333 4.419001945 88.3800389 630.019070014 611.894814337\n",
      "79 82 657 677 cN -45.0703163072 1.83105858766 36.6211717533 578.260202867 611.894814337\n",
      "update least 578.260202867\n",
      "79 82 657 677 acc0 -26.4678409265 0.678770559884 13.5754111977 555.214442312 578.260202867\n",
      "update least 555.214442312\n",
      "79 82 657 677 accP -33.3819726117 0.974066716567 19.4813343313 561.120365445 555.214442312\n",
      "79 82 657 677 accN -30.5000288838 0.700937273151 14.018745463 555.657776577 555.214442312\n",
      "i 80\n",
      "80 82 659 677 c0 -49.8898909426 3.63038952581 65.3470114646 622.717490438 555.214442312\n",
      "80 82 659 677 cP -49.8772512952 3.68783485824 66.3810274483 623.751506421 555.214442312\n",
      "80 82 659 677 cN -38.7674104706 1.59600394292 28.7280709725 586.098549946 555.214442312\n",
      "80 82 659 677 acc0 -28.8314325071 0.88452310468 15.9214158842 573.291894857 555.214442312\n",
      "80 82 659 677 accP -28.8360670203 0.882483886878 15.8847099638 573.255188937 555.214442312\n",
      "80 82 659 677 accN -29.3162689773 0.747961476975 13.4633065856 570.833785559 555.214442312\n",
      "i 81\n",
      "81 82 660 677 c0 -47.7035542316 3.83257904686 65.1538437966 623.533921044 555.214442312\n",
      "81 82 660 677 cP -47.7215256393 3.77569305639 64.1867819586 622.566859206 555.214442312\n",
      "81 82 660 677 cN -35.098839952 1.44407565539 24.5492861416 582.929363389 555.214442312\n",
      "81 82 660 677 acc0 -30.4657367003 1.07259781486 18.2341628526 576.6142401 555.214442312\n",
      "81 82 660 677 accP -30.5733498713 1.08957689637 18.5228072382 576.902884486 555.214442312\n",
      "81 82 660 677 accN -27.144232479 0.684423780296 11.635204265 570.015281513 555.214442312\n",
      "j 83\n",
      "j 84\n",
      "i 82\n",
      "82 84 677 686 c0 -23.7335060517 2.985103373 26.865930357 583.080372669 inf\n",
      "update least 583.080372669\n",
      "82 84 677 686 cP -31.6912535256 7.46055202092 67.1449681883 623.3594105 583.080372669\n",
      "82 84 677 686 cN -26.1455224282 2.73279820207 24.5951838186 580.80962613 583.080372669\n",
      "update least 580.80962613\n",
      "82 84 677 686 acc0 -26.2526387544 2.79512592369 25.1561333132 581.370575625 580.80962613\n",
      "82 84 677 686 accP -30.9805011201 4.73812457761 42.6431211985 598.85756351 580.80962613\n",
      "82 84 677 686 accN -30.8749146369 3.02928492802 27.2635643522 583.478006664 580.80962613\n",
      "i 83\n",
      "83 84 678 686 c0 -20.7302063972 2.76030577354 22.0824461883 inf 580.80962613\n",
      "83 84 678 686 cP -27.7898998895 7.10080649805 56.8064519844 inf 580.80962613\n",
      "83 84 678 686 cN -18.7718827874 1.41782105514 11.3425684411 inf 580.80962613\n",
      "83 84 678 686 acc0 -23.3573094418 2.65904843839 21.2723875071 inf 580.80962613\n",
      "83 84 678 686 accP -28.5945664655 5.15723545711 41.2578836569 inf 580.80962613\n",
      "83 84 678 686 accN -14.8577537759 0.459349063019 3.67479250415 inf 580.80962613\n",
      "j 85\n",
      "i 82\n",
      "82 85 677 687 c0 -25.6397034514 2.87530785863 28.7530785863 584.967520898 inf\n",
      "update least 584.967520898\n",
      "82 85 677 687 cP -34.879735541 7.28070535611 72.8070535611 629.021495873 584.967520898\n",
      "82 85 677 687 cN -28.0155975998 2.59673756706 25.9673756706 582.181817982 584.967520898\n",
      "update least 582.181817982\n",
      "82 85 677 687 acc0 -28.5032953513 2.74356403664 27.4356403664 583.650082678 582.181817982\n",
      "82 85 677 687 accP -33.8432171177 4.65690718158 46.5690718158 602.783514128 582.181817982\n",
      "82 85 677 687 accN -32.576143664 2.80184854833 28.0184854833 584.232927795 582.181817982\n",
      "i 83\n",
      "83 85 678 687 c0 -22.4803839169 2.55839370316 23.0255433285 inf 582.181817982\n",
      "83 85 678 687 cP -30.70230905 6.60412442196 59.4371197977 inf 582.181817982\n",
      "83 85 678 687 cN -21.3808387251 1.55299460336 13.9769514303 inf 582.181817982\n",
      "83 85 678 687 acc0 -25.5444889202 2.53638608961 22.8274748065 inf 582.181817982\n",
      "83 85 678 687 accP -31.4073539238 4.9962334365 44.9661009285 inf 582.181817982\n",
      "83 85 678 687 accN -14.8518984545 0.421416397609 3.79274757848 inf 582.181817982\n",
      "j 86\n",
      "i 82\n",
      "82 86 677 697 c0 -48.9604700123 2.60959486153 52.1918972307 608.406339542 inf\n",
      "update least 608.406339542\n",
      "82 86 677 697 cP -63.0508856212 5.50350211511 110.070042302 666.284484614 608.406339542\n",
      "82 86 677 697 cN -52.4508833611 2.67384451893 53.4768903786 609.69133269 608.406339542\n",
      "82 86 677 697 acc0 -49.5976473595 2.30853120743 46.1706241487 602.38506646 608.406339542\n",
      "update least 602.38506646\n",
      "82 86 677 697 accP -62.8849073462 4.58655922437 91.7311844873 647.945626799 602.38506646\n",
      "82 86 677 697 accN -49.8585040708 1.92170768729 38.4341537457 594.648596057 602.38506646\n",
      "update least 594.648596057\n",
      "i 83\n",
      "83 86 678 697 c0 -45.8112781638 2.53528320999 48.1703809899 inf 594.648596057\n",
      "83 86 678 697 cP -57.1043168354 4.65127450991 88.3742156884 inf 594.648596057\n",
      "83 86 678 697 cN -49.4049713475 2.58477579643 49.1107401322 inf 594.648596057\n",
      "83 86 678 697 acc0 -45.5193964991 2.07544402355 39.4334364475 inf 594.648596057\n",
      "83 86 678 697 accP -58.8755931382 4.36020668672 82.8439270478 inf 594.648596057\n",
      "83 86 678 697 accN -25.9977702761 0.575179481269 10.9284101441 inf 594.648596057\n",
      "i 84\n",
      "84 86 686 697 c0 -27.499260206 2.6685073243 29.3535805673 611.163206698 594.648596057\n",
      "84 86 686 697 cP -30.7404866 3.53315745178 38.8647319695 620.6743581 594.648596057\n",
      "84 86 686 697 cN -25.0596244387 1.52682033718 16.7950237089 598.604649839 594.648596057\n",
      "84 86 686 697 acc0 -17.0081108195 0.667998861821 7.34798748003 589.15761361 594.648596057\n",
      "update least 589.15761361\n",
      "84 86 686 697 accP -20.9489096116 1.01733621056 11.1906983161 593.000324447 589.15761361\n",
      "84 86 686 697 accN -21.5871867072 0.737101145253 8.10811259779 589.917738728 589.15761361\n",
      "i 85\n",
      "85 86 687 697 c0 -25.7323350876 2.90322934202 29.0322934202 612.214111403 589.15761361\n",
      "85 86 687 697 cP -25.7761558586 2.8255816008 28.255816008 611.43763399 589.15761361\n",
      "85 86 687 697 cN -22.5807558168 1.38955200221 13.8955200221 597.077338004 589.15761361\n",
      "85 86 687 697 acc0 -17.6768955403 0.813650281083 8.13650281083 591.318320793 589.15761361\n",
      "85 86 687 697 accP -17.6317764487 0.834627933887 8.34627933887 591.528097321 589.15761361\n",
      "85 86 687 697 accN -21.3027704351 0.816052350039 8.16052350039 591.342341483 589.15761361\n",
      "j 87\n",
      "i 82\n",
      "82 87 677 699 c0 -52.6094678582 2.51118151318 55.24599329 611.460435602 inf\n",
      "update least 611.460435602\n",
      "82 87 677 699 cP -69.1744946068 5.34786959035 117.653130988 673.867573299 611.460435602\n",
      "82 87 677 699 cN -55.9579160541 2.529045147 55.638993234 611.853435546 611.460435602\n",
      "82 87 677 699 acc0 -54.0217603593 2.33272065192 51.3198543423 607.534296654 611.460435602\n",
      "update least 607.534296654\n",
      "82 87 677 699 accP -67.4922113605 4.32137257716 95.0701966974 651.284639009 607.534296654\n",
      "82 87 677 699 accN -55.9083702085 2.07559527551 45.6630960612 601.877538373 607.534296654\n",
      "update least 601.877538373\n",
      "j 88\n",
      "i 82\n",
      "82 88 677 704 c0 -61.424445952 2.32252651537 62.7082159149 618.922658227 inf\n",
      "update least 618.922658227\n",
      "82 88 677 704 cP -84.2656222691 5.34358507132 144.276796926 700.491239237 618.922658227\n",
      "82 88 677 704 cN -64.8472849615 2.22605124675 60.1033836622 616.317825974 618.922658227\n",
      "update least 616.317825974\n",
      "82 88 677 704 acc0 -63.641584875 2.17048823051 58.6031822238 614.817624536 616.317825974\n",
      "update least 614.817624536\n",
      "82 88 677 704 accP -79.1660877793 3.9353942737 106.25564539 662.470087702 614.817624536\n",
      "82 88 677 704 accN -67.0492699238 2.11094842591 56.9956074995 613.210049811 614.817624536\n",
      "update least 613.210049811\n",
      "i 86\n",
      "86 88 697 704 c0 2119.24925221 8.81453347712e-155 6.17017343398e-154 590.15761361 613.210049811\n",
      "update least 590.15761361\n",
      "86 88 697 704 cP -19.9029927883 3.65184242806 25.5628969964 615.720510607 590.15761361\n",
      "86 88 697 704 cN 251.444584728 7.03654084217e-15 4.92557858952e-14 590.15761361 590.15761361\n",
      "86 88 697 704 acc0 2115.85398893 9.0875409198e-155 6.36127864386e-154 590.15761361 590.15761361\n",
      "86 88 697 704 accP -20.1082486181 2.24042209863 15.6829546904 605.840568301 590.15761361\n",
      "86 88 697 704 accN 197.801736967 1.01143367119e-12 7.08003569832e-12 590.15761361 590.15761361\n",
      "i 87\n",
      "87 88 699 704 c0 1411.20862974 9.91511182771e-155 4.95755591385e-154 602.877538373 590.15761361\n",
      "87 88 699 704 cP 1411.24790517 9.77725250158e-155 4.88862625079e-154 602.877538373 590.15761361\n",
      "87 88 699 704 cN 165.994021097 7.08450068861e-15 3.5422503443e-14 602.877538373 590.15761361\n",
      "87 88 699 704 acc0 158.850911035 2.0568608993e-14 1.02843044965e-13 602.877538373 590.15761361\n",
      "87 88 699 704 accP 158.71347533 3.10513437724e-14 1.55256718862e-13 602.877538373 590.15761361\n",
      "87 88 699 704 accN 92.5585623007 1.27568494864e-10 6.37842474322e-10 602.877538374 590.15761361\n",
      "j 89\n",
      "i 82\n",
      "82 89 677 709 c0 -69.5829573263 2.02268423162 64.7258954119 620.940337724 inf\n",
      "update least 620.940337724\n",
      "82 89 677 709 cP -99.4048500025 5.28221430972 169.030857911 725.245300223 620.940337724\n",
      "82 89 677 709 cN -72.9665352416 2.00314130506 64.1005217621 620.314964074 620.940337724\n",
      "update least 620.314964074\n",
      "82 89 677 709 acc0 -72.1578539971 2.02064845036 64.6607504114 620.875192723 620.314964074\n",
      "82 89 677 709 accP -90.5380887394 3.59192969277 114.941750169 671.15619248 620.314964074\n",
      "82 89 677 709 accN -76.4435723787 2.01308280619 64.4186497981 620.63309211 620.314964074\n",
      "i 86\n",
      "86 89 697 709 c0 3888.90599185 8.30958628571e-155 9.97150354286e-154 590.15761361 620.314964074\n",
      "update least 590.15761361\n",
      "86 89 697 709 cP -32.4362240354 3.27055161876 39.2466194252 629.404233036 590.15761361\n",
      "86 89 697 709 cN 514.667552119 4.83811621005e-16 5.80573945206e-15 590.15761361 590.15761361\n",
      "86 89 697 709 acc0 3885.88736528 8.1325530947e-155 9.75906371365e-154 590.15761361 590.15761361\n",
      "86 89 697 709 accP -29.3250027807 1.91891969501 23.0270363401 613.184649951 590.15761361\n",
      "86 89 697 709 accN 318.082928981 1.04642652463e-09 1.25571182955e-08 590.157613623 590.15761361\n",
      "i 87\n",
      "87 89 699 709 c0 3181.1020324 8.38568216067e-155 8.38568216067e-154 602.877538373 590.15761361\n",
      "87 89 699 709 cP 3180.84175637 8.62571092912e-155 8.62571092912e-154 602.877538373 590.15761361\n",
      "87 89 699 709 cN 395.721197545 8.35150149441e-16 8.35150149441e-15 602.877538373 590.15761361\n",
      "87 89 699 709 acc0 364.86331244 2.79514140989e-13 2.79514140989e-12 602.877538373 590.15761361\n",
      "87 89 699 709 accP 425.175586923 7.64922291488e-16 7.64922291488e-15 602.877538373 590.15761361\n",
      "87 89 699 709 accN 271.902654821 3.64387261988e-11 3.64387261988e-10 602.877538373 590.15761361\n",
      "i 88\n",
      "88 89 704 709 c0 1411.15381772 1.00397929371e-154 5.01989646853e-154 591.15761361 590.15761361\n",
      "88 89 704 709 cP 1411.27977677 9.78131839468e-155 4.89065919734e-154 591.15761361 590.15761361\n",
      "88 89 704 709 cN 164.124198644 8.03139473598e-16 4.01569736799e-15 591.15761361 590.15761361\n",
      "88 89 704 709 acc0 158.905019463 1.39717743176e-14 6.9858871588e-14 591.15761361 590.15761361\n",
      "88 89 704 709 accP 179.190994493 1.18600221091e-16 5.93001105456e-16 591.15761361 590.15761361\n",
      "88 89 704 709 accN 95.7932239695 3.59389782113e-11 1.79694891056e-10 591.157613611 590.15761361\n",
      "j 90\n",
      "i 82\n",
      "82 90 677 712 c0 -74.2627618814 1.94085799001 67.9300296505 624.144471962 inf\n",
      "update least 624.144471962\n",
      "82 90 677 712 cP -108.474122158 5.18742152577 181.559753402 737.774195714 624.144471962\n",
      "82 90 677 712 cN -77.9342853277 1.97623037018 69.1680629563 625.382505268 624.144471962\n",
      "82 90 677 712 acc0 -77.2104845258 1.9342718718 67.6995155129 623.913957825 624.144471962\n",
      "update least 623.913957825\n",
      "82 90 677 712 accP -97.3354494925 3.44030197129 120.410568995 676.625011307 623.913957825\n",
      "82 90 677 712 accN -81.3928057731 1.9180435961 67.1315258635 623.345968175 623.913957825\n",
      "update least 623.345968175\n",
      "i 86\n",
      "86 90 697 712 c0 4950.97817387 8.01080097525e-155 1.20162014629e-153 590.15761361 623.345968175\n",
      "update least 590.15761361\n",
      "86 90 697 712 cP -39.9780082044 3.26189143524 48.9283715286 639.085985139 590.15761361\n",
      "86 90 697 712 cN 638.310314492 2.62248648444e-15 3.93372972665e-14 590.15761361 590.15761361\n",
      "86 90 697 712 acc0 616.924247876 2.30521762971e-15 3.45782644457e-14 590.15761361 590.15761361\n",
      "86 90 697 712 accP -34.8061431057 1.83250209252 27.4875313878 617.645144998 590.15761361\n",
      "86 90 697 712 accN 4943.76000091 8.05845323096e-155 1.20876798464e-153 590.15761361 590.15761361\n",
      "i 87\n",
      "87 90 699 712 c0 4242.98555233 8.14159067241e-155 1.05840678741e-153 602.877538373 590.15761361\n",
      "87 90 699 712 cP 4242.95301062 8.16330515425e-155 1.06122967005e-153 602.877538373 590.15761361\n",
      "87 90 699 712 cN 500.266808401 3.34379229595e-15 4.34692998474e-14 602.877538373 590.15761361\n",
      "87 90 699 712 acc0 4239.92485266 8.02661288434e-155 1.04345967496e-153 602.877538373 590.15761361\n",
      "87 90 699 712 accP 501.032234032 5.32045683824e-15 6.91659388971e-14 602.877538373 590.15761361\n",
      "87 90 699 712 accN 388.929686491 1.49473917383e-11 1.94316092598e-10 602.877538373 590.15761361\n",
      "i 88\n",
      "88 90 704 712 c0 2473.12257748 8.70669393091e-155 6.96535514473e-154 591.15761361 590.15761361\n",
      "88 90 704 712 cP 2473.2760998 8.49057398418e-155 6.79245918735e-154 591.15761361 590.15761361\n",
      "88 90 704 712 cN 316.434044012 3.25395234461e-16 2.60316187569e-15 591.15761361 590.15761361\n",
      "88 90 704 712 acc0 328.595141958 1.54999444698e-16 1.23999555758e-15 591.15761361 590.15761361\n",
      "88 90 704 712 accP 2469.88556674 8.75211103861e-155 7.00168883089e-154 591.15761361 590.15761361\n",
      "88 90 704 712 accN 196.091428596 6.09305537877e-11 4.87444430301e-10 591.157613611 590.15761361\n",
      "j 91\n",
      "i 82\n",
      "82 91 677 718 c0 -83.4441470964 1.79163794783 73.4571558609 629.671598173 inf\n",
      "update least 629.671598173\n",
      "82 91 677 718 cP -126.6111988 5.15466664896 211.341332607 767.555774919 629.671598173\n",
      "82 91 677 718 cN -86.896244465 1.79030581662 73.4025384815 629.616980793 629.671598173\n",
      "update least 629.616980793\n",
      "82 91 677 718 acc0 -86.5182259677 1.78668484708 73.2540787302 629.468521042 629.616980793\n",
      "update least 629.468521042\n",
      "82 91 677 718 accP -110.764638636 3.21660803196 131.880929311 688.095371622 629.468521042\n",
      "82 91 677 718 accN -91.011455377 1.81083402157 74.2441948843 630.458637196 629.468521042\n",
      "i 86\n",
      "86 91 697 718 c0 7074.68071865 7.8884395123e-155 1.65657229758e-153 590.15761361 629.468521042\n",
      "update least 590.15761361\n",
      "86 91 697 718 cP -55.1151003409 3.21003770709 67.410791849 657.568405459 590.15761361\n",
      "86 91 697 718 cN 996.394999291 4.26979670161e-17 8.96657307337e-16 590.15761361 590.15761361\n",
      "86 91 697 718 acc0 7071.46642993 7.88783358338e-155 1.65644505251e-153 590.15761361 590.15761361\n",
      "86 91 697 718 accP -45.7546469738 1.70808341821 35.8697517823 626.027365393 590.15761361\n",
      "86 91 697 718 accN 528.60365095 1.81719992097e-10 3.81611983403e-09 590.157613614 590.15761361\n",
      "i 87\n",
      "87 91 699 718 c0 6366.73913708 7.93954611324e-155 1.50851376152e-153 602.877538373 590.15761361\n",
      "87 91 699 718 cP 6366.84513801 7.89077775534e-155 1.49924777351e-153 602.877538373 590.15761361\n",
      "87 91 699 718 cN 802.213756888 1.27423627457e-16 2.42104892168e-15 602.877538373 590.15761361\n",
      "87 91 699 718 acc0 6363.55189104 7.92333648591e-155 1.50543393232e-153 602.877538373 590.15761361\n",
      "87 91 699 718 accP 784.055018525 4.2471013404e-15 8.06949254675e-14 602.877538373 590.15761361\n",
      "87 91 699 718 accN 418.076692578 4.70412170339e-09 8.93783123644e-08 602.877538462 590.15761361\n",
      "i 88\n",
      "88 91 704 718 c0 4596.96462548 8.0911450378e-155 1.13276030529e-153 591.15761361 590.15761361\n",
      "88 91 704 718 cP 4596.93856594 8.09506382041e-155 1.13330893486e-153 591.15761361 590.15761361\n",
      "88 91 704 718 cN 651.199996931 4.47064541168e-17 6.25890357635e-16 591.15761361 590.15761361\n",
      "88 91 704 718 acc0 585.381302516 1.40554030921e-16 1.9677564329e-15 591.15761361 590.15761361\n",
      "88 91 704 718 accP 576.175590083 1.18481651222e-14 1.65874311711e-13 591.15761361 590.15761361\n",
      "88 91 704 718 accN 357.979784216 2.05332387183e-11 2.87465342057e-10 591.157613611 590.15761361\n",
      "i 89\n",
      "89 91 709 718 c0 2827.13142103 8.48390066652e-155 7.63551059987e-154 591.15761361 590.15761361\n",
      "89 91 709 718 cP 2827.13235 8.48979884465e-155 7.64081896019e-154 591.15761361 590.15761361\n",
      "89 91 709 718 cN 344.284790275 7.52998385077e-16 6.77698546569e-15 591.15761361 590.15761361\n",
      "89 91 709 718 acc0 345.369452696 8.53204715586e-16 7.67884244028e-15 591.15761361 590.15761361\n",
      "89 91 709 718 accP 352.41697634 1.15706776784e-15 1.04136099105e-14 591.15761361 590.15761361\n",
      "89 91 709 718 accN 200.229975927 4.15148706449e-10 3.73633835804e-09 591.157613614 590.15761361\n",
      "i 90\n",
      "90 91 712 718 c0 1765.1609013 9.41078172836e-155 5.64646903701e-154 591.15761361 590.15761361\n",
      "90 91 712 718 cP 1765.18631124 9.43532762018e-155 5.66119657211e-154 591.15761361 590.15761361\n",
      "90 91 712 718 cN 238.437006741 1.59206325508e-17 9.55237953048e-17 591.15761361 590.15761361\n",
      "90 91 712 718 acc0 217.581207773 3.26052345956e-16 1.95631407573e-15 591.15761361 590.15761361\n",
      "90 91 712 718 accP 243.492745601 9.19253517052e-18 5.51552110231e-17 591.15761361 590.15761361\n",
      "90 91 712 718 accN 117.435662517 1.29203012483e-09 7.75218074901e-09 591.157613618 590.15761361\n",
      "j 92\n",
      "i 82\n",
      "82 92 677 721 c0 -87.8747565736 1.71252519524 75.3511085905 631.565550902 inf\n",
      "update least 631.565550902\n",
      "82 92 677 721 cP -135.787942036 5.20054494084 228.823977397 785.038419709 631.565550902\n",
      "82 92 677 721 cN -91.3102598639 1.73542637205 76.3587603701 632.573202682 631.565550902\n",
      "82 92 677 721 acc0 -91.0411349029 1.72992320423 76.1166209861 632.331063298 631.565550902\n",
      "82 92 677 721 accP -117.78235691 3.22179783836 141.759104888 697.9735472 631.565550902\n",
      "82 92 677 721 accN -95.518141803 1.7450738918 76.7832512393 632.997693551 631.565550902\n",
      "i 86\n",
      "86 92 697 721 c0 8136.74418337 7.78015627894e-155 1.86723750695e-153 590.15761361 631.565550902\n",
      "update least 590.15761361\n",
      "86 92 697 721 cP -62.6284726206 3.13639913765 75.2735793035 665.431192914 590.15761361\n",
      "86 92 697 721 cN 933.865310145 3.39184926538e-14 8.1404382369e-13 590.15761361 590.15761361\n",
      "86 92 697 721 acc0 8133.42118089 7.8145305876e-155 1.87548734102e-153 590.15761361 590.15761361\n",
      "86 92 697 721 accP -51.1411703105 1.66481539249 39.9555694199 630.11318303 590.15761361\n",
      "86 92 697 721 accN 649.13734173 1.41348784814e-10 3.39237083553e-09 590.157613614 590.15761361\n",
      "i 87\n",
      "87 92 699 721 c0 7428.68928798 7.85452809476e-155 1.72799618085e-153 602.877538373 590.15761361\n",
      "87 92 699 721 cP 7428.75488991 7.83030213116e-155 1.72266646886e-153 602.877538373 590.15761361\n",
      "87 92 699 721 cN 1054.7717259 3.37974083482e-17 7.43542983661e-16 602.877538373 590.15761361\n",
      "87 92 699 721 acc0 7425.48407302 7.84633304274e-155 1.7261932694e-153 602.877538373 590.15761361\n",
      "87 92 699 721 accP 924.802282304 1.70434897183e-14 3.74956773802e-13 602.877538373 590.15761361\n",
      "87 92 699 721 accN 547.933629225 3.30797504613e-10 7.27754510148e-09 602.87753838 590.15761361\n",
      "i 88\n",
      "88 92 704 721 c0 5658.91872346 7.93672401109e-155 1.34924308189e-153 591.15761361 590.15761361\n",
      "88 92 704 721 cP 5658.92123325 7.93704378076e-155 1.34929744273e-153 591.15761361 590.15761361\n",
      "88 92 704 721 cN 754.691862231 2.01701751291e-17 3.42892977195e-16 591.15761361 590.15761361\n",
      "88 92 704 721 acc0 680.918356513 7.61440658306e-16 1.29444911912e-14 591.15761361 590.15761361\n",
      "88 92 704 721 accP 5655.66875262 7.95283488861e-155 1.35198193106e-153 591.15761361 590.15761361\n",
      "88 92 704 721 accN 474.193063376 1.25523361287e-11 2.13389714187e-10 591.157613611 590.15761361\n",
      "i 89\n",
      "89 92 709 721 c0 3888.90980229 8.30349553071e-155 9.96419463685e-154 591.15761361 590.15761361\n",
      "89 92 709 721 cP 3889.06374476 8.1792166721e-155 9.81506000652e-154 591.15761361 590.15761361\n",
      "89 92 709 721 cN 527.270401032 6.53761409567e-17 7.84513691481e-16 591.15761361 590.15761361\n",
      "89 92 709 721 acc0 454.643880553 9.33508313287e-15 1.12020997594e-13 591.15761361 590.15761361\n",
      "89 92 709 721 accP 515.734427901 1.98292108492e-17 2.3795053019e-16 591.15761361 590.15761361\n",
      "89 92 709 721 accN 296.992304974 2.67522375942e-10 3.2102685113e-09 591.157613614 590.15761361\n",
      "i 90\n",
      "90 92 712 721 c0 2827.09356145 8.53113630877e-155 7.67802267789e-154 591.15761361 590.15761361\n",
      "90 92 712 721 cP 2827.12342262 8.51160316951e-155 7.66044285256e-154 591.15761361 590.15761361\n",
      "90 92 712 721 cN 2823.98044644 8.39399192869e-155 7.55459273582e-154 591.15761361 590.15761361\n",
      "90 92 712 721 acc0 394.58819371 3.78281655493e-17 3.40453489943e-16 591.15761361 590.15761361\n",
      "90 92 712 721 accP 321.52751611 7.66663874223e-14 6.899974868e-13 591.15761361 590.15761361\n",
      "90 92 712 721 accN 239.769252799 2.49374973564e-11 2.24437476207e-10 591.157613611 590.15761361\n",
      "j 93\n",
      "i 82\n",
      "82 93 677 724 c0 -92.0966626209 1.65605051297 77.8343741098 634.048816422 inf\n",
      "update least 634.048816422\n",
      "82 93 677 724 cP -144.88501484 5.2469451399 246.606421575 802.820863887 634.048816422\n",
      "82 93 677 724 cN -95.5081971543 1.67449898825 78.7014524477 634.915894759 634.048816422\n",
      "82 93 677 724 acc0 -95.3450408809 1.66055842749 78.046246092 634.260688404 634.048816422\n",
      "82 93 677 724 accP -124.470662823 3.09957548213 145.68004766 701.894489972 634.048816422\n",
      "82 93 677 724 accN -99.7997355177 1.679132522 78.919228534 635.133670846 634.048816422\n",
      "i 86\n",
      "86 93 697 724 c0 9198.50611809 7.78870686311e-155 2.10295085304e-153 590.15761361 634.048816422\n",
      "update least 590.15761361\n",
      "86 93 697 724 cP -70.1963033156 3.13486879869 84.6414575646 674.799071175 590.15761361\n",
      "86 93 697 724 cN 1239.92150334 1.544871957e-17 4.17115428389e-16 590.15761361 590.15761361\n",
      "86 93 697 724 acc0 9195.43231689 7.74278133051e-155 2.09055095924e-153 590.15761361 590.15761361\n",
      "86 93 697 724 accP -56.5092602841 1.64463153185 44.4050513599 634.56266497 590.15761361\n",
      "86 93 697 724 accN 9191.48590553 7.7533206104e-155 2.09339656481e-153 590.15761361 590.15761361\n",
      "i 87\n",
      "87 93 699 724 c0 8490.67247427 7.77911635325e-155 1.94477908831e-153 602.877538373 590.15761361\n",
      "87 93 699 724 cP 8490.67832129 7.77714433091e-155 1.94428608273e-153 602.877538373 590.15761361\n",
      "87 93 699 724 cN 1032.8570121 1.37799066834e-15 3.44497667086e-14 602.877538373 590.15761361\n",
      "87 93 699 724 acc0 8487.45860469 7.77615328044e-155 1.94403832011e-153 602.877538373 590.15761361\n",
      "87 93 699 724 accP 8487.45942524 7.77701650704e-155 1.94425412676e-153 602.877538373 590.15761361\n",
      "87 93 699 724 accN 611.27335685 7.79767009883e-10 1.94941752471e-08 602.877538392 590.15761361\n",
      "i 88\n",
      "88 93 704 724 c0 6720.78150421 7.879784295e-155 1.575956859e-153 591.15761361 590.15761361\n",
      "88 93 704 724 cP 6720.87810513 7.83760370329e-155 1.56752074066e-153 591.15761361 590.15761361\n",
      "88 93 704 724 cN 859.562250414 9.13055713254e-17 1.82611142651e-15 591.15761361 590.15761361\n",
      "88 93 704 724 acc0 6717.62592109 7.85233283144e-155 1.57046656629e-153 591.15761361 590.15761361\n",
      "88 93 704 724 accP 6717.61353464 7.85852763207e-155 1.57170552641e-153 591.15761361 590.15761361\n",
      "88 93 704 724 accN 483.924944887 8.49993166724e-10 1.69998633345e-08 591.157613627 590.15761361\n",
      "i 89\n",
      "89 93 709 724 c0 4950.89743311 8.06289503792e-155 1.20943425569e-153 591.15761361 590.15761361\n",
      "89 93 709 724 cP 4950.78618355 8.12742654716e-155 1.21911398207e-153 591.15761361 590.15761361\n",
      "89 93 709 724 cN 681.983113168 5.57840799836e-17 8.36761199754e-16 591.15761361 590.15761361\n",
      "89 93 709 724 acc0 4947.80319966 7.97792673513e-155 1.19668901027e-153 591.15761361 590.15761361\n",
      "89 93 709 724 accP 4947.68999007 8.06108618894e-155 1.20916292834e-153 591.15761361 590.15761361\n",
      "89 93 709 724 accN 384.336453744 1.30232776506e-10 1.95349164759e-09 591.157613612 590.15761361\n",
      "i 90\n",
      "90 93 712 724 c0 3889.01295629 8.20824333061e-155 9.84989199673e-154 591.15761361 590.15761361\n",
      "90 93 712 724 cP 3888.98583414 8.23540178158e-155 9.8824821379e-154 591.15761361 590.15761361\n",
      "90 93 712 724 cN 436.49804152 4.75794864198e-15 5.70953837038e-14 591.15761361 590.15761361\n",
      "90 93 712 724 acc0 3885.68141271 8.325494117e-155 9.9905929404e-154 591.15761361 590.15761361\n",
      "90 93 712 724 accP 521.147534503 4.90176931387e-16 5.88212317664e-15 591.15761361 590.15761361\n",
      "90 93 712 724 accN 363.36634637 1.15438221594e-12 1.38525865912e-11 591.15761361 590.15761361\n",
      "i 91\n",
      "91 93 718 724 c0 1765.16795501 9.3661519381e-155 5.61969116286e-154 591.15761361 590.15761361\n",
      "91 93 718 724 cP 1765.23091838 9.19393504317e-155 5.5163610259e-154 591.15761361 590.15761361\n",
      "91 93 718 724 cN 212.399990727 7.0142286423e-16 4.20853718538e-15 591.15761361 590.15761361\n",
      "91 93 718 724 acc0 1761.79780744 9.7989966997e-155 5.87939801982e-154 591.15761361 590.15761361\n",
      "91 93 718 724 accP 186.823596858 1.80425316093e-12 1.08255189656e-11 591.15761361 590.15761361\n",
      "91 93 718 724 accN 145.110483591 5.15012172427e-12 3.09007303456e-11 591.15761361 590.15761361\n",
      "j 94\n",
      "i 82\n",
      "82 94 677 725 c0 -93.5608810882 1.65561814912 79.4696711577 635.684113469 inf\n",
      "update least 635.684113469\n",
      "82 94 677 725 cP -147.911566342 5.17001643412 248.160788838 804.37523115 635.684113469\n",
      "82 94 677 725 cN -96.8995674469 1.64362582603 78.8940396492 635.108481961 635.684113469\n",
      "update least 635.108481961\n",
      "82 94 677 725 acc0 -96.8783500887 1.63048695799 78.2633739835 634.477816295 635.108481961\n",
      "update least 634.477816295\n",
      "82 94 677 725 accP -126.805672981 3.09661644247 148.637589238 704.85203155 634.477816295\n",
      "82 94 677 725 accN -101.150167138 1.67227190108 80.2690512519 636.483493564 634.477816295\n",
      "i 86\n",
      "86 94 697 725 c0 9552.53764948 7.75827637347e-155 2.17231738457e-153 590.15761361 634.477816295\n",
      "update least 590.15761361\n",
      "86 94 697 725 cP -72.7700112346 3.15385354661 88.3078993052 678.465512916 590.15761361\n",
      "86 94 697 725 cN 1167.02756501 1.02505922414e-14 2.87016582759e-13 590.15761361 590.15761361\n",
      "86 94 697 725 acc0 9549.28054447 7.76975658131e-155 2.17553184277e-153 590.15761361 590.15761361\n",
      "86 94 697 725 accP -58.4864107695 1.65214059274 46.2599365968 636.417550207 590.15761361\n",
      "86 94 697 725 accN 791.246243099 1.51887660508e-10 4.25285449423e-09 590.157613615 590.15761361\n",
      "i 87\n",
      "87 94 699 725 c0 8844.58024181 7.78794983452e-155 2.02486695697e-153 602.877538373 590.15761361\n",
      "87 94 699 725 cP 8844.5484007 7.79727839431e-155 2.02729238252e-153 602.877538373 590.15761361\n",
      "87 94 699 725 cN 1185.25206192 6.25307416209e-16 1.62579928214e-14 602.877538373 590.15761361\n",
      "87 94 699 725 acc0 8841.50041183 7.74170240186e-155 2.01284262448e-153 602.877538373 590.15761361\n",
      "87 94 699 725 accP 8841.40042526 7.77558235069e-155 2.02165141118e-153 602.877538373 590.15761361\n",
      "87 94 699 725 accN 601.773654813 6.62011682241e-09 1.72123037383e-07 602.877538545 590.15761361\n",
      "i 88\n",
      "88 94 704 725 c0 7074.78130568 7.84822256694e-155 1.64812673906e-153 591.15761361 590.15761361\n",
      "88 94 704 725 cP 7074.75363356 7.86063173201e-155 1.65073266372e-153 591.15761361 590.15761361\n",
      "88 94 704 725 cN 988.689719477 3.28946111092e-17 6.90786833293e-16 591.15761361 590.15761361\n",
      "88 94 704 725 acc0 881.09150635 7.48177656732e-15 1.57117307914e-13 591.15761361 590.15761361\n",
      "88 94 704 725 accP 928.124092332 1.96760274811e-17 4.13196577103e-16 591.15761361 590.15761361\n",
      "88 94 704 725 accN 493.726902708 5.79686632853e-10 1.21734192899e-08 591.157613623 590.15761361\n",
      "i 89\n",
      "89 94 709 725 c0 5304.98822319 7.94917034103e-155 1.27186725456e-153 591.15761361 590.15761361\n",
      "89 94 709 725 cP 5304.93908687 7.97861731476e-155 1.27657877036e-153 591.15761361 590.15761361\n",
      "89 94 709 725 cN 743.143393598 1.29249342068e-17 2.06798947308e-16 591.15761361 590.15761361\n",
      "89 94 709 725 acc0 642.778846345 6.51414757236e-16 1.04226361158e-14 591.15761361 590.15761361\n",
      "89 94 709 725 accP 681.657590589 6.19291434207e-16 9.90866294731e-15 591.15761361 590.15761361\n",
      "89 94 709 725 accN 360.868054868 1.4798068354e-09 2.36769093663e-08 591.157613634 590.15761361\n",
      "i 90\n",
      "90 94 712 725 c0 4242.90854672 8.19766944245e-155 1.06569702752e-153 591.15761361 590.15761361\n",
      "90 94 712 725 cP 4242.90525949 8.20118004732e-155 1.06615340615e-153 591.15761361 590.15761361\n",
      "90 94 712 725 cN 4239.90957771 8.0376333306e-155 1.04489233298e-153 591.15761361 590.15761361\n",
      "90 94 712 725 acc0 574.470642798 2.03781370405e-17 2.64915781526e-16 591.15761361 590.15761361\n",
      "90 94 712 725 accP 537.653315818 2.70452529004e-17 3.51588287705e-16 591.15761361 590.15761361\n",
      "90 94 712 725 accN 306.816799847 1.75676976231e-09 2.283800691e-08 591.157613633 590.15761361\n",
      "i 91\n",
      "91 94 718 725 c0 2119.05677997 9.11472516571e-155 6.380307616e-154 591.15761361 590.15761361\n",
      "91 94 718 725 cP 2119.13595129 8.97969819974e-155 6.28578873982e-154 591.15761361 590.15761361\n",
      "91 94 718 725 cN 262.397208857 2.99594189645e-16 2.09715932752e-15 591.15761361 590.15761361\n",
      "91 94 718 725 acc0 244.864556258 5.52621119333e-15 3.86834783533e-14 591.15761361 590.15761361\n",
      "91 94 718 725 accP 247.574513176 1.30990659848e-14 9.16934618934e-14 591.15761361 590.15761361\n",
      "91 94 718 725 accN 193.783974705 2.35819487979e-12 1.65073641586e-11 591.15761361 590.15761361\n",
      "j 95\n",
      "i 92\n",
      "92 95 721 728 c0 -19.1085345251 3.1619035028 22.1333245196 613.29093813 inf\n",
      "update least 613.29093813\n",
      "92 95 721 728 cP -19.0621774904 3.21694693908 22.5186285736 613.676242184 613.29093813\n",
      "92 95 721 728 cN -21.1136607472 2.73412327916 19.1388629541 610.296476565 613.29093813\n",
      "update least 610.296476565\n",
      "92 95 721 728 acc0 -17.7330684974 1.56721479879 10.9705035915 602.128117202 610.296476565\n",
      "update least 602.128117202\n",
      "92 95 721 728 accP -17.7255469987 1.5038093206 10.5266652442 601.684278855 602.128117202\n",
      "update least 601.684278855\n",
      "92 95 721 728 accN -21.8220878772 1.6264770305 11.3853392135 602.542952824 601.684278855\n",
      "j 96\n",
      "i 92\n",
      "92 96 721 735 c0 -37.4756523299 3.24028236745 45.3639531444 636.521566755 inf\n",
      "update least 636.521566755\n",
      "92 96 721 735 cP -37.4233877646 3.25838911583 45.6174476216 636.775061232 636.521566755\n",
      "92 96 721 735 cN -33.2359363356 1.85866612818 26.0213257946 617.178939405 636.521566755\n",
      "update least 617.178939405\n",
      "92 96 721 735 acc0 -30.7165515282 1.5363343201 21.5086804815 612.666294092 617.178939405\n",
      "update least 612.666294092\n",
      "92 96 721 735 accP -30.6447186832 1.52312110054 21.3236954075 612.481309018 612.666294092\n",
      "update least 612.481309018\n",
      "92 96 721 735 accN -34.4226138597 1.53190021729 21.446603042 612.604216652 612.481309018\n",
      "i 93\n",
      "93 96 724 735 c0 -31.1203549446 3.75726674287 41.3299341716 632.487547782 612.481309018\n",
      "93 96 724 735 cP -31.1493581746 3.78554303983 41.6409734381 632.798587048 612.481309018\n",
      "93 96 724 735 cN -23.7545928826 1.35110062888 14.8621069176 606.019720528 612.481309018\n",
      "update least 606.019720528\n",
      "93 96 724 735 acc0 -29.1532134638 2.28105610188 25.0916171207 616.249230731 606.019720528\n",
      "93 96 724 735 accP -29.1875963204 2.29763894213 25.2740283634 616.431641974 606.019720528\n",
      "93 96 724 735 accN -28.0593229663 1.41829889795 15.6012878774 606.758901488 606.019720528\n",
      "i 94\n",
      "94 96 725 735 c0 -28.8853546917 3.87167642834 38.7167642834 629.874377894 606.019720528\n",
      "94 96 725 735 cP -28.9509496243 4.03266364166 40.3266364166 631.484250027 606.019720528\n",
      "94 96 725 735 cN -15.0434771915 0.606644437468 6.06644437468 597.224057985 606.019720528\n",
      "update least 597.224057985\n",
      "94 96 725 735 acc0 -28.6928001045 2.82806317282 28.2806317282 619.438245339 597.224057985\n",
      "94 96 725 735 accP -28.5844952156 2.74815624501 27.4815624501 618.63917606 597.224057985\n",
      "94 96 725 735 accN -15.1100160532 0.408547805799 4.08547805799 595.243091668 597.224057985\n",
      "update least 595.243091668\n",
      "i 95\n",
      "95 96 728 735 c0 -20.5273414404 4.18651739932 29.3056217953 631.98990065 595.243091668\n",
      "95 96 728 735 cP -12.1772937341 1.0730312418 7.51121869261 610.195497547 595.243091668\n",
      "95 96 728 735 cN -12.2569535771 0.629080560958 4.40356392671 607.087842781 595.243091668\n",
      "95 96 728 735 acc0 -21.5398938592 2.93379779768 20.5365845838 623.220863438 595.243091668\n",
      "95 96 728 735 accP -11.3212338828 0.545468793542 3.81828155479 606.502560409 595.243091668\n",
      "95 96 728 735 accN -15.5349406799 0.556010607833 3.89207425483 606.576353109 595.243091668\n",
      "j 97\n",
      "j 98\n",
      "j 99\n",
      "i 96\n",
      "96 99 735 748 c0 -35.1835564597 3.34472837473 43.4814688714 639.72456054 inf\n",
      "update least 639.72456054\n",
      "96 99 735 748 cP -43.1855918462 6.32470905323 82.221217692 678.46430936 639.72456054\n",
      "96 99 735 748 cN -29.8337150377 1.69789326122 22.0726123958 618.315704064 639.72456054\n",
      "update least 618.315704064\n",
      "96 99 735 748 acc0 -16.663590722 0.555850411019 7.22605534324 603.469147012 618.315704064\n",
      "update least 603.469147012\n",
      "96 99 735 748 accP -33.1143114253 2.24591064082 29.1968383306 625.439929999 603.469147012\n",
      "96 99 735 748 accN -18.8792521052 0.497128033404 6.46266443425 602.705756103 603.469147012\n",
      "update least 602.705756103\n",
      "i 97\n",
      "97 99 736 748 c0 -33.0852663001 3.55037981083 42.60455773 inf 602.705756103\n",
      "97 99 736 748 cP -33.1005340544 3.45283309291 41.4339971149 inf 602.705756103\n",
      "97 99 736 748 cN -26.6278911818 1.47600519828 17.7120623793 inf 602.705756103\n",
      "97 99 736 748 acc0 -19.7118141376 0.787547506051 9.45057007261 inf 602.705756103\n",
      "97 99 736 748 accP -19.5507741735 0.778367922165 9.34041506598 inf 602.705756103\n",
      "97 99 736 748 accN -18.1387620158 0.473594053492 5.6831286419 inf 602.705756103\n",
      "i 98\n",
      "98 99 739 748 c0 -26.333989067 4.11917436021 37.0725692419 inf 602.705756103\n",
      "98 99 739 748 cP -20.4870509628 2.02841752342 18.2557577108 inf 602.705756103\n",
      "98 99 739 748 cN -19.4864625415 1.17261372835 10.5535235552 inf 602.705756103\n",
      "98 99 739 748 acc0 -21.4409666536 1.56501422618 14.0851280356 inf 602.705756103\n",
      "98 99 739 748 accP -12.8473077544 0.531539090714 4.78385181643 inf 602.705756103\n",
      "98 99 739 748 accN -17.3037099934 0.54325462753 4.88929164777 inf 602.705756103\n"
     ]
    },
    {
     "data": {
      "text/plain": [
       "[None,\n",
       " (0,\n",
       "  1,\n",
       "  0,\n",
       "  58,\n",
       "  'c0',\n",
       "                  mean             sd       mc_error        hpd_2.5  \\\n",
       "  y_err  7.594985e-155  1.404593e-156  9.486394e-158  7.459683e-155   \n",
       "  \n",
       "              hpd_97.5  \n",
       "  y_err  7.895022e-155  ,\n",
       "  4.4050913759413783e-153),\n",
       " (0,\n",
       "  2,\n",
       "  0,\n",
       "  59,\n",
       "  'c0',\n",
       "                  mean             sd       mc_error        hpd_2.5  \\\n",
       "  y_err  7.598780e-155  1.372390e-156  1.180556e-157  7.458527e-155   \n",
       "  \n",
       "              hpd_97.5  \n",
       "  y_err  7.852629e-155  ,\n",
       "  4.4832800050722365e-153),\n",
       " (2, 3, 59, 85, 'accN',            mean        sd  mc_error   hpd_2.5  hpd_97.5\n",
       "  y_N   -4.117118  0.145270  0.013346 -4.383433 -3.786778\n",
       "  y_acc  0.135813  0.010327  0.000940  0.113873  0.154039\n",
       "  y_err  0.395798  0.059427  0.004200  0.309899  0.523708, 10.290744193676378),\n",
       " (1, 4, 58, 86, 'accN',            mean        sd  mc_error   hpd_2.5  hpd_97.5\n",
       "  y_N   -3.668749  0.348044  0.030722 -4.312462 -2.951998\n",
       "  y_acc  0.106826  0.022318  0.002021  0.064634  0.145917\n",
       "  y_err  0.904266  0.134251  0.010397  0.655529  1.179016, 25.31945336642201),\n",
       " (3,\n",
       "  5,\n",
       "  85,\n",
       "  113,\n",
       "  'accN',\n",
       "             mean        sd  mc_error   hpd_2.5  hpd_97.5\n",
       "  y_N    3.166997  0.713933  0.061055  1.700673  4.500503\n",
       "  y_acc -0.067262  0.043109  0.003851 -0.158837  0.009898\n",
       "  y_err  1.873956  0.259127  0.018537  1.423468  2.394358,\n",
       "  52.470758616280676),\n",
       " (3,\n",
       "  6,\n",
       "  85,\n",
       "  114,\n",
       "  'accN',\n",
       "             mean        sd  mc_error   hpd_2.5  hpd_97.5\n",
       "  y_N    3.237602  0.724007  0.067123  2.023384  4.594541\n",
       "  y_acc -0.076242  0.043058  0.004163 -0.162678  0.000563\n",
       "  y_err  1.864428  0.302436  0.021540  1.325434  2.334101,\n",
       "  54.068424422763826),\n",
       " (6,\n",
       "  7,\n",
       "  114,\n",
       "  145,\n",
       "  'accN',\n",
       "             mean        sd  mc_error   hpd_2.5  hpd_97.5\n",
       "  y_N   -4.048077  0.148978  0.013168 -4.310490 -3.771128\n",
       "  y_acc  0.119729  0.008749  0.000783  0.103381  0.137044\n",
       "  y_err  0.423274  0.054416  0.004143  0.331663  0.541893,\n",
       "  13.121496871340417),\n",
       " (6,\n",
       "  8,\n",
       "  114,\n",
       "  146,\n",
       "  'accN',\n",
       "             mean        sd  mc_error   hpd_2.5  hpd_97.5\n",
       "  y_N   -4.037293  0.160886  0.015191 -4.330500 -3.733667\n",
       "  y_acc  0.119797  0.008313  0.000765  0.101689  0.133756\n",
       "  y_err  0.427120  0.061865  0.004495  0.314106  0.536014,\n",
       "  13.667827796739999),\n",
       " (8, 9, 146, 173, 'cN',            mean        sd  mc_error   hpd_2.5  hpd_97.5\n",
       "  y_N    2.600448  0.366129  0.026874  1.927374  3.349403\n",
       "  y_err  1.825646  0.248895  0.018995  1.370083  2.224589, 49.292449749838674),\n",
       " None,\n",
       " (9,\n",
       "  11,\n",
       "  173,\n",
       "  192,\n",
       "  'accN',\n",
       "             mean        sd  mc_error   hpd_2.5  hpd_97.5\n",
       "  y_N   -3.711868  0.577105  0.051322 -4.847318 -2.663305\n",
       "  y_acc  0.126198  0.055064  0.005032  0.019407  0.220429\n",
       "  y_err  1.232357  0.219273  0.016469  0.890464  1.741891,\n",
       "  23.414774026287255),\n",
       " None,\n",
       " (11,\n",
       "  13,\n",
       "  192,\n",
       "  214,\n",
       "  'cN',\n",
       "             mean        sd  mc_error   hpd_2.5  hpd_97.5\n",
       "  y_N    2.201922  0.413342  0.028229  1.382638  2.937323\n",
       "  y_err  1.934642  0.327398  0.023138  1.485876  2.635938,\n",
       "  42.562113570362506),\n",
       " None,\n",
       " (13,\n",
       "  15,\n",
       "  214,\n",
       "  230,\n",
       "  'accN',\n",
       "             mean        sd  mc_error   hpd_2.5  hpd_97.5\n",
       "  y_N   -3.690284  0.585421  0.046842 -4.712676 -2.378834\n",
       "  y_acc  0.148434  0.060639  0.005227  0.035473  0.268364\n",
       "  y_err  1.373705  0.322391  0.022927  0.914479  2.077488,\n",
       "  21.979279292555344),\n",
       " None,\n",
       " (15,\n",
       "  17,\n",
       "  230,\n",
       "  255,\n",
       "  'accN',\n",
       "             mean        sd  mc_error   hpd_2.5  hpd_97.5\n",
       "  y_N    2.583398  0.648790  0.060435  1.516033  3.950190\n",
       "  y_acc -0.081667  0.048695  0.004345 -0.170546  0.003941\n",
       "  y_err  1.708169  0.286963  0.019470  1.169268  2.255184,\n",
       "  42.704237318090357),\n",
       " (15,\n",
       "  18,\n",
       "  230,\n",
       "  256,\n",
       "  'accN',\n",
       "             mean        sd  mc_error   hpd_2.5  hpd_97.5\n",
       "  y_N    2.800099  0.660035  0.059647  1.728065  4.153417\n",
       "  y_acc -0.097792  0.043497  0.003742 -0.163569 -0.007078\n",
       "  y_err  1.729156  0.260962  0.018671  1.256574  2.204952,\n",
       "  44.958052877475538),\n",
       " (18,\n",
       "  19,\n",
       "  256,\n",
       "  271,\n",
       "  'accN',\n",
       "             mean        sd  mc_error   hpd_2.5  hpd_97.5\n",
       "  y_N   -4.539678  0.328735  0.028953 -5.109086 -3.918273\n",
       "  y_acc  0.257612  0.037992  0.003338  0.183478  0.322736\n",
       "  y_err  0.646255  0.143200  0.010071  0.398999  0.903088,\n",
       "  9.6938252922763901),\n",
       " (18,\n",
       "  20,\n",
       "  256,\n",
       "  272,\n",
       "  'accN',\n",
       "             mean        sd  mc_error   hpd_2.5  hpd_97.5\n",
       "  y_N   -4.561700  0.288238  0.024705 -5.118210 -4.032390\n",
       "  y_acc  0.266867  0.032216  0.002712  0.210503  0.340789\n",
       "  y_err  0.626340  0.127385  0.009892  0.407046  0.874174,\n",
       "  10.021446674766922),\n",
       " (19,\n",
       "  21,\n",
       "  271,\n",
       "  278,\n",
       "  'acc0',\n",
       "             mean        sd  mc_error   hpd_2.5  hpd_97.5\n",
       "  y_acc  0.467248  0.055456  0.004154  0.376088  0.558558\n",
       "  y_err  0.427484  0.206345  0.017063  0.222526  0.749142,\n",
       "  2.9923887126102304),\n",
       " (19,\n",
       "  22,\n",
       "  271,\n",
       "  282,\n",
       "  'acc0',\n",
       "             mean        sd  mc_error   hpd_2.5  hpd_97.5\n",
       "  y_acc  0.443877  0.019331  0.001365  0.401829  0.479438\n",
       "  y_err  0.366179  0.100110  0.008207  0.199634  0.582288,\n",
       "  4.0279707447111948),\n",
       " (22,\n",
       "  23,\n",
       "  282,\n",
       "  293,\n",
       "  'accP',\n",
       "             mean        sd  mc_error   hpd_2.5  hpd_97.5\n",
       "  y_acc -0.510357  0.068407  0.004206 -0.625363 -0.363634\n",
       "  y_err  1.262650  0.335635  0.022131  0.787915  1.896011,\n",
       "  13.889149595280067),\n",
       " (22,\n",
       "  24,\n",
       "  282,\n",
       "  294,\n",
       "  'accP',\n",
       "             mean        sd  mc_error   hpd_2.5  hpd_97.5\n",
       "  y_acc -0.471199  0.062389  0.004786 -0.586152 -0.341513\n",
       "  y_err  1.328076  0.348294  0.026160  0.753165  2.008375,\n",
       "  15.936915772391938),\n",
       " (24,\n",
       "  25,\n",
       "  294,\n",
       "  303,\n",
       "  'accN',\n",
       "             mean        sd  mc_error   hpd_2.5  hpd_97.5\n",
       "  y_N   -4.076254  0.260241  0.021623 -4.449516 -3.433564\n",
       "  y_acc  0.137351  0.052826  0.004383  0.034524  0.246036\n",
       "  y_err  0.430153  0.152914  0.011669  0.232588  0.709330,\n",
       "  3.8713761841278052),\n",
       " (25,\n",
       "  26,\n",
       "  303,\n",
       "  309,\n",
       "  'accP',\n",
       "             mean        sd  mc_error   hpd_2.5  hpd_97.5\n",
       "  y_acc  0.545235  0.148599  0.012091  0.261755  0.832979\n",
       "  y_err  0.974745  0.428306  0.034885  0.428348  1.932329,\n",
       "  5.8484722011806545),\n",
       " (25,\n",
       "  27,\n",
       "  303,\n",
       "  310,\n",
       "  'accP',\n",
       "             mean        sd  mc_error   hpd_2.5  hpd_97.5\n",
       "  y_acc  0.524918  0.091506  0.007144  0.332298  0.667479\n",
       "  y_err  0.836068  0.314591  0.025933  0.361693  1.386513,\n",
       "  5.8524790835753944),\n",
       " (27,\n",
       "  28,\n",
       "  310,\n",
       "  327,\n",
       "  'cN',\n",
       "             mean        sd  mc_error   hpd_2.5  hpd_97.5\n",
       "  y_N    2.412713  0.421492  0.031156  1.683366  3.299685\n",
       "  y_err  1.736256  0.331004  0.021540  1.196355  2.364596,\n",
       "  29.516353792739263),\n",
       " None,\n",
       " None,\n",
       " None,\n",
       " (28,\n",
       "  32,\n",
       "  327,\n",
       "  345,\n",
       "  'accN',\n",
       "             mean        sd  mc_error   hpd_2.5  hpd_97.5\n",
       "  y_N   -3.661228  0.534819  0.047384 -4.753512 -2.629719\n",
       "  y_acc  0.139457  0.052846  0.004457  0.050028  0.255225\n",
       "  y_err  1.243072  0.232879  0.017930  0.857699  1.749288,\n",
       "  22.375288175578127),\n",
       " None,\n",
       " (32,\n",
       "  34,\n",
       "  345,\n",
       "  352,\n",
       "  'accP',\n",
       "             mean        sd  mc_error   hpd_2.5  hpd_97.5\n",
       "  y_acc  0.485111  0.083317  0.005856  0.358131  0.696266\n",
       "  y_err  0.690220  0.291417  0.020104  0.348626  1.310706,\n",
       "  4.8315401916236942),\n",
       " (34,\n",
       "  35,\n",
       "  352,\n",
       "  366,\n",
       "  'accN',\n",
       "             mean        sd  mc_error   hpd_2.5  hpd_97.5\n",
       "  y_N    5.159332  0.650214  0.055050  4.017141  6.498125\n",
       "  y_acc -0.419849  0.088066  0.007493 -0.583346 -0.249394\n",
       "  y_err  1.277198  0.305428  0.022956  0.791639  1.878944,\n",
       "  17.880769216781015),\n",
       " (34,\n",
       "  36,\n",
       "  352,\n",
       "  367,\n",
       "  'accN',\n",
       "             mean        sd  mc_error   hpd_2.5  hpd_97.5\n",
       "  y_N    4.908771  0.583728  0.050512  3.800554  5.929583\n",
       "  y_acc -0.380719  0.073892  0.006244 -0.531360 -0.256048\n",
       "  y_err  1.249686  0.272739  0.021662  0.812632  1.750808,\n",
       "  18.745294148095272),\n",
       " (36,\n",
       "  37,\n",
       "  367,\n",
       "  383,\n",
       "  'accN',\n",
       "             mean        sd  mc_error   hpd_2.5  hpd_97.5\n",
       "  y_N   -4.140248  0.169713  0.014859 -4.417327 -3.804453\n",
       "  y_acc  0.143075  0.020453  0.001782  0.104602  0.183335\n",
       "  y_err  0.390228  0.079977  0.006321  0.247993  0.541396,\n",
       "  6.243653327789338),\n",
       " (36,\n",
       "  38,\n",
       "  367,\n",
       "  384,\n",
       "  'accN',\n",
       "             mean        sd  mc_error   hpd_2.5  hpd_97.5\n",
       "  y_N   -4.130680  0.191412  0.016804 -4.547403 -3.788577\n",
       "  y_acc  0.141288  0.020517  0.001853  0.103724  0.188393\n",
       "  y_err  0.371431  0.076366  0.005157  0.245957  0.544915,\n",
       "  6.3143201037371588),\n",
       " (36,\n",
       "  39,\n",
       "  367,\n",
       "  391,\n",
       "  'accN',\n",
       "             mean        sd  mc_error   hpd_2.5  hpd_97.5\n",
       "  y_N   -4.243165  0.164512  0.014336 -4.569922 -3.925956\n",
       "  y_acc  0.149629  0.012197  0.001068  0.126076  0.175413\n",
       "  y_err  0.403105  0.070122  0.005214  0.283296  0.542325,\n",
       "  9.6745261683707291),\n",
       " (38,\n",
       "  40,\n",
       "  384,\n",
       "  392,\n",
       "  'accN',\n",
       "             mean        sd  mc_error   hpd_2.5  hpd_97.5\n",
       "  y_N   -2.227753  0.296571  0.025573 -2.747435 -1.653116\n",
       "  y_acc  0.320319  0.069398  0.005716  0.193183  0.465742\n",
       "  y_err  0.393895  0.154777  0.011844  0.183670  0.705712,\n",
       "  3.151159105928222),\n",
       " (38,\n",
       "  41,\n",
       "  384,\n",
       "  395,\n",
       "  'accN',\n",
       "             mean        sd  mc_error   hpd_2.5  hpd_97.5\n",
       "  y_N   -2.437562  0.264679  0.024442 -2.922068 -1.919889\n",
       "  y_acc  0.397045  0.043939  0.004035  0.308729  0.479433\n",
       "  y_err  0.413743  0.122097  0.009162  0.248364  0.632083,\n",
       "  4.5511698223355701),\n",
       " (41,\n",
       "  42,\n",
       "  395,\n",
       "  413,\n",
       "  'accN',\n",
       "             mean        sd  mc_error   hpd_2.5  hpd_97.5\n",
       "  y_N    3.867613  0.819177  0.074014  2.588806  5.660406\n",
       "  y_acc -0.090359  0.082289  0.007417 -0.218923  0.094427\n",
       "  y_err  1.772425  0.351868  0.027437  1.174249  2.491461,\n",
       "  31.903650683440866),\n",
       " (41,\n",
       "  43,\n",
       "  395,\n",
       "  416,\n",
       "  'accN',\n",
       "             mean        sd  mc_error   hpd_2.5  hpd_97.5\n",
       "  y_N    4.223350  0.718455  0.065168  2.925587  5.634478\n",
       "  y_acc -0.159452  0.064493  0.005733 -0.304649 -0.051055\n",
       "  y_err  1.744345  0.316897  0.022187  1.233410  2.295829,\n",
       "  36.631241648363464),\n",
       " (41,\n",
       "  44,\n",
       "  395,\n",
       "  417,\n",
       "  'accN',\n",
       "             mean        sd  mc_error   hpd_2.5  hpd_97.5\n",
       "  y_N    4.311027  0.739031  0.069092  2.749910  5.614769\n",
       "  y_acc -0.171503  0.061807  0.005788 -0.287394 -0.053584\n",
       "  y_err  1.672969  0.317158  0.023469  1.198091  2.305475,\n",
       "  36.805311981397196),\n",
       " (44,\n",
       "  45,\n",
       "  417,\n",
       "  435,\n",
       "  'accN',\n",
       "             mean        sd  mc_error   hpd_2.5  hpd_97.5\n",
       "  y_N   -4.385867  0.276811  0.023637 -4.882880 -3.849650\n",
       "  y_acc  0.195812  0.028428  0.002324  0.142084  0.244385\n",
       "  y_err  0.590107  0.115475  0.008774  0.409696  0.814003,\n",
       "  10.621933856844764),\n",
       " (44,\n",
       "  46,\n",
       "  417,\n",
       "  436,\n",
       "  'accN',\n",
       "             mean        sd  mc_error   hpd_2.5  hpd_97.5\n",
       "  y_N   -4.450142  0.269011  0.022472 -4.999727 -3.936895\n",
       "  y_acc  0.207783  0.024960  0.002070  0.164512  0.256045\n",
       "  y_err  0.601482  0.120108  0.009375  0.425360  0.842961,\n",
       "  11.428159552595982),\n",
       " (45,\n",
       "  47,\n",
       "  435,\n",
       "  444,\n",
       "  'acc0',\n",
       "             mean        sd  mc_error   hpd_2.5  hpd_97.5\n",
       "  y_acc  0.455324  0.055333  0.003622  0.345443  0.555046\n",
       "  y_err  0.692584  0.216286  0.016065  0.378086  1.109040,\n",
       "  6.2332598800175889),\n",
       " (47,\n",
       "  48,\n",
       "  444,\n",
       "  452,\n",
       "  'accN',\n",
       "             mean        sd  mc_error   hpd_2.5  hpd_97.5\n",
       "  y_N    4.453070  0.735193  0.060105  2.980399  5.872240\n",
       "  y_acc -0.130443  0.174082  0.014688 -0.452174  0.237777\n",
       "  y_err  1.150180  0.368741  0.027439  0.619362  1.891419,\n",
       "  9.2014435889039081),\n",
       " None,\n",
       " None,\n",
       " (48,\n",
       "  51,\n",
       "  452,\n",
       "  468,\n",
       "  'c0',\n",
       "                  mean             sd       mc_error        hpd_2.5  \\\n",
       "  y_err  8.146933e-155  6.264092e-156  4.558569e-157  7.458775e-155   \n",
       "  \n",
       "              hpd_97.5  \n",
       "  y_err  9.436866e-155  ,\n",
       "  1.30350929614004e-153),\n",
       " (48,\n",
       "  52,\n",
       "  452,\n",
       "  469,\n",
       "  'c0',\n",
       "                  mean             sd       mc_error        hpd_2.5  \\\n",
       "  y_err  7.934584e-155  4.550119e-156  3.192332e-157  7.458659e-155   \n",
       "  \n",
       "              hpd_97.5  \n",
       "  y_err  8.893580e-155  ,\n",
       "  1.3488792818508166e-153),\n",
       " (52,\n",
       "  53,\n",
       "  469,\n",
       "  482,\n",
       "  'accN',\n",
       "             mean        sd  mc_error   hpd_2.5  hpd_97.5\n",
       "  y_N   -4.112661  0.229376  0.020321 -4.521174 -3.649932\n",
       "  y_acc  0.133923  0.033061  0.003012  0.073280  0.199220\n",
       "  y_err  0.429892  0.100517  0.007512  0.259586  0.619893,\n",
       "  5.5885915366787504),\n",
       " (52,\n",
       "  54,\n",
       "  469,\n",
       "  485,\n",
       "  'accN',\n",
       "             mean        sd  mc_error   hpd_2.5  hpd_97.5\n",
       "  y_N   -4.117517  0.191066  0.017804 -4.436484 -3.712435\n",
       "  y_acc  0.142330  0.021945  0.001961  0.100844  0.180936\n",
       "  y_err  0.390344  0.088599  0.006879  0.250517  0.557686,\n",
       "  6.2454999410222252),\n",
       " (52,\n",
       "  55,\n",
       "  469,\n",
       "  493,\n",
       "  'accN',\n",
       "             mean        sd  mc_error   hpd_2.5  hpd_97.5\n",
       "  y_N   -4.066619  0.148217  0.012186 -4.388798 -3.797650\n",
       "  y_acc  0.128934  0.010632  0.000884  0.109013  0.148213\n",
       "  y_err  0.375901  0.061733  0.003835  0.271353  0.500901,\n",
       "  9.0216357908531926),\n",
       " None,\n",
       " None,\n",
       " (55,\n",
       "  58,\n",
       "  493,\n",
       "  514,\n",
       "  'accN',\n",
       "             mean        sd  mc_error   hpd_2.5  hpd_97.5\n",
       "  y_N    0.798913  0.358284  0.030484  0.154897  1.456938\n",
       "  y_acc  0.216860  0.030154  0.002533  0.156368  0.278864\n",
       "  y_err  0.884672  0.165817  0.011660  0.616176  1.221436,\n",
       "  18.578115531853221),\n",
       " None,\n",
       " (58,\n",
       "  60,\n",
       "  514,\n",
       "  526,\n",
       "  'c0',\n",
       "                  mean             sd       mc_error        hpd_2.5  \\\n",
       "  y_err  8.210898e-155  8.969397e-156  7.711575e-157  7.458517e-155   \n",
       "  \n",
       "              hpd_97.5  \n",
       "  y_err  9.894396e-155  ,\n",
       "  9.8530776207371956e-154),\n",
       " (58,\n",
       "  61,\n",
       "  514,\n",
       "  532,\n",
       "  'c0',\n",
       "                  mean             sd       mc_error        hpd_2.5  \\\n",
       "  y_err  7.896272e-155  4.279325e-156  2.745667e-157  7.461124e-155   \n",
       "  \n",
       "              hpd_97.5  \n",
       "  y_err  8.806886e-155  ,\n",
       "  1.4213290361905306e-153),\n",
       " (58,\n",
       "  62,\n",
       "  514,\n",
       "  534,\n",
       "  'c0',\n",
       "                  mean             sd       mc_error        hpd_2.5  \\\n",
       "  y_err  7.861361e-155  4.676086e-156  3.518928e-157  7.462578e-155   \n",
       "  \n",
       "              hpd_97.5  \n",
       "  y_err  8.808054e-155  ,\n",
       "  1.5722722155598874e-153),\n",
       " (58,\n",
       "  63,\n",
       "  514,\n",
       "  560,\n",
       "  'c0',\n",
       "                  mean             sd       mc_error        hpd_2.5  \\\n",
       "  y_err  7.613555e-155  1.609525e-156  1.279951e-157  7.458834e-155   \n",
       "  \n",
       "              hpd_97.5  \n",
       "  y_err  7.965024e-155  ,\n",
       "  3.5022354778639944e-153),\n",
       " (58,\n",
       "  64,\n",
       "  514,\n",
       "  561,\n",
       "  'c0',\n",
       "                  mean             sd       mc_error        hpd_2.5  \\\n",
       "  y_err  7.617072e-155  1.458981e-156  1.144052e-157  7.458498e-155   \n",
       "  \n",
       "              hpd_97.5  \n",
       "  y_err  7.890529e-155  ,\n",
       "  3.5800237009105002e-153),\n",
       " None,\n",
       " (64,\n",
       "  66,\n",
       "  561,\n",
       "  572,\n",
       "  'accN',\n",
       "             mean        sd  mc_error   hpd_2.5  hpd_97.5\n",
       "  y_N   -4.088340  0.234648  0.020872 -4.523732 -3.675347\n",
       "  y_acc  0.126826  0.038726  0.003496  0.049461  0.196937\n",
       "  y_err  0.390557  0.116298  0.008269  0.207452  0.609389,\n",
       "  4.2961308135665996),\n",
       " (64,\n",
       "  67,\n",
       "  561,\n",
       "  586,\n",
       "  'accN',\n",
       "             mean        sd  mc_error   hpd_2.5  hpd_97.5\n",
       "  y_N   -4.053165  0.177061  0.015124 -4.415476 -3.723247\n",
       "  y_acc  0.128572  0.012232  0.001045  0.105332  0.152407\n",
       "  y_err  0.378638  0.064496  0.004990  0.262793  0.511340,\n",
       "  9.4659613410809982),\n",
       " (64,\n",
       "  68,\n",
       "  561,\n",
       "  594,\n",
       "  'accN',\n",
       "             mean        sd  mc_error   hpd_2.5  hpd_97.5\n",
       "  y_N   -4.062036  0.117218  0.010427 -4.279924 -3.835468\n",
       "  y_acc  0.128957  0.006760  0.000599  0.117747  0.142429\n",
       "  y_err  0.358436  0.048477  0.003498  0.275923  0.448598,\n",
       "  11.828401375925125),\n",
       " (64,\n",
       "  69,\n",
       "  561,\n",
       "  595,\n",
       "  'accN',\n",
       "             mean        sd  mc_error   hpd_2.5  hpd_97.5\n",
       "  y_N   -4.062853  0.113858  0.009356 -4.281554 -3.864815\n",
       "  y_acc  0.129143  0.005998  0.000473  0.117608  0.139681\n",
       "  y_err  0.355025  0.048857  0.003212  0.259922  0.439879,\n",
       "  12.070850937368544),\n",
       " (67,\n",
       "  70,\n",
       "  586,\n",
       "  598,\n",
       "  'accP',\n",
       "             mean        sd  mc_error   hpd_2.5  hpd_97.5\n",
       "  y_acc  0.203605  0.021867  0.001450  0.158728  0.243485\n",
       "  y_err  0.492078  0.117798  0.007633  0.303583  0.699460,\n",
       "  5.9049322527547146),\n",
       " (68,\n",
       "  71,\n",
       "  594,\n",
       "  602,\n",
       "  'accN',\n",
       "             mean        sd  mc_error   hpd_2.5  hpd_97.5\n",
       "  y_N    0.331581  0.289857  0.023513 -0.256294  0.858610\n",
       "  y_acc  0.444865  0.068082  0.005415  0.314213  0.561446\n",
       "  y_err  0.429573  0.140270  0.010329  0.209679  0.686246,\n",
       "  3.4365812982806583),\n",
       " (68,\n",
       "  72,\n",
       "  594,\n",
       "  605,\n",
       "  'accN',\n",
       "             mean        sd  mc_error   hpd_2.5  hpd_97.5\n",
       "  y_N    0.433418  0.267686  0.024580 -0.059905  1.022816\n",
       "  y_acc  0.425435  0.046986  0.004217  0.348736  0.531283\n",
       "  y_err  0.521205  0.137114  0.010010  0.294569  0.781114,\n",
       "  5.7332549890853546),\n",
       " (71,\n",
       "  73,\n",
       "  602,\n",
       "  608,\n",
       "  'cN',\n",
       "             mean        sd  mc_error   hpd_2.5  hpd_97.5\n",
       "  y_N    4.212891  0.291057  0.024220  3.584105   4.69228\n",
       "  y_err  0.595377  0.350935  0.026489  0.251120   1.23538,\n",
       "  3.5722631556079465),\n",
       " (71,\n",
       "  74,\n",
       "  602,\n",
       "  614,\n",
       "  'cN',\n",
       "             mean        sd  mc_error   hpd_2.5  hpd_97.5\n",
       "  y_N    4.261231  0.166341  0.012524  3.905852  4.555784\n",
       "  y_err  0.521280  0.125554  0.008895  0.299632  0.746616,\n",
       "  6.2553623985857953),\n",
       " (74,\n",
       "  75,\n",
       "  614,\n",
       "  629,\n",
       "  'c0',\n",
       "                  mean             sd       mc_error        hpd_2.5  \\\n",
       "  y_err  7.966269e-155  5.096483e-156  4.077018e-157  7.461313e-155   \n",
       "  \n",
       "              hpd_97.5  \n",
       "  y_err  9.018990e-155  ,\n",
       "  1.1949404054559763e-153),\n",
       " (74,\n",
       "  76,\n",
       "  614,\n",
       "  630,\n",
       "  'c0',\n",
       "                  mean             sd       mc_error        hpd_2.5  \\\n",
       "  y_err  8.000044e-155  5.832638e-156  4.012100e-157  7.466813e-155   \n",
       "  \n",
       "              hpd_97.5  \n",
       "  y_err  9.069478e-155  ,\n",
       "  1.2800070686281603e-153),\n",
       " None,\n",
       " (76,\n",
       "  78,\n",
       "  630,\n",
       "  637,\n",
       "  'accN',\n",
       "             mean        sd  mc_error   hpd_2.5  hpd_97.5\n",
       "  y_N   -4.171333  0.466019  0.038794 -5.016229 -3.215891\n",
       "  y_acc  0.149554  0.130248  0.010973 -0.109498  0.346602\n",
       "  y_err  0.556370  0.275775  0.022076  0.249502  0.980378,\n",
       "  3.8945931604181601),\n",
       " (76,\n",
       "  79,\n",
       "  630,\n",
       "  657,\n",
       "  'accN',\n",
       "             mean        sd  mc_error   hpd_2.5  hpd_97.5\n",
       "  y_N   -4.062370  0.153381  0.013465 -4.335836 -3.733391\n",
       "  y_acc  0.126840  0.010180  0.000894  0.106585  0.144652\n",
       "  y_err  0.359511  0.051843  0.003323  0.263006  0.460503,\n",
       "  9.7067861705055236),\n",
       " (75,\n",
       "  80,\n",
       "  629,\n",
       "  659,\n",
       "  'accN',\n",
       "             mean        sd  mc_error   hpd_2.5  hpd_97.5\n",
       "  y_N   -3.691605  0.322815  0.029407 -4.357043 -3.093676\n",
       "  y_acc  0.105022  0.019342  0.001720  0.065372  0.141274\n",
       "  y_err  0.847941  0.122918  0.009377  0.649615  1.090525,\n",
       "  25.438234029439524),\n",
       " (75,\n",
       "  81,\n",
       "  629,\n",
       "  660,\n",
       "  'accN',\n",
       "             mean        sd  mc_error   hpd_2.5  hpd_97.5\n",
       "  y_N   -3.779224  0.277347  0.025957 -4.397516 -3.300484\n",
       "  y_acc  0.111457  0.016781  0.001592  0.076029  0.141034\n",
       "  y_err  0.853156  0.117072  0.008835  0.624927  1.081330,\n",
       "  26.447832303981304),\n",
       " (79,\n",
       "  82,\n",
       "  657,\n",
       "  677,\n",
       "  'acc0',\n",
       "             mean        sd  mc_error   hpd_2.5  hpd_97.5\n",
       "  y_acc  0.288283  0.013613  0.001023  0.258104  0.309714\n",
       "  y_err  0.678771  0.108934  0.007564  0.501027  0.908731,\n",
       "  13.57541119767725),\n",
       " None,\n",
       " (82,\n",
       "  84,\n",
       "  677,\n",
       "  686,\n",
       "  'cN',\n",
       "             mean        sd  mc_error   hpd_2.5  hpd_97.5\n",
       "  y_N   -1.450893  1.005742  0.069884 -3.196051  0.589529\n",
       "  y_err  2.732798  0.886517  0.065220  1.398699  4.467721,\n",
       "  24.595183818643122),\n",
       " (82,\n",
       "  85,\n",
       "  677,\n",
       "  687,\n",
       "  'cN',\n",
       "             mean        sd  mc_error   hpd_2.5  hpd_97.5\n",
       "  y_N   -1.338421  0.850687   0.06087 -2.836049  0.488641\n",
       "  y_err  2.596738  0.764936   0.05352  1.413056  3.829766,\n",
       "  25.967375670580651),\n",
       " (84,\n",
       "  86,\n",
       "  686,\n",
       "  697,\n",
       "  'acc0',\n",
       "             mean        sd  mc_error   hpd_2.5  hpd_97.5\n",
       "  y_acc  0.393754  0.035584  0.002345  0.330994  0.467250\n",
       "  y_err  0.667999  0.169293  0.011055  0.397784  1.007315,\n",
       "  7.3479874800264104),\n",
       " (82,\n",
       "  87,\n",
       "  677,\n",
       "  699,\n",
       "  'accN',\n",
       "             mean        sd  mc_error   hpd_2.5  hpd_97.5\n",
       "  y_N   -2.018396  0.845804  0.072560 -3.606279 -0.418148\n",
       "  y_acc  0.230818  0.070409  0.006136  0.079877  0.360060\n",
       "  y_err  2.075595  0.350797  0.027260  1.479487  2.763215,\n",
       "  45.663096061158491),\n",
       " (86,\n",
       "  88,\n",
       "  697,\n",
       "  704,\n",
       "  'c0',\n",
       "                  mean             sd       mc_error        hpd_2.5  \\\n",
       "  y_err  8.814533e-155  1.719546e-155  1.146782e-156  7.473833e-155   \n",
       "  \n",
       "              hpd_97.5  \n",
       "  y_err  1.206841e-154  ,\n",
       "  6.1701734339842946e-154),\n",
       " (86,\n",
       "  89,\n",
       "  697,\n",
       "  709,\n",
       "  'c0',\n",
       "                  mean             sd       mc_error        hpd_2.5  \\\n",
       "  y_err  8.309586e-155  1.024505e-155  8.161861e-157  7.466504e-155   \n",
       "  \n",
       "              hpd_97.5  \n",
       "  y_err  1.054606e-154  ,\n",
       "  9.9715035428556608e-154),\n",
       " (86,\n",
       "  90,\n",
       "  697,\n",
       "  712,\n",
       "  'c0',\n",
       "                  mean             sd       mc_error        hpd_2.5  \\\n",
       "  y_err  8.010801e-155  6.177053e-156  4.780818e-157  7.468467e-155   \n",
       "  \n",
       "              hpd_97.5  \n",
       "  y_err  9.167189e-155  ,\n",
       "  1.2016201462873861e-153),\n",
       " (86,\n",
       "  91,\n",
       "  697,\n",
       "  718,\n",
       "  'c0',\n",
       "                  mean             sd       mc_error        hpd_2.5  \\\n",
       "  y_err  7.888440e-155  4.189927e-156  3.107424e-157  7.458450e-155   \n",
       "  \n",
       "              hpd_97.5  \n",
       "  y_err  8.728895e-155  ,\n",
       "  1.6565722975821201e-153),\n",
       " (86,\n",
       "  92,\n",
       "  697,\n",
       "  721,\n",
       "  'c0',\n",
       "                  mean             sd       mc_error        hpd_2.5  \\\n",
       "  y_err  7.780156e-155  3.637345e-156  2.372273e-157  7.458493e-155   \n",
       "  \n",
       "              hpd_97.5  \n",
       "  y_err  8.390819e-155  ,\n",
       "  1.8672375069456582e-153),\n",
       " (86,\n",
       "  93,\n",
       "  697,\n",
       "  724,\n",
       "  'c0',\n",
       "                  mean             sd       mc_error        hpd_2.5  \\\n",
       "  y_err  7.788707e-155  3.381725e-156  2.442538e-157  7.465160e-155   \n",
       "  \n",
       "              hpd_97.5  \n",
       "  y_err  8.447758e-155  ,\n",
       "  2.1029508530389101e-153),\n",
       " (86,\n",
       "  94,\n",
       "  697,\n",
       "  725,\n",
       "  'c0',\n",
       "                  mean             sd       mc_error        hpd_2.5  \\\n",
       "  y_err  7.758276e-155  3.054334e-156  2.135919e-157  7.459210e-155   \n",
       "  \n",
       "              hpd_97.5  \n",
       "  y_err  8.415340e-155  ,\n",
       "  2.1723173845707297e-153),\n",
       " (92,\n",
       "  95,\n",
       "  721,\n",
       "  728,\n",
       "  'accP',\n",
       "             mean        sd  mc_error   hpd_2.5  hpd_97.5\n",
       "  y_acc -0.647723  0.186479  0.012919 -0.978553 -0.260041\n",
       "  y_err  1.503809  0.613037  0.040281  0.613680  2.687211,\n",
       "  10.526665244229779),\n",
       " (94,\n",
       "  96,\n",
       "  725,\n",
       "  735,\n",
       "  'accN',\n",
       "             mean        sd  mc_error   hpd_2.5  hpd_97.5\n",
       "  y_N   -4.142227  0.217201  0.017991 -4.565431 -3.677788\n",
       "  y_acc  0.142176  0.039876  0.003397  0.047172  0.208622\n",
       "  y_err  0.408548  0.134388  0.010513  0.202834  0.647492,\n",
       "  4.0854780579865686),\n",
       " None,\n",
       " None,\n",
       " (96,\n",
       "  99,\n",
       "  735,\n",
       "  748,\n",
       "  'accN',\n",
       "             mean        sd  mc_error   hpd_2.5  hpd_97.5\n",
       "  y_N    0.473913  0.229435  0.019760  0.007496  0.867976\n",
       "  y_acc  0.369539  0.030703  0.002538  0.296809  0.418868\n",
       "  y_err  0.497128  0.111822  0.008428  0.286152  0.695148,\n",
       "  6.4626644342464594)]"
      ]
     },
     "execution_count": 28,
     "metadata": {},
     "output_type": "execute_result"
    }
   ],
   "source": [
    "# What is the mode as of just before each switch-point, \n",
    "# and what is the accumulated cost of the approximation up to that point?\n",
    "modes = [(0,None)]*(len(all_times))\n",
    "\n",
    "#modes is offset from likes by 1\n",
    "\n",
    "ks = {\"c0\":1, \"cP\":1, \"cN\":2, \"acc0\":2, \"accP\":2, \"accN\":3}\n",
    "\n",
    "cost = 1\n",
    "\n",
    "# Takahashi Meijin constant, 60 frames / 16 inputs ~= 4 frames per input.\n",
    "# But note that in general transitions may happen more frequently due to collisions, etc.\n",
    "min_interval = 4 \n",
    "\n",
    "for j in range(1, len(all_times)):\n",
    "    least = float(\"inf\")\n",
    "    least_template = None\n",
    "    print \"j\",j\n",
    "    for i in range(0, j):\n",
    "        data = likes[i][j]\n",
    "        if not data:\n",
    "            continue\n",
    "        dt = data[3]-data[2]\n",
    "        if dt < min_interval:\n",
    "            print data[:4]\n",
    "            continue\n",
    "        the_templates = data[-1]\n",
    "        print \"i\",i\n",
    "        for tn,mod,trace in the_templates:\n",
    "            k = ks[tn]\n",
    "            summary = pm.df_summary(trace)\n",
    "            logp = np.mean([mod.logp(pt) for pt in trace])\n",
    "            # WAIC\n",
    "            #crit = -pm.stats.waic(model=mod,trace=trace)\n",
    "            # DIC\n",
    "            crit = pm.stats.dic(model=mod,trace=trace)\n",
    "            if np.abs(crit) > 1e5:\n",
    "                crit = float('inf')\n",
    "            # BPIC\n",
    "            #crit = pm.stats.bpic(model=mod,trace=trace)\n",
    "            # AICc\n",
    "            #crit = 2*k - 2 * logp + (2*(k+1)*(k+2))/(dt-k-2)\n",
    "            # BIC\n",
    "            #crit = math.log(dt)*k - 2 * logp\n",
    "            # max-likelihood\n",
    "            #crit = -logp\n",
    "            \n",
    "            #crit = math.log(dt) - logp\n",
    "            m_prev = modes[i][0]\n",
    "            # ??\n",
    "            crit = summary[\"mean\"][\"y_err\"]*dt\n",
    "            here = crit + m_prev + cost\n",
    "            print i,j,data[2],data[3],tn,logp,summary[\"mean\"][\"y_err\"],crit,here,least\n",
    "            if here < least:\n",
    "                print \"update least\",here\n",
    "                least = here\n",
    "                # prev_i,this_j,t0,t1,name,summary,criterion\n",
    "                least_template = (i,j,data[2],data[3],tn,summary,crit)\n",
    "    modes[j] = (least, least_template)\n",
    "\n",
    "map(lambda m:m[1],modes)"
   ]
  },
  {
   "cell_type": "code",
   "execution_count": 29,
   "metadata": {
    "collapsed": false,
    "scrolled": false
   },
   "outputs": [
    {
     "name": "stdout",
     "output_type": "stream",
     "text": [
      "0 1.0 \n",
      "(0, 2, 0, 59, 'c0',                 mean             sd       mc_error        hpd_2.5  \\\n",
      "y_err  7.598780e-155  1.372390e-156  1.180556e-157  7.458527e-155   \n",
      "\n",
      "            hpd_97.5  \n",
      "y_err  7.852629e-155  , 4.4832800050722365e-153) \n",
      "\n",
      "1 12.2907441937 \n",
      "(2, 3, 59, 85, 'accN',            mean        sd  mc_error   hpd_2.5  hpd_97.5\n",
      "y_N   -4.117118  0.145270  0.013346 -4.383433 -3.786778\n",
      "y_acc  0.135813  0.010327  0.000940  0.113873  0.154039\n",
      "y_err  0.395798  0.059427  0.004200  0.309899  0.523708, 10.290744193676378) \n",
      "\n",
      "2 67.3591686164 \n",
      "(3, 6, 85, 114, 'accN',            mean        sd  mc_error   hpd_2.5  hpd_97.5\n",
      "y_N    3.237602  0.724007  0.067123  2.023384  4.594541\n",
      "y_acc -0.076242  0.043058  0.004163 -0.162678  0.000563\n",
      "y_err  1.864428  0.302436  0.021540  1.325434  2.334101, 54.068424422763826) \n",
      "\n",
      "3 82.0269964132 \n",
      "(6, 8, 114, 146, 'accN',            mean        sd  mc_error   hpd_2.5  hpd_97.5\n",
      "y_N   -4.037293  0.160886  0.015191 -4.330500 -3.733667\n",
      "y_acc  0.119797  0.008313  0.000765  0.101689  0.133756\n",
      "y_err  0.427120  0.061865  0.004495  0.314106  0.536014, 13.667827796739999) \n",
      "\n",
      "4 132.319446163 \n",
      "(8, 9, 146, 173, 'cN',            mean        sd  mc_error   hpd_2.5  hpd_97.5\n",
      "y_N    2.600448  0.366129  0.026874  1.927374  3.349403\n",
      "y_err  1.825646  0.248895  0.018995  1.370083  2.224589, 49.292449749838674) \n",
      "\n",
      "5 156.734220189 \n",
      "(9, 11, 173, 192, 'accN',            mean        sd  mc_error   hpd_2.5  hpd_97.5\n",
      "y_N   -3.711868  0.577105  0.051322 -4.847318 -2.663305\n",
      "y_acc  0.126198  0.055064  0.005032  0.019407  0.220429\n",
      "y_err  1.232357  0.219273  0.016469  0.890464  1.741891, 23.414774026287255) \n",
      "\n",
      "6 200.29633376 \n",
      "(11, 13, 192, 214, 'cN',            mean        sd  mc_error   hpd_2.5  hpd_97.5\n",
      "y_N    2.201922  0.413342  0.028229  1.382638  2.937323\n",
      "y_err  1.934642  0.327398  0.023138  1.485876  2.635938, 42.562113570362506) \n",
      "\n",
      "7 223.275613052 \n",
      "(13, 15, 214, 230, 'accN',            mean        sd  mc_error   hpd_2.5  hpd_97.5\n",
      "y_N   -3.690284  0.585421  0.046842 -4.712676 -2.378834\n",
      "y_acc  0.148434  0.060639  0.005227  0.035473  0.268364\n",
      "y_err  1.373705  0.322391  0.022927  0.914479  2.077488, 21.979279292555344) \n",
      "\n",
      "8 269.23366593 \n",
      "(15, 18, 230, 256, 'accN',            mean        sd  mc_error   hpd_2.5  hpd_97.5\n",
      "y_N    2.800099  0.660035  0.059647  1.728065  4.153417\n",
      "y_acc -0.097792  0.043497  0.003742 -0.163569 -0.007078\n",
      "y_err  1.729156  0.260962  0.018671  1.256574  2.204952, 44.958052877475538) \n",
      "\n",
      "9 279.927491222 \n",
      "(18, 19, 256, 271, 'accN',            mean        sd  mc_error   hpd_2.5  hpd_97.5\n",
      "y_N   -4.539678  0.328735  0.028953 -5.109086 -3.918273\n",
      "y_acc  0.257612  0.037992  0.003338  0.183478  0.322736\n",
      "y_err  0.646255  0.143200  0.010071  0.398999  0.903088, 9.6938252922763901) \n",
      "\n",
      "10 284.955461967 \n",
      "(19, 22, 271, 282, 'acc0',            mean        sd  mc_error   hpd_2.5  hpd_97.5\n",
      "y_acc  0.443877  0.019331  0.001365  0.401829  0.479438\n",
      "y_err  0.366179  0.100110  0.008207  0.199634  0.582288, 4.0279707447111948) \n",
      "\n",
      "11 301.892377739 \n",
      "(22, 24, 282, 294, 'accP',            mean        sd  mc_error   hpd_2.5  hpd_97.5\n",
      "y_acc -0.471199  0.062389  0.004786 -0.586152 -0.341513\n",
      "y_err  1.328076  0.348294  0.026160  0.753165  2.008375, 15.936915772391938) \n",
      "\n",
      "12 306.763753923 \n",
      "(24, 25, 294, 303, 'accN',            mean        sd  mc_error   hpd_2.5  hpd_97.5\n",
      "y_N   -4.076254  0.260241  0.021623 -4.449516 -3.433564\n",
      "y_acc  0.137351  0.052826  0.004383  0.034524  0.246036\n",
      "y_err  0.430153  0.152914  0.011669  0.232588  0.709330, 3.8713761841278052) \n",
      "\n",
      "13 313.616233007 \n",
      "(25, 27, 303, 310, 'accP',            mean        sd  mc_error   hpd_2.5  hpd_97.5\n",
      "y_acc  0.524918  0.091506  0.007144  0.332298  0.667479\n",
      "y_err  0.836068  0.314591  0.025933  0.361693  1.386513, 5.8524790835753944) \n",
      "\n",
      "14 344.1325868 \n",
      "(27, 28, 310, 327, 'cN',            mean        sd  mc_error   hpd_2.5  hpd_97.5\n",
      "y_N    2.412713  0.421492  0.031156  1.683366  3.299685\n",
      "y_err  1.736256  0.331004  0.021540  1.196355  2.364596, 29.516353792739263) \n",
      "\n",
      "15 367.507874975 \n",
      "(28, 32, 327, 345, 'accN',            mean        sd  mc_error   hpd_2.5  hpd_97.5\n",
      "y_N   -3.661228  0.534819  0.047384 -4.753512 -2.629719\n",
      "y_acc  0.139457  0.052846  0.004457  0.050028  0.255225\n",
      "y_err  1.243072  0.232879  0.017930  0.857699  1.749288, 22.375288175578127) \n",
      "\n",
      "16 373.339415167 \n",
      "(32, 34, 345, 352, 'accP',            mean        sd  mc_error   hpd_2.5  hpd_97.5\n",
      "y_acc  0.485111  0.083317  0.005856  0.358131  0.696266\n",
      "y_err  0.690220  0.291417  0.020104  0.348626  1.310706, 4.8315401916236942) \n",
      "\n",
      "17 393.084709315 \n",
      "(34, 36, 352, 367, 'accN',            mean        sd  mc_error   hpd_2.5  hpd_97.5\n",
      "y_N    4.908771  0.583728  0.050512  3.800554  5.929583\n",
      "y_acc -0.380719  0.073892  0.006244 -0.531360 -0.256048\n",
      "y_err  1.249686  0.272739  0.021662  0.812632  1.750808, 18.745294148095272) \n",
      "\n",
      "18 400.399029419 \n",
      "(36, 38, 367, 384, 'accN',            mean        sd  mc_error   hpd_2.5  hpd_97.5\n",
      "y_N   -4.130680  0.191412  0.016804 -4.547403 -3.788577\n",
      "y_acc  0.141288  0.020517  0.001853  0.103724  0.188393\n",
      "y_err  0.371431  0.076366  0.005157  0.245957  0.544915, 6.3143201037371588) \n",
      "\n",
      "19 405.950199241 \n",
      "(38, 41, 384, 395, 'accN',            mean        sd  mc_error   hpd_2.5  hpd_97.5\n",
      "y_N   -2.437562  0.264679  0.024442 -2.922068 -1.919889\n",
      "y_acc  0.397045  0.043939  0.004035  0.308729  0.479433\n",
      "y_err  0.413743  0.122097  0.009162  0.248364  0.632083, 4.5511698223355701) \n",
      "\n",
      "20 443.755511222 \n",
      "(41, 44, 395, 417, 'accN',            mean        sd  mc_error   hpd_2.5  hpd_97.5\n",
      "y_N    4.311027  0.739031  0.069092  2.749910  5.614769\n",
      "y_acc -0.171503  0.061807  0.005788 -0.287394 -0.053584\n",
      "y_err  1.672969  0.317158  0.023469  1.198091  2.305475, 36.805311981397196) \n",
      "\n",
      "21 455.377445079 \n",
      "(44, 45, 417, 435, 'accN',            mean        sd  mc_error   hpd_2.5  hpd_97.5\n",
      "y_N   -4.385867  0.276811  0.023637 -4.882880 -3.849650\n",
      "y_acc  0.195812  0.028428  0.002324  0.142084  0.244385\n",
      "y_err  0.590107  0.115475  0.008774  0.409696  0.814003, 10.621933856844764) \n",
      "\n",
      "22 462.610704959 \n",
      "(45, 47, 435, 444, 'acc0',            mean        sd  mc_error   hpd_2.5  hpd_97.5\n",
      "y_acc  0.455324  0.055333  0.003622  0.345443  0.555046\n",
      "y_err  0.692584  0.216286  0.016065  0.378086  1.109040, 6.2332598800175889) \n",
      "\n",
      "23 472.812148548 \n",
      "(47, 48, 444, 452, 'accN',            mean        sd  mc_error   hpd_2.5  hpd_97.5\n",
      "y_N    4.453070  0.735193  0.060105  2.980399  5.872240\n",
      "y_acc -0.130443  0.174082  0.014688 -0.452174  0.237777\n",
      "y_err  1.150180  0.368741  0.027439  0.619362  1.891419, 9.2014435889039081) \n",
      "\n",
      "24 473.812148548 \n",
      "(48, 52, 452, 469, 'c0',                 mean             sd       mc_error        hpd_2.5  \\\n",
      "y_err  7.934584e-155  4.550119e-156  3.192332e-157  7.458659e-155   \n",
      "\n",
      "            hpd_97.5  \n",
      "y_err  8.893580e-155  , 1.3488792818508166e-153) \n",
      "\n",
      "25 483.833784339 \n",
      "(52, 55, 469, 493, 'accN',            mean        sd  mc_error   hpd_2.5  hpd_97.5\n",
      "y_N   -4.066619  0.148217  0.012186 -4.388798 -3.797650\n",
      "y_acc  0.128934  0.010632  0.000884  0.109013  0.148213\n",
      "y_err  0.375901  0.061733  0.003835  0.271353  0.500901, 9.0216357908531926) \n",
      "\n",
      "26 503.411899871 \n",
      "(55, 58, 493, 514, 'accN',            mean        sd  mc_error   hpd_2.5  hpd_97.5\n",
      "y_N    0.798913  0.358284  0.030484  0.154897  1.456938\n",
      "y_acc  0.216860  0.030154  0.002533  0.156368  0.278864\n",
      "y_err  0.884672  0.165817  0.011660  0.616176  1.221436, 18.578115531853221) \n",
      "\n",
      "27 504.411899871 \n",
      "(58, 64, 514, 561, 'c0',                 mean             sd       mc_error        hpd_2.5  \\\n",
      "y_err  7.617072e-155  1.458981e-156  1.144052e-157  7.458498e-155   \n",
      "\n",
      "            hpd_97.5  \n",
      "y_err  7.890529e-155  , 3.5800237009105002e-153) \n",
      "\n",
      "28 517.240301247 \n",
      "(64, 68, 561, 594, 'accN',            mean        sd  mc_error   hpd_2.5  hpd_97.5\n",
      "y_N   -4.062036  0.117218  0.010427 -4.279924 -3.835468\n",
      "y_acc  0.128957  0.006760  0.000599  0.117747  0.142429\n",
      "y_err  0.358436  0.048477  0.003498  0.275923  0.448598, 11.828401375925125) \n",
      "\n",
      "29 521.676882545 \n",
      "(68, 71, 594, 602, 'accN',            mean        sd  mc_error   hpd_2.5  hpd_97.5\n",
      "y_N    0.331581  0.289857  0.023513 -0.256294  0.858610\n",
      "y_acc  0.444865  0.068082  0.005415  0.314213  0.561446\n",
      "y_err  0.429573  0.140270  0.010329  0.209679  0.686246, 3.4365812982806583) \n",
      "\n",
      "30 528.932244944 \n",
      "(71, 74, 602, 614, 'cN',            mean        sd  mc_error   hpd_2.5  hpd_97.5\n",
      "y_N    4.261231  0.166341  0.012524  3.905852  4.555784\n",
      "y_err  0.521280  0.125554  0.008895  0.299632  0.746616, 6.2553623985857953) \n",
      "\n",
      "31 529.932244944 \n",
      "(74, 76, 614, 630, 'c0',                 mean             sd       mc_error        hpd_2.5  \\\n",
      "y_err  8.000044e-155  5.832638e-156  4.012100e-157  7.466813e-155   \n",
      "\n",
      "            hpd_97.5  \n",
      "y_err  9.069478e-155  , 1.2800070686281603e-153) \n",
      "\n",
      "32 540.639031114 \n",
      "(76, 79, 630, 657, 'accN',            mean        sd  mc_error   hpd_2.5  hpd_97.5\n",
      "y_N   -4.062370  0.153381  0.013465 -4.335836 -3.733391\n",
      "y_acc  0.126840  0.010180  0.000894  0.106585  0.144652\n",
      "y_err  0.359511  0.051843  0.003323  0.263006  0.460503, 9.7067861705055236) \n",
      "\n",
      "33 555.214442312 \n",
      "(79, 82, 657, 677, 'acc0',            mean        sd  mc_error   hpd_2.5  hpd_97.5\n",
      "y_acc  0.288283  0.013613  0.001023  0.258104  0.309714\n",
      "y_err  0.678771  0.108934  0.007564  0.501027  0.908731, 13.57541119767725) \n",
      "\n",
      "34 580.80962613 \n",
      "(82, 84, 677, 686, 'cN',            mean        sd  mc_error   hpd_2.5  hpd_97.5\n",
      "y_N   -1.450893  1.005742  0.069884 -3.196051  0.589529\n",
      "y_err  2.732798  0.886517  0.065220  1.398699  4.467721, 24.595183818643122) \n",
      "\n",
      "35 589.15761361 \n",
      "(84, 86, 686, 697, 'acc0',            mean        sd  mc_error   hpd_2.5  hpd_97.5\n",
      "y_acc  0.393754  0.035584  0.002345  0.330994  0.467250\n",
      "y_err  0.667999  0.169293  0.011055  0.397784  1.007315, 7.3479874800264104) \n",
      "\n",
      "36 590.15761361 \n",
      "(86, 94, 697, 725, 'c0',                 mean             sd       mc_error        hpd_2.5  \\\n",
      "y_err  7.758276e-155  3.054334e-156  2.135919e-157  7.459210e-155   \n",
      "\n",
      "            hpd_97.5  \n",
      "y_err  8.415340e-155  , 2.1723173845707297e-153) \n",
      "\n",
      "37 595.243091668 \n",
      "(94, 96, 725, 735, 'accN',            mean        sd  mc_error   hpd_2.5  hpd_97.5\n",
      "y_N   -4.142227  0.217201  0.017991 -4.565431 -3.677788\n",
      "y_acc  0.142176  0.039876  0.003397  0.047172  0.208622\n",
      "y_err  0.408548  0.134388  0.010513  0.202834  0.647492, 4.0854780579865686) \n",
      "\n",
      "38 602.705756103 \n",
      "(96, 99, 735, 748, 'accN',            mean        sd  mc_error   hpd_2.5  hpd_97.5\n",
      "y_N    0.473913  0.229435  0.019760  0.007496  0.867976\n",
      "y_acc  0.369539  0.030703  0.002538  0.296809  0.418868\n",
      "y_err  0.497128  0.111822  0.008428  0.286152  0.695148, 6.4626644342464594) \n",
      "\n"
     ]
    }
   ],
   "source": [
    "def get_path(modes):\n",
    "    mj = len(modes)-1\n",
    "    path = [modes[mj]]\n",
    "    while mj > 0:\n",
    "        mj = modes[mj][1][0]\n",
    "        path.append(modes[mj])\n",
    "    return list(reversed(path))[1:]\n",
    "\n",
    "path = get_path(modes)\n",
    "for ii,p in enumerate(path):\n",
    "    print ii,p[0],'\\n',p[1],'\\n'"
   ]
  },
  {
   "cell_type": "code",
   "execution_count": 16,
   "metadata": {
    "collapsed": true
   },
   "outputs": [],
   "source": [
    "\"\"\"UnionFind.py\n",
    "\n",
    "Union-find data structure. Based on Josiah Carlson's code,\n",
    "http://aspn.activestate.com/ASPN/Cookbook/Python/Recipe/215912\n",
    "with significant additional changes by D. Eppstein.\n",
    "\"\"\"\n",
    "\n",
    "class UnionFind:\n",
    "    \"\"\"Union-find data structure.\n",
    "\n",
    "    Each unionFind instance X maintains a family of disjoint sets of\n",
    "    hashable objects, supporting the following two methods:\n",
    "\n",
    "    - X[item] returns a name for the set containing the given item.\n",
    "      Each set is named by an arbitrarily-chosen one of its members; as\n",
    "      long as the set remains unchanged it will keep the same name. If\n",
    "      the item is not yet part of a set in X, a new singleton set is\n",
    "      created for it.\n",
    "\n",
    "    - X.union(item1, item2, ...) merges the sets containing each item\n",
    "      into a single larger set.  If any item is not yet part of a set\n",
    "      in X, it is added to X as one of the members of the merged set.\n",
    "    \"\"\"\n",
    "\n",
    "    def __init__(self):\n",
    "        \"\"\"Create a new empty union-find structure.\"\"\"\n",
    "        self.weights = {}\n",
    "        self.parents = {}\n",
    "\n",
    "    def __getitem__(self, object):\n",
    "        \"\"\"Find and return the name of the set containing the object.\"\"\"\n",
    "\n",
    "        # check for previously unknown object\n",
    "        if object not in self.parents:\n",
    "            self.parents[object] = object\n",
    "            self.weights[object] = 1\n",
    "            return object\n",
    "\n",
    "        # find path of objects leading to the root\n",
    "        path = [object]\n",
    "        root = self.parents[object]\n",
    "        while root != path[-1]:\n",
    "            path.append(root)\n",
    "            root = self.parents[root]\n",
    "\n",
    "        # compress the path and return\n",
    "        for ancestor in path:\n",
    "            self.parents[ancestor] = root\n",
    "        return root\n",
    "        \n",
    "    def __iter__(self):\n",
    "        \"\"\"Iterate through all items ever found or unioned by this structure.\"\"\"\n",
    "        return iter(self.parents)\n",
    "\n",
    "    def union(self, *objects):\n",
    "        \"\"\"Find the sets containing the objects and merge them all.\"\"\"\n",
    "        roots = [self[x] for x in objects]\n",
    "        heaviest = max([(self.weights[r],r) for r in roots])[1]\n",
    "        for r in roots:\n",
    "            if r != heaviest:\n",
    "                self.weights[heaviest] += self.weights[r]\n",
    "                self.parents[r] = heaviest\n"
   ]
  },
  {
   "cell_type": "code",
   "execution_count": 17,
   "metadata": {
    "collapsed": false
   },
   "outputs": [],
   "source": [
    "cross = {}\n",
    "unions = UnionFind()\n",
    "\n",
    "for ii,mode in enumerate(path):\n",
    "    d = {t[0]:t[1:] for t in likes[mode[1][0]][mode[1][1]][4]}\n",
    "    model,trace = {t[0]:t[1:] for t in likes[mode[1][0]][mode[1][1]][4]}[mode[1][4]]\n",
    "    for jj,mode2 in enumerate(path):\n",
    "        model2,trace2 = {t[0]:t[1:] for t in likes[mode2[1][0]][mode2[1][1]][4]}[mode2[1][4]]\n",
    "        if mode2[1][4] == mode[1][4]:\n",
    "            try:\n",
    "                crit = -np.mean([model.logp(pt) for pt in trace2])#pm.stats.dic(model=model,trace=trace2)\n",
    "            except:\n",
    "\n",
    "                crit = float('inf')\n",
    "        else:\n",
    "            crit = float('inf')\n",
    "        cross[(ii,jj)] = crit"
   ]
  },
  {
   "cell_type": "code",
   "execution_count": 30,
   "metadata": {
    "collapsed": false
   },
   "outputs": [
    {
     "name": "stdout",
     "output_type": "stream",
     "text": [
      "0 23\n",
      "1 3\n",
      "2 4\n",
      "3 3\n",
      "4 4\n",
      "5 4\n",
      "6 4\n",
      "7 4\n",
      "8 4\n",
      "9 3\n",
      "10 10\n",
      "11 4\n",
      "12 18\n",
      "13 4\n",
      "14 4\n",
      "15 21\n",
      "16 16\n",
      "17 3\n",
      "18 18\n",
      "19 22\n",
      "20 3\n",
      "21 21\n",
      "22 22\n",
      "23 23\n",
      "24 3\n",
      "25 21\n",
      "26 23\n",
      "27 3\n",
      "28 21\n",
      "29 22\n",
      "30 23\n",
      "31 3\n",
      "32 21\n",
      "33 33\n",
      "34 21\n",
      "35 23\n",
      "36 4\n",
      "37 21\n",
      "{33: set([33]), 3: set([1, 3, 9, 17, 20, 24, 27, 31]), 4: set([2, 4, 5, 6, 7, 8, 11, 13, 14, 36]), 10: set([10]), 16: set([16]), 18: set([18, 12]), 21: set([32, 34, 37, 15, 21, 25, 28]), 22: set([19, 29, 22]), 23: set([0, 26, 35, 30, 23])}\n"
     ]
    }
   ],
   "source": [
    "complexityWeight = 20\n",
    "for d in sorted(cross):\n",
    "    good = True\n",
    "    for t in [cross[d], cross[(d[0],d[0])], cross[(d[1],d[1])], cross[(d[1],d[0])]]:\n",
    "        if t == float('inf'):\n",
    "            good = False\n",
    "    if not good:\n",
    "        continue\n",
    "    joined = min(cross[d] + cross[(d[0],d[0])],cross[(d[1],d[1])]+cross[(d[1],d[0])])\n",
    "   \n",
    "    if (joined < (cross[(d[0],d[0])]+cross[(d[1],d[1])]) +complexityWeight):\n",
    "        unions.union(d[0],d[1])\n",
    "merged = {}\n",
    "for u in unions:\n",
    "    print u, unions[u]\n",
    "    if unions[u] not in merged:\n",
    "        merged[unions[u]] = set()\n",
    "    merged[unions[u]].add(u)\n",
    "print merged"
   ]
  },
  {
   "cell_type": "code",
   "execution_count": 31,
   "metadata": {
    "collapsed": false
   },
   "outputs": [
    {
     "name": "stdout",
     "output_type": "stream",
     "text": [
      "\n",
      "\n"
     ]
    },
    {
     "name": "stderr",
     "output_type": "stream",
     "text": [
      "100%|██████████| 1000/1000 [00:00<00:00, 11639.43it/s]\n"
     ]
    },
    {
     "name": "stdout",
     "output_type": "stream",
     "text": [
      "           mean        sd  mc_error   hpd_2.5  hpd_97.5\n",
      "y_err  2.156659  0.114681  0.016218  1.908456  2.316559\n",
      "\n"
     ]
    },
    {
     "name": "stderr",
     "output_type": "stream",
     "text": [
      "100%|██████████| 1000/1000 [00:00<00:00, 11568.99it/s]\n"
     ]
    },
    {
     "name": "stdout",
     "output_type": "stream",
     "text": [
      "           mean        sd  mc_error   hpd_2.5  hpd_97.5\n",
      "y_err  2.610941  0.146571  0.020728  2.310871  2.827002\n",
      "\n",
      "\n",
      "\n"
     ]
    },
    {
     "name": "stderr",
     "output_type": "stream",
     "text": [
      "100%|██████████| 1000/1000 [00:00<00:00, 4535.58it/s]\n"
     ]
    },
    {
     "name": "stdout",
     "output_type": "stream",
     "text": [
      "           mean        sd  mc_error   hpd_2.5  hpd_97.5\n",
      "y_N   -4.094550  0.135848  0.019212 -4.350888 -3.883537\n",
      "y_acc  0.137822  0.018165  0.002569  0.105675  0.171846\n",
      "y_err  0.351603  0.049780  0.007040  0.275952  0.417901\n",
      "\n"
     ]
    },
    {
     "name": "stderr",
     "output_type": "stream",
     "text": [
      "100%|██████████| 1000/1000 [00:00<00:00, 4652.61it/s]\n"
     ]
    },
    {
     "name": "stdout",
     "output_type": "stream",
     "text": [
      "           mean        sd  mc_error   hpd_2.5  hpd_97.5\n",
      "y_N   -3.681883  0.116111  0.016421 -3.924931 -3.505968\n",
      "y_acc  0.115423  0.009335  0.001320  0.099002  0.132208\n",
      "y_err  0.962057  0.057171  0.008085  0.890754  1.091270\n",
      "\n"
     ]
    },
    {
     "name": "stderr",
     "output_type": "stream",
     "text": [
      "100%|██████████| 1000/1000 [00:00<00:00, 6503.05it/s]\n"
     ]
    },
    {
     "name": "stdout",
     "output_type": "stream",
     "text": [
      "           mean        sd  mc_error   hpd_2.5  hpd_97.5\n",
      "y_acc  0.247935  0.052708  0.007454  0.165410  0.326674\n",
      "y_err  1.556586  0.238060  0.033667  1.163501  1.908259\n",
      "\n"
     ]
    },
    {
     "name": "stderr",
     "output_type": "stream",
     "text": [
      "100%|██████████| 1000/1000 [00:00<00:00, 4491.01it/s]"
     ]
    },
    {
     "name": "stdout",
     "output_type": "stream",
     "text": [
      "           mean        sd  mc_error   hpd_2.5  hpd_97.5\n",
      "y_N    2.637630  0.225411  0.031878  2.263044  3.121066\n",
      "y_acc -0.058908  0.009544  0.001350 -0.071177 -0.039278\n",
      "y_err  1.712439  0.097292  0.013759  1.499737  1.893737\n"
     ]
    },
    {
     "name": "stderr",
     "output_type": "stream",
     "text": [
      "\n"
     ]
    }
   ],
   "source": [
    "iterations = 1000\n",
    "\n",
    "def model_sets_generate(ti,data):\n",
    "    track,all_times,axis,i,j = data\n",
    "    segments = []\n",
    "    for ind in range(len(i)):\n",
    "        t0 = all_times[i[ind]]\n",
    "        t1 = all_times[j[ind]]\n",
    "        if t0 == 0:\n",
    "            segment = track[t0+1:t1+1]-track[t0:t1]\n",
    "            prev_vel = 0\n",
    "        elif t1+1 > np.shape(track)[1]:\n",
    "            extended_track = np.concatenate((track,[track[-1]]))\n",
    "            segment = extended_track[t0+1:t1+1]-extended_track[t0:t1]\n",
    "            prev_vel = track[t0,axis]-track[t0-1,axis]\n",
    "        else:\n",
    "            #9,10,11 - 8,9,10\n",
    "            segment = track[t0+1:t1+1]-track[t0:t1]\n",
    "            prev_vel = track[t0,axis]-track[t0-1,axis]\n",
    "        segment[:,0] = range(0,np.shape(segment)[0])\n",
    "        segments.append(segment)\n",
    "    segment = np.vstack(segments)\n",
    "    result = model_template_generate(ti, \n",
    "                                       axis,\n",
    "                                       segment,\n",
    "                                       prev_vel)\n",
    "    return (i,j,t0,t1,result)\n",
    "\n",
    "for m in merged:\n",
    "    print ''\n",
    "    if len(merged[m]) > 1:\n",
    "        i_ = []\n",
    "        j_ = []\n",
    "        for t in merged[m]:\n",
    "            mode = path[t]\n",
    "            dat = likes[mode[1][0]][mode[1][1]]            \n",
    "            ti = type2ind[mode[1][4]]\n",
    "            i_.append(dat[0])\n",
    "            j_.append(dat[1])\n",
    "            \n",
    "        result = model_sets_generate(ti,(track,all_times,axis,i_,j_))\n",
    "        print pm.df_summary(result[4][2])"
   ]
  },
  {
   "cell_type": "code",
   "execution_count": 32,
   "metadata": {
    "collapsed": false
   },
   "outputs": [
    {
     "data": {
      "image/png": "[encoded data removed]",
      "text/plain": [
       "<matplotlib.figure.Figure at 0x7fb6966d3e90>"
      ]
     },
     "metadata": {},
     "output_type": "display_data"
    }
   ],
   "source": [
    "colors = ['r','g','b','c','m','y','k',\"#aa0000\",\"#00aa00\",\"#0000aa\",\"#880000\",\"#008800\",\"#000088\"]\n",
    "merged2color = {m:i for i,m in enumerate(sorted(merged))}\n",
    "\n",
    "for m in merged:\n",
    "    for t in merged[m]:\n",
    "        plt.plot(np.array(path[t][1][2:4]),np.array([merged2color[m], merged2color[m]])+5,colors[merged2color[m]])\n",
    "\n",
    "plt.plot(velocities[:all_times[-1]])\n",
    "plt.plot(np.array(all_times),velocities[np.array(all_times,dtype='int')],'rx')\n",
    "plt.show()"
   ]
  },
  {
   "cell_type": "code",
   "execution_count": 21,
   "metadata": {
    "collapsed": false
   },
   "outputs": [
    {
     "name": "stdout",
     "output_type": "stream",
     "text": [
      "0 ([], ['D', 'T'])\n",
      "15 (['D', 'T'], ['D', 'T', 'A'])\n",
      "18 (['D', 'T', 'A'], ['D', 'T', 'B'])\n",
      "19 (['D', 'T', 'B'], ['D', 'T', 'B', 'A'])\n",
      "21 (['D', 'T', 'B', 'A'], ['D', 'T', 'S'])\n",
      "23 (['D', 'T', 'S'], ['D', 'T', 'S', 'A'])\n",
      "24 (['D', 'T', 'S', 'A'], ['D', 'T', 'S', 'B'])\n",
      "25 (['D', 'T', 'S', 'B'], ['D', 'T', 'S', 'B', 'A'])\n",
      "26 (['D', 'T', 'S', 'B', 'A'], ['D', 'U'])\n",
      "27 (['D', 'U'], ['D', 'U', 'A'])\n",
      "28 (['D', 'U', 'A'], ['D', 'U', 'B'])\n",
      "29 (['D', 'U', 'B'], ['D', 'U', 'B', 'A'])\n",
      "30 (['D', 'U', 'B', 'A'], ['D', 'U', 'S'])\n",
      "31 (['D', 'U', 'S'], ['D', 'U', 'S', 'A'])\n",
      "32 (['D', 'U', 'S', 'A'], ['D', 'U', 'S', 'B', 'A'])\n",
      "33 (['D', 'U', 'S', 'B', 'A'], ['D', 'U', 'T'])\n",
      "34 (['D', 'U', 'T'], ['D', 'U', 'T', 'A'])\n",
      "35 (['D', 'U', 'T', 'A'], ['D', 'U', 'T', 'B', 'A'])\n",
      "36 (['D', 'U', 'T', 'B', 'A'], ['D', 'U', 'T', 'S'])\n",
      "37 (['D', 'U', 'T', 'S'], ['D', 'U', 'T', 'S', 'A'])\n",
      "38 (['D', 'U', 'T', 'S', 'A'], ['D', 'U', 'T', 'S', 'B'])\n",
      "39 (['D', 'U', 'T', 'S', 'B'], ['D', 'U', 'T', 'S', 'B', 'A'])\n",
      "40 (['D', 'U', 'T', 'S', 'B', 'A'], ['L'])\n",
      "41 (['L'], ['L', 'A'])\n",
      "42 (['L', 'A'], ['L', 'B'])\n",
      "43 (['L', 'B'], ['L', 'B', 'A'])\n",
      "44 (['L', 'B', 'A'], ['L', 'S'])\n",
      "45 (['L', 'S'], ['L', 'S', 'A'])\n",
      "46 (['L', 'S', 'A'], ['L', 'S', 'B'])\n",
      "47 (['L', 'S', 'B'], ['L', 'S', 'B', 'A'])\n",
      "49 (['L', 'S', 'B', 'A'], ['L', 'T'])\n",
      "50 (['L', 'T'], ['L', 'T', 'A'])\n",
      "87 (['L', 'T', 'A'], ['L', 'T'])\n",
      "89 (['L', 'T'], ['L', 'S', 'B', 'A'])\n",
      "91 (['L', 'S', 'B', 'A'], ['L', 'S', 'B'])\n",
      "92 (['L', 'S', 'B'], ['L', 'S', 'A'])\n",
      "94 (['L', 'S', 'A'], ['L', 'S'])\n",
      "95 (['L', 'S'], ['L', 'B', 'A'])\n",
      "96 (['L', 'B', 'A'], ['L', 'B'])\n",
      "97 (['L', 'B'], ['L', 'A'])\n",
      "98 (['L', 'A'], ['D', 'U', 'T', 'S', 'B', 'A'])\n",
      "99 (['D', 'U', 'T', 'S', 'B', 'A'], ['D', 'U', 'T', 'S', 'B'])\n",
      "100 (['D', 'U', 'T', 'S', 'B'], ['D', 'U', 'T', 'S', 'A'])\n",
      "101 (['D', 'U', 'T', 'S', 'A'], ['D', 'U', 'T', 'B', 'A'])\n",
      "102 (['D', 'U', 'T', 'B', 'A'], ['D', 'U', 'T', 'B'])\n",
      "103 (['D', 'U', 'T', 'B'], ['D', 'U', 'T'])\n",
      "104 (['D', 'U', 'T'], ['D', 'U', 'S', 'B', 'A'])\n",
      "105 (['D', 'U', 'S', 'B', 'A'], ['D', 'U', 'S', 'A'])\n",
      "106 (['D', 'U', 'S', 'A'], ['D', 'U', 'S'])\n",
      "107 (['D', 'U', 'S'], ['D', 'U', 'B'])\n",
      "108 (['D', 'U', 'B'], ['D', 'U', 'A'])\n",
      "109 (['D', 'U', 'A'], ['D', 'T', 'S', 'B', 'A'])\n",
      "110 (['D', 'T', 'S', 'B', 'A'], ['D', 'T', 'S', 'B'])\n",
      "111 (['D', 'T', 'S', 'B'], ['D', 'T', 'S'])\n",
      "112 (['D', 'T', 'S'], ['D', 'T', 'B', 'A'])\n",
      "113 (['D', 'T', 'B', 'A'], ['D', 'T', 'A'])\n",
      "114 (['D', 'T', 'A'], ['D', 'T'])\n",
      "115 (['D', 'T'], ['D', 'S', 'B', 'A'])\n",
      "116 (['D', 'S', 'B', 'A'], ['D', 'S', 'A'])\n",
      "117 (['D', 'S', 'A'], ['D', 'S'])\n",
      "118 (['D', 'S'], ['D', 'B'])\n",
      "119 (['D', 'B'], ['D', 'A'])\n",
      "120 (['D', 'A'], ['U', 'T', 'S', 'B', 'A'])\n",
      "121 (['U', 'T', 'S', 'B', 'A'], ['U', 'T', 'S', 'B'])\n",
      "122 (['U', 'T', 'S', 'B'], ['U', 'T', 'S', 'A'])\n",
      "123 (['U', 'T', 'S', 'A'], ['U', 'T', 'B', 'A'])\n",
      "124 (['U', 'T', 'B', 'A'], ['U', 'T', 'B'])\n",
      "125 (['U', 'T', 'B'], ['U', 'T'])\n",
      "126 (['U', 'T'], ['U', 'S', 'B', 'A'])\n",
      "127 (['U', 'S', 'B', 'A'], ['U', 'S', 'A'])\n",
      "128 (['U', 'S', 'A'], ['U', 'S'])\n",
      "129 (['U', 'S'], ['U', 'B', 'A'])\n",
      "130 (['U', 'B', 'A'], ['U', 'B'])\n",
      "131 (['U', 'B'], ['U'])\n",
      "132 (['U'], ['T', 'S', 'B', 'A'])\n",
      "133 (['T', 'S', 'B', 'A'], ['T', 'S', 'B'])\n",
      "134 (['T', 'S', 'B'], ['T', 'S', 'A'])\n",
      "135 (['T', 'S', 'A'], ['T', 'S'])\n",
      "136 (['T', 'S'], ['T', 'B', 'A'])\n",
      "137 (['T', 'B', 'A'], ['T', 'B'])\n",
      "138 (['T', 'B'], ['T', 'A'])\n",
      "139 (['T', 'A'], ['T'])\n",
      "140 (['T'], ['S', 'B', 'A'])\n",
      "141 (['S', 'B', 'A'], ['S', 'B'])\n",
      "143 (['S', 'B'], ['S', 'A'])\n",
      "144 (['S', 'A'], ['S'])\n",
      "145 (['S'], ['B', 'A'])\n",
      "147 (['B', 'A'], ['B'])\n",
      "149 (['B'], ['A'])\n",
      "150 (['A'], [])\n",
      "167 ([], ['A'])\n",
      "170 (['A'], ['B'])\n",
      "173 (['B'], ['B', 'A'])\n",
      "174 (['B', 'A'], ['S'])\n",
      "176 (['S'], ['S', 'A'])\n",
      "178 (['S', 'A'], ['S', 'B'])\n",
      "179 (['S', 'B'], ['S', 'B', 'A'])\n",
      "181 (['S', 'B', 'A'], ['T'])\n",
      "182 (['T'], ['T', 'A'])\n",
      "183 (['T', 'A'], ['T', 'B'])\n",
      "184 (['T', 'B'], ['T', 'B', 'A'])\n",
      "185 (['T', 'B', 'A'], ['T', 'S'])\n",
      "186 (['T', 'S'], ['T', 'S', 'A'])\n",
      "187 (['T', 'S', 'A'], ['T', 'S', 'B'])\n",
      "188 (['T', 'S', 'B'], ['T', 'S', 'B', 'A'])\n",
      "189 (['T', 'S', 'B', 'A'], ['U'])\n",
      "191 (['U'], ['U', 'A'])\n",
      "192 (['U', 'A'], ['U', 'B'])\n",
      "193 (['U', 'B'], ['U', 'B', 'A'])\n",
      "194 (['U', 'B', 'A'], ['U', 'S'])\n",
      "195 (['U', 'S'], ['U', 'S', 'A'])\n",
      "196 (['U', 'S', 'A'], ['U', 'S', 'B'])\n",
      "197 (['U', 'S', 'B'], ['U', 'S', 'B', 'A'])\n",
      "198 (['U', 'S', 'B', 'A'], ['U', 'T'])\n",
      "199 (['U', 'T'], ['U', 'T', 'A'])\n",
      "200 (['U', 'T', 'A'], ['U', 'T', 'B'])\n",
      "201 (['U', 'T', 'B'], ['U', 'T', 'B', 'A'])\n",
      "203 (['U', 'T', 'B', 'A'], ['U', 'T', 'S'])\n",
      "204 (['U', 'T', 'S'], ['U', 'T', 'S', 'A'])\n",
      "205 (['U', 'T', 'S', 'A'], ['U', 'T', 'S', 'B'])\n",
      "207 (['U', 'T', 'S', 'B'], ['U', 'T', 'S', 'B', 'A'])\n",
      "208 (['U', 'T', 'S', 'B', 'A'], ['D'])\n",
      "255 (['D'], ['D', 'A'])\n",
      "259 (['D', 'A'], ['D', 'B'])\n",
      "261 (['D', 'B'], ['D', 'B', 'A'])\n",
      "263 (['D', 'B', 'A'], ['D', 'S'])\n",
      "265 (['D', 'S'], ['D', 'S', 'A'])\n",
      "267 (['D', 'S', 'A'], ['D', 'S', 'B'])\n",
      "269 (['D', 'S', 'B'], ['D', 'S', 'B', 'A'])\n",
      "271 (['D', 'S', 'B', 'A'], ['D', 'T'])\n",
      "273 (['D', 'T'], ['D', 'T', 'A'])\n",
      "275 (['D', 'T', 'A'], ['D', 'T', 'B'])\n",
      "277 (['D', 'T', 'B'], ['D', 'T', 'B', 'A'])\n",
      "279 (['D', 'T', 'B', 'A'], ['D', 'T', 'S'])\n",
      "281 (['D', 'T', 'S'], ['D', 'T', 'S', 'A'])\n",
      "283 (['D', 'T', 'S', 'A'], ['D', 'T', 'S', 'B'])\n",
      "285 (['D', 'T', 'S', 'B'], ['D', 'T', 'S', 'B', 'A'])\n",
      "287 (['D', 'T', 'S', 'B', 'A'], ['D', 'U'])\n",
      "290 (['D', 'U'], ['D', 'U', 'A'])\n",
      "293 (['D', 'U', 'A'], ['D', 'U', 'B'])\n",
      "299 (['D', 'U', 'B'], ['D', 'U', 'B', 'A'])\n",
      "304 (['D', 'U', 'B', 'A'], ['D', 'U', 'S'])\n",
      "309 (['D', 'U', 'S'], ['D', 'U', 'S', 'A'])\n",
      "315 (['D', 'U', 'S', 'A'], ['D', 'U', 'S', 'B'])\n",
      "320 (['D', 'U', 'S', 'B'], ['D', 'U', 'S', 'B', 'A'])\n",
      "326 (['D', 'U', 'S', 'B', 'A'], ['D', 'U', 'T'])\n",
      "339 (['D', 'U', 'T'], ['D', 'U', 'T', 'A'])\n",
      "343 (['D', 'U', 'T', 'A'], ['D', 'U', 'T', 'B'])\n",
      "345 (['D', 'U', 'T', 'B'], ['D', 'U', 'T', 'B', 'A'])\n",
      "347 (['D', 'U', 'T', 'B', 'A'], ['D', 'U', 'T', 'S'])\n",
      "349 (['D', 'U', 'T', 'S'], ['D', 'U', 'T', 'S', 'A'])\n",
      "351 (['D', 'U', 'T', 'S', 'A'], ['D', 'U', 'T', 'S', 'B'])\n",
      "352 (['D', 'U', 'T', 'S', 'B'], ['D', 'U', 'T', 'S', 'B', 'A'])\n",
      "354 (['D', 'U', 'T', 'S', 'B', 'A'], ['L'])\n",
      "355 (['L'], ['L', 'A'])\n",
      "356 (['L', 'A'], ['L', 'B'])\n",
      "358 (['L', 'B'], ['L', 'B', 'A'])\n",
      "359 (['L', 'B', 'A'], ['L', 'S'])\n",
      "360 (['L', 'S'], ['L', 'S', 'A'])\n",
      "361 (['L', 'S', 'A'], ['L', 'S', 'B'])\n",
      "362 (['L', 'S', 'B'], ['L', 'S', 'B', 'A'])\n",
      "363 (['L', 'S', 'B', 'A'], ['L', 'T'])\n",
      "364 (['L', 'T'], ['L', 'T', 'A'])\n",
      "365 (['L', 'T', 'A'], ['L', 'T', 'B'])\n",
      "366 (['L', 'T', 'B'], ['L', 'T', 'B', 'A'])\n",
      "367 (['L', 'T', 'B', 'A'], ['L', 'T', 'S'])\n",
      "368 (['L', 'T', 'S'], ['L', 'T', 'S', 'A'])\n",
      "369 (['L', 'T', 'S', 'A'], ['L', 'T', 'S', 'B'])\n",
      "370 (['L', 'T', 'S', 'B'], ['L', 'T', 'S', 'B', 'A'])\n",
      "371 (['L', 'T', 'S', 'B', 'A'], ['L', 'U'])\n",
      "550 (['L', 'U'], ['L', 'U', 'A'])\n",
      "617 (['L', 'U', 'A'], ['L', 'U'])\n",
      "622 (['L', 'U'], ['L', 'T', 'S', 'B', 'A'])\n",
      "627 (['L', 'T', 'S', 'B', 'A'], ['L', 'T', 'S', 'B'])\n",
      "648 (['L', 'T', 'S', 'B'], ['L', 'T', 'S', 'B', 'A'])\n",
      "652 (['L', 'T', 'S', 'B', 'A'], ['L', 'U'])\n",
      "715 (['L', 'U'], ['L', 'T', 'S', 'B', 'A'])\n",
      "720 (['L', 'T', 'S', 'B', 'A'], ['L', 'T', 'S', 'B'])\n",
      "723 (['L', 'T', 'S', 'B'], ['L', 'T', 'S', 'A'])\n",
      "726 (['L', 'T', 'S', 'A'], ['L', 'T', 'S'])\n",
      "729 (['L', 'T', 'S'], ['L', 'T', 'B', 'A'])\n",
      "732 (['L', 'T', 'B', 'A'], ['L', 'T', 'B'])\n",
      "735 (['L', 'T', 'B'], ['L', 'T', 'A'])\n",
      "739 (['L', 'T', 'A'], ['L', 'T'])\n",
      "742 (['L', 'T'], ['L', 'S', 'B', 'A'])\n",
      "745 (['L', 'S', 'B', 'A'], ['L', 'S', 'B'])\n",
      "748 (['L', 'S', 'B'], ['L', 'S', 'A'])\n",
      "752 (['L', 'S', 'A'], ['L', 'S'])\n",
      "820 (['L', 'S'], ['L', 'B', 'A'])\n",
      "824 (['L', 'B', 'A'], ['L', 'B'])\n",
      "827 (['L', 'B'], ['L', 'A'])\n",
      "830 (['L', 'A'], ['L'])\n",
      "834 (['L'], ['D', 'U', 'T', 'S', 'B', 'A'])\n",
      "842 (['D', 'U', 'T', 'S', 'B', 'A'], ['L'])\n",
      "845 (['L'], ['L', 'A'])\n",
      "847 (['L', 'A'], ['L', 'B'])\n",
      "849 (['L', 'B'], ['L', 'B', 'A'])\n",
      "850 (['L', 'B', 'A'], ['L', 'S'])\n",
      "851 (['L', 'S'], ['L', 'S', 'A'])\n",
      "852 (['L', 'S', 'A'], ['L', 'S', 'B'])\n",
      "854 (['L', 'S', 'B'], ['L', 'S', 'B', 'A'])\n",
      "855 (['L', 'S', 'B', 'A'], ['L', 'T'])\n",
      "856 (['L', 'T'], ['L', 'T', 'A'])\n",
      "857 (['L', 'T', 'A'], ['L', 'T', 'B'])\n",
      "858 (['L', 'T', 'B'], ['L', 'T', 'B', 'A'])\n",
      "859 (['L', 'T', 'B', 'A'], ['L', 'T', 'S'])\n",
      "860 (['L', 'T', 'S'], ['L', 'T', 'S', 'A'])\n",
      "861 (['L', 'T', 'S', 'A'], ['L', 'T', 'S', 'B'])\n",
      "863 (['L', 'T', 'S', 'B'], ['L', 'T', 'S', 'B', 'A'])\n",
      "865 (['L', 'T', 'S', 'B', 'A'], ['L', 'U'])\n",
      "876 (['L', 'U'], ['L', 'T', 'S', 'B', 'A'])\n",
      "881 (['L', 'T', 'S', 'B', 'A'], ['L', 'T', 'S', 'B'])\n",
      "884 (['L', 'T', 'S', 'B'], ['L', 'T', 'S', 'A'])\n",
      "887 (['L', 'T', 'S', 'A'], ['L', 'T', 'S'])\n",
      "889 (['L', 'T', 'S'], ['L', 'T', 'B', 'A'])\n",
      "892 (['L', 'T', 'B', 'A'], ['L', 'T', 'B'])\n",
      "895 (['L', 'T', 'B'], ['L', 'T', 'A'])\n",
      "897 (['L', 'T', 'A'], ['L', 'T'])\n",
      "900 (['L', 'T'], ['L', 'S', 'B', 'A'])\n",
      "903 (['L', 'S', 'B', 'A'], ['L', 'S', 'B'])\n",
      "905 (['L', 'S', 'B'], ['L', 'S', 'A'])\n",
      "908 (['L', 'S', 'A'], ['L', 'S'])\n",
      "911 (['L', 'S'], ['L', 'B', 'A'])\n",
      "923 (['L', 'B', 'A'], ['L', 'S'])\n",
      "927 (['L', 'S'], ['L', 'S', 'A'])\n",
      "929 (['L', 'S', 'A'], ['L', 'S', 'B'])\n",
      "931 (['L', 'S', 'B'], ['L', 'S', 'B', 'A'])\n",
      "934 (['L', 'S', 'B', 'A'], ['L', 'T'])\n",
      "936 (['L', 'T'], ['L', 'T', 'A'])\n",
      "938 (['L', 'T', 'A'], ['L', 'T', 'B'])\n",
      "940 (['L', 'T', 'B'], ['L', 'T', 'B', 'A'])\n",
      "943 (['L', 'T', 'B', 'A'], ['L', 'T', 'S'])\n",
      "945 (['L', 'T', 'S'], ['L', 'T', 'S', 'A'])\n",
      "947 (['L', 'T', 'S', 'A'], ['L', 'T', 'S', 'B'])\n",
      "950 (['L', 'T', 'S', 'B'], ['L', 'T', 'S', 'B', 'A'])\n",
      "952 (['L', 'T', 'S', 'B', 'A'], ['L', 'U'])\n",
      "985 (['L', 'U'], ['L', 'U', 'A'])\n",
      "990 (['L', 'U', 'A'], ['L', 'U', 'B'])\n",
      "993 (['L', 'U', 'B'], ['L', 'U', 'B', 'A'])\n",
      "996 (['L', 'U', 'B', 'A'], ['L', 'U', 'S'])\n",
      "999 (['L', 'U', 'S'], ['L', 'U', 'S', 'A'])\n",
      "1002 (['L', 'U', 'S', 'A'], ['L', 'U', 'S', 'B'])\n",
      "1006 (['L', 'U', 'S', 'B'], ['L', 'U', 'S', 'B', 'A'])\n",
      "1008 (['L', 'U', 'S', 'B', 'A'], ['L', 'U', 'S', 'B'])\n",
      "1012 (['L', 'U', 'S', 'B'], ['L', 'U', 'S', 'B', 'A'])\n",
      "1017 (['L', 'U', 'S', 'B', 'A'], ['L', 'U', 'T'])\n",
      "1020 (['L', 'U', 'T'], ['L', 'U', 'T', 'A'])\n",
      "1022 (['L', 'U', 'T', 'A'], ['L', 'U', 'T', 'B'])\n",
      "1088 (['L', 'U', 'T', 'B'], ['L', 'U', 'T', 'A'])\n",
      "1091 (['L', 'U', 'T', 'A'], ['L', 'U', 'T'])\n",
      "1094 (['L', 'U', 'T'], ['L', 'U', 'S', 'B', 'A'])\n",
      "1096 (['L', 'U', 'S', 'B', 'A'], ['L', 'U', 'S', 'B'])\n",
      "1098 (['L', 'U', 'S', 'B'], ['L', 'U', 'S', 'A'])\n",
      "1101 (['L', 'U', 'S', 'A'], ['L', 'U', 'S'])\n",
      "1104 (['L', 'U', 'S'], ['L', 'U', 'B', 'A'])\n",
      "1128 (['L', 'U', 'B', 'A'], ['L', 'U', 'S'])\n",
      "1132 (['L', 'U', 'S'], ['L', 'U', 'S', 'A'])\n",
      "1150 (['L', 'U', 'S', 'A'], ['L', 'U', 'S'])\n",
      "1194 (['L', 'U', 'S'], ['L', 'U', 'B', 'A'])\n",
      "1466 (['L', 'U', 'B', 'A'], ['L', 'U', 'B'])\n",
      "1470 (['L', 'U', 'B'], ['L', 'U', 'A'])\n",
      "1473 (['L', 'U', 'A'], ['L', 'U'])\n",
      "1475 (['L', 'U'], ['L', 'T', 'S', 'B', 'A'])\n",
      "1477 (['L', 'T', 'S', 'B', 'A'], ['L', 'T', 'S', 'B'])\n",
      "1479 (['L', 'T', 'S', 'B'], ['L', 'T', 'S', 'A'])\n",
      "1481 (['L', 'T', 'S', 'A'], ['L', 'T', 'S'])\n",
      "1482 (['L', 'T', 'S'], ['L', 'T', 'B', 'A'])\n",
      "1483 (['L', 'T', 'B', 'A'], ['L', 'T', 'B'])\n",
      "1485 (['L', 'T', 'B'], ['L', 'T', 'A'])\n",
      "1486 (['L', 'T', 'A'], ['L', 'T'])\n",
      "1487 (['L', 'T'], ['L', 'S', 'B', 'A'])\n",
      "1488 (['L', 'S', 'B', 'A'], ['L', 'S', 'B'])\n",
      "1489 (['L', 'S', 'B'], ['L', 'S', 'A'])\n",
      "1490 (['L', 'S', 'A'], ['L', 'S'])\n",
      "1491 (['L', 'S'], ['L', 'B', 'A'])\n",
      "1492 (['L', 'B', 'A'], ['L', 'B'])\n",
      "1493 (['L', 'B'], ['L', 'A'])\n",
      "1494 (['L', 'A'], ['L'])\n",
      "1496 (['L'], ['D', 'U', 'T', 'S', 'B', 'A'])\n",
      "1497 (['D', 'U', 'T', 'S', 'B', 'A'], ['D', 'U', 'T', 'S', 'B'])\n",
      "1498 (['D', 'U', 'T', 'S', 'B'], ['D', 'U', 'T', 'S', 'A'])\n",
      "1499 (['D', 'U', 'T', 'S', 'A'], ['D', 'U', 'T', 'S'])\n",
      "1500 (['D', 'U', 'T', 'S'], ['D', 'U', 'T', 'B', 'A'])\n",
      "1501 (['D', 'U', 'T', 'B', 'A'], ['D', 'U', 'T', 'B'])\n",
      "1502 (['D', 'U', 'T', 'B'], ['D', 'U', 'T', 'A'])\n",
      "1504 (['D', 'U', 'T', 'A'], ['D', 'U', 'T'])\n",
      "1505 (['D', 'U', 'T'], ['D', 'U', 'S', 'B', 'A'])\n",
      "1507 (['D', 'U', 'S', 'B', 'A'], ['D', 'U', 'S', 'B'])\n",
      "1508 (['D', 'U', 'S', 'B'], ['D', 'U', 'S', 'A'])\n",
      "1510 (['D', 'U', 'S', 'A'], ['D', 'U', 'S'])\n",
      "1512 (['D', 'U', 'S'], ['D', 'U', 'B', 'A'])\n",
      "1515 (['D', 'U', 'B', 'A'], ['D', 'U', 'B'])\n",
      "1522 (['D', 'U', 'B'], ['D', 'U', 'B', 'A'])\n",
      "1526 (['D', 'U', 'B', 'A'], ['D', 'U', 'S'])\n",
      "1528 (['D', 'U', 'S'], ['D', 'U', 'S', 'A'])\n",
      "1531 (['D', 'U', 'S', 'A'], ['D', 'U', 'S', 'B'])\n",
      "1532 (['D', 'U', 'S', 'B'], ['D', 'U', 'S', 'B', 'A'])\n",
      "1534 (['D', 'U', 'S', 'B', 'A'], ['D', 'U', 'T'])\n",
      "1536 (['D', 'U', 'T'], ['D', 'U', 'T', 'A'])\n",
      "1537 (['D', 'U', 'T', 'A'], ['D', 'U', 'T', 'B'])\n",
      "1538 (['D', 'U', 'T', 'B'], ['D', 'U', 'T', 'B', 'A'])\n",
      "1540 (['D', 'U', 'T', 'B', 'A'], ['D', 'U', 'T', 'S'])\n",
      "1541 (['D', 'U', 'T', 'S'], ['D', 'U', 'T', 'S', 'A'])\n",
      "1543 (['D', 'U', 'T', 'S', 'A'], ['D', 'U', 'T', 'S', 'B'])\n",
      "1544 (['D', 'U', 'T', 'S', 'B'], ['D', 'U', 'T', 'S', 'B', 'A'])\n",
      "1546 (['D', 'U', 'T', 'S', 'B', 'A'], ['L'])\n",
      "1547 (['L'], ['L', 'A'])\n",
      "1549 (['L', 'A'], ['L', 'B'])\n",
      "1550 (['L', 'B'], ['L', 'B', 'A'])\n",
      "1552 (['L', 'B', 'A'], ['L', 'S'])\n",
      "1554 (['L', 'S'], ['L', 'S', 'A'])\n",
      "1556 (['L', 'S', 'A'], ['L', 'S', 'B'])\n",
      "1558 (['L', 'S', 'B'], ['L', 'S', 'B', 'A'])\n",
      "1560 (['L', 'S', 'B', 'A'], ['L', 'T'])\n",
      "1562 (['L', 'T'], ['L', 'T', 'A'])\n",
      "1563 (['L', 'T', 'A'], ['L', 'T', 'B'])\n",
      "1565 (['L', 'T', 'B'], ['L', 'T', 'B', 'A'])\n",
      "1566 (['L', 'T', 'B', 'A'], ['L', 'T', 'S'])\n",
      "1567 (['L', 'T', 'S'], ['L', 'T', 'S', 'A'])\n",
      "1569 (['L', 'T', 'S', 'A'], ['L', 'T', 'S', 'B'])\n",
      "1570 (['L', 'T', 'S', 'B'], ['L', 'T', 'S', 'B', 'A'])\n",
      "1571 (['L', 'T', 'S', 'B', 'A'], ['L', 'U'])\n",
      "1576 (['L', 'U'], ['L', 'U', 'A'])\n",
      "1614 (['L', 'U', 'A'], ['L', 'U', 'B'])\n",
      "1618 (['L', 'U', 'B'], ['L', 'U', 'B', 'A'])\n",
      "1622 (['L', 'U', 'B', 'A'], ['L', 'U', 'S'])\n",
      "1626 (['L', 'U', 'S'], ['L', 'U', 'S', 'A'])\n",
      "1630 (['L', 'U', 'S', 'A'], ['L', 'U', 'S', 'B'])\n",
      "1668 (['L', 'U', 'S', 'B'], ['L', 'U', 'S', 'A'])\n",
      "1671 (['L', 'U', 'S', 'A'], ['L', 'U', 'S'])\n",
      "1673 (['L', 'U', 'S'], ['L', 'U', 'B', 'A'])\n",
      "1674 (['L', 'U', 'B', 'A'], ['L', 'U', 'B'])\n",
      "1675 (['L', 'U', 'B'], ['L', 'U', 'A'])\n",
      "1676 (['L', 'U', 'A'], ['L', 'U'])\n",
      "1678 (['L', 'U'], ['L', 'T', 'S', 'B'])\n",
      "1679 (['L', 'T', 'S', 'B'], ['L', 'T', 'S', 'A'])\n",
      "1680 (['L', 'T', 'S', 'A'], ['L', 'T', 'S'])\n",
      "1681 (['L', 'T', 'S'], ['L', 'T', 'B', 'A'])\n",
      "1682 (['L', 'T', 'B', 'A'], ['L', 'T', 'B'])\n",
      "1683 (['L', 'T', 'B'], ['L', 'T'])\n",
      "1684 (['L', 'T'], ['L', 'S', 'B', 'A'])\n",
      "1685 (['L', 'S', 'B', 'A'], ['L', 'S', 'A'])\n",
      "1686 (['L', 'S', 'A'], ['L', 'S'])\n",
      "1687 (['L', 'S'], ['L', 'B'])\n",
      "1688 (['L', 'B'], ['L', 'A'])\n",
      "1689 (['L', 'A'], ['D', 'U', 'T', 'S', 'B', 'A'])\n",
      "1690 (['D', 'U', 'T', 'S', 'B', 'A'], ['D', 'U', 'T', 'S', 'B'])\n",
      "1691 (['D', 'U', 'T', 'S', 'B'], ['D', 'U', 'T', 'S'])\n",
      "1692 (['D', 'U', 'T', 'S'], ['D', 'U', 'T', 'B', 'A'])\n",
      "1693 (['D', 'U', 'T', 'B', 'A'], ['D', 'U', 'T', 'A'])\n",
      "1694 (['D', 'U', 'T', 'A'], ['D', 'U', 'T'])\n",
      "1695 (['D', 'U', 'T'], ['D', 'U', 'S', 'B'])\n",
      "1696 (['D', 'U', 'S', 'B'], ['D', 'U', 'S', 'A'])\n",
      "1697 (['D', 'U', 'S', 'A'], ['D', 'U', 'B', 'A'])\n",
      "1698 (['D', 'U', 'B', 'A'], ['D', 'U', 'B'])\n",
      "1699 (['D', 'U', 'B'], ['D', 'U', 'A'])\n",
      "1700 (['D', 'U', 'A'], ['D', 'T', 'S', 'B', 'A'])\n",
      "1701 (['D', 'T', 'S', 'B', 'A'], ['D', 'T', 'S', 'B'])\n",
      "1702 (['D', 'T', 'S', 'B'], ['D', 'T', 'S'])\n",
      "1703 (['D', 'T', 'S'], ['D', 'T', 'B', 'A'])\n",
      "1704 (['D', 'T', 'B', 'A'], ['D', 'T', 'B'])\n",
      "1705 (['D', 'T', 'B'], ['D', 'T', 'A'])\n",
      "1706 (['D', 'T', 'A'], ['D', 'S', 'B', 'A'])\n",
      "1707 (['D', 'S', 'B', 'A'], ['D', 'S', 'B'])\n",
      "1708 (['D', 'S', 'B'], ['D', 'S', 'A'])\n",
      "1709 (['D', 'S', 'A'], ['D', 'S'])\n",
      "1710 (['D', 'S'], ['D', 'B', 'A'])\n",
      "1711 (['D', 'B', 'A'], ['D', 'B'])\n",
      "1712 (['D', 'B'], ['D', 'A'])\n",
      "1713 (['D', 'A'], ['D'])\n",
      "1714 (['D'], ['U', 'T', 'S', 'B', 'A'])\n",
      "1715 (['U', 'T', 'S', 'B', 'A'], ['U', 'T', 'S', 'B'])\n",
      "1717 (['U', 'T', 'S', 'B'], ['U', 'T', 'S', 'A'])\n",
      "1718 (['U', 'T', 'S', 'A'], ['U', 'T', 'S'])\n",
      "1719 (['U', 'T', 'S'], ['U', 'T', 'B', 'A'])\n",
      "1721 (['U', 'T', 'B', 'A'], ['U', 'T', 'B'])\n",
      "1722 (['U', 'T', 'B'], ['U', 'T', 'A'])\n",
      "1723 (['U', 'T', 'A'], ['U', 'T'])\n",
      "1725 (['U', 'T'], ['U', 'S', 'B', 'A'])\n",
      "1726 (['U', 'S', 'B', 'A'], ['U', 'S', 'B'])\n",
      "1728 (['U', 'S', 'B'], ['U', 'S', 'A'])\n",
      "1729 (['U', 'S', 'A'], ['U', 'S'])\n",
      "1731 (['U', 'S'], ['U', 'B', 'A'])\n",
      "1734 (['U', 'B', 'A'], ['U', 'B'])\n",
      "1742 (['U', 'B'], ['U', 'B', 'A'])\n",
      "1745 (['U', 'B', 'A'], ['U', 'S'])\n",
      "1748 (['U', 'S'], ['U', 'S', 'A'])\n",
      "1750 (['U', 'S', 'A'], ['U', 'S', 'B'])\n",
      "1752 (['U', 'S', 'B'], ['U', 'S', 'B', 'A'])\n",
      "1753 (['U', 'S', 'B', 'A'], ['U', 'T'])\n",
      "1755 (['U', 'T'], ['U', 'T', 'A'])\n",
      "1756 (['U', 'T', 'A'], ['U', 'T', 'B'])\n",
      "1757 (['U', 'T', 'B'], ['U', 'T', 'B', 'A'])\n",
      "1759 (['U', 'T', 'B', 'A'], ['U', 'T', 'S'])\n",
      "1760 (['U', 'T', 'S'], ['U', 'T', 'S', 'A'])\n",
      "1761 (['U', 'T', 'S', 'A'], ['U', 'T', 'S', 'B'])\n",
      "1762 (['U', 'T', 'S', 'B'], ['U', 'T', 'S', 'B', 'A'])\n",
      "1763 (['U', 'T', 'S', 'B', 'A'], ['D'])\n",
      "1764 (['D'], ['D', 'A'])\n",
      "1765 (['D', 'A'], ['D', 'B'])\n",
      "1767 (['D', 'B'], ['D', 'B', 'A'])\n",
      "1768 (['D', 'B', 'A'], ['D', 'S'])\n",
      "1769 (['D', 'S'], ['D', 'S', 'A'])\n",
      "1770 (['D', 'S', 'A'], ['D', 'S', 'B'])\n",
      "1771 (['D', 'S', 'B'], ['D', 'S', 'B', 'A'])\n",
      "1773 (['D', 'S', 'B', 'A'], ['D', 'T'])\n",
      "1774 (['D', 'T'], ['D', 'T', 'A'])\n",
      "1776 (['D', 'T', 'A'], ['D', 'T', 'B'])\n",
      "1777 (['D', 'T', 'B'], ['D', 'T', 'B', 'A'])\n",
      "1779 (['D', 'T', 'B', 'A'], ['D', 'T', 'S'])\n",
      "1780 (['D', 'T', 'S'], ['D', 'T', 'S', 'A'])\n",
      "1782 (['D', 'T', 'S', 'A'], ['D', 'T', 'S', 'B'])\n",
      "1783 (['D', 'T', 'S', 'B'], ['D', 'T', 'S', 'B', 'A'])\n",
      "1784 (['D', 'T', 'S', 'B', 'A'], ['D', 'U'])\n",
      "1786 (['D', 'U'], ['D', 'U', 'A'])\n",
      "1787 (['D', 'U', 'A'], ['D', 'U', 'B'])\n",
      "1788 (['D', 'U', 'B'], ['D', 'U', 'B', 'A'])\n",
      "1789 (['D', 'U', 'B', 'A'], ['D', 'U', 'S'])\n",
      "1790 (['D', 'U', 'S'], ['D', 'U', 'S', 'A'])\n",
      "1791 (['D', 'U', 'S', 'A'], ['D', 'U', 'S', 'B'])\n",
      "1792 (['D', 'U', 'S', 'B'], ['D', 'U', 'T'])\n",
      "1793 (['D', 'U', 'T'], ['D', 'U', 'T', 'A'])\n",
      "1794 (['D', 'U', 'T', 'A'], ['D', 'U', 'T', 'B'])\n",
      "1795 (['D', 'U', 'T', 'B'], ['D', 'U', 'T', 'B', 'A'])\n",
      "1796 (['D', 'U', 'T', 'B', 'A'], ['D', 'U', 'T', 'S'])\n",
      "1797 (['D', 'U', 'T', 'S'], ['D', 'U', 'T', 'S', 'B'])\n",
      "1798 (['D', 'U', 'T', 'S', 'B'], ['D', 'U', 'T', 'S', 'B', 'A'])\n",
      "1799 (['D', 'U', 'T', 'S', 'B', 'A'], ['L'])\n",
      "1800 (['L'], ['L', 'B'])\n",
      "1801 (['L', 'B'], ['L', 'B', 'A'])\n",
      "1802 (['L', 'B', 'A'], ['L', 'S', 'A'])\n",
      "1803 (['L', 'S', 'A'], ['L', 'S', 'B'])\n",
      "1804 (['L', 'S', 'B'], ['L', 'T'])\n",
      "1805 (['L', 'T'], ['L', 'T', 'A'])\n",
      "1806 (['L', 'T', 'A'], ['L', 'T', 'B', 'A'])\n",
      "1807 (['L', 'T', 'B', 'A'], ['L', 'T', 'S'])\n",
      "1808 (['L', 'T', 'S'], ['L', 'T', 'S', 'B'])\n",
      "1809 (['L', 'T', 'S', 'B'], ['L', 'T', 'S', 'B', 'A'])\n",
      "1810 (['L', 'T', 'S', 'B', 'A'], ['L', 'U', 'A'])\n",
      "1812 (['L', 'U', 'A'], ['L', 'U', 'B'])\n",
      "1814 (['L', 'U', 'B'], ['L', 'U', 'B', 'A'])\n",
      "1816 (['L', 'U', 'B', 'A'], ['L', 'U', 'S'])\n",
      "1818 (['L', 'U', 'S'], ['L', 'U', 'S', 'A'])\n",
      "1820 (['L', 'U', 'S', 'A'], ['L', 'U', 'S', 'B'])\n",
      "1822 (['L', 'U', 'S', 'B'], ['L', 'U', 'S', 'B', 'A'])\n",
      "1825 (['L', 'U', 'S', 'B', 'A'], ['L', 'U', 'T'])\n",
      "1828 (['L', 'U', 'T'], ['L', 'U', 'T', 'A'])\n",
      "1830 (['L', 'U', 'T', 'A'], ['L', 'U', 'T', 'B'])\n",
      "1832 (['L', 'U', 'T', 'B'], ['L', 'U', 'T', 'B', 'A'])\n",
      "1834 (['L', 'U', 'T', 'B', 'A'], ['L', 'U', 'T', 'S'])\n",
      "1836 (['L', 'U', 'T', 'S'], ['L', 'U', 'T', 'S', 'A'])\n",
      "1838 (['L', 'U', 'T', 'S', 'A'], ['L', 'U', 'T', 'S', 'B'])\n",
      "1840 (['L', 'U', 'T', 'S', 'B'], ['L', 'U', 'T', 'S', 'B', 'A'])\n",
      "1842 (['L', 'U', 'T', 'S', 'B', 'A'], ['L', 'D'])\n",
      "1844 (['L', 'D'], ['L', 'D', 'A'])\n",
      "1846 (['L', 'D', 'A'], ['L', 'D', 'B'])\n",
      "1848 (['L', 'D', 'B'], ['L', 'D', 'B', 'A'])\n",
      "1850 (['L', 'D', 'B', 'A'], ['L', 'D', 'S'])\n",
      "1852 (['L', 'D', 'S'], ['L', 'D', 'S', 'A'])\n",
      "1854 (['L', 'D', 'S', 'A'], ['L', 'D', 'S', 'B'])\n",
      "1856 (['L', 'D', 'S', 'B'], ['L', 'D', 'S', 'B', 'A'])\n",
      "1858 (['L', 'D', 'S', 'B', 'A'], ['L', 'D', 'T'])\n",
      "1860 (['L', 'D', 'T'], ['L', 'D', 'T', 'A'])\n",
      "1862 (['L', 'D', 'T', 'A'], ['L', 'D', 'T', 'B'])\n",
      "1864 (['L', 'D', 'T', 'B'], ['L', 'D', 'T', 'B', 'A'])\n",
      "1866 (['L', 'D', 'T', 'B', 'A'], ['L', 'D', 'T', 'S'])\n",
      "1868 (['L', 'D', 'T', 'S'], ['L', 'D', 'T', 'S', 'A'])\n",
      "1870 (['L', 'D', 'T', 'S', 'A'], ['L', 'D', 'T', 'S', 'B'])\n",
      "1872 (['L', 'D', 'T', 'S', 'B'], ['L', 'D', 'T', 'S', 'B', 'A'])\n",
      "1874 (['L', 'D', 'T', 'S', 'B', 'A'], ['L', 'D', 'U'])\n",
      "2282 (['L', 'D', 'U'], ['L', 'D', 'T', 'S', 'B', 'A'])\n",
      "2286 (['L', 'D', 'T', 'S', 'B', 'A'], ['L', 'D', 'T', 'S', 'B'])\n",
      "2290 (['L', 'D', 'T', 'S', 'B'], ['L', 'D', 'T', 'S', 'A'])\n",
      "2294 (['L', 'D', 'T', 'S', 'A'], ['L', 'D', 'T', 'S'])\n",
      "2298 (['L', 'D', 'T', 'S'], ['L', 'D', 'T', 'B', 'A'])\n",
      "2302 (['L', 'D', 'T', 'B', 'A'], ['L', 'D', 'T', 'B'])\n",
      "2306 (['L', 'D', 'T', 'B'], ['L', 'D', 'T', 'A'])\n",
      "2310 (['L', 'D', 'T', 'A'], ['L', 'D', 'T'])\n",
      "2314 (['L', 'D', 'T'], ['L', 'D', 'S', 'B', 'A'])\n",
      "2318 (['L', 'D', 'S', 'B', 'A'], ['L', 'D', 'S', 'B'])\n",
      "2322 (['L', 'D', 'S', 'B'], ['L', 'D', 'S', 'A'])\n",
      "2326 (['L', 'D', 'S', 'A'], ['L', 'D', 'S'])\n",
      "2330 (['L', 'D', 'S'], ['L', 'D', 'B', 'A'])\n",
      "2335 (['L', 'D', 'B', 'A'], ['L', 'D', 'B'])\n",
      "2646 (['L', 'D', 'B'], ['L', 'D', 'B', 'A'])\n",
      "2649 (['L', 'D', 'B', 'A'], ['L', 'D', 'S'])\n",
      "2651 (['L', 'D', 'S'], ['L', 'D', 'S', 'A'])\n",
      "2653 (['L', 'D', 'S', 'A'], ['L', 'D', 'S', 'B'])\n",
      "2655 (['L', 'D', 'S', 'B'], ['L', 'D', 'S', 'B', 'A'])\n",
      "2657 (['L', 'D', 'S', 'B', 'A'], ['L', 'D', 'T'])\n",
      "2659 (['L', 'D', 'T'], ['L', 'D', 'T', 'A'])\n",
      "2662 (['L', 'D', 'T', 'A'], ['L', 'D', 'T', 'B'])\n",
      "2664 (['L', 'D', 'T', 'B'], ['L', 'D', 'T', 'B', 'A'])\n",
      "2667 (['L', 'D', 'T', 'B', 'A'], ['L', 'D', 'T', 'S'])\n",
      "2670 (['L', 'D', 'T', 'S'], ['L', 'D', 'T', 'S', 'A'])\n",
      "2672 (['L', 'D', 'T', 'S', 'A'], ['L', 'D', 'T', 'S', 'B'])\n",
      "2675 (['L', 'D', 'T', 'S', 'B'], ['L', 'D', 'T', 'S', 'B', 'A'])\n",
      "2679 (['L', 'D', 'T', 'S', 'B', 'A'], ['L', 'D', 'U'])\n",
      "2716 (['L', 'D', 'U'], ['L', 'D', 'T', 'S', 'B', 'A'])\n",
      "2718 (['L', 'D', 'T', 'S', 'B', 'A'], ['L', 'D', 'T', 'S', 'B'])\n",
      "2720 (['L', 'D', 'T', 'S', 'B'], ['L', 'D', 'T', 'S', 'A'])\n",
      "2721 (['L', 'D', 'T', 'S', 'A'], ['L', 'D', 'T', 'S'])\n",
      "2723 (['L', 'D', 'T', 'S'], ['L', 'D', 'T', 'B', 'A'])\n",
      "2724 (['L', 'D', 'T', 'B', 'A'], ['L', 'D', 'T', 'B'])\n",
      "2725 (['L', 'D', 'T', 'B'], ['L', 'D', 'T', 'A'])\n",
      "2726 (['L', 'D', 'T', 'A'], ['L', 'D', 'T'])\n",
      "2727 (['L', 'D', 'T'], ['L', 'D', 'S', 'B', 'A'])\n",
      "2728 (['L', 'D', 'S', 'B', 'A'], ['L', 'D', 'S', 'B'])\n",
      "2729 (['L', 'D', 'S', 'B'], ['L', 'D', 'S', 'A'])\n",
      "2730 (['L', 'D', 'S', 'A'], ['L', 'D', 'S'])\n",
      "2731 (['L', 'D', 'S'], ['L', 'D', 'B', 'A'])\n",
      "2732 (['L', 'D', 'B', 'A'], ['L', 'D', 'B'])\n",
      "2733 (['L', 'D', 'B'], ['L', 'D', 'A'])\n",
      "2734 (['L', 'D', 'A'], ['L', 'D'])\n",
      "2735 (['L', 'D'], ['L', 'U', 'T', 'S', 'B', 'A'])\n",
      "2737 (['L', 'U', 'T', 'S', 'B', 'A'], ['L', 'U', 'T', 'S', 'B'])\n",
      "2738 (['L', 'U', 'T', 'S', 'B'], ['L', 'U', 'T', 'S', 'A'])\n",
      "2739 (['L', 'U', 'T', 'S', 'A'], ['L', 'U', 'T', 'S'])\n",
      "2741 (['L', 'U', 'T', 'S'], ['L', 'U', 'T', 'B', 'A'])\n",
      "2743 (['L', 'U', 'T', 'B', 'A'], ['L', 'U', 'T', 'B'])\n",
      "2744 (['L', 'U', 'T', 'B'], ['L', 'U', 'T', 'A'])\n",
      "2746 (['L', 'U', 'T', 'A'], ['L', 'U', 'T'])\n",
      "2747 (['L', 'U', 'T'], ['L', 'U', 'S', 'B', 'A'])\n",
      "2748 (['L', 'U', 'S', 'B', 'A'], ['L', 'U', 'S', 'B'])\n",
      "2750 (['L', 'U', 'S', 'B'], ['L', 'U', 'S', 'A'])\n",
      "2751 (['L', 'U', 'S', 'A'], ['L', 'U', 'S'])\n",
      "2752 (['L', 'U', 'S'], ['L', 'U', 'B', 'A'])\n",
      "2753 (['L', 'U', 'B', 'A'], ['L', 'U', 'B'])\n",
      "2754 (['L', 'U', 'B'], ['L', 'U', 'A'])\n",
      "2755 (['L', 'U', 'A'], ['L', 'U'])\n",
      "2756 (['L', 'U'], ['L', 'T', 'S', 'B', 'A'])\n",
      "2758 (['L', 'T', 'S', 'B', 'A'], ['L', 'T', 'S', 'B'])\n",
      "2759 (['L', 'T', 'S', 'B'], ['L', 'T', 'S', 'A'])\n",
      "2761 (['L', 'T', 'S', 'A'], ['L', 'T', 'S'])\n",
      "2762 (['L', 'T', 'S'], ['L', 'T', 'B', 'A'])\n",
      "2764 (['L', 'T', 'B', 'A'], ['L', 'T', 'B'])\n",
      "2766 (['L', 'T', 'B'], ['L', 'T', 'A'])\n",
      "2768 (['L', 'T', 'A'], ['L', 'T'])\n",
      "2769 (['L', 'T'], ['L', 'S', 'B', 'A'])\n",
      "2771 (['L', 'S', 'B', 'A'], ['L', 'S', 'B'])\n",
      "2773 (['L', 'S', 'B'], ['L', 'S', 'A'])\n",
      "2775 (['L', 'S', 'A'], ['L', 'S'])\n",
      "2778 (['L', 'S'], ['L', 'B', 'A'])\n",
      "2782 (['L', 'B', 'A'], ['L', 'B'])\n",
      "2786 (['L', 'B'], ['L', 'A'])\n",
      "2790 (['L', 'A'], ['L'])\n",
      "2801 (['L'], ['L', 'A'])\n",
      "2804 (['L', 'A'], ['L', 'B'])\n",
      "2807 (['L', 'B'], ['L', 'B', 'A'])\n",
      "2809 (['L', 'B', 'A'], ['L', 'S'])\n",
      "2811 (['L', 'S'], ['L', 'S', 'A'])\n",
      "2813 (['L', 'S', 'A'], ['L', 'S', 'B'])\n",
      "2815 (['L', 'S', 'B'], ['L', 'S', 'B', 'A'])\n",
      "2817 (['L', 'S', 'B', 'A'], ['L', 'T'])\n",
      "2819 (['L', 'T'], ['L', 'T', 'A'])\n",
      "2821 (['L', 'T', 'A'], ['L', 'T', 'B'])\n",
      "2823 (['L', 'T', 'B'], ['L', 'T', 'B', 'A'])\n",
      "2825 (['L', 'T', 'B', 'A'], ['L', 'T', 'S'])\n",
      "2827 (['L', 'T', 'S'], ['L', 'T', 'S', 'A'])\n",
      "2829 (['L', 'T', 'S', 'A'], ['L', 'T', 'S', 'B'])\n",
      "2831 (['L', 'T', 'S', 'B'], ['L', 'T', 'S', 'B', 'A'])\n",
      "2833 (['L', 'T', 'S', 'B', 'A'], ['L', 'U'])\n",
      "2872 (['L', 'U'], ['L', 'U', 'A'])\n",
      "2875 (['L', 'U', 'A'], ['L', 'U', 'B'])\n",
      "2877 (['L', 'U', 'B'], ['L', 'U', 'B', 'A'])\n",
      "2879 (['L', 'U', 'B', 'A'], ['L', 'U', 'S'])\n",
      "2881 (['L', 'U', 'S'], ['L', 'U', 'S', 'A'])\n",
      "2883 (['L', 'U', 'S', 'A'], ['L', 'U', 'S', 'B'])\n",
      "2885 (['L', 'U', 'S', 'B'], ['L', 'U', 'S', 'B', 'A'])\n",
      "2887 (['L', 'U', 'S', 'B', 'A'], ['L', 'U', 'T'])\n",
      "2889 (['L', 'U', 'T'], ['L', 'U', 'T', 'A'])\n",
      "2891 (['L', 'U', 'T', 'A'], ['L', 'U', 'T', 'B'])\n",
      "2893 (['L', 'U', 'T', 'B'], ['L', 'U', 'T', 'B', 'A'])\n",
      "2895 (['L', 'U', 'T', 'B', 'A'], ['L', 'U', 'T', 'S'])\n",
      "2897 (['L', 'U', 'T', 'S'], ['L', 'U', 'T', 'S', 'A'])\n",
      "2899 (['L', 'U', 'T', 'S', 'A'], ['L', 'U', 'T', 'S', 'B'])\n",
      "2901 (['L', 'U', 'T', 'S', 'B'], ['L', 'U', 'T', 'S', 'B', 'A'])\n",
      "2903 (['L', 'U', 'T', 'S', 'B', 'A'], ['L', 'D'])\n",
      "2905 (['L', 'D'], ['L', 'D', 'A'])\n",
      "2907 (['L', 'D', 'A'], ['L', 'D', 'B'])\n",
      "2909 (['L', 'D', 'B'], ['L', 'D', 'B', 'A'])\n",
      "2911 (['L', 'D', 'B', 'A'], ['L', 'D', 'S'])\n",
      "2913 (['L', 'D', 'S'], ['L', 'D', 'S', 'A'])\n",
      "2915 (['L', 'D', 'S', 'A'], ['L', 'D', 'S', 'B'])\n",
      "2917 (['L', 'D', 'S', 'B'], ['L', 'D', 'S', 'B', 'A'])\n",
      "2919 (['L', 'D', 'S', 'B', 'A'], ['L', 'D', 'T'])\n",
      "2921 (['L', 'D', 'T'], ['L', 'D', 'T', 'A'])\n",
      "2923 (['L', 'D', 'T', 'A'], ['L', 'D', 'T', 'B'])\n",
      "2925 (['L', 'D', 'T', 'B'], ['L', 'D', 'T', 'B', 'A'])\n",
      "2928 (['L', 'D', 'T', 'B', 'A'], ['L', 'D', 'T', 'S'])\n",
      "2931 (['L', 'D', 'T', 'S'], ['L', 'D', 'T', 'S', 'A'])\n",
      "2947 (['L', 'D', 'T', 'S', 'A'], ['L', 'D', 'T', 'S'])\n",
      "2951 (['L', 'D', 'T', 'S'], ['L', 'D', 'T', 'B', 'A'])\n",
      "3044 (['L', 'D', 'T', 'B', 'A'], ['L', 'D', 'T', 'B'])\n",
      "3049 (['L', 'D', 'T', 'B'], ['L', 'D', 'T', 'A'])\n",
      "3051 (['L', 'D', 'T', 'A'], ['L', 'D', 'T'])\n",
      "3054 (['L', 'D', 'T'], ['L', 'D', 'S', 'B', 'A'])\n",
      "3055 (['L', 'D', 'S', 'B', 'A'], ['L', 'D', 'S', 'B'])\n",
      "3057 (['L', 'D', 'S', 'B'], ['L', 'D', 'S', 'A'])\n",
      "3059 (['L', 'D', 'S', 'A'], ['L', 'D', 'S'])\n",
      "3060 (['L', 'D', 'S'], ['L', 'D', 'B', 'A'])\n",
      "3061 (['L', 'D', 'B', 'A'], ['L', 'D', 'B'])\n",
      "3063 (['L', 'D', 'B'], ['L', 'D', 'A'])\n",
      "3064 (['L', 'D', 'A'], ['L', 'D'])\n",
      "3066 (['L', 'D'], ['L', 'U', 'T', 'S', 'B', 'A'])\n",
      "3068 (['L', 'U', 'T', 'S', 'B', 'A'], ['L', 'U', 'T', 'S', 'B'])\n",
      "3070 (['L', 'U', 'T', 'S', 'B'], ['L', 'U', 'T', 'S', 'A'])\n",
      "3072 (['L', 'U', 'T', 'S', 'A'], ['L', 'U', 'T', 'S'])\n",
      "3075 (['L', 'U', 'T', 'S'], ['L', 'U', 'T', 'B', 'A'])\n",
      "3153 (['L', 'U', 'T', 'B', 'A'], ['L', 'U', 'T', 'B'])\n",
      "3155 (['L', 'U', 'T', 'B'], ['L', 'U', 'T', 'A'])\n",
      "3157 (['L', 'U', 'T', 'A'], ['L', 'U', 'T'])\n",
      "3158 (['L', 'U', 'T'], ['L', 'U', 'S', 'B', 'A'])\n",
      "3160 (['L', 'U', 'S', 'B', 'A'], ['L', 'U', 'S', 'B'])\n",
      "3161 (['L', 'U', 'S', 'B'], ['L', 'U', 'S', 'A'])\n",
      "3162 (['L', 'U', 'S', 'A'], ['L', 'U', 'S'])\n",
      "3164 (['L', 'U', 'S'], ['L', 'U', 'B', 'A'])\n",
      "3165 (['L', 'U', 'B', 'A'], ['L', 'U', 'B'])\n",
      "3168 (['L', 'U', 'B'], ['L', 'U', 'A'])\n",
      "3205 (['L', 'U', 'A'], ['L', 'U', 'B'])\n",
      "3209 (['L', 'U', 'B'], ['L', 'U', 'B', 'A'])\n",
      "3212 (['L', 'U', 'B', 'A'], ['L', 'U', 'S'])\n",
      "3214 (['L', 'U', 'S'], ['L', 'U', 'S', 'A'])\n",
      "3216 (['L', 'U', 'S', 'A'], ['L', 'U', 'S', 'B'])\n",
      "3218 (['L', 'U', 'S', 'B'], ['L', 'U', 'S', 'B', 'A'])\n",
      "3220 (['L', 'U', 'S', 'B', 'A'], ['L', 'U', 'T'])\n",
      "3222 (['L', 'U', 'T'], ['L', 'U', 'T', 'A'])\n",
      "3224 (['L', 'U', 'T', 'A'], ['L', 'U', 'T', 'B'])\n",
      "3226 (['L', 'U', 'T', 'B'], ['L', 'U', 'T', 'B', 'A'])\n",
      "3228 (['L', 'U', 'T', 'B', 'A'], ['L', 'U', 'T', 'S'])\n",
      "3230 (['L', 'U', 'T', 'S'], ['L', 'U', 'T', 'S', 'A'])\n",
      "3232 (['L', 'U', 'T', 'S', 'A'], ['L', 'U', 'T', 'S', 'B'])\n",
      "3234 (['L', 'U', 'T', 'S', 'B'], ['L', 'U', 'T', 'S', 'B', 'A'])\n",
      "3236 (['L', 'U', 'T', 'S', 'B', 'A'], ['L', 'D'])\n",
      "3238 (['L', 'D'], ['L', 'D', 'A'])\n",
      "3241 (['L', 'D', 'A'], ['L', 'D', 'B'])\n",
      "3245 (['L', 'D', 'B'], ['L', 'D', 'B', 'A'])\n",
      "3257 (['L', 'D', 'B', 'A'], ['L', 'D', 'B'])\n",
      "3260 (['L', 'D', 'B'], ['L', 'D', 'A'])\n",
      "3263 (['L', 'D', 'A'], ['L', 'D'])\n",
      "3266 (['L', 'D'], ['L', 'U', 'T', 'S', 'B', 'A'])\n",
      "3269 (['L', 'U', 'T', 'S', 'B', 'A'], ['L', 'U', 'T', 'S', 'B'])\n",
      "3272 (['L', 'U', 'T', 'S', 'B'], ['L', 'U', 'T', 'S', 'A'])\n",
      "3275 (['L', 'U', 'T', 'S', 'A'], ['L', 'U', 'T', 'S'])\n",
      "3277 (['L', 'U', 'T', 'S'], ['L', 'U', 'T', 'B', 'A'])\n",
      "3279 (['L', 'U', 'T', 'B', 'A'], ['L', 'U', 'T', 'B'])\n",
      "3280 (['L', 'U', 'T', 'B'], ['L', 'U', 'T', 'A'])\n",
      "3282 (['L', 'U', 'T', 'A'], ['L', 'U', 'T'])\n",
      "3283 (['L', 'U', 'T'], ['L', 'U', 'S', 'B', 'A'])\n",
      "3285 (['L', 'U', 'S', 'B', 'A'], ['L', 'U', 'S', 'B'])\n",
      "3286 (['L', 'U', 'S', 'B'], ['L', 'U', 'S', 'A'])\n",
      "3287 (['L', 'U', 'S', 'A'], ['L', 'U', 'S'])\n",
      "3289 (['L', 'U', 'S'], ['L', 'U', 'B', 'A'])\n",
      "3291 (['L', 'U', 'B', 'A'], ['L', 'U', 'B'])\n",
      "3292 (['L', 'U', 'B'], ['L', 'U', 'A'])\n",
      "3515 (['L', 'U', 'A'], ['L', 'U', 'B'])\n",
      "3528 (['L', 'U', 'B'], ['L', 'U', 'B', 'A'])\n",
      "3531 (['L', 'U', 'B', 'A'], ['L', 'U', 'S'])\n",
      "3534 (['L', 'U', 'S'], ['L', 'U', 'S', 'A'])\n",
      "3536 (['L', 'U', 'S', 'A'], ['L', 'U', 'S', 'B'])\n",
      "3538 (['L', 'U', 'S', 'B'], ['L', 'U', 'S', 'B', 'A'])\n",
      "3540 (['L', 'U', 'S', 'B', 'A'], ['L', 'U', 'T'])\n",
      "3542 (['L', 'U', 'T'], ['L', 'U', 'T', 'A'])\n",
      "3544 (['L', 'U', 'T', 'A'], ['L', 'U', 'T', 'B'])\n",
      "3546 (['L', 'U', 'T', 'B'], ['L', 'U', 'T', 'B', 'A'])\n",
      "3548 (['L', 'U', 'T', 'B', 'A'], ['L', 'U', 'T', 'S'])\n",
      "3550 (['L', 'U', 'T', 'S'], ['L', 'U', 'T', 'S', 'A'])\n",
      "3552 (['L', 'U', 'T', 'S', 'A'], ['L', 'U', 'T', 'S', 'B'])\n",
      "3554 (['L', 'U', 'T', 'S', 'B'], ['L', 'U', 'T', 'S', 'B', 'A'])\n",
      "3556 (['L', 'U', 'T', 'S', 'B', 'A'], ['L', 'D'])\n",
      "3558 (['L', 'D'], ['L', 'D', 'A'])\n",
      "3560 (['L', 'D', 'A'], ['L', 'D', 'B'])\n",
      "3562 (['L', 'D', 'B'], ['L', 'D', 'B', 'A'])\n",
      "3564 (['L', 'D', 'B', 'A'], ['L', 'D', 'S'])\n",
      "3566 (['L', 'D', 'S'], ['L', 'D', 'S', 'A'])\n",
      "3568 (['L', 'D', 'S', 'A'], ['L', 'D', 'S', 'B'])\n",
      "3570 (['L', 'D', 'S', 'B'], ['L', 'D', 'S', 'B', 'A'])\n",
      "3572 (['L', 'D', 'S', 'B', 'A'], ['L', 'D', 'T'])\n",
      "3574 (['L', 'D', 'T'], ['L', 'D', 'T', 'A'])\n",
      "3576 (['L', 'D', 'T', 'A'], ['L', 'D', 'T', 'B'])\n",
      "3578 (['L', 'D', 'T', 'B'], ['L', 'D', 'T', 'B', 'A'])\n",
      "3580 (['L', 'D', 'T', 'B', 'A'], ['L', 'D', 'T', 'S'])\n",
      "3582 (['L', 'D', 'T', 'S'], ['L', 'D', 'T', 'S', 'A'])\n",
      "3584 (['L', 'D', 'T', 'S', 'A'], ['L', 'D', 'T', 'S', 'B'])\n",
      "3586 (['L', 'D', 'T', 'S', 'B'], ['L', 'D', 'T', 'S', 'B', 'A'])\n",
      "3588 (['L', 'D', 'T', 'S', 'B', 'A'], ['L', 'D', 'U'])\n",
      "3656 (['L', 'D', 'U'], ['L', 'D', 'T', 'S', 'B', 'A'])\n",
      "3738 (['L', 'D', 'T', 'S', 'B', 'A'], ['L', 'D', 'T', 'S', 'A'])\n"
     ]
    }
   ],
   "source": [
    "collisions = pickle.load(open('mario_collisions.pkl'))\n",
    "\n",
    "def button_changes(button_masks):\n",
    "    last_mask = 0\n",
    "    mask_times = {}\n",
    "    for t, b in enumerate(button_masks):\n",
    "        if b != last_mask:\n",
    "            b_ = int(b)\n",
    "            buttons = []\n",
    "            for ii,c in enumerate(list('RLDUTSBA')):\n",
    "                if b_ & (1 << (7-ii)):\n",
    "                    buttons.append(c)\n",
    "            l_ = int(last_mask)\n",
    "            last_buttons = []\n",
    "            for ii,c in enumerate(list('RLDUTSBA')):\n",
    "                if l_ & (1 << (7-ii)):\n",
    "                    last_buttons.append(c)\n",
    "            mask_times[t] = (last_buttons,buttons)\n",
    "            last_mask = b\n",
    "    \n",
    "    return mask_times\n",
    "\n",
    "button_times = button_changes(track[:,3])\n",
    "for t in sorted(button_times):\n",
    "    print t, button_times[t]"
   ]
  },
  {
   "cell_type": "code",
   "execution_count": 24,
   "metadata": {
    "collapsed": false
   },
   "outputs": [
    {
     "name": "stdout",
     "output_type": "stream",
     "text": [
      "1 23 -> 3 59\n",
      "\t((51, 0, 'tile'), 'left')\n",
      "\t((36, 0, 'tile'), 'right')\n",
      "\t((180, 1, 'tile'), 'top')\n",
      "\t((51, 0, 'tile'), 'internal')\n",
      "\t((36, 0, 'tile'), 'left')\n",
      "\t((36, 0, 'tile'), 'bottom')\n",
      "\t((36, 0, 'tile'), 'internal')\n",
      "\t((181, 1, 'tile'), 'top')\n",
      "\n",
      "2 3 -> 4 85\n",
      "\t((36, 0, 'tile'), 'internal')\n",
      "\t((36, 0, 'tile'), 'right')\n",
      "\t((36, 0, 'tile'), 'bottom')\n",
      "\t((36, 0, 'tile'), 'top')\n",
      "\t((36, 0, 'tile'), 'left')\n",
      "\n",
      "3 4 -> 3 114\n",
      "button (['D', 'T', 'A'], ['D', 'T'])\n",
      "\t((180, 1, 'tile'), 'top')\n",
      "\t((52, 0, 'tile'), 'bottom')\n",
      "\t((52, 0, 'tile'), 'internal')\n",
      "\t((38, 0, 'tile'), 'right')\n",
      "\t((38, 0, 'tile'), 'left')\n",
      "\t((52, 0, 'tile'), 'right')\n",
      "\t((38, 0, 'tile'), 'internal')\n",
      "\t((181, 1, 'tile'), 'top')\n",
      "\t((38, 0, 'tile'), 'bottom')\n",
      "\n",
      "4 3 -> 4 146\n",
      "\t((36, 0, 'tile'), 'internal')\n",
      "\t((36, 0, 'tile'), 'right')\n",
      "\t((36, 0, 'tile'), 'bottom')\n",
      "\t((36, 0, 'tile'), 'top')\n",
      "\t((36, 0, 'tile'), 'left')\n",
      "\n",
      "5 4 -> 4 173\n",
      "button (['B'], ['B', 'A'])\n",
      "\t((48, 0, 'tile'), 'bottom')\n",
      "\t((180, 1, 'tile'), 'top')\n",
      "\t((48, 0, 'tile'), 'left')\n",
      "\t((38, 0, 'tile'), 'right')\n",
      "\t((36, 0, 'tile'), 'left')\n",
      "\t((36, 0, 'tile'), 'bottom')\n",
      "\t((36, 0, 'tile'), 'internal')\n",
      "\t((38, 0, 'tile'), 'internal')\n",
      "\t((181, 1, 'tile'), 'top')\n",
      "\t((48, 0, 'tile'), 'internal')\n",
      "\t((38, 0, 'tile'), 'bottom')\n",
      "\n",
      "6 4 -> 4 192\n",
      "button (['U', 'A'], ['U', 'B'])\n",
      "\t((36, 0, 'tile'), 'internal')\n",
      "\t((36, 0, 'tile'), 'right')\n",
      "\t((36, 0, 'tile'), 'bottom')\n",
      "\t((36, 0, 'tile'), 'top')\n",
      "\t((36, 0, 'tile'), 'left')\n",
      "\n",
      "7 4 -> 4 214\n",
      "\t((180, 1, 'tile'), 'top')\n",
      "\t((38, 0, 'tile'), 'right')\n",
      "\t((38, 0, 'tile'), 'left')\n",
      "\t((52, 0, 'tile'), 'right')\n",
      "\t((38, 0, 'tile'), 'internal')\n",
      "\t((181, 1, 'tile'), 'top')\n",
      "\t((52, 0, 'tile'), 'left')\n",
      "\t((38, 0, 'tile'), 'bottom')\n",
      "\n",
      "8 4 -> 4 230\n",
      "\t((50, 0, 'tile'), 'top')\n",
      "\t((49, 0, 'tile'), 'top')\n",
      "\t((36, 0, 'tile'), 'right')\n",
      "\t((36, 0, 'tile'), 'left')\n",
      "\t((36, 0, 'tile'), 'top')\n",
      "\t((36, 0, 'tile'), 'bottom')\n",
      "\t((36, 0, 'tile'), 'internal')\n",
      "\n",
      "9 4 -> 3 256\n",
      "\t((180, 1, 'tile'), 'top')\n",
      "\t((38, 0, 'tile'), 'right')\n",
      "\t((38, 0, 'tile'), 'left')\n",
      "\t((52, 0, 'tile'), 'right')\n",
      "\t((38, 0, 'tile'), 'internal')\n",
      "\t((181, 1, 'tile'), 'top')\n",
      "\t((38, 0, 'tile'), 'bottom')\n",
      "\n",
      "10 3 -> 10 282\n",
      "\t((52, 0, 'tile'), 'bottom')\n",
      "\t((51, 0, 'tile'), 'bottom')\n",
      "\t((52, 0, 'tile'), 'internal')\n",
      "\t((38, 0, 'tile'), 'left')\n",
      "\t((51, 0, 'tile'), 'internal')\n",
      "\t((38, 0, 'tile'), 'top')\n",
      "\t((36, 0, 'tile'), 'bottom')\n",
      "\t((36, 0, 'tile'), 'right')\n",
      "\t((36, 0, 'tile'), 'internal')\n",
      "\t((38, 0, 'tile'), 'internal')\n",
      "\t((51, 0, 'tile'), 'right')\n",
      "\t((52, 0, 'tile'), 'left')\n",
      "\t((52, 0, 'tile'), 'top')\n",
      "\n",
      "11 10 -> 4 294\n",
      "\t((180, 1, 'tile'), 'top')\n",
      "\t((52, 0, 'tile'), 'bottom')\n",
      "\t((51, 0, 'tile'), 'bottom')\n",
      "\t((52, 0, 'tile'), 'internal')\n",
      "\t((38, 0, 'tile'), 'right')\n",
      "\t((51, 0, 'tile'), 'internal')\n",
      "\t((38, 0, 'tile'), 'left')\n",
      "\t((181, 1, 'tile'), 'top')\n",
      "\t((38, 0, 'tile'), 'internal')\n",
      "\t((51, 0, 'tile'), 'right')\n",
      "\t((52, 0, 'tile'), 'left')\n",
      "\t((38, 0, 'tile'), 'bottom')\n",
      "\n",
      "12 4 -> 18 303\n",
      "\t((51, 0, 'tile'), 'top')\n",
      "\t((36, 0, 'tile'), 'right')\n",
      "\t((36, 0, 'tile'), 'left')\n",
      "\t((36, 0, 'tile'), 'top')\n",
      "\t((36, 0, 'tile'), 'bottom')\n",
      "\t((36, 0, 'tile'), 'internal')\n",
      "\n",
      "13 18 -> 4 310\n",
      "\t((36, 0, 'tile'), 'internal')\n",
      "\t((36, 0, 'tile'), 'right')\n",
      "\t((36, 0, 'tile'), 'bottom')\n",
      "\t((36, 0, 'tile'), 'top')\n",
      "\t((36, 0, 'tile'), 'left')\n",
      "\n",
      "14 4 -> 4 327\n",
      "\t((180, 1, 'tile'), 'top')\n",
      "\t((51, 0, 'tile'), 'bottom')\n",
      "\t((36, 0, 'tile'), 'right')\n",
      "\t((38, 0, 'tile'), 'right')\n",
      "\t((51, 0, 'tile'), 'internal')\n",
      "\t((38, 0, 'tile'), 'left')\n",
      "\t((181, 1, 'tile'), 'top')\n",
      "\t((38, 0, 'tile'), 'internal')\n",
      "\t((51, 0, 'tile'), 'right')\n",
      "\t((52, 0, 'tile'), 'left')\n",
      "\t((38, 0, 'tile'), 'bottom')\n",
      "\n",
      "15 4 -> 21 345\n",
      "button (['D', 'U', 'T', 'B'], ['D', 'U', 'T', 'B', 'A'])\n",
      "\t((36, 0, 'tile'), 'internal')\n",
      "\t((36, 0, 'tile'), 'right')\n",
      "\t((36, 0, 'tile'), 'bottom')\n",
      "\t((36, 0, 'tile'), 'top')\n",
      "\t((36, 0, 'tile'), 'left')\n",
      "\n",
      "16 21 -> 16 352\n",
      "button (['D', 'U', 'T', 'S', 'B'], ['D', 'U', 'T', 'S', 'B', 'A'])\n",
      "\t((36, 0, 'tile'), 'internal')\n",
      "\t((36, 0, 'tile'), 'right')\n",
      "\t((36, 0, 'tile'), 'bottom')\n",
      "\t((36, 0, 'tile'), 'top')\n",
      "\t((36, 0, 'tile'), 'left')\n",
      "\n",
      "17 16 -> 3 367\n",
      "button (['L', 'T', 'B', 'A'], ['L', 'T', 'S'])\n",
      "\t((51, 0, 'tile'), 'left')\n",
      "\t((36, 0, 'tile'), 'right')\n",
      "\t((180, 1, 'tile'), 'top')\n",
      "\t((51, 0, 'tile'), 'internal')\n",
      "\t((36, 0, 'tile'), 'left')\n",
      "\t((36, 0, 'tile'), 'bottom')\n",
      "\t((36, 0, 'tile'), 'internal')\n",
      "\t((181, 1, 'tile'), 'top')\n",
      "\n",
      "18 3 -> 18 384\n",
      "\t((36, 0, 'tile'), 'internal')\n",
      "\t((36, 0, 'tile'), 'right')\n",
      "\t((36, 0, 'tile'), 'bottom')\n",
      "\t((36, 0, 'tile'), 'top')\n",
      "\t((36, 0, 'tile'), 'left')\n",
      "\n",
      "19 18 -> 22 395\n",
      "\t((36, 0, 'tile'), 'internal')\n",
      "\t((36, 0, 'tile'), 'right')\n",
      "\t((36, 0, 'tile'), 'bottom')\n",
      "\t((36, 0, 'tile'), 'top')\n",
      "\t((36, 0, 'tile'), 'left')\n",
      "\n",
      "20 22 -> 3 417\n",
      "\t((36, 0, 'tile'), 'right')\n",
      "\t((180, 1, 'tile'), 'top')\n",
      "\t((36, 0, 'tile'), 'left')\n",
      "\t((36, 0, 'tile'), 'bottom')\n",
      "\t((36, 0, 'tile'), 'internal')\n",
      "\t((181, 1, 'tile'), 'top')\n",
      "\n",
      "21 3 -> 21 435\n",
      "\t((36, 0, 'tile'), 'internal')\n",
      "\t((36, 0, 'tile'), 'right')\n",
      "\t((36, 0, 'tile'), 'bottom')\n",
      "\t((36, 0, 'tile'), 'top')\n",
      "\t((36, 0, 'tile'), 'left')\n",
      "\n",
      "22 21 -> 22 444\n",
      "\t((36, 0, 'tile'), 'internal')\n",
      "\t((36, 0, 'tile'), 'right')\n",
      "\t((36, 0, 'tile'), 'bottom')\n",
      "\t((36, 0, 'tile'), 'top')\n",
      "\t((36, 0, 'tile'), 'left')\n",
      "\n",
      "23 22 -> 23 452\n",
      "\t((36, 0, 'tile'), 'right')\n",
      "\t((180, 1, 'tile'), 'top')\n",
      "\t((36, 0, 'tile'), 'left')\n",
      "\t((36, 0, 'tile'), 'bottom')\n",
      "\t((36, 0, 'tile'), 'internal')\n",
      "\t((181, 1, 'tile'), 'top')\n",
      "\n",
      "24 23 -> 3 469\n",
      "\t((36, 0, 'tile'), 'right')\n",
      "\t((180, 1, 'tile'), 'top')\n",
      "\t((36, 0, 'tile'), 'left')\n",
      "\t((36, 0, 'tile'), 'bottom')\n",
      "\t((36, 0, 'tile'), 'internal')\n",
      "\t((181, 1, 'tile'), 'top')\n",
      "\n",
      "25 3 -> 21 493\n",
      "\t((36, 0, 'tile'), 'internal')\n",
      "\t((36, 0, 'tile'), 'right')\n",
      "\t((36, 0, 'tile'), 'bottom')\n",
      "\t((36, 0, 'tile'), 'top')\n",
      "\t((36, 0, 'tile'), 'left')\n",
      "\n",
      "26 21 -> 23 514\n",
      "\t((36, 0, 'tile'), 'right')\n",
      "\t((180, 1, 'tile'), 'top')\n",
      "\t((36, 0, 'tile'), 'left')\n",
      "\t((36, 0, 'tile'), 'bottom')\n",
      "\t((36, 0, 'tile'), 'internal')\n",
      "\t((181, 1, 'tile'), 'top')\n",
      "\n",
      "27 23 -> 3 561\n",
      "\t((53, 0, 'tile'), 'right')\n",
      "\t((36, 0, 'tile'), 'right')\n",
      "\t((180, 1, 'tile'), 'top')\n",
      "\t((36, 0, 'tile'), 'left')\n",
      "\t((36, 0, 'tile'), 'bottom')\n",
      "\t((53, 0, 'tile'), 'internal')\n",
      "\t((36, 0, 'tile'), 'internal')\n",
      "\t((181, 1, 'tile'), 'top')\n",
      "\n",
      "28 3 -> 21 594\n",
      "\t((36, 0, 'tile'), 'internal')\n",
      "\t((36, 0, 'tile'), 'right')\n",
      "\t((36, 0, 'tile'), 'bottom')\n",
      "\t((36, 0, 'tile'), 'top')\n",
      "\t((36, 0, 'tile'), 'left')\n",
      "\n",
      "29 21 -> 22 605\n",
      "\t((36, 0, 'tile'), 'internal')\n",
      "\t((36, 0, 'tile'), 'right')\n",
      "\t((36, 0, 'tile'), 'bottom')\n",
      "\t((36, 0, 'tile'), 'top')\n",
      "\t((36, 0, 'tile'), 'left')\n",
      "\n",
      "30 22 -> 23 614\n",
      "\t((180, 1, 'tile'), 'top')\n",
      "\t((37, 0, 'tile'), 'internal')\n",
      "\t((54, 0, 'tile'), 'left')\n",
      "\t((55, 0, 'tile'), 'internal')\n",
      "\t((54, 0, 'tile'), 'internal')\n",
      "\t((55, 0, 'tile'), 'bottom')\n",
      "\t((54, 0, 'tile'), 'bottom')\n",
      "\t((37, 0, 'tile'), 'right')\n",
      "\t((37, 0, 'tile'), 'left')\n",
      "\t((54, 0, 'tile'), 'right')\n",
      "\t((181, 1, 'tile'), 'top')\n",
      "\n",
      "31 23 -> 3 630\n",
      "\t((180, 1, 'tile'), 'top')\n",
      "\t((37, 0, 'tile'), 'internal')\n",
      "\t((54, 0, 'tile'), 'left')\n",
      "\t((55, 0, 'tile'), 'internal')\n",
      "\t((54, 0, 'tile'), 'internal')\n",
      "\t((55, 0, 'tile'), 'bottom')\n",
      "\t((54, 0, 'tile'), 'bottom')\n",
      "\t((37, 0, 'tile'), 'right')\n",
      "\t((37, 0, 'tile'), 'left')\n",
      "\t((54, 0, 'tile'), 'right')\n",
      "\t((181, 1, 'tile'), 'top')\n",
      "\n",
      "32 3 -> 21 657\n",
      "\t((36, 0, 'tile'), 'internal')\n",
      "\t((36, 0, 'tile'), 'right')\n",
      "\t((36, 0, 'tile'), 'bottom')\n",
      "\t((36, 0, 'tile'), 'top')\n",
      "\t((36, 0, 'tile'), 'left')\n",
      "\n",
      "33 21 -> 33 677\n",
      "\t((37, 0, 'tile'), 'top')\n",
      "\t((55, 0, 'tile'), 'top')\n",
      "\t((55, 0, 'tile'), 'left')\n",
      "\t((55, 0, 'tile'), 'internal')\n",
      "\t((36, 0, 'tile'), 'right')\n",
      "\t((36, 0, 'tile'), 'left')\n",
      "\t((36, 0, 'tile'), 'top')\n",
      "\t((36, 0, 'tile'), 'bottom')\n",
      "\t((36, 0, 'tile'), 'internal')\n",
      "\t((56, 0, 'tile'), 'top')\n",
      "\t((8, 5, 6, 7), 'right')\n",
      "\n",
      "34 33 -> 21 686\n",
      "\t((36, 0, 'tile'), 'right')\n",
      "\t((36, 0, 'tile'), 'left')\n",
      "\t((36, 0, 'tile'), 'top')\n",
      "\t((36, 0, 'tile'), 'bottom')\n",
      "\t((5, 6), 'bottom')\n",
      "\t((36, 0, 'tile'), 'internal')\n",
      "\n",
      "35 21 -> 23 697\n",
      "\t((48, 0, 'tile'), 'bottom')\n",
      "\t((180, 1, 'tile'), 'top')\n",
      "\t((38, 0, 'tile'), 'right')\n",
      "\t((36, 0, 'tile'), 'left')\n",
      "\t((48, 0, 'tile'), 'right')\n",
      "\t((36, 0, 'tile'), 'bottom')\n",
      "\t((36, 0, 'tile'), 'internal')\n",
      "\t((38, 0, 'tile'), 'internal')\n",
      "\t((181, 1, 'tile'), 'top')\n",
      "\t((48, 0, 'tile'), 'internal')\n",
      "\n",
      "36 23 -> 4 725\n",
      "\t((48, 0, 'tile'), 'bottom')\n",
      "\t((180, 1, 'tile'), 'top')\n",
      "\t((38, 0, 'tile'), 'right')\n",
      "\t((36, 0, 'tile'), 'left')\n",
      "\t((48, 0, 'tile'), 'right')\n",
      "\t((36, 0, 'tile'), 'bottom')\n",
      "\t((36, 0, 'tile'), 'internal')\n",
      "\t((38, 0, 'tile'), 'internal')\n",
      "\t((181, 1, 'tile'), 'top')\n",
      "\t((48, 0, 'tile'), 'internal')\n",
      "\n",
      "37 4 -> 21 735\n",
      "button (['L', 'T', 'B'], ['L', 'T', 'A'])\n",
      "\t((36, 3, 'tile'), 'bottom')\n",
      "\t((36, 3, 'tile'), 'internal')\n",
      "\t((36, 0, 'tile'), 'right')\n",
      "\t((36, 0, 'tile'), 'left')\n",
      "\t((36, 0, 'tile'), 'top')\n",
      "\t((8, 9, 10, 7), 'bottom')\n",
      "\t((36, 0, 'tile'), 'bottom')\n",
      "\t((36, 3, 'tile'), 'right')\n",
      "\t((36, 0, 'tile'), 'internal')\n",
      "\n"
     ]
    }
   ],
   "source": [
    "start_time = 270\n",
    "from_x_to_y = {}\n",
    "to_y = {}\n",
    "for t in range(1,len(path)):\n",
    "        if t == 0:\n",
    "            prev = -1\n",
    "        else:\n",
    "            prev = unions[t-1]\n",
    "            \n",
    "        start = path[t][1][2]\n",
    "        \n",
    "        print t,prev,'->',unions[t], start\n",
    "        if start in button_times:\n",
    "            print 'button', button_times[start]\n",
    "        \n",
    "        if start+start_time in collisions:\n",
    "            for c in collisions[start+start_time]:\n",
    "                print '\\t',c\n",
    "        print ''"
   ]
  },
  {
   "cell_type": "code",
   "execution_count": null,
   "metadata": {
    "collapsed": true
   },
   "outputs": [],
   "source": []
  },
  {
   "cell_type": "code",
   "execution_count": null,
   "metadata": {
    "collapsed": true
   },
   "outputs": [],
   "source": []
  }
 ],
 "metadata": {
  "kernelspec": {
   "display_name": "Python 2",
   "language": "python",
   "name": "python2"
  },
  "language_info": {
   "codemirror_mode": {
    "name": "ipython",
    "version": 2
   },
   "file_extension": ".py",
   "mimetype": "text/x-python",
   "name": "python",
   "nbconvert_exporter": "python",
   "pygments_lexer": "ipython2",
   "version": "2.7.10"
  },
  "name": "Untitled.ipynb"
 },
 "nbformat": 4,
 "nbformat_minor": 1
}
