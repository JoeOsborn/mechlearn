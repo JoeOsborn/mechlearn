{
 "cells": [
  {
   "cell_type": "code",
   "execution_count": 1,
   "metadata": {
    "autoscroll": "json-false",
    "collapsed": false,
    "ein.tags": [
     "worksheet-0"
    ],
    "slideshow": {
     "slide_type": "-"
    }
   },
   "outputs": [],
   "source": [
    "import pickle\n",
    "import numpy as np\n",
    "import os\n",
    "os.environ[\"THEANO_FLAGS\"] = \"mode=FAST_RUN,device=cpu,floatX=float32\"\n",
    "import scipy.ndimage\n",
    "import matplotlib.pyplot as plt\n",
    "import pymc3 as pm\n",
    "import math"
   ]
  },
  {
   "cell_type": "code",
   "execution_count": 2,
   "metadata": {
    "collapsed": false
   },
   "outputs": [],
   "source": [
    "track = pickle.load(open(\"mario_track_1.pkl\"))"
   ]
  },
  {
   "cell_type": "code",
   "execution_count": 3,
   "metadata": {
    "collapsed": false
   },
   "outputs": [
    {
     "data": {
      "text/plain": [
       "(347, 4)"
      ]
     },
     "execution_count": 3,
     "metadata": {},
     "output_type": "execute_result"
    }
   ],
   "source": [
    "np.shape(track)"
   ]
  },
  {
   "cell_type": "code",
   "execution_count": 4,
   "metadata": {
    "autoscroll": "json-false",
    "collapsed": false,
    "ein.tags": [
     "worksheet-0"
    ],
    "slideshow": {
     "slide_type": "-"
    }
   },
   "outputs": [
    {
     "name": "stdout",
     "output_type": "stream",
     "text": [
      "[ 0.  0.  0.  0.  0.  0.  0.  0.  0.  5.  5.  5.  5.  4.  4.  4.  4.  4.\n",
      "  3.  4.  3.  3.  3.  3.  3.  2.  3.  2.  1.  1.  1.  0. -1. -1. -2. -2.\n",
      " -3. -3. -4. -4. -4. -4. -4. -4. -4. -4. -4. -4. -4. -4. -4. -4.  4.  3.\n",
      "  3.  2.  2.  1.  1.  0. -1. -1. -1. -2. -3. -3. -4. -5.  5.  5.  5.  5.\n",
      "  4.  4.  3.  3.  2. -1. -1. -1. -2. -3. -3. -4. -4. -4. -4. -4. -4. -1.\n",
      "  5.  5.  5.  3.  3.  3.  2.  2.  0.  1.  0.  3.  5.  5.  5.  5.  4.  4.\n",
      "  4.  4.  4.  3.  4.  3.  3.  3.  3.  3.  2.  3.  2.  1.  1.  1.  0. -1.\n",
      " -1. -2. -2. -3. -3. -4. -4. -4. -4. -4. -4. -4. -4. -4. -4. -4. -4. -4.\n",
      " -4. -4. -4. -4. -4. -4. -4. -4. -4. -4.  0.  5.  5.  5.  5.  4.  4.  4.\n",
      "  4.  4.  3.  4.  3.  3.  3.  3.  2.  1.  1.  0. -1. -1. -1. -2. -3. -3.\n",
      " -4.  5.  5.  5.  5.  4.  4.  4.  4.  4.  3.  4.  3.  3.  3.  3.  3.  2.\n",
      "  3.  2.  2.  2.  1.  2.  1.  2.  1.  1.  0.  1.  1.  0.  0. -1. -2. -2.\n",
      " -2. -3. -4. -4. -4. -4. -4. -4. -4. -4. -4. -4. -4. -4. -4. -4. -4. -4.\n",
      " -4. -4. -4. -4. -4. -4. -4. -4. -4. -4. -4. -4.  4.  4.  2.  3.  1.  2.\n",
      "  0.  0.  0. -1. -2. -2. -3. -3. -4. -4. -5. -1.  5.  5.  5.  5.  4.  4.\n",
      "  4.  4.  4.  3.  4.  3.  3.  3.  3.  3.  2.  1.  1.  1.  0. -1. -1. -1.\n",
      "  0.  0.  0.  0.  0.  0. -1. -1. -1. -1. -1. -1. -1. -1. -1. -1. -1. -1.\n",
      " -1. -1. -1. -1. -1. -1. -1. -1. -1. -1. -1. -1. -1. -1. -1. -1. -1. -1.\n",
      " -1. -1. -1. -1. -1. -1. -1. -1. -1. -1. -1. -1. -1. -1. -1. -1. -1.  3.\n",
      "  0.  0.  0.  0.]\n",
      "[ 0.          0.          0.          0.          0.          0.          0.\n",
      "  1.66666667  3.33333333  5.          5.          4.66666667  4.33333333\n",
      "  4.          4.          4.          3.66666667  3.66666667  3.33333333\n",
      "  3.33333333  3.          3.          3.          2.66666667  2.66666667\n",
      "  2.33333333  2.          1.33333333  1.          0.66666667  0.\n",
      " -0.66666667 -1.33333333 -1.66666667 -2.33333333 -2.66666667 -3.33333333\n",
      " -3.66666667 -4.         -4.         -4.         -4.         -4.         -4.\n",
      " -4.         -4.         -4.         -4.         -4.         -4.\n",
      " -1.33333333  1.          3.33333333  2.66666667  2.33333333  1.66666667\n",
      "  1.33333333  0.66666667  0.         -0.66666667 -1.         -1.33333333\n",
      " -2.         -2.66666667 -3.33333333 -4.         -1.33333333  1.66666667\n",
      "  5.          5.          4.66666667  4.33333333  3.66666667  3.33333333\n",
      "  2.66666667  1.33333333  0.         -1.         -1.33333333 -2.\n",
      " -2.66666667 -3.33333333 -3.66666667 -4.         -4.         -4.         -4.\n",
      " -3.          0.          3.          5.          4.33333333  3.66666667\n",
      "  3.          2.66666667  2.33333333  1.33333333  1.          0.33333333\n",
      "  1.33333333  2.66666667  4.33333333  5.          5.          4.66666667\n",
      "  4.33333333  4.          4.          4.          3.66666667  3.66666667\n",
      "  3.33333333  3.33333333  3.          3.          3.          2.66666667\n",
      "  2.66666667  2.33333333  2.          1.33333333  1.          0.66666667\n",
      "  0.         -0.66666667 -1.33333333 -1.66666667 -2.33333333 -2.66666667\n",
      " -3.33333333 -3.66666667 -4.         -4.         -4.         -4.         -4.\n",
      " -4.         -4.         -4.         -4.         -4.         -4.         -4.\n",
      " -4.         -4.         -4.         -4.         -4.         -4.         -4.\n",
      " -4.         -4.         -2.66666667  0.33333333  3.33333333  5.          5.\n",
      "  4.66666667  4.33333333  4.          4.          4.          3.66666667\n",
      "  3.66666667  3.33333333  3.33333333  3.          3.          2.66666667\n",
      "  2.          1.33333333  0.66666667  0.         -0.66666667 -1.\n",
      " -1.33333333 -2.         -2.66666667 -3.33333333 -0.66666667  2.          5.\n",
      "  5.          4.66666667  4.33333333  4.          4.          4.\n",
      "  3.66666667  3.66666667  3.33333333  3.33333333  3.          3.          3.\n",
      "  2.66666667  2.66666667  2.33333333  2.33333333  2.          1.66666667\n",
      "  1.66666667  1.33333333  1.66666667  1.33333333  1.33333333  0.66666667\n",
      "  0.66666667  0.66666667  0.66666667  0.33333333 -0.33333333 -1.\n",
      " -1.66666667 -2.         -2.33333333 -3.         -3.66666667 -4.         -4.\n",
      " -4.         -4.         -4.         -4.         -4.         -4.         -4.\n",
      " -4.         -4.         -4.         -4.         -4.         -4.         -4.\n",
      " -4.         -4.         -4.         -4.         -4.         -4.         -4.\n",
      " -4.         -4.         -4.         -1.33333333  1.33333333  3.33333333\n",
      "  3.          2.          2.          1.          0.66666667  0.\n",
      " -0.33333333 -1.         -1.66666667 -2.33333333 -2.66666667 -3.33333333\n",
      " -3.66666667 -4.33333333 -3.33333333 -0.33333333  3.          5.          5.\n",
      "  4.66666667  4.33333333  4.          4.          4.          3.66666667\n",
      "  3.66666667  3.33333333  3.33333333  3.          3.          3.\n",
      "  2.66666667  2.          1.33333333  1.          0.66666667  0.\n",
      " -0.66666667 -1.         -0.66666667 -0.33333333  0.          0.          0.\n",
      "  0.         -0.33333333 -0.66666667 -1.         -1.         -1.         -1.\n",
      " -1.         -1.         -1.         -1.         -1.         -1.         -1.\n",
      " -1.         -1.         -1.         -1.         -1.         -1.         -1.\n",
      " -1.         -1.         -1.         -1.         -1.         -1.         -1.\n",
      " -1.         -1.         -1.         -1.         -1.         -1.         -1.\n",
      " -1.         -1.         -1.         -1.         -1.         -1.         -1.\n",
      " -1.         -1.         -1.         -1.         -1.         -1.\n",
      "  0.33333333  0.66666667  1.          0.          0.        ]\n"
     ]
    },
    {
     "data": {
      "text/plain": [
       "{-5.0, -4.0, -1.0, 0, 3.0, 4.0, 5.0}"
      ]
     },
     "execution_count": 4,
     "metadata": {},
     "output_type": "execute_result"
    }
   ],
   "source": [
    "def thresholds(vals, t_window=5):\n",
    "    last_diff = 0\n",
    "    last_diff_t = 0\n",
    "    max_v = min(vals)\n",
    "    min_v = max(vals)\n",
    "    thresholds = set([0, min_v, max_v])\n",
    "    for t, v in enumerate(vals):\n",
    "        if (t - last_diff_t) == t_window:\n",
    "            thresholds.add(last_diff)\n",
    "        if v != last_diff:\n",
    "            last_diff = v\n",
    "            last_diff_t = t\n",
    "    return thresholds\n",
    "\n",
    "axis = 2\n",
    "window = 3\n",
    "\n",
    "velocities = track[1:,axis]-track[:-1,axis] \n",
    "print velocities\n",
    "print np.convolve(velocities, np.ones(window)/window, mode='valid')\n",
    "\n",
    "thresholds(velocities)"
   ]
  },
  {
   "cell_type": "code",
   "execution_count": 5,
   "metadata": {
    "autoscroll": "json-false",
    "collapsed": false,
    "ein.tags": [
     "worksheet-0"
    ],
    "slideshow": {
     "slide_type": "-"
    }
   },
   "outputs": [
    {
     "name": "stdout",
     "output_type": "stream",
     "text": [
      "[ 0.  0.  0.  0.  0.  0.  0.  0.  0.  5.  5.  5.  5.  4.  4.  4.  4.  4.\n",
      "  3.  4.  3.  3.  3.  3.  3.  2.  3.  2.  1.  1.  1.  0. -1. -1. -2. -2.\n",
      " -3. -3. -4. -4. -4. -4. -4. -4. -4. -4. -4. -4. -4. -4. -4. -4.  4.  3.\n",
      "  3.  2.  2.  1.  1.  0. -1. -1. -1. -2. -3. -3. -4. -5.  5.  5.  5.  5.\n",
      "  4.  4.  3.  3.  2. -1. -1. -1. -2. -3. -3. -4. -4. -4. -4. -4. -4. -1.\n",
      "  5.  5.  5.  3.  3.  3.  2.  2.  0.  1.  0.  3.  5.  5.  5.  5.  4.  4.\n",
      "  4.  4.  4.  3.  4.  3.  3.  3.  3.  3.  2.  3.  2.  1.  1.  1.  0. -1.\n",
      " -1. -2. -2. -3. -3. -4. -4. -4. -4. -4. -4. -4. -4. -4. -4. -4. -4. -4.\n",
      " -4. -4. -4. -4. -4. -4. -4. -4. -4. -4.  0.  5.  5.  5.  5.  4.  4.  4.\n",
      "  4.  4.  3.  4.  3.  3.  3.  3.  2.  1.  1.  0. -1. -1. -1. -2. -3. -3.\n",
      " -4.  5.  5.  5.  5.  4.  4.  4.  4.  4.  3.  4.  3.  3.  3.  3.  3.  2.\n",
      "  3.  2.  2.  2.  1.  2.  1.  2.  1.  1.  0.  1.  1.  0.  0. -1. -2. -2.\n",
      " -2. -3. -4. -4. -4. -4. -4. -4. -4. -4. -4. -4. -4. -4. -4. -4. -4. -4.\n",
      " -4. -4. -4. -4. -4. -4. -4. -4. -4. -4. -4. -4.  4.  4.  2.  3.  1.  2.\n",
      "  0.  0.  0. -1. -2. -2. -3. -3. -4. -4. -5. -1.  5.  5.  5.  5.  4.  4.\n",
      "  4.  4.  4.  3.  4.  3.  3.  3.  3.  3.  2.  1.  1.  1.  0. -1. -1. -1.\n",
      "  0.  0.  0.  0.  0.  0. -1. -1. -1. -1. -1. -1. -1. -1. -1. -1. -1. -1.\n",
      " -1. -1. -1. -1. -1. -1. -1. -1. -1. -1. -1. -1. -1. -1. -1. -1. -1. -1.\n",
      " -1. -1. -1. -1. -1. -1. -1. -1. -1. -1. -1. -1. -1. -1. -1. -1. -1.  3.\n",
      "  0.  0.  0.  0.]\n",
      "[ 0.   0.   0.   0.   0.   0.   0.   0.   2.5  5.   5.   5.   4.5  4.   4.\n",
      "  4.   4.   3.5  3.5  3.5  3.   3.   3.   3.   2.5  2.5  2.5  1.5  1.   1.\n",
      "  0.5 -0.5 -1.  -1.5 -2.  -2.5 -3.  -3.5 -4.  -4.  -4.  -4.  -4.  -4.  -4.\n",
      " -4.  -4.  -4.  -4.  -4.  -4.   0.   3.5  3.   2.5  2.   1.5  1.   0.5 -0.5\n",
      " -1.  -1.  -1.5 -2.5 -3.  -3.5 -4.5  0.   5.   5.   5.   4.5  4.   3.5  3.\n",
      "  2.5  0.5 -1.  -1.  -1.5 -2.5 -3.  -3.5 -4.  -4.  -4.  -4.  -4.  -2.5  2.\n",
      "  5.   5.   4.   3.   3.   2.5  2.   1.   0.5  0.5  1.5  4.   5.   5.   5.\n",
      "  4.5  4.   4.   4.   4.   3.5  3.5  3.5  3.   3.   3.   3.   2.5  2.5  2.5\n",
      "  1.5  1.   1.   0.5 -0.5 -1.  -1.5 -2.  -2.5 -3.  -3.5 -4.  -4.  -4.  -4.\n",
      " -4.  -4.  -4.  -4.  -4.  -4.  -4.  -4.  -4.  -4.  -4.  -4.  -4.  -4.  -4.\n",
      " -4.  -4.  -4.  -2.   2.5  5.   5.   5.   4.5  4.   4.   4.   4.   3.5  3.5\n",
      "  3.5  3.   3.   3.   2.5  1.5  1.   0.5 -0.5 -1.  -1.  -1.5 -2.5 -3.  -3.5\n",
      "  0.5  5.   5.   5.   4.5  4.   4.   4.   4.   3.5  3.5  3.5  3.   3.   3.\n",
      "  3.   2.5  2.5  2.5  2.   2.   1.5  1.5  1.5  1.5  1.5  1.   0.5  0.5  1.\n",
      "  0.5  0.  -0.5 -1.5 -2.  -2.  -2.5 -3.5 -4.  -4.  -4.  -4.  -4.  -4.  -4.\n",
      " -4.  -4.  -4.  -4.  -4.  -4.  -4.  -4.  -4.  -4.  -4.  -4.  -4.  -4.  -4.\n",
      " -4.  -4.  -4.  -4.  -4.   0.   4.   3.   2.5  2.   1.5  1.   0.   0.  -0.5\n",
      " -1.5 -2.  -2.5 -3.  -3.5 -4.  -4.5 -3.   2.   5.   5.   5.   4.5  4.   4.\n",
      "  4.   4.   3.5  3.5  3.5  3.   3.   3.   3.   2.5  1.5  1.   1.   0.5 -0.5\n",
      " -1.  -1.  -0.5  0.   0.   0.   0.   0.  -0.5 -1.  -1.  -1.  -1.  -1.  -1.\n",
      " -1.  -1.  -1.  -1.  -1.  -1.  -1.  -1.  -1.  -1.  -1.  -1.  -1.  -1.  -1.\n",
      " -1.  -1.  -1.  -1.  -1.  -1.  -1.  -1.  -1.  -1.  -1.  -1.  -1.  -1.  -1.\n",
      " -1.  -1.  -1.  -1.  -1.  -1.  -1.  -1.  -1.  -1.   1.   1.5  0.   0.   0.\n",
      "  0. ]\n",
      "[0, 8, 9, 13, 17, 18, 20, 24, 25, 38, 51, 52, 83, 88, 89, 106, 110, 111, 113, 117, 118, 131, 153, 154, 159, 163, 164, 185, 189, 190, 192, 196, 197, 218, 245, 246, 268, 272, 273, 275, 279, 280, 288, 293, 294, 294, 340, 341]\n",
      "[0, 7, 8, 38, 50, 51, 83, 87, 88, 131, 152, 153, 201, 205, 206, 218, 244, 245, 288, 292, 293, 294, 339, 340]\n"
     ]
    }
   ],
   "source": [
    "def samey_intervals(vals, t_window=5):\n",
    "    last_diff = 0\n",
    "    last_diff_t = 0\n",
    "    intervals = []\n",
    "    for t, v in enumerate(vals):\n",
    "        if ((t - last_diff_t) >= t_window) and v != last_diff:\n",
    "            intervals.append(last_diff_t)\n",
    "            intervals.append(t-1)\n",
    "            intervals.append(t)\n",
    "        if v != last_diff:\n",
    "            last_diff = v\n",
    "            last_diff_t = t\n",
    "    return intervals\n",
    "\n",
    "axis = 2\n",
    "window = 2\n",
    "\n",
    "velocities = track[1:,axis]-track[:-1,axis] \n",
    "smoothed = scipy.ndimage.filters.convolve1d(velocities, np.ones(window)/window)\n",
    "\n",
    "print velocities\n",
    "print smoothed\n",
    "\n",
    "print samey_intervals(velocities)\n",
    "print samey_intervals(smoothed)"
   ]
  },
  {
   "cell_type": "code",
   "execution_count": 6,
   "metadata": {
    "autoscroll": "json-false",
    "collapsed": false,
    "ein.tags": [
     "worksheet-0"
    ],
    "slideshow": {
     "slide_type": "-"
    }
   },
   "outputs": [
    {
     "name": "stdout",
     "output_type": "stream",
     "text": [
      "[ 0.  0.  0.  0.  0.  0.  0.  0.  0.  5.  5.  5.  5.  4.  4.  4.  4.  4.\n",
      "  3.  4.  3.  3.  3.  3.  3.  2.  3.  2.  1.  1.  1.  0. -1. -1. -2. -2.\n",
      " -3. -3. -4. -4. -4. -4. -4. -4. -4. -4. -4. -4. -4. -4. -4. -4.  4.  3.\n",
      "  3.  2.  2.  1.  1.  0. -1. -1. -1. -2. -3. -3. -4. -5.  5.  5.  5.  5.\n",
      "  4.  4.  3.  3.  2. -1. -1. -1. -2. -3. -3. -4. -4. -4. -4. -4. -4. -1.\n",
      "  5.  5.  5.  3.  3.  3.  2.  2.  0.  1.  0.  3.  5.  5.  5.  5.  4.  4.\n",
      "  4.  4.  4.  3.  4.  3.  3.  3.  3.  3.  2.  3.  2.  1.  1.  1.  0. -1.\n",
      " -1. -2. -2. -3. -3. -4. -4. -4. -4. -4. -4. -4. -4. -4. -4. -4. -4. -4.\n",
      " -4. -4. -4. -4. -4. -4. -4. -4. -4. -4.  0.  5.  5.  5.  5.  4.  4.  4.\n",
      "  4.  4.  3.  4.  3.  3.  3.  3.  2.  1.  1.  0. -1. -1. -1. -2. -3. -3.\n",
      " -4.  5.  5.  5.  5.  4.  4.  4.  4.  4.  3.  4.  3.  3.  3.  3.  3.  2.\n",
      "  3.  2.  2.  2.  1.  2.  1.  2.  1.  1.  0.  1.  1.  0.  0. -1. -2. -2.\n",
      " -2. -3. -4. -4. -4. -4. -4. -4. -4. -4. -4. -4. -4. -4. -4. -4. -4. -4.\n",
      " -4. -4. -4. -4. -4. -4. -4. -4. -4. -4. -4. -4.  4.  4.  2.  3.  1.  2.\n",
      "  0.  0.  0. -1. -2. -2. -3. -3. -4. -4. -5. -1.  5.  5.  5.  5.  4.  4.\n",
      "  4.  4.  4.  3.  4.  3.  3.  3.  3.  3.  2.  1.  1.  1.  0. -1. -1. -1.\n",
      "  0.  0.  0.  0.  0.  0. -1. -1. -1. -1. -1. -1. -1. -1. -1. -1. -1. -1.\n",
      " -1. -1. -1. -1. -1. -1. -1. -1. -1. -1. -1. -1. -1. -1. -1. -1. -1. -1.\n",
      " -1. -1. -1. -1. -1. -1. -1. -1. -1. -1. -1. -1. -1. -1. -1. -1. -1.  3.\n",
      "  0.  0.  0.  0.]\n",
      "[ 0.   0.   0.   0.   0.   0.   0.   0.   2.5  5.   5.   5.   4.5  4.   4.\n",
      "  4.   4.   3.5  3.5  3.5  3.   3.   3.   3.   2.5  2.5  2.5  1.5  1.   1.\n",
      "  0.5 -0.5 -1.  -1.5 -2.  -2.5 -3.  -3.5 -4.  -4.  -4.  -4.  -4.  -4.  -4.\n",
      " -4.  -4.  -4.  -4.  -4.  -4.   0.   3.5  3.   2.5  2.   1.5  1.   0.5 -0.5\n",
      " -1.  -1.  -1.5 -2.5 -3.  -3.5 -4.5  0.   5.   5.   5.   4.5  4.   3.5  3.\n",
      "  2.5  0.5 -1.  -1.  -1.5 -2.5 -3.  -3.5 -4.  -4.  -4.  -4.  -4.  -2.5  2.\n",
      "  5.   5.   4.   3.   3.   2.5  2.   1.   0.5  0.5  1.5  4.   5.   5.   5.\n",
      "  4.5  4.   4.   4.   4.   3.5  3.5  3.5  3.   3.   3.   3.   2.5  2.5  2.5\n",
      "  1.5  1.   1.   0.5 -0.5 -1.  -1.5 -2.  -2.5 -3.  -3.5 -4.  -4.  -4.  -4.\n",
      " -4.  -4.  -4.  -4.  -4.  -4.  -4.  -4.  -4.  -4.  -4.  -4.  -4.  -4.  -4.\n",
      " -4.  -4.  -4.  -2.   2.5  5.   5.   5.   4.5  4.   4.   4.   4.   3.5  3.5\n",
      "  3.5  3.   3.   3.   2.5  1.5  1.   0.5 -0.5 -1.  -1.  -1.5 -2.5 -3.  -3.5\n",
      "  0.5  5.   5.   5.   4.5  4.   4.   4.   4.   3.5  3.5  3.5  3.   3.   3.\n",
      "  3.   2.5  2.5  2.5  2.   2.   1.5  1.5  1.5  1.5  1.5  1.   0.5  0.5  1.\n",
      "  0.5  0.  -0.5 -1.5 -2.  -2.  -2.5 -3.5 -4.  -4.  -4.  -4.  -4.  -4.  -4.\n",
      " -4.  -4.  -4.  -4.  -4.  -4.  -4.  -4.  -4.  -4.  -4.  -4.  -4.  -4.  -4.\n",
      " -4.  -4.  -4.  -4.  -4.   0.   4.   3.   2.5  2.   1.5  1.   0.   0.  -0.5\n",
      " -1.5 -2.  -2.5 -3.  -3.5 -4.  -4.5 -3.   2.   5.   5.   5.   4.5  4.   4.\n",
      "  4.   4.   3.5  3.5  3.5  3.   3.   3.   3.   2.5  1.5  1.   1.   0.5 -0.5\n",
      " -1.  -1.  -0.5  0.   0.   0.   0.   0.  -0.5 -1.  -1.  -1.  -1.  -1.  -1.\n",
      " -1.  -1.  -1.  -1.  -1.  -1.  -1.  -1.  -1.  -1.  -1.  -1.  -1.  -1.  -1.\n",
      " -1.  -1.  -1.  -1.  -1.  -1.  -1.  -1.  -1.  -1.  -1.  -1.  -1.  -1.  -1.\n",
      " -1.  -1.  -1.  -1.  -1.  -1.  -1.  -1.  -1.  -1.   1.   1.5  0.   0.   0.\n",
      "  0. ]\n",
      "[0, 31, 32, 32, 51, 52, 52, 59, 60, 60, 67, 68, 68, 76, 77, 77, 89, 90, 90, 124, 125, 125, 154, 155, 155, 173, 174, 174, 180, 181, 181, 212, 213, 213, 245, 246, 246, 254, 255, 255, 263, 264, 264, 284, 285, 285, 340, 341, 341, 345]\n",
      "[0, 30, 31, 31, 51, 52, 52, 58, 59, 59, 67, 68, 68, 76, 77, 77, 88, 89, 89, 123, 124, 124, 153, 154, 154, 172, 173, 173, 179, 180, 180, 211, 212, 212, 245, 246, 246, 253, 254, 254, 262, 263, 263, 283, 284, 284, 339, 340, 340, 345]\n"
     ]
    }
   ],
   "source": [
    "def zero_crossings(vals):\n",
    "    sign_intervals = []\n",
    "    last_sign_change = 0\n",
    "    vsigns = np.sign(vals)\n",
    "    last_sign = vsigns[0]\n",
    "    for t, v in enumerate(vsigns):\n",
    "        if last_sign == 0:\n",
    "            last_sign = v\n",
    "        elif v == 0 or v == last_sign:\n",
    "            continue\n",
    "        elif v != last_sign:\n",
    "            sign_intervals.append(last_sign_change)\n",
    "            sign_intervals.append(t-1)\n",
    "            sign_intervals.append(t)\n",
    "            last_sign = v\n",
    "            last_sign_change = t\n",
    "    if t - 1 != last_sign_change:\n",
    "        sign_intervals.append(last_sign_change)\n",
    "        sign_intervals.append(t)\n",
    "    return sign_intervals\n",
    "\n",
    "axis = 2\n",
    "window = 2\n",
    "\n",
    "velocities = track[1:,axis]-track[:-1,axis] \n",
    "smoothed = scipy.ndimage.filters.convolve1d(velocities, np.ones(window)/window)\n",
    "\n",
    "print velocities\n",
    "print smoothed\n",
    "\n",
    "print zero_crossings(velocities)\n",
    "print zero_crossings(smoothed)"
   ]
  },
  {
   "cell_type": "code",
   "execution_count": 7,
   "metadata": {
    "collapsed": false,
    "scrolled": false
   },
   "outputs": [
    {
     "name": "stdout",
     "output_type": "stream",
     "text": [
      "[0, 31, 32, 51, 52, 59, 60, 67, 68, 76, 77, 89, 90, 124, 125, 154, 155, 173, 174, 180, 181, 212, 213, 245, 246, 254, 255, 263, 264, 284, 285, 340, 341, 345]\n",
      "[38, 51, 52, 131, 153, 154, 218, 245, 246, 294, 340, 341]\n"
     ]
    },
    {
     "data": {
      "image/png": "[encoded data removed]",
      "text/plain": [
       "<matplotlib.figure.Figure at 0x7f5f44011590>"
      ]
     },
     "metadata": {},
     "output_type": "display_data"
    },
    {
     "name": "stdout",
     "output_type": "stream",
     "text": [
      "38 False\n",
      "50 False\n",
      "51 False\n",
      "131 False\n",
      "152 False\n",
      "153 False\n",
      "218 False\n",
      "244 False\n",
      "245 False\n",
      "294 False\n",
      "339 False\n",
      "340 False\n",
      "[38, 51, 52, 131, 153, 154, 218, 245, 246, 294, 340, 341]\n"
     ]
    },
    {
     "data": {
      "image/png": "[encoded data removed]",
      "text/plain": [
       "<matplotlib.figure.Figure at 0x7f5f43f15f50>"
      ]
     },
     "metadata": {},
     "output_type": "display_data"
    },
    {
     "name": "stdout",
     "output_type": "stream",
     "text": [
      "39 False\n",
      "50 False\n",
      "51 False\n",
      "132 False\n",
      "152 False\n",
      "153 False\n",
      "219 False\n",
      "244 False\n",
      "245 False\n",
      "295 False\n",
      "339 False\n",
      "340 False\n",
      "[38, 51, 52, 131, 153, 154, 218, 245, 246, 294, 340, 341]\n"
     ]
    },
    {
     "data": {
      "image/png": "[encoded data removed]",
      "text/plain": [
       "<matplotlib.figure.Figure at 0x7f5f43f85150>"
      ]
     },
     "metadata": {},
     "output_type": "display_data"
    },
    {
     "name": "stdout",
     "output_type": "stream",
     "text": [
      "39 False\n",
      "49 False\n",
      "50 False\n",
      "132 False\n",
      "151 False\n",
      "152 False\n",
      "219 False\n",
      "243 False\n",
      "244 False\n",
      "295 False\n",
      "338 False\n",
      "339 False\n",
      "[38, 51, 52, 131, 153, 154, 218, 245, 246, 294, 340, 341]\n"
     ]
    },
    {
     "data": {
      "image/png": "[encoded data removed]",
      "text/plain": [
       "<matplotlib.figure.Figure at 0x7f5f3e600750>"
      ]
     },
     "metadata": {},
     "output_type": "display_data"
    },
    {
     "name": "stdout",
     "output_type": "stream",
     "text": [
      "40 False\n",
      "49 False\n",
      "50 False\n",
      "133 False\n",
      "151 False\n",
      "152 False\n",
      "220 False\n",
      "243 False\n",
      "244 False\n",
      "296 False\n",
      "338 False\n",
      "339 False\n",
      "[38, 51, 52, 131, 153, 154, 218, 245, 246, 294, 340, 341]\n"
     ]
    },
    {
     "data": {
      "image/png": "[encoded data removed]",
      "text/plain": [
       "<matplotlib.figure.Figure at 0x7f5f440114d0>"
      ]
     },
     "metadata": {},
     "output_type": "display_data"
    },
    {
     "data": {
      "image/png": "[encoded data removed]",
      "text/plain": [
       "<matplotlib.figure.Figure at 0x7f5f3e481dd0>"
      ]
     },
     "metadata": {},
     "output_type": "display_data"
    }
   ],
   "source": [
    "axis = 2\n",
    "\n",
    "velocities = track[1:,axis]-track[:-1,axis] \n",
    "\n",
    "same_window = 10\n",
    "\n",
    "switch_points = set(zero_crossings(velocities))\n",
    "print sorted(switch_points)\n",
    "\n",
    "smoothed_points = set(samey_intervals(velocities,t_window=same_window))\n",
    "print sorted(smoothed_points)\n",
    "for w in range(2,6):\n",
    "    smoothed = scipy.ndimage.filters.convolve1d(velocities, np.ones(w)/w)\n",
    "    #print smoothed\n",
    "    plt.plot(smoothed)\n",
    "    \n",
    "    points = samey_intervals(smoothed,t_window=same_window)\n",
    "    plt.plot(np.array(points),smoothed[np.array(points,dtype='int')],'rx')\n",
    "    plt.show()\n",
    "    \n",
    "    pts = set()\n",
    "    for pt in smoothed_points:\n",
    "        added = False\n",
    "        for ii in range(-same_window,same_window+1):\n",
    "            if pt+ii in points:\n",
    "                pts.add(pt)\n",
    "    \n",
    "    for pt in points:\n",
    "        add = True\n",
    "        for ii in range(-same_window,same_window+1):\n",
    "            if pt+ii in pts:\n",
    "                add = False\n",
    "        print pt,add\n",
    "        if add:\n",
    "            pts.add(pt)\n",
    "    print sorted(pts)\n",
    "    \n",
    "    smoothed_points = pts\n",
    "\n",
    "velocity_times = sorted(switch_points |smoothed_points)\n",
    "\n",
    "plt.plot(velocities)\n",
    "plt.show()\n",
    "\n",
    "plt.plot(track[:,2])\n",
    "plt.plot(np.array(velocity_times),track[np.array(velocity_times,dtype='int'),2],'rx')\n",
    "plt.show()\n"
   ]
  },
  {
   "cell_type": "code",
   "execution_count": 8,
   "metadata": {
    "collapsed": false,
    "scrolled": true
   },
   "outputs": [
    {
     "data": {
      "image/png": "[encoded data removed]",
      "text/plain": [
       "<matplotlib.figure.Figure at 0x7f5f3e3b59d0>"
      ]
     },
     "metadata": {},
     "output_type": "display_data"
    }
   ],
   "source": [
    "def button_change_times(button_masks):\n",
    "    last_mask = 0\n",
    "    mask_times = []\n",
    "    for t, b in enumerate(button_masks):\n",
    "        if b != last_mask:\n",
    "            mask_times.append(t)\n",
    "            last_mask = b\n",
    "    return mask_times\n",
    "\n",
    "button_times = button_change_times(track[:,3])\n",
    "\n",
    "plt.plot(track[:,2])\n",
    "plt.plot(np.array(button_times),track[np.array(button_times,dtype='int'),2],'rx')\n",
    "plt.show()"
   ]
  },
  {
   "cell_type": "code",
   "execution_count": 9,
   "metadata": {
    "collapsed": false
   },
   "outputs": [
    {
     "name": "stdout",
     "output_type": "stream",
     "text": [
      "{'accN': 5, 'cN': 2, 'acc0': 3, 'c0': 0, 'cP': 1, 'accP': 4}\n"
     ]
    }
   ],
   "source": [
    "# Templates is an array of model-generating functions of increasing complexity.\n",
    "templates = [\n",
    "    # Constant 0 velocity\n",
    "    (\"c0\",lambda n,axis,vs,pv: pm.Normal(\n",
    "        n, \n",
    "        mu=0,\n",
    "        sd=pm.HalfCauchy(n+\"_err\",beta=10),\n",
    "        observed=vs[:,axis]\n",
    "    )),\n",
    "    # Constant velocity from old value\n",
    "    (\"cP\",lambda n,axis,vs,pv: pm.Normal(\n",
    "        n,\n",
    "        mu=pv,\n",
    "        sd=pm.HalfCauchy(n+\"_err\",beta=10),\n",
    "        observed=vs[:,axis]\n",
    "    )),\n",
    "    # Fixed constant velocity\n",
    "    (\"cN\",lambda n,axis,vs,pv: pm.Normal(\n",
    "        n,\n",
    "        mu=pm.Normal(n+\"_N\",mu=0,sd=10),\n",
    "        sd=pm.HalfCauchy(n+\"_err\",beta=10),\n",
    "        observed=vs[:,axis]\n",
    "    )),\n",
    "    # Constant acceleration from 0\n",
    "    (\"acc0\",lambda n,axis,vs,pv: pm.Normal(\n",
    "        n,\n",
    "        mu=pm.Normal(n+\"_acc\",mu=0,sd=10)*vs[:,0],\n",
    "        sd=pm.HalfCauchy(n+\"_err\",beta=10),\n",
    "        observed=vs[:,axis]\n",
    "    )),\n",
    "    # Constant acceleration from old velocity value\n",
    "    (\"accP\",lambda n,axis,vs,pv: pm.Normal(\n",
    "        n,\n",
    "        mu=pv+pm.Normal(n+\"_acc\",mu=0,sd=10)*vs[:,0],\n",
    "        sd=pm.HalfCauchy(n+\"_err\",beta=10),\n",
    "        observed=vs[:,axis]\n",
    "    )),\n",
    "    # Constant acceleration from fixed constant velocity\n",
    "    (\"accN\",lambda n,axis,vs,pv: pm.Normal(\n",
    "        n,\n",
    "        mu=pm.Normal(n+\"_N\",mu=0,sd=10)+pm.Normal(n+\"_acc\",mu=0,sd=20)*vs[:,0],\n",
    "        sd=pm.HalfCauchy(n+\"_err\",beta=10),\n",
    "        observed=vs[:,axis]\n",
    "    )),\n",
    "]\n",
    "templates = templates\n",
    "type2ind = {t[0]:i for i,t in enumerate(templates)}\n",
    "print type2ind"
   ]
  },
  {
   "cell_type": "code",
   "execution_count": 10,
   "metadata": {
    "collapsed": true
   },
   "outputs": [],
   "source": [
    "iterations = 5000\n",
    "def model_template_generate(template_i, axis, segment, prev_val):\n",
    "    axisNames = [None,\"x\",\"y\"]\n",
    "    template = templates[template_i]\n",
    "    (tn, t) = template\n",
    "    with pm.Model() as model:\n",
    "        lik = t(axisNames[axis],axis,segment,prev_val)\n",
    "        step = pm.Metropolis()\n",
    "        trace = pm.sample(iterations, step, progressbar=True)\n",
    "        subtrace = trace[len(trace)/2:-1:10]\n",
    "    return (tn,model,subtrace)"
   ]
  },
  {
   "cell_type": "code",
   "execution_count": 11,
   "metadata": {
    "collapsed": false
   },
   "outputs": [],
   "source": [
    "def model_set_generate(data):\n",
    "    track,all_times,axis,i,j = data\n",
    "    t0 = all_times[i]\n",
    "    t1 = all_times[j]\n",
    "    print \"go\",i,j,t0,t1\n",
    "    if t0 == 0:\n",
    "        segment = track[t0+1:t1+1]-track[t0:t1]\n",
    "        prev_vel = float('inf')\n",
    "    elif t1+1 > np.shape(track)[1]:\n",
    "        extended_track = np.concatenate((track,[track[-1]]))\n",
    "        segment = extended_track[t0+1:t1+1]-extended_track[t0:t1]\n",
    "        prev_vel = track[t0,axis]-track[t0-1,axis]\n",
    "    else:\n",
    "        #9,10,11 - 8,9,10\n",
    "        segment = track[t0+1:t1+1]-track[t0:t1]\n",
    "        prev_vel = track[t0,axis]-track[t0-1,axis]\n",
    "    segment[:,0] = range(0,np.shape(segment)[0])\n",
    "    result = map(\n",
    "        lambda ti: model_template_generate(ti, \n",
    "                                           axis,\n",
    "                                           segment,\n",
    "                                           prev_vel),\n",
    "        range(0,len(templates)))\n",
    "    return (i,j,t0,t1,result)"
   ]
  },
  {
   "cell_type": "code",
   "execution_count": 12,
   "metadata": {
    "collapsed": false,
    "scrolled": true
   },
   "outputs": [
    {
     "data": {
      "image/png": "[encoded data removed]",
      "text/plain": [
       "<matplotlib.figure.Figure at 0x7f5f4400ca10>"
      ]
     },
     "metadata": {},
     "output_type": "display_data"
    },
    {
     "name": "stdout",
     "output_type": "stream",
     "text": [
      "0\n",
      "go 0 1 0 9\n"
     ]
    },
    {
     "name": "stderr",
     "output_type": "stream",
     "text": [
      "100%|██████████| 5000/5000 [00:00<00:00, 11387.81it/s]\n",
      "100%|██████████| 5000/5000 [00:00<00:00, 13628.81it/s]\n",
      "100%|██████████| 5000/5000 [00:00<00:00, 7235.54it/s]\n",
      "100%|██████████| 5000/5000 [00:00<00:00, 6818.72it/s]\n",
      "100%|██████████| 5000/5000 [00:00<00:00, 7105.82it/s]\n",
      "100%|██████████| 5000/5000 [00:01<00:00, 3990.50it/s]\n"
     ]
    },
    {
     "name": "stdout",
     "output_type": "stream",
     "text": [
      "-314.124617218\n",
      "inf\n",
      "-38.408245013\n",
      "-36.2266883277\n",
      "inf\n",
      "-25.5733209865\n",
      "go 0 2 0 11\n"
     ]
    },
    {
     "name": "stderr",
     "output_type": "stream",
     "text": [
      "100%|██████████| 5000/5000 [00:00<00:00, 12568.69it/s]\n",
      "100%|██████████| 5000/5000 [00:00<00:00, 14032.61it/s]\n",
      "100%|██████████| 5000/5000 [00:00<00:00, 7025.04it/s]\n",
      "100%|██████████| 5000/5000 [00:00<00:00, 6991.91it/s]\n",
      "100%|██████████| 5000/5000 [00:00<00:00, 7392.08it/s]\n",
      "100%|██████████| 5000/5000 [00:01<00:00, 4835.95it/s]\n"
     ]
    },
    {
     "name": "stdout",
     "output_type": "stream",
     "text": [
      "2.40515428112\n",
      "inf\n",
      "2.66254795212\n",
      "2.46667392256\n",
      "inf\n",
      "2.8053692709\n",
      "9\n",
      "go 1 3 9 27\n"
     ]
    },
    {
     "name": "stderr",
     "output_type": "stream",
     "text": [
      "100%|██████████| 5000/5000 [00:00<00:00, 13270.87it/s]\n",
      "100%|██████████| 5000/5000 [00:00<00:00, 13571.13it/s]\n",
      "100%|██████████| 5000/5000 [00:00<00:00, 6733.70it/s]\n",
      "100%|██████████| 5000/5000 [00:00<00:00, 6730.47it/s]\n",
      "100%|██████████| 5000/5000 [00:00<00:00, 6655.17it/s]\n",
      "100%|██████████| 5000/5000 [00:01<00:00, 4758.43it/s]\n"
     ]
    },
    {
     "name": "stdout",
     "output_type": "stream",
     "text": [
      "2.8697303505\n",
      "2.87201284079\n",
      "1.68397231061\n",
      "2.73710711235\n",
      "2.72750017086\n",
      "1.0582912504\n",
      "go 1 4 9 31\n"
     ]
    },
    {
     "name": "stderr",
     "output_type": "stream",
     "text": [
      "100%|██████████| 5000/5000 [00:00<00:00, 12743.11it/s]\n",
      "100%|██████████| 5000/5000 [00:00<00:00, 13219.43it/s]\n",
      "100%|██████████| 5000/5000 [00:00<00:00, 6775.50it/s]\n",
      "100%|██████████| 5000/5000 [00:00<00:00, 6771.98it/s]\n",
      "100%|██████████| 5000/5000 [00:00<00:00, 6620.98it/s]\n",
      "100%|██████████| 5000/5000 [00:01<00:00, 4561.27it/s]\n"
     ]
    },
    {
     "name": "stdout",
     "output_type": "stream",
     "text": [
      "2.77270264878\n",
      "2.76985868821\n",
      "1.95287668854\n",
      "2.70060208274\n",
      "2.69807550284\n",
      "1.09538500008\n",
      "11\n",
      "go 2 3 11 27\n"
     ]
    },
    {
     "name": "stderr",
     "output_type": "stream",
     "text": [
      "100%|██████████| 5000/5000 [00:00<00:00, 12524.77it/s]\n",
      "100%|██████████| 5000/5000 [00:00<00:00, 12567.75it/s]\n",
      "100%|██████████| 5000/5000 [00:00<00:00, 6688.71it/s]\n",
      "100%|██████████| 5000/5000 [00:00<00:00, 6669.87it/s]\n",
      "100%|██████████| 5000/5000 [00:00<00:00, 6632.71it/s]\n",
      "100%|██████████| 5000/5000 [00:01<00:00, 4693.72it/s]\n"
     ]
    },
    {
     "name": "stdout",
     "output_type": "stream",
     "text": [
      "2.8387598274\n",
      "2.08978908031\n",
      "1.64777644773\n",
      "2.7082644754\n",
      "0.993555670707\n",
      "1.20244887632\n",
      "go 2 4 11 31\n"
     ]
    },
    {
     "name": "stderr",
     "output_type": "stream",
     "text": [
      "100%|██████████| 5000/5000 [00:00<00:00, 12954.01it/s]\n",
      "100%|██████████| 5000/5000 [00:00<00:00, 13028.60it/s]\n",
      "100%|██████████| 5000/5000 [00:00<00:00, 6823.84it/s]\n",
      "100%|██████████| 5000/5000 [00:00<00:00, 6762.90it/s]\n",
      "100%|██████████| 5000/5000 [00:00<00:00, 6774.63it/s]\n",
      "100%|██████████| 5000/5000 [00:01<00:00, 4626.87it/s]\n"
     ]
    },
    {
     "name": "stdout",
     "output_type": "stream",
     "text": [
      "2.73007600213\n",
      "2.34969499633\n",
      "1.92103750218\n",
      "2.66927830194\n",
      "0.954096742894\n",
      "1.18220936874\n",
      "go 2 5 11 32\n"
     ]
    },
    {
     "name": "stderr",
     "output_type": "stream",
     "text": [
      "100%|██████████| 5000/5000 [00:00<00:00, 13247.38it/s]\n",
      "100%|██████████| 5000/5000 [00:00<00:00, 13376.82it/s]\n",
      "100%|██████████| 5000/5000 [00:00<00:00, 6811.42it/s]\n",
      "100%|██████████| 5000/5000 [00:00<00:00, 6715.02it/s]\n",
      "100%|██████████| 5000/5000 [00:00<00:00, 6827.55it/s]\n",
      "100%|██████████| 5000/5000 [00:01<00:00, 4519.04it/s]\n"
     ]
    },
    {
     "name": "stdout",
     "output_type": "stream",
     "text": [
      "2.6984069376\n",
      "2.42529326115\n",
      "2.02364590939\n",
      "2.67642412575\n",
      "1.0254032395\n",
      "1.23148132236\n",
      "27\n",
      "go 3 5 27 32\n"
     ]
    },
    {
     "name": "stderr",
     "output_type": "stream",
     "text": [
      "100%|██████████| 5000/5000 [00:00<00:00, 11676.68it/s]\n",
      "100%|██████████| 5000/5000 [00:00<00:00, 11921.94it/s]\n",
      "100%|██████████| 5000/5000 [00:00<00:00, 6707.92it/s]\n",
      "100%|██████████| 5000/5000 [00:00<00:00, 7018.98it/s]\n",
      "100%|██████████| 5000/5000 [00:00<00:00, 7323.90it/s]\n",
      "100%|██████████| 5000/5000 [00:01<00:00, 4861.81it/s]\n"
     ]
    },
    {
     "name": "stdout",
     "output_type": "stream",
     "text": [
      "2.20183318557\n",
      "2.64674378908\n",
      "2.49959187745\n",
      "2.91580740348\n",
      "2.63180829885\n",
      "2.84545504392\n",
      "go 3 6 27 38\n"
     ]
    },
    {
     "name": "stderr",
     "output_type": "stream",
     "text": [
      "100%|██████████| 5000/5000 [00:00<00:00, 12807.86it/s]\n",
      "100%|██████████| 5000/5000 [00:00<00:00, 13088.15it/s]\n",
      "100%|██████████| 5000/5000 [00:00<00:00, 6734.00it/s]\n",
      "100%|██████████| 5000/5000 [00:00<00:00, 6637.11it/s]\n",
      "100%|██████████| 5000/5000 [00:00<00:00, 6777.08it/s]\n",
      "100%|██████████| 5000/5000 [00:01<00:00, 4781.41it/s]\n"
     ]
    },
    {
     "name": "stdout",
     "output_type": "stream",
     "text": [
      "2.24143066158\n",
      "2.99028713211\n",
      "2.53132585243\n",
      "2.14200788998\n",
      "1.64423006425\n",
      "1.37664423515\n",
      "go 3 7 27 51\n"
     ]
    },
    {
     "name": "stderr",
     "output_type": "stream",
     "text": [
      "100%|██████████| 5000/5000 [00:00<00:00, 13208.43it/s]\n",
      "100%|██████████| 5000/5000 [00:00<00:00, 12648.81it/s]\n",
      "100%|██████████| 5000/5000 [00:00<00:00, 6241.54it/s]\n",
      "100%|██████████| 5000/5000 [00:00<00:00, 6605.18it/s]\n",
      "100%|██████████| 5000/5000 [00:00<00:00, 6720.67it/s]\n",
      "100%|██████████| 5000/5000 [00:01<00:00, 4670.84it/s]\n"
     ]
    },
    {
     "name": "stdout",
     "output_type": "stream",
     "text": [
      "2.66833685738\n",
      "3.25551927982\n",
      "2.39098157082\n",
      "1.68441126398\n",
      "2.15214244887\n",
      "1.82724566729\n",
      "31\n",
      "go 4 6 31 38\n"
     ]
    },
    {
     "name": "stderr",
     "output_type": "stream",
     "text": [
      "100%|██████████| 5000/5000 [00:00<00:00, 13615.78it/s]\n",
      "100%|██████████| 5000/5000 [00:00<00:00, 13461.71it/s]\n",
      "100%|██████████| 5000/5000 [00:00<00:00, 7682.72it/s]\n",
      "100%|██████████| 5000/5000 [00:00<00:00, 6961.45it/s]\n",
      "100%|██████████| 5000/5000 [00:00<00:00, 6988.51it/s]\n",
      "100%|██████████| 5000/5000 [00:01<00:00, 4775.76it/s]\n"
     ]
    },
    {
     "name": "stdout",
     "output_type": "stream",
     "text": [
      "2.47811048777\n",
      "2.81069903209\n",
      "2.49795726696\n",
      "1.32347729603\n",
      "2.14423871955\n",
      "1.91625741444\n",
      "go 4 7 31 51\n"
     ]
    },
    {
     "name": "stderr",
     "output_type": "stream",
     "text": [
      "100%|██████████| 5000/5000 [00:00<00:00, 13046.25it/s]\n",
      "100%|██████████| 5000/5000 [00:00<00:00, 12906.69it/s]\n",
      "100%|██████████| 5000/5000 [00:00<00:00, 6617.27it/s]\n",
      "100%|██████████| 5000/5000 [00:00<00:00, 6761.62it/s]\n",
      "100%|██████████| 5000/5000 [00:00<00:00, 6665.32it/s]\n",
      "100%|██████████| 5000/5000 [00:01<00:00, 4556.59it/s]\n"
     ]
    },
    {
     "name": "stdout",
     "output_type": "stream",
     "text": [
      "2.7589909157\n",
      "2.99309840192\n",
      "1.98450728158\n",
      "1.83494712995\n",
      "2.14727922676\n",
      "1.67174746313\n",
      "32\n",
      "go 5 6 32 38\n"
     ]
    },
    {
     "name": "stderr",
     "output_type": "stream",
     "text": [
      "100%|██████████| 5000/5000 [00:00<00:00, 12657.59it/s]\n",
      "100%|██████████| 5000/5000 [00:00<00:00, 12979.96it/s]\n",
      "100%|██████████| 5000/5000 [00:00<00:00, 6807.98it/s]\n",
      "100%|██████████| 5000/5000 [00:00<00:00, 7380.56it/s]\n",
      "100%|██████████| 5000/5000 [00:00<00:00, 7048.74it/s]\n",
      "100%|██████████| 5000/5000 [00:01<00:00, 4802.62it/s]\n"
     ]
    },
    {
     "name": "stdout",
     "output_type": "stream",
     "text": [
      "2.60702365839\n",
      "2.60589205513\n",
      "2.46249724248\n",
      "2.07465763226\n",
      "2.1058875133\n",
      "2.23039504809\n",
      "go 5 7 32 51\n"
     ]
    },
    {
     "name": "stderr",
     "output_type": "stream",
     "text": [
      "100%|██████████| 5000/5000 [00:00<00:00, 12685.01it/s]\n",
      "100%|██████████| 5000/5000 [00:00<00:00, 12168.73it/s]\n",
      "100%|██████████| 5000/5000 [00:00<00:00, 6471.41it/s]\n",
      "100%|██████████| 5000/5000 [00:00<00:00, 6660.40it/s]\n",
      "100%|██████████| 5000/5000 [00:00<00:00, 6293.04it/s]\n",
      "100%|██████████| 5000/5000 [00:01<00:00, 4422.86it/s]\n"
     ]
    },
    {
     "name": "stdout",
     "output_type": "stream",
     "text": [
      "2.78905929423\n",
      "2.7918359527\n",
      "1.82248305863\n",
      "1.97685890697\n",
      "1.97734918775\n",
      "1.59444354555\n",
      "go 5 8 32 52\n"
     ]
    },
    {
     "name": "stderr",
     "output_type": "stream",
     "text": [
      "100%|██████████| 5000/5000 [00:00<00:00, 12859.16it/s]\n",
      "100%|██████████| 5000/5000 [00:00<00:00, 12771.59it/s]\n",
      "100%|██████████| 5000/5000 [00:00<00:00, 6665.81it/s]\n",
      "100%|██████████| 5000/5000 [00:00<00:00, 6673.98it/s]\n",
      "100%|██████████| 5000/5000 [00:00<00:00, 6852.12it/s]\n",
      "100%|██████████| 5000/5000 [00:01<00:00, 4285.77it/s]\n"
     ]
    },
    {
     "name": "stdout",
     "output_type": "stream",
     "text": [
      "2.7921662561\n",
      "2.79115943466\n",
      "1.80099452263\n",
      "1.98382532695\n",
      "1.98187636742\n",
      "1.56006428368\n",
      "go 5 9 32 59\n"
     ]
    },
    {
     "name": "stderr",
     "output_type": "stream",
     "text": [
      "100%|██████████| 5000/5000 [00:00<00:00, 12568.66it/s]\n",
      "100%|██████████| 5000/5000 [00:00<00:00, 12279.54it/s]\n",
      "100%|██████████| 5000/5000 [00:00<00:00, 6627.13it/s]\n",
      "100%|██████████| 5000/5000 [00:00<00:00, 6740.01it/s]\n",
      "100%|██████████| 5000/5000 [00:00<00:00, 6755.14it/s]\n",
      "100%|██████████| 5000/5000 [00:01<00:00, 4713.94it/s]\n"
     ]
    },
    {
     "name": "stdout",
     "output_type": "stream",
     "text": [
      "2.69879466162\n",
      "2.6971943412\n",
      "2.63292498732\n",
      "2.79137081454\n",
      "2.79655226121\n",
      "2.65044423547\n",
      "38\n",
      "go 6 7 38 51\n"
     ]
    },
    {
     "name": "stderr",
     "output_type": "stream",
     "text": [
      "100%|██████████| 5000/5000 [00:00<00:00, 12133.19it/s]\n",
      "100%|██████████| 5000/5000 [00:00<00:00, 12765.82it/s]\n",
      "100%|██████████| 5000/5000 [00:00<00:00, 6729.07it/s]\n",
      "100%|██████████| 5000/5000 [00:00<00:00, 6775.32it/s]\n",
      "100%|██████████| 5000/5000 [00:00<00:00, 6800.07it/s]\n",
      "100%|██████████| 5000/5000 [00:01<00:00, 4681.54it/s]\n"
     ]
    },
    {
     "name": "stdout",
     "output_type": "stream",
     "text": [
      "2.95947833146\n",
      "1.66963815849\n",
      "-252.022831139\n",
      "2.65397725481\n",
      "1.38179181342\n",
      "-20.2558800621\n",
      "go 6 8 38 52\n"
     ]
    },
    {
     "name": "stderr",
     "output_type": "stream",
     "text": [
      "100%|██████████| 5000/5000 [00:00<00:00, 13034.52it/s]\n",
      "100%|██████████| 5000/5000 [00:00<00:00, 13168.57it/s]\n",
      "100%|██████████| 5000/5000 [00:00<00:00, 6901.21it/s]\n",
      "100%|██████████| 5000/5000 [00:00<00:00, 6733.21it/s]\n",
      "100%|██████████| 5000/5000 [00:00<00:00, 6747.22it/s]\n",
      "100%|██████████| 5000/5000 [00:01<00:00, 4630.08it/s]\n"
     ]
    },
    {
     "name": "stdout",
     "output_type": "stream",
     "text": [
      "2.94803395502\n",
      "1.65471378295\n",
      "-247.729470889\n",
      "2.61813833035\n",
      "1.32798033796\n",
      "-75.1986008332\n",
      "51\n",
      "go 7 9 51 59\n"
     ]
    },
    {
     "name": "stderr",
     "output_type": "stream",
     "text": [
      "100%|██████████| 5000/5000 [00:00<00:00, 13009.85it/s]\n",
      "100%|██████████| 5000/5000 [00:00<00:00, 12953.77it/s]\n",
      "100%|██████████| 5000/5000 [00:00<00:00, 6806.82it/s]\n",
      "100%|██████████| 5000/5000 [00:00<00:00, 6796.10it/s]\n",
      "100%|██████████| 5000/5000 [00:00<00:00, 6813.17it/s]\n",
      "100%|██████████| 5000/5000 [00:01<00:00, 4709.30it/s]\n"
     ]
    },
    {
     "name": "stdout",
     "output_type": "stream",
     "text": [
      "2.71538528542\n",
      "3.4271319204\n",
      "3.05831153319\n",
      "3.04089302811\n",
      "3.41326487369\n",
      "3.60661097336\n",
      "go 7 10 51 60\n"
     ]
    },
    {
     "name": "stderr",
     "output_type": "stream",
     "text": [
      "100%|██████████| 5000/5000 [00:00<00:00, 12650.55it/s]\n",
      "100%|██████████| 5000/5000 [00:00<00:00, 12706.06it/s]\n",
      "100%|██████████| 5000/5000 [00:00<00:00, 6688.94it/s]\n",
      "100%|██████████| 5000/5000 [00:00<00:00, 6488.26it/s]\n",
      "100%|██████████| 5000/5000 [00:00<00:00, 6459.36it/s]\n",
      "100%|██████████| 5000/5000 [00:01<00:00, 4645.78it/s]\n"
     ]
    },
    {
     "name": "stdout",
     "output_type": "stream",
     "text": [
      "2.63223926531\n",
      "3.36512106597\n",
      "2.91146258886\n",
      "2.94372097875\n",
      "3.34133305526\n",
      "3.41704774068\n",
      "go 7 11 51 67\n"
     ]
    },
    {
     "name": "stderr",
     "output_type": "stream",
     "text": [
      "100%|██████████| 5000/5000 [00:00<00:00, 13112.04it/s]\n",
      "100%|██████████| 5000/5000 [00:00<00:00, 12951.99it/s]\n",
      "100%|██████████| 5000/5000 [00:00<00:00, 6753.94it/s]\n",
      "100%|██████████| 5000/5000 [00:00<00:00, 6644.88it/s]\n",
      "100%|██████████| 5000/5000 [00:00<00:00, 6055.76it/s]\n",
      "100%|██████████| 5000/5000 [00:01<00:00, 4692.58it/s]\n"
     ]
    },
    {
     "name": "stdout",
     "output_type": "stream",
     "text": [
      "2.49139969399\n",
      "3.05678584997\n",
      "2.72061963294\n",
      "2.63882874133\n",
      "3.13871250803\n",
      "2.74915442571\n",
      "go 7 12 51 68\n"
     ]
    },
    {
     "name": "stderr",
     "output_type": "stream",
     "text": [
      "100%|██████████| 5000/5000 [00:00<00:00, 12641.52it/s]\n",
      "100%|██████████| 5000/5000 [00:00<00:00, 13143.09it/s]\n",
      "100%|██████████| 5000/5000 [00:00<00:00, 6759.52it/s]\n",
      "100%|██████████| 5000/5000 [00:00<00:00, 6817.86it/s]\n",
      "100%|██████████| 5000/5000 [00:00<00:00, 6830.45it/s]\n",
      "100%|██████████| 5000/5000 [00:01<00:00, 4697.91it/s]\n"
     ]
    },
    {
     "name": "stdout",
     "output_type": "stream",
     "text": [
      "2.55434217895\n",
      "3.02361795469\n",
      "2.7619380195\n",
      "2.62829063836\n",
      "3.13421736829\n",
      "2.68620659103\n",
      "52\n",
      "go 8 9 52 59\n"
     ]
    },
    {
     "name": "stderr",
     "output_type": "stream",
     "text": [
      "100%|██████████| 5000/5000 [00:00<00:00, 13108.67it/s]\n",
      "100%|██████████| 5000/5000 [00:00<00:00, 13404.03it/s]\n",
      "100%|██████████| 5000/5000 [00:00<00:00, 7451.96it/s]\n",
      "100%|██████████| 5000/5000 [00:00<00:00, 6910.29it/s]\n",
      "100%|██████████| 5000/5000 [00:00<00:00, 6850.94it/s]\n",
      "100%|██████████| 5000/5000 [00:01<00:00, 4791.32it/s]\n"
     ]
    },
    {
     "name": "stdout",
     "output_type": "stream",
     "text": [
      "2.67060202293\n",
      "3.52022081636\n",
      "2.46591508887\n",
      "3.07088729499\n",
      "3.72557153382\n",
      "1.91907520025\n",
      "go 8 10 52 60\n"
     ]
    },
    {
     "name": "stderr",
     "output_type": "stream",
     "text": [
      "100%|██████████| 5000/5000 [00:00<00:00, 13230.32it/s]\n",
      "100%|██████████| 5000/5000 [00:00<00:00, 13593.79it/s]\n",
      "100%|██████████| 5000/5000 [00:00<00:00, 6911.27it/s]\n",
      "100%|██████████| 5000/5000 [00:00<00:00, 6483.37it/s]\n",
      "100%|██████████| 5000/5000 [00:00<00:00, 6453.37it/s]\n",
      "100%|██████████| 5000/5000 [00:01<00:00, 4515.27it/s]\n"
     ]
    },
    {
     "name": "stdout",
     "output_type": "stream",
     "text": [
      "2.57576176432\n",
      "3.44844955217\n",
      "2.48863643849\n",
      "2.95961344856\n",
      "3.60642245504\n",
      "1.65333377578\n",
      "go 8 11 52 67\n"
     ]
    },
    {
     "name": "stderr",
     "output_type": "stream",
     "text": [
      "100%|██████████| 5000/5000 [00:00<00:00, 13003.26it/s]\n",
      "100%|██████████| 5000/5000 [00:00<00:00, 12934.36it/s]\n",
      "100%|██████████| 5000/5000 [00:00<00:00, 6594.67it/s]\n",
      "100%|██████████| 5000/5000 [00:00<00:00, 6658.30it/s]\n",
      "100%|██████████| 5000/5000 [00:00<00:00, 6665.77it/s]\n",
      "100%|██████████| 5000/5000 [00:01<00:00, 4671.23it/s]\n"
     ]
    },
    {
     "name": "stdout",
     "output_type": "stream",
     "text": [
      "2.45135067511\n",
      "3.09717529373\n",
      "2.70356258638\n",
      "2.57280814913\n",
      "3.22506554492\n",
      "1.07232191515\n",
      "go 8 12 52 68\n"
     ]
    },
    {
     "name": "stderr",
     "output_type": "stream",
     "text": [
      "100%|██████████| 5000/5000 [00:00<00:00, 13067.01it/s]\n",
      "100%|██████████| 5000/5000 [00:00<00:00, 12867.49it/s]\n",
      "100%|██████████| 5000/5000 [00:00<00:00, 6860.44it/s]\n",
      "100%|██████████| 5000/5000 [00:00<00:00, 6765.83it/s]\n",
      "100%|██████████| 5000/5000 [00:00<00:00, 6723.72it/s]\n",
      "100%|██████████| 5000/5000 [00:01<00:00, 4697.85it/s]\n"
     ]
    },
    {
     "name": "stdout",
     "output_type": "stream",
     "text": [
      "2.52984650726\n",
      "3.06807538973\n",
      "2.76297541617\n",
      "2.55307462161\n",
      "3.21278633468\n",
      "1.08655758749\n",
      "59\n",
      "go 9 11 59 67\n"
     ]
    },
    {
     "name": "stderr",
     "output_type": "stream",
     "text": [
      "100%|██████████| 5000/5000 [00:00<00:00, 13009.72it/s]\n",
      "100%|██████████| 5000/5000 [00:00<00:00, 13333.23it/s]\n",
      "100%|██████████| 5000/5000 [00:00<00:00, 6865.92it/s]\n",
      "100%|██████████| 5000/5000 [00:00<00:00, 6758.70it/s]\n",
      "100%|██████████| 5000/5000 [00:00<00:00, 6726.86it/s]\n",
      "100%|██████████| 5000/5000 [00:01<00:00, 4670.90it/s]\n"
     ]
    },
    {
     "name": "stdout",
     "output_type": "stream",
     "text": [
      "2.53814392848\n",
      "2.83957382599\n",
      "2.50519003476\n",
      "1.29428684884\n",
      "1.89849765856\n",
      "1.87104416619\n",
      "go 9 12 59 68\n"
     ]
    },
    {
     "name": "stderr",
     "output_type": "stream",
     "text": [
      "100%|██████████| 5000/5000 [00:00<00:00, 12234.18it/s]\n",
      "100%|██████████| 5000/5000 [00:00<00:00, 12989.64it/s]\n",
      "100%|██████████| 5000/5000 [00:00<00:00, 6858.44it/s]\n",
      "100%|██████████| 5000/5000 [00:00<00:00, 6855.88it/s]\n",
      "100%|██████████| 5000/5000 [00:00<00:00, 6854.32it/s]\n",
      "100%|██████████| 5000/5000 [00:01<00:00, 4680.23it/s]\n"
     ]
    },
    {
     "name": "stdout",
     "output_type": "stream",
     "text": [
      "2.66801647459\n",
      "2.93165853502\n",
      "2.59865608817\n",
      "1.29557708267\n",
      "1.75022911489\n",
      "1.79875502859\n",
      "60\n",
      "go 10 11 60 67\n"
     ]
    },
    {
     "name": "stderr",
     "output_type": "stream",
     "text": [
      "100%|██████████| 5000/5000 [00:00<00:00, 13018.76it/s]\n",
      "100%|██████████| 5000/5000 [00:00<00:00, 12455.82it/s]\n",
      "100%|██████████| 5000/5000 [00:00<00:00, 7191.76it/s]\n",
      "100%|██████████| 5000/5000 [00:00<00:00, 6614.23it/s]\n",
      "100%|██████████| 5000/5000 [00:00<00:00, 6526.28it/s]\n",
      "100%|██████████| 5000/5000 [00:01<00:00, 4415.41it/s]\n"
     ]
    },
    {
     "name": "stdout",
     "output_type": "stream",
     "text": [
      "2.65005070774\n",
      "2.65436957831\n",
      "2.5403659192\n",
      "1.74997290723\n",
      "1.77914505165\n",
      "2.20790031488\n",
      "go 10 12 60 68\n"
     ]
    },
    {
     "name": "stderr",
     "output_type": "stream",
     "text": [
      "100%|██████████| 5000/5000 [00:00<00:00, 12854.07it/s]\n",
      "100%|██████████| 5000/5000 [00:00<00:00, 12870.12it/s]\n",
      "100%|██████████| 5000/5000 [00:00<00:00, 6683.15it/s]\n",
      "100%|██████████| 5000/5000 [00:00<00:00, 6709.57it/s]\n",
      "100%|██████████| 5000/5000 [00:00<00:00, 6796.14it/s]\n",
      "100%|██████████| 5000/5000 [00:01<00:00, 4686.34it/s]\n"
     ]
    },
    {
     "name": "stdout",
     "output_type": "stream",
     "text": [
      "2.75663780812\n",
      "2.75234633281\n",
      "2.61021495434\n",
      "1.57422748565\n",
      "1.59510073606\n",
      "2.00785238563\n",
      "go 10 13 60 72\n"
     ]
    },
    {
     "name": "stderr",
     "output_type": "stream",
     "text": [
      "100%|██████████| 5000/5000 [00:00<00:00, 13223.46it/s]\n",
      "100%|██████████| 5000/5000 [00:00<00:00, 13298.57it/s]\n",
      "100%|██████████| 5000/5000 [00:00<00:00, 6780.49it/s]\n",
      "100%|██████████| 5000/5000 [00:00<00:00, 6734.70it/s]\n",
      "100%|██████████| 5000/5000 [00:00<00:00, 6909.93it/s]\n",
      "100%|██████████| 5000/5000 [00:01<00:00, 4662.07it/s]\n"
     ]
    },
    {
     "name": "stdout",
     "output_type": "stream",
     "text": [
      "2.91414942894\n",
      "2.9065590964\n",
      "3.22880256455\n",
      "3.17019994384\n",
      "3.17589857766\n",
      "3.37665362292\n",
      "67\n",
      "go 11 13 67 72\n"
     ]
    },
    {
     "name": "stderr",
     "output_type": "stream",
     "text": [
      "100%|██████████| 5000/5000 [00:00<00:00, 13494.29it/s]\n",
      "100%|██████████| 5000/5000 [00:00<00:00, 13339.41it/s]\n",
      "100%|██████████| 5000/5000 [00:00<00:00, 7561.59it/s]\n",
      "100%|██████████| 5000/5000 [00:00<00:00, 7128.61it/s]\n",
      "100%|██████████| 5000/5000 [00:00<00:00, 7389.34it/s]\n",
      "100%|██████████| 5000/5000 [00:01<00:00, 4919.97it/s]\n"
     ]
    },
    {
     "name": "stdout",
     "output_type": "stream",
     "text": [
      "3.4053120257\n",
      "3.84444247322\n",
      "3.95747680991\n",
      "3.74059704155\n",
      "3.84572883934\n",
      "4.64360936578\n",
      "go 11 14 67 76\n"
     ]
    },
    {
     "name": "stderr",
     "output_type": "stream",
     "text": [
      "100%|██████████| 5000/5000 [00:00<00:00, 12839.48it/s]\n",
      "100%|██████████| 5000/5000 [00:00<00:00, 12655.12it/s]\n",
      "100%|██████████| 5000/5000 [00:00<00:00, 6638.84it/s]\n",
      "100%|██████████| 5000/5000 [00:00<00:00, 6929.74it/s]\n",
      "100%|██████████| 5000/5000 [00:00<00:00, 6745.03it/s]\n",
      "100%|██████████| 5000/5000 [00:01<00:00, 4640.80it/s]\n"
     ]
    },
    {
     "name": "stdout",
     "output_type": "stream",
     "text": [
      "3.1240265484\n",
      "3.66884988061\n",
      "3.20084965588\n",
      "3.19495019741\n",
      "3.49667666025\n",
      "3.64395567293\n",
      "go 11 15 67 77\n"
     ]
    },
    {
     "name": "stderr",
     "output_type": "stream",
     "text": [
      "100%|██████████| 5000/5000 [00:00<00:00, 12855.95it/s]\n",
      "100%|██████████| 5000/5000 [00:00<00:00, 12030.82it/s]\n",
      "100%|██████████| 5000/5000 [00:00<00:00, 6626.17it/s]\n",
      "100%|██████████| 5000/5000 [00:00<00:00, 6267.65it/s]\n",
      "100%|██████████| 5000/5000 [00:00<00:00, 6503.45it/s]\n",
      "100%|██████████| 5000/5000 [00:01<00:00, 4460.29it/s]\n"
     ]
    },
    {
     "name": "stdout",
     "output_type": "stream",
     "text": [
      "3.05910119653\n",
      "3.62677712192\n",
      "3.09723271581\n",
      "3.13366619384\n",
      "3.47244720879\n",
      "3.53362204326\n",
      "go 11 16 67 89\n"
     ]
    },
    {
     "name": "stderr",
     "output_type": "stream",
     "text": [
      "100%|██████████| 5000/5000 [00:00<00:00, 12974.88it/s]\n",
      "100%|██████████| 5000/5000 [00:00<00:00, 12920.80it/s]\n",
      "100%|██████████| 5000/5000 [00:00<00:00, 6647.05it/s]\n",
      "100%|██████████| 5000/5000 [00:00<00:00, 6679.82it/s]\n",
      "100%|██████████| 5000/5000 [00:00<00:00, 6725.37it/s]\n",
      "100%|██████████| 5000/5000 [00:01<00:00, 4690.85it/s]\n"
     ]
    },
    {
     "name": "stdout",
     "output_type": "stream",
     "text": [
      "2.82152063013\n",
      "3.17428176497\n",
      "2.98808434198\n",
      "2.88822064072\n",
      "3.27611145337\n",
      "2.78554723147\n",
      "go 11 17 67 90\n"
     ]
    },
    {
     "name": "stderr",
     "output_type": "stream",
     "text": [
      "100%|██████████| 5000/5000 [00:00<00:00, 12801.08it/s]\n",
      "100%|██████████| 5000/5000 [00:00<00:00, 12515.75it/s]\n",
      "100%|██████████| 5000/5000 [00:00<00:00, 6399.02it/s]\n",
      "100%|██████████| 5000/5000 [00:00<00:00, 6617.84it/s]\n",
      "100%|██████████| 5000/5000 [00:00<00:00, 6552.87it/s]\n",
      "100%|██████████| 5000/5000 [00:01<00:00, 4654.97it/s]\n"
     ]
    },
    {
     "name": "stdout",
     "output_type": "stream",
     "text": [
      "2.79588496198\n",
      "3.15328389757\n",
      "2.96171904673\n",
      "2.85889712745\n",
      "3.25359920169\n",
      "2.80051317341\n",
      "68\n",
      "go 12 14 68 76\n"
     ]
    },
    {
     "name": "stderr",
     "output_type": "stream",
     "text": [
      "100%|██████████| 5000/5000 [00:00<00:00, 13282.50it/s]\n",
      "100%|██████████| 5000/5000 [00:00<00:00, 13298.62it/s]\n",
      "100%|██████████| 5000/5000 [00:00<00:00, 6619.58it/s]\n",
      "100%|██████████| 5000/5000 [00:00<00:00, 6705.85it/s]\n",
      "100%|██████████| 5000/5000 [00:00<00:00, 6874.50it/s]\n",
      "100%|██████████| 5000/5000 [00:01<00:00, 4855.52it/s]\n"
     ]
    },
    {
     "name": "stdout",
     "output_type": "stream",
     "text": [
      "3.12540111358\n",
      "3.86074339157\n",
      "2.15781503794\n",
      "3.27617909669\n",
      "3.85902012658\n",
      "1.90723098378\n",
      "go 12 15 68 77\n"
     ]
    },
    {
     "name": "stderr",
     "output_type": "stream",
     "text": [
      "100%|██████████| 5000/5000 [00:00<00:00, 13403.03it/s]\n",
      "100%|██████████| 5000/5000 [00:00<00:00, 13308.49it/s]\n",
      "100%|██████████| 5000/5000 [00:00<00:00, 6702.99it/s]\n",
      "100%|██████████| 5000/5000 [00:00<00:00, 6763.35it/s]\n",
      "100%|██████████| 5000/5000 [00:00<00:00, 6854.70it/s]\n",
      "100%|██████████| 5000/5000 [00:01<00:00, 4631.26it/s]\n"
     ]
    },
    {
     "name": "stdout",
     "output_type": "stream",
     "text": [
      "3.06506833329\n",
      "3.80207691573\n",
      "2.252714016\n",
      "3.19351271292\n",
      "3.78387386265\n",
      "1.81928024059\n",
      "go 12 16 68 89\n"
     ]
    },
    {
     "name": "stderr",
     "output_type": "stream",
     "text": [
      "100%|██████████| 5000/5000 [00:00<00:00, 12718.48it/s]\n",
      "100%|██████████| 5000/5000 [00:00<00:00, 13261.30it/s]\n",
      "100%|██████████| 5000/5000 [00:00<00:00, 6774.65it/s]\n",
      "100%|██████████| 5000/5000 [00:00<00:00, 6770.63it/s]\n",
      "100%|██████████| 5000/5000 [00:00<00:00, 6624.89it/s]\n",
      "100%|██████████| 5000/5000 [00:01<00:00, 4541.55it/s]\n"
     ]
    },
    {
     "name": "stdout",
     "output_type": "stream",
     "text": [
      "2.80308579301\n",
      "3.33131010598\n",
      "2.98656162979\n",
      "2.85283698006\n",
      "3.4170625654\n",
      "1.93442499272\n",
      "72\n",
      "go 13 15 72 77\n"
     ]
    },
    {
     "name": "stderr",
     "output_type": "stream",
     "text": [
      "100%|██████████| 5000/5000 [00:00<00:00, 12661.50it/s]\n",
      "100%|██████████| 5000/5000 [00:00<00:00, 12386.57it/s]\n",
      "100%|██████████| 5000/5000 [00:00<00:00, 7090.77it/s]\n",
      "100%|██████████| 5000/5000 [00:00<00:00, 6985.57it/s]\n",
      "100%|██████████| 5000/5000 [00:00<00:00, 7081.58it/s]\n",
      "100%|██████████| 5000/5000 [00:01<00:00, 4705.18it/s]\n"
     ]
    },
    {
     "name": "stdout",
     "output_type": "stream",
     "text": [
      "3.03577487767\n",
      "2.61702311703\n",
      "2.64579365736\n",
      "3.6055816405\n",
      "2.31724990902\n",
      "2.79447501583\n",
      "go 13 16 72 89\n"
     ]
    },
    {
     "name": "stderr",
     "output_type": "stream",
     "text": [
      "100%|██████████| 5000/5000 [00:00<00:00, 12020.42it/s]\n",
      "100%|██████████| 5000/5000 [00:00<00:00, 12920.23it/s]\n",
      "100%|██████████| 5000/5000 [00:00<00:00, 6572.41it/s]\n",
      "100%|██████████| 5000/5000 [00:00<00:00, 6597.46it/s]\n",
      "100%|██████████| 5000/5000 [00:00<00:00, 6515.88it/s]\n",
      "100%|██████████| 5000/5000 [00:01<00:00, 4385.47it/s]\n"
     ]
    },
    {
     "name": "stdout",
     "output_type": "stream",
     "text": [
      "2.71077976726\n",
      "3.43979501739\n",
      "2.8717750532\n",
      "2.52989836085\n",
      "2.05478511486\n",
      "2.11600031256\n",
      "go 13 17 72 90\n"
     ]
    },
    {
     "name": "stderr",
     "output_type": "stream",
     "text": [
      "100%|██████████| 5000/5000 [00:00<00:00, 12299.37it/s]\n",
      "100%|██████████| 5000/5000 [00:00<00:00, 13059.98it/s]\n",
      "100%|██████████| 5000/5000 [00:00<00:00, 6643.33it/s]\n",
      "100%|██████████| 5000/5000 [00:00<00:00, 6835.41it/s]\n",
      "100%|██████████| 5000/5000 [00:00<00:00, 6930.90it/s]\n",
      "100%|██████████| 5000/5000 [00:01<00:00, 4722.18it/s]\n"
     ]
    },
    {
     "name": "stdout",
     "output_type": "stream",
     "text": [
      "2.68098339153\n",
      "3.42906345586\n",
      "2.82431517347\n",
      "2.54285550818\n",
      "2.37731770236\n",
      "2.43581447181\n",
      "76\n",
      "go 14 16 76 89\n"
     ]
    },
    {
     "name": "stderr",
     "output_type": "stream",
     "text": [
      "100%|██████████| 5000/5000 [00:00<00:00, 13394.98it/s]\n",
      "100%|██████████| 5000/5000 [00:00<00:00, 13197.65it/s]\n",
      "100%|██████████| 5000/5000 [00:00<00:00, 6931.64it/s]\n",
      "100%|██████████| 5000/5000 [00:00<00:00, 6885.73it/s]\n",
      "100%|██████████| 5000/5000 [00:00<00:00, 6810.23it/s]\n",
      "100%|██████████| 5000/5000 [00:01<00:00, 4710.57it/s]\n"
     ]
    },
    {
     "name": "stdout",
     "output_type": "stream",
     "text": [
      "2.72603644164\n",
      "3.31642838523\n",
      "2.49257278292\n",
      "1.77294480508\n",
      "2.50279091309\n",
      "2.13265482499\n",
      "go 14 17 76 90\n"
     ]
    },
    {
     "name": "stderr",
     "output_type": "stream",
     "text": [
      "100%|██████████| 5000/5000 [00:00<00:00, 13474.47it/s]\n",
      "100%|██████████| 5000/5000 [00:00<00:00, 13453.12it/s]\n",
      "100%|██████████| 5000/5000 [00:00<00:00, 7063.69it/s]\n",
      "100%|██████████| 5000/5000 [00:00<00:00, 6950.53it/s]\n",
      "100%|██████████| 5000/5000 [00:00<00:00, 7007.76it/s]\n",
      "100%|██████████| 5000/5000 [00:01<00:00, 4808.66it/s]\n"
     ]
    },
    {
     "name": "stdout",
     "output_type": "stream",
     "text": [
      "2.67225027313\n",
      "3.29255439457\n",
      "2.45375907895\n",
      "2.19167464953\n",
      "2.68354576376\n",
      "2.49676051355\n",
      "77\n",
      "go 15 16 77 89\n"
     ]
    },
    {
     "name": "stderr",
     "output_type": "stream",
     "text": [
      "100%|██████████| 5000/5000 [00:00<00:00, 13698.56it/s]\n",
      "100%|██████████| 5000/5000 [00:00<00:00, 13552.92it/s]\n",
      "100%|██████████| 5000/5000 [00:00<00:00, 6995.94it/s]\n",
      "100%|██████████| 5000/5000 [00:00<00:00, 6793.01it/s]\n",
      "100%|██████████| 5000/5000 [00:00<00:00, 6655.20it/s]\n",
      "100%|██████████| 5000/5000 [00:01<00:00, 4488.89it/s]\n"
     ]
    },
    {
     "name": "stdout",
     "output_type": "stream",
     "text": [
      "2.75802257977\n",
      "3.19281252988\n",
      "2.21070938006\n",
      "1.77555825114\n",
      "2.49526804046\n",
      "1.74680999134\n",
      "go 15 17 77 90\n"
     ]
    },
    {
     "name": "stderr",
     "output_type": "stream",
     "text": [
      "100%|██████████| 5000/5000 [00:00<00:00, 12273.98it/s]\n",
      "100%|██████████| 5000/5000 [00:00<00:00, 12819.00it/s]\n",
      "100%|██████████| 5000/5000 [00:00<00:00, 6602.07it/s]\n",
      "100%|██████████| 5000/5000 [00:00<00:00, 6625.81it/s]\n",
      "100%|██████████| 5000/5000 [00:00<00:00, 6544.43it/s]\n",
      "100%|██████████| 5000/5000 [00:01<00:00, 4564.60it/s]\n"
     ]
    },
    {
     "name": "stdout",
     "output_type": "stream",
     "text": [
      "2.70308551776\n",
      "3.16315312661\n",
      "2.21681300795\n",
      "2.25211640791\n",
      "2.67850155739\n",
      "2.39163874934\n",
      "89\n",
      "go 16 19 89 102\n"
     ]
    },
    {
     "name": "stderr",
     "output_type": "stream",
     "text": [
      "100%|██████████| 5000/5000 [00:00<00:00, 13487.71it/s]\n",
      "100%|██████████| 5000/5000 [00:00<00:00, 12721.19it/s]\n",
      "100%|██████████| 5000/5000 [00:00<00:00, 6627.29it/s]\n",
      "100%|██████████| 5000/5000 [00:00<00:00, 6519.99it/s]\n",
      "100%|██████████| 5000/5000 [00:00<00:00, 6512.03it/s]\n",
      "100%|██████████| 5000/5000 [00:01<00:00, 4648.14it/s]\n"
     ]
    },
    {
     "name": "stdout",
     "output_type": "stream",
     "text": [
      "2.71400444697\n",
      "3.44848164125\n",
      "2.55234106846\n",
      "2.83491766371\n",
      "3.33748624002\n",
      "2.8468152207\n",
      "go 16 20 89 120\n"
     ]
    },
    {
     "name": "stderr",
     "output_type": "stream",
     "text": [
      "100%|██████████| 5000/5000 [00:00<00:00, 13028.60it/s]\n",
      "100%|██████████| 5000/5000 [00:00<00:00, 13052.79it/s]\n",
      "100%|██████████| 5000/5000 [00:00<00:00, 6734.87it/s]\n",
      "100%|██████████| 5000/5000 [00:00<00:00, 6575.75it/s]\n",
      "100%|██████████| 5000/5000 [00:00<00:00, 6532.09it/s]\n",
      "100%|██████████| 5000/5000 [00:01<00:00, 4628.91it/s]\n"
     ]
    },
    {
     "name": "stdout",
     "output_type": "stream",
     "text": [
      "2.74591121306\n",
      "3.46423196844\n",
      "2.07449800861\n",
      "2.37915367986\n",
      "2.95231884926\n",
      "2.20813792765\n",
      "go 16 21 89 124\n"
     ]
    },
    {
     "name": "stderr",
     "output_type": "stream",
     "text": [
      "100%|██████████| 5000/5000 [00:00<00:00, 13301.41it/s]\n",
      "100%|██████████| 5000/5000 [00:00<00:00, 11982.65it/s]\n",
      "100%|██████████| 5000/5000 [00:00<00:00, 6823.96it/s]\n",
      "100%|██████████| 5000/5000 [00:00<00:00, 6773.61it/s]\n",
      "100%|██████████| 5000/5000 [00:00<00:00, 6857.82it/s]\n",
      "100%|██████████| 5000/5000 [00:01<00:00, 4730.65it/s]\n"
     ]
    },
    {
     "name": "stdout",
     "output_type": "stream",
     "text": [
      "2.68644397761\n",
      "3.43211207251\n",
      "2.06697746736\n",
      "2.427998306\n",
      "2.97822893225\n",
      "2.18603276303\n",
      "go 16 22 89 125\n"
     ]
    },
    {
     "name": "stderr",
     "output_type": "stream",
     "text": [
      "100%|██████████| 5000/5000 [00:00<00:00, 12381.48it/s]\n",
      "100%|██████████| 5000/5000 [00:00<00:00, 13502.96it/s]\n",
      "100%|██████████| 5000/5000 [00:00<00:00, 6803.91it/s]\n",
      "100%|██████████| 5000/5000 [00:00<00:00, 6805.02it/s]\n",
      "100%|██████████| 5000/5000 [00:00<00:00, 6835.06it/s]\n",
      "100%|██████████| 5000/5000 [00:01<00:00, 4757.12it/s]\n"
     ]
    },
    {
     "name": "stdout",
     "output_type": "stream",
     "text": [
      "2.67171591658\n",
      "3.4192907918\n",
      "2.09511746702\n",
      "2.4526057974\n",
      "2.99189117892\n",
      "2.19368844163\n",
      "90\n",
      "go 17 19 90 102\n"
     ]
    },
    {
     "name": "stderr",
     "output_type": "stream",
     "text": [
      "100%|██████████| 5000/5000 [00:00<00:00, 13183.36it/s]\n",
      "100%|██████████| 5000/5000 [00:00<00:00, 12254.18it/s]\n",
      "100%|██████████| 5000/5000 [00:00<00:00, 6836.61it/s]\n",
      "100%|██████████| 5000/5000 [00:00<00:00, 6820.07it/s]\n",
      "100%|██████████| 5000/5000 [00:00<00:00, 6571.65it/s]\n",
      "100%|██████████| 5000/5000 [00:01<00:00, 4602.87it/s]\n"
     ]
    },
    {
     "name": "stdout",
     "output_type": "stream",
     "text": [
      "2.74607073715\n",
      "2.98515573218\n",
      "2.49429447807\n",
      "2.94165938208\n",
      "3.10252924071\n",
      "2.38884014047\n",
      "go 17 20 90 120\n"
     ]
    },
    {
     "name": "stderr",
     "output_type": "stream",
     "text": [
      "100%|██████████| 5000/5000 [00:00<00:00, 12656.62it/s]\n",
      "100%|██████████| 5000/5000 [00:00<00:00, 13006.61it/s]\n",
      "100%|██████████| 5000/5000 [00:00<00:00, 6687.02it/s]\n",
      "100%|██████████| 5000/5000 [00:00<00:00, 6473.57it/s]\n",
      "100%|██████████| 5000/5000 [00:00<00:00, 6642.23it/s]\n",
      "100%|██████████| 5000/5000 [00:01<00:00, 4492.40it/s]\n"
     ]
    },
    {
     "name": "stdout",
     "output_type": "stream",
     "text": [
      "2.76295205001\n",
      "2.98966104149\n",
      "1.95851568548\n",
      "2.42730647175\n",
      "2.59049406959\n",
      "2.10835937173\n",
      "go 17 21 90 124\n"
     ]
    },
    {
     "name": "stderr",
     "output_type": "stream",
     "text": [
      "100%|██████████| 5000/5000 [00:00<00:00, 12897.10it/s]\n",
      "100%|██████████| 5000/5000 [00:00<00:00, 12465.44it/s]\n",
      "100%|██████████| 5000/5000 [00:00<00:00, 6790.09it/s]\n",
      "100%|██████████| 5000/5000 [00:00<00:00, 6669.38it/s]\n",
      "100%|██████████| 5000/5000 [00:00<00:00, 6875.34it/s]\n",
      "100%|██████████| 5000/5000 [00:01<00:00, 4719.73it/s]\n"
     ]
    },
    {
     "name": "stdout",
     "output_type": "stream",
     "text": [
      "2.70237855279\n",
      "2.93779253058\n",
      "1.99243463404\n",
      "2.46565012483\n",
      "2.62832001882\n",
      "2.07872543715\n",
      "91\n",
      "go 18 19 91 102\n"
     ]
    },
    {
     "name": "stderr",
     "output_type": "stream",
     "text": [
      "100%|██████████| 5000/5000 [00:00<00:00, 13209.34it/s]\n",
      "100%|██████████| 5000/5000 [00:00<00:00, 13217.34it/s]\n",
      "100%|██████████| 5000/5000 [00:00<00:00, 6956.99it/s]\n",
      "100%|██████████| 5000/5000 [00:00<00:00, 6637.40it/s]\n",
      "100%|██████████| 5000/5000 [00:00<00:00, 6743.92it/s]\n",
      "100%|██████████| 5000/5000 [00:01<00:00, 4734.12it/s]\n"
     ]
    },
    {
     "name": "stdout",
     "output_type": "stream",
     "text": [
      "2.70454250383\n",
      "2.71967374834\n",
      "2.50586824716\n",
      "2.92995179752\n",
      "2.14096537528\n",
      "2.53760978119\n",
      "go 18 20 91 120\n"
     ]
    },
    {
     "name": "stderr",
     "output_type": "stream",
     "text": [
      "100%|██████████| 5000/5000 [00:00<00:00, 13464.24it/s]\n",
      "100%|██████████| 5000/5000 [00:00<00:00, 13538.54it/s]\n",
      "100%|██████████| 5000/5000 [00:00<00:00, 6903.31it/s]\n",
      "100%|██████████| 5000/5000 [00:00<00:00, 6948.87it/s]\n",
      "100%|██████████| 5000/5000 [00:00<00:00, 6944.64it/s]\n",
      "100%|██████████| 5000/5000 [00:01<00:00, 4742.75it/s]\n"
     ]
    },
    {
     "name": "stdout",
     "output_type": "stream",
     "text": [
      "2.74918219564\n",
      "2.30422629402\n",
      "1.95554130638\n",
      "2.39124708063\n",
      "2.14109304958\n",
      "2.10972253496\n",
      "go 18 21 91 124\n"
     ]
    },
    {
     "name": "stderr",
     "output_type": "stream",
     "text": [
      "100%|██████████| 5000/5000 [00:00<00:00, 13576.66it/s]\n",
      "100%|██████████| 5000/5000 [00:00<00:00, 13680.90it/s]\n",
      "100%|██████████| 5000/5000 [00:00<00:00, 6956.72it/s]\n",
      "100%|██████████| 5000/5000 [00:00<00:00, 7087.69it/s]\n",
      "100%|██████████| 5000/5000 [00:00<00:00, 7032.51it/s]\n",
      "100%|██████████| 5000/5000 [00:01<00:00, 4854.70it/s]\n"
     ]
    },
    {
     "name": "stdout",
     "output_type": "stream",
     "text": [
      "2.68620225304\n",
      "2.39252364105\n",
      "1.98468592958\n",
      "2.43814973465\n",
      "2.06832151311\n",
      "2.08646732445\n",
      "102\n",
      "go 19 20 102 120\n"
     ]
    },
    {
     "name": "stderr",
     "output_type": "stream",
     "text": [
      "100%|██████████| 5000/5000 [00:00<00:00, 13124.50it/s]\n",
      "100%|██████████| 5000/5000 [00:00<00:00, 13002.82it/s]\n",
      "100%|██████████| 5000/5000 [00:00<00:00, 6820.58it/s]\n",
      "100%|██████████| 5000/5000 [00:00<00:00, 6909.03it/s]\n",
      "100%|██████████| 5000/5000 [00:00<00:00, 7046.23it/s]\n",
      "100%|██████████| 5000/5000 [00:01<00:00, 4822.60it/s]\n"
     ]
    },
    {
     "name": "stdout",
     "output_type": "stream",
     "text": [
      "2.87149717996\n",
      "1.72037166114\n",
      "1.67912591492\n",
      "2.73092597356\n",
      "1.90515860855\n",
      "1.05652399042\n",
      "go 19 21 102 124\n"
     ]
    },
    {
     "name": "stderr",
     "output_type": "stream",
     "text": [
      "100%|██████████| 5000/5000 [00:00<00:00, 12844.92it/s]\n",
      "100%|██████████| 5000/5000 [00:00<00:00, 13460.47it/s]\n",
      "100%|██████████| 5000/5000 [00:00<00:00, 6865.53it/s]\n",
      "100%|██████████| 5000/5000 [00:00<00:00, 6790.85it/s]\n",
      "100%|██████████| 5000/5000 [00:00<00:00, 6787.71it/s]\n",
      "100%|██████████| 5000/5000 [00:01<00:00, 4704.78it/s]\n"
     ]
    },
    {
     "name": "stdout",
     "output_type": "stream",
     "text": [
      "2.769587787\n",
      "1.8026154403\n",
      "1.95913827862\n",
      "2.69525755729\n",
      "1.92677750015\n",
      "1.08544798584\n",
      "120\n",
      "go 20 22 120 125\n"
     ]
    },
    {
     "name": "stderr",
     "output_type": "stream",
     "text": [
      "100%|██████████| 5000/5000 [00:00<00:00, 13297.02it/s]\n",
      "100%|██████████| 5000/5000 [00:00<00:00, 13343.79it/s]\n",
      "100%|██████████| 5000/5000 [00:00<00:00, 7107.09it/s]\n",
      "100%|██████████| 5000/5000 [00:00<00:00, 7502.44it/s]\n",
      "100%|██████████| 5000/5000 [00:00<00:00, 7380.65it/s]\n",
      "100%|██████████| 5000/5000 [00:00<00:00, 5134.18it/s]\n"
     ]
    },
    {
     "name": "stdout",
     "output_type": "stream",
     "text": [
      "2.21164033709\n",
      "2.6751640262\n",
      "2.46362933312\n",
      "2.909517836\n",
      "2.64333438708\n",
      "2.90457788916\n",
      "go 20 23 120 131\n"
     ]
    },
    {
     "name": "stderr",
     "output_type": "stream",
     "text": [
      "100%|██████████| 5000/5000 [00:00<00:00, 13182.73it/s]\n",
      "100%|██████████| 5000/5000 [00:00<00:00, 12935.11it/s]\n",
      "100%|██████████| 5000/5000 [00:00<00:00, 6792.83it/s]\n",
      "100%|██████████| 5000/5000 [00:00<00:00, 6907.32it/s]\n",
      "100%|██████████| 5000/5000 [00:00<00:00, 6921.11it/s]\n",
      "100%|██████████| 5000/5000 [00:01<00:00, 4784.67it/s]\n"
     ]
    },
    {
     "name": "stdout",
     "output_type": "stream",
     "text": [
      "2.24016220575\n",
      "2.98907980304\n",
      "2.51534659556\n",
      "2.14496045187\n",
      "1.653439583\n",
      "1.38177881716\n",
      "go 20 24 120 153\n"
     ]
    },
    {
     "name": "stderr",
     "output_type": "stream",
     "text": [
      "100%|██████████| 5000/5000 [00:00<00:00, 13529.34it/s]\n",
      "100%|██████████| 5000/5000 [00:00<00:00, 12576.02it/s]\n",
      "100%|██████████| 5000/5000 [00:00<00:00, 7014.50it/s]\n",
      "100%|██████████| 5000/5000 [00:00<00:00, 6769.29it/s]\n",
      "100%|██████████| 5000/5000 [00:00<00:00, 6764.75it/s]\n",
      "100%|██████████| 5000/5000 [00:01<00:00, 4731.50it/s]\n"
     ]
    },
    {
     "name": "stdout",
     "output_type": "stream",
     "text": [
      "2.71623652555\n",
      "3.2911570127\n",
      "2.2349980172\n",
      "1.76194981047\n",
      "2.33913933115\n",
      "1.87786334408\n",
      "124\n",
      "go 21 23 124 131\n"
     ]
    },
    {
     "name": "stderr",
     "output_type": "stream",
     "text": [
      "100%|██████████| 5000/5000 [00:00<00:00, 13451.27it/s]\n",
      "100%|██████████| 5000/5000 [00:00<00:00, 13213.88it/s]\n",
      "100%|██████████| 5000/5000 [00:00<00:00, 7598.33it/s]\n",
      "100%|██████████| 5000/5000 [00:00<00:00, 6848.40it/s]\n",
      "100%|██████████| 5000/5000 [00:00<00:00, 6682.38it/s]\n",
      "100%|██████████| 5000/5000 [00:01<00:00, 4811.73it/s]\n"
     ]
    },
    {
     "name": "stdout",
     "output_type": "stream",
     "text": [
      "2.48038735622\n",
      "2.81193058081\n",
      "2.47287829608\n",
      "1.32990175283\n",
      "2.17467353789\n",
      "1.9056010783\n",
      "go 21 24 124 153\n"
     ]
    },
    {
     "name": "stderr",
     "output_type": "stream",
     "text": [
      "100%|██████████| 5000/5000 [00:00<00:00, 13541.15it/s]\n",
      "100%|██████████| 5000/5000 [00:00<00:00, 13473.06it/s]\n",
      "100%|██████████| 5000/5000 [00:00<00:00, 6879.68it/s]\n",
      "100%|██████████| 5000/5000 [00:00<00:00, 6949.96it/s]\n",
      "100%|██████████| 5000/5000 [00:00<00:00, 6960.94it/s]\n",
      "100%|██████████| 5000/5000 [00:01<00:00, 4799.41it/s]\n"
     ]
    },
    {
     "name": "stdout",
     "output_type": "stream",
     "text": [
      "2.77890674195\n",
      "3.00809740408\n",
      "1.75950845709\n",
      "1.9445203295\n",
      "2.21694928451\n",
      "1.57113194454\n",
      "125\n",
      "go 22 23 125 131\n"
     ]
    },
    {
     "name": "stderr",
     "output_type": "stream",
     "text": [
      "100%|██████████| 5000/5000 [00:00<00:00, 13584.01it/s]\n",
      "100%|██████████| 5000/5000 [00:00<00:00, 13502.49it/s]\n",
      "100%|██████████| 5000/5000 [00:00<00:00, 7660.86it/s]\n",
      "100%|██████████| 5000/5000 [00:00<00:00, 7568.19it/s]\n",
      "100%|██████████| 5000/5000 [00:00<00:00, 7520.22it/s]\n",
      "100%|██████████| 5000/5000 [00:00<00:00, 5160.72it/s]\n"
     ]
    },
    {
     "name": "stdout",
     "output_type": "stream",
     "text": [
      "2.59549107602\n",
      "2.59486810358\n",
      "2.46390025235\n",
      "2.11078115074\n",
      "2.10279667659\n",
      "2.21842562468\n",
      "go 22 24 125 153\n"
     ]
    },
    {
     "name": "stderr",
     "output_type": "stream",
     "text": [
      "100%|██████████| 5000/5000 [00:00<00:00, 13079.90it/s]\n",
      "100%|██████████| 5000/5000 [00:00<00:00, 13022.56it/s]\n",
      "100%|██████████| 5000/5000 [00:00<00:00, 6838.34it/s]\n",
      "100%|██████████| 5000/5000 [00:00<00:00, 6787.23it/s]\n",
      "100%|██████████| 5000/5000 [00:00<00:00, 6721.96it/s]\n",
      "100%|██████████| 5000/5000 [00:01<00:00, 4685.45it/s]\n"
     ]
    },
    {
     "name": "stdout",
     "output_type": "stream",
     "text": [
      "2.7981590878\n",
      "2.79678780456\n",
      "1.57568280506\n",
      "2.03461291509\n",
      "2.03300571632\n",
      "1.4191094654\n",
      "go 22 25 125 154\n"
     ]
    },
    {
     "name": "stderr",
     "output_type": "stream",
     "text": [
      "100%|██████████| 5000/5000 [00:00<00:00, 13429.64it/s]\n",
      "100%|██████████| 5000/5000 [00:00<00:00, 13433.10it/s]\n",
      "100%|██████████| 5000/5000 [00:00<00:00, 6841.46it/s]\n",
      "100%|██████████| 5000/5000 [00:00<00:00, 6797.77it/s]\n",
      "100%|██████████| 5000/5000 [00:00<00:00, 6831.67it/s]\n",
      "100%|██████████| 5000/5000 [00:01<00:00, 4630.79it/s]\n"
     ]
    },
    {
     "name": "stdout",
     "output_type": "stream",
     "text": [
      "2.79827409855\n",
      "2.79732242305\n",
      "1.54989957062\n",
      "2.04378954481\n",
      "2.041512694\n",
      "1.40745450766\n",
      "go 22 26 125 155\n"
     ]
    },
    {
     "name": "stderr",
     "output_type": "stream",
     "text": [
      "100%|██████████| 5000/5000 [00:00<00:00, 13144.13it/s]\n",
      "100%|██████████| 5000/5000 [00:00<00:00, 13518.88it/s]\n",
      "100%|██████████| 5000/5000 [00:00<00:00, 6900.62it/s]\n",
      "100%|██████████| 5000/5000 [00:00<00:00, 6916.40it/s]\n",
      "100%|██████████| 5000/5000 [00:00<00:00, 6943.15it/s]\n",
      "100%|██████████| 5000/5000 [00:01<00:00, 4734.78it/s]\n"
     ]
    },
    {
     "name": "stdout",
     "output_type": "stream",
     "text": [
      "2.7775338578\n",
      "2.77841438396\n",
      "1.73735994203\n",
      "2.2183603682\n",
      "2.21231496121\n",
      "1.82220150365\n",
      "131\n",
      "go 23 24 131 153\n"
     ]
    },
    {
     "name": "stderr",
     "output_type": "stream",
     "text": [
      "100%|██████████| 5000/5000 [00:00<00:00, 13668.56it/s]\n",
      "100%|██████████| 5000/5000 [00:00<00:00, 13580.54it/s]\n",
      "100%|██████████| 5000/5000 [00:00<00:00, 6937.99it/s]\n",
      "100%|██████████| 5000/5000 [00:00<00:00, 6808.21it/s]\n",
      "100%|██████████| 5000/5000 [00:00<00:00, 6898.96it/s]\n",
      "100%|██████████| 5000/5000 [00:01<00:00, 4804.27it/s]\n"
     ]
    },
    {
     "name": "stdout",
     "output_type": "stream",
     "text": [
      "2.89564382081\n",
      "1.56708653475\n",
      "-273.903409915\n",
      "2.43558816888\n",
      "1.10781207843\n",
      "-26.2348154088\n",
      "go 23 25 131 154\n"
     ]
    },
    {
     "name": "stderr",
     "output_type": "stream",
     "text": [
      "100%|██████████| 5000/5000 [00:00<00:00, 13700.02it/s]\n",
      "100%|██████████| 5000/5000 [00:00<00:00, 13683.11it/s]\n",
      "100%|██████████| 5000/5000 [00:00<00:00, 6967.91it/s]\n",
      "100%|██████████| 5000/5000 [00:00<00:00, 6940.32it/s]\n",
      "100%|██████████| 5000/5000 [00:00<00:00, 7081.24it/s]\n",
      "100%|██████████| 5000/5000 [00:01<00:00, 4828.49it/s]\n"
     ]
    },
    {
     "name": "stdout",
     "output_type": "stream",
     "text": [
      "2.89505718507\n",
      "1.55896714759\n",
      "-243.967587244\n",
      "2.41982551262\n",
      "1.09523378094\n",
      "-28.3083093415\n",
      "153\n",
      "go 24 27 153 168\n"
     ]
    },
    {
     "name": "stderr",
     "output_type": "stream",
     "text": [
      "100%|██████████| 5000/5000 [00:00<00:00, 13418.28it/s]\n",
      "100%|██████████| 5000/5000 [00:00<00:00, 13471.10it/s]\n",
      "100%|██████████| 5000/5000 [00:00<00:00, 7111.20it/s]\n",
      "100%|██████████| 5000/5000 [00:00<00:00, 7127.92it/s]\n",
      "100%|██████████| 5000/5000 [00:00<00:00, 7008.57it/s]\n",
      "100%|██████████| 5000/5000 [00:01<00:00, 4837.02it/s]\n"
     ]
    },
    {
     "name": "stdout",
     "output_type": "stream",
     "text": [
      "2.93722000337\n",
      "3.56190210225\n",
      "2.67283772863\n",
      "2.70954205887\n",
      "3.1512887053\n",
      "2.91379268441\n",
      "go 24 28 153 173\n"
     ]
    },
    {
     "name": "stderr",
     "output_type": "stream",
     "text": [
      "100%|██████████| 5000/5000 [00:00<00:00, 13520.90it/s]\n",
      "100%|██████████| 5000/5000 [00:00<00:00, 13664.12it/s]\n",
      "100%|██████████| 5000/5000 [00:00<00:00, 7109.82it/s]\n",
      "100%|██████████| 5000/5000 [00:00<00:00, 6985.27it/s]\n",
      "100%|██████████| 5000/5000 [00:00<00:00, 6954.72it/s]\n",
      "100%|██████████| 5000/5000 [00:01<00:00, 4857.96it/s]\n"
     ]
    },
    {
     "name": "stdout",
     "output_type": "stream",
     "text": [
      "2.81246128039\n",
      "3.48932900314\n",
      "2.4808576385\n",
      "2.68428507524\n",
      "3.1418873983\n",
      "2.70716083348\n",
      "go 24 29 153 174\n"
     ]
    },
    {
     "name": "stderr",
     "output_type": "stream",
     "text": [
      "100%|██████████| 5000/5000 [00:00<00:00, 13392.15it/s]\n",
      "100%|██████████| 5000/5000 [00:00<00:00, 13271.16it/s]\n",
      "100%|██████████| 5000/5000 [00:00<00:00, 6869.46it/s]\n",
      "100%|██████████| 5000/5000 [00:00<00:00, 6908.72it/s]\n",
      "100%|██████████| 5000/5000 [00:00<00:00, 6945.37it/s]\n",
      "100%|██████████| 5000/5000 [00:01<00:00, 4791.97it/s]\n"
     ]
    },
    {
     "name": "stdout",
     "output_type": "stream",
     "text": [
      "2.7882865905\n",
      "3.46438362772\n",
      "2.48379497274\n",
      "2.7098417982\n",
      "3.15829356966\n",
      "2.69402541236\n",
      "154\n",
      "go 25 27 154 168\n"
     ]
    },
    {
     "name": "stderr",
     "output_type": "stream",
     "text": [
      "100%|██████████| 5000/5000 [00:00<00:00, 12908.73it/s]\n",
      "100%|██████████| 5000/5000 [00:00<00:00, 13223.53it/s]\n",
      "100%|██████████| 5000/5000 [00:00<00:00, 6725.16it/s]\n",
      "100%|██████████| 5000/5000 [00:00<00:00, 6914.31it/s]\n",
      "100%|██████████| 5000/5000 [00:00<00:00, 6826.76it/s]\n",
      "100%|██████████| 5000/5000 [00:01<00:00, 4681.96it/s]\n"
     ]
    },
    {
     "name": "stdout",
     "output_type": "stream",
     "text": [
      "2.95251965888\n",
      "3.60949496196\n",
      "2.15576913289\n",
      "2.7581713582\n",
      "3.30338673491\n",
      "2.47560074914\n",
      "go 25 28 154 173\n"
     ]
    },
    {
     "name": "stderr",
     "output_type": "stream",
     "text": [
      "100%|██████████| 5000/5000 [00:00<00:00, 13225.94it/s]\n",
      "100%|██████████| 5000/5000 [00:00<00:00, 13233.99it/s]\n",
      "100%|██████████| 5000/5000 [00:00<00:00, 6895.12it/s]\n",
      "100%|██████████| 5000/5000 [00:00<00:00, 6830.08it/s]\n",
      "100%|██████████| 5000/5000 [00:00<00:00, 6850.65it/s]\n",
      "100%|██████████| 5000/5000 [00:01<00:00, 4751.58it/s]\n"
     ]
    },
    {
     "name": "stdout",
     "output_type": "stream",
     "text": [
      "2.80945733593\n",
      "3.51814429251\n",
      "2.119681296\n",
      "2.70686837091\n",
      "3.23997270803\n",
      "2.22032776626\n",
      "go 25 29 154 174\n"
     ]
    },
    {
     "name": "stderr",
     "output_type": "stream",
     "text": [
      "100%|██████████| 5000/5000 [00:00<00:00, 13320.83it/s]\n",
      "100%|██████████| 5000/5000 [00:00<00:00, 13116.44it/s]\n",
      "100%|██████████| 5000/5000 [00:00<00:00, 6949.98it/s]\n",
      "100%|██████████| 5000/5000 [00:00<00:00, 6825.12it/s]\n",
      "100%|██████████| 5000/5000 [00:00<00:00, 6863.33it/s]\n",
      "100%|██████████| 5000/5000 [00:01<00:00, 4757.12it/s]\n"
     ]
    },
    {
     "name": "stdout",
     "output_type": "stream",
     "text": [
      "2.78138369659\n",
      "3.49274125786\n",
      "2.18921029304\n",
      "2.72983002853\n",
      "3.25132027315\n",
      "2.21370369462\n",
      "155\n",
      "go 26 27 155 168\n"
     ]
    },
    {
     "name": "stderr",
     "output_type": "stream",
     "text": [
      "100%|██████████| 5000/5000 [00:00<00:00, 13563.99it/s]\n",
      "100%|██████████| 5000/5000 [00:00<00:00, 13466.05it/s]\n",
      "100%|██████████| 5000/5000 [00:00<00:00, 7026.40it/s]\n",
      "100%|██████████| 5000/5000 [00:00<00:00, 6948.35it/s]\n",
      "100%|██████████| 5000/5000 [00:00<00:00, 6992.85it/s]\n",
      "100%|██████████| 5000/5000 [00:01<00:00, 4868.17it/s]\n"
     ]
    },
    {
     "name": "stdout",
     "output_type": "stream",
     "text": [
      "2.99048957348\n",
      "2.98949997446\n",
      "1.67176747702\n",
      "2.88787208112\n",
      "2.90033321955\n",
      "1.24750061113\n",
      "go 26 28 155 173\n"
     ]
    },
    {
     "name": "stderr",
     "output_type": "stream",
     "text": [
      "100%|██████████| 5000/5000 [00:00<00:00, 13696.63it/s]\n",
      "100%|██████████| 5000/5000 [00:00<00:00, 13297.06it/s]\n",
      "100%|██████████| 5000/5000 [00:00<00:00, 7050.79it/s]\n",
      "100%|██████████| 5000/5000 [00:00<00:00, 6867.38it/s]\n",
      "100%|██████████| 5000/5000 [00:00<00:00, 6935.71it/s]\n",
      "100%|██████████| 5000/5000 [00:01<00:00, 4799.51it/s]\n"
     ]
    },
    {
     "name": "stdout",
     "output_type": "stream",
     "text": [
      "2.84334241124\n",
      "2.84202934117\n",
      "2.00228823682\n",
      "2.7909243888\n",
      "2.79478229185\n",
      "1.29647946783\n",
      "168\n",
      "go 27 28 168 173\n"
     ]
    },
    {
     "name": "stderr",
     "output_type": "stream",
     "text": [
      "100%|██████████| 5000/5000 [00:00<00:00, 13435.30it/s]\n",
      "100%|██████████| 5000/5000 [00:00<00:00, 13269.39it/s]\n",
      "100%|██████████| 5000/5000 [00:00<00:00, 7555.28it/s]\n",
      "100%|██████████| 5000/5000 [00:00<00:00, 7535.43it/s]\n",
      "100%|██████████| 5000/5000 [00:00<00:00, 7456.74it/s]\n",
      "100%|██████████| 5000/5000 [00:01<00:00, 4989.59it/s]\n"
     ]
    },
    {
     "name": "stdout",
     "output_type": "stream",
     "text": [
      "2.70240522564\n",
      "2.30274247088\n",
      "2.74488349251\n",
      "3.34850723389\n",
      "1.92139668297\n",
      "2.87422535385\n",
      "go 27 29 168 174\n"
     ]
    },
    {
     "name": "stderr",
     "output_type": "stream",
     "text": [
      "100%|██████████| 5000/5000 [00:00<00:00, 13119.23it/s]\n",
      "100%|██████████| 5000/5000 [00:00<00:00, 13246.51it/s]\n",
      "100%|██████████| 5000/5000 [00:00<00:00, 7529.43it/s]\n",
      "100%|██████████| 5000/5000 [00:00<00:00, 7508.69it/s]\n",
      "100%|██████████| 5000/5000 [00:00<00:00, 7491.31it/s]\n",
      "100%|██████████| 5000/5000 [00:00<00:00, 5130.69it/s]\n"
     ]
    },
    {
     "name": "stdout",
     "output_type": "stream",
     "text": [
      "2.54480366689\n",
      "2.42155764925\n",
      "2.70145906204\n",
      "3.10991299199\n",
      "1.60743199459\n",
      "2.35075824491\n",
      "go 27 30 168 180\n"
     ]
    },
    {
     "name": "stderr",
     "output_type": "stream",
     "text": [
      "100%|██████████| 5000/5000 [00:00<00:00, 13398.39it/s]\n",
      "100%|██████████| 5000/5000 [00:00<00:00, 12898.80it/s]\n",
      "100%|██████████| 5000/5000 [00:00<00:00, 6827.50it/s]\n",
      "100%|██████████| 5000/5000 [00:00<00:00, 6811.57it/s]\n",
      "100%|██████████| 5000/5000 [00:00<00:00, 6898.78it/s]\n",
      "100%|██████████| 5000/5000 [00:01<00:00, 4670.83it/s]\n"
     ]
    },
    {
     "name": "stdout",
     "output_type": "stream",
     "text": [
      "2.33447174523\n",
      "2.89358984876\n",
      "2.64757157748\n",
      "2.47468269043\n",
      "1.00318425966\n",
      "1.37194613326\n",
      "go 27 31 168 181\n"
     ]
    },
    {
     "name": "stderr",
     "output_type": "stream",
     "text": [
      "100%|██████████| 5000/5000 [00:00<00:00, 12888.59it/s]\n",
      "100%|██████████| 5000/5000 [00:00<00:00, 12799.58it/s]\n",
      "100%|██████████| 5000/5000 [00:00<00:00, 6846.03it/s]\n",
      "100%|██████████| 5000/5000 [00:00<00:00, 6807.35it/s]\n",
      "100%|██████████| 5000/5000 [00:00<00:00, 6681.27it/s]\n",
      "100%|██████████| 5000/5000 [00:01<00:00, 4756.04it/s]\n"
     ]
    },
    {
     "name": "stdout",
     "output_type": "stream",
     "text": [
      "2.4203935898\n",
      "2.9716970268\n",
      "2.69550456214\n",
      "2.43061713673\n",
      "0.926209733547\n",
      "1.25986136592\n",
      "go 27 32 168 211\n"
     ]
    },
    {
     "name": "stderr",
     "output_type": "stream",
     "text": [
      "100%|██████████| 5000/5000 [00:00<00:00, 13165.66it/s]\n",
      "100%|██████████| 5000/5000 [00:00<00:00, 12975.19it/s]\n",
      "100%|██████████| 5000/5000 [00:00<00:00, 6900.16it/s]\n",
      "100%|██████████| 5000/5000 [00:00<00:00, 6870.09it/s]\n",
      "100%|██████████| 5000/5000 [00:00<00:00, 6920.66it/s]\n",
      "100%|██████████| 5000/5000 [00:01<00:00, 4820.25it/s]\n"
     ]
    },
    {
     "name": "stdout",
     "output_type": "stream",
     "text": [
      "2.52679631462\n",
      "2.39756886203\n",
      "2.36159273697\n",
      "2.39845916563\n",
      "2.42270163098\n",
      "2.45616841188\n",
      "173\n",
      "go 28 30 173 180\n"
     ]
    },
    {
     "name": "stderr",
     "output_type": "stream",
     "text": [
      "100%|██████████| 5000/5000 [00:00<00:00, 13202.47it/s]\n",
      "100%|██████████| 5000/5000 [00:00<00:00, 13488.80it/s]\n",
      "100%|██████████| 5000/5000 [00:00<00:00, 7591.26it/s]\n",
      "100%|██████████| 5000/5000 [00:00<00:00, 6876.28it/s]\n",
      "100%|██████████| 5000/5000 [00:00<00:00, 6932.44it/s]\n",
      "100%|██████████| 5000/5000 [00:01<00:00, 4855.63it/s]\n"
     ]
    },
    {
     "name": "stdout",
     "output_type": "stream",
     "text": [
      "2.42965359928\n",
      "2.76028622851\n",
      "2.4846855529\n",
      "1.45720470218\n",
      "2.09570683939\n",
      "2.13989023105\n",
      "go 28 31 173 181\n"
     ]
    },
    {
     "name": "stderr",
     "output_type": "stream",
     "text": [
      "100%|██████████| 5000/5000 [00:00<00:00, 13546.86it/s]\n",
      "100%|██████████| 5000/5000 [00:00<00:00, 13319.12it/s]\n",
      "100%|██████████| 5000/5000 [00:00<00:00, 7080.33it/s]\n",
      "100%|██████████| 5000/5000 [00:00<00:00, 6991.00it/s]\n",
      "100%|██████████| 5000/5000 [00:00<00:00, 7081.35it/s]\n",
      "100%|██████████| 5000/5000 [00:01<00:00, 4839.98it/s]\n"
     ]
    },
    {
     "name": "stdout",
     "output_type": "stream",
     "text": [
      "2.54161318647\n",
      "2.83496425117\n",
      "2.51961538062\n",
      "1.32155092632\n",
      "1.91849499485\n",
      "1.88337551477\n",
      "go 28 32 173 211\n"
     ]
    },
    {
     "name": "stderr",
     "output_type": "stream",
     "text": [
      "100%|██████████| 5000/5000 [00:00<00:00, 13211.96it/s]\n",
      "100%|██████████| 5000/5000 [00:00<00:00, 13344.41it/s]\n",
      "100%|██████████| 5000/5000 [00:00<00:00, 7004.32it/s]\n",
      "100%|██████████| 5000/5000 [00:00<00:00, 6990.79it/s]\n",
      "100%|██████████| 5000/5000 [00:00<00:00, 7022.16it/s]\n",
      "100%|██████████| 5000/5000 [00:01<00:00, 4771.73it/s]\n"
     ]
    },
    {
     "name": "stdout",
     "output_type": "stream",
     "text": [
      "2.55874121427\n",
      "2.38753443378\n",
      "2.43477130884\n",
      "2.44242951045\n",
      "2.41383601218\n",
      "2.53017713603\n",
      "174\n",
      "go 29 30 174 180\n"
     ]
    },
    {
     "name": "stderr",
     "output_type": "stream",
     "text": [
      "100%|██████████| 5000/5000 [00:00<00:00, 13311.79it/s]\n",
      "100%|██████████| 5000/5000 [00:00<00:00, 13110.49it/s]\n",
      "100%|██████████| 5000/5000 [00:00<00:00, 7543.55it/s]\n",
      "100%|██████████| 5000/5000 [00:00<00:00, 7548.06it/s]\n",
      "100%|██████████| 5000/5000 [00:00<00:00, 7592.84it/s]\n",
      "100%|██████████| 5000/5000 [00:00<00:00, 5089.77it/s]\n"
     ]
    },
    {
     "name": "stdout",
     "output_type": "stream",
     "text": [
      "2.56524700724\n",
      "2.56337425089\n",
      "2.55633312429\n",
      "2.01402418024\n",
      "2.04712399548\n",
      "2.54018426627\n",
      "go 29 31 174 181\n"
     ]
    },
    {
     "name": "stderr",
     "output_type": "stream",
     "text": [
      "100%|██████████| 5000/5000 [00:00<00:00, 13130.98it/s]\n",
      "100%|██████████| 5000/5000 [00:00<00:00, 13323.92it/s]\n",
      "100%|██████████| 5000/5000 [00:00<00:00, 7578.02it/s]\n",
      "100%|██████████| 5000/5000 [00:00<00:00, 7004.10it/s]\n",
      "100%|██████████| 5000/5000 [00:00<00:00, 6968.85it/s]\n",
      "100%|██████████| 5000/5000 [00:01<00:00, 4817.29it/s]\n"
     ]
    },
    {
     "name": "stdout",
     "output_type": "stream",
     "text": [
      "2.65643273262\n",
      "2.64275818873\n",
      "2.54526265541\n",
      "1.76143307559\n",
      "1.77469436487\n",
      "2.21758785725\n",
      "go 29 32 174 211\n"
     ]
    },
    {
     "name": "stderr",
     "output_type": "stream",
     "text": [
      "100%|██████████| 5000/5000 [00:00<00:00, 13234.77it/s]\n",
      "100%|██████████| 5000/5000 [00:00<00:00, 13354.10it/s]\n",
      "100%|██████████| 5000/5000 [00:00<00:00, 6844.06it/s]\n",
      "100%|██████████| 5000/5000 [00:00<00:00, 6822.72it/s]\n",
      "100%|██████████| 5000/5000 [00:00<00:00, 6812.32it/s]\n",
      "100%|██████████| 5000/5000 [00:01<00:00, 4725.59it/s]\n"
     ]
    },
    {
     "name": "stdout",
     "output_type": "stream",
     "text": [
      "2.57341923746\n",
      "2.57443494917\n",
      "2.44594888723\n",
      "2.46036595659\n",
      "2.46119204998\n",
      "2.5504541658\n",
      "180\n",
      "go 30 32 180 211\n"
     ]
    },
    {
     "name": "stderr",
     "output_type": "stream",
     "text": [
      "100%|██████████| 5000/5000 [00:00<00:00, 13195.09it/s]\n",
      "100%|██████████| 5000/5000 [00:00<00:00, 13227.44it/s]\n",
      "100%|██████████| 5000/5000 [00:00<00:00, 6890.70it/s]\n",
      "100%|██████████| 5000/5000 [00:00<00:00, 6886.95it/s]\n",
      "100%|██████████| 5000/5000 [00:00<00:00, 6795.19it/s]\n",
      "100%|██████████| 5000/5000 [00:01<00:00, 4682.63it/s]\n"
     ]
    },
    {
     "name": "stdout",
     "output_type": "stream",
     "text": [
      "2.63237580562\n",
      "3.2456553299\n",
      "2.23386050936\n",
      "2.57862710679\n",
      "2.97822594649\n",
      "2.24474085182\n",
      "go 30 33 180 212\n"
     ]
    },
    {
     "name": "stderr",
     "output_type": "stream",
     "text": [
      "100%|██████████| 5000/5000 [00:00<00:00, 13118.10it/s]\n",
      "100%|██████████| 5000/5000 [00:00<00:00, 13236.03it/s]\n",
      "100%|██████████| 5000/5000 [00:00<00:00, 6836.13it/s]\n",
      "100%|██████████| 5000/5000 [00:00<00:00, 6803.82it/s]\n",
      "100%|██████████| 5000/5000 [00:00<00:00, 6934.67it/s]\n",
      "100%|██████████| 5000/5000 [00:01<00:00, 4797.94it/s]\n"
     ]
    },
    {
     "name": "stdout",
     "output_type": "stream",
     "text": [
      "2.6132111397\n",
      "3.22771850246\n",
      "2.2405467494\n",
      "2.57445634886\n",
      "2.9782633022\n",
      "2.21693192181\n",
      "go 30 34 180 213\n"
     ]
    },
    {
     "name": "stderr",
     "output_type": "stream",
     "text": [
      "100%|██████████| 5000/5000 [00:00<00:00, 13200.52it/s]\n",
      "100%|██████████| 5000/5000 [00:00<00:00, 13508.26it/s]\n",
      "100%|██████████| 5000/5000 [00:00<00:00, 6850.13it/s]\n",
      "100%|██████████| 5000/5000 [00:00<00:00, 6945.84it/s]\n",
      "100%|██████████| 5000/5000 [00:00<00:00, 6759.78it/s]\n",
      "100%|██████████| 5000/5000 [00:01<00:00, 4708.62it/s]\n"
     ]
    },
    {
     "name": "stdout",
     "output_type": "stream",
     "text": [
      "2.59941273196\n",
      "3.21844762239\n",
      "2.24300417133\n",
      "2.56743862893\n",
      "2.97368489451\n",
      "2.19873842407\n",
      "go 30 35 180 218\n"
     ]
    },
    {
     "name": "stderr",
     "output_type": "stream",
     "text": [
      "100%|██████████| 5000/5000 [00:00<00:00, 13023.07it/s]\n",
      "100%|██████████| 5000/5000 [00:00<00:00, 13635.94it/s]\n",
      "100%|██████████| 5000/5000 [00:00<00:00, 6959.81it/s]\n",
      "100%|██████████| 5000/5000 [00:00<00:00, 6930.80it/s]\n",
      "100%|██████████| 5000/5000 [00:00<00:00, 6861.78it/s]\n",
      "100%|██████████| 5000/5000 [00:01<00:00, 4792.88it/s]\n"
     ]
    },
    {
     "name": "stdout",
     "output_type": "stream",
     "text": [
      "2.55309902179\n",
      "3.14069608423\n",
      "2.41594478288\n",
      "2.62345425509\n",
      "3.003968817\n",
      "2.17753744264\n",
      "go 30 36 180 245\n"
     ]
    },
    {
     "name": "stderr",
     "output_type": "stream",
     "text": [
      "100%|██████████| 5000/5000 [00:00<00:00, 13672.22it/s]\n",
      "100%|██████████| 5000/5000 [00:00<00:00, 13357.45it/s]\n",
      "100%|██████████| 5000/5000 [00:00<00:00, 6951.17it/s]\n",
      "100%|██████████| 5000/5000 [00:00<00:00, 6910.69it/s]\n",
      "100%|██████████| 5000/5000 [00:00<00:00, 6932.82it/s]\n",
      "100%|██████████| 5000/5000 [00:01<00:00, 4828.28it/s]\n"
     ]
    },
    {
     "name": "stdout",
     "output_type": "stream",
     "text": [
      "2.68104400682\n",
      "2.86800464765\n",
      "2.72433494287\n",
      "2.52048443907\n",
      "2.91624051425\n",
      "1.99128456183\n",
      "go 30 37 180 246\n"
     ]
    },
    {
     "name": "stderr",
     "output_type": "stream",
     "text": [
      "100%|██████████| 5000/5000 [00:00<00:00, 13712.30it/s]\n",
      "100%|██████████| 5000/5000 [00:00<00:00, 13564.07it/s]\n",
      "100%|██████████| 5000/5000 [00:00<00:00, 7121.76it/s]\n",
      "100%|██████████| 5000/5000 [00:00<00:00, 7009.21it/s]\n",
      "100%|██████████| 5000/5000 [00:00<00:00, 6905.65it/s]\n",
      "100%|██████████| 5000/5000 [00:01<00:00, 4776.02it/s]\n"
     ]
    },
    {
     "name": "stdout",
     "output_type": "stream",
     "text": [
      "2.6824289214\n",
      "2.86058664354\n",
      "2.72145055498\n",
      "2.50996204777\n",
      "2.91024394301\n",
      "1.99104155003\n",
      "go 30 38 180 254\n"
     ]
    },
    {
     "name": "stderr",
     "output_type": "stream",
     "text": [
      "100%|██████████| 5000/5000 [00:00<00:00, 13050.91it/s]\n",
      "100%|██████████| 5000/5000 [00:00<00:00, 13047.74it/s]\n",
      "100%|██████████| 5000/5000 [00:00<00:00, 6717.04it/s]\n",
      "100%|██████████| 5000/5000 [00:00<00:00, 6696.27it/s]\n",
      "100%|██████████| 5000/5000 [00:00<00:00, 6720.63it/s]\n",
      "100%|██████████| 5000/5000 [00:01<00:00, 4630.20it/s]\n"
     ]
    },
    {
     "name": "stdout",
     "output_type": "stream",
     "text": [
      "2.6524242475\n",
      "2.889924317\n",
      "2.69803753825\n",
      "2.62099559627\n",
      "2.89225561507\n",
      "2.54481753201\n",
      "181\n",
      "go 31 32 181 211\n"
     ]
    },
    {
     "name": "stderr",
     "output_type": "stream",
     "text": [
      "100%|██████████| 5000/5000 [00:00<00:00, 13186.59it/s]\n",
      "100%|██████████| 5000/5000 [00:00<00:00, 13020.73it/s]\n",
      "100%|██████████| 5000/5000 [00:00<00:00, 6802.63it/s]\n",
      "100%|██████████| 5000/5000 [00:00<00:00, 6854.44it/s]\n",
      "100%|██████████| 5000/5000 [00:00<00:00, 6952.03it/s]\n",
      "100%|██████████| 5000/5000 [00:01<00:00, 4753.67it/s]\n"
     ]
    },
    {
     "name": "stdout",
     "output_type": "stream",
     "text": [
      "2.62540187705\n",
      "3.4056145264\n",
      "1.98308165082\n",
      "2.58341842704\n",
      "3.14295474548\n",
      "0.912230043907\n",
      "go 31 33 181 212\n"
     ]
    },
    {
     "name": "stderr",
     "output_type": "stream",
     "text": [
      "100%|██████████| 5000/5000 [00:00<00:00, 13314.94it/s]\n",
      "100%|██████████| 5000/5000 [00:00<00:00, 13482.10it/s]\n",
      "100%|██████████| 5000/5000 [00:00<00:00, 6926.69it/s]\n",
      "100%|██████████| 5000/5000 [00:00<00:00, 6913.05it/s]\n",
      "100%|██████████| 5000/5000 [00:00<00:00, 6957.56it/s]\n",
      "100%|██████████| 5000/5000 [00:01<00:00, 4811.87it/s]\n"
     ]
    },
    {
     "name": "stdout",
     "output_type": "stream",
     "text": [
      "2.60620018105\n",
      "3.39813549979\n",
      "2.02423913777\n",
      "2.5741862169\n",
      "3.14327319969\n",
      "0.891618364936\n",
      "go 31 34 181 213\n"
     ]
    },
    {
     "name": "stderr",
     "output_type": "stream",
     "text": [
      "100%|██████████| 5000/5000 [00:00<00:00, 13061.18it/s]\n",
      "100%|██████████| 5000/5000 [00:00<00:00, 13118.02it/s]\n",
      "100%|██████████| 5000/5000 [00:00<00:00, 6793.67it/s]\n",
      "100%|██████████| 5000/5000 [00:00<00:00, 6803.33it/s]\n",
      "100%|██████████| 5000/5000 [00:00<00:00, 6762.86it/s]\n",
      "100%|██████████| 5000/5000 [00:01<00:00, 4660.54it/s]\n"
     ]
    },
    {
     "name": "stdout",
     "output_type": "stream",
     "text": [
      "2.58882787361\n",
      "3.38467251465\n",
      "2.04527904835\n",
      "2.56777402349\n",
      "3.1378233439\n",
      "0.865874601763\n",
      "go 31 35 181 218\n"
     ]
    },
    {
     "name": "stderr",
     "output_type": "stream",
     "text": [
      "100%|██████████| 5000/5000 [00:00<00:00, 13299.75it/s]\n",
      "100%|██████████| 5000/5000 [00:00<00:00, 13338.99it/s]\n",
      "100%|██████████| 5000/5000 [00:00<00:00, 6932.72it/s]\n",
      "100%|██████████| 5000/5000 [00:00<00:00, 6893.36it/s]\n",
      "100%|██████████| 5000/5000 [00:00<00:00, 6860.55it/s]\n",
      "100%|██████████| 5000/5000 [00:01<00:00, 4746.99it/s]\n"
     ]
    },
    {
     "name": "stdout",
     "output_type": "stream",
     "text": [
      "2.54361525703\n",
      "3.31313991675\n",
      "2.34351321898\n",
      "2.62094692994\n",
      "3.14476238157\n",
      "1.2361338189\n",
      "211\n",
      "go 32 35 211 218\n"
     ]
    },
    {
     "name": "stderr",
     "output_type": "stream",
     "text": [
      "100%|██████████| 5000/5000 [00:00<00:00, 13444.26it/s]\n",
      "100%|██████████| 5000/5000 [00:00<00:00, 13404.32it/s]\n",
      "100%|██████████| 5000/5000 [00:00<00:00, 7672.02it/s]\n",
      "100%|██████████| 5000/5000 [00:00<00:00, 6811.39it/s]\n",
      "100%|██████████| 5000/5000 [00:00<00:00, 6916.89it/s]\n",
      "100%|██████████| 5000/5000 [00:01<00:00, 4857.53it/s]\n"
     ]
    },
    {
     "name": "stdout",
     "output_type": "stream",
     "text": [
      "2.37991054201\n",
      "2.71677566572\n",
      "2.47552328718\n",
      "1.47473671002\n",
      "2.00090654848\n",
      "2.09867727534\n",
      "go 32 36 211 245\n"
     ]
    },
    {
     "name": "stderr",
     "output_type": "stream",
     "text": [
      "100%|██████████| 5000/5000 [00:00<00:00, 13486.43it/s]\n",
      "100%|██████████| 5000/5000 [00:00<00:00, 13426.50it/s]\n",
      "100%|██████████| 5000/5000 [00:00<00:00, 7018.41it/s]\n",
      "100%|██████████| 5000/5000 [00:00<00:00, 6901.67it/s]\n",
      "100%|██████████| 5000/5000 [00:00<00:00, 6947.53it/s]\n",
      "100%|██████████| 5000/5000 [00:01<00:00, 4839.75it/s]\n"
     ]
    },
    {
     "name": "stdout",
     "output_type": "stream",
     "text": [
      "2.77664035653\n",
      "3.00351473404\n",
      "1.75310242539\n",
      "1.95101367635\n",
      "2.21299335448\n",
      "1.59225576626\n",
      "212\n",
      "go 33 35 212 218\n"
     ]
    },
    {
     "name": "stderr",
     "output_type": "stream",
     "text": [
      "100%|██████████| 5000/5000 [00:00<00:00, 13723.33it/s]\n",
      "100%|██████████| 5000/5000 [00:00<00:00, 13414.85it/s]\n",
      "100%|██████████| 5000/5000 [00:00<00:00, 7689.26it/s]\n",
      "100%|██████████| 5000/5000 [00:00<00:00, 7228.27it/s]\n",
      "100%|██████████| 5000/5000 [00:00<00:00, 7579.98it/s]\n",
      "100%|██████████| 5000/5000 [00:00<00:00, 5238.31it/s]\n"
     ]
    },
    {
     "name": "stdout",
     "output_type": "stream",
     "text": [
      "2.50716126906\n",
      "2.50333474196\n",
      "2.59007439468\n",
      "1.83666076451\n",
      "1.85044831468\n",
      "2.51986367404\n",
      "go 33 36 212 245\n"
     ]
    },
    {
     "name": "stderr",
     "output_type": "stream",
     "text": [
      "100%|██████████| 5000/5000 [00:00<00:00, 13623.98it/s]\n",
      "100%|██████████| 5000/5000 [00:00<00:00, 13735.40it/s]\n",
      "100%|██████████| 5000/5000 [00:00<00:00, 7121.75it/s]\n",
      "100%|██████████| 5000/5000 [00:00<00:00, 7101.93it/s]\n",
      "100%|██████████| 5000/5000 [00:00<00:00, 7078.97it/s]\n",
      "100%|██████████| 5000/5000 [00:01<00:00, 4970.70it/s]\n"
     ]
    },
    {
     "name": "stdout",
     "output_type": "stream",
     "text": [
      "2.79252093149\n",
      "2.78918661827\n",
      "1.61971578417\n",
      "2.02047466838\n",
      "2.01992764282\n",
      "1.50528538879\n",
      "go 33 37 212 246\n"
     ]
    },
    {
     "name": "stderr",
     "output_type": "stream",
     "text": [
      "100%|██████████| 5000/5000 [00:00<00:00, 13652.59it/s]\n",
      "100%|██████████| 5000/5000 [00:00<00:00, 13479.27it/s]\n",
      "100%|██████████| 5000/5000 [00:00<00:00, 7013.43it/s]\n",
      "100%|██████████| 5000/5000 [00:00<00:00, 6970.52it/s]\n",
      "100%|██████████| 5000/5000 [00:00<00:00, 6988.88it/s]\n",
      "100%|██████████| 5000/5000 [00:01<00:00, 4894.19it/s]\n"
     ]
    },
    {
     "name": "stdout",
     "output_type": "stream",
     "text": [
      "2.79278215613\n",
      "2.79392631313\n",
      "1.60214801078\n",
      "2.02594609262\n",
      "2.0227163002\n",
      "1.4853528543\n",
      "go 33 38 212 254\n"
     ]
    },
    {
     "name": "stderr",
     "output_type": "stream",
     "text": [
      "100%|██████████| 5000/5000 [00:00<00:00, 13269.08it/s]\n",
      "100%|██████████| 5000/5000 [00:00<00:00, 13610.11it/s]\n",
      "100%|██████████| 5000/5000 [00:00<00:00, 6951.67it/s]\n",
      "100%|██████████| 5000/5000 [00:00<00:00, 6942.09it/s]\n",
      "100%|██████████| 5000/5000 [00:00<00:00, 6922.53it/s]\n",
      "100%|██████████| 5000/5000 [00:01<00:00, 4823.08it/s]\n"
     ]
    },
    {
     "name": "stdout",
     "output_type": "stream",
     "text": [
      "2.72875914411\n",
      "2.72759689953\n",
      "2.46462964899\n",
      "2.69537849677\n",
      "2.69385750783\n",
      "2.47221807578\n",
      "213\n",
      "go 34 35 213 218\n"
     ]
    },
    {
     "name": "stderr",
     "output_type": "stream",
     "text": [
      "100%|██████████| 5000/5000 [00:00<00:00, 13531.84it/s]\n",
      "100%|██████████| 5000/5000 [00:00<00:00, 13210.17it/s]\n",
      "100%|██████████| 5000/5000 [00:00<00:00, 7521.99it/s]\n",
      "100%|██████████| 5000/5000 [00:00<00:00, 7408.33it/s]\n",
      "100%|██████████| 5000/5000 [00:00<00:00, 7604.48it/s]\n",
      "100%|██████████| 5000/5000 [00:00<00:00, 5076.17it/s]\n"
     ]
    },
    {
     "name": "stdout",
     "output_type": "stream",
     "text": [
      "2.67678422221\n",
      "2.66837732656\n",
      "2.50039528379\n",
      "2.62928950543\n",
      "2.64670677623\n",
      "2.90347942301\n",
      "go 34 36 213 245\n"
     ]
    },
    {
     "name": "stderr",
     "output_type": "stream",
     "text": [
      "100%|██████████| 5000/5000 [00:00<00:00, 12997.01it/s]\n",
      "100%|██████████| 5000/5000 [00:00<00:00, 13004.47it/s]\n",
      "100%|██████████| 5000/5000 [00:00<00:00, 6958.26it/s]\n",
      "100%|██████████| 5000/5000 [00:00<00:00, 6811.81it/s]\n",
      "100%|██████████| 5000/5000 [00:00<00:00, 6831.46it/s]\n",
      "100%|██████████| 5000/5000 [00:01<00:00, 4642.75it/s]\n"
     ]
    },
    {
     "name": "stdout",
     "output_type": "stream",
     "text": [
      "2.80964810148\n",
      "2.81149663298\n",
      "1.38638392866\n",
      "2.09530886122\n",
      "2.09699142704\n",
      "1.29643471725\n",
      "go 34 37 213 246\n"
     ]
    },
    {
     "name": "stderr",
     "output_type": "stream",
     "text": [
      "100%|██████████| 5000/5000 [00:00<00:00, 12885.31it/s]\n",
      "100%|██████████| 5000/5000 [00:00<00:00, 12939.82it/s]\n",
      "100%|██████████| 5000/5000 [00:00<00:00, 6943.66it/s]\n",
      "100%|██████████| 5000/5000 [00:00<00:00, 6898.46it/s]\n",
      "100%|██████████| 5000/5000 [00:00<00:00, 6839.06it/s]\n",
      "100%|██████████| 5000/5000 [00:01<00:00, 4746.55it/s]\n"
     ]
    },
    {
     "name": "stdout",
     "output_type": "stream",
     "text": [
      "2.81147334269\n",
      "2.80918706769\n",
      "1.36177893394\n",
      "2.09149775072\n",
      "2.09730172968\n",
      "1.2799279106\n",
      "go 34 38 213 254\n"
     ]
    },
    {
     "name": "stderr",
     "output_type": "stream",
     "text": [
      "100%|██████████| 5000/5000 [00:00<00:00, 13142.72it/s]\n",
      "100%|██████████| 5000/5000 [00:00<00:00, 13334.29it/s]\n",
      "100%|██████████| 5000/5000 [00:00<00:00, 6890.49it/s]\n",
      "100%|██████████| 5000/5000 [00:00<00:00, 6804.17it/s]\n",
      "100%|██████████| 5000/5000 [00:00<00:00, 6837.21it/s]\n",
      "100%|██████████| 5000/5000 [00:01<00:00, 4714.80it/s]\n"
     ]
    },
    {
     "name": "stdout",
     "output_type": "stream",
     "text": [
      "2.74182600355\n",
      "2.74077410063\n",
      "2.46569397385\n",
      "2.72082998583\n",
      "2.71819376917\n",
      "2.44175162453\n",
      "218\n",
      "go 35 36 218 245\n"
     ]
    },
    {
     "name": "stderr",
     "output_type": "stream",
     "text": [
      "100%|██████████| 5000/5000 [00:00<00:00, 13197.49it/s]\n",
      "100%|██████████| 5000/5000 [00:00<00:00, 13237.21it/s]\n",
      "100%|██████████| 5000/5000 [00:00<00:00, 6905.91it/s]\n",
      "100%|██████████| 5000/5000 [00:00<00:00, 6945.54it/s]\n",
      "100%|██████████| 5000/5000 [00:00<00:00, 6998.06it/s]\n",
      "100%|██████████| 5000/5000 [00:01<00:00, 4788.83it/s]\n"
     ]
    },
    {
     "name": "stdout",
     "output_type": "stream",
     "text": [
      "2.88398576472\n",
      "1.53810003759\n",
      "-272.774678217\n",
      "2.37342797286\n",
      "1.03636251384\n",
      "-24.225456587\n",
      "go 35 37 218 246\n"
     ]
    },
    {
     "name": "stderr",
     "output_type": "stream",
     "text": [
      "100%|██████████| 5000/5000 [00:00<00:00, 13600.63it/s]\n",
      "100%|██████████| 5000/5000 [00:00<00:00, 13715.54it/s]\n",
      "100%|██████████| 5000/5000 [00:00<00:00, 6911.02it/s]\n",
      "100%|██████████| 5000/5000 [00:00<00:00, 6898.20it/s]\n",
      "100%|██████████| 5000/5000 [00:00<00:00, 6925.68it/s]\n",
      "100%|██████████| 5000/5000 [00:01<00:00, 4834.30it/s]\n"
     ]
    },
    {
     "name": "stdout",
     "output_type": "stream",
     "text": [
      "2.87735612931\n",
      "1.53479325921\n",
      "-196.010018863\n",
      "2.36626786039\n",
      "1.02490280965\n",
      "-26.7429421228\n",
      "245\n",
      "go 36 38 245 254\n"
     ]
    },
    {
     "name": "stderr",
     "output_type": "stream",
     "text": [
      "100%|██████████| 5000/5000 [00:00<00:00, 13509.31it/s]\n",
      "100%|██████████| 5000/5000 [00:00<00:00, 13320.12it/s]\n",
      "100%|██████████| 5000/5000 [00:00<00:00, 6943.95it/s]\n",
      "100%|██████████| 5000/5000 [00:00<00:00, 6937.75it/s]\n",
      "100%|██████████| 5000/5000 [00:00<00:00, 6872.47it/s]\n",
      "100%|██████████| 5000/5000 [00:01<00:00, 4704.94it/s]\n"
     ]
    },
    {
     "name": "stdout",
     "output_type": "stream",
     "text": [
      "2.66762281708\n",
      "3.38874555635\n",
      "2.95526148789\n",
      "3.02354182569\n",
      "3.40633355648\n",
      "3.50986863752\n",
      "go 36 39 245 255\n"
     ]
    },
    {
     "name": "stderr",
     "output_type": "stream",
     "text": [
      "100%|██████████| 5000/5000 [00:00<00:00, 13253.04it/s]\n",
      "100%|██████████| 5000/5000 [00:00<00:00, 13243.94it/s]\n",
      "100%|██████████| 5000/5000 [00:00<00:00, 7000.95it/s]\n",
      "100%|██████████| 5000/5000 [00:00<00:00, 6907.00it/s]\n",
      "100%|██████████| 5000/5000 [00:00<00:00, 6903.15it/s]\n",
      "100%|██████████| 5000/5000 [00:01<00:00, 4812.14it/s]\n"
     ]
    },
    {
     "name": "stdout",
     "output_type": "stream",
     "text": [
      "2.59929776935\n",
      "3.33762054926\n",
      "2.85381234074\n",
      "2.92691858355\n",
      "3.3125421591\n",
      "3.34614948083\n",
      "go 36 40 245 263\n"
     ]
    },
    {
     "name": "stderr",
     "output_type": "stream",
     "text": [
      "100%|██████████| 5000/5000 [00:00<00:00, 13470.66it/s]\n",
      "100%|██████████| 5000/5000 [00:00<00:00, 13399.90it/s]\n",
      "100%|██████████| 5000/5000 [00:00<00:00, 6923.40it/s]\n",
      "100%|██████████| 5000/5000 [00:00<00:00, 6859.97it/s]\n",
      "100%|██████████| 5000/5000 [00:00<00:00, 6948.72it/s]\n",
      "100%|██████████| 5000/5000 [00:01<00:00, 4906.61it/s]\n"
     ]
    },
    {
     "name": "stdout",
     "output_type": "stream",
     "text": [
      "2.60665682775\n",
      "3.00495492572\n",
      "2.7798096271\n",
      "2.61497206373\n",
      "3.12268834111\n",
      "2.64826782733\n",
      "246\n",
      "go 37 38 246 254\n"
     ]
    },
    {
     "name": "stderr",
     "output_type": "stream",
     "text": [
      "100%|██████████| 5000/5000 [00:00<00:00, 13317.25it/s]\n",
      "100%|██████████| 5000/5000 [00:00<00:00, 13545.32it/s]\n",
      "100%|██████████| 5000/5000 [00:00<00:00, 7026.34it/s]\n",
      "100%|██████████| 5000/5000 [00:00<00:00, 6937.83it/s]\n",
      "100%|██████████| 5000/5000 [00:00<00:00, 7089.82it/s]\n",
      "100%|██████████| 5000/5000 [00:01<00:00, 4871.39it/s]\n"
     ]
    },
    {
     "name": "stdout",
     "output_type": "stream",
     "text": [
      "2.62405991244\n",
      "3.46516781141\n",
      "2.67825206102\n",
      "3.04494648792\n",
      "3.63259899899\n",
      "2.48587400128\n",
      "go 37 39 246 255\n"
     ]
    },
    {
     "name": "stderr",
     "output_type": "stream",
     "text": [
      "100%|██████████| 5000/5000 [00:00<00:00, 13707.57it/s]\n",
      "100%|██████████| 5000/5000 [00:00<00:00, 13401.69it/s]\n",
      "100%|██████████| 5000/5000 [00:00<00:00, 7012.85it/s]\n",
      "100%|██████████| 5000/5000 [00:00<00:00, 7027.28it/s]\n",
      "100%|██████████| 5000/5000 [00:00<00:00, 7015.21it/s]\n",
      "100%|██████████| 5000/5000 [00:01<00:00, 4921.22it/s]\n"
     ]
    },
    {
     "name": "stdout",
     "output_type": "stream",
     "text": [
      "2.56017912992\n",
      "3.41163388412\n",
      "2.59549171843\n",
      "2.92224511403\n",
      "3.524794316\n",
      "2.28755002624\n",
      "go 37 40 246 263\n"
     ]
    },
    {
     "name": "stderr",
     "output_type": "stream",
     "text": [
      "100%|██████████| 5000/5000 [00:00<00:00, 13815.36it/s]\n",
      "100%|██████████| 5000/5000 [00:00<00:00, 13655.31it/s]\n",
      "100%|██████████| 5000/5000 [00:00<00:00, 6880.67it/s]\n",
      "100%|██████████| 5000/5000 [00:00<00:00, 6964.61it/s]\n",
      "100%|██████████| 5000/5000 [00:00<00:00, 6909.54it/s]\n",
      "100%|██████████| 5000/5000 [00:01<00:00, 4762.22it/s]\n"
     ]
    },
    {
     "name": "stdout",
     "output_type": "stream",
     "text": [
      "2.58613124268\n",
      "3.03125401151\n",
      "2.78975360883\n",
      "2.54806533543\n",
      "3.19057506427\n",
      "1.42145089154\n",
      "go 37 41 246 264\n"
     ]
    },
    {
     "name": "stderr",
     "output_type": "stream",
     "text": [
      "100%|██████████| 5000/5000 [00:00<00:00, 13335.44it/s]\n",
      "100%|██████████| 5000/5000 [00:00<00:00, 13298.72it/s]\n",
      "100%|██████████| 5000/5000 [00:00<00:00, 6902.45it/s]\n",
      "100%|██████████| 5000/5000 [00:00<00:00, 6958.54it/s]\n",
      "100%|██████████| 5000/5000 [00:00<00:00, 6848.16it/s]\n",
      "100%|██████████| 5000/5000 [00:01<00:00, 4780.77it/s]\n"
     ]
    },
    {
     "name": "stdout",
     "output_type": "stream",
     "text": [
      "2.56111775347\n",
      "3.01052783891\n",
      "2.75008620928\n",
      "2.52801070253\n",
      "3.14426308553\n",
      "2.09845978298\n",
      "254\n",
      "go 38 40 254 263\n"
     ]
    },
    {
     "name": "stderr",
     "output_type": "stream",
     "text": [
      "100%|██████████| 5000/5000 [00:00<00:00, 13520.20it/s]\n",
      "100%|██████████| 5000/5000 [00:00<00:00, 13387.49it/s]\n",
      "100%|██████████| 5000/5000 [00:00<00:00, 6892.35it/s]\n",
      "100%|██████████| 5000/5000 [00:00<00:00, 7013.50it/s]\n",
      "100%|██████████| 5000/5000 [00:00<00:00, 6905.70it/s]\n",
      "100%|██████████| 5000/5000 [00:01<00:00, 4802.72it/s]\n"
     ]
    },
    {
     "name": "stdout",
     "output_type": "stream",
     "text": [
      "2.7785543317\n",
      "2.79961192289\n",
      "2.580559518\n",
      "1.28442622197\n",
      "1.3030024514\n",
      "1.62797876197\n",
      "go 38 41 254 264\n"
     ]
    },
    {
     "name": "stderr",
     "output_type": "stream",
     "text": [
      "100%|██████████| 5000/5000 [00:00<00:00, 13434.03it/s]\n",
      "100%|██████████| 5000/5000 [00:00<00:00, 13443.07it/s]\n",
      "100%|██████████| 5000/5000 [00:00<00:00, 7023.55it/s]\n",
      "100%|██████████| 5000/5000 [00:00<00:00, 6954.38it/s]\n",
      "100%|██████████| 5000/5000 [00:00<00:00, 6963.43it/s]\n",
      "100%|██████████| 5000/5000 [00:01<00:00, 4916.39it/s]\n"
     ]
    },
    {
     "name": "stdout",
     "output_type": "stream",
     "text": [
      "2.70552839362\n",
      "2.70472271538\n",
      "2.50572037601\n",
      "2.36339219243\n",
      "2.37730603767\n",
      "2.73654764574\n",
      "255\n",
      "go 39 40 255 263\n"
     ]
    },
    {
     "name": "stderr",
     "output_type": "stream",
     "text": [
      "100%|██████████| 5000/5000 [00:00<00:00, 13672.97it/s]\n",
      "100%|██████████| 5000/5000 [00:00<00:00, 13427.11it/s]\n",
      "100%|██████████| 5000/5000 [00:00<00:00, 6997.47it/s]\n",
      "100%|██████████| 5000/5000 [00:00<00:00, 6914.07it/s]\n",
      "100%|██████████| 5000/5000 [00:00<00:00, 6957.72it/s]\n",
      "100%|██████████| 5000/5000 [00:01<00:00, 4790.78it/s]\n"
     ]
    },
    {
     "name": "stdout",
     "output_type": "stream",
     "text": [
      "2.87396669744\n",
      "2.87388209249\n",
      "2.47762513808\n",
      "1.97363329528\n",
      "1.97794607807\n",
      "1.67008287217\n",
      "go 39 41 255 264\n"
     ]
    },
    {
     "name": "stderr",
     "output_type": "stream",
     "text": [
      "100%|██████████| 5000/5000 [00:00<00:00, 13430.93it/s]\n",
      "100%|██████████| 5000/5000 [00:00<00:00, 13567.90it/s]\n",
      "100%|██████████| 5000/5000 [00:00<00:00, 6925.31it/s]\n",
      "100%|██████████| 5000/5000 [00:00<00:00, 6896.17it/s]\n",
      "100%|██████████| 5000/5000 [00:00<00:00, 7032.32it/s]\n",
      "100%|██████████| 5000/5000 [00:01<00:00, 4847.01it/s]\n"
     ]
    },
    {
     "name": "stdout",
     "output_type": "stream",
     "text": [
      "2.7913454818\n",
      "2.78563254819\n",
      "2.45311495292\n",
      "2.59128114414\n",
      "2.57688033569\n",
      "2.85861934553\n",
      "263\n",
      "go 40 43 263 279\n"
     ]
    },
    {
     "name": "stderr",
     "output_type": "stream",
     "text": [
      "100%|██████████| 5000/5000 [00:00<00:00, 13322.85it/s]\n",
      "100%|██████████| 5000/5000 [00:00<00:00, 13346.00it/s]\n",
      "100%|██████████| 5000/5000 [00:00<00:00, 7010.14it/s]\n",
      "100%|██████████| 5000/5000 [00:00<00:00, 6914.59it/s]\n",
      "100%|██████████| 5000/5000 [00:00<00:00, 6832.24it/s]\n",
      "100%|██████████| 5000/5000 [00:01<00:00, 4809.87it/s]\n"
     ]
    },
    {
     "name": "stdout",
     "output_type": "stream",
     "text": [
      "2.90130328243\n",
      "3.68961852042\n",
      "2.1824580992\n",
      "2.69497862093\n",
      "3.34881103097\n",
      "2.46055362711\n",
      "go 40 44 263 284\n"
     ]
    },
    {
     "name": "stderr",
     "output_type": "stream",
     "text": [
      "100%|██████████| 5000/5000 [00:00<00:00, 13719.75it/s]\n",
      "100%|██████████| 5000/5000 [00:00<00:00, 13496.80it/s]\n",
      "100%|██████████| 5000/5000 [00:00<00:00, 6994.19it/s]\n",
      "100%|██████████| 5000/5000 [00:00<00:00, 6923.26it/s]\n",
      "100%|██████████| 5000/5000 [00:00<00:00, 6916.08it/s]\n",
      "100%|██████████| 5000/5000 [00:01<00:00, 4816.75it/s]\n"
     ]
    },
    {
     "name": "stdout",
     "output_type": "stream",
     "text": [
      "2.77661738273\n",
      "3.61287548568\n",
      "2.16626293797\n",
      "2.68256439957\n",
      "3.30693034546\n",
      "2.25886520183\n",
      "go 40 45 263 285\n"
     ]
    },
    {
     "name": "stderr",
     "output_type": "stream",
     "text": [
      "100%|██████████| 5000/5000 [00:00<00:00, 13347.56it/s]\n",
      "100%|██████████| 5000/5000 [00:00<00:00, 13597.75it/s]\n",
      "100%|██████████| 5000/5000 [00:00<00:00, 7027.38it/s]\n",
      "100%|██████████| 5000/5000 [00:00<00:00, 6932.09it/s]\n",
      "100%|██████████| 5000/5000 [00:00<00:00, 6953.13it/s]\n",
      "100%|██████████| 5000/5000 [00:01<00:00, 4470.41it/s]\n"
     ]
    },
    {
     "name": "stdout",
     "output_type": "stream",
     "text": [
      "2.74767485377\n",
      "3.59606116222\n",
      "2.21958682336\n",
      "2.68599116133\n",
      "3.30776908176\n",
      "2.25033895718\n",
      "264\n",
      "go 41 43 264 279\n"
     ]
    },
    {
     "name": "stderr",
     "output_type": "stream",
     "text": [
      "100%|██████████| 5000/5000 [00:00<00:00, 13245.78it/s]\n",
      "100%|██████████| 5000/5000 [00:00<00:00, 13714.38it/s]\n",
      "100%|██████████| 5000/5000 [00:00<00:00, 6984.78it/s]\n",
      "100%|██████████| 5000/5000 [00:00<00:00, 6949.13it/s]\n",
      "100%|██████████| 5000/5000 [00:00<00:00, 6894.91it/s]\n",
      "100%|██████████| 5000/5000 [00:01<00:00, 4823.26it/s]\n"
     ]
    },
    {
     "name": "stdout",
     "output_type": "stream",
     "text": [
      "2.94048120035\n",
      "3.15094079036\n",
      "1.65354681245\n",
      "2.81987041759\n",
      "2.98679506265\n",
      "1.08640596008\n",
      "go 41 44 264 284\n"
     ]
    },
    {
     "name": "stderr",
     "output_type": "stream",
     "text": [
      "100%|██████████| 5000/5000 [00:00<00:00, 13640.67it/s]\n",
      "100%|██████████| 5000/5000 [00:00<00:00, 13490.44it/s]\n",
      "100%|██████████| 5000/5000 [00:00<00:00, 7098.93it/s]\n",
      "100%|██████████| 5000/5000 [00:00<00:00, 7013.97it/s]\n",
      "100%|██████████| 5000/5000 [00:00<00:00, 6946.62it/s]\n",
      "100%|██████████| 5000/5000 [00:01<00:00, 4851.29it/s]\n"
     ]
    },
    {
     "name": "stdout",
     "output_type": "stream",
     "text": [
      "2.79897884809\n",
      "3.02762003105\n",
      "2.00272573894\n",
      "2.75305161476\n",
      "2.91355809135\n",
      "1.20132062797\n",
      "265\n",
      "go 42 43 265 279\n"
     ]
    },
    {
     "name": "stderr",
     "output_type": "stream",
     "text": [
      "100%|██████████| 5000/5000 [00:00<00:00, 13308.03it/s]\n",
      "100%|██████████| 5000/5000 [00:00<00:00, 13489.56it/s]\n",
      "100%|██████████| 5000/5000 [00:00<00:00, 6861.90it/s]\n",
      "100%|██████████| 5000/5000 [00:00<00:00, 6849.84it/s]\n",
      "100%|██████████| 5000/5000 [00:00<00:00, 6865.98it/s]\n",
      "100%|██████████| 5000/5000 [00:01<00:00, 4635.86it/s]\n"
     ]
    },
    {
     "name": "stdout",
     "output_type": "stream",
     "text": [
      "2.93418707469\n",
      "1.94843374402\n",
      "1.64946758289\n",
      "2.82622138679\n",
      "0.843614847308\n",
      "1.16920037193\n",
      "go 42 44 265 284\n"
     ]
    },
    {
     "name": "stderr",
     "output_type": "stream",
     "text": [
      "100%|██████████| 5000/5000 [00:00<00:00, 13048.18it/s]\n",
      "100%|██████████| 5000/5000 [00:00<00:00, 13017.65it/s]\n",
      "100%|██████████| 5000/5000 [00:00<00:00, 6741.87it/s]\n",
      "100%|██████████| 5000/5000 [00:00<00:00, 6812.58it/s]\n",
      "100%|██████████| 5000/5000 [00:00<00:00, 6779.77it/s]\n",
      "100%|██████████| 5000/5000 [00:01<00:00, 4713.64it/s]\n"
     ]
    },
    {
     "name": "stdout",
     "output_type": "stream",
     "text": [
      "2.77944187158\n",
      "2.31148072117\n",
      "2.0079034927\n",
      "2.73977152281\n",
      "1.01958021082\n",
      "1.2402380602\n",
      "279\n",
      "go 43 44 279 284\n"
     ]
    },
    {
     "name": "stderr",
     "output_type": "stream",
     "text": [
      "100%|██████████| 5000/5000 [00:00<00:00, 13376.74it/s]\n",
      "100%|██████████| 5000/5000 [00:00<00:00, 13025.61it/s]\n",
      "100%|██████████| 5000/5000 [00:00<00:00, 7470.84it/s]\n",
      "100%|██████████| 5000/5000 [00:00<00:00, 7516.13it/s]\n",
      "100%|██████████| 5000/5000 [00:00<00:00, 7493.23it/s]\n",
      "100%|██████████| 5000/5000 [00:00<00:00, 5103.96it/s]\n"
     ]
    },
    {
     "name": "stdout",
     "output_type": "stream",
     "text": [
      "2.54653478941\n",
      "2.44974875088\n",
      "2.66938350577\n",
      "3.19087046492\n",
      "2.20232026148\n",
      "3.11381709502\n",
      "go 43 45 279 285\n"
     ]
    },
    {
     "name": "stderr",
     "output_type": "stream",
     "text": [
      "100%|██████████| 5000/5000 [00:00<00:00, 13246.16it/s]\n",
      "100%|██████████| 5000/5000 [00:00<00:00, 13210.91it/s]\n",
      "100%|██████████| 5000/5000 [00:00<00:00, 7491.71it/s]\n",
      "100%|██████████| 5000/5000 [00:00<00:00, 7552.49it/s]\n",
      "100%|██████████| 5000/5000 [00:00<00:00, 7468.12it/s]\n",
      "100%|██████████| 5000/5000 [00:00<00:00, 5037.50it/s]\n"
     ]
    },
    {
     "name": "stdout",
     "output_type": "stream",
     "text": [
      "2.37686263014\n",
      "2.48839969945\n",
      "2.5633980471\n",
      "2.95727230036\n",
      "1.86772683989\n",
      "2.60083629431\n",
      "go 43 46 279 293\n"
     ]
    },
    {
     "name": "stderr",
     "output_type": "stream",
     "text": [
      "100%|██████████| 5000/5000 [00:00<00:00, 13429.77it/s]\n",
      "100%|██████████| 5000/5000 [00:00<00:00, 13206.80it/s]\n",
      "100%|██████████| 5000/5000 [00:00<00:00, 6974.02it/s]\n",
      "100%|██████████| 5000/5000 [00:00<00:00, 6901.07it/s]\n",
      "100%|██████████| 5000/5000 [00:00<00:00, 6846.90it/s]\n",
      "100%|██████████| 5000/5000 [00:01<00:00, 4751.88it/s]\n"
     ]
    },
    {
     "name": "stdout",
     "output_type": "stream",
     "text": [
      "1.79565395189\n",
      "2.63561928737\n",
      "2.02049442001\n",
      "2.0707563109\n",
      "2.02496750383\n",
      "2.047128501\n",
      "go 43 47 279 294\n"
     ]
    },
    {
     "name": "stderr",
     "output_type": "stream",
     "text": [
      "100%|██████████| 5000/5000 [00:00<00:00, 13414.22it/s]\n",
      "100%|██████████| 5000/5000 [00:00<00:00, 13324.48it/s]\n",
      "100%|██████████| 5000/5000 [00:00<00:00, 7057.12it/s]\n",
      "100%|██████████| 5000/5000 [00:00<00:00, 6790.17it/s]\n",
      "100%|██████████| 5000/5000 [00:00<00:00, 6822.61it/s]\n",
      "100%|██████████| 5000/5000 [00:01<00:00, 4700.26it/s]\n"
     ]
    },
    {
     "name": "stdout",
     "output_type": "stream",
     "text": [
      "1.75200457626\n",
      "2.62934413929\n",
      "1.96143054143\n",
      "1.99974792887\n",
      "2.01758972556\n",
      "2.00620153973\n",
      "go 43 48 279 340\n"
     ]
    },
    {
     "name": "stderr",
     "output_type": "stream",
     "text": [
      "100%|██████████| 5000/5000 [00:00<00:00, 13487.56it/s]\n",
      "100%|██████████| 5000/5000 [00:00<00:00, 13475.85it/s]\n",
      "100%|██████████| 5000/5000 [00:00<00:00, 6968.19it/s]\n",
      "100%|██████████| 5000/5000 [00:00<00:00, 6774.99it/s]\n",
      "100%|██████████| 5000/5000 [00:00<00:00, 6847.25it/s]\n",
      "100%|██████████| 5000/5000 [00:01<00:00, 4808.83it/s]\n"
     ]
    },
    {
     "name": "stdout",
     "output_type": "stream",
     "text": [
      "1.50323775199\n",
      "2.77523531501\n",
      "1.29304195575\n",
      "1.07887809501\n",
      "1.9861913062\n",
      "1.14503234629\n",
      "go 43 49 279 341\n"
     ]
    },
    {
     "name": "stderr",
     "output_type": "stream",
     "text": [
      "100%|██████████| 5000/5000 [00:00<00:00, 13410.68it/s]\n",
      "100%|██████████| 5000/5000 [00:00<00:00, 13458.66it/s]\n",
      "100%|██████████| 5000/5000 [00:00<00:00, 6972.87it/s]\n",
      "100%|██████████| 5000/5000 [00:00<00:00, 6812.06it/s]\n",
      "100%|██████████| 5000/5000 [00:00<00:00, 6828.35it/s]\n",
      "100%|██████████| 5000/5000 [00:01<00:00, 4766.57it/s]\n"
     ]
    },
    {
     "name": "stdout",
     "output_type": "stream",
     "text": [
      "1.50212980358\n",
      "2.77469583149\n",
      "1.28510169082\n",
      "1.07336285867\n",
      "1.98747354826\n",
      "1.13832501125\n",
      "284\n",
      "go 44 46 284 293\n"
     ]
    },
    {
     "name": "stderr",
     "output_type": "stream",
     "text": [
      "100%|██████████| 5000/5000 [00:00<00:00, 13541.55it/s]\n",
      "100%|██████████| 5000/5000 [00:00<00:00, 13638.40it/s]\n",
      "100%|██████████| 5000/5000 [00:00<00:00, 7108.37it/s]\n",
      "100%|██████████| 5000/5000 [00:00<00:00, 7015.66it/s]\n",
      "100%|██████████| 5000/5000 [00:00<00:00, 6966.26it/s]\n",
      "100%|██████████| 5000/5000 [00:01<00:00, 4826.71it/s]\n"
     ]
    },
    {
     "name": "stdout",
     "output_type": "stream",
     "text": [
      "1.29683772808\n",
      "2.09216440093\n",
      "1.52833154442\n",
      "1.69308615582\n",
      "2.24692818301\n",
      "1.89818801185\n",
      "go 44 47 284 294\n"
     ]
    },
    {
     "name": "stderr",
     "output_type": "stream",
     "text": [
      "100%|██████████| 5000/5000 [00:00<00:00, 13422.53it/s]\n",
      "100%|██████████| 5000/5000 [00:00<00:00, 13559.65it/s]\n",
      "100%|██████████| 5000/5000 [00:00<00:00, 6930.28it/s]\n",
      "100%|██████████| 5000/5000 [00:00<00:00, 6878.54it/s]\n",
      "100%|██████████| 5000/5000 [00:00<00:00, 6951.44it/s]\n",
      "100%|██████████| 5000/5000 [00:01<00:00, 4825.07it/s]\n"
     ]
    },
    {
     "name": "stdout",
     "output_type": "stream",
     "text": [
      "1.19952993655\n",
      "2.0370993012\n",
      "1.42428572127\n",
      "1.56405329761\n",
      "2.1223285013\n",
      "1.70819054869\n",
      "go 44 48 284 340\n"
     ]
    },
    {
     "name": "stderr",
     "output_type": "stream",
     "text": [
      "100%|██████████| 5000/5000 [00:00<00:00, 13596.22it/s]\n",
      "100%|██████████| 5000/5000 [00:00<00:00, 13444.29it/s]\n",
      "100%|██████████| 5000/5000 [00:00<00:00, 7092.62it/s]\n",
      "100%|██████████| 5000/5000 [00:00<00:00, 6917.25it/s]\n",
      "100%|██████████| 5000/5000 [00:00<00:00, 6967.99it/s]\n",
      "100%|██████████| 5000/5000 [00:01<00:00, 4820.26it/s]\n"
     ]
    },
    {
     "name": "stdout",
     "output_type": "stream",
     "text": [
      "1.41095083339\n",
      "2.11225929344\n",
      "0.456420619375\n",
      "0.670241250525\n",
      "1.38684971971\n",
      "0.384997992467\n",
      "go 44 49 284 341\n"
     ]
    },
    {
     "name": "stderr",
     "output_type": "stream",
     "text": [
      "100%|██████████| 5000/5000 [00:00<00:00, 13686.82it/s]\n",
      "100%|██████████| 5000/5000 [00:00<00:00, 13479.12it/s]\n",
      "100%|██████████| 5000/5000 [00:00<00:00, 6832.60it/s]\n",
      "100%|██████████| 5000/5000 [00:00<00:00, 6825.81it/s]\n",
      "100%|██████████| 5000/5000 [00:00<00:00, 6765.93it/s]\n",
      "100%|██████████| 5000/5000 [00:01<00:00, 4705.46it/s]\n"
     ]
    },
    {
     "name": "stdout",
     "output_type": "stream",
     "text": [
      "1.41179611657\n",
      "2.11046768898\n",
      "0.446768945253\n",
      "0.671165707698\n",
      "1.38831537493\n",
      "0.37736152051\n",
      "285\n",
      "go 45 46 285 293\n"
     ]
    },
    {
     "name": "stderr",
     "output_type": "stream",
     "text": [
      "100%|██████████| 5000/5000 [00:00<00:00, 13231.26it/s]\n",
      "100%|██████████| 5000/5000 [00:00<00:00, 13178.84it/s]\n",
      "100%|██████████| 5000/5000 [00:00<00:00, 6713.95it/s]\n",
      "100%|██████████| 5000/5000 [00:00<00:00, 6811.62it/s]\n",
      "100%|██████████| 5000/5000 [00:00<00:00, 6751.62it/s]\n",
      "100%|██████████| 5000/5000 [00:01<00:00, 4668.57it/s]\n"
     ]
    },
    {
     "name": "stdout",
     "output_type": "stream",
     "text": [
      "1.38441356599\n",
      "1.4007726299\n",
      "1.6610947489\n",
      "1.86093367651\n",
      "1.87407774019\n",
      "1.71001462927\n",
      "go 45 47 285 294\n"
     ]
    },
    {
     "name": "stderr",
     "output_type": "stream",
     "text": [
      "100%|██████████| 5000/5000 [00:00<00:00, 12923.64it/s]\n",
      "100%|██████████| 5000/5000 [00:00<00:00, 13248.93it/s]\n",
      "100%|██████████| 5000/5000 [00:00<00:00, 6905.64it/s]\n",
      "100%|██████████| 5000/5000 [00:00<00:00, 6797.17it/s]\n",
      "100%|██████████| 5000/5000 [00:00<00:00, 6832.25it/s]\n",
      "100%|██████████| 5000/5000 [00:01<00:00, 4724.77it/s]\n"
     ]
    },
    {
     "name": "stdout",
     "output_type": "stream",
     "text": [
      "1.28708385179\n",
      "1.28909043058\n",
      "1.52612905201\n",
      "1.71925028164\n",
      "1.7341530067\n",
      "1.55424806628\n",
      "go 45 48 285 340\n"
     ]
    },
    {
     "name": "stderr",
     "output_type": "stream",
     "text": [
      "100%|██████████| 5000/5000 [00:00<00:00, 13441.83it/s]\n",
      "100%|██████████| 5000/5000 [00:00<00:00, 13078.39it/s]\n",
      "100%|██████████| 5000/5000 [00:00<00:00, 6942.26it/s]\n",
      "100%|██████████| 5000/5000 [00:00<00:00, 6838.90it/s]\n",
      "100%|██████████| 5000/5000 [00:00<00:00, 6862.95it/s]\n",
      "100%|██████████| 5000/5000 [00:01<00:00, 4778.96it/s]\n"
     ]
    },
    {
     "name": "stdout",
     "output_type": "stream",
     "text": [
      "1.42248910244\n",
      "1.42245780048\n",
      "0.401174768074\n",
      "0.703748069327\n",
      "0.705438438315\n",
      "0.357180734066\n",
      "go 45 49 285 341\n"
     ]
    },
    {
     "name": "stderr",
     "output_type": "stream",
     "text": [
      "100%|██████████| 5000/5000 [00:00<00:00, 13259.47it/s]\n",
      "100%|██████████| 5000/5000 [00:00<00:00, 13122.26it/s]\n",
      "100%|██████████| 5000/5000 [00:00<00:00, 6915.36it/s]\n",
      "100%|██████████| 5000/5000 [00:00<00:00, 6814.67it/s]\n",
      "100%|██████████| 5000/5000 [00:00<00:00, 6889.79it/s]\n",
      "100%|██████████| 5000/5000 [00:01<00:00, 4750.68it/s]\n"
     ]
    },
    {
     "name": "stdout",
     "output_type": "stream",
     "text": [
      "1.42094058553\n",
      "1.42253224229\n",
      "0.39420051095\n",
      "0.705839079204\n",
      "0.704399412724\n",
      "0.346092126967\n",
      "293\n",
      "go 46 48 293 340\n"
     ]
    },
    {
     "name": "stderr",
     "output_type": "stream",
     "text": [
      "100%|██████████| 5000/5000 [00:00<00:00, 13464.68it/s]\n",
      "100%|██████████| 5000/5000 [00:00<00:00, 13122.46it/s]\n",
      "100%|██████████| 5000/5000 [00:00<00:00, 6772.54it/s]\n",
      "100%|██████████| 5000/5000 [00:00<00:00, 6949.98it/s]\n",
      "100%|██████████| 5000/5000 [00:00<00:00, 6977.67it/s]\n",
      "100%|██████████| 5000/5000 [00:01<00:00, 4697.74it/s]\n"
     ]
    },
    {
     "name": "stdout",
     "output_type": "stream",
     "text": [
      "1.47738040027\n",
      "1.47795806472\n",
      "-0.326550160317\n",
      "0.865129340418\n",
      "0.861268028814\n",
      "-0.263528075298\n",
      "go 46 49 293 341\n"
     ]
    },
    {
     "name": "stderr",
     "output_type": "stream",
     "text": [
      "100%|██████████| 5000/5000 [00:00<00:00, 13117.02it/s]\n",
      "100%|██████████| 5000/5000 [00:00<00:00, 13534.54it/s]\n",
      "100%|██████████| 5000/5000 [00:00<00:00, 6963.69it/s]\n",
      "100%|██████████| 5000/5000 [00:00<00:00, 6918.35it/s]\n",
      "100%|██████████| 5000/5000 [00:00<00:00, 6945.88it/s]\n",
      "100%|██████████| 5000/5000 [00:01<00:00, 4755.57it/s]\n"
     ]
    },
    {
     "name": "stdout",
     "output_type": "stream",
     "text": [
      "1.47531163165\n",
      "1.47820796322\n",
      "-0.340297904268\n",
      "0.860926756711\n",
      "0.858863690733\n",
      "-0.281307054999\n",
      "294\n",
      "go 47 48 294 340\n"
     ]
    },
    {
     "name": "stderr",
     "output_type": "stream",
     "text": [
      "100%|██████████| 5000/5000 [00:00<00:00, 13474.04it/s]\n",
      "100%|██████████| 5000/5000 [00:00<00:00, 13616.23it/s]\n",
      "100%|██████████| 5000/5000 [00:00<00:00, 6968.92it/s]\n",
      "100%|██████████| 5000/5000 [00:00<00:00, 6910.84it/s]\n",
      "100%|██████████| 5000/5000 [00:00<00:00, 6899.52it/s]\n",
      "100%|██████████| 5000/5000 [00:01<00:00, 4710.09it/s]\n"
     ]
    },
    {
     "name": "stdout",
     "output_type": "stream",
     "text": [
      "1.48895882157\n",
      "1.49136561558\n",
      "-197.819923571\n",
      "0.911961550632\n",
      "0.909908319992\n",
      "-27.2093693777\n",
      "go 47 49 294 341\n"
     ]
    },
    {
     "name": "stderr",
     "output_type": "stream",
     "text": [
      "100%|██████████| 5000/5000 [00:00<00:00, 13893.40it/s]\n",
      "100%|██████████| 5000/5000 [00:00<00:00, 13998.66it/s]\n",
      "100%|██████████| 5000/5000 [00:00<00:00, 6978.41it/s]\n",
      "100%|██████████| 5000/5000 [00:00<00:00, 7001.43it/s]\n",
      "100%|██████████| 5000/5000 [00:00<00:00, 6962.00it/s]\n",
      "100%|██████████| 5000/5000 [00:01<00:00, 4849.42it/s]\n"
     ]
    },
    {
     "name": "stdout",
     "output_type": "stream",
     "text": [
      "1.48802475311\n",
      "1.48904672251\n",
      "-204.268585893\n",
      "0.905309484767\n",
      "0.906980549081\n",
      "-30.3228494381\n",
      "340\n",
      "341\n",
      "Done!\n",
      "CPU times: user 20min 38s, sys: 32.8 s, total: 21min 11s\n",
      "Wall time: 20min 35s\n"
     ]
    }
   ],
   "source": [
    "%%time\n",
    "iterations = 5000\n",
    "all_times = sorted(set(velocity_times + button_times))\n",
    "\n",
    "all_times = all_times[:50]#[:len(all_times)/4]\n",
    "likes = [None]*len(all_times)\n",
    "\n",
    "plt.plot(velocities[:all_times[-1]])\n",
    "plt.plot(np.array(all_times),velocities[np.array(all_times,dtype='int')],'rx')\n",
    "plt.show()\n",
    "\n",
    "# Takahashi Meijin constant, 60 frames / 16 inputs ~= 4 frames per input.\n",
    "# But note that in general transitions may happen more frequently due to collisions, etc.\n",
    "min_interval = 4 \n",
    "\n",
    "for i in range(0,len(all_times)):\n",
    "    likes[i] = [None]*len(all_times)\n",
    "    t0 = all_times[i]\n",
    "    print t0\n",
    "    min_likelihood = float('inf')\n",
    "    for j in [j for j in range(i+1, len(all_times)) if all_times[j]-all_times[i] > min_interval]:\n",
    "        js = model_set_generate((track,all_times,axis,i,j))\n",
    "        the_templates = js[-1]\n",
    "        foundOne = False\n",
    "        for tn,mod,trace in the_templates:\n",
    "            logp = -np.mean([mod.logp(pt) for pt in trace])/float(all_times[j]-all_times[i])\n",
    "            print logp\n",
    "            if logp < min_likelihood:\n",
    "                min_likelihood = logp\n",
    "                foundOne = True\n",
    "        if not foundOne:\n",
    "            break\n",
    "        likes[i][j] = js\n",
    "        \n",
    "    #js = map(model_set_generate,\n",
    "    #         map(lambda j:(track,all_times,axis,i,j), [j for j in range(i+1, len(all_times)) if all_times[j]-all_times[i] > min_interval]))\n",
    "    #likes[i][i+1:len(all_times)] = js\n",
    "\n",
    "print \"Done!\""
   ]
  },
  {
   "cell_type": "code",
   "execution_count": 21,
   "metadata": {
    "collapsed": false,
    "scrolled": true
   },
   "outputs": [
    {
     "name": "stdout",
     "output_type": "stream",
     "text": [
      "0 1 0 9\n",
      "c0                 mean             sd       mc_error        hpd_2.5  \\\n",
      "y_err  8.503393e-155  1.168727e-155  9.099216e-157  7.463410e-155   \n",
      "\n",
      "            hpd_97.5  \n",
      "y_err  1.069682e-154  \n",
      "cP        mean            sd  mc_error  hpd_2.5  hpd_97.5\n",
      "y_err  10.0  1.776357e-15       0.0     10.0      10.0\n",
      "cN                mean            sd      mc_error       hpd_2.5      hpd_97.5\n",
      "y_N   -3.718825e-16  2.101447e-15  2.134803e-16 -4.026456e-16  5.120295e-16\n",
      "y_err  5.515829e-16  2.272549e-15  2.330409e-16  5.371152e-27  4.141219e-15\n",
      "acc0                mean            sd      mc_error       hpd_2.5      hpd_97.5\n",
      "y_acc  1.599717e-15  6.111614e-15  6.748669e-16 -2.832508e-17  2.174740e-14\n",
      "y_err  1.026880e-14  3.078341e-14  3.351859e-15  3.535488e-26  9.988233e-14\n",
      "accP        mean            sd  mc_error  hpd_2.5  hpd_97.5\n",
      "y_acc   0.0  0.000000e+00       0.0      0.0       0.0\n",
      "y_err  10.0  1.776357e-15       0.0     10.0      10.0\n",
      "accN                mean            sd      mc_error       hpd_2.5      hpd_97.5\n",
      "y_N   -1.893868e-11  5.370349e-11  5.826243e-12 -1.143358e-10  1.583666e-18\n",
      "y_acc  3.865818e-12  1.209393e-11  1.280283e-12 -6.464411e-18  2.298723e-11\n",
      "y_err  1.516890e-11  4.683240e-11  5.114218e-12  9.269595e-20  9.079348e-11\n",
      "\n",
      "\n",
      "1 3 9 27\n",
      "c0            mean       sd  mc_error   hpd_2.5  hpd_97.5\n",
      "y_err  4.036529  0.66824  0.051078  3.030084  5.525591\n",
      "cP            mean        sd  mc_error   hpd_2.5  hpd_97.5\n",
      "y_err  4.142729  0.720386  0.044864  2.976406  5.846584\n",
      "cN            mean        sd  mc_error   hpd_2.5  hpd_97.5\n",
      "y_N    3.704890  0.236597  0.017392  3.259148  4.159539\n",
      "y_err  0.982414  0.179335  0.013337  0.687591  1.360654\n",
      "acc0            mean        sd  mc_error   hpd_2.5  hpd_97.5\n",
      "y_acc  0.269793  0.078484  0.005598  0.102625  0.412861\n",
      "y_err  3.017422  0.565499  0.041557  2.165861  4.185358\n",
      "accP            mean        sd  mc_error   hpd_2.5  hpd_97.5\n",
      "y_acc  0.278586  0.071156  0.005042  0.140575  0.418804\n",
      "y_err  2.859655  0.494042  0.035091  2.123409  3.841598\n",
      "accN            mean        sd  mc_error   hpd_2.5  hpd_97.5\n",
      "y_N    5.035609  0.174498  0.014917  4.685885  5.353041\n",
      "y_acc -0.154032  0.018239  0.001506 -0.189064 -0.120541\n",
      "y_err  0.389875  0.070583  0.004421  0.273514  0.525919\n",
      "\n",
      "\n",
      "2 3 11 27\n",
      "c0            mean        sd  mc_error  hpd_2.5  hpd_97.5\n",
      "y_err  3.847607  0.693141   0.04407  2.81282  5.272972\n",
      "cP            mean        sd  mc_error  hpd_2.5  hpd_97.5\n",
      "y_err  1.787629  0.368201   0.02639   1.1856  2.508578\n",
      "cN            mean        sd  mc_error   hpd_2.5  hpd_97.5\n",
      "y_N    3.537964  0.227068  0.017335  3.082457  4.016219\n",
      "y_err  0.902326  0.202025  0.015358  0.536743  1.276935\n",
      "acc0            mean        sd  mc_error   hpd_2.5  hpd_97.5\n",
      "y_acc  0.305738  0.076824  0.005878  0.179121  0.481458\n",
      "y_err  2.795852  0.525663  0.038110  1.951553  3.709375\n",
      "accP            mean        sd  mc_error   hpd_2.5  hpd_97.5\n",
      "y_acc -0.180660  0.012779  0.000902 -0.208264 -0.159057\n",
      "y_err  0.452716  0.093821  0.006545  0.299465  0.636209\n",
      "accN            mean        sd  mc_error   hpd_2.5  hpd_97.5\n",
      "y_N    4.730648  0.211757  0.018521  4.308262  5.131281\n",
      "y_acc -0.154979  0.022207  0.001940 -0.201571 -0.114096\n",
      "y_err  0.426076  0.091073  0.006946  0.286844  0.612579\n",
      "\n",
      "\n",
      "2 4 11 31\n",
      "c0            mean      sd  mc_error   hpd_2.5  hpd_97.5\n",
      "y_err  3.504393  0.6538  0.047752  2.379342  4.864623\n",
      "cP            mean        sd  mc_error  hpd_2.5  hpd_97.5\n",
      "y_err  2.400212  0.419284  0.028956  1.64881  3.138622\n",
      "cN            mean        sd  mc_error   hpd_2.5  hpd_97.5\n",
      "y_N    3.092649  0.256723  0.017058  2.639103  3.558012\n",
      "y_err  1.278452  0.206137  0.014535  0.889082  1.636126\n",
      "acc0            mean        sd  mc_error   hpd_2.5  hpd_97.5\n",
      "y_acc  0.185339  0.053548  0.003928  0.084266  0.284082\n",
      "y_err  2.823864  0.471496  0.031799  1.910574  3.718633\n",
      "accP            mean        sd  mc_error   hpd_2.5  hpd_97.5\n",
      "y_acc -0.197871  0.009691  0.000625 -0.215232 -0.179124\n",
      "y_err  0.466610  0.080981  0.005352  0.311799  0.621242\n",
      "accN            mean        sd  mc_error   hpd_2.5  hpd_97.5\n",
      "y_N    4.881705  0.219147  0.020229  4.455901  5.302521\n",
      "y_acc -0.188378  0.019407  0.001738 -0.221551 -0.147226\n",
      "y_err  0.488175  0.090665  0.007136  0.341298  0.670098\n",
      "\n",
      "\n",
      "3 5 27 32\n",
      "c0           mean        sd  mc_error   hpd_2.5  hpd_97.5\n",
      "y_err  1.62048  0.712288  0.049974  0.638696  3.199801\n",
      "cP            mean        sd  mc_error   hpd_2.5  hpd_97.5\n",
      "y_err  2.659633  0.953289  0.069418  1.402202  4.653653\n",
      "cN            mean        sd  mc_error   hpd_2.5  hpd_97.5\n",
      "y_N    1.004186  0.517517  0.036792 -0.062577  1.894542\n",
      "y_err  1.121779  0.697922  0.048465  0.422372  2.642930\n",
      "acc0            mean        sd  mc_error   hpd_2.5  hpd_97.5\n",
      "y_acc  0.174136  0.388218  0.025467 -0.561849  0.819558\n",
      "y_err  1.708542  0.767239  0.059824  0.710697  3.231998\n",
      "accP            mean        sd  mc_error   hpd_2.5  hpd_97.5\n",
      "y_acc -0.780841  0.257442  0.018595 -1.227986 -0.275852\n",
      "y_err  1.322840  0.674200  0.052851  0.441859  2.594172\n",
      "accN            mean        sd  mc_error   hpd_2.5  hpd_97.5\n",
      "y_N    1.809848  0.508935  0.045235  0.757474  2.945456\n",
      "y_acc -0.418314  0.209759  0.017844 -0.832248  0.027101\n",
      "y_err  0.641499  0.497964  0.037469  0.176051  1.532331\n",
      "\n",
      "\n",
      "3 6 27 38\n",
      "c0            mean        sd  mc_error   hpd_2.5  hpd_97.5\n",
      "y_err  2.018804  0.477196  0.030173  1.349798  3.139188\n",
      "cP            mean        sd  mc_error   hpd_2.5  hpd_97.5\n",
      "y_err  4.408752  1.061577  0.088077  2.811542  6.443131\n",
      "cN            mean        sd  mc_error   hpd_2.5  hpd_97.5\n",
      "y_N   -0.609546  0.671255  0.046544 -1.840393  0.542051\n",
      "y_err  2.033812  0.541963  0.040221  1.158365  3.004746\n",
      "acc0            mean        sd  mc_error   hpd_2.5  hpd_97.5\n",
      "y_acc -0.244354  0.066431  0.004650 -0.355770 -0.097377\n",
      "y_err  1.308028  0.356189  0.024464  0.737888  2.003730\n",
      "accP            mean        sd  mc_error   hpd_2.5  hpd_97.5\n",
      "y_acc -0.673157  0.037326  0.002781 -0.744375 -0.601323\n",
      "y_err  0.775931  0.200440  0.015906  0.445977  1.189959\n",
      "accN            mean        sd  mc_error   hpd_2.5  hpd_97.5\n",
      "y_N    1.983808  0.188787  0.016695  1.640349  2.326436\n",
      "y_acc -0.523671  0.032379  0.002869 -0.589277 -0.463372\n",
      "y_err  0.375129  0.106331  0.008060  0.199678  0.544202\n",
      "\n",
      "\n",
      "4 6 31 38\n",
      "c0            mean        sd  mc_error   hpd_2.5  hpd_97.5\n",
      "y_err  2.439192  0.843684   0.06074  1.269484  3.990591\n",
      "cP            mean        sd  mc_error   hpd_2.5  hpd_97.5\n",
      "y_err  3.594776  1.211968  0.087911  2.030112  6.130652\n",
      "cN            mean        sd  mc_error   hpd_2.5  hpd_97.5\n",
      "y_N   -1.708183  0.652674  0.044478 -3.130405 -0.693054\n",
      "y_err  1.484768  0.602267  0.038766  0.704173  2.692166\n",
      "acc0            mean        sd  mc_error   hpd_2.5  hpd_97.5\n",
      "y_acc -0.552104  0.041108  0.002978 -0.641425 -0.470752\n",
      "y_err  0.386163  0.159282  0.012229  0.185331  0.664758\n",
      "accP            mean        sd  mc_error   hpd_2.5  hpd_97.5\n",
      "y_acc -0.794197  0.104834  0.007582 -1.020072 -0.635761\n",
      "y_err  1.018050  0.454878  0.038392  0.481512  1.712239\n",
      "accN            mean        sd  mc_error   hpd_2.5  hpd_97.5\n",
      "y_N   -0.224237  0.312771  0.027255 -0.865631  0.424630\n",
      "y_acc -0.503421  0.087015  0.007384 -0.667077 -0.362356\n",
      "y_err  0.386935  0.146119  0.011312  0.182779  0.647054\n",
      "\n",
      "\n",
      "5 6 32 38\n",
      "c0            mean        sd  mc_error   hpd_2.5  hpd_97.5\n",
      "y_err  2.762407  1.022505  0.070551  1.444957  4.857014\n",
      "cP            mean        sd  mc_error   hpd_2.5  hpd_97.5\n",
      "y_err  2.754552  0.990835  0.075957  1.368599  4.857744\n",
      "cN            mean        sd  mc_error   hpd_2.5  hpd_97.5\n",
      "y_N   -2.086116  0.643139  0.052100 -3.161937 -0.808018\n",
      "y_err  1.282175  0.636020  0.049663  0.527033  2.471769\n",
      "acc0            mean        sd  mc_error   hpd_2.5  hpd_97.5\n",
      "y_acc -0.691799  0.111833  0.007737 -0.947219 -0.497927\n",
      "y_err  0.787193  0.329976  0.023829  0.363030  1.520729\n",
      "accP            mean        sd  mc_error   hpd_2.5  hpd_97.5\n",
      "y_acc -0.685065  0.117069  0.007303 -0.944530 -0.448601\n",
      "y_err  0.848381  0.426096  0.031820  0.366846  1.779763\n",
      "accN            mean        sd  mc_error   hpd_2.5  hpd_97.5\n",
      "y_N   -0.881243  0.376890  0.033248 -1.609671 -0.084299\n",
      "y_acc -0.439319  0.123945  0.010521 -0.663570 -0.157527\n",
      "y_err  0.455177  0.224975  0.020169  0.187328  0.924267\n",
      "\n",
      "\n",
      "5 7 32 51\n",
      "c0            mean        sd  mc_error   hpd_2.5  hpd_97.5\n",
      "y_err  3.792893  0.669626  0.047708  2.621197  4.918543\n",
      "cP            mean        sd  mc_error   hpd_2.5  hpd_97.5\n",
      "y_err  3.810823  0.688286  0.046828  2.612354  5.029102\n",
      "cN            mean        sd  mc_error   hpd_2.5  hpd_97.5\n",
      "y_N   -3.338058  0.263162  0.019677 -3.868708 -2.866706\n",
      "y_err  1.141513  0.216895  0.016216  0.853712  1.618130\n",
      "acc0            mean        sd  mc_error   hpd_2.5  hpd_97.5\n",
      "y_acc -0.316585  0.028947  0.001850 -0.371635 -0.254833\n",
      "y_err  1.325265  0.255079  0.019038  0.905953  1.828025\n",
      "accP            mean        sd  mc_error   hpd_2.5  hpd_97.5\n",
      "y_acc -0.316585  0.030458  0.002261 -0.371948 -0.262616\n",
      "y_err  1.348963  0.243011  0.017978  0.875623  1.803586\n",
      "accN            mean        sd  mc_error   hpd_2.5  hpd_97.5\n",
      "y_N   -2.041434  0.371777  0.033513 -2.824109 -1.393931\n",
      "y_acc -0.147033  0.035216  0.003132 -0.216766 -0.081204\n",
      "y_err  0.728733  0.137107  0.009710  0.502724  1.011954\n",
      "\n",
      "\n",
      "5 8 32 52\n",
      "c0           mean        sd  mc_error   hpd_2.5  hpd_97.5\n",
      "y_err  3.79781  0.654665   0.04434  2.432457  4.841165\n",
      "cP            mean        sd  mc_error  hpd_2.5  hpd_97.5\n",
      "y_err  3.760332  0.640171  0.041215  2.69453  5.133484\n",
      "cN            mean        sd  mc_error   hpd_2.5  hpd_97.5\n",
      "y_N   -3.407023  0.286212  0.021235 -3.907619 -2.896970\n",
      "y_err  1.160776  0.219015  0.016741  0.778599  1.513052\n",
      "acc0            mean        sd  mc_error   hpd_2.5  hpd_97.5\n",
      "y_acc -0.296282  0.025348  0.001993 -0.353750 -0.256729\n",
      "y_err  1.388049  0.251617  0.018481  1.021026  1.991341\n",
      "accP            mean        sd  mc_error   hpd_2.5  hpd_97.5\n",
      "y_acc -0.298859  0.025843  0.001852 -0.350855 -0.252234\n",
      "y_err  1.359912  0.228356  0.016330  0.976475  1.808749\n",
      "accN            mean        sd  mc_error   hpd_2.5  hpd_97.5\n",
      "y_N   -2.059435  0.315808  0.025817 -2.709740 -1.475564\n",
      "y_acc -0.140848  0.028165  0.002197 -0.192510 -0.080579\n",
      "y_err  0.718519  0.126004  0.009077  0.502598  0.937602\n",
      "\n",
      "\n",
      "6 7 38 51\n",
      "c0            mean        sd  mc_error   hpd_2.5  hpd_97.5\n",
      "y_err  4.399573  0.941927  0.066856  2.976804  6.433833\n",
      "cP            mean        sd  mc_error   hpd_2.5  hpd_97.5\n",
      "y_err  1.087459  0.241956  0.015943  0.658815  1.521355\n",
      "cN                mean            sd      mc_error        hpd_2.5      hpd_97.5\n",
      "y_N   -4.000000e+00  1.296254e-15  1.438328e-16  -4.000000e+00 -4.000000e+00\n",
      "y_err  4.133704e-16  1.666460e-15  1.825241e-16  7.467310e-155  2.500708e-15\n",
      "acc0            mean        sd  mc_error   hpd_2.5  hpd_97.5\n",
      "y_acc -0.480238  0.097908  0.007467 -0.691339 -0.305567\n",
      "y_err  2.418695  0.558732  0.038462  1.522685  3.456471\n",
      "accP            mean        sd  mc_error   hpd_2.5  hpd_97.5\n",
      "y_acc -0.119049  0.026838  0.001731 -0.179438 -0.069176\n",
      "y_err  0.622290  0.152428  0.010822  0.372932  0.939726\n",
      "accN                mean            sd      mc_error       hpd_2.5      hpd_97.5\n",
      "y_N   -4.000000e+00  1.218281e-08  1.333371e-09 -4.000000e+00 -4.000000e+00\n",
      "y_acc -5.628744e-10  1.467814e-09  1.599240e-10 -3.765940e-09  2.903189e-10\n",
      "y_err  3.249151e-09  8.301582e-09  8.901825e-10  1.154361e-14  2.059257e-08\n",
      "\n",
      "\n",
      "7 9 51 59\n",
      "c0            mean        sd  mc_error   hpd_2.5  hpd_97.5\n",
      "y_err  3.175893  0.958853  0.067364  1.821835  5.230075\n",
      "cP            mean        sd  mc_error   hpd_2.5   hpd_97.5\n",
      "y_err  6.836067  1.957859  0.128265  3.775871  11.110883\n",
      "cN            mean        sd  mc_error   hpd_2.5  hpd_97.5\n",
      "y_N    1.478611  1.196663  0.083865 -0.780711  3.989728\n",
      "y_err  3.152148  1.216949  0.081756  1.512716  5.438272\n",
      "acc0            mean        sd  mc_error   hpd_2.5  hpd_97.5\n",
      "y_acc  0.374837  0.271244  0.020680 -0.099410  0.973860\n",
      "y_err  2.985841  0.989473  0.071912  1.418999  4.623801\n",
      "accP            mean        sd  mc_error   hpd_2.5  hpd_97.5\n",
      "y_acc  1.131506  0.399706  0.027560  0.279329  1.841344\n",
      "y_err  4.476434  1.300603  0.102975  2.644943  6.835651\n",
      "accN            mean        sd  mc_error   hpd_2.5  hpd_97.5\n",
      "y_N    0.632208  2.020554  0.183993 -3.274527  4.733949\n",
      "y_acc  0.264670  0.505060  0.045286 -0.572373  1.369189\n",
      "y_err  3.300293  1.230654  0.099390  1.610530  5.555345\n",
      "\n",
      "\n",
      "8 9 52 59\n",
      "c0            mean        sd  mc_error   hpd_2.5  hpd_97.5\n",
      "y_err  3.015785  0.907833  0.059066  1.826405  4.879108\n",
      "cP            mean        sd  mc_error   hpd_2.5   hpd_97.5\n",
      "y_err  7.073401  2.072079  0.153421  4.280865  11.651979\n",
      "cN            mean        sd  mc_error   hpd_2.5  hpd_97.5\n",
      "y_N    2.276372  0.575633  0.041219  1.105619  3.424988\n",
      "y_err  1.395165  0.520065  0.040094  0.654370  2.493970\n",
      "acc0            mean        sd  mc_error   hpd_2.5  hpd_97.5\n",
      "y_acc  0.365852  0.298531  0.019581 -0.139985  1.003704\n",
      "y_err  2.843046  0.975788  0.074381  1.443403  4.894339\n",
      "accP            mean        sd  mc_error   hpd_2.5  hpd_97.5\n",
      "y_acc  1.387521  0.691979  0.055633  0.135865  2.580350\n",
      "y_err  5.608307  2.009942  0.160134  2.769901  9.484226\n",
      "accN            mean        sd  mc_error   hpd_2.5  hpd_97.5\n",
      "y_N    3.762995  0.295170  0.023862  3.200808  4.286890\n",
      "y_acc -0.498061  0.074172  0.006067 -0.640102 -0.364551\n",
      "y_err  0.404844  0.182183  0.015610  0.181605  0.811178\n",
      "\n",
      "\n"
     ]
    }
   ],
   "source": [
    "for li in likes[0:10]:\n",
    "    for lij in li[0:10]:\n",
    "        if lij is None or lij == []: \n",
    "            continue\n",
    "        (i,j,t0,t1,models) = lij\n",
    "        print i,j,t0,t1\n",
    "        for m in models:\n",
    "            print m[0],pm.df_summary(m[-1])\n",
    "        print \"\\n\""
   ]
  },
  {
   "cell_type": "code",
   "execution_count": 66,
   "metadata": {
    "collapsed": false,
    "scrolled": true
   },
   "outputs": [
    {
     "name": "stdout",
     "output_type": "stream",
     "text": [
      "j 1\n",
      "i 0\n",
      "0 1 0 9 c0 2827.12155496 8.50339305799e-155 -2827.12155496 -2826.12155496 inf\n",
      "update least -2826.12155496\n",
      "0 1 0 9 cP -inf 10.0000003198 inf inf -2826.12155496\n",
      "0 1 0 9 cN 345.674205117 5.51582851051e-16 -345.674205117 -344.674205117 -2826.12155496\n",
      "0 1 0 9 acc0 326.040194949 1.0268799632e-14 -326.040194949 -325.040194949 -2826.12155496\n",
      "0 1 0 9 accP -inf 10.0000003198 inf inf -2826.12155496\n",
      "0 1 0 9 accN 230.159888879 1.51689048564e-11 -230.159888879 -229.159888879 -2826.12155496\n",
      "j 2\n",
      "j 3\n",
      "i 1\n",
      "1 3 9 27 c0 -51.6551463089 4.03652912881 51.6551463089 -2773.46640865 inf\n",
      "update least -2773.46640865\n",
      "1 3 9 27 cP -51.6962311343 4.14272879126 51.6962311343 -2773.42532383 -2773.46640865\n",
      "1 3 9 27 cN -30.3115015909 0.982414053224 30.3115015909 -2794.81005337 -2773.46640865\n",
      "update least -2794.81005337\n",
      "1 3 9 27 acc0 -49.2679280222 3.01742232822 49.2679280222 -2775.85362694 -2794.81005337\n",
      "1 3 9 27 accP -49.0950030754 2.85965451789 49.0950030754 -2776.02655189 -2794.81005337\n",
      "1 3 9 27 accN -19.0492425071 0.389874847387 19.0492425071 -2806.07231246 -2794.81005337\n",
      "update least -2806.07231246\n",
      "i 2\n",
      "2 3 11 27 c0 -45.4201572385 3.84760661692 45.4201572385 inf -2806.07231246\n",
      "2 3 11 27 cP -33.4366252849 1.78762852135 33.4366252849 inf -2806.07231246\n",
      "2 3 11 27 cN -26.3644231637 0.902325939536 26.3644231637 inf -2806.07231246\n",
      "2 3 11 27 acc0 -43.3322316063 2.79585190468 43.3322316063 inf -2806.07231246\n",
      "2 3 11 27 accP -15.8968907313 0.452716444665 15.8968907313 inf -2806.07231246\n",
      "2 3 11 27 accN -19.2391820212 0.426076133687 19.2391820212 inf -2806.07231246\n",
      "j 4\n",
      "i 2\n",
      "2 4 11 31 c0 -54.6015200425 3.50439324031 54.6015200425 inf inf\n",
      "2 4 11 31 cP -46.9938999266 2.40021153501 46.9938999266 inf inf\n",
      "2 4 11 31 cN -38.4207500436 1.27845232541 38.4207500436 inf inf\n",
      "2 4 11 31 acc0 -53.3855660387 2.82386391394 53.3855660387 inf inf\n",
      "2 4 11 31 accP -19.0819348579 0.466610329513 19.0819348579 inf inf\n",
      "2 4 11 31 accN -23.6441873747 0.488174849638 23.6441873747 inf inf\n",
      "j 5\n",
      "i 3\n",
      "3 5 27 32 c0 -11.0091659279 1.62048001101 11.0091659279 -2794.06314653 inf\n",
      "update least -2794.06314653\n",
      "3 5 27 32 cP -13.2337189454 2.65963257553 13.2337189454 -2791.83859351 -2794.06314653\n",
      "3 5 27 32 cN -12.4979593873 1.12177910965 12.4979593873 -2792.57435307 -2794.06314653\n",
      "3 5 27 32 acc0 -14.5790370174 1.70854229954 14.5790370174 -2790.49327544 -2794.06314653\n",
      "3 5 27 32 accP -13.1590414943 1.32283987674 13.1590414943 -2791.91327096 -2794.06314653\n",
      "3 5 27 32 accN -14.2272752196 0.641498807239 14.2272752196 -2790.84503724 -2794.06314653\n",
      "j 6\n",
      "i 3\n",
      "3 6 27 38 c0 -24.6557372774 2.01880420323 24.6557372774 -2780.41657518 inf\n",
      "update least -2780.41657518\n",
      "3 6 27 38 cP -32.8931584532 4.40875176298 32.8931584532 -2772.179154 -2780.41657518\n",
      "3 6 27 38 cN -27.8445843767 2.03381200799 27.8445843767 -2777.22772808 -2780.41657518\n",
      "3 6 27 38 acc0 -23.5620867897 1.30802769154 23.5620867897 -2781.51022567 -2780.41657518\n",
      "update least -2781.51022567\n",
      "3 6 27 38 accP -18.0865307067 0.775930914292 18.0865307067 -2786.98578175 -2781.51022567\n",
      "update least -2786.98578175\n",
      "3 6 27 38 accN -15.1430865866 0.37512851112 15.1430865866 -2789.92922587 -2786.98578175\n",
      "update least -2789.92922587\n",
      "i 4\n",
      "4 6 31 38 c0 -17.3467734144 2.439191648 17.3467734144 inf -2789.92922587\n",
      "4 6 31 38 cP -19.6748932246 3.59477647806 19.6748932246 inf -2789.92922587\n",
      "4 6 31 38 cN -17.4857008687 1.48476768898 17.4857008687 inf -2789.92922587\n",
      "4 6 31 38 acc0 -9.2643410722 0.386163044564 9.2643410722 inf -2789.92922587\n",
      "4 6 31 38 accP -15.0096710369 1.01805022337 15.0096710369 inf -2789.92922587\n",
      "4 6 31 38 accN -13.4138019011 0.386934547605 13.4138019011 inf -2789.92922587\n",
      "i 5\n",
      "5 6 32 38 c0 -15.6421419504 2.76240694759 15.6421419504 -2777.42100458 -2789.92922587\n",
      "5 6 32 38 cP -15.6353523308 2.75455189564 15.6353523308 -2777.4277942 -2789.92922587\n",
      "5 6 32 38 cN -14.7749834549 1.28217510261 14.7749834549 -2778.28816307 -2789.92922587\n",
      "5 6 32 38 acc0 -12.4479457935 0.787193046389 12.4479457935 -2780.61520073 -2789.92922587\n",
      "5 6 32 38 accP -12.6353250798 0.848380652289 12.6353250798 -2780.42782145 -2789.92922587\n",
      "5 6 32 38 accN -13.3823702885 0.455176749534 13.3823702885 -2779.68077624 -2789.92922587\n",
      "j 7\n",
      "i 5\n",
      "5 7 32 51 c0 -52.9921265904 3.79289277636 52.9921265904 -2740.07101994 inf\n",
      "update least -2740.07101994\n",
      "5 7 32 51 cP -53.0448831013 3.81082286548 53.0448831013 -2740.01826343 -2740.07101994\n",
      "5 7 32 51 cN -34.627178114 1.14151304624 34.627178114 -2758.43596841 -2740.07101994\n",
      "update least -2758.43596841\n",
      "5 7 32 51 acc0 -37.5603192325 1.32526491933 37.5603192325 -2755.50282729 -2758.43596841\n",
      "5 7 32 51 accP -37.5696345672 1.34896258645 37.5696345672 -2755.49351196 -2758.43596841\n",
      "5 7 32 51 accN -30.2944273654 0.728733108892 30.2944273654 -2762.76871916 -2758.43596841\n",
      "update least -2762.76871916\n",
      "i 6\n",
      "6 7 38 51 c0 -38.473218309 4.39957282293 38.473218309 -2750.45600756 -2762.76871916\n",
      "6 7 38 51 cP -21.7052960604 1.08745917783 21.7052960604 -2767.22392981 -2762.76871916\n",
      "update least -2767.22392981\n",
      "6 7 38 51 cN 3276.29680481 4.13370394944e-16 -3276.29680481 -6065.22603068 -2767.22392981\n",
      "update least -6065.22603068\n",
      "6 7 38 51 acc0 -34.5017043125 2.4186949587 34.5017043125 -2754.42752156 -6065.22603068\n",
      "6 7 38 51 accP -17.9632935745 0.622289619314 17.9632935745 -2770.96593229 -6065.22603068\n",
      "6 7 38 51 accN 263.326440808 3.24915111107e-09 -263.326440808 -3052.25566668 -6065.22603068\n",
      "j 8\n",
      "i 5\n",
      "5 8 32 52 c0 -55.8433251221 3.7978103179 55.8433251221 -2737.21982141 inf\n",
      "update least -2737.21982141\n",
      "5 8 32 52 cP -55.8231886931 3.76033162097 55.8231886931 -2737.23995783 -2737.21982141\n",
      "update least -2737.23995783\n",
      "5 8 32 52 cN -36.0198904527 1.16077550292 36.0198904527 -2757.04325607 -2737.23995783\n",
      "update least -2757.04325607\n",
      "5 8 32 52 acc0 -39.6765065389 1.38804916872 39.6765065389 -2753.38663999 -2757.04325607\n",
      "5 8 32 52 accP -39.6375273484 1.3599116707 39.6375273484 -2753.42561918 -2757.04325607\n",
      "5 8 32 52 accN -31.2012856736 0.718518954389 31.2012856736 -2761.86186085 -2757.04325607\n",
      "update least -2761.86186085\n",
      "j 9\n",
      "i 7\n",
      "7 9 51 59 c0 -21.7230822833 3.17589325057 21.7230822833 -6042.50294839 inf\n",
      "update least -6042.50294839\n",
      "7 9 51 59 cP -27.4170553632 6.83606736613 27.4170553632 -6036.80897531 -6042.50294839\n",
      "7 9 51 59 cN -24.4664922655 3.15214807188 24.4664922655 -6039.75953841 -6042.50294839\n",
      "7 9 51 59 acc0 -24.3271442248 2.98584149689 24.3271442248 -6039.89888645 -6042.50294839\n",
      "7 9 51 59 accP -27.3061189895 4.47643357446 27.3061189895 -6036.91991169 -6042.50294839\n",
      "7 9 51 59 accN -28.8528877869 3.30029290031 28.8528877869 -6035.37314289 -6042.50294839\n",
      "i 8\n",
      "8 9 52 59 c0 -18.6942141605 3.01578512517 18.6942141605 -2742.16764669 -6042.50294839\n",
      "8 9 52 59 cP -24.6415457145 7.07340059716 24.6415457145 -2736.22031514 -6042.50294839\n",
      "8 9 52 59 cN -17.2614056221 1.39516522526 17.2614056221 -2743.60045523 -6042.50294839\n",
      "8 9 52 59 acc0 -21.4962110649 2.84304621472 21.4962110649 -2739.36564979 -6042.50294839\n",
      "8 9 52 59 accP -26.0790007367 5.60830749341 26.0790007367 -2734.78286012 -6042.50294839\n",
      "8 9 52 59 accN -13.4335264018 0.404844270234 13.4335264018 -2747.42833445 -6042.50294839\n",
      "j 10\n",
      "i 7\n",
      "7 10 51 60 c0 -23.6901533878 3.07318648197 23.6901533878 -6040.53587729 inf\n",
      "update least -6040.53587729\n",
      "7 10 51 60 cP -30.2860895937 6.39557910665 30.2860895937 -6033.93994108 -6040.53587729\n",
      "7 10 51 60 cN -26.2031632997 2.78227233098 26.2031632997 -6038.02286738 -6040.53587729\n",
      "7 10 51 60 acc0 -26.4934888087 2.86743566942 26.4934888087 -6037.73254187 -6040.53587729\n",
      "7 10 51 60 accP -30.0719974973 4.34451492236 30.0719974973 -6034.15403318 -6040.53587729\n",
      "7 10 51 60 accN -30.7534296661 3.01631782816 30.7534296661 -6033.47260101 -6040.53587729\n",
      "i 8\n",
      "8 10 52 60 c0 -20.6060941145 2.80709955317 20.6060941145 -2740.25576674 -6040.53587729\n",
      "8 10 52 60 cP -27.5875964173 6.82412156196 27.5875964173 -2733.27426444 -6040.53587729\n",
      "8 10 52 60 cN -19.9090915079 1.61519802609 19.9090915079 -2740.95276935 -6040.53587729\n",
      "8 10 52 60 acc0 -23.6769075885 2.6593549097 23.6769075885 -2737.18495327 -6040.53587729\n",
      "8 10 52 60 accP -28.8513796403 5.47695191059 28.8513796403 -2732.01048121 -6040.53587729\n",
      "8 10 52 60 accN -13.2266702063 0.367641049982 13.2266702063 -2747.63519065 -6040.53587729\n",
      "j 11\n",
      "i 7\n",
      "7 11 51 67 c0 -39.8623951039 2.72171014341 39.8623951039 -6024.36363557 inf\n",
      "update least -6024.36363557\n",
      "7 11 51 67 cP -48.9085735996 4.8996981631 48.9085735996 -6015.31745708 -6024.36363557\n",
      "7 11 51 67 cN -43.529914127 2.80102067468 43.529914127 -6020.69611655 -6024.36363557\n",
      "7 11 51 67 acc0 -42.2212598613 2.53012597817 42.2212598613 -6022.00477082 -6024.36363557\n",
      "7 11 51 67 accP -50.2194001285 4.29796206669 50.2194001285 -6014.00663055 -6024.36363557\n",
      "7 11 51 67 accN -43.9864708114 2.25836832759 43.9864708114 -6020.23955987 -6024.36363557\n",
      "i 8\n",
      "8 11 52 67 c0 -36.7702601266 2.60879899635 36.7702601266 -2724.09160073 -6024.36363557\n",
      "8 11 52 67 cP -46.457629406 5.16157204047 46.457629406 -2714.40423145 -6024.36363557\n",
      "8 11 52 67 cN -40.5534387957 2.67408711786 40.5534387957 -2720.30842206 -6024.36363557\n",
      "8 11 52 67 acc0 -38.5921222369 2.38698848976 38.5921222369 -2722.26973862 -6024.36363557\n",
      "8 11 52 67 accP -48.3759831738 4.61526038021 48.3759831738 -2712.48587768 -6024.36363557\n",
      "8 11 52 67 accN -16.0848287273 0.368177755602 16.0848287273 -2744.77703213 -6024.36363557\n",
      "i 9\n",
      "9 11 59 67 c0 -20.3051514278 2.61909719246 20.3051514278 -6021.19779697 -6024.36363557\n",
      "9 11 59 67 cP -22.7165906079 3.63364624242 22.7165906079 -6018.78635779 -6024.36363557\n",
      "9 11 59 67 cN -20.041520278 1.64014427459 20.041520278 -6021.46142812 -6024.36363557\n",
      "9 11 59 67 acc0 -10.3542947907 0.414749385407 10.3542947907 -6031.1486536 -6024.36363557\n",
      "update least -6031.1486536\n",
      "9 11 59 67 accP -15.1879812684 0.832840088429 15.1879812684 -6026.31496713 -6031.1486536\n",
      "9 11 59 67 accN -14.9683533295 0.456926680474 14.9683533295 -6026.53459506 -6031.1486536\n",
      "i 10\n",
      "10 11 60 67 c0 -18.5503549542 2.90130682075 18.5503549542 -6020.98552234 -6031.1486536\n",
      "10 11 60 67 cP -18.5805870482 2.88750713217 18.5805870482 -6020.95529024 -6031.1486536\n",
      "10 11 60 67 cN -17.7825614344 1.54255159008 17.7825614344 -6021.75331586 -6031.1486536\n",
      "10 11 60 67 acc0 -12.2498103506 0.645770692132 12.2498103506 -6027.28606694 -6031.1486536\n",
      "10 11 60 67 accP -12.4540153615 0.678888801135 12.4540153615 -6027.08186193 -6031.1486536\n",
      "10 11 60 67 accN -15.4553022041 0.561414738269 15.4553022041 -6024.08057509 -6031.1486536\n",
      "j 12\n",
      "i 10\n",
      "10 12 60 68 c0 -22.0531024649 3.41578057511 22.0531024649 -6017.48277482 inf\n",
      "update least -6017.48277482\n",
      "10 12 60 68 cP -22.0187706625 3.27705861646 22.0187706625 -6017.51710663 -6017.48277482\n",
      "update least -6017.51710663\n",
      "10 12 60 68 cN -20.8817196347 1.84142078188 20.8817196347 -6018.65415765 -6017.51710663\n",
      "update least -6018.65415765\n",
      "10 12 60 68 acc0 -12.5938198852 0.545571943197 12.5938198852 -6026.9420574 -6018.65415765\n",
      "update least -6026.9420574\n",
      "10 12 60 68 accP -12.7608058885 0.612163732847 12.7608058885 -6026.7750714 -6026.9420574\n",
      "10 12 60 68 accN -16.062819085 0.544871441754 16.062819085 -6023.4730582 -6026.9420574\n",
      "j 13\n",
      "i 11\n",
      "11 13 67 72 c0 -17.0265601285 6.42740788374 17.0265601285 -6013.12209347 inf\n",
      "update least -6013.12209347\n",
      "11 13 67 72 cP -19.2222123661 9.47573739325 19.2222123661 -6010.92644124 -6013.12209347\n",
      "11 13 67 72 cN -19.7873840496 5.5060606217 19.7873840496 -6010.36126955 -6013.12209347\n",
      "11 13 67 72 acc0 -18.7029852078 4.5879161328 18.7029852078 -6011.4456684 -6013.12209347\n",
      "11 13 67 72 accP -19.2286441967 5.24310189679 19.2286441967 -6010.92000941 -6013.12209347\n",
      "11 13 67 72 accN -23.2180468289 5.14553470044 23.2180468289 -6006.93060677 -6013.12209347\n",
      "j 14\n",
      "i 11\n",
      "11 14 67 76 c0 -28.1162389356 5.04045654231 28.1162389356 -6002.03241467 inf\n",
      "update least -6002.03241467\n",
      "11 14 67 76 cP -33.0196489255 8.70392700915 33.0196489255 -5997.12900468 -6002.03241467\n",
      "11 14 67 76 cN -28.8076469029 3.64796521938 28.8076469029 -6001.3410067 -6002.03241467\n",
      "11 14 67 76 acc0 -28.7545517767 3.69684842351 28.7545517767 -6001.39410183 -6002.03241467\n",
      "11 14 67 76 accP -31.4700899423 5.11034811173 31.4700899423 -5998.67856366 -6002.03241467\n",
      "11 14 67 76 accN -32.7956010564 3.80400930304 32.7956010564 -5997.35305255 -6002.03241467\n",
      "i 12\n",
      "12 14 68 76 c0 -25.0032089086 5.07121541143 25.0032089086 -6000.9388485 -6002.03241467\n",
      "12 14 68 76 cP -30.8859471326 10.3425210973 30.8859471326 -5995.05611027 -6002.03241467\n",
      "12 14 68 76 cN -17.2625203035 1.11551438835 17.2625203035 -6008.6795371 -6002.03241467\n",
      "update least -6008.6795371\n",
      "12 14 68 76 acc0 -26.2094327735 3.87516244546 26.2094327735 -5999.73262463 -6008.6795371\n",
      "12 14 68 76 accP -30.8721610127 7.05158743271 30.8721610127 -5995.06989639 -6008.6795371\n",
      "12 14 68 76 accN -15.2578478702 0.486995487313 15.2578478702 -6010.68420953 -6008.6795371\n",
      "update least -6010.68420953\n",
      "j 15\n",
      "i 11\n",
      "11 15 67 77 c0 -30.5910119653 4.71342732398 30.5910119653 -5999.55764164 inf\n",
      "update least -5999.55764164\n",
      "11 15 67 77 cP -36.2677712192 8.36673264769 36.2677712192 -5993.88088238 -5999.55764164\n",
      "11 15 67 77 cN -30.9723271581 3.63429656213 30.9723271581 -5999.17632645 -5999.55764164\n",
      "11 15 67 77 acc0 -31.3366619384 3.63755818687 31.3366619384 -5998.81199166 -5999.55764164\n",
      "11 15 67 77 accP -34.7244720879 5.38516605026 34.7244720879 -5995.42418152 -5999.55764164\n",
      "11 15 67 77 accN -35.3362204326 3.77411123975 35.3362204326 -5994.81243317 -5999.55764164\n",
      "i 12\n",
      "12 15 68 77 c0 -27.5856149996 4.72758994736 27.5856149996 -5998.3564424 -5999.55764164\n",
      "12 15 68 77 cP -34.2186922416 9.73370678113 34.2186922416 -5991.72336516 -5999.55764164\n",
      "12 15 68 77 cN -20.274426144 1.32867003399 20.274426144 -6005.66763126 -5999.55764164\n",
      "update least -6005.66763126\n",
      "12 15 68 77 acc0 -28.7416144163 3.71517103415 28.7416144163 -5997.20044299 -6005.66763126\n",
      "12 15 68 77 accP -34.0548647639 6.89215908457 34.0548647639 -5991.88719264 -6005.66763126\n",
      "12 15 68 77 accN -16.3735221653 0.487544950151 16.3735221653 -6009.56853524 -6005.66763126\n",
      "update least -6009.56853524\n",
      "i 13\n",
      "13 15 72 77 c0 -15.1788743884 4.05964133759 15.1788743884 -5996.94321909 -6009.56853524\n",
      "13 15 72 77 cP -13.0851155851 2.64410583132 13.0851155851 -5999.03697789 -6009.56853524\n",
      "13 15 72 77 cN -13.2289682868 1.36479565863 13.2289682868 -5998.89312519 -6009.56853524\n",
      "13 15 72 77 acc0 -18.0279082025 3.91818846165 18.0279082025 -5994.09418527 -6009.56853524\n",
      "13 15 72 77 accP -11.5862495451 0.853953071493 11.5862495451 -6000.53584393 -6009.56853524\n",
      "13 15 72 77 accN -13.9723750792 0.692857467516 13.9723750792 -5998.1497184 -6009.56853524\n",
      "j 16\n",
      "i 11\n",
      "11 16 67 89 c0 -62.0734538629 3.88146892936 62.0734538629 -5968.07519974 inf\n",
      "update least -5968.07519974\n",
      "11 16 67 89 cP -69.8341988294 5.61014794323 69.8341988294 -5960.31445477 -5968.07519974\n",
      "11 16 67 89 cN -65.7378555235 3.89066637587 65.7378555235 -5964.41079808 -5968.07519974\n",
      "11 16 67 89 acc0 -63.5408540958 3.59006629539 63.5408540958 -5966.60779951 -5968.07519974\n",
      "11 16 67 89 accP -72.074451974 5.26729025622 72.074451974 -5958.07420163 -5968.07519974\n",
      "11 16 67 89 accN -61.2820390924 2.68175333042 61.2820390924 -5968.86661451 -5968.07519974\n",
      "update least -5968.86661451\n",
      "i 13\n",
      "13 16 72 89 c0 -46.0832560434 3.41653880532 46.0832560434 -5966.03883743 -5968.86661451\n",
      "13 16 72 89 cP -58.4765152956 7.39395272879 58.4765152956 -5953.64557818 -5968.86661451\n",
      "13 16 72 89 cN -48.8201759043 3.34027398538 48.8201759043 -5963.30191757 -5968.86661451\n",
      "13 16 72 89 acc0 -43.0082721344 2.37537625629 43.0082721344 -5969.11382134 -5968.86661451\n",
      "update least -5969.11382134\n",
      "13 16 72 89 accP -34.9313469526 1.39186863863 34.9313469526 -5977.19074652 -5969.11382134\n",
      "update least -5977.19074652\n",
      "13 16 72 89 accN -35.9720053135 1.1971358439 35.9720053135 -5976.15008816 -5977.19074652\n",
      "i 14\n",
      "14 16 76 89 c0 -35.4384737413 3.44537979638 35.4384737413 -5974.24573579 -5977.19074652\n",
      "14 16 76 89 cP -43.113569008 6.29943464584 43.113569008 -5966.57064053 -5977.19074652\n",
      "14 16 76 89 cN -32.403446178 2.05220869201 32.403446178 -5977.28076336 -5977.19074652\n",
      "update least -5977.28076336\n",
      "14 16 76 89 acc0 -23.0482824661 0.950880124279 23.0482824661 -5986.63592707 -5977.28076336\n",
      "update least -5986.63592707\n",
      "14 16 76 89 accP -32.5362818701 2.07609024724 32.5362818701 -5977.14792766 -5986.63592707\n",
      "14 16 76 89 accN -27.7245127248 1.02495699207 27.7245127248 -5981.95969681 -5986.63592707\n",
      "i 15\n",
      "15 16 77 89 c0 -33.0962709572 3.60654195111 33.0962709572 -5975.47226428 -5986.63592707\n",
      "15 16 77 89 cP -38.3137503586 5.45864080714 38.3137503586 -5970.25478488 -5986.63592707\n",
      "15 16 77 89 cN -26.5285125607 1.44826214756 26.5285125607 -5982.04002268 -5986.63592707\n",
      "15 16 77 89 acc0 -21.3066990137 0.93302414504 21.3066990137 -5987.26183623 -5986.63592707\n",
      "update least -5987.26183623\n",
      "15 16 77 89 accP -29.9432164855 1.97766777169 29.9432164855 -5978.62531875 -5987.26183623\n",
      "15 16 77 89 accN -20.9617198961 0.612320054381 20.9617198961 -5987.60681534 -5987.26183623\n",
      "update least -5987.60681534\n",
      "j 17\n",
      "j 18\n",
      "j 19\n",
      "i 16\n",
      "16 19 89 102 c0 -35.2820578107 3.39984081992 35.2820578107 -5951.32475753 inf\n",
      "update least -5951.32475753\n",
      "16 19 89 102 cP -44.8302613363 7.23504483378 44.8302613363 -5941.77655401 -5951.32475753\n",
      "16 19 89 102 cN -33.18043389 2.14487973024 33.18043389 -5953.42638145 -5951.32475753\n",
      "update least -5953.42638145\n",
      "16 19 89 102 acc0 -36.8539296282 2.94153343439 36.8539296282 -5949.75288571 -5953.42638145\n",
      "16 19 89 102 accP -43.3873211202 4.98620220788 43.3873211202 -5943.21949422 -5953.42638145\n",
      "16 19 89 102 accN -37.008597869 2.18968357988 37.008597869 -5949.59821747 -5953.42638145\n",
      "i 17\n",
      "17 19 90 102 c0 -32.9528488458 3.48455137901 32.9528488458 inf -5953.42638145\n",
      "17 19 90 102 cP -35.8218687862 4.40620440941 35.8218687862 inf -5953.42638145\n",
      "17 19 90 102 cN -29.9315337369 2.010328416 29.9315337369 inf -5953.42638145\n",
      "17 19 90 102 acc0 -35.299912585 3.20084145322 35.299912585 inf -5953.42638145\n",
      "17 19 90 102 accP -37.2303508886 3.87813386308 37.2303508886 inf -5953.42638145\n",
      "17 19 90 102 accN -28.6660816856 1.2672789172 28.6660816856 inf -5953.42638145\n",
      "i 18\n",
      "18 19 91 102 c0 -29.7499675422 3.23023131822 29.7499675422 inf -5953.42638145\n",
      "18 19 91 102 cP -29.9164112318 3.29966223321 29.9164112318 inf -5953.42638145\n",
      "18 19 91 102 cN -27.5645507188 1.98264241133 27.5645507188 inf -5953.42638145\n",
      "18 19 91 102 acc0 -32.2294697727 3.18604561256 32.2294697727 inf -5953.42638145\n",
      "18 19 91 102 accP -23.5506191281 1.28291899641 23.5506191281 inf -5953.42638145\n",
      "18 19 91 102 accN -27.913707593 1.37797635372 27.913707593 inf -5953.42638145\n",
      "j 20\n",
      "i 16\n",
      "16 20 89 120 c0 -85.1232476049 3.68905538587 85.1232476049 -5901.48356774 inf\n",
      "update least -5901.48356774\n",
      "16 20 89 120 cP -107.391191022 7.53300612808 107.391191022 -5879.21562432 -5901.48356774\n",
      "16 20 89 120 cN -64.3094382668 1.66943971237 64.3094382668 -5922.29737708 -5901.48356774\n",
      "update least -5922.29737708\n",
      "16 20 89 120 acc0 -73.7537640755 2.27361380456 73.7537640755 -5912.85305127 -5922.29737708\n",
      "16 20 89 120 accP -91.5218843269 4.06096264706 91.5218843269 -5895.08493102 -5922.29737708\n",
      "16 20 89 120 accN -68.4522757571 1.65006917257 68.4522757571 -5918.15453959 -5922.29737708\n",
      "i 17\n",
      "17 20 90 120 c0 -82.8885615002 3.68162512788 82.8885615002 inf -5922.29737708\n",
      "17 20 90 120 cP -89.6898312446 4.69041897262 89.6898312446 inf -5922.29737708\n",
      "17 20 90 120 cN -58.7554705643 1.44472279209 58.7554705643 inf -5922.29737708\n",
      "17 20 90 120 acc0 -72.8191941524 2.37847758897 72.8191941524 inf -5922.29737708\n",
      "17 20 90 120 accP -77.7148220878 2.80310676104 77.7148220878 inf -5922.29737708\n",
      "17 20 90 120 accN -63.250781152 1.48603609504 63.250781152 inf -5922.29737708\n",
      "i 18\n",
      "18 20 91 120 c0 -79.7262836736 3.64356039476 79.7262836736 inf -5922.29737708\n",
      "18 20 91 120 cP -66.8225625267 2.34156960977 66.8225625267 inf -5922.29737708\n",
      "18 20 91 120 cN -56.710697885 1.45200043546 56.710697885 inf -5922.29737708\n",
      "18 20 91 120 acc0 -69.3461653382 2.25894941714 69.3461653382 inf -5922.29737708\n",
      "18 20 91 120 accP -62.0916984378 1.77427020259 62.0916984378 inf -5922.29737708\n",
      "18 20 91 120 accN -61.1819535139 1.4870854973 61.1819535139 inf -5922.29737708\n",
      "i 19\n",
      "19 20 102 120 c0 -51.6869492394 4.07026950173 51.6869492394 -5900.73943221 -5922.29737708\n",
      "19 20 102 120 cP -30.9666899005 1.24003407492 30.9666899005 -5921.45969155 -5922.29737708\n",
      "19 20 102 120 cN -30.2242664685 0.960635070994 30.2242664685 -5922.20211498 -5922.29737708\n",
      "19 20 102 120 acc0 -49.156667524 2.88212851099 49.156667524 -5903.26971393 -5922.29737708\n",
      "19 20 102 120 accP -34.2928549539 1.24050703974 34.2928549539 -5918.1335265 -5922.29737708\n",
      "19 20 102 120 accN -19.0174318276 0.400659761329 19.0174318276 -5933.40894963 -5922.29737708\n",
      "update least -5933.40894963\n",
      "j 21\n",
      "i 16\n",
      "16 21 89 124 c0 -94.0255392164 3.42572185938 94.0255392164 -5892.58127613 inf\n",
      "update least -5892.58127613\n",
      "16 21 89 124 cP -120.123922538 7.36868597586 120.123922538 -5866.48289281 -5892.58127613\n",
      "16 21 89 124 cN -72.3442113575 1.67547622093 72.3442113575 -5914.26260399 -5892.58127613\n",
      "update least -5914.26260399\n",
      "16 21 89 124 acc0 -84.97994071 2.41193830659 84.97994071 -5901.62687463 -5914.26260399\n",
      "16 21 89 124 accP -104.238012629 4.21153473231 104.238012629 -5882.36880271 -5914.26260399\n",
      "16 21 89 124 accN -76.5111467061 1.66701712783 76.5111467061 -5910.09566864 -5914.26260399\n",
      "j 22\n",
      "i 20\n",
      "20 22 120 125 c0 -11.0582016855 1.69603861781 11.0582016855 -5921.35074794 inf\n",
      "update least -5921.35074794\n",
      "20 22 120 125 cP -13.375820131 2.79829777541 13.375820131 -5919.03312949 -5921.35074794\n",
      "20 22 120 125 cN -12.3181466656 1.01649030765 12.3181466656 -5920.09080296 -5921.35074794\n",
      "20 22 120 125 acc0 -14.54758918 1.78966992783 14.54758918 -5917.86136045 -5921.35074794\n",
      "20 22 120 125 accP -13.2166719354 1.32247719199 13.2166719354 -5919.19227769 -5921.35074794\n",
      "20 22 120 125 accN -14.5228894458 0.758817380729 14.5228894458 -5917.88606018 -5921.35074794\n",
      "j 23\n",
      "i 20\n",
      "20 23 120 131 c0 -24.6417842632 2.03042291642 24.6417842632 -5907.76716536 inf\n",
      "update least -5907.76716536\n",
      "20 23 120 131 cP -32.8798778335 4.43827765039 32.8798778335 -5899.52907179 -5907.76716536\n",
      "20 23 120 131 cN -27.6688125512 1.97247785248 27.6688125512 -5904.74013707 -5907.76716536\n",
      "20 23 120 131 acc0 -23.5945649706 1.33878255329 23.5945649706 -5908.81438465 -5907.76716536\n",
      "update least -5908.81438465\n",
      "20 23 120 131 accP -18.187835413 0.775859497452 18.187835413 -5914.22111421 -5908.81438465\n",
      "update least -5914.22111421\n",
      "20 23 120 131 accN -15.1995669888 0.380069954604 15.1995669888 -5917.20938264 -5914.22111421\n",
      "update least -5917.20938264\n",
      "i 21\n",
      "21 23 124 131 c0 -17.3627114935 2.52002489509 17.3627114935 -5895.89989249 -5917.20938264\n",
      "21 23 124 131 cP -19.6835140657 3.58052303826 19.6835140657 -5893.57908992 -5917.20938264\n",
      "21 23 124 131 cN -17.3101480725 1.48097087294 17.3101480725 -5895.95245591 -5917.20938264\n",
      "21 23 124 131 acc0 -9.30931226982 0.380185598029 9.30931226982 -5903.95329172 -5917.20938264\n",
      "21 23 124 131 accP -15.2227147652 1.0641665044 15.2227147652 -5898.03988922 -5917.20938264\n",
      "21 23 124 131 accN -13.3392075481 0.390409288803 13.3392075481 -5899.92339644 -5917.20938264\n",
      "i 22\n",
      "22 23 125 131 c0 -15.5729464561 2.66870434876 15.5729464561 -5904.77780148 -5917.20938264\n",
      "22 23 125 131 cP -15.5692086215 2.63170940554 15.5692086215 -5904.78153932 -5917.20938264\n",
      "22 23 125 131 cN -14.7834015141 1.29901437834 14.7834015141 -5905.56734643 -5917.20938264\n",
      "22 23 125 131 acc0 -12.6646869045 0.827725151539 12.6646869045 -5907.68606104 -5917.20938264\n",
      "22 23 125 131 accP -12.6167800595 0.817093856096 12.6167800595 -5907.73396788 -5917.20938264\n",
      "22 23 125 131 accN -13.3105537481 0.446790009543 13.3105537481 -5907.04019419 -5917.20938264\n",
      "j 24\n",
      "i 22\n",
      "22 24 125 153 c0 -78.3484544584 3.874941167 78.3484544584 -5842.00229348 inf\n",
      "update least -5842.00229348\n",
      "22 24 125 153 cP -78.3100585276 3.84728658848 78.3100585276 -5842.04068941 -5842.00229348\n",
      "update least -5842.04068941\n",
      "22 24 125 153 cN -44.1191185417 0.955899164773 44.1191185417 -5876.2316294 -5842.04068941\n",
      "update least -5876.2316294\n",
      "22 24 125 153 acc0 -56.9691616227 1.54580992556 56.9691616227 -5863.38158632 -5876.2316294\n",
      "22 24 125 153 accP -56.924160057 1.56084670084 56.924160057 -5863.42658788 -5876.2316294\n",
      "22 24 125 153 accN -39.7350650312 0.709088791572 39.7350650312 -5880.61568291 -5876.2316294\n",
      "update least -5880.61568291\n",
      "i 23\n",
      "23 24 131 153 c0 -63.7041640579 4.23987926599 63.7041640579 -5852.50521858 -5880.61568291\n",
      "23 24 131 153 cP -34.4759037646 1.05501305206 34.4759037646 -5881.73347887 -5880.61568291\n",
      "update least -5881.73347887\n",
      "23 24 131 153 cN 6025.87501813 5.96968043089e-27 -6025.87501813 -11942.0844008 -5881.73347887\n",
      "update least -11942.0844008\n",
      "23 24 131 153 acc0 -53.5829397153 2.25803040925 53.5829397153 -5862.62644292 -11942.0844008\n",
      "23 24 131 153 accP -24.3718657256 0.558908744722 24.3718657256 -5891.83751691 -11942.0844008\n",
      "23 24 131 153 accN 577.165938995 8.80524387334e-09 -577.165938995 -6493.37532163 -11942.0844008\n",
      "j 25\n",
      "i 22\n",
      "22 25 125 154 c0 -81.1499488581 3.85451272696 81.1499488581 -5839.20079908 inf\n",
      "update least -5839.20079908\n",
      "22 25 125 154 cP -81.1223502684 3.80052114014 81.1223502684 -5839.22839767 -5839.20079908\n",
      "update least -5839.22839767\n",
      "22 25 125 154 cN -44.947087548 0.941975598053 44.947087548 -5875.40366039 -5839.22839767\n",
      "update least -5875.40366039\n",
      "22 25 125 154 acc0 -59.2698967995 1.59604369356 59.2698967995 -5861.08085114 -5875.40366039\n",
      "22 25 125 154 accP -59.203868126 1.58277875917 59.203868126 -5861.14687981 -5875.40366039\n",
      "22 25 125 154 accN -40.8161807222 0.71180491095 40.8161807222 -5879.53456722 -5875.40366039\n",
      "update least -5879.53456722\n",
      "j 26\n",
      "j 27\n",
      "i 24\n",
      "24 27 153 168 c0 -44.0583000506 4.37669967441 44.0583000506 -11897.0261007 inf\n",
      "update least -11897.0261007\n",
      "24 27 153 168 cP -53.4285315337 7.88682355013 53.4285315337 -11887.6558692 -11897.0261007\n",
      "24 27 153 168 cN -40.0925659295 2.58402784507 40.0925659295 -11900.9918348 -11897.0261007\n",
      "update least -11900.9918348\n",
      "24 27 153 168 acc0 -40.643130883 2.71537566117 40.643130883 -11900.4412699 -11900.9918348\n",
      "24 27 153 168 accP -47.2693305795 4.33266005301 47.2693305795 -11893.8150702 -11900.9918348\n",
      "24 27 153 168 accN -43.7068902661 2.56567591281 43.7068902661 -11897.3775105 -11900.9918348\n",
      "i 25\n",
      "25 27 154 168 c0 -41.3352752243 4.41224120103 41.3352752243 -5837.19929199 -11900.9918348\n",
      "25 27 154 168 cP -50.5329294674 8.43628132119 50.5329294674 -5828.00163775 -11900.9918348\n",
      "25 27 154 168 cN -30.1807678605 1.47398647246 30.1807678605 -5848.35379936 -11900.9918348\n",
      "25 27 154 168 acc0 -38.6143990148 2.84367736406 38.6143990148 -5839.9201682 -11900.9918348\n",
      "25 27 154 168 accP -46.2474142888 4.97621157867 46.2474142888 -5832.28715293 -11900.9918348\n",
      "25 27 154 168 accN -34.6584104879 1.57209416383 34.6584104879 -5843.87615673 -11900.9918348\n",
      "i 26\n",
      "26 27 155 168 c0 -38.8763644552 4.55139618206 38.8763644552 inf -11900.9918348\n",
      "26 27 155 168 cP -38.8634996679 4.46592737246 38.8634996679 inf -11900.9918348\n",
      "26 27 155 168 cN -21.7329772013 0.840471757454 21.7329772013 inf -11900.9918348\n",
      "26 27 155 168 acc0 -37.5423370546 3.14179572466 37.5423370546 inf -11900.9918348\n",
      "26 27 155 168 accP -37.7043318541 3.21140086526 37.7043318541 inf -11900.9918348\n",
      "26 27 155 168 accN -16.2175079447 0.38807364671 16.2175079447 inf -11900.9918348\n",
      "j 28\n",
      "i 24\n",
      "24 28 153 173 c0 -56.2492256079 3.89062801565 56.2492256079 -11884.8351752 inf\n",
      "update least -11884.8351752\n",
      "24 28 153 173 cP -69.7865800628 7.66734553415 69.7865800628 -11871.2978207 -11884.8351752\n",
      "24 28 153 173 cN -49.61715277 2.28531268328 49.61715277 -11891.467248 -11884.8351752\n",
      "update least -11891.467248\n",
      "24 28 153 173 acc0 -53.6857015048 2.83241442091 53.6857015048 -11887.3986993 -11891.467248\n",
      "24 28 153 173 accP -62.837747966 4.49930034391 62.837747966 -11878.2466528 -11891.467248\n",
      "24 28 153 173 accN -54.1432166696 2.37258650705 54.1432166696 -11886.9411841 -11891.467248\n",
      "i 25\n",
      "25 28 154 173 c0 -53.3796893827 3.71450000788 53.3796893827 -5825.15487784 -11891.467248\n",
      "25 28 154 173 cP -66.8447415578 7.87036338221 66.8447415578 -5811.68982566 -11891.467248\n",
      "25 28 154 173 cN -40.273944624 1.55531044601 40.273944624 -5838.26062259 -11891.467248\n",
      "25 28 154 173 acc0 -51.4304990474 2.92088577858 51.4304990474 -5827.10406817 -11891.467248\n",
      "25 28 154 173 accP -61.5594814526 5.09711464869 61.5594814526 -5816.97508577 -11891.467248\n",
      "25 28 154 173 accN -42.186227559 1.3519294435 42.186227559 -5836.34833966 -11891.467248\n",
      "i 27\n",
      "27 28 168 173 c0 -13.5120261282 2.98912917322 13.5120261282 -11886.4798087 -11891.467248\n",
      "27 28 168 173 cP -11.5137123544 1.78796801556 11.5137123544 -11888.4781225 -11891.467248\n",
      "27 28 168 173 cN -13.7244174625 1.40328469769 13.7244174625 -11886.2674174 -11891.467248\n",
      "27 28 168 173 acc0 -16.7425361694 3.01008776016 16.7425361694 -11883.2492987 -11891.467248\n",
      "27 28 168 173 accP -9.60698341486 0.54271960773 9.60698341486 -11890.3848514 -11891.467248\n",
      "27 28 168 173 accN -14.3711267692 0.74153627646 14.3711267692 -11885.6207081 -11891.467248\n",
      "j 29\n",
      "i 27\n",
      "27 29 168 174 c0 -15.2688220013 2.51055667487 15.2688220013 -11884.7230128 inf\n",
      "update least -11884.7230128\n",
      "27 29 168 174 cP -14.5293458955 2.1161169295 14.5293458955 -11885.4624889 -11884.7230128\n",
      "update least -11885.4624889\n",
      "27 29 168 174 cN -16.2087543723 1.69749600723 16.2087543723 -11883.7830805 -11885.4624889\n",
      "27 29 168 174 acc0 -18.6594779519 2.66608971597 18.6594779519 -11881.3323569 -11885.4624889\n",
      "27 29 168 174 accP -9.64459196752 0.454204158444 9.64459196752 -11890.3472429 -11885.4624889\n",
      "update least -11890.3472429\n",
      "27 29 168 174 accN -14.1045494695 0.518651841622 14.1045494695 -11885.8872854 -11890.3472429\n",
      "j 30\n",
      "i 27\n",
      "27 30 168 180 c0 -28.0136609428 2.27937083494 28.0136609428 -11871.9781739 inf\n",
      "update least -11871.9781739\n",
      "27 30 168 180 cP -34.7230781851 4.0116028981 34.7230781851 -11865.2687566 -11871.9781739\n",
      "27 30 168 180 cN -31.7708589297 2.37854929011 31.7708589297 -11868.2209759 -11871.9781739\n",
      "27 30 168 180 acc0 -29.6961922852 1.94263824795 29.6961922852 -11870.2956425 -11871.9781739\n",
      "27 30 168 180 accP -12.038211116 0.396009881341 12.038211116 -11887.9536237 -11871.9781739\n",
      "update least -11887.9536237\n",
      "27 30 168 180 accN -16.4633535992 0.409875707967 16.4633535992 -11883.5284812 -11887.9536237\n",
      "i 28\n",
      "28 30 173 180 c0 -17.0075751949 2.37687704232 17.0075751949 -11873.4596728 -11887.9536237\n",
      "28 30 173 180 cP -19.3220035996 3.34096202042 19.3220035996 -11871.1452444 -11887.9536237\n",
      "28 30 173 180 cN -17.3927988703 1.4270700057 17.3927988703 -11873.0744491 -11887.9536237\n",
      "28 30 173 180 acc0 -10.2004329153 0.453378501292 10.2004329153 -11880.2668151 -11887.9536237\n",
      "28 30 173 180 accP -14.6699478757 0.922836333912 14.6699478757 -11875.7973001 -11887.9536237\n",
      "28 30 173 180 accN -14.9792316173 0.518326423931 14.9792316173 -11875.4880164 -11887.9536237\n",
      "i 29\n",
      "29 30 174 180 c0 -15.3914820434 2.62480095184 15.3914820434 -11873.9557608 -11887.9536237\n",
      "29 30 174 180 cP -15.3802455054 2.55470980462 15.3802455054 -11873.9669974 -11887.9536237\n",
      "29 30 174 180 cN -15.3379987458 1.46886703629 15.3379987458 -11874.0092441 -11887.9536237\n",
      "29 30 174 180 acc0 -12.0841450814 0.742153728838 12.0841450814 -11877.2630978 -11887.9536237\n",
      "29 30 174 180 accP -12.2827439729 0.80421898153 12.2827439729 -11877.0644989 -11887.9536237\n",
      "29 30 174 180 accN -15.2411055976 0.679361259513 15.2411055976 -11874.1061373 -11887.9536237\n",
      "j 31\n",
      "i 27\n",
      "27 31 168 181 c0 -31.4651166674 2.43852559926 31.4651166674 -11868.5267182 inf\n",
      "update least -11868.5267182\n",
      "27 31 168 181 cP -38.6320613484 4.36071321036 38.6320613484 -11861.3597735 -11868.5267182\n",
      "27 31 168 181 cN -35.0415593078 2.56305349472 35.0415593078 -11864.9502755 -11868.5267182\n",
      "27 31 168 181 acc0 -31.5980227775 1.93468925266 31.5980227775 -11868.3938121 -11868.5267182\n",
      "27 31 168 181 accP -12.0407265361 0.38449690699 12.0407265361 -11887.9511083 -11868.5267182\n",
      "update least -11887.9511083\n",
      "27 31 168 181 accN -16.3781977569 0.396756343804 16.3781977569 -11883.6136371 -11887.9511083\n",
      "i 28\n",
      "28 31 173 181 c0 -20.3329054918 2.76946998104 20.3329054918 -11870.1343425 -11887.9511083\n",
      "28 31 173 181 cP -22.6797140094 3.74473174543 22.6797140094 -11867.787534 -11887.9511083\n",
      "28 31 173 181 cN -20.156923045 1.6633360546 20.156923045 -11870.3103249 -11887.9511083\n",
      "28 31 173 181 acc0 -10.5724074106 0.431005940485 10.5724074106 -11879.8948406 -11887.9511083\n",
      "28 31 173 181 accP -15.3479599588 0.863542405369 15.3479599588 -11875.119288 -11887.9511083\n",
      "28 31 173 181 accN -15.0670041182 0.481594709238 15.0670041182 -11875.4002439 -11887.9511083\n",
      "i 29\n",
      "29 31 174 181 c0 -18.5950291283 3.01759768635 18.5950291283 -11870.7522137 -11887.9511083\n",
      "29 31 174 181 cP -18.4993073211 2.91468612866 18.4993073211 -11870.8479355 -11887.9511083\n",
      "29 31 174 181 cN -17.8168385878 1.52787210798 17.8168385878 -11871.5304043 -11887.9511083\n",
      "29 31 174 181 acc0 -12.3300315292 0.622639769782 12.3300315292 -11877.0172113 -11887.9511083\n",
      "29 31 174 181 accP -12.4228605541 0.668575508026 12.4228605541 -11876.9243823 -11887.9511083\n",
      "29 31 174 181 accN -15.5231150007 0.598559401034 15.5231150007 -11873.8241279 -11887.9511083\n",
      "j 32\n",
      "i 30\n",
      "30 32 180 211 c0 -81.6036499742 3.26672460074 81.6036499742 -11805.3499737 inf\n",
      "update least -11805.3499737\n",
      "30 32 180 211 cP -100.615315227 6.11620614095 100.615315227 -11786.3383085 -11805.3499737\n",
      "30 32 180 211 cN -69.2496757902 1.93131406835 69.2496757902 -11817.7039479 -11805.3499737\n",
      "update least -11817.7039479\n",
      "30 32 180 211 acc0 -79.9374403106 2.79903247549 79.9374403106 -11807.0161834 -11817.7039479\n",
      "30 32 180 211 accP -92.3250043412 4.17256942991 92.3250043412 -11794.6286194 -11817.7039479\n",
      "30 32 180 211 accN -69.5869664065 1.74006767485 69.5869664065 -11817.3666573 -11817.7039479\n",
      "i 31\n",
      "31 32 181 211 c0 -78.7620563115 3.21453338695 78.7620563115 -11808.189052 -11817.7039479\n",
      "31 32 181 211 cP -102.168435792 7.07763170288 102.168435792 -11784.7826725 -11817.7039479\n",
      "31 32 181 211 cN -59.4924495247 1.48020736957 59.4924495247 -11827.4586588 -11817.7039479\n",
      "update least -11827.4586588\n",
      "31 32 181 211 acc0 -77.5025528113 2.78777703082 77.5025528113 -11809.4485555 -11827.4586588\n",
      "31 32 181 211 accP -94.2886423644 4.92921914608 94.2886423644 -11792.6624659 -11827.4586588\n",
      "31 32 181 211 accN -27.3669013172 0.428382325265 27.3669013172 -11859.584207 -11827.4586588\n",
      "update least -11859.584207\n",
      "j 33\n",
      "i 30\n",
      "30 33 180 212 c0 -83.6227564703 3.20078346938 83.6227564703 -11803.3308672 inf\n",
      "update least -11803.3308672\n",
      "30 33 180 212 cP -103.286992079 5.90315642725 103.286992079 -11783.6666316 -11803.3308672\n",
      "30 33 180 212 cN -71.6974959807 1.95555210413 71.6974959807 -11815.2561277 -11803.3308672\n",
      "update least -11815.2561277\n",
      "30 33 180 212 acc0 -82.3826031635 2.796863971 82.3826031635 -11804.5710206 -11815.2561277\n",
      "30 33 180 212 accP -95.3044256705 4.17731690411 95.3044256705 -11791.649198 -11815.2561277\n",
      "30 33 180 212 accN -70.9418214979 1.69326530632 70.9418214979 -11816.0118022 -11815.2561277\n",
      "update least -11816.0118022\n",
      "i 31\n",
      "31 33 181 212 c0 -80.7922056127 3.18602618432 80.7922056127 -11806.1589027 -11816.0118022\n",
      "31 33 181 212 cP -105.342200493 7.09585477291 105.342200493 -11781.6089078 -11816.0118022\n",
      "31 33 181 212 cN -62.7514132709 1.55798949964 62.7514132709 -11824.199695 -11816.0118022\n",
      "update least -11824.199695\n",
      "31 33 181 212 acc0 -79.7997727238 2.76056395595 79.7997727238 -11807.1513356 -11824.199695\n",
      "31 33 181 212 accP -97.4414691903 4.95384599133 97.4414691903 -11789.5096391 -11824.199695\n",
      "31 33 181 212 accN -27.640169313 0.428742765096 27.640169313 -11859.310939 -11824.199695\n",
      "update least -11859.310939\n",
      "j 34\n",
      "i 30\n",
      "30 34 180 213 c0 -85.7806201546 3.11136079865 85.7806201546 -11801.1730036 inf\n",
      "update least -11801.1730036\n",
      "30 34 180 213 cP -106.208771539 5.91146522161 106.208771539 -11780.7448522 -11801.1730036\n",
      "30 34 180 213 cN -74.0191376538 1.96966842447 74.0191376538 -11812.9344861 -11801.1730036\n",
      "update least -11812.9344861\n",
      "30 34 180 213 acc0 -84.7254747548 2.78503260014 84.7254747548 -11802.228149 -11812.9344861\n",
      "30 34 180 213 accP -98.1316015189 4.17663607325 98.1316015189 -11788.8220222 -11812.9344861\n",
      "30 34 180 213 accN -72.5583679943 1.69938898944 72.5583679943 -11814.3952557 -11812.9344861\n",
      "update least -11814.3952557\n",
      "i 31\n",
      "31 34 181 213 c0 -82.8424919555 3.09845306245 82.8424919555 -11804.1086163 -11814.3952557\n",
      "31 34 181 213 cP -108.309520469 6.96050081907 108.309520469 -11778.6415878 -11814.3952557\n",
      "31 34 181 213 cN -65.4489295472 1.64288452678 65.4489295472 -11821.5021788 -11814.3952557\n",
      "update least -11821.5021788\n",
      "31 34 181 213 acc0 -82.1687687518 2.75890206371 82.1687687518 -11804.7823395 -11821.5021788\n",
      "31 34 181 213 accP -100.410347005 4.88042758889 100.410347005 -11786.5407613 -11821.5021788\n",
      "31 34 181 213 accN -27.7079872564 0.424737692662 27.7079872564 -11859.243121 -11821.5021788\n",
      "update least -11859.243121\n",
      "j 35\n",
      "i 30\n",
      "30 35 180 218 c0 -97.0177628282 3.00197284982 97.0177628282 -11789.9358609 inf\n",
      "update least -11789.9358609\n",
      "30 35 180 218 cP -119.346451201 5.43702991688 119.346451201 -11767.6071725 -11789.9358609\n",
      "30 35 180 218 cN -91.8059017495 2.39037096261 91.8059017495 -11795.147722 -11789.9358609\n",
      "update least -11795.147722\n",
      "30 35 180 218 acc0 -99.6912616936 2.95853104656 99.6912616936 -11787.262362 -11795.147722\n",
      "30 35 180 218 accP -114.150815046 4.38568508865 114.150815046 -11772.8028087 -11795.147722\n",
      "30 35 180 218 accN -82.7464228204 1.68343150522 82.7464228204 -11804.2072009 -11795.147722\n",
      "update least -11804.2072009\n",
      "i 32\n",
      "32 35 211 218 c0 -16.6593737941 2.18044390874 16.6593737941 -11841.9248332 -11804.2072009\n",
      "update least -11841.9248332\n",
      "32 35 211 218 cP -19.0174296601 3.13785028137 19.0174296601 -11839.5667773 -11841.9248332\n",
      "32 35 211 218 cN -17.3286630102 1.40811176329 17.3286630102 -11841.255544 -11841.9248332\n",
      "32 35 211 218 acc0 -10.3231569702 0.456227043075 10.3231569702 -11848.26105 -11841.9248332\n",
      "update least -11848.26105\n",
      "32 35 211 218 accP -14.0063458394 0.819739371009 14.0063458394 -11844.5778611 -11848.26105\n",
      "32 35 211 218 accN -14.6907409274 0.496099090867 14.6907409274 -11843.8934661 -11848.26105\n",
      "i 33\n",
      "33 35 212 218 c0 -15.0429676144 2.38269628602 15.0429676144 -11843.2679714 -11848.26105\n",
      "33 35 212 218 cP -15.0200084518 2.43808019632 15.0200084518 -11843.2909305 -11848.26105\n",
      "33 35 212 218 cN -15.5404463681 1.49285344035 15.5404463681 -11842.7704926 -11848.26105\n",
      "33 35 212 218 acc0 -11.019964587 0.618324738623 11.019964587 -11847.2909744 -11848.26105\n",
      "33 35 212 218 accP -11.1026898881 0.616424084311 11.1026898881 -11847.2082491 -11848.26105\n",
      "33 35 212 218 accN -15.1191820442 0.656523519873 15.1191820442 -11843.1917569 -11848.26105\n",
      "i 34\n",
      "34 35 213 218 c0 -13.383921111 2.81432182077 13.383921111 -11844.8591999 -11848.26105\n",
      "34 35 213 218 cP -13.3418866328 2.76319931906 13.3418866328 -11844.9012344 -11848.26105\n",
      "34 35 213 218 cN -12.5019764189 1.08340049602 12.5019764189 -11845.7411446 -11848.26105\n",
      "34 35 213 218 acc0 -13.1464475271 1.26827112458 13.1464475271 -11845.0966735 -11848.26105\n",
      "34 35 213 218 accP -13.2335338812 1.36307128778 13.2335338812 -11845.0095872 -11848.26105\n",
      "34 35 213 218 accN -14.5173971151 0.750002623543 14.5173971151 -11843.7257239 -11848.26105\n",
      "j 36\n",
      "i 30\n",
      "30 36 180 245 c0 -174.267860443 3.48146095252 174.267860443 -11712.6857633 inf\n",
      "update least -11712.6857633\n",
      "30 36 180 245 cP -186.420302097 4.17552014441 186.420302097 -11700.5333216 -11712.6857633\n",
      "30 36 180 245 cN -177.081771287 3.44537861045 177.081771287 -11709.8718524 -11712.6857633\n",
      "30 36 180 245 acc0 -163.831488539 2.81588486375 163.831488539 -11723.1221352 -11712.6857633\n",
      "update least -11723.1221352\n",
      "30 36 180 245 accP -189.555633426 4.23642514353 189.555633426 -11697.3979903 -11723.1221352\n",
      "30 36 180 245 accN -129.433496519 1.55851692789 129.433496519 -11757.5201272 -11723.1221352\n",
      "update least -11757.5201272\n",
      "i 33\n",
      "33 36 212 245 c0 -92.1531907391 3.85692167032 92.1531907391 -11766.1577482 -11757.5201272\n",
      "update least -11766.1577482\n",
      "33 36 212 245 cP -92.043158403 3.85396489767 92.043158403 -11766.2677806 -11766.1577482\n",
      "update least -11766.2677806\n",
      "33 36 212 245 cN -53.4506208777 1.04317401946 53.4506208777 -11804.8603181 -11766.2677806\n",
      "update least -11804.8603181\n",
      "33 36 212 245 acc0 -66.6756640567 1.55926138194 66.6756640567 -11791.6352749 -11804.8603181\n",
      "33 36 212 245 accP -66.6576122131 1.5735991512 66.6576122131 -11791.6533268 -11804.8603181\n",
      "33 36 212 245 accN -49.6744178299 0.82422096828 49.6744178299 -11808.6365212 -11804.8603181\n",
      "update least -11808.6365212\n",
      "i 34\n",
      "34 36 213 245 c0 -89.9087392474 3.92340893209 89.9087392474 -11768.3343818 -11808.6365212\n",
      "34 36 213 245 cP -89.9678922554 3.9414178462 89.9678922554 -11768.2752288 -11808.6365212\n",
      "34 36 213 245 cN -44.3642857172 0.808623687637 44.3642857172 -11813.8788353 -11808.6365212\n",
      "update least -11813.8788353\n",
      "34 36 213 245 acc0 -67.049883559 1.68993155137 67.049883559 -11791.1932375 -11813.8788353\n",
      "34 36 213 245 accP -67.1037256653 1.66867658758 67.1037256653 -11791.1393954 -11813.8788353\n",
      "34 36 213 245 accN -41.4859109519 0.663146736644 41.4859109519 -11816.7572101 -11813.8788353\n",
      "update least -11816.7572101\n",
      "i 35\n",
      "35 36 218 245 c0 -77.8676156473 4.15904768035 77.8676156473 -11769.3934344 -11816.7572101\n",
      "35 36 218 245 cP -41.528701015 1.03856063424 41.528701015 -11805.732349 -11816.7572101\n",
      "35 36 218 245 cN 7364.91631185 1.43524396352e-21 -7364.91631185 -19212.1773619 -11816.7572101\n",
      "update least -19212.1773619\n",
      "35 36 218 245 acc0 -64.0825552672 2.17697243015 64.0825552672 -11783.1784947 -19212.1773619\n",
      "35 36 218 245 accP -27.9817878738 0.545494706379 27.9817878738 -11819.2792621 -19212.1773619\n",
      "35 36 218 245 accN 654.087327849 1.43163683579e-09 -654.087327849 -12501.3483779 -19212.1773619\n",
      "j 37\n",
      "i 30\n",
      "30 37 180 246 c0 -177.040308812 3.48401991688 177.040308812 -11709.9133149 inf\n",
      "update least -11709.9133149\n",
      "30 37 180 246 cP -188.798718474 4.17018447465 188.798718474 -11698.1549052 -11709.9133149\n",
      "30 37 180 246 cN -179.615736629 3.45264048609 179.615736629 -11707.3378871 -11709.9133149\n",
      "30 37 180 246 acc0 -165.657495153 2.79171688215 165.657495153 -11721.2961286 -11709.9133149\n",
      "update least -11721.2961286\n",
      "30 37 180 246 accP -192.076100239 4.16815409711 192.076100239 -11694.8775235 -11721.2961286\n",
      "30 37 180 246 accN -131.408742302 1.5442010091 131.408742302 -11755.5448814 -11721.2961286\n",
      "update least -11755.5448814\n",
      "i 33\n",
      "33 37 212 246 c0 -94.9545933085 3.80911917795 94.9545933085 -11763.3563457 -11755.5448814\n",
      "update least -11763.3563457\n",
      "33 37 212 246 cP -94.9934946464 3.88276263677 94.9934946464 -11763.3174443 -11763.3563457\n",
      "33 37 212 246 cN -54.4730323664 1.03468883396 54.4730323664 -11803.8379066 -11763.3563457\n",
      "update least -11803.8379066\n",
      "33 37 212 246 acc0 -68.8821671491 1.58642356752 68.8821671491 -11789.4287718 -11803.8379066\n",
      "33 37 212 246 accP -68.7723542068 1.58134893603 68.7723542068 -11789.5385848 -11803.8379066\n",
      "33 37 212 246 accN -50.5019970461 0.811464185844 50.5019970461 -11807.8089419 -11803.8379066\n",
      "update least -11807.8089419\n",
      "i 34\n",
      "34 37 213 246 c0 -92.7786203086 3.9293943565 92.7786203086 -11765.4645007 -11807.8089419\n",
      "34 37 213 246 cP -92.7031732337 3.89910437487 92.7031732337 -11765.5399478 -11807.8089419\n",
      "34 37 213 246 cN -44.93870482 0.802267137828 44.93870482 -11813.3044162 -11807.8089419\n",
      "update least -11813.3044162\n",
      "34 37 213 246 acc0 -69.0194257737 1.68459467753 69.0194257737 -11789.2236953 -11813.3044162\n",
      "34 37 213 246 accP -69.2109570793 1.69989413379 69.2109570793 -11789.032164 -11813.3044162\n",
      "34 37 213 246 accN -42.2376210498 0.655075415094 42.2376210498 -11816.0055 -11813.3044162\n",
      "update least -11816.0055\n",
      "j 38\n",
      "i 36\n",
      "36 38 245 254 c0 -24.0086053537 3.13630850086 24.0086053537 -19187.1687565 inf\n",
      "update least -19187.1687565\n",
      "36 38 245 254 cP -30.4987100072 6.50748999038 30.4987100072 -19180.6786519 -19187.1687565\n",
      "36 38 245 254 cN -26.597353391 2.83857483718 26.597353391 -19184.5800085 -19187.1687565\n",
      "36 38 245 254 acc0 -27.2118764312 3.10199058159 27.2118764312 -19183.9654854 -19187.1687565\n",
      "36 38 245 254 accP -30.6570020083 4.77103874292 30.6570020083 -19180.5203599 -19187.1687565\n",
      "36 38 245 254 accN -31.5888177377 3.37850165169 31.5888177377 -19179.5885441 -19187.1687565\n",
      "i 37\n",
      "37 38 246 254 c0 -20.9924792995 2.93848241686 20.9924792995 -11794.0130207 -19187.1687565\n",
      "37 38 246 254 cP -27.7213424913 6.99546270446 27.7213424913 -11787.2841575 -19187.1687565\n",
      "37 38 246 254 cN -21.4260164881 2.03370747018 21.4260164881 -11793.5794835 -19187.1687565\n",
      "37 38 246 254 acc0 -24.3595719034 3.03380439963 24.3595719034 -11790.6459281 -19187.1687565\n",
      "37 38 246 254 accP -29.0607919919 5.47847670603 29.0607919919 -11785.944708 -19187.1687565\n",
      "37 38 246 254 accN -19.8869920102 0.902718217997 19.8869920102 -11795.118508 -19187.1687565\n",
      "j 39\n",
      "i 36\n",
      "36 39 245 255 c0 -25.9929776935 2.85863165883 25.9929776935 -19185.1843842 inf\n",
      "update least -19185.1843842\n",
      "36 39 245 255 cP -33.3762054926 6.40213751041 33.3762054926 -19177.8011564 -19185.1843842\n",
      "36 39 245 255 cN -28.5381234074 2.71727611173 28.5381234074 -19182.6392385 -19185.1843842\n",
      "36 39 245 255 acc0 -29.2691858355 3.00496470909 29.2691858355 -19181.908176 -19185.1843842\n",
      "36 39 245 255 accP -33.125421591 4.41535079888 33.125421591 -19178.0519403 -19185.1843842\n",
      "36 39 245 255 accN -33.4614948083 3.0248419141 33.4614948083 -19177.7158671 -19185.1843842\n",
      "i 37\n",
      "37 39 246 255 c0 -23.0416121693 2.84579943175 23.0416121693 -11791.9638878 -19185.1843842\n",
      "37 39 246 255 cP -30.7047049571 6.58838335474 30.7047049571 -11784.300795 -19185.1843842\n",
      "37 39 246 255 cN -23.3594254658 1.95014766876 23.3594254658 -11791.6460745 -19185.1843842\n",
      "37 39 246 255 acc0 -26.3002060262 2.81356516455 26.3002060262 -11788.705294 -19185.1843842\n",
      "37 39 246 255 accP -31.723148844 5.18194560706 31.723148844 -11783.2823511 -19185.1843842\n",
      "37 39 246 255 accN -20.5879502362 0.855457611774 20.5879502362 -11794.4175498 -19185.1843842\n",
      "j 40\n",
      "i 37\n",
      "37 40 246 263 c0 -43.9642311256 2.97854713002 43.9642311256 -11771.0412689 inf\n",
      "update least -11771.0412689\n",
      "37 40 246 263 cP -51.5313181956 4.83917172603 51.5313181956 -11763.4741818 -11771.0412689\n",
      "37 40 246 263 cN -47.4258113501 3.01977965461 47.4258113501 -11767.5796886 -11771.0412689\n",
      "37 40 246 263 acc0 -43.3171107023 2.4045611503 43.3171107023 -11771.6883893 -11771.0412689\n",
      "update least -11771.6883893\n",
      "37 40 246 263 accP -54.2397760927 4.56053322054 54.2397760927 -11760.7657239 -11771.6883893\n",
      "37 40 246 263 accN -24.1646651562 0.561741804025 24.1646651562 -11790.8408348 -11771.6883893\n",
      "update least -11790.8408348\n",
      "i 38\n",
      "38 40 254 263 c0 -25.0069889853 3.58484295705 25.0069889853 -19161.1617675 -11790.8408348\n",
      "update least -19161.1617675\n",
      "38 40 254 263 cP -25.196507306 3.66942446644 25.196507306 -19160.9722492 -19161.1617675\n",
      "38 40 254 263 cN -23.225035662 1.91229954662 23.225035662 -19162.9437208 -19161.1617675\n",
      "update least -19162.9437208\n",
      "38 40 254 263 acc0 -11.5598359977 0.448512597576 11.5598359977 -19174.6089205 -19162.9437208\n",
      "update least -19174.6089205\n",
      "38 40 254 263 accP -11.7270220626 0.464553325261 11.7270220626 -19174.4417344 -19174.6089205\n",
      "38 40 254 263 accN -14.6518088578 0.41608110636 14.6518088578 -19171.5169476 -19174.6089205\n",
      "i 39\n",
      "39 40 255 263 c0 -22.9917335796 3.80878399031 22.9917335796 -19161.1926506 -19174.6089205\n",
      "39 40 255 263 cP -22.9910567399 3.83512471848 22.9910567399 -19161.1933274 -19174.6089205\n",
      "39 40 255 263 cN -19.8210011046 1.56892909812 19.8210011046 -19164.3633831 -19174.6089205\n",
      "39 40 255 263 acc0 -15.7890663623 0.874036396501 15.7890663623 -19168.3953178 -19174.6089205\n",
      "39 40 255 263 accP -15.8235686245 0.943591148927 15.8235686245 -19168.3608155 -19174.6089205\n",
      "39 40 255 263 accN -13.3606629774 0.369526188503 13.3606629774 -19170.8237212 -19174.6089205\n",
      "j 41\n",
      "j 42\n",
      "j 43\n",
      "i 40\n",
      "40 43 263 279 c0 -46.4208525188 4.18063457052 46.4208525188 -19127.188068 inf\n",
      "update least -19127.188068\n",
      "40 43 263 279 cP -59.0338963267 9.15063949612 59.0338963267 -19114.5750242 -19127.188068\n",
      "40 43 263 279 cN -34.9193295871 1.57720543527 34.9193295871 -19138.6895909 -19127.188068\n",
      "update least -19138.6895909\n",
      "40 43 263 279 acc0 -43.1196579349 2.79546286563 43.1196579349 -19130.4892626 -19138.6895909\n",
      "40 43 263 279 accP -53.5809764955 5.25989299553 53.5809764955 -19120.027944 -19138.6895909\n",
      "40 43 263 279 accN -39.3688580337 1.64001995478 39.3688580337 -19134.2400625 -19138.6895909\n",
      "i 41\n",
      "41 43 264 279 c0 -44.1072180053 4.27728918284 44.1072180053 inf -19138.6895909\n",
      "41 43 264 279 cP -47.2641118554 5.44772553717 47.2641118554 inf -19138.6895909\n",
      "41 43 264 279 cN -24.8032021868 0.870843079709 24.8032021868 inf -19138.6895909\n",
      "41 43 264 279 acc0 -42.2980562638 2.98988386185 42.2980562638 inf -19138.6895909\n",
      "41 43 264 279 accP -44.8019259398 3.67278838374 44.8019259398 inf -19138.6895909\n",
      "41 43 264 279 accN -16.2960894012 0.364333150541 16.2960894012 inf -19138.6895909\n",
      "i 42\n",
      "42 43 265 279 c0 -41.0786190457 4.24741583599 41.0786190457 inf -19138.6895909\n",
      "42 43 265 279 cP -27.2780724163 1.50930050857 27.2780724163 inf -19138.6895909\n",
      "42 43 265 279 cN -23.0925461604 0.840850858575 23.0925461604 inf -19138.6895909\n",
      "42 43 265 279 acc0 -39.5670994151 3.10678705312 39.5670994151 inf -19138.6895909\n",
      "42 43 265 279 accP -11.8106078623 0.36034058718 11.8106078623 inf -19138.6895909\n",
      "42 43 265 279 accN -16.3688052071 0.36956040215 16.3688052071 inf -19138.6895909\n",
      "j 44\n",
      "i 40\n",
      "40 44 263 284 c0 -58.3089650373 3.72265248921 58.3089650373 -19115.2999555 inf\n",
      "update least -19115.2999555\n",
      "40 44 263 284 cP -75.8703851994 8.63550178759 75.8703851994 -19097.7385353 -19115.2999555\n",
      "40 44 263 284 cN -45.4915216973 1.65209400265 45.4915216973 -19128.1173988 -19115.2999555\n",
      "update least -19128.1173988\n",
      "40 44 263 284 acc0 -56.333852391 2.93096703696 56.333852391 -19117.2750681 -19128.1173988\n",
      "40 44 263 284 accP -69.4455372546 5.44458183821 69.4455372546 -19104.1633833 -19128.1173988\n",
      "40 44 263 284 accN -47.4361692383 1.53449040201 47.4361692383 -19126.1727513 -19128.1173988\n",
      "i 43\n",
      "43 44 279 284 c0 -12.732673947 2.49882805172 12.732673947 -19124.956917 -19128.1173988\n",
      "43 44 279 284 cP -12.2487437544 2.13123859938 12.2487437544 -19125.4408472 -19128.1173988\n",
      "43 44 279 284 cN -13.3469175289 1.30153131339 13.3469175289 -19124.3426734 -19128.1173988\n",
      "43 44 279 284 acc0 -15.9543523246 2.55545627104 15.9543523246 -19121.7352386 -19128.1173988\n",
      "43 44 279 284 accP -11.0116013074 0.778266989704 11.0116013074 -19126.6779896 -19128.1173988\n",
      "43 44 279 284 accN -15.5690854751 0.922396158923 15.5690854751 -19122.1205054 -19128.1173988\n",
      "j 45\n",
      "i 43\n",
      "43 45 279 285 c0 -14.2611757808 2.04245175192 14.2611757808 -19123.4284151 inf\n",
      "update least -19123.4284151\n",
      "43 45 279 285 cP -14.9303981967 2.34130170871 14.9303981967 -19122.7591927 -19123.4284151\n",
      "43 45 279 285 cN -15.3803882826 1.3829897888 15.3803882826 -19122.3092026 -19123.4284151\n",
      "43 45 279 285 acc0 -17.7436338022 2.234649876 17.7436338022 -19119.9459571 -19123.4284151\n",
      "43 45 279 285 accP -11.2063610393 0.649433729248 11.2063610393 -19126.4832299 -19123.4284151\n",
      "update least -19126.4832299\n",
      "43 45 279 285 accN -15.6050177659 0.757891182337 15.6050177659 -19122.0845732 -19126.4832299\n",
      "j 46\n",
      "i 43\n",
      "43 46 279 293 c0 -25.1391553264 1.27151748214 25.1391553264 -19112.5504356 inf\n",
      "update least -19112.5504356\n",
      "43 46 279 293 cP -36.8986700232 3.12630134916 36.8986700232 -19100.7909209 -19112.5504356\n",
      "43 46 279 293 cN -28.2869218802 1.27381580496 28.2869218802 -19109.402669 -19112.5504356\n",
      "43 46 279 293 acc0 -28.9905883526 1.36869135256 28.9905883526 -19108.6990026 -19112.5504356\n",
      "43 46 279 293 accP -28.3495450537 1.28866578147 28.3495450537 -19109.3400459 -19112.5504356\n",
      "43 46 279 293 accN -28.659799014 0.971506115279 28.659799014 -19109.0297919 -19112.5504356\n",
      "i 44\n",
      "44 46 284 293 c0 -11.6715395527 0.687453743194 11.6715395527 -19115.4458593 -19112.5504356\n",
      "update least -19115.4458593\n",
      "44 46 284 293 cP -18.8294796084 1.63768378422 18.8294796084 -19108.2879192 -19115.4458593\n",
      "44 46 284 293 cN -13.7549838998 0.590284365383 13.7549838998 -19113.3624149 -19115.4458593\n",
      "44 46 284 293 acc0 -15.2377754024 0.705411127411 15.2377754024 -19111.8796234 -19115.4458593\n",
      "44 46 284 293 accP -20.2223536471 1.36106288705 20.2223536471 -19106.8950452 -19115.4458593\n",
      "44 46 284 293 accN -17.0836921066 0.558408126404 17.0836921066 -19110.0337067 -19115.4458593\n",
      "i 45\n",
      "45 46 285 293 c0 -11.0753085279 0.724304530047 11.0753085279 -19114.4079214 -19115.4458593\n",
      "45 46 285 293 cP -11.2061810392 0.728689131725 11.2061810392 -19114.2770488 -19115.4458593\n",
      "45 46 285 293 cN -13.2887579912 0.640833880183 13.2887579912 -19112.1944719 -19115.4458593\n",
      "45 46 285 293 acc0 -14.887469412 0.826360485423 14.887469412 -19110.5957605 -19115.4458593\n",
      "45 46 285 293 accP -14.9926219215 0.831018134352 14.9926219215 -19110.490608 -19115.4458593\n",
      "45 46 285 293 accN -13.6801170342 0.398978133859 13.6801170342 -19111.8031128 -19115.4458593\n",
      "j 47\n",
      "i 43\n",
      "43 47 279 294 c0 -26.2800686438 1.21870236926 26.2800686438 -19111.4095223 inf\n",
      "update least -19111.4095223\n",
      "43 47 279 294 cP -39.4401620893 3.1777701628 39.4401620893 -19098.2494288 -19111.4095223\n",
      "43 47 279 294 cN -29.4214581214 1.22546045167 29.4214581214 -19108.2681328 -19111.4095223\n",
      "43 47 279 294 acc0 -29.9962189331 1.276412861 29.9962189331 -19107.693372 -19111.4095223\n",
      "43 47 279 294 accP -30.2638458834 1.27796420966 30.2638458834 -19107.425745 -19111.4095223\n",
      "43 47 279 294 accN -30.0930230959 0.978267932466 30.0930230959 -19107.5965678 -19111.4095223\n",
      "i 44\n",
      "44 47 284 294 c0 -11.9952993655 0.638052930715 11.9952993655 -19115.1220994 -19111.4095223\n",
      "update least -19115.1220994\n",
      "44 47 284 294 cP -20.370993012 1.57589707838 20.370993012 -19106.7464058 -19115.1220994\n",
      "44 47 284 294 cN -14.2428572127 0.564539967094 14.2428572127 -19112.8745416 -19115.1220994\n",
      "44 47 284 294 acc0 -15.6405329761 0.653745521987 15.6405329761 -19111.4768658 -19115.1220994\n",
      "44 47 284 294 accP -21.223285013 1.26034802302 21.223285013 -19105.8941138 -19115.1220994\n",
      "44 47 284 294 accN -17.0819054869 0.515788578676 17.0819054869 -19110.0354933 -19115.1220994\n",
      "i 45\n",
      "45 47 285 294 c0 -11.5837546661 0.67603458125 11.5837546661 -19113.8994752 -19115.1220994\n",
      "45 47 285 294 cP -11.6018138753 0.677574218996 11.6018138753 -19113.881416 -19115.1220994\n",
      "45 47 285 294 cN -13.7351614681 0.579451395236 13.7351614681 -19111.7480684 -19115.1220994\n",
      "45 47 285 294 acc0 -15.4732525348 0.73797116044 15.4732525348 -19110.0099773 -19115.1220994\n",
      "45 47 285 294 accP -15.6073770603 0.746229542729 15.6073770603 -19109.8758528 -19115.1220994\n",
      "45 47 285 294 accN -13.9882325965 0.377411774306 13.9882325965 -19111.4949973 -19115.1220994\n",
      "j 48\n",
      "i 43\n",
      "43 48 279 340 c0 -91.6975028711 1.05383878782 91.6975028711 -19045.992088 inf\n",
      "update least -19045.992088\n",
      "43 48 279 340 cP -169.289354215 3.76855982572 169.289354215 -18968.4002367 -19045.992088\n",
      "43 48 279 340 cN -78.875559301 0.791802814108 78.875559301 -19058.8140316 -19045.992088\n",
      "update least -19058.8140316\n",
      "43 48 279 340 acc0 -65.8115637956 0.648219337663 65.8115637956 -19071.8780271 -19058.8140316\n",
      "update least -19071.8780271\n",
      "43 48 279 340 accP -121.157669678 1.6235393116 121.157669678 -19016.5319212 -19071.8780271\n",
      "43 48 279 340 accN -69.8469731236 0.651902159101 69.8469731236 -19067.8426178 -19071.8780271\n",
      "i 44\n",
      "44 48 284 340 c0 -79.0132466701 0.958430544491 79.0132466701 -19048.1041521 -19071.8780271\n",
      "44 48 284 340 cP -118.286520432 1.94528316617 118.286520432 -19008.8308784 -19071.8780271\n",
      "44 48 284 340 cN -25.559554685 0.344658871524 25.559554685 -19101.5578441 -19071.8780271\n",
      "update least -19101.5578441\n",
      "44 48 284 340 acc0 -37.5335100294 0.426159544952 37.5335100294 -19089.5838888 -19101.5578441\n",
      "44 48 284 340 accP -77.6635843037 0.890444529322 77.6635843037 -19049.4538145 -19101.5578441\n",
      "44 48 284 340 accN -21.5598875782 0.295168630613 21.5598875782 -19105.5575112 -19101.5578441\n",
      "update least -19105.5575112\n",
      "i 45\n",
      "45 48 285 340 c0 -78.2369006344 0.969611487746 78.2369006344 -19047.2463292 -19105.5575112\n",
      "45 48 285 340 cP -78.2351790265 0.961327610327 78.2351790265 -19047.2480509 -19105.5575112\n",
      "45 48 285 340 cN -22.0646122441 0.322262867031 22.0646122441 -19103.4186176 -19105.5575112\n",
      "45 48 285 340 acc0 -38.706143813 0.441721931736 38.706143813 -19086.7770861 -19105.5575112\n",
      "45 48 285 340 accP -38.7991141073 0.438203728093 38.7991141073 -19086.6841158 -19105.5575112\n",
      "45 48 285 340 accN -19.6449403736 0.287814609861 19.6449403736 -19105.8382895 -19105.5575112\n",
      "update least -19105.8382895\n",
      "i 46\n",
      "46 48 293 340 c0 -69.4368788129 1.01738431298 69.4368788129 -19045.0089804 -19105.8382895\n",
      "46 48 293 340 cP -69.4640290421 1.01555254478 69.4640290421 -19044.9818302 -19105.8382895\n",
      "46 48 293 340 cN 15.3478575349 0.149031621487 -15.3478575349 -19129.7937168 -19105.8382895\n",
      "update least -19129.7937168\n",
      "46 48 293 340 acc0 -40.6610789996 0.510034603099 40.6610789996 -19073.7847803 -19129.7937168\n",
      "46 48 293 340 accP -40.4795973543 0.505581338253 40.4795973543 -19073.9662619 -19129.7937168\n",
      "46 48 293 340 accN 12.385819539 0.147567949614 -12.385819539 -19126.8316788 -19129.7937168\n",
      "i 47\n",
      "47 48 294 340 c0 -68.4921057923 1.03981916727 68.4921057923 -19045.6299937 -19129.7937168\n",
      "47 48 294 340 cP -68.6028183167 1.04165181473 68.6028183167 -19045.5192811 -19129.7937168\n",
      "47 48 294 340 cN 9099.71648425 6.94624267113e-16 -9099.71648425 -28213.8385837 -19129.7937168\n",
      "update least -28213.8385837\n",
      "47 48 294 340 acc0 -41.9502313291 0.533294128469 41.9502313291 -19072.1718681 -28213.8385837\n",
      "47 48 294 340 accP -41.8557827196 0.530330617779 41.8557827196 -19072.2663167 -28213.8385837\n",
      "47 48 294 340 accN 1251.63099137 2.36761160097e-11 -1251.63099137 -20365.7530908 -28213.8385837\n",
      "j 49\n",
      "i 43\n",
      "43 49 279 341 c0 -93.1320478217 1.05094375014 93.1320478217 -19044.5575431 inf\n",
      "update least -19044.5575431\n",
      "43 49 279 341 cP -172.031141553 3.85313091332 172.031141553 -18965.6584494 -19044.5575431\n",
      "43 49 279 341 cN -79.6763048307 0.809552988272 79.6763048307 -19058.0132861 -19044.5575431\n",
      "update least -19058.0132861\n",
      "43 49 279 341 acc0 -66.5484972374 0.647684527818 66.5484972374 -19071.1410937 -19058.0132861\n",
      "update least -19071.1410937\n",
      "43 49 279 341 accP -123.223359992 1.63264375804 123.223359992 -19014.4662309 -19071.1410937\n",
      "43 49 279 341 accN -70.5761506978 0.644169392913 70.5761506978 -19067.1134402 -19071.1410937\n",
      "i 44\n",
      "44 49 284 341 c0 -80.4723786445 0.958565377569 80.4723786445 -19046.6450202 -19071.1410937\n",
      "44 49 284 341 cP -120.296658272 1.96228382387 120.296658272 -19006.8207405 -19071.1410937\n",
      "44 49 284 341 cN -25.4658298794 0.339554671966 25.4658298794 -19101.6515689 -19071.1410937\n",
      "update least -19101.6515689\n",
      "44 49 284 341 acc0 -38.2564453388 0.425234790176 38.2564453388 -19088.8609535 -19101.6515689\n",
      "44 49 284 341 accP -79.1339763708 0.876221492668 79.1339763708 -19047.9834224 -19101.6515689\n",
      "44 49 284 341 accN -21.5096066691 0.295469510897 21.5096066691 -19105.6077921 -19101.6515689\n",
      "update least -19105.6077921\n",
      "i 45\n",
      "45 49 285 341 c0 -79.5726727899 0.951166237696 79.5726727899 -19045.9105571 -19105.6077921\n",
      "45 49 285 341 cP -79.6618055684 0.974572703585 79.6618055684 -19045.8214243 -19105.6077921\n",
      "45 49 285 341 cN -22.0752286132 0.321646873487 22.0752286132 -19103.4080013 -19105.6077921\n",
      "45 49 285 341 acc0 -39.5269884354 0.441876445906 39.5269884354 -19085.9562414 -19105.6077921\n",
      "45 49 285 341 accP -39.4463671126 0.439686802552 39.4463671126 -19086.0368628 -19105.6077921\n",
      "45 49 285 341 accN -19.3811591102 0.283746059456 19.3811591102 -19106.1020708 -19105.6077921\n",
      "update least -19106.1020708\n",
      "i 46\n",
      "46 49 293 341 c0 -70.8149583191 1.00569456568 70.8149583191 -19043.6309009 -19106.1020708\n",
      "46 49 293 341 cP -70.9539822347 1.01458393965 70.9539822347 -19043.491877 -19106.1020708\n",
      "46 49 293 341 cN 16.3342994049 0.147504033598 -16.3342994049 -19130.7801587 -19106.1020708\n",
      "update least -19130.7801587\n",
      "46 49 293 341 acc0 -41.3244843221 0.505562071121 41.3244843221 -19073.1213749 -19130.7801587\n",
      "46 49 293 341 accP -41.2254571552 0.504461185791 41.2254571552 -19073.2204021 -19130.7801587\n",
      "46 49 293 341 accN 13.50273864 0.145284669391 -13.50273864 -19127.9485979 -19130.7801587\n",
      "i 47\n",
      "47 49 294 341 c0 -69.9371633963 1.02344601491 69.9371633963 -19044.184936 -19130.7801587\n",
      "47 49 294 341 cP -69.9851959579 1.0344793071 69.9851959579 -19044.1369035 -19130.7801587\n",
      "47 49 294 341 cN 9600.62353697 1.78051319304e-16 -9600.62353697 -28714.7456364 -19130.7801587\n",
      "update least -28714.7456364\n",
      "47 49 294 341 acc0 -42.5495457841 0.532034599139 42.5495457841 -19071.5725537 -28714.7456364\n",
      "47 49 294 341 accP -42.6280858068 0.530789583501 42.6280858068 -19071.4940136 -28714.7456364\n",
      "47 49 294 341 accN 1425.17392359 1.07987712867e-12 -1425.17392359 -20539.296023 -28714.7456364\n"
     ]
    },
    {
     "data": {
      "text/plain": [
       "[None,\n",
       " (0,\n",
       "  1,\n",
       "  0,\n",
       "  9,\n",
       "  'c0',\n",
       "                  mean             sd       mc_error        hpd_2.5  \\\n",
       "  y_err  8.503393e-155  1.168727e-155  9.099216e-157  7.463410e-155   \n",
       "  \n",
       "              hpd_97.5  \n",
       "  y_err  1.069682e-154  ,\n",
       "  -2827.1215549624553),\n",
       " None,\n",
       " (1, 3, 9, 27, 'accN',            mean        sd  mc_error   hpd_2.5  hpd_97.5\n",
       "  y_N    5.035609  0.174498  0.014917  4.685885  5.353041\n",
       "  y_acc -0.154032  0.018239  0.001506 -0.189064 -0.120541\n",
       "  y_err  0.389875  0.070583  0.004421  0.273514  0.525919, 19.049242507145845),\n",
       " None,\n",
       " (3, 5, 27, 32, 'c0',           mean        sd  mc_error   hpd_2.5  hpd_97.5\n",
       "  y_err  1.62048  0.712288  0.049974  0.638696  3.199801, 11.009165927857239),\n",
       " (3, 6, 27, 38, 'accN',            mean        sd  mc_error   hpd_2.5  hpd_97.5\n",
       "  y_N    1.983808  0.188787  0.016695  1.640349  2.326436\n",
       "  y_acc -0.523671  0.032379  0.002869 -0.589277 -0.463372\n",
       "  y_err  0.375129  0.106331  0.008060  0.199678  0.544202, 15.143086586630613),\n",
       " (6,\n",
       "  7,\n",
       "  38,\n",
       "  51,\n",
       "  'cN',\n",
       "                 mean            sd      mc_error        hpd_2.5      hpd_97.5\n",
       "  y_N   -4.000000e+00  1.296254e-15  1.438328e-16  -4.000000e+00 -4.000000e+00\n",
       "  y_err  4.133704e-16  1.666460e-15  1.825241e-16  7.467310e-155  2.500708e-15,\n",
       "  -3276.2968048086695),\n",
       " (5, 8, 32, 52, 'accN',            mean        sd  mc_error   hpd_2.5  hpd_97.5\n",
       "  y_N   -2.059435  0.315808  0.025817 -2.709740 -1.475564\n",
       "  y_acc -0.140848  0.028165  0.002197 -0.192510 -0.080579\n",
       "  y_err  0.718519  0.126004  0.009077  0.502598  0.937602, 31.201285673625264),\n",
       " (7, 9, 51, 59, 'c0',            mean        sd  mc_error   hpd_2.5  hpd_97.5\n",
       "  y_err  3.175893  0.958853  0.067364  1.821835  5.230075, 21.723082283345239),\n",
       " (7, 10, 51, 60, 'c0',            mean        sd  mc_error   hpd_2.5  hpd_97.5\n",
       "  y_err  3.073186  0.924158  0.058614  1.834047  4.931028, 23.690153387808028),\n",
       " (9,\n",
       "  11,\n",
       "  59,\n",
       "  67,\n",
       "  'acc0',\n",
       "             mean        sd  mc_error   hpd_2.5  hpd_97.5\n",
       "  y_acc -0.539190  0.036840  0.002728 -0.617927 -0.473696\n",
       "  y_err  0.414749  0.125117  0.009919  0.222819  0.669686,\n",
       "  10.35429479074536),\n",
       " (10,\n",
       "  12,\n",
       "  60,\n",
       "  68,\n",
       "  'acc0',\n",
       "             mean        sd  mc_error   hpd_2.5  hpd_97.5\n",
       "  y_acc -0.676164  0.048712  0.003984 -0.758764 -0.579532\n",
       "  y_err  0.545572  0.170302  0.012613  0.280367  0.893549,\n",
       "  12.59381988519424),\n",
       " (11,\n",
       "  13,\n",
       "  67,\n",
       "  72,\n",
       "  'c0',\n",
       "             mean        sd  mc_error   hpd_2.5   hpd_97.5\n",
       "  y_err  6.427408  2.562619   0.17139  2.738003  10.963376,\n",
       "  17.026560128480988),\n",
       " (12,\n",
       "  14,\n",
       "  68,\n",
       "  76,\n",
       "  'accN',\n",
       "             mean        sd  mc_error   hpd_2.5  hpd_97.5\n",
       "  y_N    5.390409  0.294336  0.023616  4.820654  6.037160\n",
       "  y_acc -0.326782  0.074272  0.006063 -0.470639 -0.173164\n",
       "  y_err  0.486995  0.184754  0.015073  0.244254  0.872209,\n",
       "  15.257847870234615),\n",
       " (12,\n",
       "  15,\n",
       "  68,\n",
       "  77,\n",
       "  'accN',\n",
       "             mean        sd  mc_error   hpd_2.5  hpd_97.5\n",
       "  y_N    5.498220  0.305205  0.025905  4.943089  6.119694\n",
       "  y_acc -0.375807  0.062790  0.005278 -0.504777 -0.254360\n",
       "  y_err  0.487545  0.166446  0.013946  0.267652  0.856293,\n",
       "  16.373522165300624),\n",
       " (15,\n",
       "  16,\n",
       "  77,\n",
       "  89,\n",
       "  'accN',\n",
       "             mean        sd  mc_error   hpd_2.5  hpd_97.5\n",
       "  y_N   -1.076210  0.315310  0.025851 -1.591262 -0.254561\n",
       "  y_acc -0.334104  0.051570  0.004273 -0.435258 -0.232177\n",
       "  y_err  0.612320  0.136831  0.009091  0.370490  0.878478,\n",
       "  20.96171989612106),\n",
       " None,\n",
       " None,\n",
       " (16,\n",
       "  19,\n",
       "  89,\n",
       "  102,\n",
       "  'cN',\n",
       "             mean        sd  mc_error   hpd_2.5  hpd_97.5\n",
       "  y_N    2.323478  0.620243  0.045067  1.240262  3.601817\n",
       "  y_err  2.144880  0.435805  0.031578  1.343838  3.001400,\n",
       "  33.180433889956056),\n",
       " (19,\n",
       "  20,\n",
       "  102,\n",
       "  120,\n",
       "  'accN',\n",
       "             mean        sd  mc_error   hpd_2.5  hpd_97.5\n",
       "  y_N    5.030208  0.171452  0.014532  4.726491  5.369604\n",
       "  y_acc -0.154311  0.016504  0.001384 -0.184265 -0.122505\n",
       "  y_err  0.400660  0.076260  0.005019  0.280121  0.567006,\n",
       "  19.017431827606639),\n",
       " (16,\n",
       "  21,\n",
       "  89,\n",
       "  124,\n",
       "  'cN',\n",
       "             mean        sd  mc_error   hpd_2.5  hpd_97.5\n",
       "  y_N    2.946082  0.270491  0.018189  2.490821  3.516789\n",
       "  y_err  1.675476  0.215465  0.013499  1.287624  2.046454,\n",
       "  72.344211357526476),\n",
       " (20,\n",
       "  22,\n",
       "  120,\n",
       "  125,\n",
       "  'c0',\n",
       "             mean       sd  mc_error   hpd_2.5  hpd_97.5\n",
       "  y_err  1.696039  0.85506  0.072772  0.727531  3.469115,\n",
       "  11.058201685451998),\n",
       " (20,\n",
       "  23,\n",
       "  120,\n",
       "  131,\n",
       "  'accN',\n",
       "             mean        sd  mc_error   hpd_2.5  hpd_97.5\n",
       "  y_N    1.994017  0.222597  0.020249  1.559111  2.434090\n",
       "  y_acc -0.525860  0.037456  0.003358 -0.597012 -0.441007\n",
       "  y_err  0.380070  0.101137  0.007539  0.239818  0.625387,\n",
       "  15.199566988787721),\n",
       " (23,\n",
       "  24,\n",
       "  131,\n",
       "  153,\n",
       "  'cN',\n",
       "                 mean            sd      mc_error        hpd_2.5      hpd_97.5\n",
       "  y_N   -4.000000e+00  0.000000e+00  0.000000e+00  -4.000000e+00 -4.000000e+00\n",
       "  y_err  5.969680e-27  8.630518e-26  7.326571e-27  7.460662e-155  8.374923e-36,\n",
       "  -6025.8750181277437),\n",
       " (22,\n",
       "  25,\n",
       "  125,\n",
       "  154,\n",
       "  'accN',\n",
       "             mean        sd  mc_error   hpd_2.5  hpd_97.5\n",
       "  y_N   -2.627754  0.250613  0.020841 -3.061298 -1.992907\n",
       "  y_acc -0.068880  0.015253  0.001315 -0.097775 -0.038996\n",
       "  y_err  0.711805  0.103067  0.006414  0.541386  0.910150,\n",
       "  40.816180722222434),\n",
       " None,\n",
       " (24,\n",
       "  27,\n",
       "  153,\n",
       "  168,\n",
       "  'cN',\n",
       "             mean        sd  mc_error   hpd_2.5  hpd_97.5\n",
       "  y_N    3.185940  0.681060  0.047530  1.912182  4.375657\n",
       "  y_err  2.584028  0.567135  0.039109  1.745379  3.740211,\n",
       "  40.092565929486518),\n",
       " (24,\n",
       "  28,\n",
       "  153,\n",
       "  173,\n",
       "  'cN',\n",
       "             mean        sd  mc_error   hpd_2.5  hpd_97.5\n",
       "  y_N    2.923693  0.517945  0.035869  1.972124  3.980332\n",
       "  y_err  2.285313  0.395455  0.031591  1.607983  2.901722,\n",
       "  49.617152769974751),\n",
       " (27,\n",
       "  29,\n",
       "  168,\n",
       "  174,\n",
       "  'accP',\n",
       "             mean        sd  mc_error   hpd_2.5  hpd_97.5\n",
       "  y_acc -0.567735  0.072414  0.005011 -0.702837 -0.413213\n",
       "  y_err  0.454204  0.237401  0.017220  0.180891  0.931813,\n",
       "  9.6445919675152414),\n",
       " (27,\n",
       "  30,\n",
       "  168,\n",
       "  180,\n",
       "  'accP',\n",
       "             mean        sd  mc_error   hpd_2.5  hpd_97.5\n",
       "  y_acc -0.564923  0.017631  0.001175 -0.599749 -0.531160\n",
       "  y_err  0.396010  0.101185  0.008511  0.257461  0.627958,\n",
       "  12.038211115952945),\n",
       " (27,\n",
       "  31,\n",
       "  168,\n",
       "  181,\n",
       "  'accP',\n",
       "             mean        sd  mc_error   hpd_2.5  hpd_97.5\n",
       "  y_acc -0.568877  0.014872  0.000966 -0.599976 -0.542425\n",
       "  y_err  0.384497  0.091201  0.006364  0.251169  0.568809,\n",
       "  12.040726536116303),\n",
       " (31,\n",
       "  32,\n",
       "  181,\n",
       "  211,\n",
       "  'accN',\n",
       "             mean        sd  mc_error   hpd_2.5  hpd_97.5\n",
       "  y_N    5.017276  0.147482  0.012042  4.767322  5.283438\n",
       "  y_acc -0.155184  0.009292  0.000757 -0.173735 -0.138140\n",
       "  y_err  0.428382  0.064500  0.004981  0.327505  0.553206,\n",
       "  27.366901317212534),\n",
       " (31,\n",
       "  33,\n",
       "  181,\n",
       "  212,\n",
       "  'accN',\n",
       "             mean        sd  mc_error   hpd_2.5  hpd_97.5\n",
       "  y_N    5.027138  0.157957  0.012693  4.617407  5.259910\n",
       "  y_acc -0.156992  0.009221  0.000753 -0.171220 -0.136096\n",
       "  y_err  0.428743  0.058013  0.004351  0.332774  0.525842,\n",
       "  27.640169313001195),\n",
       " (31,\n",
       "  34,\n",
       "  181,\n",
       "  213,\n",
       "  'accN',\n",
       "             mean        sd  mc_error   hpd_2.5  hpd_97.5\n",
       "  y_N    5.043931  0.142529  0.012783  4.753103  5.298260\n",
       "  y_acc -0.157725  0.007923  0.000714 -0.175255 -0.144690\n",
       "  y_err  0.424738  0.056645  0.003921  0.320999  0.538143,\n",
       "  27.707987256431185),\n",
       " (32,\n",
       "  35,\n",
       "  211,\n",
       "  218,\n",
       "  'acc0',\n",
       "             mean        sd  mc_error   hpd_2.5  hpd_97.5\n",
       "  y_acc -0.488613  0.052795  0.003775 -0.629607 -0.407653\n",
       "  y_err  0.456227  0.196885  0.014353  0.216048  0.845990,\n",
       "  10.323156970163971),\n",
       " (35,\n",
       "  36,\n",
       "  218,\n",
       "  245,\n",
       "  'cN',\n",
       "                 mean            sd      mc_error        hpd_2.5      hpd_97.5\n",
       "  y_N   -4.000000e+00  0.000000e+00  0.000000e+00  -4.000000e+00 -4.000000e+00\n",
       "  y_err  1.435244e-21  1.759442e-20  1.683391e-21  7.463320e-155  1.208732e-32,\n",
       "  -7364.9163118482793),\n",
       " (34,\n",
       "  37,\n",
       "  213,\n",
       "  246,\n",
       "  'accN',\n",
       "             mean        sd  mc_error   hpd_2.5  hpd_97.5\n",
       "  y_N   -2.966177  0.225109  0.019955 -3.376479 -2.490402\n",
       "  y_acc -0.046294  0.011710  0.001032 -0.071441 -0.025246\n",
       "  y_err  0.655075  0.093163  0.007003  0.505234  0.834345,\n",
       "  42.237621049849928),\n",
       " (36,\n",
       "  38,\n",
       "  245,\n",
       "  254,\n",
       "  'c0',\n",
       "             mean        sd  mc_error   hpd_2.5  hpd_97.5\n",
       "  y_err  3.136309  0.801446  0.054908  1.823058  4.671589,\n",
       "  24.008605353712177),\n",
       " (36,\n",
       "  39,\n",
       "  245,\n",
       "  255,\n",
       "  'c0',\n",
       "             mean        sd  mc_error   hpd_2.5  hpd_97.5\n",
       "  y_err  2.858632  0.730526  0.046985  1.721678  4.266779,\n",
       "  25.992977693513854),\n",
       " (38,\n",
       "  40,\n",
       "  254,\n",
       "  263,\n",
       "  'acc0',\n",
       "             mean        sd  mc_error   hpd_2.5  hpd_97.5\n",
       "  y_acc -0.637249  0.031981  0.002119 -0.690546 -0.571608\n",
       "  y_err  0.448513  0.131172  0.009625  0.243770  0.689220,\n",
       "  11.559835997720242),\n",
       " None,\n",
       " None,\n",
       " (40,\n",
       "  43,\n",
       "  263,\n",
       "  279,\n",
       "  'cN',\n",
       "             mean        sd  mc_error   hpd_2.5  hpd_97.5\n",
       "  y_N    3.631498  0.397755  0.032491  2.919700  4.430041\n",
       "  y_err  1.577205  0.323503  0.025470  1.060146  2.252647,\n",
       "  34.919329587133767),\n",
       " (40,\n",
       "  44,\n",
       "  263,\n",
       "  284,\n",
       "  'cN',\n",
       "             mean        sd  mc_error   hpd_2.5  hpd_97.5\n",
       "  y_N    3.156767  0.319164  0.023628  2.524839  3.733883\n",
       "  y_err  1.652094  0.268147  0.021721  1.237045  2.205510,\n",
       "  45.491521697291851),\n",
       " (43,\n",
       "  45,\n",
       "  279,\n",
       "  285,\n",
       "  'accP',\n",
       "             mean        sd  mc_error   hpd_2.5  hpd_97.5\n",
       "  y_acc -0.630758  0.091785  0.006292 -0.821125 -0.461992\n",
       "  y_err  0.649434  0.436439  0.034814  0.273520  1.237545,\n",
       "  11.206361039310519),\n",
       " (44,\n",
       "  46,\n",
       "  284,\n",
       "  293,\n",
       "  'c0',\n",
       "             mean        sd  mc_error   hpd_2.5  hpd_97.5\n",
       "  y_err  0.687454  0.214528  0.015114  0.382576  1.072815,\n",
       "  11.671539552690595),\n",
       " (44,\n",
       "  47,\n",
       "  284,\n",
       "  294,\n",
       "  'c0',\n",
       "             mean        sd  mc_error   hpd_2.5  hpd_97.5\n",
       "  y_err  0.638053  0.168768  0.012913  0.367665  0.957708,\n",
       "  11.995299365535928),\n",
       " (47,\n",
       "  48,\n",
       "  294,\n",
       "  340,\n",
       "  'cN',\n",
       "                 mean            sd      mc_error        hpd_2.5      hpd_97.5\n",
       "  y_N   -1.000000e+00  2.124330e-15  2.329300e-16  -1.000000e+00 -1.000000e+00\n",
       "  y_err  6.946243e-16  2.215355e-15  2.441206e-16  7.476433e-155  5.833013e-15,\n",
       "  -9099.7164842487982),\n",
       " (47,\n",
       "  49,\n",
       "  294,\n",
       "  341,\n",
       "  'cN',\n",
       "                 mean            sd      mc_error        hpd_2.5      hpd_97.5\n",
       "  y_N   -1.000000e+00  5.774014e-16  6.370010e-17  -1.000000e+00 -1.000000e+00\n",
       "  y_err  1.780513e-16  6.013924e-16  6.517318e-17  7.465613e-155  5.759246e-16,\n",
       "  -9600.6235369691312)]"
      ]
     },
     "execution_count": 66,
     "metadata": {},
     "output_type": "execute_result"
    }
   ],
   "source": [
    "# What is the mode as of just before each switch-point, \n",
    "# and what is the accumulated cost of the approximation up to that point?\n",
    "modes = [(0,None)]*(len(all_times))\n",
    "\n",
    "#modes is offset from likes by 1\n",
    "\n",
    "ks = {\"c0\":1, \"cP\":1, \"cN\":2, \"acc0\":2, \"accP\":2, \"accN\":3}\n",
    "\n",
    "cost = 1\n",
    "\n",
    "# Takahashi Meijin constant, 60 frames / 16 inputs ~= 4 frames per input.\n",
    "# But note that in general transitions may happen more frequently due to collisions, etc.\n",
    "min_interval = 4 \n",
    "\n",
    "for j in range(1, len(all_times)):\n",
    "    least = float(\"inf\")\n",
    "    least_template = None\n",
    "    print \"j\",j\n",
    "    for i in range(0, j):\n",
    "        data = likes[i][j]\n",
    "        if not data:\n",
    "            continue\n",
    "        dt = data[3]-data[2]\n",
    "        if dt < min_interval:\n",
    "            print data[:4]\n",
    "            continue\n",
    "        the_templates = data[-1]\n",
    "        print \"i\",i\n",
    "        for tn,mod,trace in the_templates:\n",
    "            k = ks[tn]\n",
    "            summary = pm.df_summary(trace)\n",
    "            logp = np.mean([mod.logp(pt) for pt in trace])\n",
    "            # WAIC\n",
    "            #crit = -pm.stats.waic(model=mod,trace=trace)\n",
    "            # DIC\n",
    "            #crit = pm.stats.dic(model=mod,trace=trace)\n",
    "            #if np.abs(crit) > 1e5:\n",
    "            #    crit = float('inf')\n",
    "            # BPIC\n",
    "            #crit = pm.stats.bpic(model=mod,trace=trace)\n",
    "            # AICc\n",
    "            #crit = 2*k - 2 * logp + (2*(k+1)*(k+2))/(dt-k-2)\n",
    "            # BIC\n",
    "            #crit = math.log(dt)*k - 2 * logp\n",
    "            # max-likelihood\n",
    "            crit = -logp\n",
    "            \n",
    "            #crit = math.log(dt) - logp\n",
    "            m_prev = modes[i][0]\n",
    "            # ??\n",
    "            #error = summary[\"mean\"][\"y_err\"]*dt\n",
    "            here = crit + m_prev + cost\n",
    "            print i,j,data[2],data[3],tn,logp,summary[\"mean\"][\"y_err\"],crit,here,least\n",
    "            if here < least:\n",
    "                print \"update least\",here\n",
    "                least = here\n",
    "                # prev_i,this_j,t0,t1,name,summary,criterion\n",
    "                least_template = (i,j,data[2],data[3],tn,summary,crit)\n",
    "    modes[j] = (least, least_template)\n",
    "\n",
    "map(lambda m:m[1],modes)"
   ]
  },
  {
   "cell_type": "code",
   "execution_count": 67,
   "metadata": {
    "collapsed": false,
    "scrolled": false
   },
   "outputs": [
    {
     "name": "stdout",
     "output_type": "stream",
     "text": [
      "0 -2826.12155496 \n",
      "(0, 1, 0, 9, 'c0',                 mean             sd       mc_error        hpd_2.5  \\\n",
      "y_err  8.503393e-155  1.168727e-155  9.099216e-157  7.463410e-155   \n",
      "\n",
      "            hpd_97.5  \n",
      "y_err  1.069682e-154  , -2827.1215549624553) \n",
      "\n",
      "1 -2806.07231246 \n",
      "(1, 3, 9, 27, 'accN',            mean        sd  mc_error   hpd_2.5  hpd_97.5\n",
      "y_N    5.035609  0.174498  0.014917  4.685885  5.353041\n",
      "y_acc -0.154032  0.018239  0.001506 -0.189064 -0.120541\n",
      "y_err  0.389875  0.070583  0.004421  0.273514  0.525919, 19.049242507145845) \n",
      "\n",
      "2 -2789.92922587 \n",
      "(3, 6, 27, 38, 'accN',            mean        sd  mc_error   hpd_2.5  hpd_97.5\n",
      "y_N    1.983808  0.188787  0.016695  1.640349  2.326436\n",
      "y_acc -0.523671  0.032379  0.002869 -0.589277 -0.463372\n",
      "y_err  0.375129  0.106331  0.008060  0.199678  0.544202, 15.143086586630613) \n",
      "\n",
      "3 -6065.22603068 \n",
      "(6, 7, 38, 51, 'cN',                mean            sd      mc_error        hpd_2.5      hpd_97.5\n",
      "y_N   -4.000000e+00  1.296254e-15  1.438328e-16  -4.000000e+00 -4.000000e+00\n",
      "y_err  4.133704e-16  1.666460e-15  1.825241e-16  7.467310e-155  2.500708e-15, -3276.2968048086695) \n",
      "\n",
      "4 -6040.53587729 \n",
      "(7, 10, 51, 60, 'c0',            mean        sd  mc_error   hpd_2.5  hpd_97.5\n",
      "y_err  3.073186  0.924158  0.058614  1.834047  4.931028, 23.690153387808028) \n",
      "\n",
      "5 -6026.9420574 \n",
      "(10, 12, 60, 68, 'acc0',            mean        sd  mc_error   hpd_2.5  hpd_97.5\n",
      "y_acc -0.676164  0.048712  0.003984 -0.758764 -0.579532\n",
      "y_err  0.545572  0.170302  0.012613  0.280367  0.893549, 12.59381988519424) \n",
      "\n",
      "6 -6009.56853524 \n",
      "(12, 15, 68, 77, 'accN',            mean        sd  mc_error   hpd_2.5  hpd_97.5\n",
      "y_N    5.498220  0.305205  0.025905  4.943089  6.119694\n",
      "y_acc -0.375807  0.062790  0.005278 -0.504777 -0.254360\n",
      "y_err  0.487545  0.166446  0.013946  0.267652  0.856293, 16.373522165300624) \n",
      "\n",
      "7 -5987.60681534 \n",
      "(15, 16, 77, 89, 'accN',            mean        sd  mc_error   hpd_2.5  hpd_97.5\n",
      "y_N   -1.076210  0.315310  0.025851 -1.591262 -0.254561\n",
      "y_acc -0.334104  0.051570  0.004273 -0.435258 -0.232177\n",
      "y_err  0.612320  0.136831  0.009091  0.370490  0.878478, 20.96171989612106) \n",
      "\n",
      "8 -5953.42638145 \n",
      "(16, 19, 89, 102, 'cN',            mean        sd  mc_error   hpd_2.5  hpd_97.5\n",
      "y_N    2.323478  0.620243  0.045067  1.240262  3.601817\n",
      "y_err  2.144880  0.435805  0.031578  1.343838  3.001400, 33.180433889956056) \n",
      "\n",
      "9 -5933.40894963 \n",
      "(19, 20, 102, 120, 'accN',            mean        sd  mc_error   hpd_2.5  hpd_97.5\n",
      "y_N    5.030208  0.171452  0.014532  4.726491  5.369604\n",
      "y_acc -0.154311  0.016504  0.001384 -0.184265 -0.122505\n",
      "y_err  0.400660  0.076260  0.005019  0.280121  0.567006, 19.017431827606639) \n",
      "\n",
      "10 -5917.20938264 \n",
      "(20, 23, 120, 131, 'accN',            mean        sd  mc_error   hpd_2.5  hpd_97.5\n",
      "y_N    1.994017  0.222597  0.020249  1.559111  2.434090\n",
      "y_acc -0.525860  0.037456  0.003358 -0.597012 -0.441007\n",
      "y_err  0.380070  0.101137  0.007539  0.239818  0.625387, 15.199566988787721) \n",
      "\n",
      "11 -11942.0844008 \n",
      "(23, 24, 131, 153, 'cN',                mean            sd      mc_error        hpd_2.5      hpd_97.5\n",
      "y_N   -4.000000e+00  0.000000e+00  0.000000e+00  -4.000000e+00 -4.000000e+00\n",
      "y_err  5.969680e-27  8.630518e-26  7.326571e-27  7.460662e-155  8.374923e-36, -6025.8750181277437) \n",
      "\n",
      "12 -11900.9918348 \n",
      "(24, 27, 153, 168, 'cN',            mean        sd  mc_error   hpd_2.5  hpd_97.5\n",
      "y_N    3.185940  0.681060  0.047530  1.912182  4.375657\n",
      "y_err  2.584028  0.567135  0.039109  1.745379  3.740211, 40.092565929486518) \n",
      "\n",
      "13 -11887.9511083 \n",
      "(27, 31, 168, 181, 'accP',            mean        sd  mc_error   hpd_2.5  hpd_97.5\n",
      "y_acc -0.568877  0.014872  0.000966 -0.599976 -0.542425\n",
      "y_err  0.384497  0.091201  0.006364  0.251169  0.568809, 12.040726536116303) \n",
      "\n",
      "14 -11859.584207 \n",
      "(31, 32, 181, 211, 'accN',            mean        sd  mc_error   hpd_2.5  hpd_97.5\n",
      "y_N    5.017276  0.147482  0.012042  4.767322  5.283438\n",
      "y_acc -0.155184  0.009292  0.000757 -0.173735 -0.138140\n",
      "y_err  0.428382  0.064500  0.004981  0.327505  0.553206, 27.366901317212534) \n",
      "\n",
      "15 -11848.26105 \n",
      "(32, 35, 211, 218, 'acc0',            mean        sd  mc_error   hpd_2.5  hpd_97.5\n",
      "y_acc -0.488613  0.052795  0.003775 -0.629607 -0.407653\n",
      "y_err  0.456227  0.196885  0.014353  0.216048  0.845990, 10.323156970163971) \n",
      "\n",
      "16 -19212.1773619 \n",
      "(35, 36, 218, 245, 'cN',                mean            sd      mc_error        hpd_2.5      hpd_97.5\n",
      "y_N   -4.000000e+00  0.000000e+00  0.000000e+00  -4.000000e+00 -4.000000e+00\n",
      "y_err  1.435244e-21  1.759442e-20  1.683391e-21  7.463320e-155  1.208732e-32, -7364.9163118482793) \n",
      "\n",
      "17 -19187.1687565 \n",
      "(36, 38, 245, 254, 'c0',            mean        sd  mc_error   hpd_2.5  hpd_97.5\n",
      "y_err  3.136309  0.801446  0.054908  1.823058  4.671589, 24.008605353712177) \n",
      "\n",
      "18 -19174.6089205 \n",
      "(38, 40, 254, 263, 'acc0',            mean        sd  mc_error   hpd_2.5  hpd_97.5\n",
      "y_acc -0.637249  0.031981  0.002119 -0.690546 -0.571608\n",
      "y_err  0.448513  0.131172  0.009625  0.243770  0.689220, 11.559835997720242) \n",
      "\n",
      "19 -19128.1173988 \n",
      "(40, 44, 263, 284, 'cN',            mean        sd  mc_error   hpd_2.5  hpd_97.5\n",
      "y_N    3.156767  0.319164  0.023628  2.524839  3.733883\n",
      "y_err  1.652094  0.268147  0.021721  1.237045  2.205510, 45.491521697291851) \n",
      "\n",
      "20 -19115.1220994 \n",
      "(44, 47, 284, 294, 'c0',            mean        sd  mc_error   hpd_2.5  hpd_97.5\n",
      "y_err  0.638053  0.168768  0.012913  0.367665  0.957708, 11.995299365535928) \n",
      "\n",
      "21 -28714.7456364 \n",
      "(47, 49, 294, 341, 'cN',                mean            sd      mc_error        hpd_2.5      hpd_97.5\n",
      "y_N   -1.000000e+00  5.774014e-16  6.370010e-17  -1.000000e+00 -1.000000e+00\n",
      "y_err  1.780513e-16  6.013924e-16  6.517318e-17  7.465613e-155  5.759246e-16, -9600.6235369691312) \n",
      "\n"
     ]
    }
   ],
   "source": [
    "def get_path(modes):\n",
    "    mj = len(modes)-1\n",
    "    path = [modes[mj]]\n",
    "    while mj > 0:\n",
    "        mj = modes[mj][1][0]\n",
    "        path.append(modes[mj])\n",
    "    return list(reversed(path))[1:]\n",
    "\n",
    "path = get_path(modes)\n",
    "for ii,p in enumerate(path):\n",
    "    print ii,p[0],'\\n',p[1],'\\n'"
   ]
  },
  {
   "cell_type": "code",
   "execution_count": 68,
   "metadata": {
    "collapsed": true
   },
   "outputs": [],
   "source": [
    "\"\"\"UnionFind.py\n",
    "\n",
    "Union-find data structure. Based on Josiah Carlson's code,\n",
    "http://aspn.activestate.com/ASPN/Cookbook/Python/Recipe/215912\n",
    "with significant additional changes by D. Eppstein.\n",
    "\"\"\"\n",
    "\n",
    "class UnionFind:\n",
    "    \"\"\"Union-find data structure.\n",
    "\n",
    "    Each unionFind instance X maintains a family of disjoint sets of\n",
    "    hashable objects, supporting the following two methods:\n",
    "\n",
    "    - X[item] returns a name for the set containing the given item.\n",
    "      Each set is named by an arbitrarily-chosen one of its members; as\n",
    "      long as the set remains unchanged it will keep the same name. If\n",
    "      the item is not yet part of a set in X, a new singleton set is\n",
    "      created for it.\n",
    "\n",
    "    - X.union(item1, item2, ...) merges the sets containing each item\n",
    "      into a single larger set.  If any item is not yet part of a set\n",
    "      in X, it is added to X as one of the members of the merged set.\n",
    "    \"\"\"\n",
    "\n",
    "    def __init__(self):\n",
    "        \"\"\"Create a new empty union-find structure.\"\"\"\n",
    "        self.weights = {}\n",
    "        self.parents = {}\n",
    "\n",
    "    def __getitem__(self, object):\n",
    "        \"\"\"Find and return the name of the set containing the object.\"\"\"\n",
    "\n",
    "        # check for previously unknown object\n",
    "        if object not in self.parents:\n",
    "            self.parents[object] = object\n",
    "            self.weights[object] = 1\n",
    "            return object\n",
    "\n",
    "        # find path of objects leading to the root\n",
    "        path = [object]\n",
    "        root = self.parents[object]\n",
    "        while root != path[-1]:\n",
    "            path.append(root)\n",
    "            root = self.parents[root]\n",
    "\n",
    "        # compress the path and return\n",
    "        for ancestor in path:\n",
    "            self.parents[ancestor] = root\n",
    "        return root\n",
    "        \n",
    "    def __iter__(self):\n",
    "        \"\"\"Iterate through all items ever found or unioned by this structure.\"\"\"\n",
    "        return iter(self.parents)\n",
    "\n",
    "    def union(self, *objects):\n",
    "        \"\"\"Find the sets containing the objects and merge them all.\"\"\"\n",
    "        roots = [self[x] for x in objects]\n",
    "        heaviest = max([(self.weights[r],r) for r in roots])[1]\n",
    "        for r in roots:\n",
    "            if r != heaviest:\n",
    "                self.weights[heaviest] += self.weights[r]\n",
    "                self.parents[r] = heaviest\n"
   ]
  },
  {
   "cell_type": "code",
   "execution_count": 69,
   "metadata": {
    "collapsed": false
   },
   "outputs": [],
   "source": [
    "cross = {}\n",
    "unions = UnionFind()\n",
    "\n",
    "for ii,mode in enumerate(path):\n",
    "    d = {t[0]:t[1:] for t in likes[mode[1][0]][mode[1][1]][4]}\n",
    "    model,trace = {t[0]:t[1:] for t in likes[mode[1][0]][mode[1][1]][4]}[mode[1][4]]\n",
    "    for jj,mode2 in enumerate(path):\n",
    "        model2,trace2 = {t[0]:t[1:] for t in likes[mode2[1][0]][mode2[1][1]][4]}[mode2[1][4]]\n",
    "        if mode2[1][4] == mode[1][4]:\n",
    "            try:\n",
    "                crit = -np.mean([model.logp(pt) for pt in trace2])#pm.stats.dic(model=model,trace=trace2)\n",
    "            except:\n",
    "\n",
    "                crit = float('inf')\n",
    "        else:\n",
    "            crit = float('inf')\n",
    "        cross[(ii,jj)] = crit"
   ]
  },
  {
   "cell_type": "code",
   "execution_count": 70,
   "metadata": {
    "collapsed": false
   },
   "outputs": [
    {
     "name": "stdout",
     "output_type": "stream",
     "text": [
      "0 0\n",
      "1 6\n",
      "2 10\n",
      "3 11\n",
      "4 17\n",
      "5 15\n",
      "6 6\n",
      "7 7\n",
      "8 12\n",
      "9 6\n",
      "10 10\n",
      "11 11\n",
      "12 12\n",
      "13 13\n",
      "14 6\n",
      "15 15\n",
      "16 11\n",
      "17 17\n",
      "18 15\n",
      "19 12\n",
      "20 17\n",
      "21 21\n",
      "{0: set([0]), 6: set([1, 14, 6, 9]), 7: set([7]), 10: set([2, 10]), 11: set([11, 16, 3]), 12: set([8, 19, 12]), 13: set([13]), 15: set([18, 5, 15]), 17: set([17, 4, 20]), 21: set([21])}\n"
     ]
    }
   ],
   "source": [
    "complexityWeight = 20\n",
    "for d in sorted(cross):\n",
    "    good = True\n",
    "    for t in [cross[d], cross[(d[0],d[0])], cross[(d[1],d[1])], cross[(d[1],d[0])]]:\n",
    "        if t == float('inf'):\n",
    "            good = False\n",
    "    if not good:\n",
    "        continue\n",
    "    joined = min(cross[d] + cross[(d[0],d[0])],cross[(d[1],d[1])]+cross[(d[1],d[0])])\n",
    "   \n",
    "    if (joined < (cross[(d[0],d[0])]+cross[(d[1],d[1])]) +complexityWeight):\n",
    "        unions.union(d[0],d[1])\n",
    "merged = {}\n",
    "for u in unions:\n",
    "    print u, unions[u]\n",
    "    if unions[u] not in merged:\n",
    "        merged[unions[u]] = set()\n",
    "    merged[unions[u]].add(u)\n",
    "print merged"
   ]
  },
  {
   "cell_type": "code",
   "execution_count": 71,
   "metadata": {
    "collapsed": false
   },
   "outputs": [
    {
     "name": "stdout",
     "output_type": "stream",
     "text": [
      "\n",
      "\n"
     ]
    },
    {
     "name": "stderr",
     "output_type": "stream",
     "text": [
      "100%|██████████| 50000/50000 [00:11<00:00, 4431.55it/s]\n"
     ]
    },
    {
     "name": "stdout",
     "output_type": "stream",
     "text": [
      "           mean        sd  mc_error   hpd_2.5  hpd_97.5\n",
      "y_N    4.964086  0.087689  0.002590  4.795200  5.131502\n",
      "y_acc -0.153704  0.006883  0.000207 -0.166742 -0.140193\n",
      "y_err  0.455383  0.040004  0.000789  0.379411  0.535194\n",
      "\n",
      "\n"
     ]
    },
    {
     "name": "stderr",
     "output_type": "stream",
     "text": [
      "100%|██████████| 50000/50000 [00:10<00:00, 4580.51it/s]\n"
     ]
    },
    {
     "name": "stdout",
     "output_type": "stream",
     "text": [
      "           mean        sd  mc_error   hpd_2.5  hpd_97.5\n",
      "y_N    1.958944  0.140657  0.004027  1.689764  2.232848\n",
      "y_acc -0.518566  0.023682  0.000716 -0.565304 -0.470437\n",
      "y_err  0.340403  0.059862  0.001276  0.240539  0.456833\n",
      "\n"
     ]
    },
    {
     "name": "stderr",
     "output_type": "stream",
     "text": [
      "100%|██████████| 50000/50000 [00:07<00:00, 6540.97it/s]\n"
     ]
    },
    {
     "name": "stdout",
     "output_type": "stream",
     "text": [
      "                mean             sd       mc_error        hpd_2.5  \\\n",
      "y_N    -4.000000e+00   0.000000e+00   0.000000e+00  -4.000000e+00   \n",
      "y_err  7.584915e-155  1.348565e-156  3.329252e-158  7.458445e-155   \n",
      "\n",
      "            hpd_97.5  \n",
      "y_N    -4.000000e+00  \n",
      "y_err  7.842421e-155  \n",
      "\n"
     ]
    },
    {
     "name": "stderr",
     "output_type": "stream",
     "text": [
      "100%|██████████| 50000/50000 [00:07<00:00, 6677.20it/s]\n"
     ]
    },
    {
     "name": "stdout",
     "output_type": "stream",
     "text": [
      "           mean        sd  mc_error   hpd_2.5  hpd_97.5\n",
      "y_N    2.975474  0.287747  0.005803  2.421059  3.505755\n",
      "y_err  2.005665  0.214889  0.004035  1.625416  2.451020\n",
      "\n",
      "\n"
     ]
    },
    {
     "name": "stderr",
     "output_type": "stream",
     "text": [
      "100%|██████████| 50000/50000 [00:07<00:00, 6826.16it/s]\n"
     ]
    },
    {
     "name": "stdout",
     "output_type": "stream",
     "text": [
      "           mean        sd  mc_error   hpd_2.5  hpd_97.5\n",
      "y_acc -0.618281  0.026159  0.000582 -0.663745 -0.564964\n",
      "y_err  0.523693  0.084520  0.001835  0.377777  0.691335\n",
      "\n"
     ]
    },
    {
     "name": "stderr",
     "output_type": "stream",
     "text": [
      "100%|██████████| 50000/50000 [00:03<00:00, 13156.23it/s]"
     ]
    },
    {
     "name": "stdout",
     "output_type": "stream",
     "text": [
      "           mean        sd  mc_error  hpd_2.5  hpd_97.5\n",
      "y_err  2.243025  0.312515  0.006652   1.6437  2.851833\n",
      "\n"
     ]
    },
    {
     "name": "stderr",
     "output_type": "stream",
     "text": [
      "\n"
     ]
    }
   ],
   "source": [
    "iterations = 50000\n",
    "\n",
    "def model_sets_generate(ti,data):\n",
    "    track,all_times,axis,i,j = data\n",
    "    segments = []\n",
    "    for ind in range(len(i)):\n",
    "        t0 = all_times[i[ind]]\n",
    "        t1 = all_times[j[ind]]\n",
    "        if t0 == 0:\n",
    "            segment = track[t0+1:t1+1]-track[t0:t1]\n",
    "            prev_vel = 0\n",
    "        elif t1+1 > np.shape(track)[1]:\n",
    "            extended_track = np.concatenate((track,[track[-1]]))\n",
    "            segment = extended_track[t0+1:t1+1]-extended_track[t0:t1]\n",
    "            prev_vel = track[t0,axis]-track[t0-1,axis]\n",
    "        else:\n",
    "            #9,10,11 - 8,9,10\n",
    "            segment = track[t0+1:t1+1]-track[t0:t1]\n",
    "            prev_vel = track[t0,axis]-track[t0-1,axis]\n",
    "        segment[:,0] = range(0,np.shape(segment)[0])\n",
    "        segments.append(segment)\n",
    "    segment = np.vstack(segments)\n",
    "    result = model_template_generate(ti, \n",
    "                                       axis,\n",
    "                                       segment,\n",
    "                                       prev_vel)\n",
    "    return (i,j,t0,t1,result)\n",
    "\n",
    "for m in merged:\n",
    "    print ''\n",
    "    if len(merged[m]) > 1:\n",
    "        i_ = []\n",
    "        j_ = []\n",
    "        for t in merged[m]:\n",
    "            mode = path[t]\n",
    "            dat = likes[mode[1][0]][mode[1][1]]            \n",
    "            ti = type2ind[mode[1][4]]\n",
    "            i_.append(dat[0])\n",
    "            j_.append(dat[1])\n",
    "            \n",
    "        result = model_sets_generate(ti,(track,all_times,axis,i_,j_))\n",
    "        print pm.df_summary(result[4][2])"
   ]
  },
  {
   "cell_type": "code",
   "execution_count": 72,
   "metadata": {
    "collapsed": false
   },
   "outputs": [
    {
     "data": {
      "image/png": "[encoded data removed]",
      "text/plain": [
       "<matplotlib.figure.Figure at 0x7f5e7b3c0610>"
      ]
     },
     "metadata": {},
     "output_type": "display_data"
    }
   ],
   "source": [
    "colors = ['r','g','b','c','m','y','k',\"#aa0000\",\"#00aa00\",\"#0000aa\",\"#880000\",\"#008800\",\"#000088\"]\n",
    "merged2color = {m:i for i,m in enumerate(sorted(merged))}\n",
    "\n",
    "for m in merged:\n",
    "    for t in merged[m]:\n",
    "        plt.plot(np.array(path[t][1][2:4]),np.array([merged2color[m], merged2color[m]])+5,colors[merged2color[m]])\n",
    "\n",
    "plt.plot(track[:,2]*0.1-20)\n",
    "plt.plot(velocities[:all_times[-1]])\n",
    "plt.plot(np.array(all_times),velocities[np.array(all_times,dtype='int')],'rx')\n",
    "plt.show()"
   ]
  },
  {
   "cell_type": "code",
   "execution_count": 81,
   "metadata": {
    "collapsed": false
   },
   "outputs": [],
   "source": [
    "collisions = pickle.load(open('mario_collisions.pkl'))\n",
    "\n",
    "def button_changes(button_masks):\n",
    "    last_mask = 0\n",
    "    mask_times = {}\n",
    "    for t, b in enumerate(button_masks):\n",
    "        if b != last_mask:\n",
    "            b_ = int(b)\n",
    "            buttons = []\n",
    "            for ii,c in enumerate(list('RLDUTSBA')):\n",
    "                if b_ & (1 << (7-ii)):\n",
    "                    buttons.append(c)\n",
    "            l_ = int(last_mask)\n",
    "            last_buttons = []\n",
    "            for ii,c in enumerate(list('RLDUTSBA')):\n",
    "                if l_ & (1 << (7-ii)):\n",
    "                    last_buttons.append(c)\n",
    "            mask_times[t] = (last_buttons,buttons)\n",
    "            last_mask = b\n",
    "    \n",
    "    return mask_times\n",
    "\n",
    "button_times = button_changes(track[:,3])"
   ]
  },
  {
   "cell_type": "code",
   "execution_count": 82,
   "metadata": {
    "collapsed": false
   },
   "outputs": [
    {
     "name": "stdout",
     "output_type": "stream",
     "text": [
      "1 0 -> 6 9\n",
      "button (['R', 'B'], ['R', 'A'])\n",
      "\t((54, 0, 'tile'), 'internal')\n",
      "\t((55, 0, 'tile'), 'left')\n",
      "\t((37, 0, 'tile'), 'internal')\n",
      "\t((55, 0, 'tile'), 'internal')\n",
      "\t((180, 1, 'tile'), 'top')\n",
      "\t((55, 0, 'tile'), 'bottom')\n",
      "\t((54, 0, 'tile'), 'bottom')\n",
      "\t((37, 0, 'tile'), 'right')\n",
      "\t((55, 0, 'tile'), 'right')\n",
      "\t((37, 0, 'tile'), 'left')\n",
      "\t((181, 1, 'tile'), 'top')\n",
      "\n",
      "2 6 -> 10 27\n",
      "button (['A'], [])\n",
      "\t((36, 0, 'tile'), 'internal')\n",
      "\t((36, 0, 'tile'), 'right')\n",
      "\t((36, 0, 'tile'), 'bottom')\n",
      "\t((36, 0, 'tile'), 'top')\n",
      "\t((36, 0, 'tile'), 'left')\n",
      "\n",
      "3 10 -> 11 38\n",
      "\t((36, 0, 'tile'), 'internal')\n",
      "\t((36, 0, 'tile'), 'right')\n",
      "\t((36, 0, 'tile'), 'bottom')\n",
      "\t((36, 0, 'tile'), 'top')\n",
      "\t((36, 0, 'tile'), 'left')\n",
      "\n",
      "4 11 -> 17 51\n",
      "\t((36, 0, 'tile'), 'right')\n",
      "\t((36, 0, 'tile'), 'left')\n",
      "\t((36, 0, 'tile'), 'top')\n",
      "\t((8, 5, 6, 7), 'bottom')\n",
      "\t((36, 0, 'tile'), 'bottom')\n",
      "\t((36, 0, 'tile'), 'internal')\n",
      "\n",
      "5 17 -> 15 60\n",
      "\t((36, 0, 'tile'), 'right')\n",
      "\t((36, 0, 'tile'), 'left')\n",
      "\t((36, 0, 'tile'), 'top')\n",
      "\t((36, 0, 'tile'), 'bottom')\n",
      "\t((5, 6), 'bottom')\n",
      "\t((36, 0, 'tile'), 'internal')\n",
      "\n",
      "6 15 -> 6 68\n",
      "button ([], ['A'])\n",
      "\t((36, 0, 'tile'), 'right')\n",
      "\t((180, 1, 'tile'), 'top')\n",
      "\t((36, 0, 'tile'), 'left')\n",
      "\t((36, 0, 'tile'), 'bottom')\n",
      "\t((36, 0, 'tile'), 'internal')\n",
      "\t((181, 1, 'tile'), 'top')\n",
      "\n",
      "7 6 -> 7 77\n",
      "\t((71, 1, 'tile'), 'internal')\n",
      "\t((36, 3, 'tile'), 'bottom')\n",
      "\t((36, 3, 'tile'), 'internal')\n",
      "\t((8, 9, 10, 7), 'bottom')\n",
      "\t((36, 0, 'tile'), 'right')\n",
      "\t((36, 0, 'tile'), 'left')\n",
      "\t((36, 0, 'tile'), 'top')\n",
      "\t((71, 1, 'tile'), 'right')\n",
      "\t((36, 0, 'tile'), 'internal')\n",
      "\t((36, 3, 'tile'), 'left')\n",
      "\t((71, 1, 'tile'), 'bottom')\n",
      "\n",
      "8 7 -> 12 89\n",
      "\t((56, 0, 'tile'), 'left')\n",
      "\t((56, 0, 'tile'), 'internal')\n",
      "\t((36, 0, 'tile'), 'right')\n",
      "\t((180, 1, 'tile'), 'top')\n",
      "\t((36, 0, 'tile'), 'left')\n",
      "\t((36, 0, 'tile'), 'top')\n",
      "\t((36, 0, 'tile'), 'bottom')\n",
      "\t((36, 0, 'tile'), 'internal')\n",
      "\t((56, 0, 'tile'), 'top')\n",
      "\t((181, 1, 'tile'), 'top')\n",
      "\n",
      "9 12 -> 6 102\n",
      "button ([], ['A'])\n",
      "\t((36, 0, 'tile'), 'right')\n",
      "\t((36, 0, 'tile'), 'left')\n",
      "\t((36, 0, 'tile'), 'top')\n",
      "\t((96, 0, 'tile'), 'top')\n",
      "\t((36, 0, 'tile'), 'bottom')\n",
      "\t((36, 0, 'tile'), 'internal')\n",
      "\n",
      "10 6 -> 10 120\n",
      "button (['A'], [])\n",
      "\t((36, 0, 'tile'), 'internal')\n",
      "\t((36, 0, 'tile'), 'right')\n",
      "\t((36, 0, 'tile'), 'bottom')\n",
      "\t((36, 0, 'tile'), 'top')\n",
      "\t((36, 0, 'tile'), 'left')\n",
      "\n",
      "11 10 -> 11 131\n",
      "\t((36, 0, 'tile'), 'internal')\n",
      "\t((36, 0, 'tile'), 'right')\n",
      "\t((36, 0, 'tile'), 'bottom')\n",
      "\t((36, 0, 'tile'), 'top')\n",
      "\t((36, 0, 'tile'), 'left')\n",
      "\n",
      "12 11 -> 12 153\n",
      "\t((36, 0, 'tile'), 'internal')\n",
      "\t((36, 0, 'tile'), 'right')\n",
      "\t((36, 0, 'tile'), 'bottom')\n",
      "\t((36, 0, 'tile'), 'top')\n",
      "\t((36, 0, 'tile'), 'left')\n",
      "\n",
      "13 12 -> 13 168\n",
      "button (['A'], [])\n",
      "\t((36, 0, 'tile'), 'internal')\n",
      "\t((36, 0, 'tile'), 'right')\n",
      "\t((36, 0, 'tile'), 'bottom')\n",
      "\t((36, 0, 'tile'), 'top')\n",
      "\t((36, 0, 'tile'), 'left')\n",
      "\n",
      "14 13 -> 6 181\n",
      "button ([], ['A'])\n",
      "\t((36, 0, 'tile'), 'right')\n",
      "\t((36, 0, 'tile'), 'left')\n",
      "\t((36, 0, 'tile'), 'top')\n",
      "\t((36, 0, 'tile'), 'bottom')\n",
      "\t((99, 0, 'tile'), 'top')\n",
      "\t((36, 0, 'tile'), 'internal')\n",
      "\n",
      "15 6 -> 15 211\n",
      "button (['A'], [])\n",
      "\t((36, 0, 'tile'), 'internal')\n",
      "\t((36, 0, 'tile'), 'right')\n",
      "\t((36, 0, 'tile'), 'bottom')\n",
      "\t((36, 0, 'tile'), 'top')\n",
      "\t((36, 0, 'tile'), 'left')\n",
      "\n",
      "16 15 -> 11 218\n",
      "\t((36, 0, 'tile'), 'internal')\n",
      "\t((36, 0, 'tile'), 'right')\n",
      "\t((36, 0, 'tile'), 'bottom')\n",
      "\t((36, 0, 'tile'), 'top')\n",
      "\t((36, 0, 'tile'), 'left')\n",
      "\n",
      "17 11 -> 17 245\n",
      "\t((48, 0, 'tile'), 'bottom')\n",
      "\t((52, 0, 'tile'), 'bottom')\n",
      "\t((52, 0, 'tile'), 'internal')\n",
      "\t((38, 0, 'tile'), 'right')\n",
      "\t((52, 0, 'tile'), 'left')\n",
      "\t((38, 0, 'tile'), 'top')\n",
      "\t((9, 10, 11, 12), 'right')\n",
      "\t((38, 0, 'tile'), 'left')\n",
      "\t((52, 0, 'tile'), 'right')\n",
      "\t((38, 0, 'tile'), 'internal')\n",
      "\t((48, 0, 'tile'), 'left')\n",
      "\t((48, 0, 'tile'), 'internal')\n",
      "\t((52, 0, 'tile'), 'top')\n",
      "\t((38, 0, 'tile'), 'bottom')\n",
      "\n",
      "18 17 -> 15 254\n",
      "\t((51, 0, 'tile'), 'left')\n",
      "\t((51, 0, 'tile'), 'top')\n",
      "\t((36, 0, 'tile'), 'right')\n",
      "\t((51, 0, 'tile'), 'internal')\n",
      "\t((36, 0, 'tile'), 'left')\n",
      "\t((36, 0, 'tile'), 'top')\n",
      "\t((38, 0, 'tile'), 'top')\n",
      "\t((36, 0, 'tile'), 'bottom')\n",
      "\t((36, 0, 'tile'), 'internal')\n",
      "\t((9, 10), 'bottom')\n",
      "\n",
      "19 15 -> 12 263\n",
      "\t((51, 0, 'tile'), 'left')\n",
      "\t((51, 0, 'tile'), 'top')\n",
      "\t((36, 0, 'tile'), 'right')\n",
      "\t((180, 1, 'tile'), 'top')\n",
      "\t((51, 0, 'tile'), 'internal')\n",
      "\t((36, 0, 'tile'), 'left')\n",
      "\t((36, 0, 'tile'), 'top')\n",
      "\t((36, 0, 'tile'), 'bottom')\n",
      "\t((38, 0, 'tile'), 'left')\n",
      "\t((36, 0, 'tile'), 'internal')\n",
      "\t((181, 1, 'tile'), 'top')\n",
      "\n",
      "20 12 -> 17 284\n",
      "\t((5, 6), 'right')\n",
      "\t((36, 0, 'tile'), 'right')\n",
      "\t((36, 0, 'tile'), 'left')\n",
      "\t((36, 0, 'tile'), 'top')\n",
      "\t((36, 0, 'tile'), 'bottom')\n",
      "\t((36, 0, 'tile'), 'internal')\n",
      "\n",
      "21 17 -> 21 294\n",
      "button (['D'], [])\n",
      "\t((36, 0, 'tile'), 'right')\n",
      "\t((36, 0, 'tile'), 'left')\n",
      "\t((96, 0, 'tile'), 'top')\n",
      "\t((98, 0, 'tile'), 'top')\n",
      "\t((97, 0, 'tile'), 'top')\n",
      "\t((36, 0, 'tile'), 'internal')\n",
      "\t((36, 0, 'tile'), 'bottom')\n",
      "\n"
     ]
    }
   ],
   "source": [
    "start_time = 270\n",
    "    \n",
    "for t in range(1,len(path)):\n",
    "        if t == 0:\n",
    "            prev = -1\n",
    "        else:\n",
    "            prev = unions[t-1]\n",
    "            \n",
    "        start = path[t][1][2]\n",
    "        print t,prev,'->',unions[t], start\n",
    "        if start in button_times:\n",
    "            print 'button', button_times[start]\n",
    "        \n",
    "        if start+start_time in collisions:\n",
    "            for c in collisions[start+start_time]:\n",
    "                print '\\t',c\n",
    "        print ''"
   ]
  },
  {
   "cell_type": "code",
   "execution_count": null,
   "metadata": {
    "collapsed": true
   },
   "outputs": [],
   "source": []
  },
  {
   "cell_type": "code",
   "execution_count": null,
   "metadata": {
    "collapsed": true
   },
   "outputs": [],
   "source": []
  }
 ],
 "metadata": {
  "kernelspec": {
   "display_name": "Python 2",
   "language": "python",
   "name": "python2"
  },
  "language_info": {
   "codemirror_mode": {
    "name": "ipython",
    "version": 2
   },
   "file_extension": ".py",
   "mimetype": "text/x-python",
   "name": "python",
   "nbconvert_exporter": "python",
   "pygments_lexer": "ipython2",
   "version": "2.7.10"
  },
  "name": "Untitled.ipynb"
 },
 "nbformat": 4,
 "nbformat_minor": 1
}
