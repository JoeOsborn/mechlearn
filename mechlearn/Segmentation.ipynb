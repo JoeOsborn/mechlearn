{
 "cells": [
  {
   "cell_type": "code",
   "execution_count": 1,
   "metadata": {
    "autoscroll": "json-false",
    "collapsed": false,
    "ein.tags": [
     "worksheet-0"
    ],
    "slideshow": {
     "slide_type": "-"
    }
   },
   "outputs": [],
   "source": [
    "import pickle\n",
    "import numpy as np\n",
    "import scipy.ndimage\n",
    "import matplotlib.pyplot as plt\n",
    "import pymc3 as pm\n",
    "import math"
   ]
  },
  {
   "cell_type": "code",
   "execution_count": 2,
   "metadata": {
    "collapsed": true
   },
   "outputs": [],
   "source": [
    "track = pickle.load(open(\"mario_track_1.pkl\"))"
   ]
  },
  {
   "cell_type": "code",
   "execution_count": 3,
   "metadata": {
    "collapsed": false
   },
   "outputs": [
    {
     "data": {
      "text/plain": [
       "(347, 4)"
      ]
     },
     "execution_count": 3,
     "metadata": {},
     "output_type": "execute_result"
    }
   ],
   "source": [
    "np.shape(track)"
   ]
  },
  {
   "cell_type": "code",
   "execution_count": 4,
   "metadata": {
    "autoscroll": "json-false",
    "collapsed": false,
    "ein.tags": [
     "worksheet-0"
    ],
    "slideshow": {
     "slide_type": "-"
    }
   },
   "outputs": [
    {
     "name": "stdout",
     "output_type": "stream",
     "text": [
      "[ 0.  0.  0.  0.  0.  0.  0.  0.  0.  5.  5.  5.  5.  4.  4.  4.  4.  4.\n",
      "  3.  4.  3.  3.  3.  3.  3.  2.  3.  2.  1.  1.  1.  0. -1. -1. -2. -2.\n",
      " -3. -3. -4. -4. -4. -4. -4. -4. -4. -4. -4. -4. -4. -4. -4. -4.  4.  3.\n",
      "  3.  2.  2.  1.  1.  0. -1. -1. -1. -2. -3. -3. -4. -5.  5.  5.  5.  5.\n",
      "  4.  4.  3.  3.  2. -1. -1. -1. -2. -3. -3. -4. -4. -4. -4. -4. -4. -1.\n",
      "  5.  5.  5.  3.  3.  3.  2.  2.  0.  1.  0.  3.  5.  5.  5.  5.  4.  4.\n",
      "  4.  4.  4.  3.  4.  3.  3.  3.  3.  3.  2.  3.  2.  1.  1.  1.  0. -1.\n",
      " -1. -2. -2. -3. -3. -4. -4. -4. -4. -4. -4. -4. -4. -4. -4. -4. -4. -4.\n",
      " -4. -4. -4. -4. -4. -4. -4. -4. -4. -4.  0.  5.  5.  5.  5.  4.  4.  4.\n",
      "  4.  4.  3.  4.  3.  3.  3.  3.  2.  1.  1.  0. -1. -1. -1. -2. -3. -3.\n",
      " -4.  5.  5.  5.  5.  4.  4.  4.  4.  4.  3.  4.  3.  3.  3.  3.  3.  2.\n",
      "  3.  2.  2.  2.  1.  2.  1.  2.  1.  1.  0.  1.  1.  0.  0. -1. -2. -2.\n",
      " -2. -3. -4. -4. -4. -4. -4. -4. -4. -4. -4. -4. -4. -4. -4. -4. -4. -4.\n",
      " -4. -4. -4. -4. -4. -4. -4. -4. -4. -4. -4. -4.  4.  4.  2.  3.  1.  2.\n",
      "  0.  0.  0. -1. -2. -2. -3. -3. -4. -4. -5. -1.  5.  5.  5.  5.  4.  4.\n",
      "  4.  4.  4.  3.  4.  3.  3.  3.  3.  3.  2.  1.  1.  1.  0. -1. -1. -1.\n",
      "  0.  0.  0.  0.  0.  0. -1. -1. -1. -1. -1. -1. -1. -1. -1. -1. -1. -1.\n",
      " -1. -1. -1. -1. -1. -1. -1. -1. -1. -1. -1. -1. -1. -1. -1. -1. -1. -1.\n",
      " -1. -1. -1. -1. -1. -1. -1. -1. -1. -1. -1. -1. -1. -1. -1. -1. -1.  3.\n",
      "  0.  0.  0.  0.]\n",
      "[ 0.          0.          0.          0.          0.          0.          0.\n",
      "  1.66666667  3.33333333  5.          5.          4.66666667  4.33333333\n",
      "  4.          4.          4.          3.66666667  3.66666667  3.33333333\n",
      "  3.33333333  3.          3.          3.          2.66666667  2.66666667\n",
      "  2.33333333  2.          1.33333333  1.          0.66666667  0.\n",
      " -0.66666667 -1.33333333 -1.66666667 -2.33333333 -2.66666667 -3.33333333\n",
      " -3.66666667 -4.         -4.         -4.         -4.         -4.         -4.\n",
      " -4.         -4.         -4.         -4.         -4.         -4.\n",
      " -1.33333333  1.          3.33333333  2.66666667  2.33333333  1.66666667\n",
      "  1.33333333  0.66666667  0.         -0.66666667 -1.         -1.33333333\n",
      " -2.         -2.66666667 -3.33333333 -4.         -1.33333333  1.66666667\n",
      "  5.          5.          4.66666667  4.33333333  3.66666667  3.33333333\n",
      "  2.66666667  1.33333333  0.         -1.         -1.33333333 -2.\n",
      " -2.66666667 -3.33333333 -3.66666667 -4.         -4.         -4.         -4.\n",
      " -3.          0.          3.          5.          4.33333333  3.66666667\n",
      "  3.          2.66666667  2.33333333  1.33333333  1.          0.33333333\n",
      "  1.33333333  2.66666667  4.33333333  5.          5.          4.66666667\n",
      "  4.33333333  4.          4.          4.          3.66666667  3.66666667\n",
      "  3.33333333  3.33333333  3.          3.          3.          2.66666667\n",
      "  2.66666667  2.33333333  2.          1.33333333  1.          0.66666667\n",
      "  0.         -0.66666667 -1.33333333 -1.66666667 -2.33333333 -2.66666667\n",
      " -3.33333333 -3.66666667 -4.         -4.         -4.         -4.         -4.\n",
      " -4.         -4.         -4.         -4.         -4.         -4.         -4.\n",
      " -4.         -4.         -4.         -4.         -4.         -4.         -4.\n",
      " -4.         -4.         -2.66666667  0.33333333  3.33333333  5.          5.\n",
      "  4.66666667  4.33333333  4.          4.          4.          3.66666667\n",
      "  3.66666667  3.33333333  3.33333333  3.          3.          2.66666667\n",
      "  2.          1.33333333  0.66666667  0.         -0.66666667 -1.\n",
      " -1.33333333 -2.         -2.66666667 -3.33333333 -0.66666667  2.          5.\n",
      "  5.          4.66666667  4.33333333  4.          4.          4.\n",
      "  3.66666667  3.66666667  3.33333333  3.33333333  3.          3.          3.\n",
      "  2.66666667  2.66666667  2.33333333  2.33333333  2.          1.66666667\n",
      "  1.66666667  1.33333333  1.66666667  1.33333333  1.33333333  0.66666667\n",
      "  0.66666667  0.66666667  0.66666667  0.33333333 -0.33333333 -1.\n",
      " -1.66666667 -2.         -2.33333333 -3.         -3.66666667 -4.         -4.\n",
      " -4.         -4.         -4.         -4.         -4.         -4.         -4.\n",
      " -4.         -4.         -4.         -4.         -4.         -4.         -4.\n",
      " -4.         -4.         -4.         -4.         -4.         -4.         -4.\n",
      " -4.         -4.         -4.         -1.33333333  1.33333333  3.33333333\n",
      "  3.          2.          2.          1.          0.66666667  0.\n",
      " -0.33333333 -1.         -1.66666667 -2.33333333 -2.66666667 -3.33333333\n",
      " -3.66666667 -4.33333333 -3.33333333 -0.33333333  3.          5.          5.\n",
      "  4.66666667  4.33333333  4.          4.          4.          3.66666667\n",
      "  3.66666667  3.33333333  3.33333333  3.          3.          3.\n",
      "  2.66666667  2.          1.33333333  1.          0.66666667  0.\n",
      " -0.66666667 -1.         -0.66666667 -0.33333333  0.          0.          0.\n",
      "  0.         -0.33333333 -0.66666667 -1.         -1.         -1.         -1.\n",
      " -1.         -1.         -1.         -1.         -1.         -1.         -1.\n",
      " -1.         -1.         -1.         -1.         -1.         -1.         -1.\n",
      " -1.         -1.         -1.         -1.         -1.         -1.         -1.\n",
      " -1.         -1.         -1.         -1.         -1.         -1.         -1.\n",
      " -1.         -1.         -1.         -1.         -1.         -1.         -1.\n",
      " -1.         -1.         -1.         -1.         -1.         -1.\n",
      "  0.33333333  0.66666667  1.          0.          0.        ]\n"
     ]
    },
    {
     "data": {
      "text/plain": [
       "{-5.0, -4.0, -1.0, 0, 3.0, 4.0, 5.0}"
      ]
     },
     "execution_count": 4,
     "metadata": {},
     "output_type": "execute_result"
    }
   ],
   "source": [
    "def thresholds(vals, t_window=5):\n",
    "    last_diff = 0\n",
    "    last_diff_t = 0\n",
    "    max_v = min(vals)\n",
    "    min_v = max(vals)\n",
    "    thresholds = set([0, min_v, max_v])\n",
    "    for t, v in enumerate(vals):\n",
    "        if (t - last_diff_t) == t_window:\n",
    "            thresholds.add(last_diff)\n",
    "        if v != last_diff:\n",
    "            last_diff = v\n",
    "            last_diff_t = t\n",
    "    return thresholds\n",
    "\n",
    "axis = 2\n",
    "window = 3\n",
    "\n",
    "velocities = track[1:,axis]-track[:-1,axis] \n",
    "print velocities\n",
    "print np.convolve(velocities, np.ones(window)/window, mode='valid')\n",
    "\n",
    "thresholds(velocities)"
   ]
  },
  {
   "cell_type": "code",
   "execution_count": 5,
   "metadata": {
    "autoscroll": "json-false",
    "collapsed": false,
    "ein.tags": [
     "worksheet-0"
    ],
    "slideshow": {
     "slide_type": "-"
    }
   },
   "outputs": [
    {
     "name": "stdout",
     "output_type": "stream",
     "text": [
      "[ 0.  0.  0.  0.  0.  0.  0.  0.  0.  5.  5.  5.  5.  4.  4.  4.  4.  4.\n",
      "  3.  4.  3.  3.  3.  3.  3.  2.  3.  2.  1.  1.  1.  0. -1. -1. -2. -2.\n",
      " -3. -3. -4. -4. -4. -4. -4. -4. -4. -4. -4. -4. -4. -4. -4. -4.  4.  3.\n",
      "  3.  2.  2.  1.  1.  0. -1. -1. -1. -2. -3. -3. -4. -5.  5.  5.  5.  5.\n",
      "  4.  4.  3.  3.  2. -1. -1. -1. -2. -3. -3. -4. -4. -4. -4. -4. -4. -1.\n",
      "  5.  5.  5.  3.  3.  3.  2.  2.  0.  1.  0.  3.  5.  5.  5.  5.  4.  4.\n",
      "  4.  4.  4.  3.  4.  3.  3.  3.  3.  3.  2.  3.  2.  1.  1.  1.  0. -1.\n",
      " -1. -2. -2. -3. -3. -4. -4. -4. -4. -4. -4. -4. -4. -4. -4. -4. -4. -4.\n",
      " -4. -4. -4. -4. -4. -4. -4. -4. -4. -4.  0.  5.  5.  5.  5.  4.  4.  4.\n",
      "  4.  4.  3.  4.  3.  3.  3.  3.  2.  1.  1.  0. -1. -1. -1. -2. -3. -3.\n",
      " -4.  5.  5.  5.  5.  4.  4.  4.  4.  4.  3.  4.  3.  3.  3.  3.  3.  2.\n",
      "  3.  2.  2.  2.  1.  2.  1.  2.  1.  1.  0.  1.  1.  0.  0. -1. -2. -2.\n",
      " -2. -3. -4. -4. -4. -4. -4. -4. -4. -4. -4. -4. -4. -4. -4. -4. -4. -4.\n",
      " -4. -4. -4. -4. -4. -4. -4. -4. -4. -4. -4. -4.  4.  4.  2.  3.  1.  2.\n",
      "  0.  0.  0. -1. -2. -2. -3. -3. -4. -4. -5. -1.  5.  5.  5.  5.  4.  4.\n",
      "  4.  4.  4.  3.  4.  3.  3.  3.  3.  3.  2.  1.  1.  1.  0. -1. -1. -1.\n",
      "  0.  0.  0.  0.  0.  0. -1. -1. -1. -1. -1. -1. -1. -1. -1. -1. -1. -1.\n",
      " -1. -1. -1. -1. -1. -1. -1. -1. -1. -1. -1. -1. -1. -1. -1. -1. -1. -1.\n",
      " -1. -1. -1. -1. -1. -1. -1. -1. -1. -1. -1. -1. -1. -1. -1. -1. -1.  3.\n",
      "  0.  0.  0.  0.]\n",
      "[ 0.   0.   0.   0.   0.   0.   0.   0.   2.5  5.   5.   5.   4.5  4.   4.\n",
      "  4.   4.   3.5  3.5  3.5  3.   3.   3.   3.   2.5  2.5  2.5  1.5  1.   1.\n",
      "  0.5 -0.5 -1.  -1.5 -2.  -2.5 -3.  -3.5 -4.  -4.  -4.  -4.  -4.  -4.  -4.\n",
      " -4.  -4.  -4.  -4.  -4.  -4.   0.   3.5  3.   2.5  2.   1.5  1.   0.5 -0.5\n",
      " -1.  -1.  -1.5 -2.5 -3.  -3.5 -4.5  0.   5.   5.   5.   4.5  4.   3.5  3.\n",
      "  2.5  0.5 -1.  -1.  -1.5 -2.5 -3.  -3.5 -4.  -4.  -4.  -4.  -4.  -2.5  2.\n",
      "  5.   5.   4.   3.   3.   2.5  2.   1.   0.5  0.5  1.5  4.   5.   5.   5.\n",
      "  4.5  4.   4.   4.   4.   3.5  3.5  3.5  3.   3.   3.   3.   2.5  2.5  2.5\n",
      "  1.5  1.   1.   0.5 -0.5 -1.  -1.5 -2.  -2.5 -3.  -3.5 -4.  -4.  -4.  -4.\n",
      " -4.  -4.  -4.  -4.  -4.  -4.  -4.  -4.  -4.  -4.  -4.  -4.  -4.  -4.  -4.\n",
      " -4.  -4.  -4.  -2.   2.5  5.   5.   5.   4.5  4.   4.   4.   4.   3.5  3.5\n",
      "  3.5  3.   3.   3.   2.5  1.5  1.   0.5 -0.5 -1.  -1.  -1.5 -2.5 -3.  -3.5\n",
      "  0.5  5.   5.   5.   4.5  4.   4.   4.   4.   3.5  3.5  3.5  3.   3.   3.\n",
      "  3.   2.5  2.5  2.5  2.   2.   1.5  1.5  1.5  1.5  1.5  1.   0.5  0.5  1.\n",
      "  0.5  0.  -0.5 -1.5 -2.  -2.  -2.5 -3.5 -4.  -4.  -4.  -4.  -4.  -4.  -4.\n",
      " -4.  -4.  -4.  -4.  -4.  -4.  -4.  -4.  -4.  -4.  -4.  -4.  -4.  -4.  -4.\n",
      " -4.  -4.  -4.  -4.  -4.   0.   4.   3.   2.5  2.   1.5  1.   0.   0.  -0.5\n",
      " -1.5 -2.  -2.5 -3.  -3.5 -4.  -4.5 -3.   2.   5.   5.   5.   4.5  4.   4.\n",
      "  4.   4.   3.5  3.5  3.5  3.   3.   3.   3.   2.5  1.5  1.   1.   0.5 -0.5\n",
      " -1.  -1.  -0.5  0.   0.   0.   0.   0.  -0.5 -1.  -1.  -1.  -1.  -1.  -1.\n",
      " -1.  -1.  -1.  -1.  -1.  -1.  -1.  -1.  -1.  -1.  -1.  -1.  -1.  -1.  -1.\n",
      " -1.  -1.  -1.  -1.  -1.  -1.  -1.  -1.  -1.  -1.  -1.  -1.  -1.  -1.  -1.\n",
      " -1.  -1.  -1.  -1.  -1.  -1.  -1.  -1.  -1.  -1.   1.   1.5  0.   0.   0.\n",
      "  0. ]\n",
      "[0, 8, 9, 13, 17, 18, 20, 24, 25, 38, 51, 52, 83, 88, 89, 106, 110, 111, 113, 117, 118, 131, 153, 154, 159, 163, 164, 185, 189, 190, 192, 196, 197, 218, 245, 246, 268, 272, 273, 275, 279, 280, 288, 293, 294, 294, 340, 341]\n",
      "[0, 7, 8, 38, 50, 51, 83, 87, 88, 131, 152, 153, 201, 205, 206, 218, 244, 245, 288, 292, 293, 294, 339, 340]\n"
     ]
    }
   ],
   "source": [
    "def samey_intervals(vals, t_window=5):\n",
    "    last_diff = 0\n",
    "    last_diff_t = 0\n",
    "    intervals = []\n",
    "    for t, v in enumerate(vals):\n",
    "        if ((t - last_diff_t) >= t_window) and v != last_diff:\n",
    "            intervals.append(last_diff_t)\n",
    "            intervals.append(t-1)\n",
    "            intervals.append(t)\n",
    "        if v != last_diff:\n",
    "            last_diff = v\n",
    "            last_diff_t = t\n",
    "    return intervals\n",
    "\n",
    "axis = 2\n",
    "window = 2\n",
    "\n",
    "velocities = track[1:,axis]-track[:-1,axis] \n",
    "smoothed = scipy.ndimage.filters.convolve1d(velocities, np.ones(window)/window)\n",
    "\n",
    "print velocities\n",
    "print smoothed\n",
    "\n",
    "print samey_intervals(velocities)\n",
    "print samey_intervals(smoothed)"
   ]
  },
  {
   "cell_type": "code",
   "execution_count": 6,
   "metadata": {
    "autoscroll": "json-false",
    "collapsed": false,
    "ein.tags": [
     "worksheet-0"
    ],
    "slideshow": {
     "slide_type": "-"
    }
   },
   "outputs": [
    {
     "name": "stdout",
     "output_type": "stream",
     "text": [
      "[ 0.  0.  0.  0.  0.  0.  0.  0.  0.  5.  5.  5.  5.  4.  4.  4.  4.  4.\n",
      "  3.  4.  3.  3.  3.  3.  3.  2.  3.  2.  1.  1.  1.  0. -1. -1. -2. -2.\n",
      " -3. -3. -4. -4. -4. -4. -4. -4. -4. -4. -4. -4. -4. -4. -4. -4.  4.  3.\n",
      "  3.  2.  2.  1.  1.  0. -1. -1. -1. -2. -3. -3. -4. -5.  5.  5.  5.  5.\n",
      "  4.  4.  3.  3.  2. -1. -1. -1. -2. -3. -3. -4. -4. -4. -4. -4. -4. -1.\n",
      "  5.  5.  5.  3.  3.  3.  2.  2.  0.  1.  0.  3.  5.  5.  5.  5.  4.  4.\n",
      "  4.  4.  4.  3.  4.  3.  3.  3.  3.  3.  2.  3.  2.  1.  1.  1.  0. -1.\n",
      " -1. -2. -2. -3. -3. -4. -4. -4. -4. -4. -4. -4. -4. -4. -4. -4. -4. -4.\n",
      " -4. -4. -4. -4. -4. -4. -4. -4. -4. -4.  0.  5.  5.  5.  5.  4.  4.  4.\n",
      "  4.  4.  3.  4.  3.  3.  3.  3.  2.  1.  1.  0. -1. -1. -1. -2. -3. -3.\n",
      " -4.  5.  5.  5.  5.  4.  4.  4.  4.  4.  3.  4.  3.  3.  3.  3.  3.  2.\n",
      "  3.  2.  2.  2.  1.  2.  1.  2.  1.  1.  0.  1.  1.  0.  0. -1. -2. -2.\n",
      " -2. -3. -4. -4. -4. -4. -4. -4. -4. -4. -4. -4. -4. -4. -4. -4. -4. -4.\n",
      " -4. -4. -4. -4. -4. -4. -4. -4. -4. -4. -4. -4.  4.  4.  2.  3.  1.  2.\n",
      "  0.  0.  0. -1. -2. -2. -3. -3. -4. -4. -5. -1.  5.  5.  5.  5.  4.  4.\n",
      "  4.  4.  4.  3.  4.  3.  3.  3.  3.  3.  2.  1.  1.  1.  0. -1. -1. -1.\n",
      "  0.  0.  0.  0.  0.  0. -1. -1. -1. -1. -1. -1. -1. -1. -1. -1. -1. -1.\n",
      " -1. -1. -1. -1. -1. -1. -1. -1. -1. -1. -1. -1. -1. -1. -1. -1. -1. -1.\n",
      " -1. -1. -1. -1. -1. -1. -1. -1. -1. -1. -1. -1. -1. -1. -1. -1. -1.  3.\n",
      "  0.  0.  0.  0.]\n",
      "[ 0.   0.   0.   0.   0.   0.   0.   0.   2.5  5.   5.   5.   4.5  4.   4.\n",
      "  4.   4.   3.5  3.5  3.5  3.   3.   3.   3.   2.5  2.5  2.5  1.5  1.   1.\n",
      "  0.5 -0.5 -1.  -1.5 -2.  -2.5 -3.  -3.5 -4.  -4.  -4.  -4.  -4.  -4.  -4.\n",
      " -4.  -4.  -4.  -4.  -4.  -4.   0.   3.5  3.   2.5  2.   1.5  1.   0.5 -0.5\n",
      " -1.  -1.  -1.5 -2.5 -3.  -3.5 -4.5  0.   5.   5.   5.   4.5  4.   3.5  3.\n",
      "  2.5  0.5 -1.  -1.  -1.5 -2.5 -3.  -3.5 -4.  -4.  -4.  -4.  -4.  -2.5  2.\n",
      "  5.   5.   4.   3.   3.   2.5  2.   1.   0.5  0.5  1.5  4.   5.   5.   5.\n",
      "  4.5  4.   4.   4.   4.   3.5  3.5  3.5  3.   3.   3.   3.   2.5  2.5  2.5\n",
      "  1.5  1.   1.   0.5 -0.5 -1.  -1.5 -2.  -2.5 -3.  -3.5 -4.  -4.  -4.  -4.\n",
      " -4.  -4.  -4.  -4.  -4.  -4.  -4.  -4.  -4.  -4.  -4.  -4.  -4.  -4.  -4.\n",
      " -4.  -4.  -4.  -2.   2.5  5.   5.   5.   4.5  4.   4.   4.   4.   3.5  3.5\n",
      "  3.5  3.   3.   3.   2.5  1.5  1.   0.5 -0.5 -1.  -1.  -1.5 -2.5 -3.  -3.5\n",
      "  0.5  5.   5.   5.   4.5  4.   4.   4.   4.   3.5  3.5  3.5  3.   3.   3.\n",
      "  3.   2.5  2.5  2.5  2.   2.   1.5  1.5  1.5  1.5  1.5  1.   0.5  0.5  1.\n",
      "  0.5  0.  -0.5 -1.5 -2.  -2.  -2.5 -3.5 -4.  -4.  -4.  -4.  -4.  -4.  -4.\n",
      " -4.  -4.  -4.  -4.  -4.  -4.  -4.  -4.  -4.  -4.  -4.  -4.  -4.  -4.  -4.\n",
      " -4.  -4.  -4.  -4.  -4.   0.   4.   3.   2.5  2.   1.5  1.   0.   0.  -0.5\n",
      " -1.5 -2.  -2.5 -3.  -3.5 -4.  -4.5 -3.   2.   5.   5.   5.   4.5  4.   4.\n",
      "  4.   4.   3.5  3.5  3.5  3.   3.   3.   3.   2.5  1.5  1.   1.   0.5 -0.5\n",
      " -1.  -1.  -0.5  0.   0.   0.   0.   0.  -0.5 -1.  -1.  -1.  -1.  -1.  -1.\n",
      " -1.  -1.  -1.  -1.  -1.  -1.  -1.  -1.  -1.  -1.  -1.  -1.  -1.  -1.  -1.\n",
      " -1.  -1.  -1.  -1.  -1.  -1.  -1.  -1.  -1.  -1.  -1.  -1.  -1.  -1.  -1.\n",
      " -1.  -1.  -1.  -1.  -1.  -1.  -1.  -1.  -1.  -1.   1.   1.5  0.   0.   0.\n",
      "  0. ]\n",
      "[0, 31, 32, 32, 51, 52, 52, 59, 60, 60, 67, 68, 68, 76, 77, 77, 89, 90, 90, 124, 125, 125, 154, 155, 155, 173, 174, 174, 180, 181, 181, 212, 213, 213, 245, 246, 246, 254, 255, 255, 263, 264, 264, 284, 285, 285, 340, 341, 341, 345]\n",
      "[0, 30, 31, 31, 51, 52, 52, 58, 59, 59, 67, 68, 68, 76, 77, 77, 88, 89, 89, 123, 124, 124, 153, 154, 154, 172, 173, 173, 179, 180, 180, 211, 212, 212, 245, 246, 246, 253, 254, 254, 262, 263, 263, 283, 284, 284, 339, 340, 340, 345]\n"
     ]
    }
   ],
   "source": [
    "def zero_crossings(vals):\n",
    "    sign_intervals = []\n",
    "    last_sign_change = 0\n",
    "    vsigns = np.sign(vals)\n",
    "    last_sign = vsigns[0]\n",
    "    for t, v in enumerate(vsigns):\n",
    "        if last_sign == 0:\n",
    "            last_sign = v\n",
    "        elif v == 0 or v == last_sign:\n",
    "            continue\n",
    "        elif v != last_sign:\n",
    "            sign_intervals.append(last_sign_change)\n",
    "            sign_intervals.append(t-1)\n",
    "            sign_intervals.append(t)\n",
    "            last_sign = v\n",
    "            last_sign_change = t\n",
    "    if t - 1 != last_sign_change:\n",
    "        sign_intervals.append(last_sign_change)\n",
    "        sign_intervals.append(t)\n",
    "    return sign_intervals\n",
    "\n",
    "axis = 2\n",
    "window = 2\n",
    "\n",
    "velocities = track[1:,axis]-track[:-1,axis] \n",
    "smoothed = scipy.ndimage.filters.convolve1d(velocities, np.ones(window)/window)\n",
    "\n",
    "print velocities\n",
    "print smoothed\n",
    "\n",
    "print zero_crossings(velocities)\n",
    "print zero_crossings(smoothed)"
   ]
  },
  {
   "cell_type": "code",
   "execution_count": 7,
   "metadata": {
    "collapsed": false,
    "scrolled": false
   },
   "outputs": [
    {
     "data": {
      "image/png": "[encoded data removed]",
      "text/plain": [
       "<matplotlib.figure.Figure at 0x10deda0d0>"
      ]
     },
     "metadata": {},
     "output_type": "display_data"
    },
    {
     "data": {
      "image/png": "[encoded data removed]",
      "text/plain": [
       "<matplotlib.figure.Figure at 0x10df06350>"
      ]
     },
     "metadata": {},
     "output_type": "display_data"
    },
    {
     "data": {
      "image/png": "[encoded data removed]",
      "text/plain": [
       "<matplotlib.figure.Figure at 0x10e089e50>"
      ]
     },
     "metadata": {},
     "output_type": "display_data"
    },
    {
     "data": {
      "image/png": "[encoded data removed]",
      "text/plain": [
       "<matplotlib.figure.Figure at 0x10e234090>"
      ]
     },
     "metadata": {},
     "output_type": "display_data"
    },
    {
     "data": {
      "image/png": "[encoded data removed]",
      "text/plain": [
       "<matplotlib.figure.Figure at 0x10e089ed0>"
      ]
     },
     "metadata": {},
     "output_type": "display_data"
    },
    {
     "data": {
      "image/png": "[encoded data removed]",
      "text/plain": [
       "<matplotlib.figure.Figure at 0x10e077d90>"
      ]
     },
     "metadata": {},
     "output_type": "display_data"
    },
    {
     "data": {
      "image/png": "[encoded data removed]",
      "text/plain": [
       "<matplotlib.figure.Figure at 0x10e220b10>"
      ]
     },
     "metadata": {},
     "output_type": "display_data"
    }
   ],
   "source": [
    "axis = 2\n",
    "\n",
    "velocities = track[1:,axis]-track[:-1,axis] \n",
    "\n",
    "same_window = 5\n",
    "\n",
    "switch_points = set([])\n",
    "switch_points |= set(zero_crossings(velocities))\n",
    "for w in range(1,6):\n",
    "    smoothed = scipy.ndimage.filters.convolve1d(velocities, np.ones(w)/w)\n",
    "    #print smoothed\n",
    "    plt.plot(smoothed)\n",
    "    \n",
    "    points = samey_intervals(smoothed,t_window=same_window)\n",
    "    plt.plot(np.array(points),smoothed[np.array(points,dtype='int')],'rx')\n",
    "    plt.show()\n",
    "    switch_points |= set(points)\n",
    "\n",
    "\n",
    "velocity_times = sorted(switch_points)\n",
    "\n",
    "plt.plot(velocities)\n",
    "plt.show()\n",
    "\n",
    "plt.plot(track[:,2])\n",
    "plt.plot(np.array(velocity_times),track[np.array(velocity_times,dtype='int'),2],'rx')\n",
    "plt.show()\n"
   ]
  },
  {
   "cell_type": "code",
   "execution_count": 8,
   "metadata": {
    "collapsed": false,
    "scrolled": true
   },
   "outputs": [
    {
     "data": {
      "image/png": "[encoded data removed]",
      "text/plain": [
       "<matplotlib.figure.Figure at 0x10decf5d0>"
      ]
     },
     "metadata": {},
     "output_type": "display_data"
    }
   ],
   "source": [
    "def button_change_times(button_masks):\n",
    "    last_mask = 0\n",
    "    mask_times = []\n",
    "    for t, b in enumerate(button_masks):\n",
    "        if b != last_mask:\n",
    "            mask_times.append(t)\n",
    "            last_mask = b\n",
    "    return mask_times\n",
    "\n",
    "button_times = button_change_times(track[:,3])\n",
    "\n",
    "plt.plot(track[:,2])\n",
    "plt.plot(np.array(button_times),track[np.array(button_times,dtype='int'),2],'rx')\n",
    "plt.show()"
   ]
  },
  {
   "cell_type": "code",
   "execution_count": 9,
   "metadata": {
    "collapsed": true
   },
   "outputs": [],
   "source": [
    "# Templates is an array of model-generating functions of increasing complexity.\n",
    "templates = [\n",
    "    # Constant 0 velocity\n",
    "    (\"c0\",lambda n,axis,vs,pv: pm.Normal(\n",
    "        n, \n",
    "        mu=0,\n",
    "        sd=pm.HalfCauchy(n+\"_err\",beta=10),\n",
    "        observed=vs[:,axis]\n",
    "    )),\n",
    "    # Constant velocity from old value\n",
    "    (\"cP\",lambda n,axis,vs,pv: pm.Normal(\n",
    "        n,\n",
    "        mu=pv,\n",
    "        sd=pm.HalfCauchy(n+\"_err\",beta=10),\n",
    "        observed=vs[:,axis]\n",
    "    )),\n",
    "    # Fixed constant velocity\n",
    "    (\"cN\",lambda n,axis,vs,pv: pm.Normal(\n",
    "        n,\n",
    "        mu=pm.Normal(n+\"_N\",mu=0,sd=10),\n",
    "        sd=pm.HalfCauchy(n+\"_err\",beta=10),\n",
    "        observed=vs[:,axis]\n",
    "    )),\n",
    "    # Constant acceleration from 0\n",
    "    (\"acc0\",lambda n,axis,vs,pv: pm.Normal(\n",
    "        n,\n",
    "        mu=pm.Normal(n+\"_acc\",mu=0,sd=10)*vs[:,0],\n",
    "        sd=pm.HalfCauchy(n+\"_err\",beta=10),\n",
    "        observed=vs[:,axis]\n",
    "    )),\n",
    "    # Constant acceleration from old velocity value\n",
    "    (\"accP\",lambda n,axis,vs,pv: pm.Normal(\n",
    "        n,\n",
    "        mu=pv+pm.Normal(n+\"_acc\",mu=0,sd=10)*vs[:,0],\n",
    "        sd=pm.HalfCauchy(n+\"_err\",beta=10),\n",
    "        observed=vs[:,axis]\n",
    "    )),\n",
    "    # Constant acceleration from fixed constant velocity\n",
    "    (\"accN\",lambda n,axis,vs,pv: pm.Normal(\n",
    "        n,\n",
    "        mu=pm.Normal(n+\"_N\",mu=0,sd=10)+pm.Normal(n+\"_acc\",mu=0,sd=20)*vs[:,0],\n",
    "        sd=pm.HalfCauchy(n+\"_err\",beta=10),\n",
    "        observed=vs[:,axis]\n",
    "    )),\n",
    "]\n",
    "templates = templates"
   ]
  },
  {
   "cell_type": "code",
   "execution_count": 10,
   "metadata": {
    "collapsed": true
   },
   "outputs": [],
   "source": [
    "def model_template_generate(template_i, axis, segment, prev_val):\n",
    "    axisNames = [None,\"x\",\"y\"]\n",
    "    template = templates[template_i]\n",
    "    (tn, t) = template\n",
    "    with pm.Model() as model:\n",
    "        lik = t(axisNames[axis],axis,segment,prev_val)\n",
    "        step = pm.Metropolis()\n",
    "        trace = pm.sample(5000, step, progressbar=False)\n",
    "        subtrace = trace[len(trace)/2:-1:10]\n",
    "    return (tn,model,subtrace)"
   ]
  },
  {
   "cell_type": "code",
   "execution_count": 11,
   "metadata": {
    "collapsed": false
   },
   "outputs": [],
   "source": [
    "def model_set_generate(data):\n",
    "    track,all_times,axis,i,j = data\n",
    "    t0 = all_times[i]\n",
    "    t1 = all_times[j]\n",
    "    print \"go\",i,j,t0,t1\n",
    "    if t0 == 0:\n",
    "        segment = track[t0:t1]-np.concatenate(([track[t0]],track[t0:t1-1]))\n",
    "        prev_vel = 0\n",
    "    elif t0 == 1:\n",
    "        segment = track[t0:t1]-track[t0-1:t1-1]\n",
    "        prev_vel = 0\n",
    "    else:\n",
    "        #9,10,11 - 8,9,10\n",
    "        segment = track[t0:t1]-track[t0-1:t1-1]\n",
    "        prev_vel = track[t0-1,axis]-track[t0-2,axis]\n",
    "    result = map(\n",
    "        lambda ti: model_template_generate(ti, \n",
    "                                           axis,\n",
    "                                           segment,\n",
    "                                           prev_vel),\n",
    "        range(0,len(templates)))\n",
    "    return (i,j,t0,t1,result)"
   ]
  },
  {
   "cell_type": "code",
   "execution_count": 12,
   "metadata": {
    "collapsed": false
   },
   "outputs": [
    {
     "data": {
      "text/plain": [
       "array([[   1.,    3.,    0.,    0.],\n",
       "       [   1.,    2.,    0.,   -1.],\n",
       "       [   1.,    3.,    5.,    0.],\n",
       "       [   1.,    2.,    5., -128.]])"
      ]
     },
     "execution_count": 12,
     "metadata": {},
     "output_type": "execute_result"
    }
   ],
   "source": [
    "track[8:12]-track[7:11]"
   ]
  },
  {
   "cell_type": "code",
   "execution_count": 13,
   "metadata": {
    "collapsed": false,
    "scrolled": true
   },
   "outputs": [
    {
     "name": "stdout",
     "output_type": "stream",
     "text": [
      "go 0 1 0 6\n"
     ]
    },
    {
     "name": "stderr",
     "output_type": "stream",
     "text": [
      "Applied log-transform to y_err and added transformed y_err_log_ to model.\n",
      "Applied log-transform to y_err and added transformed y_err_log_ to model.\n",
      "Applied log-transform to y_err and added transformed y_err_log_ to model.\n",
      "Applied log-transform to y_err and added transformed y_err_log_ to model.\n",
      "Applied log-transform to y_err and added transformed y_err_log_ to model.\n",
      "Applied log-transform to y_err and added transformed y_err_log_ to model.\n",
      "Applied log-transform to y_err and added transformed y_err_log_ to model.\n"
     ]
    },
    {
     "name": "stdout",
     "output_type": "stream",
     "text": [
      "go 0 2 0 7\n"
     ]
    },
    {
     "name": "stderr",
     "output_type": "stream",
     "text": [
      "Applied log-transform to y_err and added transformed y_err_log_ to model.\n",
      "Applied log-transform to y_err and added transformed y_err_log_ to model.\n",
      "Applied log-transform to y_err and added transformed y_err_log_ to model.\n",
      "Applied log-transform to y_err and added transformed y_err_log_ to model.\n",
      "Applied log-transform to y_err and added transformed y_err_log_ to model.\n",
      "Applied log-transform to y_err and added transformed y_err_log_ to model.\n"
     ]
    },
    {
     "name": "stdout",
     "output_type": "stream",
     "text": [
      "go 0 3 0 8\n"
     ]
    },
    {
     "name": "stderr",
     "output_type": "stream",
     "text": [
      "Applied log-transform to y_err and added transformed y_err_log_ to model.\n",
      "Applied log-transform to y_err and added transformed y_err_log_ to model.\n",
      "Applied log-transform to y_err and added transformed y_err_log_ to model.\n",
      "Applied log-transform to y_err and added transformed y_err_log_ to model.\n",
      "Applied log-transform to y_err and added transformed y_err_log_ to model.\n",
      "Applied log-transform to y_err and added transformed y_err_log_ to model.\n"
     ]
    },
    {
     "name": "stdout",
     "output_type": "stream",
     "text": [
      "go 0 4 0 9\n"
     ]
    },
    {
     "name": "stderr",
     "output_type": "stream",
     "text": [
      "Applied log-transform to y_err and added transformed y_err_log_ to model.\n",
      "Applied log-transform to y_err and added transformed y_err_log_ to model.\n",
      "Applied log-transform to y_err and added transformed y_err_log_ to model.\n",
      "Applied log-transform to y_err and added transformed y_err_log_ to model.\n",
      "Applied log-transform to y_err and added transformed y_err_log_ to model.\n",
      "Applied log-transform to y_err and added transformed y_err_log_ to model.\n"
     ]
    },
    {
     "name": "stdout",
     "output_type": "stream",
     "text": [
      "go 0 5 0 11\n"
     ]
    },
    {
     "name": "stderr",
     "output_type": "stream",
     "text": [
      "Applied log-transform to y_err and added transformed y_err_log_ to model.\n",
      "Applied log-transform to y_err and added transformed y_err_log_ to model.\n",
      "Applied log-transform to y_err and added transformed y_err_log_ to model.\n",
      "Applied log-transform to y_err and added transformed y_err_log_ to model.\n",
      "Applied log-transform to y_err and added transformed y_err_log_ to model.\n",
      "Applied log-transform to y_err and added transformed y_err_log_ to model.\n"
     ]
    },
    {
     "name": "stdout",
     "output_type": "stream",
     "text": [
      "go 0 6 0 13\n"
     ]
    },
    {
     "name": "stderr",
     "output_type": "stream",
     "text": [
      "Applied log-transform to y_err and added transformed y_err_log_ to model.\n",
      "Applied log-transform to y_err and added transformed y_err_log_ to model.\n",
      "Applied log-transform to y_err and added transformed y_err_log_ to model.\n",
      "Applied log-transform to y_err and added transformed y_err_log_ to model.\n",
      "Applied log-transform to y_err and added transformed y_err_log_ to model.\n",
      "Applied log-transform to y_err and added transformed y_err_log_ to model.\n"
     ]
    },
    {
     "name": "stdout",
     "output_type": "stream",
     "text": [
      "go 0 7 0 17\n"
     ]
    },
    {
     "name": "stderr",
     "output_type": "stream",
     "text": [
      "Applied log-transform to y_err and added transformed y_err_log_ to model.\n",
      "Applied log-transform to y_err and added transformed y_err_log_ to model.\n",
      "Applied log-transform to y_err and added transformed y_err_log_ to model.\n",
      "Applied log-transform to y_err and added transformed y_err_log_ to model.\n",
      "Applied log-transform to y_err and added transformed y_err_log_ to model.\n",
      "Applied log-transform to y_err and added transformed y_err_log_ to model.\n"
     ]
    },
    {
     "name": "stdout",
     "output_type": "stream",
     "text": [
      "go 0 8 0 18\n"
     ]
    },
    {
     "name": "stderr",
     "output_type": "stream",
     "text": [
      "Applied log-transform to y_err and added transformed y_err_log_ to model.\n",
      "Applied log-transform to y_err and added transformed y_err_log_ to model.\n",
      "Applied log-transform to y_err and added transformed y_err_log_ to model.\n",
      "Applied log-transform to y_err and added transformed y_err_log_ to model.\n",
      "Applied log-transform to y_err and added transformed y_err_log_ to model.\n",
      "Applied log-transform to y_err and added transformed y_err_log_ to model.\n"
     ]
    },
    {
     "name": "stdout",
     "output_type": "stream",
     "text": [
      "go 0 9 0 20\n"
     ]
    },
    {
     "name": "stderr",
     "output_type": "stream",
     "text": [
      "Applied log-transform to y_err and added transformed y_err_log_ to model.\n",
      "Applied log-transform to y_err and added transformed y_err_log_ to model.\n",
      "Applied log-transform to y_err and added transformed y_err_log_ to model.\n",
      "Applied log-transform to y_err and added transformed y_err_log_ to model.\n",
      "Applied log-transform to y_err and added transformed y_err_log_ to model.\n",
      "Applied log-transform to y_err and added transformed y_err_log_ to model.\n"
     ]
    },
    {
     "name": "stdout",
     "output_type": "stream",
     "text": [
      "go 1 2 6 7\n"
     ]
    },
    {
     "name": "stderr",
     "output_type": "stream",
     "text": [
      "Applied log-transform to y_err and added transformed y_err_log_ to model.\n",
      "Applied log-transform to y_err and added transformed y_err_log_ to model.\n",
      "Applied log-transform to y_err and added transformed y_err_log_ to model.\n",
      "Applied log-transform to y_err and added transformed y_err_log_ to model.\n",
      "Applied log-transform to y_err and added transformed y_err_log_ to model.\n",
      "Applied log-transform to y_err and added transformed y_err_log_ to model.\n"
     ]
    },
    {
     "name": "stdout",
     "output_type": "stream",
     "text": [
      "go 1 3 6 8\n"
     ]
    },
    {
     "name": "stderr",
     "output_type": "stream",
     "text": [
      "Applied log-transform to y_err and added transformed y_err_log_ to model.\n",
      "Applied log-transform to y_err and added transformed y_err_log_ to model.\n",
      "Applied log-transform to y_err and added transformed y_err_log_ to model.\n",
      "Applied log-transform to y_err and added transformed y_err_log_ to model.\n",
      "Applied log-transform to y_err and added transformed y_err_log_ to model.\n",
      "Applied log-transform to y_err and added transformed y_err_log_ to model.\n"
     ]
    },
    {
     "name": "stdout",
     "output_type": "stream",
     "text": [
      "go 1 4 6 9\n"
     ]
    },
    {
     "name": "stderr",
     "output_type": "stream",
     "text": [
      "Applied log-transform to y_err and added transformed y_err_log_ to model.\n",
      "Applied log-transform to y_err and added transformed y_err_log_ to model.\n",
      "Applied log-transform to y_err and added transformed y_err_log_ to model.\n",
      "Applied log-transform to y_err and added transformed y_err_log_ to model.\n",
      "Applied log-transform to y_err and added transformed y_err_log_ to model.\n",
      "Applied log-transform to y_err and added transformed y_err_log_ to model.\n"
     ]
    },
    {
     "name": "stdout",
     "output_type": "stream",
     "text": [
      "go 1 5 6 11\n"
     ]
    },
    {
     "name": "stderr",
     "output_type": "stream",
     "text": [
      "Applied log-transform to y_err and added transformed y_err_log_ to model.\n",
      "Applied log-transform to y_err and added transformed y_err_log_ to model.\n",
      "Applied log-transform to y_err and added transformed y_err_log_ to model.\n",
      "Applied log-transform to y_err and added transformed y_err_log_ to model.\n",
      "Applied log-transform to y_err and added transformed y_err_log_ to model.\n",
      "Applied log-transform to y_err and added transformed y_err_log_ to model.\n"
     ]
    },
    {
     "name": "stdout",
     "output_type": "stream",
     "text": [
      "go 1 6 6 13\n"
     ]
    },
    {
     "name": "stderr",
     "output_type": "stream",
     "text": [
      "Applied log-transform to y_err and added transformed y_err_log_ to model.\n",
      "Applied log-transform to y_err and added transformed y_err_log_ to model.\n",
      "Applied log-transform to y_err and added transformed y_err_log_ to model.\n",
      "Applied log-transform to y_err and added transformed y_err_log_ to model.\n",
      "Applied log-transform to y_err and added transformed y_err_log_ to model.\n",
      "Applied log-transform to y_err and added transformed y_err_log_ to model.\n"
     ]
    },
    {
     "name": "stdout",
     "output_type": "stream",
     "text": [
      "go 1 7 6 17\n"
     ]
    },
    {
     "name": "stderr",
     "output_type": "stream",
     "text": [
      "Applied log-transform to y_err and added transformed y_err_log_ to model.\n",
      "Applied log-transform to y_err and added transformed y_err_log_ to model.\n",
      "Applied log-transform to y_err and added transformed y_err_log_ to model.\n",
      "Applied log-transform to y_err and added transformed y_err_log_ to model.\n",
      "Applied log-transform to y_err and added transformed y_err_log_ to model.\n",
      "Applied log-transform to y_err and added transformed y_err_log_ to model.\n"
     ]
    },
    {
     "name": "stdout",
     "output_type": "stream",
     "text": [
      "go 1 8 6 18\n"
     ]
    },
    {
     "name": "stderr",
     "output_type": "stream",
     "text": [
      "Applied log-transform to y_err and added transformed y_err_log_ to model.\n",
      "Applied log-transform to y_err and added transformed y_err_log_ to model.\n",
      "Applied log-transform to y_err and added transformed y_err_log_ to model.\n",
      "Applied log-transform to y_err and added transformed y_err_log_ to model.\n",
      "Applied log-transform to y_err and added transformed y_err_log_ to model.\n",
      "Applied log-transform to y_err and added transformed y_err_log_ to model.\n"
     ]
    },
    {
     "name": "stdout",
     "output_type": "stream",
     "text": [
      "go 1 9 6 20\n"
     ]
    },
    {
     "name": "stderr",
     "output_type": "stream",
     "text": [
      "Applied log-transform to y_err and added transformed y_err_log_ to model.\n",
      "Applied log-transform to y_err and added transformed y_err_log_ to model.\n",
      "Applied log-transform to y_err and added transformed y_err_log_ to model.\n",
      "Applied log-transform to y_err and added transformed y_err_log_ to model.\n",
      "Applied log-transform to y_err and added transformed y_err_log_ to model.\n",
      "Applied log-transform to y_err and added transformed y_err_log_ to model.\n"
     ]
    },
    {
     "name": "stdout",
     "output_type": "stream",
     "text": [
      "go 2 3 7 8\n"
     ]
    },
    {
     "name": "stderr",
     "output_type": "stream",
     "text": [
      "Applied log-transform to y_err and added transformed y_err_log_ to model.\n",
      "Applied log-transform to y_err and added transformed y_err_log_ to model.\n",
      "Applied log-transform to y_err and added transformed y_err_log_ to model.\n",
      "Applied log-transform to y_err and added transformed y_err_log_ to model.\n",
      "Applied log-transform to y_err and added transformed y_err_log_ to model.\n",
      "Applied log-transform to y_err and added transformed y_err_log_ to model.\n"
     ]
    },
    {
     "name": "stdout",
     "output_type": "stream",
     "text": [
      "go 2 4 7 9\n"
     ]
    },
    {
     "name": "stderr",
     "output_type": "stream",
     "text": [
      "Applied log-transform to y_err and added transformed y_err_log_ to model.\n",
      "Applied log-transform to y_err and added transformed y_err_log_ to model.\n",
      "Applied log-transform to y_err and added transformed y_err_log_ to model.\n",
      "Applied log-transform to y_err and added transformed y_err_log_ to model.\n",
      "Applied log-transform to y_err and added transformed y_err_log_ to model.\n",
      "Applied log-transform to y_err and added transformed y_err_log_ to model.\n"
     ]
    },
    {
     "name": "stdout",
     "output_type": "stream",
     "text": [
      "go 2 5 7 11\n"
     ]
    },
    {
     "name": "stderr",
     "output_type": "stream",
     "text": [
      "Applied log-transform to y_err and added transformed y_err_log_ to model.\n",
      "Applied log-transform to y_err and added transformed y_err_log_ to model.\n",
      "Applied log-transform to y_err and added transformed y_err_log_ to model.\n",
      "Applied log-transform to y_err and added transformed y_err_log_ to model.\n",
      "Applied log-transform to y_err and added transformed y_err_log_ to model.\n",
      "Applied log-transform to y_err and added transformed y_err_log_ to model.\n"
     ]
    },
    {
     "name": "stdout",
     "output_type": "stream",
     "text": [
      "go 2 6 7 13\n"
     ]
    },
    {
     "name": "stderr",
     "output_type": "stream",
     "text": [
      "Applied log-transform to y_err and added transformed y_err_log_ to model.\n",
      "Applied log-transform to y_err and added transformed y_err_log_ to model.\n",
      "Applied log-transform to y_err and added transformed y_err_log_ to model.\n",
      "Applied log-transform to y_err and added transformed y_err_log_ to model.\n",
      "Applied log-transform to y_err and added transformed y_err_log_ to model.\n",
      "Applied log-transform to y_err and added transformed y_err_log_ to model.\n"
     ]
    },
    {
     "name": "stdout",
     "output_type": "stream",
     "text": [
      "go 2 7 7 17\n"
     ]
    },
    {
     "name": "stderr",
     "output_type": "stream",
     "text": [
      "Applied log-transform to y_err and added transformed y_err_log_ to model.\n",
      "Applied log-transform to y_err and added transformed y_err_log_ to model.\n",
      "Applied log-transform to y_err and added transformed y_err_log_ to model.\n",
      "Applied log-transform to y_err and added transformed y_err_log_ to model.\n",
      "Applied log-transform to y_err and added transformed y_err_log_ to model.\n",
      "Applied log-transform to y_err and added transformed y_err_log_ to model.\n"
     ]
    },
    {
     "name": "stdout",
     "output_type": "stream",
     "text": [
      "go 2 8 7 18\n"
     ]
    },
    {
     "name": "stderr",
     "output_type": "stream",
     "text": [
      "Applied log-transform to y_err and added transformed y_err_log_ to model.\n",
      "Applied log-transform to y_err and added transformed y_err_log_ to model.\n",
      "Applied log-transform to y_err and added transformed y_err_log_ to model.\n",
      "Applied log-transform to y_err and added transformed y_err_log_ to model.\n",
      "Applied log-transform to y_err and added transformed y_err_log_ to model.\n",
      "Applied log-transform to y_err and added transformed y_err_log_ to model.\n"
     ]
    },
    {
     "name": "stdout",
     "output_type": "stream",
     "text": [
      "go 2 9 7 20\n"
     ]
    },
    {
     "name": "stderr",
     "output_type": "stream",
     "text": [
      "Applied log-transform to y_err and added transformed y_err_log_ to model.\n",
      "Applied log-transform to y_err and added transformed y_err_log_ to model.\n",
      "Applied log-transform to y_err and added transformed y_err_log_ to model.\n",
      "Applied log-transform to y_err and added transformed y_err_log_ to model.\n",
      "Applied log-transform to y_err and added transformed y_err_log_ to model.\n",
      "Applied log-transform to y_err and added transformed y_err_log_ to model.\n"
     ]
    },
    {
     "name": "stdout",
     "output_type": "stream",
     "text": [
      "go 3 4 8 9\n",
      "(1, 4) seg: [[ 1.  3.  0.  0.]] pv: 0.0 ax: 2\n"
     ]
    },
    {
     "name": "stderr",
     "output_type": "stream",
     "text": [
      "Applied log-transform to y_err and added transformed y_err_log_ to model.\n",
      "Applied log-transform to y_err and added transformed y_err_log_ to model.\n",
      "Applied log-transform to y_err and added transformed y_err_log_ to model.\n",
      "Applied log-transform to y_err and added transformed y_err_log_ to model.\n",
      "Applied log-transform to y_err and added transformed y_err_log_ to model.\n",
      "Applied log-transform to y_err and added transformed y_err_log_ to model.\n"
     ]
    },
    {
     "name": "stdout",
     "output_type": "stream",
     "text": [
      "go 3 5 8 11\n"
     ]
    },
    {
     "name": "stderr",
     "output_type": "stream",
     "text": [
      "Applied log-transform to y_err and added transformed y_err_log_ to model.\n",
      "Applied log-transform to y_err and added transformed y_err_log_ to model.\n",
      "Applied log-transform to y_err and added transformed y_err_log_ to model.\n",
      "Applied log-transform to y_err and added transformed y_err_log_ to model.\n",
      "Applied log-transform to y_err and added transformed y_err_log_ to model.\n",
      "Applied log-transform to y_err and added transformed y_err_log_ to model.\n"
     ]
    },
    {
     "name": "stdout",
     "output_type": "stream",
     "text": [
      "go 3 6 8 13\n"
     ]
    },
    {
     "name": "stderr",
     "output_type": "stream",
     "text": [
      "Applied log-transform to y_err and added transformed y_err_log_ to model.\n",
      "Applied log-transform to y_err and added transformed y_err_log_ to model.\n",
      "Applied log-transform to y_err and added transformed y_err_log_ to model.\n",
      "Applied log-transform to y_err and added transformed y_err_log_ to model.\n",
      "Applied log-transform to y_err and added transformed y_err_log_ to model.\n",
      "Applied log-transform to y_err and added transformed y_err_log_ to model.\n"
     ]
    },
    {
     "name": "stdout",
     "output_type": "stream",
     "text": [
      "go 3 7 8 17\n"
     ]
    },
    {
     "name": "stderr",
     "output_type": "stream",
     "text": [
      "Applied log-transform to y_err and added transformed y_err_log_ to model.\n",
      "Applied log-transform to y_err and added transformed y_err_log_ to model.\n",
      "Applied log-transform to y_err and added transformed y_err_log_ to model.\n",
      "Applied log-transform to y_err and added transformed y_err_log_ to model.\n",
      "Applied log-transform to y_err and added transformed y_err_log_ to model.\n",
      "Applied log-transform to y_err and added transformed y_err_log_ to model.\n"
     ]
    },
    {
     "name": "stdout",
     "output_type": "stream",
     "text": [
      "go 3 8 8 18\n"
     ]
    },
    {
     "name": "stderr",
     "output_type": "stream",
     "text": [
      "Applied log-transform to y_err and added transformed y_err_log_ to model.\n",
      "Applied log-transform to y_err and added transformed y_err_log_ to model.\n",
      "Applied log-transform to y_err and added transformed y_err_log_ to model.\n",
      "Applied log-transform to y_err and added transformed y_err_log_ to model.\n",
      "Applied log-transform to y_err and added transformed y_err_log_ to model.\n",
      "Applied log-transform to y_err and added transformed y_err_log_ to model.\n"
     ]
    },
    {
     "name": "stdout",
     "output_type": "stream",
     "text": [
      "go 3 9 8 20\n"
     ]
    },
    {
     "name": "stderr",
     "output_type": "stream",
     "text": [
      "Applied log-transform to y_err and added transformed y_err_log_ to model.\n",
      "Applied log-transform to y_err and added transformed y_err_log_ to model.\n",
      "Applied log-transform to y_err and added transformed y_err_log_ to model.\n",
      "Applied log-transform to y_err and added transformed y_err_log_ to model.\n",
      "Applied log-transform to y_err and added transformed y_err_log_ to model.\n",
      "Applied log-transform to y_err and added transformed y_err_log_ to model.\n"
     ]
    },
    {
     "name": "stdout",
     "output_type": "stream",
     "text": [
      "go 4 5 9 11\n"
     ]
    },
    {
     "name": "stderr",
     "output_type": "stream",
     "text": [
      "Applied log-transform to y_err and added transformed y_err_log_ to model.\n",
      "Applied log-transform to y_err and added transformed y_err_log_ to model.\n",
      "Applied log-transform to y_err and added transformed y_err_log_ to model.\n",
      "Applied log-transform to y_err and added transformed y_err_log_ to model.\n",
      "Applied log-transform to y_err and added transformed y_err_log_ to model.\n",
      "Applied log-transform to y_err and added transformed y_err_log_ to model.\n"
     ]
    },
    {
     "name": "stdout",
     "output_type": "stream",
     "text": [
      "go 4 6 9 13\n"
     ]
    },
    {
     "name": "stderr",
     "output_type": "stream",
     "text": [
      "Applied log-transform to y_err and added transformed y_err_log_ to model.\n",
      "Applied log-transform to y_err and added transformed y_err_log_ to model.\n",
      "Applied log-transform to y_err and added transformed y_err_log_ to model.\n",
      "Applied log-transform to y_err and added transformed y_err_log_ to model.\n",
      "Applied log-transform to y_err and added transformed y_err_log_ to model.\n",
      "Applied log-transform to y_err and added transformed y_err_log_ to model.\n"
     ]
    },
    {
     "name": "stdout",
     "output_type": "stream",
     "text": [
      "go 4 7 9 17\n"
     ]
    },
    {
     "name": "stderr",
     "output_type": "stream",
     "text": [
      "Applied log-transform to y_err and added transformed y_err_log_ to model.\n",
      "Applied log-transform to y_err and added transformed y_err_log_ to model.\n",
      "Applied log-transform to y_err and added transformed y_err_log_ to model.\n",
      "Applied log-transform to y_err and added transformed y_err_log_ to model.\n",
      "Applied log-transform to y_err and added transformed y_err_log_ to model.\n",
      "Applied log-transform to y_err and added transformed y_err_log_ to model.\n"
     ]
    },
    {
     "name": "stdout",
     "output_type": "stream",
     "text": [
      "go 4 8 9 18\n"
     ]
    },
    {
     "name": "stderr",
     "output_type": "stream",
     "text": [
      "Applied log-transform to y_err and added transformed y_err_log_ to model.\n",
      "Applied log-transform to y_err and added transformed y_err_log_ to model.\n",
      "Applied log-transform to y_err and added transformed y_err_log_ to model.\n",
      "Applied log-transform to y_err and added transformed y_err_log_ to model.\n",
      "Applied log-transform to y_err and added transformed y_err_log_ to model.\n",
      "Applied log-transform to y_err and added transformed y_err_log_ to model.\n"
     ]
    },
    {
     "name": "stdout",
     "output_type": "stream",
     "text": [
      "go 4 9 9 20\n"
     ]
    },
    {
     "name": "stderr",
     "output_type": "stream",
     "text": [
      "Applied log-transform to y_err and added transformed y_err_log_ to model.\n",
      "Applied log-transform to y_err and added transformed y_err_log_ to model.\n",
      "Applied log-transform to y_err and added transformed y_err_log_ to model.\n",
      "Applied log-transform to y_err and added transformed y_err_log_ to model.\n",
      "Applied log-transform to y_err and added transformed y_err_log_ to model.\n",
      "Applied log-transform to y_err and added transformed y_err_log_ to model.\n"
     ]
    },
    {
     "name": "stdout",
     "output_type": "stream",
     "text": [
      "go 5 6 11 13\n"
     ]
    },
    {
     "name": "stderr",
     "output_type": "stream",
     "text": [
      "Applied log-transform to y_err and added transformed y_err_log_ to model.\n",
      "Applied log-transform to y_err and added transformed y_err_log_ to model.\n",
      "Applied log-transform to y_err and added transformed y_err_log_ to model.\n",
      "Applied log-transform to y_err and added transformed y_err_log_ to model.\n",
      "Applied log-transform to y_err and added transformed y_err_log_ to model.\n",
      "Applied log-transform to y_err and added transformed y_err_log_ to model.\n"
     ]
    },
    {
     "name": "stdout",
     "output_type": "stream",
     "text": [
      "go 5 7 11 17\n"
     ]
    },
    {
     "name": "stderr",
     "output_type": "stream",
     "text": [
      "Applied log-transform to y_err and added transformed y_err_log_ to model.\n",
      "Applied log-transform to y_err and added transformed y_err_log_ to model.\n",
      "Applied log-transform to y_err and added transformed y_err_log_ to model.\n",
      "Applied log-transform to y_err and added transformed y_err_log_ to model.\n",
      "Applied log-transform to y_err and added transformed y_err_log_ to model.\n",
      "Applied log-transform to y_err and added transformed y_err_log_ to model.\n"
     ]
    },
    {
     "name": "stdout",
     "output_type": "stream",
     "text": [
      "go 5 8 11 18\n"
     ]
    },
    {
     "name": "stderr",
     "output_type": "stream",
     "text": [
      "Applied log-transform to y_err and added transformed y_err_log_ to model.\n",
      "Applied log-transform to y_err and added transformed y_err_log_ to model.\n",
      "Applied log-transform to y_err and added transformed y_err_log_ to model.\n",
      "Applied log-transform to y_err and added transformed y_err_log_ to model.\n",
      "Applied log-transform to y_err and added transformed y_err_log_ to model.\n",
      "Applied log-transform to y_err and added transformed y_err_log_ to model.\n"
     ]
    },
    {
     "name": "stdout",
     "output_type": "stream",
     "text": [
      "go 5 9 11 20\n"
     ]
    },
    {
     "name": "stderr",
     "output_type": "stream",
     "text": [
      "Applied log-transform to y_err and added transformed y_err_log_ to model.\n",
      "Applied log-transform to y_err and added transformed y_err_log_ to model.\n",
      "Applied log-transform to y_err and added transformed y_err_log_ to model.\n",
      "Applied log-transform to y_err and added transformed y_err_log_ to model.\n",
      "Applied log-transform to y_err and added transformed y_err_log_ to model.\n",
      "Applied log-transform to y_err and added transformed y_err_log_ to model.\n"
     ]
    },
    {
     "name": "stdout",
     "output_type": "stream",
     "text": [
      "go 6 7 13 17\n"
     ]
    },
    {
     "name": "stderr",
     "output_type": "stream",
     "text": [
      "Applied log-transform to y_err and added transformed y_err_log_ to model.\n",
      "Applied log-transform to y_err and added transformed y_err_log_ to model.\n",
      "Applied log-transform to y_err and added transformed y_err_log_ to model.\n",
      "Applied log-transform to y_err and added transformed y_err_log_ to model.\n",
      "Applied log-transform to y_err and added transformed y_err_log_ to model.\n",
      "Applied log-transform to y_err and added transformed y_err_log_ to model.\n"
     ]
    },
    {
     "name": "stdout",
     "output_type": "stream",
     "text": [
      "go 6 8 13 18\n"
     ]
    },
    {
     "name": "stderr",
     "output_type": "stream",
     "text": [
      "Applied log-transform to y_err and added transformed y_err_log_ to model.\n",
      "Applied log-transform to y_err and added transformed y_err_log_ to model.\n",
      "Applied log-transform to y_err and added transformed y_err_log_ to model.\n",
      "Applied log-transform to y_err and added transformed y_err_log_ to model.\n",
      "Applied log-transform to y_err and added transformed y_err_log_ to model.\n",
      "Applied log-transform to y_err and added transformed y_err_log_ to model.\n"
     ]
    },
    {
     "name": "stdout",
     "output_type": "stream",
     "text": [
      "go 6 9 13 20\n"
     ]
    },
    {
     "name": "stderr",
     "output_type": "stream",
     "text": [
      "Applied log-transform to y_err and added transformed y_err_log_ to model.\n",
      "Applied log-transform to y_err and added transformed y_err_log_ to model.\n",
      "Applied log-transform to y_err and added transformed y_err_log_ to model.\n",
      "Applied log-transform to y_err and added transformed y_err_log_ to model.\n",
      "Applied log-transform to y_err and added transformed y_err_log_ to model.\n",
      "Applied log-transform to y_err and added transformed y_err_log_ to model.\n"
     ]
    },
    {
     "name": "stdout",
     "output_type": "stream",
     "text": [
      "go 7 8 17 18\n"
     ]
    },
    {
     "name": "stderr",
     "output_type": "stream",
     "text": [
      "Applied log-transform to y_err and added transformed y_err_log_ to model.\n",
      "Applied log-transform to y_err and added transformed y_err_log_ to model.\n",
      "Applied log-transform to y_err and added transformed y_err_log_ to model.\n",
      "Applied log-transform to y_err and added transformed y_err_log_ to model.\n",
      "Applied log-transform to y_err and added transformed y_err_log_ to model.\n",
      "Applied log-transform to y_err and added transformed y_err_log_ to model.\n"
     ]
    },
    {
     "name": "stdout",
     "output_type": "stream",
     "text": [
      "go 7 9 17 20\n"
     ]
    },
    {
     "name": "stderr",
     "output_type": "stream",
     "text": [
      "Applied log-transform to y_err and added transformed y_err_log_ to model.\n",
      "Applied log-transform to y_err and added transformed y_err_log_ to model.\n",
      "Applied log-transform to y_err and added transformed y_err_log_ to model.\n",
      "Applied log-transform to y_err and added transformed y_err_log_ to model.\n",
      "Applied log-transform to y_err and added transformed y_err_log_ to model.\n",
      "Applied log-transform to y_err and added transformed y_err_log_ to model.\n"
     ]
    },
    {
     "name": "stdout",
     "output_type": "stream",
     "text": [
      "go 8 9 18 20\n"
     ]
    },
    {
     "name": "stderr",
     "output_type": "stream",
     "text": [
      "Applied log-transform to y_err and added transformed y_err_log_ to model.\n",
      "Applied log-transform to y_err and added transformed y_err_log_ to model.\n",
      "Applied log-transform to y_err and added transformed y_err_log_ to model.\n",
      "Applied log-transform to y_err and added transformed y_err_log_ to model.\n",
      "Applied log-transform to y_err and added transformed y_err_log_ to model.\n"
     ]
    },
    {
     "name": "stdout",
     "output_type": "stream",
     "text": [
      "Done!\n",
      "CPU times: user 20min 5s, sys: 14.1 s, total: 20min 19s\n",
      "Wall time: 38min 34s\n"
     ]
    }
   ],
   "source": [
    "%%time\n",
    "\n",
    "all_times = sorted(set(velocity_times + button_times))\n",
    "all_times = all_times[:10]#[:len(all_times)/4]\n",
    "likes = [None]*len(all_times)\n",
    "\n",
    "for i in range(0,len(all_times)):\n",
    "    likes[i] = [None]*len(all_times)\n",
    "    t0 = all_times[i]\n",
    "    js = map(model_set_generate,\n",
    "             map(lambda j:(track,all_times,axis,i,j),range(i+1, len(all_times))))\n",
    "    likes[i][i+1:len(all_times)] = js\n",
    "\n",
    "print \"Done!\""
   ]
  },
  {
   "cell_type": "code",
   "execution_count": 14,
   "metadata": {
    "collapsed": false,
    "scrolled": true
   },
   "outputs": [
    {
     "data": {
      "image/png": "[encoded data removed]",
      "text/plain": [
       "<matplotlib.figure.Figure at 0x129398750>"
      ]
     },
     "metadata": {},
     "output_type": "display_data"
    }
   ],
   "source": [
    "plt.plot(velocities[:all_times[-1]])\n",
    "plt.plot(np.array(all_times),velocities[np.array(all_times,dtype='int')],'rx')\n",
    "plt.show()"
   ]
  },
  {
   "cell_type": "code",
   "execution_count": 34,
   "metadata": {
    "collapsed": false,
    "scrolled": true
   },
   "outputs": [
    {
     "name": "stdout",
     "output_type": "stream",
     "text": [
      "0 1 0 6\n",
      "c0                 mean             sd       mc_error        hpd_2.5  \\\n",
      "y_err  9.216502e-155  1.968747e-155  9.336438e-157  7.461741e-155   \n",
      "\n",
      "            hpd_97.5  \n",
      "y_err  1.284496e-154  \n",
      "cP                 mean             sd       mc_error        hpd_2.5  \\\n",
      "y_err  9.340477e-155  2.275759e-155  1.071466e-156  7.459618e-155   \n",
      "\n",
      "            hpd_97.5  \n",
      "y_err  1.365971e-154  \n",
      "cN                mean            sd      mc_error       hpd_2.5      hpd_97.5\n",
      "y_N    1.380443e-31  1.494913e-30  1.417272e-31 -2.183515e-30  1.823892e-31\n",
      "y_err  4.329115e-31  2.126701e-30  2.056083e-31  4.537498e-54  2.608094e-30\n",
      "acc0                mean            sd      mc_error       hpd_2.5      hpd_97.5\n",
      "y_acc  2.198453e-28  3.285133e-27  3.011738e-28 -8.644964e-27  8.161643e-31\n",
      "y_err  8.491856e-28  3.787455e-27  3.662839e-28  4.175863e-52  6.732031e-27\n",
      "accP                mean            sd      mc_error       hpd_2.5      hpd_97.5\n",
      "y_acc  3.355199e-29  1.694849e-28  1.644513e-29 -1.525320e-29  2.376117e-30\n",
      "y_err  4.674823e-29  2.294952e-28  2.141711e-29  2.539526e-54  1.770057e-29\n",
      "accN                mean            sd      mc_error       hpd_2.5      hpd_97.5\n",
      "y_N    2.948382e-17  2.369725e-16  2.244860e-17 -3.850582e-17  6.615530e-16\n",
      "y_acc -3.474234e-17  2.512514e-16  2.448272e-17 -7.038994e-16  3.051318e-17\n",
      "y_err  4.857971e-17  1.557013e-16  1.477544e-17  2.310070e-28  4.172763e-16\n",
      "0 2 0 7\n",
      "c0                 mean             sd       mc_error        hpd_2.5  \\\n",
      "y_err  8.978565e-155  1.783698e-155  9.072814e-157  7.464383e-155   \n",
      "\n",
      "            hpd_97.5  \n",
      "y_err  1.266877e-154  \n",
      "cP                 mean             sd       mc_error        hpd_2.5  \\\n",
      "y_err  8.899109e-155  1.449947e-155  7.305892e-157  7.468855e-155   \n",
      "\n",
      "            hpd_97.5  \n",
      "y_err  1.186315e-154  \n",
      "cN                mean            sd      mc_error       hpd_2.5      hpd_97.5\n",
      "y_N   -8.264369e-31  4.295787e-30  3.590672e-31 -5.653591e-30  2.722445e-32\n",
      "y_err  1.012541e-30  5.431239e-30  4.255435e-31  4.198967e-55  6.222871e-30\n",
      "acc0                mean            sd      mc_error       hpd_2.5      hpd_97.5\n",
      "y_acc  1.468190e-30  7.779262e-30  7.442414e-31 -3.507354e-31  1.428843e-29\n",
      "y_err  1.823854e-30  8.990270e-30  8.636871e-31  2.746850e-52  1.027778e-29\n",
      "accP                mean            sd      mc_error       hpd_2.5      hpd_97.5\n",
      "y_acc -6.561955e-33  1.073051e-30  4.319841e-32 -1.044109e-30  8.740802e-31\n",
      "y_err  1.920789e-31  1.029790e-30  7.540151e-32  2.456038e-53  1.504133e-30\n",
      "accN                mean            sd      mc_error       hpd_2.5      hpd_97.5\n",
      "y_N    1.481803e-19  9.516216e-19  9.421907e-20 -7.705887e-21  2.525760e-19\n",
      "y_acc -1.644545e-19  9.446895e-19  9.250781e-20 -3.365828e-19  1.418075e-22\n",
      "y_err  8.296375e-20  4.877691e-19  4.693484e-20  3.158397e-30  1.639029e-19\n",
      "0 3 0 8\n",
      "c0                 mean             sd       mc_error        hpd_2.5  \\\n",
      "y_err  8.696453e-155  1.468409e-155  6.780579e-157  7.458408e-155   \n",
      "\n",
      "            hpd_97.5  \n",
      "y_err  1.133493e-154  \n",
      "cP                 mean             sd       mc_error        hpd_2.5  \\\n",
      "y_err  8.746459e-155  1.474975e-155  6.675659e-157  7.464625e-155   \n",
      "\n",
      "            hpd_97.5  \n",
      "y_err  1.145044e-154  \n",
      "cN                mean            sd      mc_error       hpd_2.5      hpd_97.5\n",
      "y_N   -6.243247e-30  4.135898e-29  3.910536e-30 -1.584157e-32  7.754923e-31\n",
      "y_err  7.575859e-30  4.777530e-29  4.527150e-30  4.506586e-53  1.164038e-30\n",
      "acc0                mean            sd      mc_error       hpd_2.5      hpd_97.5\n",
      "y_acc -5.787756e-28  3.256959e-27  3.188992e-28 -7.239848e-30  9.656211e-29\n",
      "y_err  6.559477e-28  3.773596e-27  3.557959e-28  3.071981e-49  1.083041e-28\n",
      "accP                mean            sd      mc_error       hpd_2.5      hpd_97.5\n",
      "y_acc -1.344027e-31  2.107343e-30  1.669214e-31 -1.937502e-31  1.546222e-30\n",
      "y_err  3.777677e-31  2.515738e-30  2.268347e-31  6.507115e-53  1.698739e-30\n",
      "accN                mean            sd      mc_error       hpd_2.5      hpd_97.5\n",
      "y_N   -4.531145e-16  1.429240e-15  1.418735e-16 -3.637492e-15  2.489584e-17\n",
      "y_acc  4.782330e-16  1.481955e-15  1.459341e-16 -4.222235e-17  3.309144e-15\n",
      "y_err  2.164791e-16  6.632049e-16  6.449795e-17  5.751422e-26  1.674207e-15\n",
      "0 4 0 9\n",
      "c0                 mean             sd       mc_error        hpd_2.5  \\\n",
      "y_err  8.561045e-155  1.324520e-155  6.298785e-157  7.458674e-155   \n",
      "\n",
      "            hpd_97.5  \n",
      "y_err  1.125522e-154  \n",
      "cP                 mean             sd       mc_error        hpd_2.5  \\\n",
      "y_err  8.540545e-155  1.282193e-155  5.789996e-157  7.460484e-155   \n",
      "\n",
      "            hpd_97.5  \n",
      "y_err  1.121811e-154  \n",
      "cN                mean            sd      mc_error       hpd_2.5      hpd_97.5\n",
      "y_N   -4.435942e-28  2.242309e-27  2.001333e-28 -5.134469e-27  1.161850e-27\n",
      "y_err  5.895589e-28  2.617643e-27  2.369139e-28  3.142091e-54  5.378655e-27\n",
      "acc0                mean            sd      mc_error       hpd_2.5      hpd_97.5\n",
      "y_acc -9.133192e-32  8.235739e-30  7.365819e-31 -9.636012e-31  2.748401e-29\n",
      "y_err  2.334636e-30  9.112575e-30  8.812207e-31  3.949981e-53  2.287900e-29\n",
      "accP                mean            sd      mc_error       hpd_2.5      hpd_97.5\n",
      "y_acc  4.120082e-27  3.393420e-26  2.356214e-27 -1.010625e-29  1.625758e-27\n",
      "y_err  6.799767e-27  4.576639e-26  3.867340e-27  4.166884e-49  1.794624e-27\n",
      "accN                mean            sd      mc_error       hpd_2.5      hpd_97.5\n",
      "y_N   -1.346812e-12  4.068059e-12  4.034582e-13 -7.958056e-12  4.787913e-15\n",
      "y_acc  1.436270e-12  4.345906e-12  4.306922e-13 -4.448073e-15  9.657357e-12\n",
      "y_err  5.527214e-13  1.686028e-12  1.609618e-13  3.346669e-22  3.930539e-12\n",
      "0 5 0 11\n",
      "c0            mean        sd  mc_error   hpd_2.5  hpd_97.5\n",
      "y_err  1.694591  0.408525  0.019383  1.049218  2.506702\n",
      "cP            mean        sd  mc_error   hpd_2.5  hpd_97.5\n",
      "y_err  1.712713  0.421783  0.018431  1.071726  2.586754\n",
      "cN            mean        sd  mc_error   hpd_2.5  hpd_97.5\n",
      "y_N    0.475122  0.518113  0.020063 -0.476816  1.529827\n",
      "y_err  1.704957  0.433536  0.020485  1.054795  2.496946\n",
      "acc0            mean        sd  mc_error   hpd_2.5  hpd_97.5\n",
      "y_acc  0.530134  0.592293  0.026558 -0.721055  1.611321\n",
      "y_err  1.722859  0.453605  0.022070  0.968537  2.653999\n",
      "accP            mean        sd  mc_error   hpd_2.5  hpd_97.5\n",
      "y_acc  0.522364  0.580138  0.026883 -0.666268  1.617675\n",
      "y_err  1.716066  0.474078  0.021256  0.993926  2.589104\n",
      "accN            mean        sd  mc_error   hpd_2.5  hpd_97.5\n",
      "y_N   -0.292073  1.471741  0.116645 -3.029702  2.443960\n",
      "y_acc  0.786298  1.586908  0.126385 -2.282817  4.082299\n",
      "y_err  1.786015  0.463461  0.022733  1.104305  2.759665\n",
      "0 6 0 13\n",
      "c0            mean        sd  mc_error   hpd_2.5  hpd_97.5\n",
      "y_err  2.668299  0.581373  0.024896  1.705738  3.828919\n",
      "cP            mean        sd  mc_error   hpd_2.5  hpd_97.5\n",
      "y_err  2.660421  0.583298  0.027176  1.773886  3.993762\n",
      "cN            mean        sd  mc_error   hpd_2.5  hpd_97.5\n",
      "y_N    1.159405  0.758838  0.037749 -0.283647  2.690116\n",
      "y_err  2.439495  0.618081  0.029325  1.377867  3.541375\n",
      "acc0            mean        sd  mc_error   hpd_2.5  hpd_97.5\n",
      "y_acc  1.238393  0.714035  0.030297 -0.050288  2.723359\n",
      "y_err  2.360295  0.526349  0.024734  1.514577  3.450286\n",
      "accP            mean        sd  mc_error   hpd_2.5  hpd_97.5\n",
      "y_acc  1.269611  0.680129  0.028035 -0.112906  2.535160\n",
      "y_err  2.380047  0.529863  0.023936  1.583400  3.513774\n",
      "accN            mean        sd  mc_error   hpd_2.5  hpd_97.5\n",
      "y_N    0.522336  2.437436  0.203992 -4.737078  5.132497\n",
      "y_acc  0.729489  2.612199  0.218981 -5.024826  5.337465\n",
      "y_err  2.530757  0.577889  0.031000  1.647685  3.740505\n",
      "0 7 0 17\n",
      "c0            mean        sd  mc_error   hpd_2.5  hpd_97.5\n",
      "y_err  3.162874  0.586831  0.027784  2.188022  4.214261\n",
      "cP            mean        sd  mc_error   hpd_2.5  hpd_97.5\n",
      "y_err  3.168991  0.604192  0.028038  2.144509  4.361329\n",
      "cN            mean        sd  mc_error   hpd_2.5  hpd_97.5\n",
      "y_N    1.853168  0.607642  0.026217  0.733256  3.104319\n",
      "y_err  2.578965  0.581991  0.030291  1.740317  3.596831\n",
      "acc0            mean        sd  mc_error   hpd_2.5  hpd_97.5\n",
      "y_acc  1.962076  0.622239  0.028821  0.883271  3.268791\n",
      "y_err  2.510422  0.489622  0.022414  1.740060  3.509374\n",
      "accP            mean        sd  mc_error   hpd_2.5  hpd_97.5\n",
      "y_acc  1.994098  0.620062  0.026148  0.675541  3.074245\n",
      "y_err  2.486975  0.457256  0.021351  1.715622  3.453751\n",
      "accN            mean        sd  mc_error   hpd_2.5  hpd_97.5\n",
      "y_N    0.312824  2.500492  0.221217 -4.244317  5.138240\n",
      "y_acc  1.699777  2.592508  0.232181 -3.661261  6.449296\n",
      "y_err  2.575309  0.497499  0.023983  1.722275  3.573919\n",
      "0 8 0 18\n",
      "c0            mean        sd  mc_error   hpd_2.5  hpd_97.5\n",
      "y_err  3.199554  0.596448  0.030276  2.328721  4.538251\n",
      "cP           mean        sd  mc_error   hpd_2.5  hpd_97.5\n",
      "y_err  3.21451  0.571158  0.025191  2.389728   4.61043\n",
      "cN            mean        sd  mc_error   hpd_2.5  hpd_97.5\n",
      "y_N    1.966799  0.620648  0.026447  0.759549  3.127602\n",
      "y_err  2.485084  0.461003  0.021346  1.759767  3.440976\n",
      "acc0            mean        sd  mc_error   hpd_2.5  hpd_97.5\n",
      "y_acc  2.137975  0.573637  0.027150  1.048767  3.324651\n",
      "y_err  2.458232  0.440651  0.019774  1.722635  3.316809\n",
      "accP            mean        sd  mc_error   hpd_2.5  hpd_97.5\n",
      "y_acc  2.124586  0.653762  0.030028  0.610449  3.180689\n",
      "y_err  2.481085  0.469981  0.020760  1.615885  3.335712\n",
      "accN            mean        sd  mc_error   hpd_2.5  hpd_97.5\n",
      "y_N    0.667567  2.415757  0.213928 -3.635040  6.022295\n",
      "y_acc  1.393581  2.476763  0.220498 -4.138596  6.005049\n",
      "y_err  2.506976  0.461512  0.023819  1.747082  3.480197\n",
      "0 9 0 20\n",
      "c0            mean        sd  mc_error   hpd_2.5  hpd_97.5\n",
      "y_err  3.254778  0.519406  0.020306  2.377279  4.308049\n",
      "cP            mean       sd  mc_error   hpd_2.5  hpd_97.5\n",
      "y_err  3.245905  0.54753  0.022261  2.351081  4.246423\n",
      "cN            mean        sd  mc_error   hpd_2.5  hpd_97.5\n",
      "y_N    2.172843  0.551942  0.024640  1.055925  3.235786\n",
      "y_err  2.449834  0.468354  0.021871  1.577211  3.446197\n",
      "acc0            mean        sd  mc_error   hpd_2.5  hpd_97.5\n",
      "y_acc  2.267472  0.548175  0.024917  1.188849  3.375380\n",
      "y_err  2.328153  0.387477  0.015302  1.627332  2.990057\n",
      "accP            mean        sd  mc_error   hpd_2.5  hpd_97.5\n",
      "y_acc  2.231848  0.541214  0.024117  1.133502  3.199965\n",
      "y_err  2.352715  0.450536  0.022473  1.575681  3.155041\n",
      "accN            mean        sd  mc_error   hpd_2.5  hpd_97.5\n",
      "y_N   -0.121059  2.558570  0.232986 -5.257149  5.190166\n",
      "y_acc  2.422371  2.613806  0.236995 -2.788983  7.941550\n",
      "y_err  2.467719  0.444958  0.022061  1.664542  3.325374\n",
      "1 2 6 7\n",
      "c0            mean        sd  mc_error        hpd_2.5  hpd_97.5\n",
      "y_err  0.103675  1.568325  0.069541  1.751283e-153  0.000001\n",
      "cP            mean        sd  mc_error        hpd_2.5      hpd_97.5\n",
      "y_err  0.012723  0.189412  0.008395  1.826757e-154  6.099638e-09\n",
      "cN            mean         sd  mc_error    hpd_2.5   hpd_97.5\n",
      "y_N    0.240599   5.815580  0.249777 -11.692845  12.487362\n",
      "y_err  9.900198  15.528879  0.759608   0.014160  30.130118\n",
      "acc0            mean         sd  mc_error    hpd_2.5   hpd_97.5\n",
      "y_acc -0.304618   5.942885  0.282775 -11.207066  12.756636\n",
      "y_err  9.366857  11.969407  0.507754   0.004487  30.602115\n",
      "accP            mean         sd  mc_error    hpd_2.5   hpd_97.5\n",
      "y_acc -0.048576   5.427992  0.248658 -11.967749  10.414250\n",
      "y_err  9.143593  14.953204  0.755350   0.039692  26.943508\n",
      "accN             mean         sd  mc_error    hpd_2.5   hpd_97.5\n",
      "y_N    -0.585260   9.257718  0.587491 -15.939456  17.703284\n",
      "y_acc  -0.483749  12.467837  0.776694 -20.625998  26.753667\n",
      "y_err  12.668112  19.414987  0.923823   0.025510  37.800974\n",
      "1 3 6 8\n",
      "c0                 mean             sd       mc_error        hpd_2.5  \\\n",
      "y_err  3.361829e-154  6.785418e-154  2.817841e-155  7.462590e-155   \n",
      "\n",
      "            hpd_97.5  \n",
      "y_err  1.134837e-153  \n",
      "cP                 mean             sd       mc_error        hpd_2.5  \\\n",
      "y_err  4.264963e-154  1.596855e-153  7.274721e-155  7.557580e-155   \n",
      "\n",
      "            hpd_97.5  \n",
      "y_err  1.165757e-153  \n",
      "cN            mean        sd  mc_error       hpd_2.5  hpd_97.5\n",
      "y_N    0.000004  0.000033  0.000003 -4.885252e-05  0.000061\n",
      "y_err  0.000112  0.001590  0.000075  1.660733e-10  0.000219\n",
      "acc0                mean            sd      mc_error       hpd_2.5      hpd_97.5\n",
      "y_acc  1.964306e-09  2.796944e-08  2.341877e-09 -3.555014e-09  1.081410e-08\n",
      "y_err  7.771717e-09  4.500130e-08  3.576503e-09  2.689040e-17  2.095118e-08\n",
      "accP            mean        sd  mc_error       hpd_2.5  hpd_97.5\n",
      "y_acc -0.000507  0.020015  0.001166 -8.797051e-03   0.03434\n",
      "y_err  0.017764  0.099935  0.005659  3.282935e-09   0.07452\n",
      "accN                mean            sd      mc_error       hpd_2.5      hpd_97.5\n",
      "y_N   -5.512164e+00  6.994505e-08  6.842104e-09 -5.512165e+00 -5.512164e+00\n",
      "y_acc  5.512164e+00  6.114808e-08  6.003807e-09  5.512164e+00  5.512165e+00\n",
      "y_err  7.237589e-08  7.099668e-07  4.485655e-08  8.398061e-13  1.222057e-07\n",
      "1 4 6 9\n",
      "c0                 mean             sd       mc_error        hpd_2.5  \\\n",
      "y_err  1.429327e-154  1.201351e-154  6.461552e-156  7.466290e-155   \n",
      "\n",
      "            hpd_97.5  \n",
      "y_err  3.202167e-154  \n",
      "cP                 mean             sd       mc_error        hpd_2.5  \\\n",
      "y_err  1.478684e-154  1.237569e-154  5.992189e-156  7.461272e-155   \n",
      "\n",
      "            hpd_97.5  \n",
      "y_err  3.431165e-154  \n",
      "cN                mean            sd      mc_error       hpd_2.5      hpd_97.5\n",
      "y_N    5.303318e-23  4.017460e-22  3.355306e-23 -2.457447e-23  5.356615e-22\n",
      "y_err  1.332269e-22  1.039802e-21  7.287339e-23  1.267061e-41  6.004016e-22\n",
      "acc0                mean            sd      mc_error       hpd_2.5      hpd_97.5\n",
      "y_acc  1.663384e-24  2.756143e-23  1.203633e-24 -3.140425e-24  3.035693e-24\n",
      "y_err  6.865350e-24  4.447810e-23  3.434124e-24  3.289706e-41  1.087734e-23\n",
      "accP                mean            sd      mc_error       hpd_2.5      hpd_97.5\n",
      "y_acc -6.069641e-22  1.350637e-20  5.690166e-22 -1.057642e-25  1.120150e-24\n",
      "y_err  2.169163e-21  4.256401e-20  2.122066e-21  6.998693e-45  1.708991e-24\n",
      "accN                 mean             sd       mc_error        hpd_2.5  \\\n",
      "y_N     2.533302e+00   4.440892e-16   4.440892e-17   2.533302e+00   \n",
      "y_acc  -2.533302e+00   4.440892e-16   4.440892e-17  -2.533302e+00   \n",
      "y_err  1.478920e-154  1.457469e-154  6.772911e-156  7.460566e-155   \n",
      "\n",
      "            hpd_97.5  \n",
      "y_N     2.533302e+00  \n",
      "y_acc  -2.533302e+00  \n",
      "y_err  3.422760e-154  \n",
      "1 5 6 11\n",
      "c0            mean        sd  mc_error   hpd_2.5  hpd_97.5\n",
      "y_err  2.994079  1.389107  0.068959  1.333201  5.502283\n",
      "cP            mean        sd  mc_error   hpd_2.5  hpd_97.5\n",
      "y_err  2.997377  1.754761  0.076285  1.393124  5.404661\n",
      "cN            mean        sd  mc_error   hpd_2.5  hpd_97.5\n",
      "y_N    1.046123  1.581189  0.077056 -2.208166  3.979439\n",
      "y_err  3.267213  1.557752  0.071792  1.132383  6.438766\n",
      "acc0            mean        sd  mc_error   hpd_2.5  hpd_97.5\n",
      "y_acc  1.066938  1.661569  0.063923 -2.243618  4.584303\n",
      "y_err  3.343699  1.903420  0.125394  1.214162  6.298295\n",
      "accP            mean        sd  mc_error   hpd_2.5  hpd_97.5\n",
      "y_acc  0.863103  1.481646  0.066221 -1.926024  4.041644\n",
      "y_err  3.231069  1.610160  0.075984  1.265102  6.085659\n",
      "accN            mean        sd  mc_error    hpd_2.5   hpd_97.5\n",
      "y_N   -0.116321  8.888246  0.843468 -17.513484  16.130964\n",
      "y_acc  1.095071  8.962769  0.849920 -17.862989  15.583367\n",
      "y_err  3.237995  1.534765  0.078016   1.211610   6.193808\n",
      "1 6 6 13\n",
      "c0           mean        sd  mc_error   hpd_2.5  hpd_97.5\n",
      "y_err  3.95936  1.264771  0.059378  1.938539   6.33629\n",
      "cP            mean        sd  mc_error   hpd_2.5  hpd_97.5\n",
      "y_err  3.858122  1.124623  0.048813  2.204445  5.986983\n",
      "cN            mean        sd  mc_error   hpd_2.5  hpd_97.5\n",
      "y_N    2.248399  1.475583  0.061420 -0.571028  5.022415\n",
      "y_err  3.345919  1.195634  0.061785  1.530325  5.426365\n",
      "acc0            mean        sd  mc_error   hpd_2.5  hpd_97.5\n",
      "y_acc  2.124691  1.327273  0.058314 -1.041883  4.325147\n",
      "y_err  3.374451  1.252065  0.058696  1.629572  5.540374\n",
      "accP            mean        sd  mc_error   hpd_2.5  hpd_97.5\n",
      "y_acc  2.130747  1.327770  0.059660 -0.196248  5.129762\n",
      "y_err  3.281619  1.163779  0.054066  1.615153  5.416391\n",
      "accN            mean        sd  mc_error    hpd_2.5   hpd_97.5\n",
      "y_N    8.500646  9.419381  0.913525 -11.075753  24.929613\n",
      "y_acc -6.475206  9.554048  0.924887 -23.356193  13.442038\n",
      "y_err  3.395794  1.298065  0.059234   1.744320   6.033315\n",
      "1 7 6 17\n",
      "c0            mean        sd  mc_error   hpd_2.5  hpd_97.5\n",
      "y_err  4.006924  0.930953  0.044113  2.559729  5.900663\n",
      "cP            mean        sd  mc_error   hpd_2.5  hpd_97.5\n",
      "y_err  4.074736  0.987013  0.044037  2.611797  6.125522\n",
      "cN            mean        sd  mc_error   hpd_2.5  hpd_97.5\n",
      "y_N    2.862447  0.881856  0.041095  1.024621  4.504065\n",
      "y_err  2.645616  0.706998  0.027965  1.392040  4.029272\n",
      "acc0            mean        sd  mc_error   hpd_2.5  hpd_97.5\n",
      "y_acc  2.827994  0.873470  0.038564  1.110368  4.610766\n",
      "y_err  2.678926  0.788165  0.037436  1.648366  4.220497\n",
      "accP            mean        sd  mc_error   hpd_2.5  hpd_97.5\n",
      "y_acc  2.953935  0.850063  0.037155  1.212990  4.531429\n",
      "y_err  2.668284  0.696667  0.034111  1.536426  3.855530\n",
      "accN            mean        sd  mc_error    hpd_2.5   hpd_97.5\n",
      "y_N    0.374152  5.295990  0.505026 -10.714402  10.012519\n",
      "y_acc  2.540530  5.322512  0.506311  -6.335333  14.611213\n",
      "y_err  2.664593  0.740660  0.034830   1.556440   4.119018\n",
      "1 8 6 18\n",
      "c0            mean        sd  mc_error   hpd_2.5  hpd_97.5\n",
      "y_err  4.036368  0.950911  0.046413  2.577127  5.935443\n",
      "cP            mean        sd  mc_error   hpd_2.5  hpd_97.5\n",
      "y_err  4.048703  0.922901  0.042852  2.537592  5.884098\n",
      "cN            mean        sd  mc_error   hpd_2.5  hpd_97.5\n",
      "y_N    3.035087  0.754487   0.03383  1.565571  4.490128\n",
      "y_err  2.545273  0.621607   0.02888  1.550612  3.875475\n",
      "acc0            mean        sd  mc_error   hpd_2.5  hpd_97.5\n",
      "y_acc  3.011184  0.766161  0.041160  1.565324  4.508803\n",
      "y_err  2.536549  0.649236  0.029639  1.481395  3.717012\n",
      "accP            mean        sd  mc_error   hpd_2.5  hpd_97.5\n",
      "y_acc  3.024825  0.791105  0.037238  1.525815  4.573486\n",
      "y_err  2.502972  0.594037  0.028882  1.594886  3.776205\n",
      "accN            mean        sd  mc_error   hpd_2.5   hpd_97.5\n",
      "y_N    0.750125  5.059498  0.483917 -7.564160  10.580438\n",
      "y_acc  2.269393  5.018887  0.479846 -8.053468  10.011456\n",
      "y_err  2.520869  0.603092  0.027887  1.509157   3.797476\n",
      "1 9 6 20\n",
      "c0            mean        sd  mc_error   hpd_2.5  hpd_97.5\n",
      "y_err  4.016379  0.879703  0.040531  2.723011  5.723123\n",
      "cP            mean        sd  mc_error   hpd_2.5  hpd_97.5\n",
      "y_err  4.048101  0.804539    0.0388  2.722146  5.886667\n",
      "cN            mean        sd  mc_error   hpd_2.5  hpd_97.5\n",
      "y_N    3.040573  0.696338  0.034016  1.556149  4.320848\n",
      "y_err  2.383733  0.531344  0.024739  1.550610  3.469987\n",
      "acc0            mean        sd  mc_error   hpd_2.5  hpd_97.5\n",
      "y_acc  3.079083  0.648303  0.029951  1.859518  4.303165\n",
      "y_err  2.301743  0.484477  0.021839  1.522223  3.199042\n",
      "accP            mean        sd  mc_error   hpd_2.5  hpd_97.5\n",
      "y_acc  3.067106  0.635915  0.028560  1.801247  4.237381\n",
      "y_err  2.351555  0.532667  0.025008  1.496077  3.431159\n",
      "accN            mean        sd  mc_error    hpd_2.5   hpd_97.5\n",
      "y_N   -3.549700  5.476831  0.533767 -11.711053   9.057703\n",
      "y_acc  6.640114  5.509700  0.538189  -5.127188  15.667806\n",
      "y_err  2.301231  0.516616  0.024262   1.386093   3.232343\n",
      "2 3 7 8\n",
      "c0            mean        sd  mc_error        hpd_2.5      hpd_97.5\n",
      "y_err  0.033426  0.530019  0.023514  1.784361e-154  2.521400e-07\n",
      "cP            mean        sd  mc_error        hpd_2.5      hpd_97.5\n",
      "y_err  0.020217  0.206853  0.009085  9.433054e-155  1.481901e-07\n",
      "cN            mean         sd  mc_error    hpd_2.5   hpd_97.5\n",
      "y_N    0.303422   6.175861  0.263684 -11.746480  12.884120\n",
      "y_err  9.933787  16.348224  0.754482   0.036779  28.566189\n",
      "acc0             mean         sd  mc_error    hpd_2.5   hpd_97.5\n",
      "y_acc   0.126903   6.098674  0.256182 -10.365771  16.397114\n",
      "y_err  11.629980  20.190445  1.117048   0.021273  36.794055\n",
      "accP             mean         sd  mc_error    hpd_2.5   hpd_97.5\n",
      "y_acc  -0.088747   6.013244  0.259596 -12.220372  11.879103\n",
      "y_err  10.622759  16.863441  0.763825   0.028783  35.451634\n",
      "accN             mean         sd  mc_error    hpd_2.5   hpd_97.5\n",
      "y_N    -0.695621   9.044502  0.565097 -17.851403  17.091089\n",
      "y_acc   0.227140  12.091605  0.674359 -23.451728  25.026880\n",
      "y_err  12.438381  21.601790  1.061188   0.084173  39.908654\n",
      "2 4 7 9\n",
      "c0                 mean             sd       mc_error        hpd_2.5  \\\n",
      "y_err  6.441084e-154  4.332314e-153  1.977431e-154  7.490589e-155   \n",
      "\n",
      "            hpd_97.5  \n",
      "y_err  1.496268e-153  \n",
      "cP                 mean             sd       mc_error        hpd_2.5  \\\n",
      "y_err  6.051430e-154  3.582456e-153  1.576413e-154  7.475590e-155   \n",
      "\n",
      "            hpd_97.5  \n",
      "y_err  1.255900e-153  \n",
      "cN            mean        sd  mc_error       hpd_2.5  hpd_97.5\n",
      "y_N    0.000002  0.000033  0.000002 -8.119792e-05  0.000044\n",
      "y_err  0.000073  0.000493  0.000025  1.163581e-08  0.000287\n",
      "acc0                mean        sd  mc_error       hpd_2.5      hpd_97.5\n",
      "y_acc -7.168115e-07  0.000024  0.000002 -9.828261e-07  7.990216e-07\n",
      "y_err  6.050395e-06  0.000046  0.000003  2.778883e-13  6.402244e-06\n",
      "accP            mean        sd  mc_error       hpd_2.5  hpd_97.5\n",
      "y_acc  0.004566  0.023647  0.002191 -2.336472e-02  0.055872\n",
      "y_err  0.036863  0.197572  0.012382  2.551246e-07  0.135275\n",
      "accN             mean        sd  mc_error       hpd_2.5   hpd_97.5\n",
      "y_N    13.166008  0.137270  0.013222  1.301668e+01  13.448876\n",
      "y_acc -13.161235  0.130448  0.012509 -1.339242e+01 -12.981617\n",
      "y_err   0.084409  0.340872  0.020015  5.977446e-07   0.466656\n",
      "2 5 7 11\n",
      "c0          mean        sd  mc_error   hpd_2.5  hpd_97.5\n",
      "y_err  3.6974  2.091385  0.094544  1.329452  7.964381\n",
      "cP            mean        sd  mc_error   hpd_2.5  hpd_97.5\n",
      "y_err  3.605565  1.932668  0.084216  1.365993  6.840918\n",
      "cN            mean        sd  mc_error   hpd_2.5  hpd_97.5\n",
      "y_N    1.041295  2.237222  0.100501 -2.865027  6.300942\n",
      "y_err  4.115741  2.500034  0.110078  1.190242  9.047539\n",
      "acc0            mean        sd  mc_error   hpd_2.5  hpd_97.5\n",
      "y_acc  1.128696  2.701987  0.116037 -3.865979  6.507315\n",
      "y_err  3.972119  3.038395  0.136393  1.134975  9.064242\n",
      "accP            mean        sd  mc_error   hpd_2.5  hpd_97.5\n",
      "y_acc  1.231641  2.071307  0.103452 -2.871450  5.114664\n",
      "y_err  3.814520  2.494899  0.113620  1.223886  8.316158\n",
      "accN            mean        sd  mc_error    hpd_2.5   hpd_97.5\n",
      "y_N   -2.398305  7.876991  0.704013 -17.185913  12.489322\n",
      "y_acc  3.537263  7.846252  0.700023 -12.768534  16.819964\n",
      "y_err  3.870117  2.459036  0.130484   0.989287   8.422117\n",
      "2 6 7 13\n",
      "c0            mean        sd  mc_error   hpd_2.5  hpd_97.5\n",
      "y_err  4.289296  1.402858   0.06103  2.148051  7.033567\n",
      "cP            mean        sd  mc_error   hpd_2.5  hpd_97.5\n",
      "y_err  4.275059  1.478179  0.065291  2.154057  7.161367\n",
      "cN            mean        sd  mc_error   hpd_2.5  hpd_97.5\n",
      "y_N    2.361356  1.616540  0.070926 -0.375351  5.921767\n",
      "y_err  3.616425  1.627656  0.084011  1.536920  6.695333\n",
      "acc0            mean        sd  mc_error   hpd_2.5  hpd_97.5\n",
      "y_acc  2.374608  1.526258  0.067742 -0.790206  5.287843\n",
      "y_err  3.602925  1.537364  0.074054  1.576847  6.436627\n",
      "accP            mean        sd  mc_error   hpd_2.5  hpd_97.5\n",
      "y_acc  2.573956  1.496060  0.072468 -0.062042  6.140811\n",
      "y_err  3.610237  1.499879  0.066294  1.542143  6.755108\n",
      "accN            mean        sd  mc_error    hpd_2.5   hpd_97.5\n",
      "y_N   -0.930033  7.150927  0.663082 -14.527676  11.135250\n",
      "y_acc  3.250597  7.246409  0.673168  -8.342483  17.118740\n",
      "y_err  3.507057  1.430067  0.064315   1.621640   6.449874\n",
      "2 7 7 17\n",
      "c0            mean        sd  mc_error   hpd_2.5  hpd_97.5\n",
      "y_err  4.416349  1.160261  0.051897  2.676936  6.854787\n",
      "cP            mean        sd  mc_error   hpd_2.5  hpd_97.5\n",
      "y_err  4.369326  1.120137  0.048634  2.373689  6.529891\n",
      "cN            mean        sd  mc_error   hpd_2.5  hpd_97.5\n",
      "y_N    3.180471  0.822074  0.038881  1.617712  4.718649\n",
      "y_err  2.662344  0.718956  0.032771  1.489464  4.199925\n",
      "acc0            mean        sd  mc_error   hpd_2.5  hpd_97.5\n",
      "y_acc  3.144913  0.832319  0.037986  1.566750  4.784200\n",
      "y_err  2.610252  0.692662  0.032919  1.410007  3.961465\n",
      "accP            mean        sd  mc_error   hpd_2.5  hpd_97.5\n",
      "y_acc  3.139578  0.832255  0.031409  1.636416  4.885326\n",
      "y_err  2.632939  0.822028  0.037999  1.510173  4.269890\n",
      "accN            mean        sd  mc_error    hpd_2.5   hpd_97.5\n",
      "y_N   -2.450506  7.098728  0.693418 -20.342638   7.571458\n",
      "y_acc  5.673892  7.077997  0.691083  -4.840067  23.152292\n",
      "y_err  2.640251  0.742688  0.033427   1.563780   4.089426\n",
      "2 8 7 18\n",
      "c0            mean        sd  mc_error   hpd_2.5  hpd_97.5\n",
      "y_err  4.307195  1.033526  0.045879  2.597703  6.106905\n",
      "cP            mean        sd  mc_error  hpd_2.5  hpd_97.5\n",
      "y_err  4.315274  1.167768  0.054777  2.61239  6.285034\n",
      "cN            mean        sd  mc_error   hpd_2.5  hpd_97.5\n",
      "y_N    3.231111  0.740020  0.032176  1.631601  4.631406\n",
      "y_err  2.445437  0.645946  0.026247  1.362639  3.713170\n",
      "acc0            mean        sd  mc_error   hpd_2.5  hpd_97.5\n",
      "y_acc  3.244459  0.757587  0.033558  1.655163  4.603928\n",
      "y_err  2.414068  0.651780  0.032211  1.439111  3.663871\n",
      "accP            mean        sd  mc_error   hpd_2.5  hpd_97.5\n",
      "y_acc  3.206503  0.737313  0.031675  1.736108  4.516228\n",
      "y_err  2.418923  0.628997  0.029572  1.384885  3.600942\n",
      "accN            mean         sd  mc_error    hpd_2.5   hpd_97.5\n",
      "y_N    6.977291  16.061367  1.598254 -20.629403  34.115467\n",
      "y_acc -3.674792  16.136632  1.605561 -30.948473  23.625576\n",
      "y_err  2.473153   0.728406  0.032485   1.420107   3.990519\n",
      "2 9 7 20\n",
      "c0            mean        sd  mc_error   hpd_2.5  hpd_97.5\n",
      "y_err  4.149372  0.828111  0.034165  2.794345  5.686427\n",
      "cP            mean        sd  mc_error   hpd_2.5  hpd_97.5\n",
      "y_err  4.154385  0.881756  0.040685  2.730021  5.916476\n",
      "cN            mean        sd  mc_error   hpd_2.5  hpd_97.5\n",
      "y_N    3.317883  0.609380  0.029016  2.259895  4.580351\n",
      "y_err  2.191211  0.479753  0.023777  1.429865  3.216823\n",
      "acc0            mean        sd  mc_error   hpd_2.5  hpd_97.5\n",
      "y_acc  3.291540  0.626704  0.026355  2.222438  4.699382\n",
      "y_err  2.177291  0.520397  0.022958  1.296338  3.187367\n",
      "accP            mean        sd  mc_error   hpd_2.5  hpd_97.5\n",
      "y_acc  3.337605  0.631202  0.028257  2.071904  4.519998\n",
      "y_err  2.238399  0.502005  0.025041  1.340973  3.146280\n",
      "accN            mean        sd  mc_error    hpd_2.5   hpd_97.5\n",
      "y_N   -4.476246  7.170035  0.707085 -19.693638   9.191261\n",
      "y_acc  7.779601  7.223869  0.712105  -6.301320  23.169653\n",
      "y_err  2.244146  0.549140  0.026622   1.231327   3.227747\n",
      "3 4 8 9\n",
      "c0           mean        sd  mc_error        hpd_2.5  hpd_97.5\n",
      "y_err  0.04116  0.409534  0.017941  1.679825e-154  0.000009\n",
      "cP           mean        sd  mc_error        hpd_2.5      hpd_97.5\n",
      "y_err  0.03103  0.429386  0.019002  7.518066e-155  8.378053e-07\n",
      "cN            mean         sd  mc_error    hpd_2.5   hpd_97.5\n",
      "y_N   -0.130451   5.731529  0.261363 -12.120330  11.907537\n",
      "y_err  8.643532  14.717753  0.671945   0.003991  27.718120\n",
      "acc0            mean         sd  mc_error    hpd_2.5   hpd_97.5\n",
      "y_acc -0.076392   5.860939  0.264674 -11.608219  12.923831\n",
      "y_err  9.939884  13.269154  0.640045   0.073303  34.632967\n",
      "accP            mean         sd  mc_error    hpd_2.5   hpd_97.5\n",
      "y_acc  0.079133   5.300785  0.240238 -11.681838  10.581970\n",
      "y_err  9.464515  19.162373  0.885754   0.017260  27.636301\n",
      "accN             mean         sd  mc_error    hpd_2.5   hpd_97.5\n",
      "y_N     1.028586   8.827743  0.511275 -14.451032  20.046204\n",
      "y_acc  -0.083819  12.327975  0.684729 -23.719845  26.358830\n",
      "y_err  14.750780  27.578586  1.235755   0.011047  43.747738\n",
      "3 5 8 11\n",
      "c0            mean        sd  mc_error  hpd_2.5  hpd_97.5\n",
      "y_err  4.535459  2.915302  0.145847  1.66251  9.906531\n",
      "cP           mean        sd  mc_error   hpd_2.5  hpd_97.5\n",
      "y_err  4.49647  2.666692  0.137006  1.421154  9.093267\n",
      "cN            mean        sd  mc_error   hpd_2.5   hpd_97.5\n",
      "y_N    1.654028  2.873083  0.139336 -5.241399   6.798143\n",
      "y_err  5.183034  3.909740  0.181747  1.316626  12.297947\n",
      "acc0            mean       sd  mc_error   hpd_2.5   hpd_97.5\n",
      "y_acc  1.775663  2.99371  0.144666 -4.782495   8.059512\n",
      "y_err  4.967971  3.49868  0.161579  1.384987  11.307038\n",
      "accP            mean        sd  mc_error   hpd_2.5   hpd_97.5\n",
      "y_acc  1.600184  3.232538  0.151446 -4.839246   8.552682\n",
      "y_err  5.382451  3.623855  0.170472  1.407875  12.920199\n",
      "accN            mean        sd  mc_error    hpd_2.5   hpd_97.5\n",
      "y_N    1.289145  7.992235  0.645876 -13.109526  17.048320\n",
      "y_acc  0.619130  8.271132  0.667102 -14.411935  18.225312\n",
      "y_err  5.109233  3.420105  0.162727   1.504686  12.360253\n",
      "3 6 8 13\n",
      "c0            mean        sd  mc_error  hpd_2.5  hpd_97.5\n",
      "y_err  4.974366  2.128391  0.099846  2.23898  8.981806\n",
      "cP            mean        sd  mc_error   hpd_2.5  hpd_97.5\n",
      "y_err  4.861157  1.852303   0.08216  2.129437  8.454284\n",
      "cN            mean        sd  mc_error   hpd_2.5  hpd_97.5\n",
      "y_N    2.854857  1.959987  0.092783 -1.350027  6.854530\n",
      "y_err  3.959960  2.006660  0.099810  1.552105  8.254344\n",
      "acc0            mean        sd  mc_error   hpd_2.5  hpd_97.5\n",
      "y_acc  2.956015  1.874155  0.095005 -0.241503  7.829281\n",
      "y_err  3.980387  1.935345  0.093692  1.497626  7.822598\n",
      "accP            mean        sd  mc_error   hpd_2.5  hpd_97.5\n",
      "y_acc  2.777296  1.647617  0.077420 -0.731326  5.902237\n",
      "y_err  3.626025  1.660126  0.079933  1.454927  7.138584\n",
      "accN            mean        sd  mc_error    hpd_2.5   hpd_97.5\n",
      "y_N    3.274517  8.361598  0.772798 -12.914892  20.768553\n",
      "y_acc -0.309525  8.531852  0.784036 -17.488377  17.304104\n",
      "y_err  3.952253  2.500798  0.137109   1.466499   8.347828\n",
      "3 7 8 17\n",
      "c0            mean        sd  mc_error   hpd_2.5  hpd_97.5\n",
      "y_err  4.651117  1.160604  0.056613  2.817958  7.103042\n",
      "cP            mean        sd  mc_error   hpd_2.5  hpd_97.5\n",
      "y_err  4.594004  1.172363  0.055336  2.678935  6.996309\n",
      "cN            mean        sd  mc_error   hpd_2.5  hpd_97.5\n",
      "y_N    3.572443  0.867679  0.038614  1.965359  5.356785\n",
      "y_err  2.473341  0.754856  0.034053  1.282788  3.881449\n",
      "acc0            mean        sd  mc_error   hpd_2.5  hpd_97.5\n",
      "y_acc  3.627268  0.855999  0.036010  1.986016  5.227490\n",
      "y_err  2.458427  0.865275  0.038749  1.265195  4.050864\n",
      "accP            mean        sd  mc_error   hpd_2.5  hpd_97.5\n",
      "y_acc  3.529097  0.905106  0.041245  1.599619  5.457106\n",
      "y_err  2.486581  0.808023  0.039949  1.276543  3.954919\n",
      "accN            mean        sd  mc_error    hpd_2.5   hpd_97.5\n",
      "y_N    4.434180  7.446715  0.729305 -10.807138  15.666430\n",
      "y_acc -0.899632  7.475391  0.732523 -12.239224  14.400540\n",
      "y_err  2.468263  0.745281  0.034634   1.222244   3.672649\n",
      "3 8 8 18\n",
      "c0            mean        sd  mc_error   hpd_2.5  hpd_97.5\n",
      "y_err  4.587134  1.234855  0.056396  2.667831  7.031715\n",
      "cP            mean        sd  mc_error   hpd_2.5  hpd_97.5\n",
      "y_err  4.503229  1.062355  0.052029  2.835413  6.807881\n",
      "cN            mean        sd  mc_error   hpd_2.5  hpd_97.5\n",
      "y_N    3.607319  0.703866  0.034681  2.487772  5.345174\n",
      "y_err  2.273688  0.638933  0.029464  1.259722  3.483325\n",
      "acc0            mean        sd  mc_error   hpd_2.5  hpd_97.5\n",
      "y_acc  3.575165  0.748224  0.030610  2.342036  5.318395\n",
      "y_err  2.339812  0.676712  0.032917  1.188974  3.591350\n",
      "accP            mean        sd  mc_error   hpd_2.5  hpd_97.5\n",
      "y_acc  3.575742  0.716453  0.034830  1.876128  4.829552\n",
      "y_err  2.273545  0.675376  0.029633  1.219119  3.552810\n",
      "accN            mean        sd  mc_error    hpd_2.5   hpd_97.5\n",
      "y_N   -4.029150  7.221141  0.709771 -14.726866   7.963017\n",
      "y_acc  7.629836  7.263647  0.714293  -4.890166  18.159045\n",
      "y_err  2.273709  0.643214  0.029300   1.337054   3.470430\n",
      "3 9 8 20\n",
      "c0            mean        sd  mc_error   hpd_2.5  hpd_97.5\n",
      "y_err  4.296197  0.983988  0.047007  2.680874  6.020285\n",
      "cP            mean        sd  mc_error   hpd_2.5  hpd_97.5\n",
      "y_err  4.389535  1.000798  0.044158  2.540769  6.316599\n",
      "cN            mean        sd  mc_error   hpd_2.5  hpd_97.5\n",
      "y_N    3.565239  0.606025  0.028127  2.274942  4.732544\n",
      "y_err  2.018970  0.515138  0.023342  1.142318  2.960973\n",
      "acc0            mean        sd  mc_error   hpd_2.5  hpd_97.5\n",
      "y_acc  3.587651  0.604866  0.026786  2.292534  4.671327\n",
      "y_err  2.042156  0.541166  0.024937  1.232118  3.058866\n",
      "accP            mean        sd  mc_error   hpd_2.5  hpd_97.5\n",
      "y_acc  3.525027  0.573919  0.025532  2.518115  4.702921\n",
      "y_err  2.049800  0.531158  0.022945  1.260377  3.186768\n",
      "accN            mean        sd  mc_error    hpd_2.5   hpd_97.5\n",
      "y_N   -5.761438  7.787058  0.770999 -22.009060   7.792982\n",
      "y_acc  9.390189  7.797102  0.771628  -5.072700  24.960948\n",
      "y_err  1.972247  0.450040  0.021690   1.239931   2.868460\n",
      "4 5 9 11\n",
      "c0            mean        sd  mc_error   hpd_2.5   hpd_97.5\n",
      "y_err  6.127265  4.680471  0.227943  1.616127  15.251502\n",
      "cP            mean       sd  mc_error   hpd_2.5   hpd_97.5\n",
      "y_err  6.659591  5.33902  0.239736  1.472866  15.531272\n",
      "cN            mean        sd  mc_error   hpd_2.5   hpd_97.5\n",
      "y_N    1.923064  4.538525  0.215252 -6.654776  11.378584\n",
      "y_err  8.006461  9.076354  0.462991  1.271500  22.112356\n",
      "acc0            mean        sd  mc_error   hpd_2.5   hpd_97.5\n",
      "y_acc  1.924769  4.630391  0.220417 -6.865705  12.133294\n",
      "y_err  7.555430  6.857900  0.340391  1.398367  19.475203\n",
      "accP            mean        sd  mc_error   hpd_2.5   hpd_97.5\n",
      "y_acc  1.744402  4.274704  0.192751 -6.766218   9.585024\n",
      "y_err  6.958117  6.007345  0.261243  1.387893  17.115046\n",
      "accN            mean         sd  mc_error    hpd_2.5   hpd_97.5\n",
      "y_N   -0.065384   8.989751  0.628256 -16.932280  16.333254\n",
      "y_acc  2.685122  10.080236  0.682931 -18.285205  19.769906\n",
      "y_err  8.465396   9.039388  0.512550   1.363221  22.325165\n",
      "4 6 9 13\n",
      "c0            mean        sd  mc_error   hpd_2.5   hpd_97.5\n",
      "y_err  5.976268  2.696179  0.121086  2.498084  11.213764\n",
      "cP            mean        sd  mc_error   hpd_2.5   hpd_97.5\n",
      "y_err  5.771814  2.592371  0.113995  2.525713  10.550315\n",
      "cN           mean        sd  mc_error   hpd_2.5  hpd_97.5\n",
      "y_N    3.58772  1.897554  0.076116 -1.054794  6.649704\n",
      "y_err  3.90853  2.411565  0.117412  1.181675  8.119849\n",
      "acc0            mean        sd  mc_error   hpd_2.5  hpd_97.5\n",
      "y_acc  3.524936  1.948687  0.085027 -0.569940  7.562478\n",
      "y_err  3.715475  2.097221  0.093209  1.394447  7.954921\n",
      "accP            mean        sd  mc_error  hpd_2.5  hpd_97.5\n",
      "y_acc  3.604793  2.127773   0.09441 -0.07377  8.825370\n",
      "y_err  3.964069  2.566236   0.13436  1.17346  9.201852\n",
      "accN            mean        sd  mc_error    hpd_2.5   hpd_97.5\n",
      "y_N    0.472290  8.827886  0.810843 -14.438612  19.065889\n",
      "y_acc  3.259173  9.243395  0.846302 -16.565142  18.789801\n",
      "y_err  4.109786  2.741850  0.107032   1.200132   9.930511\n",
      "4 7 9 17\n",
      "c0            mean        sd  mc_error  hpd_2.5  hpd_97.5\n",
      "y_err  4.870881  1.314922  0.065828  2.84278  7.622462\n",
      "cP            mean        sd  mc_error   hpd_2.5  hpd_97.5\n",
      "y_err  5.003607  1.446288  0.069647  2.643428   7.80077\n",
      "cN            mean        sd  mc_error   hpd_2.5  hpd_97.5\n",
      "y_N    3.953287  0.841818  0.040330  2.305967  5.545996\n",
      "y_err  2.133894  0.813900  0.038418  1.052729  3.455253\n",
      "acc0            mean       sd  mc_error   hpd_2.5  hpd_97.5\n",
      "y_acc  3.988149  0.73101  0.033413  2.540336  5.305287\n",
      "y_err  2.055825  0.75278  0.033047  1.030756  3.438865\n",
      "accP            mean        sd  mc_error   hpd_2.5  hpd_97.5\n",
      "y_acc  4.011936  0.767225  0.040396  2.310549  5.330727\n",
      "y_err  2.080196  0.717581  0.032892  1.030465  3.344842\n",
      "accN            mean        sd  mc_error    hpd_2.5   hpd_97.5\n",
      "y_N    6.482359  6.313281  0.617909  -3.434390  22.216852\n",
      "y_acc -2.488326  6.377600  0.625177 -17.022985   8.421008\n",
      "y_err  2.073659  0.730783  0.033671   1.009812   3.627762\n",
      "4 8 9 18\n",
      "c0            mean        sd  mc_error   hpd_2.5  hpd_97.5\n",
      "y_err  4.932708  1.312426  0.059228  2.658643  7.580527\n",
      "cP            mean        sd  mc_error   hpd_2.5  hpd_97.5\n",
      "y_err  4.841487  1.315472  0.071101  2.832031  7.616284\n",
      "cN            mean        sd  mc_error   hpd_2.5  hpd_97.5\n",
      "y_N    3.910755  0.668683  0.029791  2.555334  5.052501\n",
      "y_err  1.899323  0.602259  0.031347  0.985770  2.958177\n",
      "acc0            mean        sd  mc_error   hpd_2.5  hpd_97.5\n",
      "y_acc  3.997023  0.622951  0.028666  2.827009  5.306545\n",
      "y_err  1.872088  0.584915  0.027214  1.023073  3.053902\n",
      "accP            mean        sd  mc_error   hpd_2.5  hpd_97.5\n",
      "y_acc  3.951321  0.691601  0.033334  2.490823  5.341512\n",
      "y_err  1.909879  0.675278  0.028989  0.944281  3.359559\n",
      "accN            mean        sd  mc_error    hpd_2.5   hpd_97.5\n",
      "y_N   -5.626602  4.319753  0.413184 -13.753295   3.725660\n",
      "y_acc  9.568991  4.293744  0.411240   0.320558  18.054230\n",
      "y_err  1.906235  0.602301  0.027493   0.995151   3.116716\n",
      "4 9 9 20\n",
      "c0            mean       sd  mc_error   hpd_2.5  hpd_97.5\n",
      "y_err  4.617942  1.18135  0.054241  2.733261  6.893091\n",
      "cP            mean        sd  mc_error   hpd_2.5  hpd_97.5\n",
      "y_err  4.501752  1.108387  0.052981  2.865462  6.671682\n",
      "cN            mean        sd  mc_error   hpd_2.5  hpd_97.5\n",
      "y_N    3.909790  0.507567  0.022673  2.950747  5.012836\n",
      "y_err  1.656174  0.444025  0.019779  0.981128  2.596719\n",
      "acc0            mean        sd  mc_error   hpd_2.5  hpd_97.5\n",
      "y_acc  3.845047  0.522367  0.024715  2.763875  4.872908\n",
      "y_err  1.673866  0.446644  0.021165  1.007712  2.571075\n",
      "accP            mean        sd  mc_error   hpd_2.5  hpd_97.5\n",
      "y_acc  3.884884  0.504594  0.022850  2.954693  4.902920\n",
      "y_err  1.649126  0.433172  0.021205  0.902400  2.486467\n",
      "accN             mean        sd  mc_error    hpd_2.5   hpd_97.5\n",
      "y_N   -11.513034  4.257495  0.414473 -18.521900  -3.146930\n",
      "y_acc  15.381839  4.264393  0.415165   7.029968  22.475735\n",
      "y_err   1.670861  0.435159  0.020821   1.009690   2.601872\n",
      "5 6 11 13\n",
      "c0            mean        sd  mc_error   hpd_2.5   hpd_97.5\n",
      "y_err  7.792063  5.253286  0.238002  2.354445  17.375729\n",
      "cP                 mean             sd       mc_error        hpd_2.5  \\\n",
      "y_err  8.096139e-154  6.538228e-153  2.930340e-154  7.470892e-155   \n",
      "\n",
      "            hpd_97.5  \n",
      "y_err  1.935065e-153  \n",
      "cN            mean        sd  mc_error       hpd_2.5  hpd_97.5\n",
      "y_N    4.971386  1.730599  0.084974  3.621032e+00  5.942962\n",
      "y_err  0.522893  2.133868  0.151982  3.558091e-07  2.243328\n",
      "acc0            mean        sd  mc_error       hpd_2.5  hpd_97.5\n",
      "y_acc  5.000004  0.000041  0.000003  4.999942e+00  5.000054\n",
      "y_err  0.000140  0.001967  0.000089  2.091907e-09  0.000205\n",
      "accP            mean        sd  mc_error   hpd_2.5  hpd_97.5\n",
      "y_acc  0.014936  1.371524  0.119275 -1.540442  0.873140\n",
      "y_err  0.821969  3.005183  0.232515  0.000001  4.041953\n",
      "accN            mean        sd  mc_error   hpd_2.5  hpd_97.5\n",
      "y_N    1.415945  1.215693  0.121126 -0.129240  3.371666\n",
      "y_acc  3.569251  1.231540  0.122815  1.598242  5.162641\n",
      "y_err  0.234002  0.731520  0.048087  0.000002  1.313549\n",
      "5 7 11 17\n",
      "c0            mean        sd  mc_error   hpd_2.5  hpd_97.5\n",
      "y_err  5.439421  1.776361  0.080272  2.503609  8.752805\n",
      "cP            mean        sd  mc_error   hpd_2.5  hpd_97.5\n",
      "y_err  0.935801  0.400535  0.018815  0.420598  1.634845\n",
      "cN            mean        sd  mc_error   hpd_2.5  hpd_97.5\n",
      "y_N    4.505949  0.371810   0.01596  3.818426  5.134161\n",
      "y_err  0.742475  0.369846   0.01665  0.317428  1.376224\n",
      "acc0            mean        sd  mc_error   hpd_2.5  hpd_97.5\n",
      "y_acc  4.506441  0.343792  0.014163  3.901258  5.122641\n",
      "y_err  0.752552  0.384758  0.019500  0.320949  1.487137\n",
      "accP            mean        sd  mc_error   hpd_2.5  hpd_97.5\n",
      "y_acc -0.504869  0.349556  0.015262 -1.065737  0.268919\n",
      "y_err  0.773490  0.394278  0.018803  0.297252  1.621990\n",
      "accN             mean        sd  mc_error    hpd_2.5   hpd_97.5\n",
      "y_N    -7.149784  4.405900  0.435456 -14.675699   0.653551\n",
      "y_acc  11.629199  4.396785  0.434697   3.295809  18.534730\n",
      "y_err   0.748926  0.354915  0.014984   0.292385   1.409704\n",
      "5 8 11 18\n",
      "c0            mean        sd  mc_error   hpd_2.5  hpd_97.5\n",
      "y_err  5.294501  1.703515  0.076974  2.583355  8.858145\n",
      "cP            mean        sd  mc_error   hpd_2.5  hpd_97.5\n",
      "y_err  0.919645  0.344507   0.01473  0.480595  1.532747\n",
      "cN            mean        sd  mc_error   hpd_2.5  hpd_97.5\n",
      "y_N    4.438770  0.290103  0.013564  3.811763  4.978814\n",
      "y_err  0.689573  0.314756  0.015376  0.273724  1.277170\n",
      "acc0            mean        sd  mc_error   hpd_2.5  hpd_97.5\n",
      "y_acc  4.392000  0.293094  0.014327  3.820160  4.987696\n",
      "y_err  0.704837  0.301966  0.015981  0.292962  1.327382\n",
      "accP            mean        sd  mc_error   hpd_2.5  hpd_97.5\n",
      "y_acc -0.573950  0.279331  0.012801 -1.200711 -0.099819\n",
      "y_err  0.695277  0.277190  0.011792  0.312170  1.240880\n",
      "accN            mean        sd  mc_error   hpd_2.5   hpd_97.5\n",
      "y_N   -1.575428  3.412906  0.336391 -8.132650   4.848216\n",
      "y_acc  5.986090  3.408391  0.336217 -0.379844  12.508935\n",
      "y_err  0.696671  0.265095  0.014096  0.332109   1.245071\n",
      "5 9 11 20\n",
      "c0            mean        sd  mc_error   hpd_2.5  hpd_97.5\n",
      "y_err  4.838422  1.224636  0.049898  2.594413  7.179754\n",
      "cP            mean       sd  mc_error   hpd_2.5  hpd_97.5\n",
      "y_err  1.160231  0.32148  0.015844  0.657317  1.813887\n",
      "cN            mean        sd  mc_error   hpd_2.5  hpd_97.5\n",
      "y_N    4.197470  0.284532  0.013667  3.555731  4.708184\n",
      "y_err  0.813781  0.296958  0.013753  0.456442  1.334752\n",
      "acc0            mean        sd  mc_error   hpd_2.5  hpd_97.5\n",
      "y_acc  4.213952  0.273039  0.010903  3.514265  4.675192\n",
      "y_err  0.791679  0.257443  0.013022  0.412264  1.249345\n",
      "accP            mean        sd  mc_error   hpd_2.5  hpd_97.5\n",
      "y_acc -0.791673  0.287621  0.013323 -1.402954 -0.214068\n",
      "y_err  0.814613  0.259678  0.012592  0.465105  1.393624\n",
      "accN            mean        sd  mc_error   hpd_2.5   hpd_97.5\n",
      "y_N   -1.374409  2.798610  0.276007 -7.224758   3.915284\n",
      "y_acc  5.608079  2.786273  0.274954 -0.214075  10.811523\n",
      "y_err  0.811308  0.265689  0.012217  0.449101   1.356826\n",
      "6 7 13 17\n",
      "c0            mean        sd  mc_error   hpd_2.5   hpd_97.5\n",
      "y_err  5.765193  2.886204  0.127063  2.352633  11.358095\n",
      "cP            mean        sd  mc_error   hpd_2.5  hpd_97.5\n",
      "y_err  1.298418  0.692443  0.033571  0.495557  2.786425\n",
      "cN            mean        sd  mc_error   hpd_2.5  hpd_97.5\n",
      "y_N    4.200872  0.589994  0.027339  3.091117  5.481538\n",
      "y_err  0.933740  0.808317  0.042990  0.258980  2.405905\n",
      "acc0            mean        sd  mc_error   hpd_2.5  hpd_97.5\n",
      "y_acc  4.210313  0.572574  0.028135  2.956844  5.142437\n",
      "y_err  0.904842  0.680432  0.033044  0.256771  2.265675\n",
      "accP            mean        sd  mc_error   hpd_2.5  hpd_97.5\n",
      "y_acc -0.780967  0.627306  0.034633 -2.098176  0.464592\n",
      "y_err  0.954212  0.955617  0.056493  0.223342  2.344573\n",
      "accN            mean        sd  mc_error    hpd_2.5   hpd_97.5\n",
      "y_N   -2.494264  6.146285  0.608968 -14.121124   7.108283\n",
      "y_acc  6.771910  6.148806  0.609608  -2.508213  18.573842\n",
      "y_err  0.900247  0.797631  0.040953   0.243930   2.323026\n",
      "6 8 13 18\n",
      "c0            mean        sd  mc_error   hpd_2.5  hpd_97.5\n",
      "y_err  5.429081  2.161176   0.09159  2.473407  9.538824\n",
      "cP            mean        sd  mc_error   hpd_2.5  hpd_97.5\n",
      "y_err  1.229191  0.565015  0.024887  0.525842  2.391866\n",
      "cN            mean        sd  mc_error   hpd_2.5  hpd_97.5\n",
      "y_N    4.180333  0.355498  0.016535  3.440673  4.723707\n",
      "y_err  0.702375  0.517915  0.024334  0.171982  1.643237\n",
      "acc0            mean        sd  mc_error   hpd_2.5  hpd_97.5\n",
      "y_acc  4.195116  0.348122  0.017359  3.537019  4.843254\n",
      "y_err  0.718202  0.447035  0.021150  0.279040  1.642599\n",
      "accP            mean        sd  mc_error   hpd_2.5  hpd_97.5\n",
      "y_acc -0.813985  0.319320  0.013618 -1.497731 -0.162255\n",
      "y_err  0.703330  0.515384  0.025703  0.237875  1.424046\n",
      "accN            mean        sd  mc_error    hpd_2.5   hpd_97.5\n",
      "y_N    7.698435  3.713886  0.366157   1.728307  15.533307\n",
      "y_acc -3.516951  3.710795  0.366213 -11.019784   2.596272\n",
      "y_err  0.688431  0.372422  0.018919   0.225545   1.411719\n",
      "6 9 13 20\n",
      "c0            mean        sd  mc_error  hpd_2.5  hpd_97.5\n",
      "y_err  4.691793  1.358126  0.059215  2.70342  7.156033\n",
      "cP            mean        sd  mc_error  hpd_2.5  hpd_97.5\n",
      "y_err  1.397087  0.545498  0.023529  0.70244  2.364268\n",
      "cN            mean        sd  mc_error   hpd_2.5  hpd_97.5\n",
      "y_N    3.975504  0.288402  0.012512  3.389957  4.475405\n",
      "y_err  0.743640  0.274995  0.012264  0.326521  1.301742\n",
      "acc0            mean        sd  mc_error   hpd_2.5  hpd_97.5\n",
      "y_acc  4.021630  0.284041  0.012773  3.474665  4.550513\n",
      "y_err  0.740866  0.292034  0.012271  0.332631  1.274925\n",
      "accP            mean       sd  mc_error   hpd_2.5  hpd_97.5\n",
      "y_acc -0.996875  0.30245  0.014750 -1.625006 -0.420888\n",
      "y_err  0.754261  0.29941  0.014454  0.328668  1.339095\n",
      "accN            mean        sd  mc_error    hpd_2.5   hpd_97.5\n",
      "y_N    7.109822  7.913607  0.789454  -5.228238  18.000012\n",
      "y_acc -3.111876  7.916366  0.789720 -14.209570   9.212383\n",
      "y_err  0.740157  0.268871  0.012848   0.339847   1.262690\n",
      "7 8 17 18\n",
      "c0             mean         sd  mc_error   hpd_2.5   hpd_97.5\n",
      "y_err  10.688346  15.359019  0.677597  1.583733  33.086269\n",
      "cP            mean        sd  mc_error        hpd_2.5      hpd_97.5\n",
      "y_err  0.006606  0.074732  0.003289  2.143877e-154  1.503814e-07\n",
      "cN             mean         sd  mc_error   hpd_2.5   hpd_97.5\n",
      "y_N     2.902879   5.702573  0.268531 -8.548567  14.873350\n",
      "y_err  12.233975  55.278401  2.452183  0.060255  33.875948\n",
      "acc0             mean         sd  mc_error    hpd_2.5   hpd_97.5\n",
      "y_acc   2.657973   6.351135  0.287201 -11.441553  14.709036\n",
      "y_err  10.571991  23.548106  1.021247   0.048661  29.898195\n",
      "accP             mean         sd  mc_error    hpd_2.5   hpd_97.5\n",
      "y_acc  -0.193057   5.375612  0.259575 -14.026572   9.815331\n",
      "y_err  11.608511  39.341806  1.754052   0.008774  29.086654\n",
      "accN             mean         sd  mc_error    hpd_2.5   hpd_97.5\n",
      "y_N     0.384510   9.398804  0.572487 -18.050009  19.053675\n",
      "y_acc   1.995972  12.637268  0.743051 -25.130294  21.666990\n",
      "y_err  13.050423  21.771151  0.950119   0.077269  40.263030\n",
      "7 9 17 20\n",
      "c0            mean        sd  mc_error   hpd_2.5   hpd_97.5\n",
      "y_err  5.497069  3.099617  0.131471  1.626303  11.339974\n",
      "cP            mean        sd  mc_error   hpd_2.5  hpd_97.5\n",
      "y_err  1.039713  0.749512  0.033329  0.271719  2.584216\n",
      "cN            mean        sd  mc_error   hpd_2.5  hpd_97.5\n",
      "y_N    3.607895  1.283274  0.071959  0.151511  5.688593\n",
      "y_err  1.722187  1.780739  0.107911  0.266134  5.023898\n",
      "acc0            mean        sd  mc_error   hpd_2.5  hpd_97.5\n",
      "y_acc  3.740033  1.565361  0.095250  0.488064  6.631975\n",
      "y_err  1.752999  1.839021  0.117508  0.255754  5.713768\n",
      "accP            mean        sd  mc_error   hpd_2.5  hpd_97.5\n",
      "y_acc -0.287011  1.257509  0.057236 -3.166383  2.006914\n",
      "y_err  1.654724  1.751062  0.097644  0.291683  4.912328\n",
      "accN            mean        sd  mc_error    hpd_2.5   hpd_97.5\n",
      "y_N   -0.364781  7.110039  0.683340 -13.312885  11.832011\n",
      "y_acc  4.088486  7.164211  0.690831  -8.057855  17.537534\n",
      "y_err  1.921487  2.584798  0.143779   0.260473   5.752484\n",
      "8 9 18 20\n",
      "c0            mean        sd  mc_error   hpd_2.5   hpd_97.5\n",
      "y_err  6.281278  5.045038   0.24863  1.662302  14.369646\n",
      "cP            mean        sd  mc_error   hpd_2.5  hpd_97.5\n",
      "y_err  2.189218  2.709623  0.121126  0.317624  6.743635\n",
      "cN            mean        sd  mc_error   hpd_2.5   hpd_97.5\n",
      "y_N    3.241700  2.550727  0.111799 -2.533962   8.259014\n",
      "y_err  3.641821  4.389650  0.224628  0.308481  12.357414\n",
      "acc0            mean        sd  mc_error   hpd_2.5   hpd_97.5\n",
      "y_acc  3.378201  3.170624  0.153021 -5.174935   9.202474\n",
      "y_err  3.897699  4.896672  0.260918  0.279902  13.208975\n",
      "accP            mean        sd  mc_error   hpd_2.5   hpd_97.5\n",
      "y_acc -0.521069  2.789112  0.104071 -6.394476   6.972334\n",
      "y_err  3.578658  4.310259  0.207526  0.225014  11.248512\n",
      "accN            mean        sd  mc_error    hpd_2.5   hpd_97.5\n",
      "y_N    2.222103  8.736801  0.715248 -17.154144  16.475478\n",
      "y_acc  0.831055  9.579192  0.781327 -17.201805  21.539042\n",
      "y_err  5.364415  7.969007  0.468394   0.286824  16.366725\n"
     ]
    }
   ],
   "source": [
    "for li in likes[0:10]:\n",
    "    for lij in li[0:10]:\n",
    "        if lij is None or lij == []: continue\n",
    "        (i,j,t0,t1,models) = lij\n",
    "        print i,j,t0,t1\n",
    "        for m in models:\n",
    "            print m[0],pm.df_summary(m[-1])"
   ]
  },
  {
   "cell_type": "code",
   "execution_count": 32,
   "metadata": {
    "collapsed": false,
    "scrolled": true
   },
   "outputs": [
    {
     "name": "stdout",
     "output_type": "stream",
     "text": [
      "j 1\n",
      "i 0\n",
      "0 1 0 6 c0 1765.21962202 9.21650174979e-155 -1765.21962202\n",
      "update least -1764.21962202\n",
      "0 1 0 6 cP 1765.17735377 9.34047666781e-155 -1765.17735377\n",
      "0 1 0 6 cN 447.966950268 4.32911514838e-31 -447.966950268\n",
      "0 1 0 6 acc0 419.904709256 8.49185643387e-28 -419.904709256\n",
      "0 1 0 6 accP 450.048287901 4.67482324851e-29 -450.048287901\n",
      "0 1 0 6 accN 225.879343937 4.85797099487e-17 -225.879343937\n",
      "j 2\n",
      "i 0\n",
      "0 2 0 7 c0 2119.14351967 8.97856496626e-155 -2119.14351967\n",
      "update least -2118.14351967\n",
      "0 2 0 7 cP 2119.17104965 8.8991086295e-155 -2119.17104965\n",
      "update least -2118.17104965\n",
      "0 2 0 7 cN 563.296411921 1.01254061539e-30 -563.296411921\n",
      "0 2 0 7 acc0 548.711815573 1.82385363923e-30 -548.711815573\n",
      "0 2 0 7 accP 542.092850721 1.92078908639e-31 -542.092850721\n",
      "0 2 0 7 accN 321.034553251 8.29637538253e-20 -321.034553251\n",
      "i 1\n",
      "1 2 6 7 c0 -3.6810186249 0.103674913815 3.6810186249\n",
      "1 2 6 7 cP -3.67344660243 0.0127225183516 3.67344660243\n",
      "1 2 6 7 cN -8.0432143901 9.9001976583 8.0432143901\n",
      "1 2 6 7 acc0 -8.02836332021 9.36685692156 8.02836332021\n",
      "1 2 6 7 accP -7.96659636988 9.1435930684 7.96659636988\n",
      "1 2 6 7 accN -12.6399989542 12.6681124851 12.6399989542\n",
      "j 3\n",
      "i 0\n",
      "0 3 0 8 c0 2473.13579041 8.69645256212e-155 -2473.13579041\n",
      "update least -2472.13579041\n",
      "0 3 0 8 cP 2473.09893016 8.74645857981e-155 -2473.09893016\n",
      "0 3 0 8 cN 628.491662698 7.5758593238e-30 -628.491662698\n",
      "0 3 0 8 acc0 576.811282207 6.55947719465e-28 -576.811282207\n",
      "0 3 0 8 accP 641.641683433 3.7776774844e-31 -641.641683433\n",
      "0 3 0 8 accN 292.097871283 2.16479113048e-16 -292.097871283\n",
      "i 1\n",
      "1 3 6 8 c0 349.369104704 3.36182908205e-154 -349.369104704\n",
      "1 3 6 8 cP 349.337776605 4.26496277244e-154 -349.337776605\n",
      "1 3 6 8 cN 6.35012454833 0.000111619102402 -6.35012454833\n",
      "1 3 6 8 acc0 20.0233092756 7.77171691983e-09 -20.0233092756\n",
      "1 3 6 8 accP 0.0790050516166 0.0177639415566 -0.0790050516166\n",
      "1 3 6 8 accN 8.2016178365 7.23758883687e-08 -8.2016178365\n",
      "i 2\n",
      "2 3 7 8 c0 -3.67511487962 0.0334261386866 3.67511487962\n",
      "2 3 7 8 cP -3.67352265874 0.0202172612585 3.67352265874\n",
      "2 3 7 8 cN -8.04838400665 9.93378681147 8.04838400665\n",
      "2 3 7 8 acc0 -8.13769503315 11.6299802164 8.13769503315\n",
      "2 3 7 8 accP -8.06494128485 10.6227591982 8.06494128485\n",
      "2 3 7 8 accN -12.6039143957 12.4383814529 12.6039143957\n",
      "j 4\n",
      "i 0\n",
      "0 4 0 9 c0 2827.08094713 8.56104487088e-155 -2827.08094713\n",
      "update least -2826.08094713\n",
      "0 4 0 9 cP 2827.09730669 8.54054510616e-155 -2827.09730669\n",
      "update least -2826.09730669\n",
      "0 4 0 9 cN 701.408459037 5.89558940835e-28 -701.408459037\n",
      "0 4 0 9 acc0 711.434966059 2.33463610822e-30 -711.434966059\n",
      "0 4 0 9 accP 657.726931824 6.79976716774e-27 -657.726931824\n",
      "0 4 0 9 accN 278.005280236 5.5272135072e-13 -278.005280236\n",
      "i 1\n",
      "1 4 6 9 c0 703.273559738 1.42932738332e-154 -703.273559738\n",
      "1 4 6 9 cP 703.222926652 1.47868378383e-154 -703.222926652\n",
      "1 4 6 9 cN 131.352089396 1.33226941028e-22 -131.352089396\n",
      "1 4 6 9 acc0 130.816539694 6.8653500312e-24 -130.816539694\n",
      "1 4 6 9 accP 139.6882156 2.16916252447e-21 -139.6882156\n",
      "1 4 6 9 accN 696.070732134 1.47892041794e-154 -696.070732134\n",
      "i 2\n",
      "2 4 7 9 c0 349.269569491 6.44108363087e-154 -349.269569491\n",
      "2 4 7 9 cP 349.365261903 6.05143042223e-154 -349.365261903\n",
      "2 4 7 9 cN 4.35921032592 7.25419188444e-05 -4.35921032592\n",
      "2 4 7 9 acc0 10.8210205007 6.05039461359e-06 -10.8210205007\n",
      "2 4 7 9 accP -0.387266696859 0.0368631951121 0.387266696859\n",
      "2 4 7 9 accN -6.93579152838 0.0844086953933 6.93579152838\n",
      "i 3\n",
      "3 4 8 9 c0 -3.67462723415 0.0411604771535 3.67462723415\n",
      "3 4 8 9 cP -3.67457614341 0.0310297731506 3.67457614341\n",
      "3 4 8 9 cN -7.94258266838 8.64353183463 7.94258266838\n",
      "3 4 8 9 acc0 -8.02651656219 9.93988426653 8.02651656219\n",
      "3 4 8 9 accP -7.94078686486 9.46451510168 7.94078686486\n",
      "3 4 8 9 accN -12.7169838292 14.7507802515 12.7169838292\n",
      "j 5\n",
      "i 0\n",
      "0 5 0 11 c0 -22.9540267521 1.69459140499 22.9540267521\n",
      "update least 23.9540267521\n",
      "0 5 0 11 cP -23.0104449957 1.71271260975 23.0104449957\n",
      "0 5 0 11 cN -26.231741254 1.70495714443 26.231741254\n",
      "0 5 0 11 acc0 -26.2834697748 1.72285942088 26.2834697748\n",
      "0 5 0 11 accP -26.2761269927 1.71606567968 26.2761269927\n",
      "0 5 0 11 accN -30.5350200768 1.78601461926 30.5350200768\n",
      "i 1\n",
      "1 5 6 11 c0 -13.6128855059 2.99407936976 13.6128855059\n",
      "update least -1749.60673652\n",
      "1 5 6 11 cP -13.6070518148 2.99737676285 13.6070518148\n",
      "update least -1749.61257021\n",
      "1 5 6 11 cN -17.1776088178 3.26721258452 17.1776088178\n",
      "1 5 6 11 acc0 -17.1417585726 3.34369918135 17.1417585726\n",
      "1 5 6 11 accP -17.0533353075 3.23106860963 17.0533353075\n",
      "1 5 6 11 accN -21.4345341048 3.23799542795 21.4345341048\n",
      "i 2\n",
      "2 5 7 11 c0 -11.7325688377 3.69739963212 11.7325688377\n",
      "update least -2105.43848081\n",
      "2 5 7 11 cP -11.7074911038 3.605565003 11.7074911038\n",
      "update least -2105.46355854\n",
      "2 5 7 11 cN -15.31430515 4.11574123743 15.31430515\n",
      "2 5 7 11 acc0 -15.3381679861 3.97211855485 15.3381679861\n",
      "2 5 7 11 accP -15.1367423148 3.81451983354 15.1367423148\n",
      "2 5 7 11 accN -19.5937648441 3.87011744 19.5937648441\n",
      "i 3\n",
      "3 5 8 11 c0 -9.639620596 4.5354592029 9.639620596\n",
      "update least -2461.49616981\n",
      "3 5 8 11 cP -9.63569729196 4.49646991899 9.63569729196\n",
      "update least -2461.50009311\n",
      "3 5 8 11 cN -13.1592861338 5.18303378996 13.1592861338\n",
      "3 5 8 11 acc0 -13.1658008501 4.96797053129 13.1658008501\n",
      "3 5 8 11 accP -13.2892764733 5.38245135199 13.2892764733\n",
      "3 5 8 11 accN -17.4747258273 5.10923280294 17.4747258273\n",
      "i 4\n",
      "4 5 9 11 c0 -7.37762349668 6.12726511979 7.37762349668\n",
      "update least -2817.71968319\n",
      "4 5 9 11 cP -7.39157994433 6.65959081186 7.39157994433\n",
      "4 5 9 11 cN -10.9403562623 8.00646110267 10.9403562623\n",
      "4 5 9 11 acc0 -10.9962811384 7.5554296672 10.9962811384\n",
      "4 5 9 11 accP -10.8337753759 6.95811650909 10.8337753759\n",
      "4 5 9 11 accN -15.463187949 8.46539647881 15.463187949\n",
      "j 6\n",
      "i 0\n",
      "0 6 0 13 c0 -32.2548109614 2.66829851416 32.2548109614\n",
      "update least 33.2548109614\n",
      "0 6 0 13 cP -32.2424615678 2.66042109764 32.2424615678\n",
      "update least 33.2424615678\n",
      "0 6 0 13 cN -34.5990112361 2.43949524787 34.5990112361\n",
      "0 6 0 13 acc0 -34.2957811921 2.36029465534 34.2957811921\n",
      "0 6 0 13 accP -34.2708628362 2.38004741696 34.2708628362\n",
      "0 6 0 13 accN -38.7883443657 2.53075690827 38.7883443657\n",
      "i 1\n",
      "1 6 6 13 c0 -20.3815209547 3.95935995265 20.3815209547\n",
      "update least -1742.83810107\n",
      "1 6 6 13 cP -20.3455295027 3.85812226897 20.3455295027\n",
      "update least -1742.87409252\n",
      "1 6 6 13 cN -22.6018842279 3.34591944049 22.6018842279\n",
      "1 6 6 13 acc0 -22.5363792896 3.37445110011 22.5363792896\n",
      "1 6 6 13 accP -22.5115264048 3.2816187277 22.5115264048\n",
      "1 6 6 13 accN -27.4937814673 3.39579413647 27.4937814673\n",
      "i 2\n",
      "2 6 7 13 c0 -18.155104311 4.28929639891 18.155104311\n",
      "update least -2099.01594534\n",
      "2 6 7 13 cP -18.1191381786 4.27505887536 18.1191381786\n",
      "update least -2099.05191147\n",
      "2 6 7 13 cN -20.3197377089 3.61642490007 20.3197377089\n",
      "2 6 7 13 acc0 -20.2610316374 3.60292456458 20.2610316374\n",
      "2 6 7 13 accP -20.2995692175 3.61023717859 20.2995692175\n",
      "2 6 7 13 accN -24.4984320274 3.50705678166 24.4984320274\n",
      "i 3\n",
      "3 6 8 13 c0 -15.9499630161 4.9743659114 15.9499630161\n",
      "update least -2455.18582739\n",
      "3 6 8 13 cP -15.8558357424 4.86115651013 15.8558357424\n",
      "update least -2455.27995466\n",
      "3 6 8 13 cN -17.9931167334 3.95995984316 17.9931167334\n",
      "3 6 8 13 acc0 -17.9651755217 3.98038706896 17.9651755217\n",
      "3 6 8 13 accP -17.8081844068 3.62602531074 17.8081844068\n",
      "3 6 8 13 accN -22.3810835356 3.95225326927 22.3810835356\n",
      "i 4\n",
      "4 6 9 13 c0 -13.5109101668 5.97626786914 13.5109101668\n",
      "update least -2811.58639652\n",
      "4 6 9 13 cP -13.4595437754 5.77181435161 13.4595437754\n",
      "update least -2811.63776291\n",
      "4 6 9 13 cN -15.1904071348 3.90852968005 15.1904071348\n",
      "4 6 9 13 acc0 -15.20123875 3.7154753127 15.20123875\n",
      "4 6 9 13 accP -15.2557135066 3.96406858012 15.2557135066\n",
      "4 6 9 13 accN -19.7293968818 4.10978648423 19.7293968818\n",
      "i 5\n",
      "5 6 11 13 c0 -7.86711042298 7.79206299191 7.86711042298\n",
      "5 6 11 13 cP 349.214357986 8.09613878733e-154 -349.214357986\n",
      "update least -3165.93404118\n",
      "5 6 11 13 cN -3.2646453607 0.522893201758 3.2646453607\n",
      "5 6 11 13 acc0 4.59900365845 0.000140274497882 -4.59900365845\n",
      "5 6 11 13 accP -4.28388922109 0.821969345482 4.28388922109\n",
      "5 6 11 13 accN -7.26062560643 0.23400159473 7.26062560643\n",
      "j 7\n",
      "i 0\n",
      "0 7 0 17 c0 -44.7290757301 3.16287354408 44.7290757301\n",
      "update least 45.7290757301\n",
      "0 7 0 17 cP -44.7486502296 3.16899062197 44.7486502296\n",
      "0 7 0 17 cN -44.3821557989 2.57896527381 44.3821557989\n",
      "update least 45.3821557989\n",
      "0 7 0 17 acc0 -44.0041008251 2.51042208477 44.0041008251\n",
      "update least 45.0041008251\n",
      "0 7 0 17 accP -43.9442007265 2.4869751621 43.9442007265\n",
      "update least 44.9442007265\n",
      "0 7 0 17 accN -48.448789642 2.57530912755 48.448789642\n",
      "i 1\n",
      "1 7 6 17 c0 -31.9409302278 4.00692433889 31.9409302278\n",
      "update least -1731.27869179\n",
      "1 7 6 17 cP -31.9602570176 4.07473603039 31.9602570176\n",
      "1 7 6 17 cN -30.8349512648 2.64561567438 30.8349512648\n",
      "update least -1732.38467076\n",
      "1 7 6 17 acc0 -30.8675768165 2.67892635195 30.8675768165\n",
      "1 7 6 17 accP -30.8203107328 2.66828383098 30.8203107328\n",
      "update least -1732.39931129\n",
      "1 7 6 17 accN -34.8185960823 2.66459313208 34.8185960823\n",
      "i 2\n",
      "2 7 7 17 c0 -29.7325941653 4.41634927575 29.7325941653\n",
      "update least -2087.43845548\n",
      "2 7 7 17 cP -29.7346426008 4.36932642453 29.7346426008\n",
      "2 7 7 17 cN -28.1464952544 2.66234427084 28.1464952544\n",
      "update least -2089.02455439\n",
      "2 7 7 17 acc0 -28.1517518532 2.61025209977 28.1517518532\n",
      "2 7 7 17 accP -28.1846809643 2.6329392409 28.1846809643\n",
      "2 7 7 17 accN -32.4699685579 2.64025097287 32.4699685579\n",
      "i 3\n",
      "3 7 8 17 c0 -27.3554263 4.65111689218 27.3554263\n",
      "update least -2443.78036411\n",
      "3 7 8 17 cP -27.3725179267 4.59400399778 27.3725179267\n",
      "3 7 8 17 cN -25.3214497015 2.47334097819 25.3214497015\n",
      "update least -2445.81434071\n",
      "3 7 8 17 acc0 -25.3570796618 2.45842670944 25.3570796618\n",
      "3 7 8 17 accP -25.3632242847 2.48658139301 25.3632242847\n",
      "3 7 8 17 accN -29.5375694393 2.4682630505 29.5375694393\n",
      "i 4\n",
      "4 7 9 17 c0 -24.9339895247 4.87088070397 24.9339895247\n",
      "update least -2800.16331717\n",
      "4 7 9 17 cP -24.9816746621 5.0036072771 24.9816746621\n",
      "4 7 9 17 cN -21.7887624125 2.13389449365 21.7887624125\n",
      "update least -2803.30854428\n",
      "4 7 9 17 acc0 -21.6855202469 2.05582484032 21.6855202469\n",
      "update least -2803.41178644\n",
      "4 7 9 17 accP -21.7198298757 2.0801955324 21.7198298757\n",
      "4 7 9 17 accN -26.0964459019 2.0736585261 26.0964459019\n",
      "i 5\n",
      "5 7 11 17 c0 -19.4758987218 5.43942062483 19.4758987218\n",
      "5 7 11 17 cP -10.0566331363 0.935801338409 10.0566331363\n",
      "update least -2806.66305006\n",
      "5 7 11 17 cN -12.3163792775 0.742474808314 12.3163792775\n",
      "5 7 11 17 acc0 -12.2668701196 0.752552377903 12.2668701196\n",
      "5 7 11 17 accP -12.2511457561 0.773489982077 12.2511457561\n",
      "5 7 11 17 accN -16.6131632554 0.7489260738 16.6131632554\n",
      "i 6\n",
      "6 7 13 17 c0 -13.4503426485 5.76519299567 13.4503426485\n",
      "update least -3151.48369853\n",
      "6 7 13 17 cP -8.44906020531 1.29841812872 8.44906020531\n",
      "update least -3156.48498097\n",
      "6 7 13 17 cN -10.5686627204 0.933739772056 10.5686627204\n",
      "6 7 13 17 acc0 -10.4424004344 0.904842476002 10.4424004344\n",
      "6 7 13 17 accP -10.4299606615 0.954212476302 10.4299606615\n",
      "6 7 13 17 accN -14.5694642042 0.90024718642 14.5694642042\n",
      "j 8\n",
      "i 0\n",
      "0 8 0 18 c0 -47.6982639601 3.19955360336 47.6982639601\n",
      "update least 48.6982639601\n",
      "0 8 0 18 cP -47.6374661185 3.21450975687 47.6374661185\n",
      "update least 48.6374661185\n",
      "0 8 0 18 cN -46.5086840643 2.48508429148 46.5086840643\n",
      "update least 47.5086840643\n",
      "0 8 0 18 acc0 -46.0238422837 2.45823217389 46.0238422837\n",
      "update least 47.0238422837\n",
      "0 8 0 18 accP -46.2217397968 2.4810845202 46.2217397968\n",
      "0 8 0 18 accN -50.5432847476 2.50697579363 50.5432847476\n",
      "i 1\n",
      "1 8 6 18 c0 -34.8079799367 4.03636813076 34.8079799367\n",
      "update least -1728.41164208\n",
      "1 8 6 18 cP -34.7878312495 4.04870308136 34.7878312495\n",
      "update least -1728.43179077\n",
      "1 8 6 18 cN -32.6522209434 2.54527302355 32.6522209434\n",
      "update least -1730.56740108\n",
      "1 8 6 18 acc0 -32.7175420386 2.53654921401 32.7175420386\n",
      "1 8 6 18 accP -32.6639362637 2.50297194113 32.6639362637\n",
      "1 8 6 18 accN -36.7405798008 2.52086861024 36.7405798008\n",
      "i 2\n",
      "2 8 7 18 c0 -32.4881616882 4.30719494898 32.4881616882\n",
      "update least -2084.68288796\n",
      "2 8 7 18 cP -32.538183505 4.31527383332 32.538183505\n",
      "2 8 7 18 cN -29.9104906744 2.44543743396 29.9104906744\n",
      "update least -2087.26055897\n",
      "2 8 7 18 acc0 -29.9248316343 2.41406760337 29.9248316343\n",
      "2 8 7 18 accP -29.896478268 2.4189226574 29.896478268\n",
      "update least -2087.27457138\n",
      "2 8 7 18 accN -35.7500549569 2.47315289599 35.7500549569\n",
      "i 3\n",
      "3 8 8 18 c0 -30.2047687612 4.58713415284 30.2047687612\n",
      "update least -2440.93102165\n",
      "3 8 8 18 cP -30.1361608087 4.50322922638 30.1361608087\n",
      "update least -2440.9996296\n",
      "3 8 8 18 cN -26.8374441152 2.27368753728 26.8374441152\n",
      "update least -2444.29834629\n",
      "3 8 8 18 acc0 -26.9685509376 2.3398121758 26.9685509376\n",
      "3 8 8 18 accP -26.9196566702 2.27354530672 26.9196566702\n",
      "3 8 8 18 accN -31.1653712329 2.27370910276 31.1653712329\n",
      "i 4\n",
      "4 8 9 18 c0 -27.813410707 4.9327075558 27.813410707\n",
      "update least -2797.28389598\n",
      "4 8 9 18 cP -27.7980202393 4.8414872764 27.7980202393\n",
      "update least -2797.29928645\n",
      "4 8 9 18 cN -23.1794344931 1.89932266311 23.1794344931\n",
      "update least -2801.9178722\n",
      "4 8 9 18 acc0 -23.0914936969 1.87208810389 23.0914936969\n",
      "update least -2802.00581299\n",
      "4 8 9 18 accP -23.2607048514 1.90987850427 23.2607048514\n",
      "4 8 9 18 accN -27.397153944 1.90623452409 27.397153944\n",
      "i 5\n",
      "5 8 11 18 c0 -22.3509636176 5.29450067065 22.3509636176\n",
      "5 8 11 18 cP -11.4840241279 0.919645325418 11.4840241279\n",
      "update least -2805.23565907\n",
      "5 8 11 18 cN -12.9907464237 0.689572626031 12.9907464237\n",
      "5 8 11 18 acc0 -12.9444281722 0.704836709448 12.9444281722\n",
      "5 8 11 18 accP -12.8469340862 0.695276811647 12.8469340862\n",
      "5 8 11 18 accN -16.8873731823 0.696670860704 16.8873731823\n",
      "i 6\n",
      "6 8 13 18 c0 -16.268336821 5.42908112961 16.268336821\n",
      "update least -3148.66570436\n",
      "6 8 13 18 cP -9.86465756366 1.22919145419 9.86465756366\n",
      "update least -3155.06938362\n",
      "6 8 13 18 cN -10.7422508028 0.702375096047 10.7422508028\n",
      "6 8 13 18 acc0 -10.7097261775 0.718201680733 10.7097261775\n",
      "6 8 13 18 accP -10.6464483643 0.703330461486 10.6464483643\n",
      "6 8 13 18 accN -14.9133935957 0.688430823506 14.9133935957\n",
      "i 7\n",
      "7 8 17 18 c0 -4.70419052163 10.6883456903 4.70419052163\n",
      "7 8 17 18 cP -3.6731624106 0.00660626737482 3.6731624106\n",
      "7 8 17 18 cN -8.09040214148 12.2339750681 8.09040214148\n",
      "7 8 17 18 acc0 -8.12141726827 10.571990519 8.12141726827\n",
      "7 8 17 18 accP -7.93295978738 11.6085108528 7.93295978738\n",
      "7 8 17 18 accN -12.6650380972 13.0504231495 12.6650380972\n",
      "j 9\n",
      "i 0\n",
      "0 9 0 20 c0 -53.003945631 3.25477750562 53.003945631\n",
      "update least 54.003945631\n",
      "0 9 0 20 cP -53.0460629935 3.24590482739 53.0460629935\n",
      "0 9 0 20 cN -50.5142390916 2.4498344431 50.5142390916\n",
      "update least 51.5142390916\n",
      "0 9 0 20 acc0 -49.880004191 2.32815323379 49.880004191\n",
      "update least 50.880004191\n",
      "0 9 0 20 accP -49.9594886194 2.35271451066 49.9594886194\n",
      "0 9 0 20 accN -54.5767606794 2.46771931794 54.5767606794\n",
      "i 1\n",
      "1 9 6 20 c0 -40.1965794577 4.01637922832 40.1965794577\n",
      "update least -1723.02304256\n",
      "1 9 6 20 cP -40.1496407118 4.04810142883 40.1496407118\n",
      "update least -1723.06998131\n",
      "1 9 6 20 cN -36.2248346471 2.38373275725 36.2248346471\n",
      "update least -1726.99478737\n",
      "1 9 6 20 acc0 -36.0635586239 2.3017427646 36.0635586239\n",
      "update least -1727.1560634\n",
      "1 9 6 20 accP -36.1111016335 2.35155486823 36.1111016335\n",
      "1 9 6 20 accN -40.2743470203 2.30123114555 40.2743470203\n",
      "i 2\n",
      "2 9 7 20 c0 -37.821280489 4.14937221985 37.821280489\n",
      "update least -2079.34976916\n",
      "2 9 7 20 cP -37.8761081364 4.1543845091 37.8761081364\n",
      "2 9 7 20 cN -33.173073197 2.19121051581 33.173073197\n",
      "update least -2083.99797645\n",
      "2 9 7 20 acc0 -33.3210084759 2.17729106198 33.3210084759\n",
      "2 9 7 20 accP -33.2520065171 2.23839916031 33.2520065171\n",
      "2 9 7 20 accN -37.6590552956 2.24414594739 37.6590552956\n",
      "i 3\n",
      "3 9 8 20 c0 -35.5746529864 4.29619736017 35.5746529864\n",
      "update least -2435.56113742\n",
      "3 9 8 20 cP -35.6063827109 4.38953547769 35.6063827109\n",
      "3 9 8 20 cN -30.0552898228 2.01896958901 30.0552898228\n",
      "update least -2441.08050058\n",
      "3 9 8 20 acc0 -30.070375156 2.04215605543 30.070375156\n",
      "3 9 8 20 accP -30.0251546979 2.04980018129 30.0251546979\n",
      "update least -2441.11063571\n",
      "3 9 8 20 accN -34.4780047049 1.97224713285 34.4780047049\n",
      "i 4\n",
      "4 9 9 20 c0 -33.2812829188 4.61794218778 33.2812829188\n",
      "update least -2791.81602377\n",
      "4 9 9 20 cP -33.2352535397 4.50175207306 33.2352535397\n",
      "update least -2791.86205315\n",
      "4 9 9 20 cN -25.9598714447 1.65617352604 25.9598714447\n",
      "update least -2799.13743525\n",
      "4 9 9 20 acc0 -25.9675702079 1.67386609997 25.9675702079\n",
      "4 9 9 20 accP -25.9417740196 1.64912570242 25.9417740196\n",
      "update least -2799.15553267\n",
      "4 9 9 20 accN -30.833407471 1.67086142511 30.833407471\n",
      "i 5\n",
      "5 9 11 20 c0 -27.7652471708 4.83842215065 27.7652471708\n",
      "5 9 11 20 cP -16.0297835713 1.16023061723 16.0297835713\n",
      "update least -2800.68989962\n",
      "5 9 11 20 cN -16.2482608734 0.813780852206 16.2482608734\n",
      "5 9 11 20 acc0 -16.2241222584 0.791678749542 16.2241222584\n",
      "5 9 11 20 accP -16.1728263476 0.814612515958 16.1728263476\n",
      "5 9 11 20 accN -20.1826949936 0.811308353203 20.1826949936\n",
      "i 6\n",
      "6 9 13 20 c0 -21.6429848744 4.6917925217 21.6429848744\n",
      "update least -3143.29105631\n",
      "6 9 13 20 cP -13.9169201596 1.39708714913 13.9169201596\n",
      "update least -3151.01712102\n",
      "6 9 13 20 cN -13.2820854122 0.74364047413 13.2820854122\n",
      "update least -3151.65195577\n",
      "6 9 13 20 acc0 -13.3244413687 0.740866200634 13.3244413687\n",
      "6 9 13 20 accP -13.3204632858 0.754261271963 13.3204632858\n",
      "6 9 13 20 accN -17.7787000661 0.740156883306 17.7787000661\n",
      "i 7\n",
      "7 9 17 20 c0 -10.2101853083 5.49706869564 10.2101853083\n",
      "7 9 17 20 cP -6.33151484138 1.03971309281 6.33151484138\n",
      "7 9 17 20 cN -10.3253994233 1.72218678904 10.3253994233\n",
      "7 9 17 20 acc0 -10.3383357094 1.7529990811 10.3383357094\n",
      "7 9 17 20 accP -10.1938072872 1.6547239703 10.1938072872\n",
      "7 9 17 20 accN -14.5620065171 1.92148650319 14.5620065171\n",
      "i 8\n",
      "8 9 18 20 c0 -7.38973970122 6.28127793665 7.38973970122\n",
      "8 9 18 20 cP -5.60701276776 2.18921839782 5.60701276776\n",
      "8 9 18 20 cN -9.57135675426 3.64182064964 9.57135675426\n",
      "8 9 18 20 acc0 -9.61518870733 3.89769921615 9.61518870733\n",
      "8 9 18 20 accP -9.43674594305 3.57865815192 9.43674594305\n",
      "8 9 18 20 accN -14.2191848337 5.36441527786 14.2191848337\n"
     ]
    },
    {
     "data": {
      "text/plain": [
       "[None,\n",
       " (0,\n",
       "  1,\n",
       "  0,\n",
       "  6,\n",
       "  'c0',\n",
       "                  mean             sd       mc_error        hpd_2.5  \\\n",
       "  y_err  9.216502e-155  1.968747e-155  9.336438e-157  7.461741e-155   \n",
       "  \n",
       "              hpd_97.5  \n",
       "  y_err  1.284496e-154  ,\n",
       "  -1765.2196220214339),\n",
       " (0,\n",
       "  2,\n",
       "  0,\n",
       "  7,\n",
       "  'cP',\n",
       "                  mean             sd       mc_error        hpd_2.5  \\\n",
       "  y_err  8.899109e-155  1.449947e-155  7.305892e-157  7.468855e-155   \n",
       "  \n",
       "              hpd_97.5  \n",
       "  y_err  1.186315e-154  ,\n",
       "  -2119.1710496483256),\n",
       " (0,\n",
       "  3,\n",
       "  0,\n",
       "  8,\n",
       "  'c0',\n",
       "                  mean             sd       mc_error        hpd_2.5  \\\n",
       "  y_err  8.696453e-155  1.468409e-155  6.780579e-157  7.458408e-155   \n",
       "  \n",
       "              hpd_97.5  \n",
       "  y_err  1.133493e-154  ,\n",
       "  -2473.1357904068705),\n",
       " (0,\n",
       "  4,\n",
       "  0,\n",
       "  9,\n",
       "  'cP',\n",
       "                  mean             sd       mc_error        hpd_2.5  \\\n",
       "  y_err  8.540545e-155  1.282193e-155  5.789996e-157  7.460484e-155   \n",
       "  \n",
       "              hpd_97.5  \n",
       "  y_err  1.121811e-154  ,\n",
       "  -2827.097306690318),\n",
       " (4, 5, 9, 11, 'c0',            mean        sd  mc_error   hpd_2.5   hpd_97.5\n",
       "  y_err  6.127265  4.680471  0.227943  1.616127  15.251502, 7.3776234966842127),\n",
       " (5,\n",
       "  6,\n",
       "  11,\n",
       "  13,\n",
       "  'cP',\n",
       "                  mean             sd       mc_error        hpd_2.5  \\\n",
       "  y_err  8.096139e-154  6.538228e-153  2.930340e-154  7.470892e-155   \n",
       "  \n",
       "              hpd_97.5  \n",
       "  y_err  1.935065e-153  ,\n",
       "  -349.21435798606905),\n",
       " (6, 7, 13, 17, 'cP',            mean        sd  mc_error   hpd_2.5  hpd_97.5\n",
       "  y_err  1.298418  0.692443  0.033571  0.495557  2.786425, 8.4490602053065409),\n",
       " (6, 8, 13, 18, 'cP',            mean        sd  mc_error   hpd_2.5  hpd_97.5\n",
       "  y_err  1.229191  0.565015  0.024887  0.525842  2.391866, 9.8646575636575466),\n",
       " (6, 9, 13, 20, 'cN',            mean        sd  mc_error   hpd_2.5  hpd_97.5\n",
       "  y_N    3.975504  0.288402  0.012512  3.389957  4.475405\n",
       "  y_err  0.743640  0.274995  0.012264  0.326521  1.301742, 13.282085412183118)]"
      ]
     },
     "execution_count": 32,
     "metadata": {},
     "output_type": "execute_result"
    }
   ],
   "source": [
    "# What is the mode as of just before each switch-point, \n",
    "# and what is the accumulated cost of the approximation up to that point?\n",
    "modes = [(0,None)]*(len(all_times))\n",
    "\n",
    "#modes is offset from likes by 1\n",
    "\n",
    "ks = {\"c0\":0, \"cP\":0.5, \"cN\":1, \"acc0\":1, \"accP\":1.5, \"accN\":2}\n",
    "\n",
    "cost = 1\n",
    "\n",
    "for j in range(1, len(all_times)):\n",
    "    least = float(\"inf\")\n",
    "    least_template = None\n",
    "    print \"j\",j\n",
    "    for i in range(0, j):\n",
    "        data = likes[i][j]\n",
    "        dt = data[3]-data[2]\n",
    "        the_templates = data[-1]\n",
    "        print \"i\",i\n",
    "        for tn,mod,trace in the_templates:\n",
    "            k = ks[tn]\n",
    "            summary = pm.df_summary(trace)\n",
    "            logp = np.mean([mod.logp(pt) for pt in trace])\n",
    "            # WAIC\n",
    "            #crit = pm.stats.waic(model=mod,trace=trace)\n",
    "            # DIC\n",
    "            #crit = pm.stats.dic(model=mod,trace=trace)\n",
    "            # BPIC\n",
    "            #crit = pm.stats.bpic(model=mod,trace=trace)\n",
    "            # AICc\n",
    "            #crit = 2*k - 2 * logp + (2*(k+1)*(k+2))/(dt-k-2)\n",
    "            # BIC\n",
    "            # crit = math.log(dt)*k - 2 * logp\n",
    "            # max-likelihood\n",
    "            crit = -logp\n",
    "            m_prev = modes[i][0]\n",
    "            here = crit + m_prev + cost\n",
    "            print i,j,data[2],data[3],tn,logp,summary[\"mean\"][\"y_err\"],crit\n",
    "            if here < least:\n",
    "                print \"update least\",here\n",
    "                least = here\n",
    "                # prev_i,this_j,t0,t1,name,summary,criterion\n",
    "                least_template = (i,j,data[2],data[3],tn,summary,crit)\n",
    "    modes[j] = (least, least_template)\n",
    "\n",
    "map(lambda m:m[1],modes)"
   ]
  },
  {
   "cell_type": "code",
   "execution_count": 33,
   "metadata": {
    "collapsed": false,
    "scrolled": true
   },
   "outputs": [
    {
     "data": {
      "text/plain": [
       "[(-2826.097306690318,\n",
       "  (0,\n",
       "   4,\n",
       "   0,\n",
       "   9,\n",
       "   'cP',\n",
       "                   mean             sd       mc_error        hpd_2.5  \\\n",
       "   y_err  8.540545e-155  1.282193e-155  5.789996e-157  7.460484e-155   \n",
       "   \n",
       "               hpd_97.5  \n",
       "   y_err  1.121811e-154  ,\n",
       "   -2827.097306690318)),\n",
       " (-2817.719683193634,\n",
       "  (4, 5, 9, 11, 'c0',            mean        sd  mc_error   hpd_2.5   hpd_97.5\n",
       "   y_err  6.127265  4.680471  0.227943  1.616127  15.251502, 7.3776234966842127)),\n",
       " (-3165.9340411797029,\n",
       "  (5,\n",
       "   6,\n",
       "   11,\n",
       "   13,\n",
       "   'cP',\n",
       "                   mean             sd       mc_error        hpd_2.5  \\\n",
       "   y_err  8.096139e-154  6.538228e-153  2.930340e-154  7.470892e-155   \n",
       "   \n",
       "               hpd_97.5  \n",
       "   y_err  1.935065e-153  ,\n",
       "   -349.21435798606905)),\n",
       " (-3151.6519557675197,\n",
       "  (6, 9, 13, 20, 'cN',            mean        sd  mc_error   hpd_2.5  hpd_97.5\n",
       "   y_N    3.975504  0.288402  0.012512  3.389957  4.475405\n",
       "   y_err  0.743640  0.274995  0.012264  0.326521  1.301742, 13.282085412183118))]"
      ]
     },
     "execution_count": 33,
     "metadata": {},
     "output_type": "execute_result"
    }
   ],
   "source": [
    "def get_path(modes):\n",
    "    mj = len(modes)-1\n",
    "    path = [modes[mj]]\n",
    "    while mj > 0:\n",
    "        mj = modes[mj][1][0]\n",
    "        path.append(modes[mj])\n",
    "    return list(reversed(path))[1:]\n",
    "\n",
    "get_path(modes)"
   ]
  },
  {
   "cell_type": "code",
   "execution_count": 18,
   "metadata": {
    "collapsed": false
   },
   "outputs": [
    {
     "data": {
      "text/plain": [
       "9.2165017497918605e-155"
      ]
     },
     "execution_count": 18,
     "metadata": {},
     "output_type": "execute_result"
    }
   ],
   "source": [
    "pm.df_summary(likes[0][1][4][0][2])[\"mean\"][\"y_err\"]"
   ]
  }
 ],
 "metadata": {
  "kernelspec": {
   "display_name": "Python 2",
   "language": "python",
   "name": "python2"
  },
  "language_info": {
   "codemirror_mode": {
    "name": "ipython",
    "version": 2
   },
   "file_extension": ".py",
   "mimetype": "text/x-python",
   "name": "python",
   "nbconvert_exporter": "python",
   "pygments_lexer": "ipython2",
   "version": "2.7.12"
  },
  "name": "Untitled.ipynb"
 },
 "nbformat": 4,
 "nbformat_minor": 1
}
