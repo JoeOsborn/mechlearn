{
 "cells": [
  {
   "cell_type": "markdown",
   "metadata": {
    "ein.tags": [
     "worksheet-0"
    ],
    "slideshow": {
     "slide_type": "-"
    }
   },
   "source": [
    "Character learning has two components.  First, we need to learn the structure of the automaton representing the automaton.  ProbFOIL, a relational learning library built on top of ProbLog, seems a natural choice---at any rate, it remains for future work.\n",
    "\n",
    "Once we have a structure, we can fit parameters to that structure.  Example parameters include the dynamics of each state and any parameters on guards.  Since we only consider one character at a time, we can abstract the environment into occluding collisions, non-occluding collisions, and hostile collisions.\n",
    "\n",
    "We'll work with non-hierarchical, non-concurrent hybrid automata for now.  Also, we'll assume left and right movement are mirrored.  Our representation of a state will define, for each variable, whether it has a constant velocity or a constant acceleration (and what that value is); and what transitions are available under what circumstances (a conjunction of abstracted inputs, continuous variable thresholds, timers, any collisions of any type at any normal to the character, and negations of the same).  A state machine is a set of states and an initial state."
   ]
  },
  {
   "cell_type": "code",
   "execution_count": 0,
   "metadata": {
    "autoscroll": "json-false",
    "collapsed": false,
    "ein.tags": [
     "worksheet-0"
    ],
    "slideshow": {
     "slide_type": "-"
    }
   },
   "outputs": [],
   "source": [
    "%matplotlib inline\n",
    "\n",
    "import pymc3 as pm\n",
    "\n",
    "import matplotlib.pyplot as plt\n",
    "from ipywidgets import interactive, fixed\n",
    "\n",
    "import numpy as np\n",
    "import pandas as pd\n",
    "import seaborn as sns\n",
    "\n",
    "\n",
    "import theano\n",
    "\n",
    "import jumpfinder\n",
    "from jumpfinder import hold, marioGetX, marioGetY, metroidGetX, metroidGetY\n",
    "import fceulib"
   ]
  },
  {
   "cell_type": "code",
   "execution_count": 0,
   "metadata": {
    "autoscroll": "json-false",
    "collapsed": false,
    "ein.tags": [
     "worksheet-0"
    ],
    "slideshow": {
     "slide_type": "-"
    }
   },
   "outputs": [],
   "source": [
    "RIGHT = 1 << 7\n",
    "LEFT = 1 << 6\n",
    "DOWN = 1 << 5\n",
    "UP = 1 << 4\n",
    "START = 1 << 3\n",
    "SELECT = 1 << 2\n",
    "B = 1 << 1\n",
    "A = 1 << 0\n",
    "\n",
    "mario_x = 0x006D\n",
    "mario_y = 0x00CE\n",
    "\n",
    "metroid_x = 0x0051\n",
    "metroid_y = 0x0052"
   ]
  },
  {
   "cell_type": "raw",
   "metadata": {
    "ein.tags": [
     "worksheet-0"
    ],
    "slideshow": {
     "slide_type": "-"
    }
   },
   "source": [
    "size = 100\n",
    "true_intercept = 1\n",
    "true_slope = 2\n",
    "\n",
    "x = np.linspace(0, 1, size)\n",
    "# y = a + b*x\n",
    "true_regression_line = true_intercept + true_slope * x\n",
    "# add noise\n",
    "y = true_regression_line + np.random.normal(scale=.5, size=size)\n",
    "\n",
    "# Add outliers\n",
    "x_out = np.append(x, [.1, .15, .2])\n",
    "y_out = np.append(y, [8, 6, 9])\n",
    "\n",
    "data = dict(x=x_out, y=y_out)"
   ]
  },
  {
   "cell_type": "raw",
   "metadata": {
    "ein.tags": [
     "worksheet-0"
    ],
    "slideshow": {
     "slide_type": "-"
    }
   },
   "source": [
    "fig = plt.figure(figsize=(7, 7))\n",
    "ax = fig.add_subplot(111, xlabel='x', ylabel='y', title='Generated data and underlying model')\n",
    "ax.plot(x_out, y_out, 'x', label='sampled data')\n",
    "ax.plot(x, true_regression_line, label='true regression line', lw=2.)\n",
    "plt.legend(loc=0);\n"
   ]
  },
  {
   "cell_type": "raw",
   "metadata": {
    "ein.tags": [
     "worksheet-0"
    ],
    "slideshow": {
     "slide_type": "-"
    }
   },
   "source": [
    "with pm.Model() as model:\n",
    "    pm.glm.glm('y ~ x', data)\n",
    "    start = pm.find_MAP()\n",
    "    step = pm.NUTS(scaling=start)\n",
    "    trace = pm.sample(2000, step, progressbar=True)\n"
   ]
  },
  {
   "cell_type": "raw",
   "metadata": {
    "ein.tags": [
     "worksheet-0"
    ],
    "slideshow": {
     "slide_type": "-"
    }
   },
   "source": [
    "plt.subplot(111, xlabel='x', ylabel='y', \n",
    "            title='Posterior predictive regression lines')\n",
    "plt.plot(x_out, y_out, 'x', label='data')\n",
    "pm.glm.plot_posterior_predictive(trace, samples=100, \n",
    "                                 label='posterior predictive regression lines')\n",
    "plt.plot(x, true_regression_line, \n",
    "         label='true regression line', lw=3., c='y')\n",
    "\n",
    "plt.legend(loc=0);\n"
   ]
  },
  {
   "cell_type": "code",
   "execution_count": 0,
   "metadata": {
    "autoscroll": "json-false",
    "collapsed": false,
    "ein.tags": [
     "worksheet-0"
    ],
    "slideshow": {
     "slide_type": "-"
    }
   },
   "outputs": [],
   "source": [
    "jumpButton = A\n",
    "games = {\n",
    "    \"mario\": (\n",
    "        \"mario.nes\",\n",
    "        (hold(0x0, 120) + hold(START | jumpButton, 30) +\n",
    "         hold(0x0, 150)),\n",
    "        marioGetX,\n",
    "        marioGetY\n",
    "    ),\n",
    "    \"metroid\": (\n",
    "        \"metroid.nes\",\n",
    "        (hold(0x0, 60) + hold(START, 1) + hold(0x0, 15) +\n",
    "         hold(START, 1) + hold(0x0, 600) + hold(LEFT, 400) +\n",
    "         hold(RIGHT, 30)),\n",
    "        metroidGetX,\n",
    "        metroidGetY\n",
    "    )\n",
    "}\n",
    "(game, startInputs, getx, gety) = games[\"mario\"]\n",
    "total = 0\n",
    "emu = fceulib.runGame(game)\n",
    "for m in startInputs:\n",
    "    total = total + 1\n",
    "    emu.step(m, 0x0)\n",
    "\n",
    "emu.step(0x0, 0x0)\n",
    "start = fceulib.VectorBytes()\n",
    "emu.save(start)\n",
    "trials = jumpfinder.runTrials(emu, start, getx, gety, jumpButton)"
   ]
  },
  {
   "cell_type": "markdown",
   "metadata": {
    "ein.tags": [
     "worksheet-0"
    ],
    "slideshow": {
     "slide_type": "-"
    }
   },
   "source": [
    "Let's learn two linear velocity models: One for ascents and one for descents."
   ]
  },
  {
   "cell_type": "code",
   "execution_count": 0,
   "metadata": {
    "autoscroll": "json-false",
    "collapsed": false,
    "ein.tags": [
     "worksheet-0"
    ],
    "slideshow": {
     "slide_type": "-"
    }
   },
   "outputs": [],
   "source": [
    "data = dict(rx=np.array([]),ry=np.array([]),fx=np.array([]),fy=np.array([]))\n",
    "for moves,stats in trials:\n",
    "    rising = True\n",
    "    fallStart = 0\n",
    "    for i,m in enumerate(moves):\n",
    "        if rising and not (m & jumpButton):\n",
    "            rising = False\n",
    "            fallStart = i\n",
    "        if rising:\n",
    "            data[\"rx\"] = np.append(data[\"rx\"],i)\n",
    "            data[\"ry\"] = np.append(data[\"ry\"],(stats.y.allVals[i+1] - stats.y.allVals[i]))\n",
    "        else:\n",
    "            data[\"fx\"] = np.append(data[\"fx\"],(i - fallStart))\n",
    "            data[\"fy\"] = np.append(data[\"fy\"], (stats.y.allVals[i+1] - stats.y.allVals[i]))\n",
    "plt.plot(data[\"rx\"],data[\"ry\"],\"+\")\n",
    "plt.plot(data[\"fx\"],data[\"fy\"],\"x\")\n",
    "plt.gca().invert_yaxis()\n",
    "plt.show()"
   ]
  },
  {
   "cell_type": "code",
   "execution_count": 0,
   "metadata": {
    "autoscroll": "json-false",
    "collapsed": false,
    "ein.tags": [
     "worksheet-0"
    ],
    "slideshow": {
     "slide_type": "-"
    }
   },
   "outputs": [],
   "source": [
    "with pm.Model() as model:\n",
    "    sigma1 = pm.HalfCauchy('sigma1', beta=10, testval=1.)\n",
    "    intercept1 = pm.Normal('Intercept1', 0, sd=20)\n",
    "    x_coeff1 = pm.Normal('rx', 0, sd=20)\n",
    "    \n",
    "    # Define likelihood\n",
    "    likelihood1 = pm.Normal('ry', mu=intercept1 + x_coeff1 * data[\"rx\"], \n",
    "                            sd=sigma1, observed=data[\"ry\"])\n",
    "    \n",
    "\n",
    "    sigma2 = pm.HalfCauchy('sigma2', beta=10, testval=1.)\n",
    "    intercept2 = pm.Normal('Intercept2', 0, sd=20)\n",
    "    x_coeff2 = pm.Normal('fx', 0, sd=20)\n",
    "    \n",
    "    # Define likelihood\n",
    "    likelihood2 = pm.Normal('fy', mu=intercept2 + x_coeff2 * data[\"fx\"], \n",
    "                            sd=sigma2, observed=data[\"fy\"])\n",
    "\n",
    "    start = pm.find_MAP()\n",
    "    step = pm.NUTS(scaling=start)\n",
    "    trace = pm.sample(2000, step, progressbar=True)\n"
   ]
  },
  {
   "cell_type": "code",
   "execution_count": 0,
   "metadata": {
    "autoscroll": "json-false",
    "collapsed": false,
    "ein.tags": [
     "worksheet-0"
    ],
    "slideshow": {
     "slide_type": "-"
    }
   },
   "outputs": [],
   "source": [
    "trace"
   ]
  },
  {
   "cell_type": "code",
   "execution_count": 0,
   "metadata": {
    "autoscroll": "json-false",
    "collapsed": false,
    "ein.tags": [
     "worksheet-0"
    ],
    "slideshow": {
     "slide_type": "-"
    }
   },
   "outputs": [],
   "source": [
    "plt.figure(figsize=(6, 6))\n",
    "pm.traceplot(trace[100:])\n",
    "plt.tight_layout();"
   ]
  },
  {
   "cell_type": "code",
   "execution_count": 0,
   "metadata": {
    "autoscroll": "json-false",
    "collapsed": false,
    "ein.tags": [
     "worksheet-0"
    ],
    "slideshow": {
     "slide_type": "-"
    }
   },
   "outputs": [],
   "source": [
    "pm.glm.plot_posterior_predictive(trace, eval=data[\"rx\"], samples=100, label='posterior predictive regression lines')\n",
    "plt.plot(data[\"rx\"], data[\"ry\"])"
   ]
  },
  {
   "cell_type": "code",
   "execution_count": 0,
   "metadata": {
    "autoscroll": "json-false",
    "collapsed": false,
    "ein.tags": [
     "worksheet-0"
    ],
    "slideshow": {
     "slide_type": "-"
    }
   },
   "outputs": [],
   "source": [
    "model.cont_vars"
   ]
  },
  {
   "cell_type": "code",
   "execution_count": 0,
   "metadata": {
    "autoscroll": "json-false",
    "collapsed": false,
    "ein.tags": [
     "worksheet-0"
    ],
    "slideshow": {
     "slide_type": "-"
    }
   },
   "outputs": [],
   "source": [
    "modelnm = \"M\"\n",
    "datamodelnm = \"M\"\n",
    "npoints = 100\n",
    "xc = \"fx\"\n",
    "ic = \"Intercept2\"\n",
    "yc = \"fy\"\n",
    "mdl = model\n",
    "trc = pm.trace_to_dataframe(trace[-1000:])\n",
    "trc = trc[[ic,xc]]\n",
    "\n",
    "ordr = 1\n",
    "xlims = (data[xc].min() - np.ptp(data[xc])/10,\n",
    "         data[xc].max() + np.ptp(data[xc])/10)\n",
    "\n",
    "x = np.linspace(xlims[0], xlims[1], npoints).reshape((npoints,1))\n",
    "pwrs = np.ones((npoints,ordr+1)) * np.arange(ordr+1)\n",
    "X = x ** pwrs\n",
    "cr = np.dot(X,trc.T)\n",
    "\n",
    "## Calculate credible regions and plot over the datapoints\n",
    "dfp = pd.DataFrame(np.percentile(cr,[2.5, 25, 50, 75, 97.5], axis=1).T,\n",
    "                   columns=['025','250','500','750','975'])\n",
    "dfp['x'] = x\n",
    "\n",
    "pal = sns.color_palette('Greens')\n",
    "\n",
    "f, ax1d = plt.subplots(1,1, figsize=(7,7))\n",
    "f.suptitle('Posterior Predictive Fit -- Data: {} -- Model: {}'.format(\n",
    "    datamodelnm, modelnm), fontsize=16)\n",
    "plt.subplots_adjust(top=0.95)\n",
    "ax1d.fill_between(dfp['x'], dfp['025'], dfp['975'], alpha=0.5\n",
    "                  ,color=pal[1], label='CR 95%')\n",
    "ax1d.fill_between(dfp['x'], dfp['250'], dfp['750'], alpha=0.5\n",
    "                  ,color=pal[2], label='CR 50%')\n",
    "ax1d.plot(dfp['x'], dfp['500'], alpha=0.6, color=pal[4], label='Median')\n",
    "_ = plt.legend()\n",
    "_ = ax1d.set_xlim(xlims)\n",
    "_ = sns.regplot(x=xc, y=yc, data=data, fit_reg=False\n",
    "                ,scatter_kws={'alpha':0.7,'s':100, 'lw':2,'edgecolor':'w'}, ax=ax1d)\n"
   ]
  },
  {
   "cell_type": "code",
   "execution_count": 0,
   "metadata": {
    "autoscroll": "json-false",
    "collapsed": false,
    "ein.tags": [
     "worksheet-0"
    ],
    "slideshow": {
     "slide_type": "-"
    }
   },
   "outputs": [],
   "source": [
    "pm.stats.dic(model=model,trace=trace)\n"
   ]
  }
 ],
 "metadata": {
  "kernelspec": {
   "display_name": "Python 2",
   "name": "python2"
  },
  "name": "jumpfit.ipynb"
 },
 "nbformat": 4,
 "nbformat_minor": 1
}
