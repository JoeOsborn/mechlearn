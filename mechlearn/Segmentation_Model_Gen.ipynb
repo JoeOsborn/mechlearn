{
 "cells": [
  {
   "cell_type": "code",
   "execution_count": null,
   "metadata": {
    "autoscroll": "json-false",
    "collapsed": false,
    "ein.tags": [
     "worksheet-0"
    ],
    "slideshow": {
     "slide_type": "-"
    }
   },
   "outputs": [],
   "source": [
    "import pickle\n",
    "import numpy as np\n",
    "import os\n",
    "os.environ[\"THEANO_FLAGS\"] = \"mode=FAST_RUN,device=cpu,floatX=float32\"\n",
    "import scipy.ndimage\n",
    "import matplotlib.pyplot as plt\n",
    "import pymc3 as pm\n",
    "import math\n",
    "import networkx as nx\n",
    "import nxpd"
   ]
  },
  {
   "cell_type": "code",
   "execution_count": null,
   "metadata": {
    "collapsed": false
   },
   "outputs": [],
   "source": [
    "tracks = pickle.load(open(\"mario_tracks.pkl\"))"
   ]
  },
  {
   "cell_type": "code",
   "execution_count": null,
   "metadata": {
    "collapsed": false
   },
   "outputs": [],
   "source": [
    "\n",
    "tracksToKeep=['track2']\n",
    "kept = []\n",
    "    \n",
    "\n",
    "for track in sorted(tracks[1]):\n",
    "    trackID = track[0]\n",
    "    trackDict = track[1]\n",
    "    trackDat = []\n",
    "    for t in sorted(trackDict):\n",
    "        trackDat.append([t] + list(trackDict[t][1]))\n",
    "    trackDat = np.array(trackDat)\n",
    "    if trackID in tracksToKeep:\n",
    "        kept.append(trackDat)\n",
    "    #plt.plot(trackDat[:,0],256-trackDat[:,2])\n",
    "    #plt.show()\n",
    "    \n",
    "for trackID in sorted(tracks[0]):\n",
    "    track = tracks[0][trackID]\n",
    "    trackDict = track\n",
    "    trackDat = []\n",
    "    for t in sorted(trackDict):\n",
    "        trackDat.append([t] + list(trackDict[t][1]))\n",
    "    trackDat = np.array(trackDat)\n",
    "    if trackID in tracksToKeep:\n",
    "        kept.append(trackDat)\n",
    "    #plt.plot(trackDat[:,0],256-trackDat[:,2])\n",
    "    #plt.show()\n",
    "track = np.vstack(kept)\n",
    "track = track[:500,:]\n",
    "plt.plot(track[:,0],256-track[:,2])\n",
    "plt.show()\n"
   ]
  },
  {
   "cell_type": "code",
   "execution_count": null,
   "metadata": {
    "autoscroll": "json-false",
    "collapsed": false,
    "ein.tags": [
     "worksheet-0"
    ],
    "slideshow": {
     "slide_type": "-"
    }
   },
   "outputs": [],
   "source": [
    "def thresholds(vals, t_window=5):\n",
    "    last_diff = 0\n",
    "    last_diff_t = 0\n",
    "    max_v = min(vals)\n",
    "    min_v = max(vals)\n",
    "    thresholds = set([0, min_v, max_v])\n",
    "    for t, v in enumerate(vals):\n",
    "        if (t - last_diff_t) == t_window:\n",
    "            thresholds.add(last_diff)\n",
    "        if v != last_diff:\n",
    "            last_diff = v\n",
    "            last_diff_t = t\n",
    "    return thresholds\n",
    "\n",
    "axis = 2\n",
    "window = 3\n",
    "\n",
    "velocities = track[1:,axis]-track[:-1,axis] \n",
    "\n",
    "thresholds(velocities)"
   ]
  },
  {
   "cell_type": "code",
   "execution_count": null,
   "metadata": {
    "autoscroll": "json-false",
    "collapsed": false,
    "ein.tags": [
     "worksheet-0"
    ],
    "slideshow": {
     "slide_type": "-"
    }
   },
   "outputs": [],
   "source": [
    "def samey_intervals(vals, t_window=5):\n",
    "    last_diff = 0\n",
    "    last_diff_t = 0\n",
    "    intervals = []\n",
    "    for t, v in enumerate(vals):\n",
    "        changed = (v != last_diff and (t == len(vals)-1 or vals[t+1] != last_diff))\n",
    "        if ((t - last_diff_t) >= t_window) and changed:\n",
    "            intervals.append(last_diff_t+1)\n",
    "            intervals.append(t-1)\n",
    "        if changed:\n",
    "            last_diff = v\n",
    "            last_diff_t = t-1\n",
    "    intervals.append(t-1)\n",
    "    return sorted(set(intervals))\n",
    "\n",
    "axis = 2\n",
    "window = 2\n",
    "\n",
    "velocities = track[1:,axis]-track[:-1,axis] \n",
    "smoothed = scipy.ndimage.filters.convolve1d(velocities, np.ones(window)/window)\n",
    "\n",
    "sameys = samey_intervals(velocities)\n",
    "\n",
    "plt.plot(velocities[:])\n",
    "plt.plot(np.array(sameys),velocities[np.array(sameys,dtype='int')],'rx')\n",
    "plt.xlim((190,220))\n",
    "plt.show()\n"
   ]
  },
  {
   "cell_type": "code",
   "execution_count": null,
   "metadata": {
    "autoscroll": "json-false",
    "collapsed": false,
    "ein.tags": [
     "worksheet-0"
    ],
    "slideshow": {
     "slide_type": "-"
    }
   },
   "outputs": [],
   "source": [
    "def zero_crossings(vals):\n",
    "    sign_intervals = []\n",
    "    last_sign_change = 0\n",
    "    vsigns = np.sign(vals)\n",
    "    last_sign = vsigns[0]\n",
    "    for t, v in enumerate(vsigns):\n",
    "        if v == last_sign or (t < len(vsigns) and vsigns[t+1] == last_sign):\n",
    "            continue\n",
    "        elif v != last_sign:\n",
    "            sign_intervals.append(last_sign_change)\n",
    "            sign_intervals.append(t-1)\n",
    "            sign_intervals.append(t)\n",
    "            last_sign = v\n",
    "            last_sign_change = t\n",
    "    if t - 1 != last_sign_change:\n",
    "        sign_intervals.append(last_sign_change)\n",
    "        sign_intervals.append(t)\n",
    "    return sorted(set(sign_intervals))\n",
    "\n",
    "axis = 2\n",
    "window = 2\n",
    "\n",
    "velocities = track[1:,axis]-track[:-1,axis] \n",
    "zeroxs = zero_crossings(velocities)\n",
    "\n",
    "plt.plot(velocities[:])\n",
    "plt.plot(np.array(zeroxs),velocities[np.array(zeroxs,dtype='int')],'rx')\n",
    "plt.xlim((190,220))\n",
    "plt.show()"
   ]
  },
  {
   "cell_type": "code",
   "execution_count": null,
   "metadata": {
    "collapsed": false,
    "scrolled": false
   },
   "outputs": [],
   "source": [
    "axis = 2\n",
    "\n",
    "velocities = track[1:,axis]-track[:-1,axis] \n",
    "\n",
    "same_window = 10\n",
    "\n",
    "switch_points = set(zero_crossings(velocities))\n",
    "\n",
    "samey_points = set(samey_intervals(velocities,t_window=same_window))\n",
    "\n",
    "velocity_times = sorted(switch_points | samey_points)\n",
    "\n",
    "print len(velocity_times)\n",
    "\n",
    "plt.plot(track[:,2])\n",
    "plt.plot(np.array(velocity_times),track[np.array(velocity_times,dtype='int'),2],'rx')\n",
    "plt.show()\n"
   ]
  },
  {
   "cell_type": "code",
   "execution_count": null,
   "metadata": {
    "collapsed": false,
    "scrolled": true
   },
   "outputs": [],
   "source": [
    "import fceulib\n",
    "inputVec = fceulib.readInputs('Illustrative.fm2')\n",
    "\n",
    "def button_change_times(button_masks):\n",
    "    last_mask = 0\n",
    "    mask_times = []\n",
    "    # Note: for a temporary optimization we could drop certain buttons?\n",
    "    for t, b in enumerate(button_masks):\n",
    "        if t < track[0,0]:\n",
    "            continue\n",
    "        if t > track[-1,0]:\n",
    "            break\n",
    "        if b != last_mask:\n",
    "            mask_times.append(t-track[0,0])\n",
    "            last_mask = b\n",
    "    return mask_times\n",
    "\n",
    "button_times = button_change_times(inputVec)\n",
    "\n",
    "plt.plot(np.array(button_times),np.array(button_times)*0,'rx')\n",
    "plt.show()"
   ]
  },
  {
   "cell_type": "code",
   "execution_count": null,
   "metadata": {
    "collapsed": false
   },
   "outputs": [],
   "source": [
    "# Templates is an array of model-generating functions of increasing complexity.\n",
    "templates = [\n",
    "    # Constant 0 velocity\n",
    "    (\"c0\",lambda n,axis,vs,pv: pm.Normal(\n",
    "        n, \n",
    "        mu=0,\n",
    "        sd=pm.HalfCauchy(n+\"_err\",beta=10),\n",
    "        observed=vs[:,axis]\n",
    "    )),\n",
    "    # Constant velocity from old value\n",
    "    (\"cP\",lambda n,axis,vs,pv: pm.Normal(\n",
    "        n,\n",
    "        mu=pv,\n",
    "        sd=pm.HalfCauchy(n+\"_err\",beta=10),\n",
    "        observed=vs[:,axis]\n",
    "    )),\n",
    "    # Fixed constant velocity\n",
    "    (\"cN\",lambda n,axis,vs,pv: pm.Normal(\n",
    "        n,\n",
    "        mu=pm.Normal(n+\"_N\",mu=0,sd=10),\n",
    "        sd=pm.HalfCauchy(n+\"_err\",beta=10),\n",
    "        observed=vs[:,axis]\n",
    "    )),\n",
    "    # Constant acceleration from 0\n",
    "    (\"acc0\",lambda n,axis,vs,pv: pm.Normal(\n",
    "        n,\n",
    "        mu=pm.Normal(n+\"_acc\",mu=0,sd=10)*vs[:,0],\n",
    "        sd=pm.HalfCauchy(n+\"_err\",beta=10),\n",
    "        observed=vs[:,axis]\n",
    "    )),\n",
    "    # Constant acceleration from old velocity value\n",
    "    (\"accP\",lambda n,axis,vs,pv: pm.Normal(\n",
    "        n,\n",
    "        mu=pv+pm.Normal(n+\"_acc\",mu=0,sd=10)*vs[:,0],\n",
    "        sd=pm.HalfCauchy(n+\"_err\",beta=10),\n",
    "        observed=vs[:,axis]\n",
    "    )),\n",
    "    # Constant acceleration from fixed constant velocity\n",
    "    (\"accN\",lambda n,axis,vs,pv: pm.Normal(\n",
    "        n,\n",
    "        mu=pm.Normal(n+\"_N\",mu=0,sd=10)+pm.Normal(n+\"_acc\",mu=0,sd=20)*vs[:,0],\n",
    "        sd=pm.HalfCauchy(n+\"_err\",beta=10),\n",
    "        observed=vs[:,axis]\n",
    "    )),\n",
    "]\n",
    "templates = templates\n",
    "type2ind = {t[0]:i for i,t in enumerate(templates)}\n",
    "print type2ind"
   ]
  },
  {
   "cell_type": "code",
   "execution_count": null,
   "metadata": {
    "collapsed": true
   },
   "outputs": [],
   "source": [
    "iterations = 5000\n",
    "def model_template_generate(template_i, axis, segment, prev_val):\n",
    "    axisNames = [None,\"x\",\"y\"]\n",
    "    template = templates[template_i]\n",
    "    (tn, t) = template\n",
    "    with pm.Model() as model:\n",
    "        lik = t(axisNames[axis],axis,segment,prev_val)\n",
    "        step = pm.Metropolis()\n",
    "        trace = pm.sample(iterations, step, progressbar=False)\n",
    "        subtrace = trace[len(trace)/2:-1:10]\n",
    "    return (tn,model,subtrace)"
   ]
  },
  {
   "cell_type": "code",
   "execution_count": null,
   "metadata": {
    "collapsed": false
   },
   "outputs": [],
   "source": [
    "def model_set_generate(data):\n",
    "    track,all_times,axis,i,j = data\n",
    "    t0 = all_times[i]\n",
    "    t1 = all_times[j]\n",
    "    print \"go\",i,j,t0,t1\n",
    "    if t0 == 0:\n",
    "        segment = track[t0+1:t1+1]-track[t0:t1]\n",
    "        prev_vel = float('inf')\n",
    "    elif t1+1 > np.shape(track)[1]:\n",
    "        extended_track = np.concatenate((track,[track[-1]]))\n",
    "        segment = extended_track[t0+1:t1+1]-extended_track[t0:t1]\n",
    "        prev_vel = track[t0,axis]-track[t0-1,axis]\n",
    "    else:\n",
    "        #9,10,11 - 8,9,10\n",
    "        segment = track[t0+1:t1+1]-track[t0:t1]\n",
    "        prev_vel = track[t0,axis]-track[t0-1,axis]\n",
    "    segment[:,0] = range(0,np.shape(segment)[0])\n",
    "    result = map(\n",
    "        lambda ti: model_template_generate(ti, \n",
    "                                           axis,\n",
    "                                           segment,\n",
    "                                           prev_vel),\n",
    "        range(0,len(templates)))\n",
    "    return (i,j,t0,t1,result)"
   ]
  },
  {
   "cell_type": "code",
   "execution_count": null,
   "metadata": {
    "collapsed": false
   },
   "outputs": [],
   "source": [
    "iterations = 5000\n",
    "all_times = sorted(set(velocity_times + button_times))\n",
    "\n",
    "all_times = all_times[:50]#[:len(all_times)/4]"
   ]
  },
  {
   "cell_type": "code",
   "execution_count": null,
   "metadata": {
    "collapsed": false
   },
   "outputs": [],
   "source": [
    "dts = []\n",
    "for i in range(len(all_times)):\n",
    "    for j in range(i+1, len(all_times)):\n",
    "        dt = all_times[j]-all_times[i]\n",
    "        dts.append(dt)\n",
    "\n",
    "\n",
    "plt.hist(dts,max(dts))\n",
    "plt.xlim((0,10))\n",
    "plt.show()\n"
   ]
  },
  {
   "cell_type": "code",
   "execution_count": null,
   "metadata": {
    "collapsed": false,
    "scrolled": true
   },
   "outputs": [],
   "source": [
    "likes = [None]*len(all_times)\n",
    "\n",
    "print \"Points:\",len(all_times)\n",
    "print all_times\n",
    "plt.plot(velocities[:all_times[-1]])\n",
    "plt.plot(np.array(all_times),velocities[np.array(all_times,dtype='int')],'rx')\n",
    "plt.show()\n",
    "\n",
    "# Takahashi Meijin constant, 60 frames / 16 inputs ~= 4 frames per input.\n",
    "# But note that in general transitions may happen more frequently due to collisions, etc.\n",
    "min_interval = 4 \n",
    "\n",
    "for i in range(0,len(all_times)):\n",
    "    likes[i] = [None]*len(all_times)\n",
    "    t0 = all_times[i]\n",
    "    print t0\n",
    "    min_likelihood = float('inf')\n",
    "    for j in range(i+1, len(all_times)):\n",
    "        js = model_set_generate((track,all_times,axis,i,j))\n",
    "        the_templates = js[-1]\n",
    "        foundOne = False\n",
    "        for tn,mod,trace in the_templates:\n",
    "            logp = -np.mean([mod.logp(pt) for pt in trace])/float(all_times[j]-all_times[i])\n",
    "            print logp\n",
    "            if logp < min_likelihood:\n",
    "                min_likelihood = logp\n",
    "                foundOne = True\n",
    "        if not foundOne:\n",
    "            break\n",
    "        likes[i][j] = js\n",
    "        \n",
    "    #js = map(model_set_generate,\n",
    "    #         map(lambda j:(track,all_times,axis,i,j), [j for j in range(i+1, len(all_times)) if all_times[j]-all_times[i] > min_interval]))\n",
    "    #likes[i][i+1:len(all_times)] = js\n",
    "\n",
    "pickle.dump((start_time, end_time, axis, all_times, track, velocities, inputVec, likes),open('mario_likes.pkl','wb'))\n",
    "print \"Done!\""
   ]
  },
  {
   "cell_type": "code",
   "execution_count": null,
   "metadata": {
    "collapsed": false,
    "scrolled": false
   },
   "outputs": [],
   "source": [
    "for li in likes[0:10]:\n",
    "    for lij in li[0:10]:\n",
    "        if lij is None or lij == []: \n",
    "            continue\n",
    "        (i,j,t0,t1,models) = lij\n",
    "        print i,j,t0,t1\n",
    "        for m in models:\n",
    "            print m[0],pm.df_summary(m[-1])\n",
    "        print \"\\n\""
   ]
  }
 ],
 "metadata": {
  "kernelspec": {
   "display_name": "Python 2",
   "language": "python",
   "name": "python2"
  },
  "language_info": {
   "codemirror_mode": {
    "name": "ipython",
    "version": 2
   },
   "file_extension": ".py",
   "mimetype": "text/x-python",
   "name": "python",
   "nbconvert_exporter": "python",
   "pygments_lexer": "ipython2",
   "version": "2.7.12"
  },
  "name": "Untitled.ipynb"
 },
 "nbformat": 4,
 "nbformat_minor": 1
}
