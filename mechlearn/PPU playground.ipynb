{
 "cells": [
  {
   "cell_type": "code",
   "execution_count": null,
   "metadata": {
    "collapsed": true
   },
   "outputs": [],
   "source": [
    "%matplotlib inline\n",
    "import fceulib\n",
    "from fceulib import VectorBytes\n",
    "import numpy as np\n",
    "from PIL import Image"
   ]
  },
  {
   "cell_type": "code",
   "execution_count": null,
   "metadata": {
    "collapsed": false
   },
   "outputs": [],
   "source": [
    "\n",
    "START = 0x08\n",
    "RUN = 0x02\n",
    "JUMP = 0x01\n",
    "mario_y = 0x00CE\n",
    "mario_x = 0x006D\n",
    "\n",
    "def hold(mask, duration):\n",
    "    return [mask for i in range(duration)]\n",
    "\n",
    "\n",
    "\n",
    "imgBuffer = VectorBytes()\n",
    "def outputImage(emu, name, buf=imgBuffer):\n",
    "    emu.imageInto(buf)\n",
    "    outImg = Image.frombytes(\"RGBA\", (256, 256), str(bytearray(buf)))\n",
    "    outImg.save(name + \".png\")"
   ]
  },
  {
   "cell_type": "code",
   "execution_count": null,
   "metadata": {
    "collapsed": false
   },
   "outputs": [],
   "source": [
    "\n",
    "emu = fceulib.runGame('mario.nes')\n",
    "startInputs = hold(0x0, 120) + hold(START | JUMP, 30) + hold(0x0, 150)\n",
    "jumpInputs = [hold(0x0, 5) + hold(JUMP, t) + hold(0x0, 300)\n",
    "              for t in range(5, 300)]\n",
    "for m in startInputs:\n",
    "    emu.step(m, 0x0)\n",
    "emu.stepFull(0x0, 0x0)\n",
    "start = VectorBytes()\n",
    "print(\"SAVE\")\n",
    "emu.save(start)"
   ]
  },
  {
   "cell_type": "code",
   "execution_count": null,
   "metadata": {
    "collapsed": false
   },
   "outputs": [],
   "source": [
    "def pointer_to_numpy(ptr,length=0):\n",
    "    if length ==0:\n",
    "        length = len(ptr)\n",
    "    return np.array([ptr[xx] for xx in range(length)])\n",
    "\n",
    "emu.load(start)\n",
    "nt = pointer_to_numpy(emu.fc.ppu.NTARAM)\n",
    "ram_ptr = emu.fc.fceu.RAM\n",
    "nt = nt[:960].reshape(30,32)\n",
    "print nt\n",
    "outputImage(emu, \"start\")"
   ]
  },
  {
   "cell_type": "code",
   "execution_count": null,
   "metadata": {
    "collapsed": false
   },
   "outputs": [],
   "source": [
    "import numpy as np\n",
    "nt = np.array(nt)\n",
    "\n",
    "import matplotlib.pyplot as plt\n",
    "#plt.imshow(nt,interpolation='none')\n",
    "#plt.show()"
   ]
  },
  {
   "cell_type": "code",
   "execution_count": null,
   "metadata": {
    "collapsed": false
   },
   "outputs": [],
   "source": [
    "pt = pointer_to_numpy(emu.fc.ppu.PALRAM)\n",
    "print pt"
   ]
  },
  {
   "cell_type": "code",
   "execution_count": null,
   "metadata": {
    "collapsed": false
   },
   "outputs": [],
   "source": [
    "sprite_ram  = pointer_to_numpy(emu.fc.ppu.SPRAM)\n",
    "def sprite_attributes_to_dict(attributes):\n",
    "    masks = {'background' : 0x20,\n",
    "        'hflip' : 0x40,\n",
    "        'vflip'  : 0x80}\n",
    "    sprite_attributes = {mask:attributes&masks[mask]>0 for mask in masks}\n",
    "    sprite_attributes['palette'] = attributes & 0x03\n",
    "    return sprite_attributes\n",
    "to_plot = []\n",
    "for ii in range(0,len(sprite_ram),4):\n",
    "    if sprite_ram[ii] < 240:\n",
    "        print ii,'x: {}, y: {}, id:{}, attributes:{},{}'.format(sprite_ram[ii+3],\n",
    "                                                      sprite_ram[ii],\n",
    "                                                      sprite_ram[ii+1],\n",
    "                                                      sprite_attributes_to_dict(sprite_ram[ii+2]),\n",
    "                                                      sprite_ram[ii+2])\n",
    "    if sprite_ram[ii+1] > 0:\n",
    "        to_plot.append([sprite_ram[ii+3],sprite_ram[ii]])\n",
    "to_plot = np.array(to_plot,dtype='float')\n",
    "print to_plot\n",
    "plt.plot(to_plot[:,0]/8.,to_plot[:,1]/8.,'rx')\n",
    "plt.imshow(nt,interpolation='none')\n",
    "plt.show()\n"
   ]
  },
  {
   "cell_type": "code",
   "execution_count": null,
   "metadata": {
    "collapsed": false
   },
   "outputs": [],
   "source": [
    "sprite_id = 7\n",
    "def fetch_sprite(sprite_id,attributes):\n",
    "    sprite = []\n",
    "    for yy in range(8):\n",
    "        a = emu.fc.ppu.fetchSprite(sprite_id,yy)\n",
    "        row = []\n",
    "        for xx in range(8):\n",
    "            row.append(a&3)\n",
    "            a >>=4\n",
    "        if attributes['hflip']:\n",
    "            sprite.append(list(reversed(row)))\n",
    "        else:\n",
    "            sprite.append(row)\n",
    "    sprite = np.array(sprite)\n",
    "    return sprite\n",
    "plt.imshow(fetch_sprite(sprite_id,sprite_attributes_to_dict(sprite_ram[sprite_id*4+2])),interpolation='nearest')\n",
    "plt.show()"
   ]
  },
  {
   "cell_type": "code",
   "execution_count": null,
   "metadata": {
    "collapsed": false
   },
   "outputs": [],
   "source": [
    "bg_pat_addr = 0x1000 if (emu.fc.ppu.values[0] & (1 << 4)) else 0x0000;\n",
    "bg_ram = pointer_to_numpy(emu.fc.cart.getVPageChunk(bg_pat_addr),0x1000)\n",
    "def get_tile(tile_id):\n",
    "    tile = []\n",
    "    for yy in range(8):\n",
    "        row = []\n",
    "        lb = bg_ram[tile_id*16+yy]\n",
    "        ub = bg_ram[tile_id*16+yy+8]\n",
    "        for xx in range(8):\n",
    "            l = lb&1\n",
    "            u = ub&1\n",
    "            v = l+u*2\n",
    "            lb >>= 1\n",
    "            ub >>= 1\n",
    "            row.append(v)\n",
    "        tile.append(list(reversed(row)))\n",
    "    tile = np.array(tile)\n",
    "    return tile\n",
    "plt.imshow(get_tile(181),interpolation='nearest')\n",
    "plt.show()\n",
    "#  const uint8 *vram = &emu->GetFC()->cart->\n",
    "# VPage[bg_pat_addr >> 10][bg_pat_addr];"
   ]
  },
  {
   "cell_type": "code",
   "execution_count": null,
   "metadata": {
    "collapsed": false
   },
   "outputs": [],
   "source": [
    "help(fceulib)"
   ]
  },
  {
   "cell_type": "code",
   "execution_count": null,
   "metadata": {
    "collapsed": true
   },
   "outputs": [],
   "source": [
    "\n",
    "from collections import defaultdict\n",
    "import zipfile\n",
    "import numpy as np\n",
    "from matplotlib import pyplot as plt\n",
    "from matplotlib.colors import ListedColormap\n",
    "from matplotlib import animation\n",
    "\n",
    "\n",
    "class ROMViewer(object):\n",
    "    \"\"\"Visually inspect an NES ROM\"\"\"\n",
    "    def __init__(self, filename, N1=16, N2=16, sep=1):\n",
    "        if zipfile.is_zipfile(filename):\n",
    "            zp = zipfile.ZipFile(filename)\n",
    "            data = np.unpackbits(np.frombuffer(zp.read(zp.filelist[0]),\n",
    "                                               dtype=np.uint8))\n",
    "        else:\n",
    "            data = np.unpackbits(np.fromfile(filename, dtype=np.uint8))\n",
    "\n",
    "        self.data = data.reshape((-1, 8, 8))"
   ]
  },
  {
   "cell_type": "code",
   "execution_count": null,
   "metadata": {
    "collapsed": false
   },
   "outputs": [],
   "source": [
    "graphics = ROMViewer('mario.nes')\n",
    "import scipy.misc\n",
    "scipy.misc.imsave('outfile.png', graphics.data.reshape([-1,8]))"
   ]
  },
  {
   "cell_type": "code",
   "execution_count": null,
   "metadata": {
    "collapsed": true
   },
   "outputs": [],
   "source": []
  }
 ],
 "metadata": {
  "kernelspec": {
   "display_name": "Python 2",
   "language": "python",
   "name": "python2"
  },
  "language_info": {
   "codemirror_mode": {
    "name": "ipython",
    "version": 2
   },
   "file_extension": ".py",
   "mimetype": "text/x-python",
   "name": "python",
   "nbconvert_exporter": "python",
   "pygments_lexer": "ipython2",
   "version": "2.7.10"
  }
 },
 "nbformat": 4,
 "nbformat_minor": 1
}
