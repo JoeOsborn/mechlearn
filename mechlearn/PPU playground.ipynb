{
 "cells": [
  {
   "cell_type": "code",
   "execution_count": null,
   "metadata": {
    "collapsed": false
   },
   "outputs": [],
   "source": [
    "%matplotlib inline\n",
    "import fceulib\n",
    "from fceulib import VectorBytes\n",
    "import numpy as np\n",
    "import time\n",
    "import matplotlib.pyplot as plt\n",
    "from fceu_help import *\n",
    "from math import *"
   ]
  },
  {
   "cell_type": "code",
   "execution_count": null,
   "metadata": {
    "collapsed": false
   },
   "outputs": [],
   "source": [
    "\n",
    "START = 0x08\n",
    "RUN = 0x02\n",
    "JUMP = 0x01\n",
    "\n",
    "#inputVec = fceulib.readInputs('videos/algar-batman.fm2')\n",
    "#emu = fceulib.runGame('batman.nes')\n",
    "\n",
    "#inputVec = fceulib.readInputs('videos/lordtom_tompa-smb3-warpless.fm2')\n",
    "#emu = fceulib.runGame('smb3.nes')\n",
    "\n",
    "inputVec = fceulib.readInputs('videos/happylee4-smb-warpless.fm2')\n",
    "emu = fceulib.runGame('mario.nes')\n",
    "\n",
    "#inputVec = fceulib.readInputs('videos/Contra by 3D.fm2')\n",
    "#emu = fceulib.runGame('contra.nes')\n",
    "\n",
    "start = VectorBytes()\n",
    "emu.save(start)\n",
    "\n"
   ]
  },
  {
   "cell_type": "code",
   "execution_count": null,
   "metadata": {
    "collapsed": false,
    "scrolled": true
   },
   "outputs": [],
   "source": [
    "peekevery = 1\n",
    "emu.load(start)\n",
    "image_prefix = 'contra'\n",
    "display = False\n",
    "img_buffer = VectorBytes()\n",
    "\n",
    "colorized2id = {}\n",
    "id2colorized = {}\n",
    "with open('test.txt','wb') as outfile:\n",
    "    for timestep, inp in enumerate(inputVec):\n",
    "        emu.stepFull(inp,0x0)\n",
    "        if not (timestep % peekevery == 0) or timestep < 270 :\n",
    "            continue\n",
    "        print timestep\n",
    "        if timestep > 1000:\n",
    "            break\n",
    "\n",
    "        sprite_list,colorized_sprites = get_all_sprites(emu.fc)\n",
    "        if display:\n",
    "            outputImage(emu, '{}_{}'.format(image_prefix,timestep),img_buffer)\n",
    "            #if len(sprite_list) > 0:\n",
    "            #    for ii in range(len(sprite_list)):\n",
    "            #        print sprite_list[ii][0],sprite_list[ii][1]\n",
    "            #        plt.imshow((colorized_sprites[ii][:,:,:3]*1.0)/255.0,interpolation='nearest')\n",
    "            #        plt.show()\n",
    "            if len(sprite_list) > 0:\n",
    "                sprite_list2 = np.array(sprite_list,dtype='float')\n",
    "                print sprite_list2\n",
    "                plt.plot(sprite_list2[:,0]/8.,sprite_list2[:,1]/8.,'rx') \n",
    "            nt = pointer_to_numpy(emu.fc.ppu.NTARAM)\n",
    "            nt = nt[:960].reshape(30,32)\n",
    "            plt.imshow(nt,interpolation='none')\n",
    "            plt.show()\n",
    "        \n",
    "        for sprite_id,sprite in enumerate(sprite_list):\n",
    "            if np.sum(colorized_sprites[sprite_id].ravel()) == 0:\n",
    "                continue\n",
    "            uniq = tuple(colorized_sprites[sprite_id].ravel())\n",
    "            if uniq not in colorized2id:\n",
    "                colorized2id[uniq] = len(colorized2id)\n",
    "                id2colorized[colorized2id[uniq]] = colorized_sprites[sprite_id]\n",
    "            outfile.write('{},{},{},{}\\n'.format(timestep,colorized2id[uniq],sprite[0],sprite[1]))\n",
    "        "
   ]
  },
  {
   "cell_type": "code",
   "execution_count": null,
   "metadata": {
    "collapsed": false
   },
   "outputs": [],
   "source": [
    "\n",
    "\n",
    "#uses normalized pmi as a thresholding mechanism \n",
    "# -1 = no co-occurences, \n",
    "# 0 = independent \n",
    "# 1 = only co-occur\n",
    "def getFusedPairs(filename,fc,threshold=0.1):\n",
    "    #Read in data\n",
    "    with open(filename) as infile:\n",
    "        data = []\n",
    "        for line in infile:\n",
    "            data.append([int(float(d)) for d in line.rstrip().split(',')])\n",
    "    #get the per timestep data, as well as total counts for each sprite\n",
    "    timesteps = {}\n",
    "    pSprite = {}\n",
    "    for d in data:\n",
    "        if d[0] not in timesteps:\n",
    "            timesteps[d[0]] = []\n",
    "        timesteps[d[0]].append(d[1:])\n",
    "        if d[1] not in pSprite:\n",
    "            pSprite[d[1]] = 0\n",
    "        pSprite[d[1]] += 1\n",
    "    spr = get_sprite(0,emu.fc)\n",
    "    height = spr.shape[0]\n",
    "    #for each timestep look at all the sprite pairs and see how far apart they are,\n",
    "    #if they are within width and height of each other, add that as a co-occurence\n",
    "    \n",
    "    all_sprites = {}\n",
    "    for timestep in sorted(timesteps):\n",
    "        dat = timesteps[timestep]\n",
    "        for ii in range(len(dat)):\n",
    "            for jj in range(len(dat)):\n",
    "                if ii != jj:\n",
    "                    id1 = dat[ii][0]\n",
    "                    id2 = dat[jj][0]\n",
    "                    dx = dat[ii][1]-dat[jj][1]\n",
    "                    dy = dat[ii][2]-dat[jj][2]\n",
    "                    \n",
    "                    if abs(dx) > 8 or abs(dy) > height:\n",
    "                        continue\n",
    "                    if id1 not in all_sprites:\n",
    "                        all_sprites[id1] = {}\n",
    "                    if id2 not in all_sprites[id1]:\n",
    "                        all_sprites[id1][id2] = 0\n",
    "                    all_sprites[id1][id2] += 1\n",
    "    \n",
    "    display = True\n",
    "    accepted = set()\n",
    "    for sprite in all_sprites:\n",
    "        total = 0\n",
    "        dat = []\n",
    "        px = float(pSprite[sprite])/float(len(timesteps))\n",
    "\n",
    "        for other in all_sprites[sprite]:\n",
    "            py = float(pSprite[other])/float(len(timesteps))\n",
    "            pxy = float(all_sprites[sprite][other])/float(len(timesteps))\n",
    "            dat.append(log(px*py)/log(pxy)-1)\n",
    "        if display:\n",
    "            plt.bar(range(len(all_sprites[sprite])), dat)\n",
    "            plt.show()\n",
    "        for other,d in zip(all_sprites[sprite],dat):\n",
    "            if d > threshold:\n",
    "                s = sprite\n",
    "                o = other\n",
    "                if sprite > other:\n",
    "                    o = sprite\n",
    "                    s = other\n",
    "                accepted.add((s,o))\n",
    "    return accepted\n",
    "getFusedPairs('test.txt',emu.fc)"
   ]
  },
  {
   "cell_type": "code",
   "execution_count": null,
   "metadata": {
    "collapsed": false
   },
   "outputs": [],
   "source": [
    "\n"
   ]
  },
  {
   "cell_type": "code",
   "execution_count": null,
   "metadata": {
    "collapsed": false
   },
   "outputs": [],
   "source": [
    "\n",
    "            "
   ]
  },
  {
   "cell_type": "code",
   "execution_count": null,
   "metadata": {
    "collapsed": false
   },
   "outputs": [],
   "source": [
    "help(fceulib)"
   ]
  }
 ],
 "metadata": {
  "kernelspec": {
   "display_name": "Python 2",
   "language": "python",
   "name": "python2"
  },
  "language_info": {
   "codemirror_mode": {
    "name": "ipython",
    "version": 2
   },
   "file_extension": ".py",
   "mimetype": "text/x-python",
   "name": "python",
   "nbconvert_exporter": "python",
   "pygments_lexer": "ipython2",
   "version": "2.7.10"
  }
 },
 "nbformat": 4,
 "nbformat_minor": 1
}
