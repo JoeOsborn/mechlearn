{
 "cells": [
  {
   "cell_type": "code",
   "execution_count": null,
   "metadata": {
    "collapsed": true
   },
   "outputs": [],
   "source": [
    "import fceulib\n",
    "from fceulib import VectorBytes\n",
    "import numpy as np"
   ]
  },
  {
   "cell_type": "code",
   "execution_count": null,
   "metadata": {
    "collapsed": true
   },
   "outputs": [],
   "source": [
    "\n",
    "START = 0x08\n",
    "RUN = 0x02\n",
    "JUMP = 0x01\n",
    "mario_y = 0x00CE\n",
    "mario_x = 0x006D\n",
    "\n",
    "def hold(mask, duration):\n",
    "    return [mask for i in range(duration)]\n"
   ]
  },
  {
   "cell_type": "code",
   "execution_count": null,
   "metadata": {
    "collapsed": false
   },
   "outputs": [],
   "source": [
    "\n",
    "emu = fceulib.runGame('mario.nes')\n",
    "startInputs = hold(0x0, 120) + hold(START | JUMP, 30) + hold(0x0, 150)\n",
    "jumpInputs = [hold(0x0, 5) + hold(JUMP, t) + hold(0x0, 300)\n",
    "              for t in range(5, 300)]\n",
    "for m in startInputs:\n",
    "    emu.step(m, 0x0)\n",
    "emu.stepFull(0x0, 0x0)\n",
    "start = VectorBytes()\n",
    "print(\"SAVE\")\n",
    "emu.save(start)"
   ]
  },
  {
   "cell_type": "code",
   "execution_count": null,
   "metadata": {
    "collapsed": false
   },
   "outputs": [],
   "source": [
    "def pointer_to_numpy(ptr):\n",
    "    return np.array([ptr[xx] for xx in range(len(ptr))])\n",
    "\n",
    "emu.load(start)\n",
    "nt = pointer_to_numpy(emu.fc.ppu.NTARAM)\n",
    "ram_ptr = emu.fc.fceu.RAM\n",
    "nt = nt[:960].reshape(30,32)"
   ]
  },
  {
   "cell_type": "code",
   "execution_count": null,
   "metadata": {
    "collapsed": false
   },
   "outputs": [],
   "source": [
    "import numpy as np\n",
    "nt = np.array(nt)\n",
    "\n",
    "import matplotlib.pyplot as plt\n",
    "#plt.imshow(nt,interpolation='none')\n",
    "#plt.show()"
   ]
  },
  {
   "cell_type": "code",
   "execution_count": null,
   "metadata": {
    "collapsed": false
   },
   "outputs": [],
   "source": [
    "pt = pointer_to_numpy(emu.fc.ppu.PALRAM)\n",
    "print pt"
   ]
  },
  {
   "cell_type": "code",
   "execution_count": null,
   "metadata": {
    "collapsed": false
   },
   "outputs": [],
   "source": [
    "sprite_ram  = pointer_to_numpy(emu.fc.ppu.SPRAM)\n",
    "def sprite_attributes_to_dict(attributes):\n",
    "    masks = {'background' : 0x20,\n",
    "        'hflip' : 0x40,\n",
    "        'vflip'  : 0x80}\n",
    "    sprite_attributes = {mask:attributes&masks[mask]>0 for mask in masks}\n",
    "    sprite_attributes['palette'] = attributes & 0x03\n",
    "    return sprite_attributes\n",
    "to_plot = []\n",
    "for ii in range(0,len(sprite_ram),4):\n",
    "    print 'x: {}, y: {}, id:{}, attributes:{}'.format(sprite_ram[ii+3],\n",
    "                                                      sprite_ram[ii],\n",
    "                                                      sprite_ram[ii+1],\n",
    "                                                      sprite_attributes_to_dict(sprite_ram[ii+2]))\n",
    "    if sprite_ram[ii+1] > 0:\n",
    "        to_plot.append([sprite_ram[ii+3],sprite_ram[ii]])\n",
    "to_plot = np.array(to_plot,dtype='float')\n",
    "print to_plot\n",
    "plt.plot(to_plot[:,0]/8.,to_plot[:,1]/8.,'rx')\n",
    "plt.imshow(nt,interpolation='none')\n",
    "plt.show()\n"
   ]
  },
  {
   "cell_type": "code",
   "execution_count": null,
   "metadata": {
    "collapsed": false
   },
   "outputs": [],
   "source": [
    "help(fceulib)"
   ]
  },
  {
   "cell_type": "code",
   "execution_count": null,
   "metadata": {
    "collapsed": true
   },
   "outputs": [],
   "source": []
  }
 ],
 "metadata": {
  "kernelspec": {
   "display_name": "Python 2",
   "language": "python",
   "name": "python2"
  },
  "language_info": {
   "codemirror_mode": {
    "name": "ipython",
    "version": 2
   },
   "file_extension": ".py",
   "mimetype": "text/x-python",
   "name": "python",
   "nbconvert_exporter": "python",
   "pygments_lexer": "ipython2",
   "version": "2.7.10"
  }
 },
 "nbformat": 4,
 "nbformat_minor": 1
}
