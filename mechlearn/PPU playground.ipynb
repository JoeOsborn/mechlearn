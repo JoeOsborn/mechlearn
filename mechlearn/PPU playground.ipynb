{
 "cells": [
  {
   "cell_type": "code",
   "execution_count": null,
   "metadata": {
    "collapsed": false
   },
   "outputs": [],
   "source": [
    "%matplotlib inline\n",
    "import fceulib\n",
    "from fceulib import VectorBytes\n",
    "import numpy as np\n",
    "import time\n",
    "import matplotlib.pyplot as plt\n",
    "from fceu_help import *\n",
    "from math import *"
   ]
  },
  {
   "cell_type": "code",
   "execution_count": null,
   "metadata": {
    "collapsed": false
   },
   "outputs": [],
   "source": [
    "\n",
    "START = 0x08\n",
    "RUN = 0x02\n",
    "JUMP = 0x01\n",
    "\n",
    "#inputVec = fceulib.readInputs('videos/algar-batman.fm2')\n",
    "#emu = fceulib.runGame('batman.nes')\n",
    "\n",
    "#inputVec = fceulib.readInputs('videos/lordtom_tompa-smb3-warpless.fm2')\n",
    "#emu = fceulib.runGame('smb3.nes')\n",
    "\n",
    "inputVec = fceulib.readInputs('videos/happylee4-smb-warpless.fm2')\n",
    "emu = fceulib.runGame('mario.nes')\n",
    "\n",
    "#inputVec = fceulib.readInputs('videos/Contra by 3D.fm2')\n",
    "#emu = fceulib.runGame('contra.nes')\n",
    "\n",
    "start = VectorBytes()\n",
    "emu.save(start)\n",
    "\n"
   ]
  },
  {
   "cell_type": "code",
   "execution_count": null,
   "metadata": {
    "collapsed": false,
    "scrolled": true
   },
   "outputs": [],
   "source": [
    "peekevery = 1\n",
    "emu.load(start)\n",
    "image_prefix = 'contra'\n",
    "display = False\n",
    "img_buffer = VectorBytes()\n",
    "\n",
    "colorized2id = {}\n",
    "id2colorized = {}\n",
    "with open('test.txt','wb') as outfile:\n",
    "    for timestep, inp in enumerate(inputVec):\n",
    "        emu.stepFull(inp,0x0)\n",
    "        if not (timestep % peekevery == 0) or timestep < 270 :\n",
    "            continue\n",
    "        print timestep\n",
    "        if timestep > 1000:\n",
    "            break\n",
    "\n",
    "        sprite_list,colorized_sprites = get_all_sprites(emu.fc)\n",
    "        if display:\n",
    "            outputImage(emu, '{}_{}'.format(image_prefix,timestep),img_buffer)\n",
    "            #if len(sprite_list) > 0:\n",
    "            #    for ii in range(len(sprite_list)):\n",
    "            #        print sprite_list[ii][0],sprite_list[ii][1]\n",
    "            #        plt.imshow((colorized_sprites[ii][:,:,:3]*1.0)/255.0,interpolation='nearest')\n",
    "            #        plt.show()\n",
    "            if len(sprite_list) > 0:\n",
    "                sprite_list2 = np.array(sprite_list,dtype='float')\n",
    "                print sprite_list2\n",
    "                plt.plot(sprite_list2[:,0]/8.,sprite_list2[:,1]/8.,'rx') \n",
    "            nt = pointer_to_numpy(emu.fc.ppu.NTARAM)\n",
    "            nt = nt[:960].reshape(30,32)\n",
    "            plt.imshow(nt,interpolation='none')\n",
    "            plt.show()\n",
    "        \n",
    "        for sprite_id,sprite in enumerate(sprite_list):\n",
    "            if np.sum(colorized_sprites[sprite_id].ravel()) == 0:\n",
    "                continue\n",
    "            uniq = tuple(colorized_sprites[sprite_id].ravel())\n",
    "            if uniq not in colorized2id:\n",
    "                colorized2id[uniq] = len(colorized2id)\n",
    "                id2colorized[colorized2id[uniq]] = colorized_sprites[sprite_id]\n",
    "            outfile.write('{},{},{},{}\\n'.format(timestep,colorized2id[uniq],sprite[0],sprite[1]))\n",
    "        if False:\n",
    "            ram_ptr = pointer_to_numpy(emu.fc.fceu.RAM)\n",
    "            for ram_index,d in enumerate(ram_ptr):\n",
    "                for sprite_id,sprite in enumerate(sprite_list):\n",
    "                    if abs(d-sprite[0]) <= 1:\n",
    "                        outfile.write('{},{},{},{}\\n'.format(ram_index,'x',sprite[2],sprite_id))\n",
    "                    if abs(d-sprite[1]) <= 1:\n",
    "                        outfile.write('{},{},{},{}\\n'.format(ram_index,'y',sprite[2],sprite_id))\n",
    "           \n",
    "    "
   ]
  },
  {
   "cell_type": "code",
   "execution_count": null,
   "metadata": {
    "collapsed": false
   },
   "outputs": [],
   "source": [
    "help(fceulib)"
   ]
  },
  {
   "cell_type": "code",
   "execution_count": null,
   "metadata": {
    "collapsed": false
   },
   "outputs": [],
   "source": [
    "with open('test.txt') as infile:\n",
    "    data = []\n",
    "    for line in infile:\n",
    "        data.append([int(float(d)) for d in line.rstrip().split(',')])\n"
   ]
  },
  {
   "cell_type": "code",
   "execution_count": null,
   "metadata": {
    "collapsed": true
   },
   "outputs": [],
   "source": [
    "timesteps = {}\n",
    "for d in data:\n",
    "    if d[0] not in timesteps:\n",
    "        timesteps[d[0]] = []\n",
    "    timesteps[d[0]].append(d[1:])\n"
   ]
  },
  {
   "cell_type": "code",
   "execution_count": null,
   "metadata": {
    "collapsed": true
   },
   "outputs": [],
   "source": []
  },
  {
   "cell_type": "code",
   "execution_count": null,
   "metadata": {
    "collapsed": false
   },
   "outputs": [],
   "source": [
    "all_pairs = {}\n",
    "spr = get_sprite(0,emu.fc)\n",
    "height = spr.shape[0]\n",
    "\n",
    "for timestep in sorted(timesteps):\n",
    "    dat = timesteps[timestep]\n",
    "    for ii in range(len(dat)):\n",
    "        for jj in range(len(dat)):\n",
    "            if ii != jj:\n",
    "                id1 = dat[ii][0]\n",
    "                id2 = dat[jj][0]\n",
    "                dx = dat[ii][1]-dat[jj][1]\n",
    "                dy = dat[ii][2]-dat[jj][2]\n",
    "                #if dx % 8 != 0 or dy % 8 != 0:\n",
    "                #    continue\n",
    "                if abs(dx) > 8 or abs(dy) > height:\n",
    "                    continue\n",
    "                if id1 > id2:\n",
    "                    continue\n",
    "                entry = (id1,id2) \n",
    "                if entry not in all_pairs:\n",
    "                    all_pairs[entry] = {}\n",
    "                diff = (dx,dy)\n",
    "                if diff not in all_pairs[entry]:\n",
    "                    all_pairs[entry][diff] = 0\n",
    "                all_pairs[entry][diff] +=1\n",
    "                if id1 == id2:\n",
    "                    diff = (-dx,-dy)\n",
    "                    if diff not in all_pairs[entry]:\n",
    "                        all_pairs[entry][diff] = 0\n",
    "                    all_pairs[entry][diff] +=1\n",
    "\n",
    "all_sprites = {}\n",
    "\n",
    "for pair in all_pairs:\n",
    "    id1 = pair[0]\n",
    "    id2 = pair[1]\n",
    "    if id1 not in all_sprites:\n",
    "        all_sprites[id1] = {}\n",
    "    if id2 not in all_sprites[id1]:\n",
    "        all_sprites[id1][id2] = 0\n",
    "    \n",
    "    for dat in all_pairs[pair]:\n",
    "        all_sprites[id1][id2] += all_pairs[pair][dat]\n",
    "    id1 = pair[1]\n",
    "    id2 = pair[0]\n",
    "    if id1 not in all_sprites:\n",
    "        all_sprites[id1] = {}\n",
    "    if id2 not in all_sprites[id1]:\n",
    "        all_sprites[id1][id2] = 0\n",
    "    \n",
    "    for dat in all_pairs[pair]:\n",
    "        all_sprites[id1][id2] += all_pairs[pair][dat]\n",
    "\n",
    "        #print pair,dat,all_pairs[pair][dat]\n",
    "    #print '\\n'\n",
    "display = True\n",
    "accepted = {}\n",
    "for sprite in all_sprites:\n",
    "    total = 0\n",
    "    dat = []\n",
    "    for other in all_sprites[sprite]:\n",
    "        if False:\n",
    "            plt.imshow((id2colorized[other][:,:,:3]*1.0)/255.0,interpolation='nearest')\n",
    "            plt.show()\n",
    "            print sprite,other,all_sprites[sprite][other]\n",
    "            print '\\n'\n",
    "        dat.append(all_sprites[sprite][other])\n",
    "    total = np.max([1,np.mean(dat)/16.0])\n",
    "    for other in all_sprites[sprite]:\n",
    "        if all_sprites[sprite][other] > total:\n",
    "            s = sprite\n",
    "            o = other\n",
    "            if sprite > other:\n",
    "                o = sprite\n",
    "                s = other\n",
    "            accepted[(s,o)] = all_sprites[sprite][other] \n",
    "for sprite,other in accepted:\n",
    "    print 'PAIR ', accepted[(sprite,other)]\n",
    "    plt.imshow((id2colorized[sprite][:,:,:3]*1.0)/255.0,interpolation='nearest')\n",
    "    plt.show()\n",
    "    plt.imshow((id2colorized[other][:,:,:3]*1.0)/255.0,interpolation='nearest')\n",
    "    plt.show()\n",
    "            "
   ]
  },
  {
   "cell_type": "code",
   "execution_count": null,
   "metadata": {
    "collapsed": true
   },
   "outputs": [],
   "source": []
  },
  {
   "cell_type": "code",
   "execution_count": null,
   "metadata": {
    "collapsed": true
   },
   "outputs": [],
   "source": []
  }
 ],
 "metadata": {
  "kernelspec": {
   "display_name": "Python 2",
   "language": "python",
   "name": "python2"
  },
  "language_info": {
   "codemirror_mode": {
    "name": "ipython",
    "version": 2
   },
   "file_extension": ".py",
   "mimetype": "text/x-python",
   "name": "python",
   "nbconvert_exporter": "python",
   "pygments_lexer": "ipython2",
   "version": "2.7.10"
  }
 },
 "nbformat": 4,
 "nbformat_minor": 1
}
