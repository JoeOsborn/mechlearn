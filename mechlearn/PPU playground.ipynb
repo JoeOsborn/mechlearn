{
 "cells": [
  {
   "cell_type": "code",
   "execution_count": null,
   "metadata": {
    "collapsed": true
   },
   "outputs": [],
   "source": [
    "%matplotlib inline\n",
    "import fceulib\n",
    "from fceulib import VectorBytes\n",
    "import numpy as np\n",
    "from PIL import Image\n",
    "import time\n",
    "import matplotlib.pyplot as plt\n",
    "\n",
    "def pointer_to_numpy(ptr,length=0):\n",
    "    if length ==0:\n",
    "        length = len(ptr)\n",
    "    return np.array([ptr[xx] for xx in range(length)])\n",
    "\n",
    "\n",
    "def get_tile(tile_id):\n",
    "    tile = []\n",
    "    for yy in range(8):\n",
    "        row = []\n",
    "        lb = bg_ram[tile_id*16+yy]\n",
    "        ub = bg_ram[tile_id*16+yy+8]\n",
    "        for xx in range(8):\n",
    "            l = lb&1\n",
    "            u = ub&1\n",
    "            v = l+u*2\n",
    "            lb >>= 1\n",
    "            ub >>= 1\n",
    "            row.append(v)\n",
    "        tile.append(list(reversed(row)))\n",
    "    tile = np.array(tile)\n",
    "    return tile"
   ]
  },
  {
   "cell_type": "code",
   "execution_count": null,
   "metadata": {
    "collapsed": false
   },
   "outputs": [],
   "source": [
    "def hold(mask, duration):\n",
    "    return [mask for i in range(duration)]\n",
    "\n",
    "\n",
    "\n",
    "imgBuffer = VectorBytes()\n",
    "def outputImage(emu, name, buf=imgBuffer):\n",
    "    emu.imageInto(buf)\n",
    "    outImg = Image.frombytes(\"RGBA\", (256, 240), str(bytearray(buf)))\n",
    "    outImg.save(name + \".png\")\n",
    "    \n",
    "    \n",
    "def sprite_attributes_to_dict(attributes):\n",
    "    masks = {'background' : 0x20,\n",
    "        'hflip' : 0x40,\n",
    "        'vflip'  : 0x80}\n",
    "    sprite_attributes = {mask:attributes&masks[mask]>0 for mask in masks}\n",
    "    sprite_attributes['palette'] = attributes & 0x03\n",
    "    return sprite_attributes"
   ]
  },
  {
   "cell_type": "code",
   "execution_count": null,
   "metadata": {
    "collapsed": false
   },
   "outputs": [],
   "source": [
    "\n",
    "inputVec = fceulib.readInputs('videos/algar-batman.fm2')\n",
    "emu = fceulib.runGame('batman.nes')\n",
    "startInputs = hold(0x0, 120) + hold(START | JUMP, 30) + hold(0x0, 150)+ hold(START | JUMP, 30) #+ hold(0x0, 1000)\n",
    "jumpInputs = [hold(0x0, 5) + hold(JUMP, t) + hold(0x0, 300)\n",
    "              for t in range(5, 300)]\n",
    "#st = time.clock()\n",
    "#for m in startInputs:\n",
    "#    emu.step(m, 0x0)\n",
    "#et = time.clock()\n",
    "#print 'speedup',float(len(startInputs))/(60.*(et-st))\n",
    "#emu.stepFull(0x0, 0x0)\n",
    "start = VectorBytes()\n",
    "#print(\"SAVE\")\n",
    "emu.save(start)\n",
    "\n",
    "\n",
    "fg_pat_addr = 0x0000 if (emu.fc.ppu.values[0] & (1 << 4)) else 0x1000;\n",
    "fg_ram = pointer_to_numpy(emu.fc.cart.getVPageChunk(fg_pat_addr),0x1000)\n",
    "bg_pat_addr = 0x1000 if (emu.fc.ppu.values[0] & (1 << 4)) else 0x0000;\n",
    "bg_ram = pointer_to_numpy(emu.fc.cart.getVPageChunk(bg_pat_addr),0x1000)\n",
    "\n",
    "\n",
    "def get_sprite(tile_id):\n",
    "    tile = []\n",
    "    for yy in range(8):\n",
    "        row = []\n",
    "        lb = fg_ram[tile_id*16+yy]\n",
    "        ub = fg_ram[tile_id*16+yy+8]\n",
    "        for xx in range(8):\n",
    "            l = lb&1\n",
    "            u = ub&1\n",
    "            v = l+u*2\n",
    "            lb >>= 1\n",
    "            ub >>= 1\n",
    "            row.append(v)\n",
    "        tile.append(list(reversed(row)))\n",
    "    tile = np.array(tile)\n",
    "    return tile"
   ]
  },
  {
   "cell_type": "code",
   "execution_count": null,
   "metadata": {
    "collapsed": false
   },
   "outputs": [],
   "source": [
    "peekevery = 1000\n",
    "emu.load(start)\n",
    "image_prefix = 'batman'\n",
    "for timestep, inp in enumerate(inputVec):\n",
    "    emu.stepFull(inp,0x0)\n",
    "    if not (timestep % 300 == 0):\n",
    "        continue\n",
    "    print timestep\n",
    "    nt = pointer_to_numpy(emu.fc.ppu.NTARAM)\n",
    "    ram_ptr = emu.fc.fceu.RAM\n",
    "    nt = nt[:960].reshape(30,32)\n",
    "    outputImage(emu, '{}_{}'.format(image_prefix,timestep))\n",
    "    pt = pointer_to_numpy(emu.fc.ppu.PALRAM)\n",
    "    sprite_ram  = pointer_to_numpy(emu.fc.ppu.SPRAM)\n",
    "    \n",
    "    to_plot = []\n",
    "    for ii in range(0,len(sprite_ram),4):\n",
    "        if sprite_ram[ii] < 240:\n",
    "            print ii/4,'x: {}, y: {}, id:{}, attributes:{},{}'.format(sprite_ram[ii+3],\n",
    "                                                          sprite_ram[ii]+1,\n",
    "                                                          sprite_ram[ii+1],\n",
    "                                                          sprite_attributes_to_dict(sprite_ram[ii+2]),\n",
    "                                                          sprite_ram[ii+2])\n",
    "            if sprite_ram[ii+1] > 0:\n",
    "                to_plot.append([sprite_ram[ii+3]*1.,sprite_ram[ii]*1.+1,ii/4])\n",
    "    if len(to_plot) > 0:\n",
    "        to_plot = np.array(to_plot,dtype='float')\n",
    "        print to_plot\n",
    "        plt.plot(to_plot[:,0]/8.,to_plot[:,1]/8.,'rx')\n",
    "        \n",
    "    ram_ptr = pointer_to_numpy(emu.fc.fceu.RAM)\n",
    "    for ram_index,d in enumerate(ram_ptr):\n",
    "        for sprite_index,sprite_pos in enumerate(to_plot):\n",
    "            if d == sprite_pos[0]:\n",
    "                print ram_index , 'possibly',sprite_index,',',sprite_pos[2],'x = ',d\n",
    "            if d == sprite_pos[1]-1:\n",
    "                print ram_index, 'possibly', sprite_index,',',sprite_pos[2],'y = ',d\n",
    "                \n",
    "    plt.imshow(nt,interpolation='none')\n",
    "    plt.show()"
   ]
  },
  {
   "cell_type": "code",
   "execution_count": null,
   "metadata": {
    "collapsed": false
   },
   "outputs": [],
   "source": [
    "\n",
    "#plt.imshow(nt,interpolation='none')\n",
    "#plt.show()"
   ]
  },
  {
   "cell_type": "code",
   "execution_count": null,
   "metadata": {
    "collapsed": false
   },
   "outputs": [],
   "source": []
  },
  {
   "cell_type": "code",
   "execution_count": null,
   "metadata": {
    "collapsed": false,
    "scrolled": true
   },
   "outputs": [],
   "source": [
    "\n"
   ]
  },
  {
   "cell_type": "code",
   "execution_count": null,
   "metadata": {
    "collapsed": false
   },
   "outputs": [],
   "source": [
    "\n",
    "for ii in range(1):\n",
    "    print ii\n",
    "    plt.imshow(get_sprite(ii\n",
    "                     ),interpolation='nearest', cmap=plt.get_cmap('bone'))\n",
    "    plt.show()\n",
    "#  const uint8 *vram = &emu->GetFC()->cart->\n",
    "# VPage[bg_pat_addr >> 10][bg_pat_addr];"
   ]
  },
  {
   "cell_type": "code",
   "execution_count": null,
   "metadata": {
    "collapsed": false
   },
   "outputs": [],
   "source": [
    "\n",
    "plt.imshow(get_tile(56),interpolation='nearest')\n",
    "plt.show()\n",
    "#  const uint8 *vram = &emu->GetFC()->cart->\n",
    "# VPage[bg_pat_addr >> 10][bg_pat_addr];"
   ]
  },
  {
   "cell_type": "code",
   "execution_count": null,
   "metadata": {
    "collapsed": false
   },
   "outputs": [],
   "source": []
  },
  {
   "cell_type": "code",
   "execution_count": null,
   "metadata": {
    "collapsed": false
   },
   "outputs": [],
   "source": [
    "help(fceulib)"
   ]
  },
  {
   "cell_type": "code",
   "execution_count": null,
   "metadata": {
    "collapsed": true
   },
   "outputs": [],
   "source": []
  }
 ],
 "metadata": {
  "kernelspec": {
   "display_name": "Python 2",
   "language": "python",
   "name": "python2"
  },
  "language_info": {
   "codemirror_mode": {
    "name": "ipython",
    "version": 2
   },
   "file_extension": ".py",
   "mimetype": "text/x-python",
   "name": "python",
   "nbconvert_exporter": "python",
   "pygments_lexer": "ipython2",
   "version": "2.7.10"
  }
 },
 "nbformat": 4,
 "nbformat_minor": 1
}
