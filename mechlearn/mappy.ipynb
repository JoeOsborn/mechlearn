{
 "cells": [
  {
   "cell_type": "code",
   "execution_count": null,
   "metadata": {
    "collapsed": true
   },
   "outputs": [],
   "source": [
    "import fceulib\n",
    "import ppu_dump\n",
    "import sys\n",
    "from PIL import Image\n",
    "import numpy as np\n",
    "import matplotlib.pyplot as plt"
   ]
  },
  {
   "cell_type": "code",
   "execution_count": null,
   "metadata": {
    "collapsed": false
   },
   "outputs": [],
   "source": [
    "# rom = \"mario.nes\"\n",
    "# movie = \"mario.fm2\"\n",
    "# start_t = 373\n",
    "rom = \"metroid.nes\"\n",
    "movie = \"metroid.fm2\"\n",
    "start_t = 518+39\n",
    "# rom = \"metroid.nes\"\n",
    "# movie = \"metroid-long.fm2\"\n",
    "# start_t = 4600\n",
    "# rom = \"smb2u.nes\"\n",
    "# movie = \"smb2u.fm2\"\n",
    "# start_t = 600\n",
    "emu = fceulib.runGame(rom)\n",
    "inputs = fceulib.readInputs(movie)\n",
    "for i in inputs[:start_t]:\n",
    "    emu.stepFull(i, 0x0)"
   ]
  },
  {
   "cell_type": "code",
   "execution_count": null,
   "metadata": {
    "collapsed": false,
    "scrolled": false
   },
   "outputs": [],
   "source": [
    "reload(ppu_dump)\n",
    "ep_data = ppu_dump.ppu_output(emu,\n",
    "                              inputs[start_t:start_t+30],\n",
    "                              bg_data=True,\n",
    "                              scrolling=True,\n",
    "                              sprite_data=False,\n",
    "                              colorized_tiles=False,\n",
    "                              display=False)\n",
    "nt = ep_data[\"nametables\"][0]\n",
    "plt.imshow(nt)\n",
    "plt.show()\n",
    "nt = ep_data[\"nametables\"][1]\n",
    "plt.imshow(nt)\n",
    "plt.show()\n",
    "nt = ep_data[\"nametables\"][2]\n",
    "plt.imshow(nt)\n",
    "plt.show()\n",
    "\n",
    "nt = ep_data[\"nametables\"][-1]\n",
    "plt.imshow(nt)\n",
    "plt.show()"
   ]
  },
  {
   "cell_type": "code",
   "execution_count": null,
   "metadata": {
    "collapsed": false,
    "scrolled": true
   },
   "outputs": [],
   "source": [
    "for i in range(0, 15):\n",
    "    plt.imshow(ep_data[\"nametables\"][i])\n",
    "    plt.show()"
   ]
  },
  {
   "cell_type": "code",
   "execution_count": null,
   "metadata": {
    "collapsed": false
   },
   "outputs": [],
   "source": [
    "posx, posy = 0, 0\n",
    "nt_total = {}\n",
    "for t, (sx, sy) in ep_data[\"screen_motion\"].items():\n",
    "    nt = ep_data[\"nametables\"][t]\n",
    "    posx += sx\n",
    "    posy += sy\n",
    "    print \"t\", t, \"scroll by\", sx, sy, posx, posy\n",
    "    tilex = posx / 8\n",
    "    tiley = posy / 8\n",
    "    for x in range(0, 32):\n",
    "        for y in range(0, 30):\n",
    "            nt_total[(y+tiley, x+tilex)] = nt[y, x]\n",
    "minx = min(nt_total.keys().map(lambda x, y: x))\n",
    "maxx = max(nt_total.keys().map(lambda x, y: x))+1\n",
    "miny = min(nt_total.keys().map(lambda x, y: y))\n",
    "maxy = max(nt_total.keys().map(lambda x, y: y))+1\n",
    "nt_result = np.zeros(shape=(maxy-miny, maxx-minx))\n",
    "for x in range(minx, maxx):\n",
    "    for y in range(miny, maxy):\n",
    "        nt_result[miny+y, minx+x] = nt_total[(y, x)]\n",
    "colorized = ep_data[\"tile2colorized\"]\n",
    "out_image = np.zeros(shape=((maxy-miny)*8, (maxx-minx)*8, 4))\n",
    "for x in range(0, maxx-minx):\n",
    "    for y in range(0, maxy-miny):\n",
    "        out_image[y*8, x*8, :] = colorized[nt_result[y, x]]\n",
    "outImg = Image.fromBytes(\"RGBA\",\n",
    "                         (maxx-minx, maxy-miny),\n",
    "                         str(bytearray(out_image)))\n",
    "outImg.save(outputname+\".png\")"
   ]
  }
 ],
 "metadata": {
  "kernelspec": {
   "display_name": "Python 2",
   "language": "python",
   "name": "python2"
  },
  "language_info": {
   "codemirror_mode": {
    "name": "ipython",
    "version": 2
   },
   "file_extension": ".py",
   "mimetype": "text/x-python",
   "name": "python",
   "nbconvert_exporter": "python",
   "pygments_lexer": "ipython2",
   "version": "2.7.12"
  }
 },
 "nbformat": 4,
 "nbformat_minor": 1
}
