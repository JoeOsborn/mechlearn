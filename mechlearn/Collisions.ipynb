{
 "cells": [
  {
   "cell_type": "code",
   "execution_count": null,
   "metadata": {
    "collapsed": true
   },
   "outputs": [],
   "source": [
    "import pickle\n",
    "import numpy as np\n",
    "import matplotlib.pyplot as plt\n",
    "import scipy\n",
    "from scipy import ndimage"
   ]
  },
  {
   "cell_type": "code",
   "execution_count": null,
   "metadata": {
    "collapsed": true
   },
   "outputs": [],
   "source": [
    "thing = pickle.load(open('tracks.pkl'))"
   ]
  },
  {
   "cell_type": "code",
   "execution_count": null,
   "metadata": {
    "collapsed": false
   },
   "outputs": [],
   "source": [
    "tracks = thing[1]\n",
    "id2colorized = pickle.load(open('id2sprites.pkl'))[1]\n",
    "mario_sprites = set()\n",
    "for track in tracks:\n",
    "    trackID = track[0]\n",
    "    print trackID\n",
    "    if trackID == 'track2':\n",
    "        trackDict = track[1]\n",
    "        trackDat = []\n",
    "        for t in sorted(trackDict):\n",
    "            mario_sprites |= trackDict[t][2]\n",
    "            trackDat.append([t] + list(trackDict[t][1]))\n",
    "        trackDat = np.array(trackDat)\n",
    "        plt.plot(trackDat[:,0],256-trackDat[:,2])\n",
    "        plt.show()\n",
    "        \n",
    "        \n",
    "for track in thing[0]:\n",
    "    trackID = track\n",
    "    print trackID\n",
    "    track = thing[0][track]\n",
    "    if trackID == 'track2':\n",
    "        trackDict = track\n",
    "        trackDat = []\n",
    "        for t in sorted(trackDict):\n",
    "            mario_sprites |= trackDict[t][2]\n",
    "            trackDat.append([t] + list(trackDict[t][1]))\n",
    "        trackDat = np.array(trackDat)\n",
    "        plt.plot(trackDat[:,0],256-trackDat[:,2])\n",
    "        plt.show()\n",
    "                \n",
    "        \n",
    "for sprite in sorted(mario_sprites):\n",
    "    print sprite\n",
    "    plt.imshow(id2colorized[sprite][:,:,:3]/255.)\n",
    "    plt.show()\n",
    "exemplarTrack = trackDat\n",
    "# <time, center_x, center_y, left,right,top,bottom>\n",
    "\n",
    "\n",
    "nametables = 'nametables/nametable_{}.png'\n",
    "attributes = 'nametables/attributes_{}.png'\n",
    "tile_collisions = {}\n",
    "for pt in exemplarTrack:\n",
    "    time = pt[0]\n",
    "    nametable = scipy.ndimage.imread(nametables.format(time))[:,:,0]\n",
    "    attribute = scipy.ndimage.imread(attributes.format(time))[:,:,0]\n",
    "    left,right,bottom,top = pt[-4:]\n",
    "    \n",
    "    tile_collision = set()\n",
    "    \n",
    "    for nt,attr in zip(nametable[(bottom+1):(top-1),(left+1):(right-1)].ravel(),\n",
    "                       attribute[(bottom+1):(top-1),(left+1):(right-1)].ravel()):    \n",
    "        tile_collision.add( (nt,attr,'internal'))\n",
    "\n",
    "    for nt,attr in zip(nametable[(bottom-1):(bottom+1),(left+1):(right-1)].ravel(),\n",
    "                       attribute[(bottom-1):(bottom+1),(left+1):(right-1)].ravel()):\n",
    "        tile_collision.add( (nt,attr,'bottom'))\n",
    "        \n",
    "    for nt,attr in zip(nametable[(top-1):(top+1),(left+1):(right-1)].ravel(),\n",
    "                       attribute[(top-1):(top+1),(left+1):(right-1)].ravel()):\n",
    "        tile_collision.add( (nt,attr,'top'))\n",
    "    \n",
    "    for nt,attr in zip(nametable[(bottom+1):(top-1),(left-1):(left+1)].ravel(),\n",
    "                       attribute[(bottom+1):(top-1),(left-1):(left+1)].ravel()):\n",
    "        tile_collision.add( (nt,attr,'left'))\n",
    "\n",
    "    for nt,attr in zip(nametable[(bottom+1):(top-1),(right-1):(right+1)].ravel(),\n",
    "                       attribute[(bottom+1):(top-1),(right-1):(right+1)].ravel()):\n",
    "        tile_collision.add( (nt,attr,'right'))\n",
    "\n",
    "    tile_collisions[time] = tile_collision"
   ]
  },
  {
   "cell_type": "code",
   "execution_count": 13,
   "metadata": {
    "collapsed": false
   },
   "outputs": [],
   "source": [
    "import math\n",
    "\n",
    "sprite_collisions = {}\n",
    "for track in tracks:\n",
    "    trackID = track[0]\n",
    "    \n",
    "    if trackID != 'track3':\n",
    "        trackDict = track[1]\n",
    "        trackDat = []\n",
    "        isGood = False\n",
    "        for sourceT in tile_collisions:\n",
    "            if sourceT in trackDict:\n",
    "                isGood = True\n",
    "                break\n",
    "        if isGood:\n",
    "            overlapping = []\n",
    "            for t in sorted(trackDict):\n",
    "                trackDat.append([t] + list(trackDict[t][1]))\n",
    "                if t in exemplarTrack[:,0]:\n",
    "                    overlapping.append(t)\n",
    "            \n",
    "            \n",
    "            trackDat = np.array(trackDat)\n",
    "            \n",
    "            startOverlapping = overlapping[0]\n",
    "            endOverlapping = overlapping[-1]\n",
    "            \n",
    "            for pt in trackDat:\n",
    "                if pt[0] > endOverlapping:\n",
    "                    break\n",
    "                    \n",
    "                if pt[0] >= startOverlapping:\n",
    "                    exemplarPt = exemplarTrack[exemplarTrack[:,0] == pt[0],: ][0]\n",
    "                    if (pt[3] < exemplarPt[4] and\n",
    "                        pt[4] > exemplarPt[3] and\n",
    "                        pt[5] < exemplarPt[6] and\n",
    "                        pt[6] > exemplarPt[5]):\n",
    "                        diff = pt[1:3]-exemplarPt[1:3]\n",
    "                        angle = math.atan2(diff[1],diff[0])*180/3.14159\n",
    "                        \n",
    "                        if angle < 45.0 or angle > 315.0:\n",
    "                            direction = 'bottom'\n",
    "                        elif angle < 135.0:\n",
    "                            direction = 'right'\n",
    "                        elif angle < 225.0:\n",
    "                            direction = 'top'\n",
    "                        else:\n",
    "                            direction = 'left'\n",
    "                        if pt[0] not in sprite_collisions:\n",
    "                            sprite_collisions[pt[0]] = set()\n",
    "                        \n",
    "                        sprite_collisions[pt[0]].add(  (tuple(trackDict[pt[0]][2]), direction))\n",
    "            \n",
    "            #plt.plot(trackDat[:,0],256-trackDat[:,2])\n",
    "            #plt.plot(exemplarTrack[:,0],256-exemplarTrack[:,2])\n",
    "            #plt.show()\n",
    "            \n",
    "            "
   ]
  },
  {
   "cell_type": "code",
   "execution_count": 14,
   "metadata": {
    "collapsed": false
   },
   "outputs": [],
   "source": [
    "all_collisions = {}\n",
    "for t in sprite_collisions:\n",
    "    all_collisions[t] = sprite_collisions[t]\n",
    "    \n",
    "for t in tile_collisions:\n",
    "    for coll in tile_collisions[t]:\n",
    "        if t not in all_collisions:\n",
    "            all_collisions[t] = set()\n",
    "        all_collisions[t].add(((coll[0],coll[1],'tile'),coll[2]))"
   ]
  },
  {
   "cell_type": "code",
   "execution_count": 15,
   "metadata": {
    "collapsed": false
   },
   "outputs": [],
   "source": [
    "pickle.dump(all_collisions,open('collisions.pkl','wb'))\n"
   ]
  },
  {
   "cell_type": "code",
   "execution_count": 16,
   "metadata": {
    "collapsed": false
   },
   "outputs": [
    {
     "name": "stdout",
     "output_type": "stream",
     "text": [
      "set([(180, 1, 'top'), (52, 0, 'left'), (38, 0, 'internal'), (181, 1, 'top'), (38, 0, 'left'), (52, 0, 'internal'), (38, 0, 'bottom'), (51, 0, 'right'), (38, 0, 'right'), (52, 0, 'bottom')])\n"
     ]
    }
   ],
   "source": [
    "print tile_collisions[400]"
   ]
  },
  {
   "cell_type": "code",
   "execution_count": null,
   "metadata": {
    "collapsed": true
   },
   "outputs": [],
   "source": []
  }
 ],
 "metadata": {
  "kernelspec": {
   "display_name": "Python 2",
   "language": "python",
   "name": "python2"
  },
  "language_info": {
   "codemirror_mode": {
    "name": "ipython",
    "version": 2
   },
   "file_extension": ".py",
   "mimetype": "text/x-python",
   "name": "python",
   "nbconvert_exporter": "python",
   "pygments_lexer": "ipython2",
   "version": "2.7.10"
  }
 },
 "nbformat": 4,
 "nbformat_minor": 1
}
