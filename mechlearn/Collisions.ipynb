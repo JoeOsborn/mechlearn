{
 "cells": [
  {
   "cell_type": "code",
   "execution_count": 1,
   "metadata": {
    "collapsed": true
   },
   "outputs": [],
   "source": [
    "import pickle\n",
    "import numpy as np\n",
    "import matplotlib.pyplot as plt\n",
    "import scipy\n",
    "from scipy import ndimage"
   ]
  },
  {
   "cell_type": "code",
   "execution_count": 2,
   "metadata": {
    "collapsed": false
   },
   "outputs": [],
   "source": [
    "all_tracks = pickle.load(open('all_tracks.pkl'))\n"
   ]
  },
  {
   "cell_type": "code",
   "execution_count": 3,
   "metadata": {
    "collapsed": false
   },
   "outputs": [],
   "source": [
    "def overlaps(box1,box2):\n",
    "    \n",
    "    if (box1[2] <= box2[3]+1 and\n",
    "        box1[3]+1 >= box2[2] and\n",
    "        box1[4] <= box2[5]+1 and\n",
    "        box1[5]+1 >= box2[4]):\n",
    "        diff = np.array(box2[1:3])-np.array(box1[1:3])\n",
    "        angle = np.arctan2(diff[1],diff[0])*180/3.14159\n",
    "\n",
    "        if angle < 45.0 or angle > 315.0:\n",
    "            return 1 #top\n",
    "        elif angle < 135.0:\n",
    "            return 2 #bottom\n",
    "        elif angle < 225.0:\n",
    "            return 3 #right\n",
    "        else:\n",
    "            return 4 #left\n",
    "        \n",
    "    else:\n",
    "        return -1\n",
    "    "
   ]
  },
  {
   "cell_type": "code",
   "execution_count": 4,
   "metadata": {
    "collapsed": false
   },
   "outputs": [],
   "source": [
    "tile_tracks = pickle.load(open('tile_tracks.pkl'))"
   ]
  },
  {
   "cell_type": "code",
   "execution_count": 5,
   "metadata": {
    "collapsed": false
   },
   "outputs": [],
   "source": [
    "collisions = {}\n",
    "(animation_at_time,animation_indices,groups) = pickle.load(open('animation_at_time.pkl','rb'))\n",
    "(tile_animation_at_time,tile_animation_indices,tile_groups) = pickle.load(open('tile_animation_at_time.pkl','rb'))\n",
    "ind2anim = {}\n",
    "for a in tile_animation_indices:\n",
    "    ind2anim[tile_animation_indices[a]] = a"
   ]
  },
  {
   "cell_type": "code",
   "execution_count": 32,
   "metadata": {
    "collapsed": false
   },
   "outputs": [
    {
     "name": "stdout",
     "output_type": "stream",
     "text": [
      "(19, 4)\n",
      "(20, 4)\n",
      "(21, 4)\n",
      "(19, 5)\n",
      "(20, 5)\n",
      "(21, 5)\n",
      "(19, 6)\n",
      "(21, 6)\n",
      "(20, 7)\n",
      "(21, 7)\n"
     ]
    }
   ],
   "source": [
    "track2group = {}\n",
    "for g in groups:\n",
    "    for t in groups[g]:\n",
    "        track2group[t] = g\n",
    "\n",
    "tile2group = {}   \n",
    "for g in tile_groups:\n",
    "    for t in tile_groups[g]:\n",
    "        tile2group[t] = g\n",
    "\n",
    "collisions = {}  \n",
    "start_time_out = 5\n",
    "for track_id,track in enumerate(all_tracks):\n",
    "    times = sorted(track[1])\n",
    "    for other_id,other in enumerate(all_tracks):\n",
    "        if track_id < other_id:\n",
    "            other_times = sorted(other[1])\n",
    "            track_collisions = {}\n",
    "            last_collision = -1\n",
    "            other_start = other_times[0]\n",
    "            for t in times[start_time_out:]:\n",
    "                \n",
    "                if t in other_times and t > other_start+start_time_out:\n",
    "                    blob1 = animation_at_time[track[0]][t]\n",
    "                    blob2 =  animation_at_time[other[0]][t]\n",
    "\n",
    "                    collision = -1\n",
    "                    sprite_box = track[1][t][1]\n",
    "                    other_box = other[1][t][1]\n",
    "                    collision =  overlaps(sprite_box,other_box)\n",
    "                    if collision >= 0:\n",
    "                        if t not in collisions:\n",
    "                            collisions[t] = []\n",
    "                        if True:#t-last_collision > 1:\n",
    "                            collisions[t].append((t,collision,blob1,blob2))\n",
    "                            collisions[t].append((t,collision,track2group[track[0]],track2group[other[0]]))\n",
    "                            track_collisions[t] = collision\n",
    "                        else:\n",
    "                            print 'skipped'\n",
    "                        last_collision  = t\n",
    "                \n",
    "\n",
    "import re\n",
    "for track_id,track in enumerate(tile_tracks[:]): \n",
    "    times = sorted(track[1])\n",
    "    match = re.match('tile(\\d+),(\\d+)',track[0])\n",
    "    y = int(match.group(1))\n",
    "    x = int(match.group(2))\n",
    "    location = (y,x)\n",
    "    for other_id,other in enumerate(all_tracks):\n",
    "        other_times = sorted(other[1])\n",
    "        track_collisions = {}\n",
    "        last_collision = -1\n",
    "        other_start = other_times[0]\n",
    "        for t in times[start_time_out:]:\n",
    "            \n",
    "            if t in other_times  and t > other_start+start_time_out and t in tile_animation_at_time[location]:\n",
    "                blob = ('tile', tile_animation_at_time[location][t])\n",
    "                collision = -1\n",
    "\n",
    "                blob2 =  animation_at_time[other[0]][t]\n",
    "\n",
    "                \n",
    "                bounding_box = track[1][t][1]\n",
    "                other_box = other[1][t][1]\n",
    "                collision =  overlaps(bounding_box,other_box)\n",
    "\n",
    "                if collision >= 0:\n",
    "                    if t == 9 and blob == ('tile',52):\n",
    "                        print location\n",
    "                    if t not in collisions:\n",
    "                        collisions[t] = []\n",
    "                    if True:#t-last_collision > 1:\n",
    "                        collisions[t].append((t,collision,blob,blob2))\n",
    "                        collisions[t].append((t,collision,('tilegroup',tile2group[location]),track2group[other[0]]))\n",
    "                        track_collisions[t] = collision\n",
    "                    last_collision  = t"
   ]
  },
  {
   "cell_type": "code",
   "execution_count": 67,
   "metadata": {
    "collapsed": false
   },
   "outputs": [],
   "source": [
    "tile_changes = pickle.load(open('tile_changes.pkl'))\n",
    "change_at_time = {}\n",
    "\n",
    "for change in tile_changes:\n",
    "    for t in tile_changes[change]:\n",
    "        if t not in change_at_time:\n",
    "            change_at_time[t] = set()\n",
    "        change_at_time[t].add(change)"
   ]
  },
  {
   "cell_type": "code",
   "execution_count": 68,
   "metadata": {
    "collapsed": false
   },
   "outputs": [],
   "source": [
    "\n",
    "events = {}\n",
    "counts = {}\n",
    "timesteps = 0.0\n",
    "cocounts = {}\n",
    "for t in collisions:\n",
    "    timesteps += 1.0\n",
    "    seen = set()\n",
    "    for coll in collisions[t]:\n",
    "        non_directional_coll = coll[2:]\n",
    "        for ii in range(0,3):\n",
    "            if non_directional_coll not in counts:\n",
    "                counts[non_directional_coll] = 0.\n",
    "            counts[non_directional_coll] += 1.\n",
    "            \n",
    "            if t in change_at_time:\n",
    "                for change in change_at_time[t]:\n",
    "                    if (change,non_directional_coll) in seen:\n",
    "                        break\n",
    "                        \n",
    "                    if change not in cocounts:\n",
    "                        cocounts[change] = {}\n",
    "                    if non_directional_coll not in cocounts[change]:\n",
    "                        cocounts[change][non_directional_coll] = 0.\n",
    "                    cocounts[change][non_directional_coll] += 1.\n",
    "                    seen.add((change,non_directional_coll))\n",
    "                        \n"
   ]
  },
  {
   "cell_type": "code",
   "execution_count": 65,
   "metadata": {
    "collapsed": false,
    "scrolled": false
   },
   "outputs": [],
   "source": [
    "for change in sorted(tile_changes):\n",
    "    print change,tile_changes[change]\n",
    "    print ind2anim[change[0]], '->', ind2anim[change[1]]\n",
    "    p1 = float(len(tile_changes[change]))/timesteps\n",
    "    for co in cocounts[change]:\n",
    "        p2 = counts[co]/timesteps\n",
    "        p12 = cocounts[change][co]/timesteps\n",
    "        pmi = np.log(p12/(p1*p2))\n",
    "        npmi = -pmi/np.log(p12)\n",
    "        if npmi > 0.6:\n",
    "            print cocounts[change][co]\n",
    "            print ind2anim[change[0]], '->', ind2anim[change[1]], co, npmi,p1,p2,p12,pmi,timesteps\n",
    "            \n",
    "    print ''"
   ]
  },
  {
   "cell_type": "code",
   "execution_count": 78,
   "metadata": {
    "collapsed": false,
    "scrolled": false
   },
   "outputs": [
    {
     "name": "stdout",
     "output_type": "stream",
     "text": [
      "{(5, 9): [497, 607, 1377], (22, 23): [708], (23, 24): [835], (7, 3): [1613], (5, 6): [122, 250, 677, 932, 1002, 1200], (10, 6): [722, 1301, 1436], (8, 9): [170], (13, 16): [993, 908], (11, 14): [220], (15, 19): [371], (3, 7): [804], (8, 5): [1175], (7, 8): [168, 1158], (6, 7): [161, 289, 1142, 1226, 1600], (18, 12): [652], (12, 13): [984, 181, 376, 907, 614], (9, 6): [171, 499, 609], (7, 6): [297, 396, 824, 1232, 1386], (6, 10): [342, 426, 529, 707, 1292, 1431], (19, 14): [324], (6, 3): [778], (10, 9): [367], (9, 7): [388, 1379], (6, 4): [241, 645, 896, 988, 1033, 1099, 1336, 1470, 1521], (10, 4): [543], (4, 5): [17, 244, 473, 547, 648, 901, 991, 1339], (3, 4): [9], (11, 12): [927, 98, 910, 319, 754, 545, 1363], (0, 1): [1566], (12, 15): [732, 1004, 908, 988, 396, 364, 620, 1468, 1452], (4, 6): [1035, 1107, 1475, 1526], (16, 13): [916, 628, 1460], (7, 4): [465], (14, 12): [764, 228, 332, 1356], (18, 11): [908], (17, 12): [908, 540, 652], (10, 7): [442], (15, 16): [734, 1009, 915, 992, 402, 627, 1472, 1457]}\n"
     ]
    }
   ],
   "source": [
    "sprite_changes = pickle.load(open('sprite_changes.pkl'))\n",
    "change_at_time = {}\n",
    "\n",
    "for change in sprite_changes:\n",
    "    for t in sprite_changes[change]:\n",
    "        if t not in change_at_time:\n",
    "            change_at_time[t] = set()\n",
    "        change_at_time[t].add(change)\n",
    "        \n",
    "print sprite_changes"
   ]
  },
  {
   "cell_type": "code",
   "execution_count": 79,
   "metadata": {
    "collapsed": false,
    "scrolled": true
   },
   "outputs": [],
   "source": [
    "\n",
    "events = {}\n",
    "counts = {}\n",
    "timesteps = 0.0\n",
    "cocounts = {}\n",
    "for t in collisions:\n",
    "    timesteps += 1.0\n",
    "    seen = set()\n",
    "    for coll in collisions[t]:\n",
    "        non_directional_coll = coll[2:]\n",
    "        for ii in range(0,3):\n",
    "            if non_directional_coll not in counts:\n",
    "                counts[non_directional_coll] = 0.\n",
    "            counts[non_directional_coll] += 1.\n",
    "            \n",
    "            if t in change_at_time:\n",
    "                for change in change_at_time[t]:\n",
    "                    if (change,non_directional_coll) in seen:\n",
    "                        break\n",
    "                        \n",
    "                    if change not in cocounts:\n",
    "                        cocounts[change] = {}\n",
    "                    if non_directional_coll not in cocounts[change]:\n",
    "                        cocounts[change][non_directional_coll] = 0.\n",
    "                    cocounts[change][non_directional_coll] += 1.\n",
    "                    seen.add((change,non_directional_coll))\n",
    "                        "
   ]
  },
  {
   "cell_type": "code",
   "execution_count": 82,
   "metadata": {
    "collapsed": false
   },
   "outputs": [
    {
     "name": "stdout",
     "output_type": "stream",
     "text": [
      "(0, 1) [1566]\n",
      "highest 0 ()\n",
      "\n",
      "(3, 4) [9]\n",
      "highest 0.374824704375 ((3, 4), (('tile', 34), 4), 0.3748247043746758, 0.0005847953216374269, 0.06140350877192982, 0.0005847953216374269, 2.7902882993391822, 1710.0)\n",
      "\n",
      "(3, 7) [804]\n",
      "highest 0.44999895154 ((3, 7), (('tile', 32), 5), 0.4499989515397349, 0.0005847953216374269, 0.03508771929824561, 0.0005847953216374269, 3.3499040872746049, 1710.0)\n",
      "\n",
      "(4, 5) [17, 244, 473, 547, 648, 901, 991, 1339]\n",
      "highest 0.38686247513 ((4, 5), (('tile', 9), 4), 0.38686247513018995, 0.004678362573099415, 0.007017543859649123, 0.0005847953216374269, 2.8799004580288692, 1710.0)\n",
      "\n",
      "(4, 6) [1035, 1107, 1475, 1526]\n",
      "highest 0.174064625537 ((4, 6), (('tile', 0), 5), 0.17406462553701302, 0.0023391812865497076, 0.06842105263157895, 0.0005847953216374269, 1.2957803535790589, 1710.0)\n",
      "\n",
      "(5, 6) [122, 250, 677, 932, 1002, 1200]\n",
      "highest 0.277928685516 ((5, 6), (('tile', 12), 4), 0.27792868551649202, 0.0035087719298245615, 0.021052631578947368, 0.0005847953216374269, 2.0689702418125404, 1710.0)\n",
      "\n",
      "(5, 9) [497, 607, 1377]\n",
      "highest 0.425507352001 ((5, 9), (('tile', 37), 10), 0.42550735200050122, 0.0017543859649122807, 0.014035087719298246, 0.0005847953216374269, 3.1675825304806504, 1710.0)\n",
      "\n",
      "(6, 3) [778]\n",
      "highest 0.414755063698 ((6, 3), (('tile', 32), 3), 0.41475506369818232, 0.0005847953216374269, 0.0456140350877193, 0.0005847953216374269, 3.0875398228071136, 1710.0)\n",
      "\n",
      "(6, 4) [241, 645, 896, 988, 1033, 1099, 1336, 1470, 1521]\n",
      "highest 0.326243301863 ((6, 4), (('tile', 6), 5), 0.32624330186284967, 0.005263157894736842, 0.02456140350877193, 0.0011695906432748538, 2.2025016344370631, 1710.0)\n",
      "\n",
      "(6, 7) [161, 289, 1142, 1226, 1600]\n",
      "highest 0.395532056733 ((6, 7), (('tile', 32), 4), 0.39553205673288594, 0.0029239766081871343, 0.010526315789473684, 0.0005847953216374269, 2.9444389791664403, 1710.0)\n",
      "\n",
      "(6, 10) [342, 426, 529, 707, 1292, 1431]\n",
      "highest 0.350333104835 ((6, 10), (('tile', 12), 5), 0.35033310483544206, 0.0035087719298245615, 0.012280701754385965, 0.0005847953216374269, 2.6079667425452273, 1710.0)\n",
      "\n",
      "(7, 3) [1613]\n",
      "highest 0.22982942311 ((7, 3), (('tile', 0), 3), 0.22982942310969584, 0.0005847953216374269, 0.18070175438596492, 0.0005847953216374269, 1.7109073725989601, 1710.0)\n",
      "\n",
      "(7, 4) [465]\n",
      "highest 0.00651872918 ((7, 4), (('tile', 11), 7), 0.0065187291800014547, 0.0005847953216374269, 0.9526315789473684, 0.0005847953216374269, 0.048527040894660596, 1710.0)\n",
      "\n",
      "(7, 6) [297, 396, 824, 1232, 1386]\n",
      "highest 0.144089330269 ((7, 6), (('tile', 14), 13), 0.14408933026939777, 0.0029239766081871343, 0.06842105263157895, 0.0005847953216374269, 1.0726368022648491, 1710.0)\n",
      "\n",
      "(7, 8) [168, 1158]\n",
      "highest 0.464152228871 ((7, 8), (('tile', 4), 4), 0.46415222887081242, 0.0011695906432748538, 0.015789473684210527, 0.0005847953216374269, 3.4552646029324312, 1710.0)\n",
      "\n",
      "(8, 5) [1175]\n",
      "highest 0.431224465496 ((8, 5), (('tile', 48), 5), 0.43122446549612214, 0.0005847953216374269, 0.04035087719298246, 0.0005847953216374269, 3.210142144899446, 1710.0)\n",
      "\n",
      "(8, 9) [170]\n",
      "highest 0.371040457194 ((8, 9), (('tile', 33), 4), 0.37104045719365225, 0.0005847953216374269, 0.06315789473684211, 0.0005847953216374269, 2.7621174223724858, 1710.0)\n",
      "\n",
      "(9, 6) [171, 499, 609]\n",
      "highest 0.425507352001 ((9, 6), (('tile', 37), 10), 0.42550735200050122, 0.0017543859649122807, 0.014035087719298246, 0.0005847953216374269, 3.1675825304806504, 1710.0)\n",
      "\n",
      "(9, 7) [388, 1379]\n",
      "highest 0.267176397214 ((9, 7), (('tile', 14), 13), 0.26717639721417319, 0.0011695906432748538, 0.06842105263157895, 0.0005847953216374269, 1.988927534139004, 1710.0)\n",
      "\n",
      "(10, 4) [543]\n",
      "highest 0.557264000548 ((10, 4), (('tile', 18), 9), 0.55726400054797254, 0.0005847953216374269, 0.015789473684210527, 0.0005847953216374269, 4.1484117834923762, 1710.0)\n",
      "\n",
      "(10, 6) [722, 1301, 1436]\n",
      "highest 0.386302406288 ((10, 6), (('tile', 25), 5), 0.38630240628807488, 0.0017543859649122807, 0.04912280701754386, 0.0011695906432748538, 2.6079667425452273, 1710.0)\n",
      "\n",
      "(10, 7) [442]\n",
      "highest 0.543110723217 ((10, 7), (('tile', 6), 7), 0.54311072321689513, 0.0005847953216374269, 0.017543859649122806, 0.0005847953216374269, 4.0430512678345503, 1710.0)\n",
      "\n",
      "(10, 9) [367]\n",
      "highest 0.591023542997 ((10, 9), (('tile', 12), 6), 0.59102354299661142, 0.0005847953216374269, 0.012280701754385965, 0.0005847953216374269, 4.3997262117732827, 1710.0)\n",
      "\n",
      "(11, 12) [927, 98, 910, 319, 754, 545, 1363]\n",
      "highest 0.295866210029 ((11, 12), (('tile', 18), 9), 0.29586621002859315, 0.004093567251461989, 0.015789473684210527, 0.0005847953216374269, 2.2025016344370631, 1710.0)\n",
      "\n",
      "(11, 14) [220]\n",
      "highest 0 ()\n",
      "\n",
      "(12, 13) [984, 181, 376, 907, 614]\n",
      "highest 0.374824704375 ((12, 13), (15, 6), 0.3748247043746758, 0.0029239766081871343, 0.012280701754385965, 0.0005847953216374269, 2.7902882993391822, 1710.0)\n",
      "\n",
      "(12, 15) [732, 1004, 908, 988, 396, 364, 620, 1468, 1452]\n",
      "highest 0.464152228871 ((12, 15), (('tile', 50), 6), 0.46415222887081242, 0.005263157894736842, 0.0035087719298245615, 0.0005847953216374269, 3.4552646029324312, 1710.0)\n",
      "\n",
      "(13, 16) [993, 908]\n",
      "highest 0.404799999642 ((13, 16), (('tile', 36), 10), 0.40479999964229108, 0.0011695906432748538, 0.02456140350877193, 0.0005847953216374269, 3.0134318506533919, 1710.0)\n",
      "\n",
      "(14, 12) [764, 228, 332, 1356]\n",
      "highest 0.311688227965 ((14, 12), (('tile', 34), 8), 0.31168822796513085, 0.0023391812865497076, 0.02456140350877193, 0.0005847953216374269, 2.3202846700934465, 1710.0)\n",
      "\n",
      "(15, 16) [734, 1009, 915, 992, 402, 627, 1472, 1457]\n",
      "highest 0.38686247513 ((15, 16), (9, 10), 0.38686247513018995, 0.004678362573099415, 0.007017543859649123, 0.0005847953216374269, 2.8799004580288692, 1710.0)\n",
      "\n",
      "(15, 19) [371]\n",
      "highest 0.497911771319 ((15, 19), (('tile', 34), 6), 0.49791177131945125, 0.0005847953216374269, 0.02456140350877193, 0.0005847953216374269, 3.7065790312133373, 1710.0)\n",
      "\n",
      "(16, 13) [916, 628, 1460]\n",
      "highest 0.22346179071 ((16, 13), (('tile', 29), 10), 0.22346179070964309, 0.0017543859649122807, 0.06315789473684211, 0.0005847953216374269, 1.663505133704376, 1710.0)\n",
      "\n",
      "(17, 12) [908, 540, 652]\n",
      "highest 0.464152228871 ((17, 12), (('tile', 15), 9), 0.46415222887081242, 0.0017543859649122807, 0.010526315789473684, 0.0005847953216374269, 3.4552646029324312, 1710.0)\n",
      "\n",
      "(18, 11) [908]\n",
      "highest 0.497911771319 ((18, 11), (('tile', 36), 10), 0.49791177131945125, 0.0005847953216374269, 0.02456140350877193, 0.0005847953216374269, 3.7065790312133373, 1710.0)\n",
      "\n",
      "(18, 12) [652]\n",
      "highest 0.324251760219 ((18, 12), (('tile', 34), 9), 0.32425176021860369, 0.0005847953216374269, 0.08947368421052632, 0.0005847953216374269, 2.41381072810427, 1710.0)\n",
      "\n",
      "(19, 14) [324]\n",
      "highest 0.208193719501 ((19, 14), (('tile', 29), 9), 0.20819371950138144, 0.0005847953216374269, 0.21228070175438596, 0.0005847953216374269, 1.5498458152318546, 1710.0)\n",
      "\n",
      "(22, 23) [708]\n",
      "highest 0.134775469776 ((22, 23), (('tile', 14), 17), 0.13477546977580024, 0.0005847953216374269, 0.36666666666666664, 0.0005847953216374269, 1.003302108863785, 1710.0)\n",
      "\n",
      "(23, 24) [835]\n",
      "0.636222494894 ((23, 24), (('tilegroup', (7, 259)), 'track1'), 0.63622249489405536, 0.0005847953216374269, 0.008771929824561403, 0.0005847953216374269, 4.7361984483944957, 1710.0)\n",
      "0.636222494894 ((23, 24), (('tile', 1), 5), 0.63622249489405536, 0.0005847953216374269, 0.008771929824561403, 0.0005847953216374269, 4.7361984483944957, 1710.0)\n",
      "highest 0.636222494894 ((23, 24), (('tilegroup', (7, 259)), 'track1'), 0.63622249489405536, 0.0005847953216374269, 0.008771929824561403, 0.0005847953216374269, 4.7361984483944957, 1710.0)\n",
      "\n"
     ]
    }
   ],
   "source": [
    "for change in sorted(sprite_changes):\n",
    "    print change,sprite_changes[change]\n",
    "    p1 = float(len(sprite_changes[change]))/timesteps\n",
    "    highest = 0\n",
    "    best = ()\n",
    "    for co in cocounts[change]:\n",
    "        p2 = counts[co]/timesteps\n",
    "        p12 = cocounts[change][co]/timesteps\n",
    "        pmi = np.log(p12/(p1*p2))\n",
    "        npmi = -pmi/np.log(p12)\n",
    "        if npmi > highest:\n",
    "            highest = npmi\n",
    "            best = (change,co, npmi,p1,p2,p12,pmi,timesteps)\n",
    "        if npmi > 0.6:\n",
    "            print npmi,(change,co, npmi,p1,p2,p12,pmi,timesteps)\n",
    "    print 'highest', highest,best\n",
    "    print ''"
   ]
  },
  {
   "cell_type": "code",
   "execution_count": null,
   "metadata": {
    "collapsed": false
   },
   "outputs": [],
   "source": [
    "print all_tracks[2][1][174]"
   ]
  },
  {
   "cell_type": "code",
   "execution_count": null,
   "metadata": {
    "collapsed": true
   },
   "outputs": [],
   "source": []
  }
 ],
 "metadata": {
  "kernelspec": {
   "display_name": "Python 2",
   "language": "python",
   "name": "python2"
  },
  "language_info": {
   "codemirror_mode": {
    "name": "ipython",
    "version": 2
   },
   "file_extension": ".py",
   "mimetype": "text/x-python",
   "name": "python",
   "nbconvert_exporter": "python",
   "pygments_lexer": "ipython2",
   "version": "2.7.12"
  }
 },
 "nbformat": 4,
 "nbformat_minor": 1
}
